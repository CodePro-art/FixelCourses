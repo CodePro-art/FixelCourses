{
 "cells": [
  {
   "cell_type": "markdown",
   "metadata": {},
   "source": [
    "![Fixel Algorithms](https://fixelalgorithms.co/images/CCExt.png)"
   ]
  },
  {
   "attachments": {},
   "cell_type": "markdown",
   "metadata": {},
   "source": [
    "# <center> Machine Learning Methods </center>\n",
    "## <center> Lecture 7 - Parametric Estimation</center>\n",
    "### <center> Maximum A Posteriori</center>"
   ]
  },
  {
   "cell_type": "markdown",
   "metadata": {},
   "source": [
    "[![Open In Colab](https://colab.research.google.com/assets/colab-badge.svg)](https://colab.research.google.com/github/FixelAlgorithmsTeam/FixelCourses/blob/master/MachineLearningMethod/07_ParametricEstimation/MainGaussianMAP.ipynb)"
   ]
  },
  {
   "cell_type": "code",
   "execution_count": 1,
   "metadata": {},
   "outputs": [],
   "source": [
    "import numpy             as np\n",
    "import matplotlib.pyplot as plt\n",
    "import matplotlib\n",
    "\n",
    "\n",
    "matplotlib.rc('font', **{'size' : 16})\n",
    "# np.random.seed(1)"
   ]
  },
  {
   "cell_type": "markdown",
   "metadata": {},
   "source": [
    "#### Generate some data from:\n",
    "$$\\mu\\sim\\mathcal{N}\\left(10,\\sigma_{\\mu}^{2}\\right)$$\n",
    "$$X|\\mu\\sim\\mathcal{N}\\left(\\mu,\\sigma_{x}^{2}\\right)$$"
   ]
  },
  {
   "cell_type": "code",
   "execution_count": 2,
   "metadata": {},
   "outputs": [],
   "source": [
    "N  = 1000\n",
    "µ0 = 9\n",
    "vZ = np.random.randn(N) + µ0"
   ]
  },
  {
   "cell_type": "markdown",
   "metadata": {},
   "source": [
    "#### Plot estimation function:"
   ]
  },
  {
   "cell_type": "code",
   "execution_count": 3,
   "metadata": {},
   "outputs": [],
   "source": [
    "from scipy.stats import norm\n",
    "\n",
    "def PlotEstimation(ß=1, N=100):\n",
    "    \n",
    "    if ß <= 0:\n",
    "        ß = 0.0001\n",
    "    if N == 0:\n",
    "        N = 1\n",
    "    \n",
    "    vX      = vZ[:N]\n",
    "    meanX   = np.mean(vX)\n",
    "    vRange  = [5, 13]\n",
    "    vMu     = np.linspace(vRange[0], vRange[1], 1001)\n",
    "    vBins   = np.linspace(vRange[0], vRange[1], max(int(np.sqrt(N)), 5))\n",
    "    vPdf    = norm.pdf(vMu, 10, np.sqrt(1/ß))\n",
    "    vPdf   /= np.max(vPdf)\n",
    "    \n",
    "    µMAP    = (10 * ß + N * meanX) / (ß + N)\n",
    "    \n",
    "    plt.figure(figsize=(16, 8))\n",
    "    plt.hist(vX, bins=vBins, facecolor='blue', alpha=0.5, edgecolor='k', label='$x_i$')\n",
    "    plt.axvline(x=meanX, linewidth=3, color='b', linestyle='--',         label='$\\overline{x}$')\n",
    "    plt.axvline(x=µMAP,  linewidth=3, color='r', linestyle='-',           label='$\\hat{\\mu}_{\\mathrm{MAP}}$')\n",
    "    vYlim = plt.ylim()\n",
    "    plt.plot(vMu, vPdf * vYlim[1],    color='g', linewidth=3,            label=r'$f_{\\mu}\\left(\\mu\\right)$')\n",
    "    plt.legend()\n",
    "    plt.title(r'$\\beta = ' + str(ß) + '$')"
   ]
  },
  {
   "cell_type": "markdown",
   "metadata": {},
   "source": [
    "#### MAP estimator:\n",
    "$$\\boxed{\\hat{\\mu}_{\\mathrm{MAP}}=\\frac{10\\beta+N\\overline{x}}{\\beta+N}},\\qquad\\overline{x}=\\frac{1}{N}\\sum_{i=1}^{N}x_{i}, \\qquad\\beta:=\\frac{\\sigma_{x}^{2}}{\\sigma_{\\mu}^{2}}$$\n",
    "$\\beta\\to0$: ignore prior  \n",
    "$\\beta\\to\\infty$: ignore observations "
   ]
  },
  {
   "cell_type": "code",
   "execution_count": 4,
   "metadata": {},
   "outputs": [
    {
     "data": {
      "application/vnd.jupyter.widget-view+json": {
       "model_id": "7ca8f4709c864de4852d21af36af570a",
       "version_major": 2,
       "version_minor": 0
      },
      "text/plain": [
       "interactive(children=(FloatSlider(value=0.0, description='ß', layout=Layout(width='80%'), max=1000.0, step=10.…"
      ]
     },
     "metadata": {},
     "output_type": "display_data"
    }
   ],
   "source": [
    "from ipywidgets import interact, FloatSlider, IntSlider, Layout\n",
    "\n",
    "ßSlider = FloatSlider(min=0, max=1000, step=10, value=0,   layout=Layout(width='80%'))\n",
    "nSlider = IntSlider  (min=0, max=1000, step=50, value=250, layout=Layout(width='80%'))\n",
    "interact(PlotEstimation, ß=ßSlider, N=nSlider)\n",
    "plt.show()"
   ]
  },
  {
   "cell_type": "code",
   "execution_count": null,
   "metadata": {},
   "outputs": [],
   "source": []
  }
 ],
 "metadata": {
  "kernelspec": {
   "display_name": "Python 3",
   "language": "python",
   "name": "python3"
  },
  "language_info": {
   "codemirror_mode": {
    "name": "ipython",
    "version": 3
   },
   "file_extension": ".py",
   "mimetype": "text/x-python",
   "name": "python",
   "nbconvert_exporter": "python",
   "pygments_lexer": "ipython3",
   "version": "3.7.6"
  },
  "toc": {
   "base_numbering": 1,
   "nav_menu": {},
   "number_sections": false,
   "sideBar": true,
   "skip_h1_title": false,
   "title_cell": "Table of Contents",
   "title_sidebar": "Contents",
   "toc_cell": false,
   "toc_position": {},
   "toc_section_display": true,
   "toc_window_display": false
  },
  "varInspector": {
   "cols": {
    "lenName": 16,
    "lenType": 16,
    "lenVar": 40
   },
   "kernels_config": {
    "python": {
     "delete_cmd_postfix": "",
     "delete_cmd_prefix": "del ",
     "library": "var_list.py",
     "varRefreshCmd": "print(var_dic_list())"
    },
    "r": {
     "delete_cmd_postfix": ") ",
     "delete_cmd_prefix": "rm(",
     "library": "var_list.r",
     "varRefreshCmd": "cat(var_dic_list()) "
    }
   },
   "types_to_exclude": [
    "module",
    "function",
    "builtin_function_or_method",
    "instance",
    "_Feature"
   ],
   "window_display": false
  }
 },
 "nbformat": 4,
 "nbformat_minor": 4
}
