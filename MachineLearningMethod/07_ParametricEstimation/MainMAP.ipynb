{
 "cells": [
  {
   "cell_type": "markdown",
   "metadata": {},
   "source": [
    "![Fixel Algorithms](https://fixelalgorithms.co/images/CCExt.png)"
   ]
  },
  {
   "cell_type": "markdown",
   "metadata": {},
   "source": [
    "# <center> Machine Learning Methods </center>\n",
    "## <center> Lecture 7 - Parametric Estimation</center>\n",
    "### <center> Maximum A Posteriori</center>"
   ]
  },
  {
   "cell_type": "markdown",
   "metadata": {},
   "source": [
    "[![Open In Colab](https://colab.research.google.com/assets/colab-badge.svg)](https://colab.research.google.com/github/FixelAlgorithmsTeam/FixelCourses/blob/master/MachineLearningMethod/07_ParametricEstimation/MainMAP.ipynb)"
   ]
  },
  {
   "cell_type": "code",
   "execution_count": 5,
   "metadata": {},
   "outputs": [],
   "source": [
    "import numpy             as np\n",
    "import matplotlib.pyplot as plt\n",
    "import matplotlib\n",
    "\n",
    "\n",
    "matplotlib.rc('font', **{'size' : 16})\n",
    "# np.random.seed(1)"
   ]
  },
  {
   "cell_type": "markdown",
   "metadata": {},
   "source": [
    "#### Generate some data from:\n",
    "$$\\mu\\sim\\mathcal{N}\\left(10,\\sigma_{\\mu}^{2}\\right)$$\n",
    "$$X|\\mu\\sim\\mathcal{N}\\left(\\mu,\\sigma_{x}^{2}\\right)$$"
   ]
  },
  {
   "cell_type": "code",
   "execution_count": 6,
   "metadata": {},
   "outputs": [],
   "source": [
    "N  = 1000\n",
    "µ0 = 9\n",
    "vZ = np.random.randn(N) + µ0"
   ]
  },
  {
   "cell_type": "markdown",
   "metadata": {},
   "source": [
    "#### Plot estimation function:"
   ]
  },
  {
   "cell_type": "code",
   "execution_count": 10,
   "metadata": {},
   "outputs": [],
   "source": [
    "from scipy.stats import norm\n",
    "\n",
    "def PlotEstimation(ß=1, N=100):\n",
    "    \n",
    "    if ß <= 0:\n",
    "        ß = 0.0001\n",
    "    if N == 0:\n",
    "        N = 1\n",
    "    \n",
    "    vX      = vZ[:N]\n",
    "    meanX   = np.mean(vX)\n",
    "    vRange  = [5, 13]\n",
    "    vMu     = np.linspace(vRange[0], vRange[1], 1001)\n",
    "    vBins   = np.linspace(vRange[0], vRange[1], max(int(np.sqrt(N)), 5))\n",
    "    vPdf    = norm.pdf(vMu, 10, np.sqrt(1/ß))\n",
    "    vPdf   /= np.max(vPdf)\n",
    "    \n",
    "    µMAP    = (10 * ß + N * meanX) / (ß + N)\n",
    "    \n",
    "    plt.figure(figsize=(16, 8))\n",
    "    plt.hist(vX, bins=vBins, facecolor='blue', alpha=0.5, edgecolor='k', label='$x_i$')\n",
    "    plt.axvline(x=µMAP,  linewidth=3, color='r', linestyle='-',          label='$\\hat{\\mu}_{\\mathrm{MAP}}$')\n",
    "    plt.axvline(x=meanX, linewidth=3, color='b', linestyle='--',         label='$\\overline{x}$')\n",
    "    \n",
    "    vYlim = plt.ylim()\n",
    "    plt.plot(vMu, vPdf * vYlim[1],    color='g', linewidth=3,            label=r'$f_{\\mu}\\left(\\mu\\right)$')\n",
    "    plt.legend()\n",
    "    plt.title(r'$\\beta = ' + str(ß) + '$')"
   ]
  },
  {
   "cell_type": "markdown",
   "metadata": {},
   "source": [
    "#### MAP estimator:\n",
    "$$\\boxed{\\hat{\\mu}_{\\mathrm{MAP}}=\\frac{10\\beta+N\\overline{x}}{\\beta+N}},\\qquad\\overline{x}=\\frac{1}{N}\\sum_{i=1}^{N}x_{i}, \\qquad\\beta:=\\frac{\\sigma_{x}^{2}}{\\sigma_{\\mu}^{2}}$$\n",
    "$\\beta\\to0$: ignore prior  \n",
    "$\\beta\\to\\infty$: ignore observations "
   ]
  },
  {
   "cell_type": "code",
   "execution_count": 11,
   "metadata": {},
   "outputs": [
    {
     "data": {
      "application/vnd.jupyter.widget-view+json": {
       "model_id": "1c20fa9afca14926ae625653b297dd8e",
       "version_major": 2,
       "version_minor": 0
      },
      "text/plain": [
       "interactive(children=(FloatSlider(value=0.0, description='ß', layout=Layout(width='80%'), max=1000.0, step=10.…"
      ]
     },
     "metadata": {},
     "output_type": "display_data"
    }
   ],
   "source": [
    "from ipywidgets import interact, FloatSlider, IntSlider, Layout\n",
    "\n",
    "ßSlider = FloatSlider(min=0, max=1000, step=10, value=0,   layout=Layout(width='80%'))\n",
    "nSlider = IntSlider  (min=0, max=1000, step=25, value=100, layout=Layout(width='80%'))\n",
    "interact(PlotEstimation, ß=ßSlider, N=nSlider)\n",
    "plt.show()"
   ]
  },
  {
   "cell_type": "markdown",
   "metadata": {},
   "source": [
    "### (Advanced) Exercise\n",
    "Consider the following model:\n",
    "$$y_{t}=x_{t}+n_{t}$$\n",
    "where $x$ is the signal of interest and $n$ is Gaussian noise:\n",
    "$$n_{t}\\sim\\mathcal{N}\\left(0,\\sigma_{n}^{2}\\right)$$\n",
    "In vector form we write:\n",
    "$$\\boldsymbol{y}=\\boldsymbol{x}+\\boldsymbol{n}\\in\\mathbb{R}^{N}$$\n"
   ]
  },
  {
   "cell_type": "code",
   "execution_count": 12,
   "metadata": {},
   "outputs": [
    {
     "data": {
      "image/png": "[encoded data removed]",
      "text/plain": [
       "<Figure size 576x288 with 1 Axes>"
      ]
     },
     "metadata": {
      "needs_background": "light"
     },
     "output_type": "display_data"
    }
   ],
   "source": [
    "vX = np.r_[np.zeros(50), np.ones(50), 1/3 * np.ones(50)]\n",
    "N  = len(vX)\n",
    "vY = vX + np.random.randn(N) / 10\n",
    "\n",
    "plt.figure(figsize=(8,4)); plt.grid(True)\n",
    "plt.plot(vY, c='b', lw=2, label='$y_t$')\n",
    "plt.legend()\n",
    "plt.xlabel('$t$')\n",
    "plt.show()"
   ]
  },
  {
   "cell_type": "markdown",
   "metadata": {},
   "source": [
    "From the figure we assume $x$ is piece-wise constant.\n",
    "* The goal is to estimate $x$ from $y$.\n",
    "* To obtained a piece-wise constant vector, we can use the following prior:\n",
    "$$f_{x}\\left(\\boldsymbol{x}\\right)=C\\cdot\\exp\\left(-\\frac{\\left\\Vert \\boldsymbol{D}\\boldsymbol{x}\\right\\Vert _{1}}{\\sigma_{x}^{2}}\\right)$$\n",
    "where $\\boldsymbol{D}$ is the discrete derivative matrix:\n",
    "$$\\boldsymbol{D}=\\left[\\begin{matrix}-1 & 1\\\\\n",
    " & -1 & 1\\\\\n",
    " &  & \\ddots & \\ddots\\\\\n",
    " &  &  & -1 & 1\n",
    "\\end{matrix}\\right]\\in\\mathbb{R}^{N-1\\times N},\\qquad\\qquad\\underbrace{\\left[\\begin{matrix}-1 & 1\\\\\n",
    " & -1 & 1\\\\\n",
    " &  & \\ddots & \\ddots\\\\\n",
    " &  &  & -1 & 1\n",
    "\\end{matrix}\\right]}_{=\\boldsymbol{D}}\\left[\\begin{matrix}x_{1}\\\\\n",
    "x_{2}\\\\\n",
    "\\vdots\\\\\n",
    "x_{N}\n",
    "\\end{matrix}\\right]=\\left[\\begin{matrix}x_{2}-x_{1}\\\\\n",
    "x_{3}-x_{2}\\\\\n",
    "\\vdots\\\\\n",
    "x_{N}-x_{N-1}\n",
    "\\end{matrix}\\right]$$"
   ]
  },
  {
   "cell_type": "markdown",
   "metadata": {},
   "source": [
    "### Questions\n",
    "* The MAP estimator is given by:\n",
    "$$\\hat{\\boldsymbol{x}}_{\\text{MAP}}=\\arg\\max_{\\boldsymbol{x}}f_{y|x}\\left(\\boldsymbol{y}|\\boldsymbol{x}\\right)f_{x}\\left(\\boldsymbol{x}\\right)$$\n",
    "Explain why we can write:\n",
    "$$\\hat{\\boldsymbol{x}}_{\\text{MAP}}=\\arg\\max_{\\boldsymbol{x}}\\log\\left(f_{y|x}\\left(\\boldsymbol{y}|\\boldsymbol{x}\\right)\\right)+\\log\\left(f_{x}\\left(\\boldsymbol{x}\\right)\\right)$$"
   ]
  },
  {
   "cell_type": "markdown",
   "metadata": {},
   "source": [
    "* The noise is Gaussian:\n",
    "$$\\boldsymbol{n}\\sim\\mathcal{N}\\left(\\boldsymbol{0},\\sigma_{n}^{2}\\boldsymbol{I}\\right)$$\n",
    "Explain why:\n",
    "$$\\boldsymbol{y}|\\boldsymbol{x}\\sim\\mathcal{N}\\left(\\boldsymbol{x},\\sigma_{n}^{2}\\boldsymbol{I}\\right)$$"
   ]
  },
  {
   "cell_type": "markdown",
   "metadata": {},
   "source": [
    "* From the bullet above we have:\n",
    "$$f_{y|x}\\left(\\boldsymbol{y}|\\boldsymbol{x}\\right)=\\tilde{C}\\exp\\left(-\\frac{\\left\\Vert \\boldsymbol{y}-\\boldsymbol{x}\\right\\Vert _{2}^{2}}{2\\sigma_{n}^{2}}\\right)$$\n",
    "Show that\n",
    "1.\n",
    "$$\\log\\left(f_{x}\\left(\\boldsymbol{x}\\right)\\right)=\\log\\left(C\\right)-\\frac{\\left\\Vert \\boldsymbol{D}\\boldsymbol{x}\\right\\Vert }{\\sigma_{x}^{2}}$$\n",
    "2.\n",
    "$$\\log\\left(f_{y|x}\\left(\\boldsymbol{y}|\\boldsymbol{x}\\right)\\right)=\\log\\left(\\tilde{C}\\right)-\\frac{\\left\\Vert \\boldsymbol{y}-\\boldsymbol{x}\\right\\Vert _{2}^{2}}{2\\sigma_{n}^{2}}$$"
   ]
  },
  {
   "cell_type": "markdown",
   "metadata": {},
   "source": [
    "* Conclude that:\n",
    "$$\\implies\\boxed{\\hat{\\boldsymbol{x}}_{\\text{MAP}}=\\arg\\min_{\\boldsymbol{x}}\\left\\Vert \\boldsymbol{y}-\\boldsymbol{x}\\right\\Vert _{2}^{2}+\\beta\\left\\Vert \\boldsymbol{D}\\boldsymbol{x}\\right\\Vert _{1}}$$\n",
    "Write the correct expression of $\\beta$"
   ]
  },
  {
   "cell_type": "markdown",
   "metadata": {},
   "source": [
    "* Use `scipy.optimize.minimize` to solve the optimization problem.\n",
    "* Hint 1: Use `np.diff` to compute $\\boldsymbol{D}\\boldsymbol{x}$.\n",
    "* Hint 2: Use `np.linalg.norm` to compute the $L^1$ and $L^2$ norms.\n",
    "* play with the values of $\\beta$, check what happens in the extreme cases.\n",
    "* What happens when you change the $L^1$ norm to $L^2$ norm. "
   ]
  },
  {
   "cell_type": "code",
   "execution_count": 13,
   "metadata": {},
   "outputs": [],
   "source": [
    "from scipy.optimize import minimize\n",
    "from numpy.linalg   import norm\n",
    "\n",
    "def Dx(vX):\n",
    "    return np.diff(vX)\n",
    "\n",
    "def f(vX, vY, ß):\n",
    "    return norm(vY - vX)**2 + ß * norm(Dx(vX), ord=1)\n",
    "\n",
    "ß     = 2\n",
    "oSol  = minimize(lambda vX: f(vX, vY, ß), vY)\n",
    "vHatX = oSol.x"
   ]
  },
  {
   "cell_type": "code",
   "execution_count": 14,
   "metadata": {},
   "outputs": [
    {
     "data": {
      "image/png": "[encoded data removed]",
      "text/plain": [
       "<Figure size 576x288 with 1 Axes>"
      ]
     },
     "metadata": {
      "needs_background": "light"
     },
     "output_type": "display_data"
    }
   ],
   "source": [
    "plt.figure(figsize=(8,4)); plt.grid(True)\n",
    "plt.plot(vY,    c='b', lw=2, label='$y_t$')\n",
    "plt.plot(vHatX, c='r', lw=2, label='$\\hat{x}_t$')\n",
    "plt.legend()\n",
    "plt.xlabel('$t$')\n",
    "plt.show()"
   ]
  },
  {
   "cell_type": "code",
   "execution_count": null,
   "metadata": {},
   "outputs": [],
   "source": []
  }
 ],
 "metadata": {
  "kernelspec": {
   "display_name": "Python 3",
   "language": "python",
   "name": "python3"
  },
  "language_info": {
   "codemirror_mode": {
    "name": "ipython",
    "version": 3
   },
   "file_extension": ".py",
   "mimetype": "text/x-python",
   "name": "python",
   "nbconvert_exporter": "python",
   "pygments_lexer": "ipython3",
   "version": "3.8.5"
  },
  "toc": {
   "base_numbering": 1,
   "nav_menu": {},
   "number_sections": false,
   "sideBar": true,
   "skip_h1_title": false,
   "title_cell": "Table of Contents",
   "title_sidebar": "Contents",
   "toc_cell": false,
   "toc_position": {},
   "toc_section_display": true,
   "toc_window_display": false
  },
  "varInspector": {
   "cols": {
    "lenName": 16,
    "lenType": 16,
    "lenVar": 40
   },
   "kernels_config": {
    "python": {
     "delete_cmd_postfix": "",
     "delete_cmd_prefix": "del ",
     "library": "var_list.py",
     "varRefreshCmd": "print(var_dic_list())"
    },
    "r": {
     "delete_cmd_postfix": ") ",
     "delete_cmd_prefix": "rm(",
     "library": "var_list.r",
     "varRefreshCmd": "cat(var_dic_list()) "
    }
   },
   "types_to_exclude": [
    "module",
    "function",
    "builtin_function_or_method",
    "instance",
    "_Feature"
   ],
   "window_display": false
  }
 },
 "nbformat": 4,
 "nbformat_minor": 4
}
