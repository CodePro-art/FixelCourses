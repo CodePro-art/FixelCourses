{
 "cells": [
  {
   "cell_type": "markdown",
   "metadata": {},
   "source": [
    "![Fixel Algorithms](https://fixelalgorithms.co/images/CCExt.png)"
   ]
  },
  {
   "cell_type": "markdown",
   "metadata": {},
   "source": [
    "# <center> Machine Learning Methods </center>\n",
    "## <center> Lecture 8 - Nonparametric Estimation</center>\n",
    "### <center> Empirical CDF, Histogram, and KDE</center>"
   ]
  },
  {
   "cell_type": "markdown",
   "metadata": {},
   "source": [
    "[![Open In Colab](https://colab.research.google.com/assets/colab-badge.svg)](https://colab.research.google.com/github/FixelAlgorithmsTeam/FixelCourses/blob/master/MachineLearningMethod/08_NonParametricEstimation/MainNonParametricEstimation.ipynb)"
   ]
  },
  {
   "cell_type": "code",
   "execution_count": 1,
   "metadata": {},
   "outputs": [],
   "source": [
    "import numpy             as np\n",
    "import matplotlib.pyplot as plt\n",
    "import matplotlib\n",
    "\n",
    "matplotlib.rc('font', **{'size' : 16})\n",
    "# np.random.seed(1)"
   ]
  },
  {
   "cell_type": "markdown",
   "metadata": {},
   "source": [
    "### Generate some data from:\n",
    "(GMM Model)"
   ]
  },
  {
   "cell_type": "code",
   "execution_count": 12,
   "metadata": {},
   "outputs": [],
   "source": [
    "vW   =         np.array([0.5,  0.2,  0.3])\n",
    "vMu  =         np.array([-3.0, 2.0,  3.0])\n",
    "vSig = np.sqrt(np.array([2,    0.1,  0.1]))\n",
    "\n",
    "xx   = np.linspace(-7, 6, 10001)\n",
    "vPx  = sum([vW[ii] / np.sqrt(2 * np.pi * vSig[ii]**2) * np.exp(-(xx - vMu[ii])**2 / (2 * vSig[ii]**2)) for ii in range(3)])\n",
    "vFx  = np.cumsum(vPx) * (xx[1] - xx[0])\n",
    "\n",
    "N    = 1000\n",
    "vX   = np.row_stack([vSig[ii] * np.random.randn(int(N * vW[ii]), 1) + vMu[ii] for ii in range(3)]).squeeze()"
   ]
  },
  {
   "cell_type": "markdown",
   "metadata": {},
   "source": [
    "### Plot Histogram:"
   ]
  },
  {
   "cell_type": "code",
   "execution_count": 3,
   "metadata": {},
   "outputs": [
    {
     "data": {
      "application/vnd.jupyter.widget-view+json": {
       "model_id": "97e82e140d1c4231a44e3d6b63514839",
       "version_major": 2,
       "version_minor": 0
      },
      "text/plain": [
       "interactive(children=(IntSlider(value=5, description='K', layout=Layout(width='80%'), max=250, min=5, step=5),…"
      ]
     },
     "metadata": {},
     "output_type": "display_data"
    }
   ],
   "source": [
    "from ipywidgets import interact, IntSlider, Layout\n",
    "\n",
    "def PlotHist(K = 10):\n",
    "    plt.figure(figsize=(10, 5))\n",
    "    plt.hist(vX, bins=K, color='b', edgecolor='k', density=True, label='Histogram')\n",
    "    plt.plot(xx, vPx, c='r', lw=2,                               label='$f_x$')\n",
    "    plt.title(f'$K = {K}$')\n",
    "    plt.legend()\n",
    "\n",
    "kSlider = IntSlider(min=5, max=250, step=5, value=5, layout=Layout(width='80%'))\n",
    "interact(PlotHist, K=kSlider)\n",
    "plt.show()"
   ]
  },
  {
   "cell_type": "markdown",
   "metadata": {},
   "source": [
    "### Plot KDE:"
   ]
  },
  {
   "cell_type": "code",
   "execution_count": 11,
   "metadata": {},
   "outputs": [
    {
     "data": {
      "application/vnd.jupyter.widget-view+json": {
       "model_id": "adc4918396844494ade6241c2ddcb4c3",
       "version_major": 2,
       "version_minor": 0
      },
      "text/plain": [
       "interactive(children=(FloatSlider(value=1.0, description='σ', layout=Layout(width='80%'), max=1.0, step=0.05),…"
      ]
     },
     "metadata": {},
     "output_type": "display_data"
    }
   ],
   "source": [
    "from ipywidgets        import interact, FloatSlider, Layout\n",
    "from sklearn.neighbors import KernelDensity\n",
    "\n",
    "def PlotKDE(σ = 1):\n",
    "    if σ == 0:\n",
    "        σ = 1e-2\n",
    "    \n",
    "    oKDE   = KernelDensity(kernel='gaussian', bandwidth=σ).fit(vX[:,None])\n",
    "    vHatPx = np.exp(oKDE.score_samples(xx[:,None]).squeeze())\n",
    "    \n",
    "    plt.figure(figsize=(10, 5)); plt.grid(True)\n",
    "    plt.plot(xx, vHatPx, color='b', lw=2,  label='KDE')\n",
    "    plt.plot(xx, vPx,    color='r', lw=2,  label='$f_x$')\n",
    "    plt.title(f'σ = {σ}')\n",
    "    plt.legend()\n",
    "\n",
    "σSlider = FloatSlider(min=.00, max=1, step=.05, value=1, layout=Layout(width='80%'))\n",
    "interact(PlotKDE, σ=σSlider)\n",
    "plt.show()"
   ]
  },
  {
   "cell_type": "markdown",
   "metadata": {},
   "source": [
    "### ECDF"
   ]
  },
  {
   "cell_type": "markdown",
   "metadata": {},
   "source": [
    "###  Exercise:\n",
    "* Compute the ECDF:\n",
    "$$\\hat{F}_{X}\\left(x\\right)=\\frac{1}{N}\\sum_{i=1}^{N}\\mathbb{I}\\left\\{ x_{i}\\leq x\\right\\} $$\n",
    "Compare your result to the true CDF $F_x$ (`vFx`)\n",
    "* This can be done using a very few lines (also in one line)"
   ]
  },
  {
   "cell_type": "code",
   "execution_count": 29,
   "metadata": {},
   "outputs": [
    {
     "data": {
      "image/png": "[encoded data removed]",
      "text/plain": [
       "<Figure size 720x360 with 1 Axes>"
      ]
     },
     "metadata": {
      "needs_background": "light"
     },
     "output_type": "display_data"
    }
   ],
   "source": [
    "vHatFx = ???\n",
    "\n",
    "plt.figure(figsize=(10, 5)); plt.grid(True)\n",
    "plt.plot(xx, vHatFx, color='b',  lw=2,  label='$\\hat{F}_x$')\n",
    "plt.plot(xx, vFx,    'r--',      lw=2,  label='$F_x$')\n",
    "plt.title('ECDF')\n",
    "plt.legend()\n",
    "plt.show()"
   ]
  },
  {
   "cell_type": "code",
   "execution_count": null,
   "metadata": {},
   "outputs": [],
   "source": [
    "# np.mean((vX[:,None] < xx[None,:]).astype(float), axis=0)"
   ]
  },
  {
   "cell_type": "code",
   "execution_count": null,
   "metadata": {},
   "outputs": [],
   "source": []
  }
 ],
 "metadata": {
  "kernelspec": {
   "display_name": "Python 3",
   "language": "python",
   "name": "python3"
  },
  "language_info": {
   "codemirror_mode": {
    "name": "ipython",
    "version": 3
   },
   "file_extension": ".py",
   "mimetype": "text/x-python",
   "name": "python",
   "nbconvert_exporter": "python",
   "pygments_lexer": "ipython3",
   "version": "3.7.8"
  },
  "toc": {
   "base_numbering": 1,
   "nav_menu": {},
   "number_sections": false,
   "sideBar": true,
   "skip_h1_title": false,
   "title_cell": "Table of Contents",
   "title_sidebar": "Contents",
   "toc_cell": false,
   "toc_position": {},
   "toc_section_display": true,
   "toc_window_display": false
  },
  "varInspector": {
   "cols": {
    "lenName": 16,
    "lenType": 16,
    "lenVar": 40
   },
   "kernels_config": {
    "python": {
     "delete_cmd_postfix": "",
     "delete_cmd_prefix": "del ",
     "library": "var_list.py",
     "varRefreshCmd": "print(var_dic_list())"
    },
    "r": {
     "delete_cmd_postfix": ") ",
     "delete_cmd_prefix": "rm(",
     "library": "var_list.r",
     "varRefreshCmd": "cat(var_dic_list()) "
    }
   },
   "types_to_exclude": [
    "module",
    "function",
    "builtin_function_or_method",
    "instance",
    "_Feature"
   ],
   "window_display": false
  }
 },
 "nbformat": 4,
 "nbformat_minor": 4
}
