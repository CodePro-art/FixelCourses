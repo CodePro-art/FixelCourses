{
 "cells": [
  {
   "cell_type": "markdown",
   "metadata": {},
   "source": [
    "![Fixel Algorithms](https://fixelalgorithms.co/images/CCExt.png)"
   ]
  },
  {
   "cell_type": "markdown",
   "metadata": {},
   "source": [
    "# <center> Machine Learning Methods </center>\n",
    "## <center> Lecture 13 - Bayesian Regression </center>\n",
    "### <center> Bayesian Optimization </center>"
   ]
  },
  {
   "cell_type": "markdown",
   "metadata": {},
   "source": [
    "[![Open In Colab](https://colab.research.google.com/assets/colab-badge.svg)](https://colab.research.google.com/github/FixelAlgorithmsTeam/FixelCourses/blob/master/MachineLearningMethod/13_BayesianRegression/MainGlobalBayesianOptimization.ipynb)"
   ]
  },
  {
   "cell_type": "code",
   "execution_count": 8,
   "metadata": {},
   "outputs": [],
   "source": [
    "import numpy             as np\n",
    "import matplotlib.pyplot as plt\n",
    "import matplotlib\n",
    "\n",
    "matplotlib.rc('font', **{'size' : 16})"
   ]
  },
  {
   "cell_type": "markdown",
   "metadata": {},
   "source": [
    "### Define a kernel:"
   ]
  },
  {
   "cell_type": "code",
   "execution_count": 9,
   "metadata": {},
   "outputs": [],
   "source": [
    "from scipy.spatial.distance import cdist\n",
    "\n",
    "#-- Gaussian kernel:\n",
    "def k(mX1, mX2, σ):\n",
    "    mD = cdist(mX2, mX1)\n",
    "    return np.exp(-mD**2 / (2 * σ**2))"
   ]
  },
  {
   "cell_type": "code",
   "execution_count": 10,
   "metadata": {},
   "outputs": [],
   "source": [
    "def KernelBaysesianRegression(mX, vY, mX0, σ_ε, σ_w, k):\n",
    "    λ     = (σ_ε / σ_w)**2\n",
    "    N     = mX.shape[0]\n",
    "    mK    = k(mX, mX)\n",
    "    mInvK = np.linalg.inv(mK + λ * np.eye(N))\n",
    "    mK0   = k(mX0, mX)\n",
    "    \n",
    "    vY0   = (mK0.T @ mInvK @ vY[:,None]).squeeze()\n",
    "    vVar0 = 1 - np.sum((mK0.T @ mInvK) * mK0.T, axis=1) + σ_ε**2\n",
    "    vσ0   = np.sqrt(np.maximum(vVar0, 0))\n",
    "    \n",
    "    return (vY0, vσ0)"
   ]
  },
  {
   "cell_type": "markdown",
   "metadata": {},
   "source": [
    "###  Bayesian optimization:\n",
    "$$\\boldsymbol{x}_{t}\\leftarrow\\arg\\underset{\\boldsymbol{x}_{0}\\in\\mathcal{X}}{\\min}\\mu_{y_{0}}-\\tau\\sigma_{y_{0}}$$"
   ]
  },
  {
   "cell_type": "markdown",
   "metadata": {},
   "source": [
    "### Boston data:"
   ]
  },
  {
   "cell_type": "code",
   "execution_count": 11,
   "metadata": {},
   "outputs": [
    {
     "data": {
      "text/plain": [
       "((506, 13), (506,))"
      ]
     },
     "execution_count": 11,
     "metadata": {},
     "output_type": "execute_result"
    }
   ],
   "source": [
    "from sklearn.datasets import load_boston\n",
    "\n",
    "mX, vY = load_boston(return_X_y=True)\n",
    "mX.shape, vY.shape"
   ]
  },
  {
   "cell_type": "code",
   "execution_count": 12,
   "metadata": {},
   "outputs": [],
   "source": [
    "N   = mX.shape[0]\n",
    "mX -= mX.mean(axis=0)\n",
    "mX /= mX.std(axis=0)\n",
    "vY -= vY.mean()\n",
    "vY /= vY.std()"
   ]
  },
  {
   "cell_type": "markdown",
   "metadata": {},
   "source": [
    "#### Bayesian optimization:"
   ]
  },
  {
   "cell_type": "code",
   "execution_count": 13,
   "metadata": {},
   "outputs": [],
   "source": [
    "def BayesianOptimization(f, N, xx,  σ_ε=0.02, σ_w=2, σ=0.2, 𝜏=2):\n",
    "    \n",
    "    def GaussianKernel(mX1, mX2):\n",
    "        mD = cdist(mX2, mX1)\n",
    "        return np.exp(-mD**2 / (2 * σ**2))\n",
    "\n",
    "    mX = np.full((N, xx.shape[1]), np.nan)\n",
    "    vY = np.full(N,                np.nan)\n",
    "    for ii in range(N):\n",
    "        if ii == 0:\n",
    "            idx = np.random.randint(xx.shape[0])\n",
    "            \n",
    "        mX[ii,:] = xx[idx,:]\n",
    "        vY[ii]   = f(*mX[ii,:])\n",
    "\n",
    "        mXi    = mX[:ii+1,:]\n",
    "        vYi    = vY[:ii+1]\n",
    "        yy, σσ = KernelBaysesianRegression(mXi, vYi, xx, σ_ε, σ_w, GaussianKernel)\n",
    "        idx    = np.argmin(yy - 𝜏 * σσ)\n",
    "\n",
    "    return mX, vY, yy, σσ\n",
    "        "
   ]
  },
  {
   "cell_type": "markdown",
   "metadata": {},
   "source": [
    "### (Advanced) exercise\n",
    "* Modify the code and search both $\\gamma$ and $\\alpha$.\n",
    "* Improve the $R^2$ score."
   ]
  },
  {
   "cell_type": "code",
   "execution_count": 14,
   "metadata": {},
   "outputs": [],
   "source": [
    "from sklearn.kernel_ridge    import KernelRidge\n",
    "from sklearn.model_selection import cross_val_predict, KFold\n",
    "from sklearn.metrics import r2_score\n",
    "\n",
    "def CrossValScore(ɣ, α, kFold=50):\n",
    "    vHatY = cross_val_predict(KernelRidge(kernel='rbf', gamma=10**ɣ, alpha=10**α), mX, vY, cv=KFold(kFold, shuffle=True))\n",
    "    return -r2_score(vY, vHatY)"
   ]
  },
  {
   "cell_type": "code",
   "execution_count": 15,
   "metadata": {},
   "outputs": [
    {
     "data": {
      "text/plain": [
       "-0.903269046997041"
      ]
     },
     "execution_count": 15,
     "metadata": {},
     "output_type": "execute_result"
    }
   ],
   "source": [
    "CrossValScore(np.log10(0.06), np.log10(0.016))"
   ]
  },
  {
   "cell_type": "markdown",
   "metadata": {},
   "source": [
    "### Apply algorithm:"
   ]
  },
  {
   "cell_type": "code",
   "execution_count": 22,
   "metadata": {},
   "outputs": [
    {
     "data": {
      "text/plain": [
       "(10201, 2)"
      ]
     },
     "execution_count": 22,
     "metadata": {},
     "output_type": "execute_result"
    }
   ],
   "source": [
    "#-- Search interval:\n",
    "vɣ     = np.linspace(-2, -1,      101)\n",
    "vα     = np.linspace(-2.5, -1.25, 101)\n",
    "mɣ, mα = np.meshgrid(vɣ, vα)\n",
    "\n",
    "mP     = np.c_[mɣ.flatten(), mα.flatten()]\n",
    "mP.shape"
   ]
  },
  {
   "cell_type": "code",
   "execution_count": 23,
   "metadata": {},
   "outputs": [
    {
     "data": {
      "text/plain": [
       "((250, 2), (250,), (10201,), (10201,))"
      ]
     },
     "execution_count": 23,
     "metadata": {},
     "output_type": "execute_result"
    }
   ],
   "source": [
    "#-- Apply algorithm:\n",
    "mXX, vYY, yy, vσ = BayesianOptimization(CrossValScore, 250, mP, σ_ε=0.01, σ_w=3, σ=0.3, 𝜏=20)\n",
    "\n",
    "mXX.shape, vYY.shape, yy.shape, vσ.shape"
   ]
  },
  {
   "cell_type": "markdown",
   "metadata": {},
   "source": [
    " #### Plot:"
   ]
  },
  {
   "cell_type": "code",
   "execution_count": 24,
   "metadata": {},
   "outputs": [
    {
     "data": {
      "image/png": "[encoded data removed]",
      "text/plain": [
       "<Figure size 576x432 with 2 Axes>"
      ]
     },
     "metadata": {
      "needs_background": "light"
     },
     "output_type": "display_data"
    }
   ],
   "source": [
    "mYY = np.reshape(yy, mɣ.shape)\n",
    "_, ax = plt.subplots(figsize=(8, 6))\n",
    "# c = ax.matshow(mYY, extent=[vɣ.min(), vɣ.max(), vα.min(), vα.max()])\n",
    "c = ax.matshow(mYY, extent=[vɣ.min(), vɣ.max(), vα.min(), vα.max()], origin='lower')\n",
    "plt.scatter(mXX[:,0], mXX[:,1], c='lime', edgecolor='k')\n",
    "ax.set_xticks(vɣ[::10])\n",
    "ax.set_yticks(vα[::10])\n",
    "plt.colorbar(c, ax=ax)\n",
    "plt.axis('equal')\n",
    "plt.show()"
   ]
  },
  {
   "cell_type": "code",
   "execution_count": 25,
   "metadata": {},
   "outputs": [
    {
     "data": {
      "text/plain": [
       "(array([-1.37]), array([-2.0125]))"
      ]
     },
     "execution_count": 25,
     "metadata": {},
     "output_type": "execute_result"
    }
   ],
   "source": [
    "yIdx, xIdx = np.where(mYY == mYY.min())\n",
    "vɣ[xIdx], vα[yIdx]"
   ]
  },
  {
   "cell_type": "code",
   "execution_count": 26,
   "metadata": {},
   "outputs": [
    {
     "data": {
      "text/plain": [
       "-0.9018188253820482"
      ]
     },
     "execution_count": 26,
     "metadata": {},
     "output_type": "execute_result"
    }
   ],
   "source": [
    "mYY.min()"
   ]
  },
  {
   "cell_type": "code",
   "execution_count": 27,
   "metadata": {},
   "outputs": [
    {
     "data": {
      "text/plain": [
       "-0.9025238368885988"
      ]
     },
     "execution_count": 27,
     "metadata": {},
     "output_type": "execute_result"
    }
   ],
   "source": [
    "CrossValScore(vɣ[xIdx], vα[yIdx], kFold=N)"
   ]
  },
  {
   "cell_type": "code",
   "execution_count": null,
   "metadata": {},
   "outputs": [],
   "source": []
  }
 ],
 "metadata": {
  "kernelspec": {
   "display_name": "Python 3",
   "language": "python",
   "name": "python3"
  },
  "language_info": {
   "codemirror_mode": {
    "name": "ipython",
    "version": 3
   },
   "file_extension": ".py",
   "mimetype": "text/x-python",
   "name": "python",
   "nbconvert_exporter": "python",
   "pygments_lexer": "ipython3",
   "version": "3.8.6"
  },
  "toc": {
   "base_numbering": 1,
   "nav_menu": {},
   "number_sections": true,
   "sideBar": true,
   "skip_h1_title": false,
   "title_cell": "Table of Contents",
   "title_sidebar": "Contents",
   "toc_cell": false,
   "toc_position": {},
   "toc_section_display": true,
   "toc_window_display": false
  },
  "varInspector": {
   "cols": {
    "lenName": 16,
    "lenType": 16,
    "lenVar": 40
   },
   "kernels_config": {
    "python": {
     "delete_cmd_postfix": "",
     "delete_cmd_prefix": "del ",
     "library": "var_list.py",
     "varRefreshCmd": "print(var_dic_list())"
    },
    "r": {
     "delete_cmd_postfix": ") ",
     "delete_cmd_prefix": "rm(",
     "library": "var_list.r",
     "varRefreshCmd": "cat(var_dic_list()) "
    }
   },
   "types_to_exclude": [
    "module",
    "function",
    "builtin_function_or_method",
    "instance",
    "_Feature"
   ],
   "window_display": false
  }
 },
 "nbformat": 4,
 "nbformat_minor": 4
}
