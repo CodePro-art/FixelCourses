{
 "cells": [
  {
   "cell_type": "markdown",
   "metadata": {},
   "source": [
    "![Fixel Algorithms](https://fixelalgorithms.co/images/CCExt.png)"
   ]
  },
  {
   "cell_type": "markdown",
   "metadata": {},
   "source": [
    "# <center> Machine Learning Methods </center>\n",
    "## <center> Lecture 4 - Performance Evaluation </center>\n",
    "### <center> Precision, Recall, ROC, and AUC - Solution </center>"
   ]
  },
  {
   "cell_type": "markdown",
   "metadata": {},
   "source": [
    "[![Open In Colab](https://colab.research.google.com/assets/colab-badge.svg)](https://colab.research.google.com/github/FixelAlgorithmsTeam/FixelCourses/blob/master/MachineLearningMethod/04_PerformanceEvaluation/MainPrecisionRecall_Solution.ipynb)"
   ]
  },
  {
   "cell_type": "code",
   "execution_count": 1,
   "metadata": {
    "ExecuteTime": {
     "end_time": "2022-02-02T19:43:06.530440Z",
     "start_time": "2022-02-02T19:43:06.269613Z"
    }
   },
   "outputs": [],
   "source": [
    "import numpy             as np\n",
    "import matplotlib.pyplot as plt\n",
    "import matplotlib"
   ]
  },
  {
   "cell_type": "markdown",
   "metadata": {},
   "source": [
    "### Exercise\n",
    "1.\n",
    "* Use the breast cancer dataset: `load_breast_cancer`.\n",
    "* Use a linear SVM classifier.\n",
    "* Use cross-validation to find the optimal value of $C$ which maximizes the AUC. \n",
    "    * Use the `cross_val_predict` with `method='decision_function'`.\n",
    "    * Use 'roc_auc_score' to compute the AUC.\n",
    "    \n",
    "2.\n",
    "* Split the data into 80% train and 20% validation.\n",
    "    * You may use `sklearn.model_selection.train_test_split`\n",
    "* Retrain your classifier on the train set (with the optimal hyper-parameters).\n",
    "* Plot the ROC (and AUC) on the validation set."
   ]
  },
  {
   "cell_type": "code",
   "execution_count": 2,
   "metadata": {
    "ExecuteTime": {
     "end_time": "2022-02-02T19:43:06.941407Z",
     "start_time": "2022-02-02T19:43:06.531440Z"
    }
   },
   "outputs": [],
   "source": [
    "from sklearn.svm      import SVC\n",
    "from sklearn.metrics  import roc_curve, auc\n",
    "from sklearn.datasets import load_breast_cancer\n",
    "\n",
    "dData = load_breast_cancer()\n",
    "mX    = dData.data\n",
    "vY    = dData.target\n",
    "\n",
    "#-- Normalize data:\n",
    "mX    = mX - np.mean(mX, axis=0)\n",
    "mX    = mX / np.std (mX, axis=0)"
   ]
  },
  {
   "cell_type": "code",
   "execution_count": 3,
   "metadata": {
    "ExecuteTime": {
     "end_time": "2022-02-02T19:44:04.718279Z",
     "start_time": "2022-02-02T19:43:06.942408Z"
    }
   },
   "outputs": [
    {
     "data": {
      "text/html": [
       "<div>\n",
       "<style scoped>\n",
       "    .dataframe tbody tr th:only-of-type {\n",
       "        vertical-align: middle;\n",
       "    }\n",
       "\n",
       "    .dataframe tbody tr th {\n",
       "        vertical-align: top;\n",
       "    }\n",
       "\n",
       "    .dataframe thead th {\n",
       "        text-align: right;\n",
       "    }\n",
       "</style>\n",
       "<table border=\"1\" class=\"dataframe\">\n",
       "  <thead>\n",
       "    <tr style=\"text-align: right;\">\n",
       "      <th></th>\n",
       "      <th>C</th>\n",
       "      <th>AUC</th>\n",
       "    </tr>\n",
       "  </thead>\n",
       "  <tbody>\n",
       "    <tr>\n",
       "      <th>1</th>\n",
       "      <td>0.417625</td>\n",
       "      <td>0.994239</td>\n",
       "    </tr>\n",
       "    <tr>\n",
       "      <th>2</th>\n",
       "      <td>0.834250</td>\n",
       "      <td>0.993579</td>\n",
       "    </tr>\n",
       "    <tr>\n",
       "      <th>3</th>\n",
       "      <td>1.250875</td>\n",
       "      <td>0.993499</td>\n",
       "    </tr>\n",
       "    <tr>\n",
       "      <th>6</th>\n",
       "      <td>2.500750</td>\n",
       "      <td>0.993169</td>\n",
       "    </tr>\n",
       "    <tr>\n",
       "      <th>5</th>\n",
       "      <td>2.084125</td>\n",
       "      <td>0.993076</td>\n",
       "    </tr>\n",
       "    <tr>\n",
       "      <th>4</th>\n",
       "      <td>1.667500</td>\n",
       "      <td>0.993076</td>\n",
       "    </tr>\n",
       "    <tr>\n",
       "      <th>7</th>\n",
       "      <td>2.917375</td>\n",
       "      <td>0.992971</td>\n",
       "    </tr>\n",
       "    <tr>\n",
       "      <th>8</th>\n",
       "      <td>3.334000</td>\n",
       "      <td>0.992614</td>\n",
       "    </tr>\n",
       "    <tr>\n",
       "      <th>9</th>\n",
       "      <td>3.750625</td>\n",
       "      <td>0.992310</td>\n",
       "    </tr>\n",
       "    <tr>\n",
       "      <th>10</th>\n",
       "      <td>4.167250</td>\n",
       "      <td>0.991663</td>\n",
       "    </tr>\n",
       "    <tr>\n",
       "      <th>11</th>\n",
       "      <td>4.583875</td>\n",
       "      <td>0.991425</td>\n",
       "    </tr>\n",
       "    <tr>\n",
       "      <th>12</th>\n",
       "      <td>5.000500</td>\n",
       "      <td>0.991187</td>\n",
       "    </tr>\n",
       "    <tr>\n",
       "      <th>13</th>\n",
       "      <td>5.417125</td>\n",
       "      <td>0.991068</td>\n",
       "    </tr>\n",
       "    <tr>\n",
       "      <th>14</th>\n",
       "      <td>5.833750</td>\n",
       "      <td>0.991068</td>\n",
       "    </tr>\n",
       "    <tr>\n",
       "      <th>15</th>\n",
       "      <td>6.250375</td>\n",
       "      <td>0.991068</td>\n",
       "    </tr>\n",
       "    <tr>\n",
       "      <th>16</th>\n",
       "      <td>6.667000</td>\n",
       "      <td>0.990962</td>\n",
       "    </tr>\n",
       "    <tr>\n",
       "      <th>17</th>\n",
       "      <td>7.083625</td>\n",
       "      <td>0.990857</td>\n",
       "    </tr>\n",
       "    <tr>\n",
       "      <th>0</th>\n",
       "      <td>0.001000</td>\n",
       "      <td>0.990725</td>\n",
       "    </tr>\n",
       "    <tr>\n",
       "      <th>18</th>\n",
       "      <td>7.500250</td>\n",
       "      <td>0.990659</td>\n",
       "    </tr>\n",
       "    <tr>\n",
       "      <th>19</th>\n",
       "      <td>7.916875</td>\n",
       "      <td>0.990553</td>\n",
       "    </tr>\n",
       "    <tr>\n",
       "      <th>21</th>\n",
       "      <td>8.750125</td>\n",
       "      <td>0.990341</td>\n",
       "    </tr>\n",
       "    <tr>\n",
       "      <th>20</th>\n",
       "      <td>8.333500</td>\n",
       "      <td>0.990289</td>\n",
       "    </tr>\n",
       "    <tr>\n",
       "      <th>22</th>\n",
       "      <td>9.166750</td>\n",
       "      <td>0.990183</td>\n",
       "    </tr>\n",
       "    <tr>\n",
       "      <th>23</th>\n",
       "      <td>9.583375</td>\n",
       "      <td>0.989919</td>\n",
       "    </tr>\n",
       "    <tr>\n",
       "      <th>24</th>\n",
       "      <td>10.000000</td>\n",
       "      <td>0.989681</td>\n",
       "    </tr>\n",
       "  </tbody>\n",
       "</table>\n",
       "</div>"
      ],
      "text/plain": [
       "            C       AUC\n",
       "1    0.417625  0.994239\n",
       "2    0.834250  0.993579\n",
       "3    1.250875  0.993499\n",
       "6    2.500750  0.993169\n",
       "5    2.084125  0.993076\n",
       "4    1.667500  0.993076\n",
       "7    2.917375  0.992971\n",
       "8    3.334000  0.992614\n",
       "9    3.750625  0.992310\n",
       "10   4.167250  0.991663\n",
       "11   4.583875  0.991425\n",
       "12   5.000500  0.991187\n",
       "13   5.417125  0.991068\n",
       "14   5.833750  0.991068\n",
       "15   6.250375  0.991068\n",
       "16   6.667000  0.990962\n",
       "17   7.083625  0.990857\n",
       "0    0.001000  0.990725\n",
       "18   7.500250  0.990659\n",
       "19   7.916875  0.990553\n",
       "21   8.750125  0.990341\n",
       "20   8.333500  0.990289\n",
       "22   9.166750  0.990183\n",
       "23   9.583375  0.989919\n",
       "24  10.000000  0.989681"
      ]
     },
     "execution_count": 3,
     "metadata": {},
     "output_type": "execute_result"
    }
   ],
   "source": [
    "import pandas as pd\n",
    "from   sklearn.model_selection import cross_val_predict, KFold\n",
    "from   sklearn.metrics         import roc_auc_score\n",
    "\n",
    "dRes   = pd.DataFrame(columns=['C', 'AUC'])\n",
    "oKFold = KFold(len(vY), shuffle=True, random_state=0)\n",
    "\n",
    "for C in np.linspace(1e-3, 10, 25):\n",
    "    vScore              = cross_val_predict(SVC(C=C, kernel='linear'), mX, vY, cv=oKFold, method='decision_function') \n",
    "    dRes.loc[len(dRes)] = [C, roc_auc_score(vY, vScore)]\n",
    "\n",
    "dRes.sort_values(by='AUC', ascending=False)"
   ]
  },
  {
   "cell_type": "code",
   "execution_count": 4,
   "metadata": {
    "ExecuteTime": {
     "end_time": "2022-02-02T19:44:04.734284Z",
     "start_time": "2022-02-02T19:44:04.719280Z"
    }
   },
   "outputs": [],
   "source": [
    "from sklearn.model_selection import train_test_split\n",
    "\n",
    "mTrainX, mTestX, vTrainY, vTestY = train_test_split(mX, vY, test_size=0.2)"
   ]
  },
  {
   "cell_type": "code",
   "execution_count": 5,
   "metadata": {
    "ExecuteTime": {
     "end_time": "2022-02-02T19:44:04.750299Z",
     "start_time": "2022-02-02T19:44:04.735285Z"
    }
   },
   "outputs": [],
   "source": [
    "#-- Best SVM:\n",
    "oSVM = SVC(C=0.41, kernel='linear').fit(mTrainX, vTrainY)"
   ]
  },
  {
   "cell_type": "code",
   "execution_count": 6,
   "metadata": {
    "ExecuteTime": {
     "end_time": "2022-02-02T19:44:04.766314Z",
     "start_time": "2022-02-02T19:44:04.751300Z"
    }
   },
   "outputs": [
    {
     "data": {
      "text/plain": [
       "0.9979729729729729"
      ]
     },
     "execution_count": 6,
     "metadata": {},
     "output_type": "execute_result"
    }
   ],
   "source": [
    "vScore       = oSVM.decision_function(mTestX)\n",
    "vFP, vTP, vα = roc_curve(vTestY, vScore, pos_label=1)\n",
    "AUC          = auc(vFP, vTP)\n",
    "AUC"
   ]
  },
  {
   "cell_type": "code",
   "execution_count": 7,
   "metadata": {
    "ExecuteTime": {
     "end_time": "2022-02-02T19:44:04.878048Z",
     "start_time": "2022-02-02T19:44:04.767316Z"
    }
   },
   "outputs": [
    {
     "data": {
      "image/png": "[encoded data removed]",
      "text/plain": [
       "<Figure size 500x400 with 1 Axes>"
      ]
     },
     "metadata": {},
     "output_type": "display_data"
    }
   ],
   "source": [
    "plt.figure(figsize=(5, 4))\n",
    "plt.plot  (vFP,    vTP,    color='b', lw=2, label=f'ROC curve, AUC = {AUC:.3f}')\n",
    "plt.plot  ([0, 1], [0, 1], color='k', lw=2, linestyle='--')\n",
    "plt.xlabel('False Positive Rate')\n",
    "plt.ylabel('True Positive Rate')\n",
    "plt.title ('ROC')\n",
    "plt.axis  ('equal')\n",
    "plt.legend()\n",
    "plt.grid  ()\n",
    "plt.show  ()"
   ]
  },
  {
   "cell_type": "markdown",
   "metadata": {},
   "source": [
    "### Extra:\n",
    "1.<br>\n",
    "Use `roc_curve` and obtained the threshold $\\alpha$ such that:\n",
    "* Recall (true positive) = 1\n",
    "* False positive is minimal\n",
    "\n",
    "**Tip:** You can use `np.where`.\n",
    "\n",
    "2.<br>\n",
    "Implement a new predict function with the new threshold $\\alpha$.\n",
    "```python\n",
    "def PredictWithOffset(oModel, mX, α):\n",
    "```\n",
    "Compute recall, precision, and $f_1$ score on the test set using `PredictWithOffset`."
   ]
  },
  {
   "cell_type": "code",
   "execution_count": 8,
   "metadata": {
    "ExecuteTime": {
     "end_time": "2022-02-02T19:44:04.894063Z",
     "start_time": "2022-02-02T19:44:04.879049Z"
    }
   },
   "outputs": [
    {
     "data": {
      "text/plain": [
       "array([ 11.15630982,  10.15630982,   0.96677145,   0.79868134,\n",
       "         0.26545505,   0.22380639,   0.13479885, -16.47514319])"
      ]
     },
     "execution_count": 8,
     "metadata": {},
     "output_type": "execute_result"
    }
   ],
   "source": [
    "vα"
   ]
  },
  {
   "cell_type": "markdown",
   "metadata": {},
   "source": [
    "#### Optimal $\\alpha$:"
   ]
  },
  {
   "cell_type": "code",
   "execution_count": 9,
   "metadata": {
    "ExecuteTime": {
     "end_time": "2022-02-02T19:44:04.910078Z",
     "start_time": "2022-02-02T19:44:04.895065Z"
    }
   },
   "outputs": [
    {
     "data": {
      "text/plain": [
       "0.13479884584578183"
      ]
     },
     "execution_count": 9,
     "metadata": {},
     "output_type": "execute_result"
    }
   ],
   "source": [
    "idx = np.where(vTP == 1)[0][0]\n",
    "α   = vα[idx]\n",
    "α"
   ]
  },
  {
   "cell_type": "markdown",
   "metadata": {},
   "source": [
    "#### Implement the new predict function:"
   ]
  },
  {
   "cell_type": "code",
   "execution_count": 10,
   "metadata": {
    "ExecuteTime": {
     "end_time": "2022-02-02T19:44:04.925775Z",
     "start_time": "2022-02-02T19:44:04.911079Z"
    }
   },
   "outputs": [],
   "source": [
    "def PredictWithOffset(oModel, mX, α):\n",
    "    vHatY = oModel.decision_function(mX) > α\n",
    "    \n",
    "    return vHatY"
   ]
  },
  {
   "cell_type": "markdown",
   "metadata": {},
   "source": [
    "#### Compute $f_1$ score:"
   ]
  },
  {
   "cell_type": "code",
   "execution_count": 11,
   "metadata": {
    "ExecuteTime": {
     "end_time": "2022-02-02T19:44:04.941789Z",
     "start_time": "2022-02-02T19:44:04.926775Z"
    }
   },
   "outputs": [
    {
     "data": {
      "text/plain": [
       "(0.9733333333333334, 0.9864864864864865, 0.9798657718120806, None)"
      ]
     },
     "execution_count": 11,
     "metadata": {},
     "output_type": "execute_result"
    }
   ],
   "source": [
    "from sklearn.metrics import precision_recall_fscore_support\n",
    "\n",
    "vHatY = PredictWithOffset(oSVM, mTestX, α)\n",
    "precision_recall_fscore_support(vTestY, vHatY, pos_label=1, average='binary')"
   ]
  },
  {
   "cell_type": "code",
   "execution_count": null,
   "metadata": {},
   "outputs": [],
   "source": []
  }
 ],
 "metadata": {
  "kernelspec": {
   "display_name": "Python 3",
   "language": "python",
   "name": "python3"
  },
  "language_info": {
   "codemirror_mode": {
    "name": "ipython",
    "version": 3
   },
   "file_extension": ".py",
   "mimetype": "text/x-python",
   "name": "python",
   "nbconvert_exporter": "python",
   "pygments_lexer": "ipython3",
   "version": "3.8.12"
  },
  "toc": {
   "base_numbering": 1,
   "nav_menu": {},
   "number_sections": false,
   "sideBar": true,
   "skip_h1_title": false,
   "title_cell": "Table of Contents",
   "title_sidebar": "Contents",
   "toc_cell": false,
   "toc_position": {},
   "toc_section_display": true,
   "toc_window_display": false
  },
  "varInspector": {
   "cols": {
    "lenName": 16,
    "lenType": 16,
    "lenVar": 40
   },
   "kernels_config": {
    "python": {
     "delete_cmd_postfix": "",
     "delete_cmd_prefix": "del ",
     "library": "var_list.py",
     "varRefreshCmd": "print(var_dic_list())"
    },
    "r": {
     "delete_cmd_postfix": ") ",
     "delete_cmd_prefix": "rm(",
     "library": "var_list.r",
     "varRefreshCmd": "cat(var_dic_list()) "
    }
   },
   "types_to_exclude": [
    "module",
    "function",
    "builtin_function_or_method",
    "instance",
    "_Feature"
   ],
   "window_display": false
  }
 },
 "nbformat": 4,
 "nbformat_minor": 4
}
