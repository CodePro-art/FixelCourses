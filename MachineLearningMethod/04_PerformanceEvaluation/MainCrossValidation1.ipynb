{
 "cells": [
  {
   "cell_type": "markdown",
   "metadata": {},
   "source": [
    "![Fixel Algorithms](https://fixelalgorithms.co/images/CCExt.png)"
   ]
  },
  {
   "attachments": {},
   "cell_type": "markdown",
   "metadata": {},
   "source": [
    "# <center> Machine Learning Methods </center>\n",
    "## <center> Lecture 4 - Performance Evaluation </center>\n",
    "### <center> Confusion matrix and cross-validation</center>"
   ]
  },
  {
   "cell_type": "markdown",
   "metadata": {},
   "source": [
    "[![Open In Colab](https://colab.research.google.com/assets/colab-badge.svg)](https://colab.research.google.com/github/FixelAlgorithmsTeam/FixelCourses/blob/master/MachineLearningMethod/04_PerformanceEvaluation/MainCrossValidation1.ipynb)"
   ]
  },
  {
   "cell_type": "code",
   "execution_count": 1,
   "metadata": {},
   "outputs": [],
   "source": [
    "import numpy             as np\n",
    "import matplotlib.pyplot as plt\n",
    "import matplotlib\n",
    "\n",
    "matplotlib.rc('font', **{'size':16})\n",
    "# np.random.seed(1)"
   ]
  },
  {
   "cell_type": "markdown",
   "metadata": {},
   "source": [
    "### Download MNIST data:"
   ]
  },
  {
   "cell_type": "code",
   "execution_count": 2,
   "metadata": {},
   "outputs": [
    {
     "data": {
      "text/plain": [
       "((70000, 784), (70000,))"
      ]
     },
     "execution_count": 2,
     "metadata": {},
     "output_type": "execute_result"
    }
   ],
   "source": [
    "from sklearn.datasets import fetch_openml\n",
    "\n",
    "mX, vY = fetch_openml('mnist_784', version=1, return_X_y=True)\n",
    "mX.shape, vY.shape"
   ]
  },
  {
   "cell_type": "markdown",
   "metadata": {},
   "source": [
    "### Plot a few examples:"
   ]
  },
  {
   "cell_type": "code",
   "execution_count": 3,
   "metadata": {},
   "outputs": [
    {
     "data": {
      "image/png": "[encoded data removed]",
      "text/plain": [
       "<Figure size 576x432 with 6 Axes>"
      ]
     },
     "metadata": {
      "needs_background": "light"
     },
     "output_type": "display_data"
    }
   ],
   "source": [
    "N, d   = mX.shape\n",
    "fig, _ = plt.subplots(2, 3, figsize=(8,6))\n",
    "for ax in fig.axes:\n",
    "    idx = np.random.randint(0, N)\n",
    "    ax.imshow(np.reshape(mX[idx,:], (28, 28)), cmap='gray')\n",
    "    ax.set_title('True label: ' + str(vY[idx]))\n",
    "    \n",
    "plt.tight_layout()\n",
    "plt.show()"
   ]
  },
  {
   "cell_type": "markdown",
   "metadata": {},
   "source": [
    "### Split data to train and validation (test) sets:"
   ]
  },
  {
   "cell_type": "code",
   "execution_count": 4,
   "metadata": {},
   "outputs": [],
   "source": [
    "Ntrain  = 2000\n",
    "Ntest   = 1500\n",
    "vIdx    = np.random.choice(N, Ntrain + Ntest)\n",
    "mX      = mX[vIdx,:]\n",
    "vY      = vY[vIdx]"
   ]
  },
  {
   "cell_type": "code",
   "execution_count": 5,
   "metadata": {},
   "outputs": [
    {
     "data": {
      "text/plain": [
       "((2000, 784), (2000,), (1500, 784), (1500,))"
      ]
     },
     "execution_count": 5,
     "metadata": {},
     "output_type": "execute_result"
    }
   ],
   "source": [
    "from sklearn.model_selection import train_test_split\n",
    "\n",
    "mTrainX, mTestX, vTrainY, vTestY = train_test_split(mX, vY, train_size=Ntrain, test_size=Ntest)\n",
    "\n",
    "(mTrainX.shape, \n",
    "vTrainY.shape, \n",
    "mTestX.shape,  \n",
    "vTestY.shape)"
   ]
  },
  {
   "cell_type": "markdown",
   "metadata": {},
   "source": [
    "### Train a K-NN classifier ($K=1$):"
   ]
  },
  {
   "cell_type": "code",
   "execution_count": 6,
   "metadata": {},
   "outputs": [],
   "source": [
    "from sklearn.neighbors import KNeighborsClassifier\n",
    "\n",
    "KnnClassifier = KNeighborsClassifier(n_neighbors=1).fit(mTrainX, vTrainY)"
   ]
  },
  {
   "cell_type": "markdown",
   "metadata": {},
   "source": [
    "### Plot confusion matrices:"
   ]
  },
  {
   "cell_type": "code",
   "execution_count": null,
   "metadata": {},
   "outputs": [],
   "source": [
    "from sklearn.metrics import confusion_matrix, ConfusionMatrixDisplay\n",
    "\n",
    "vTrainHat       = KnnClassifier.predict(mTrainX)\n",
    "vTestHat        = KnnClassifier.predict(mTestX)\n",
    "mTrainConfusion = confusion_matrix(vTrainY, vTrainHat)\n",
    "mTestConfusion  = confusion_matrix(vTestY,  vTestHat)\n",
    "\n",
    "_, ax = plt.subplots(1, 2, figsize=(16,7))\n",
    "ConfusionMatrixDisplay(mTrainConfusion, display_labels=range(10)).plot(values_format='g', ax=ax[0])\n",
    "ConfusionMatrixDisplay(mTestConfusion,  display_labels=range(10)).plot(values_format='g', ax=ax[1])\n",
    "ax[0].set_title('Train accuracy: ' + str(np.mean(vTrainY == vTrainHat)))\n",
    "ax[1].set_title('Test accuracy: '  + str(np.mean(vTestY  == vTestHat)))\n",
    "plt.tight_layout()\n",
    "plt.show()"
   ]
  },
  {
   "cell_type": "markdown",
   "metadata": {},
   "source": [
    "K-NN (with $k=1$) will always provide a perfect __train__ classification accuracy.  \n",
    "Let us check the cross-validation accuracy (with 10 folds): "
   ]
  },
  {
   "cell_type": "code",
   "execution_count": null,
   "metadata": {},
   "outputs": [],
   "source": [
    "from sklearn.model_selection import cross_val_predict\n",
    "\n",
    "vTrainCrossVal  = cross_val_predict(KNeighborsClassifier(n_neighbors=1), mTrainX, vTrainY, cv=10)\n",
    "mTrainConfusion = confusion_matrix(vTrainY, vTrainCrossVal)\n",
    "\n",
    "_, ax = plt.subplots(1, 2, figsize=(16,7))\n",
    "ConfusionMatrixDisplay(mTrainConfusion, display_labels=range(10)).plot(values_format='d', ax=ax[0])\n",
    "ConfusionMatrixDisplay(mTestConfusion,  display_labels=range(10)).plot(values_format='d', ax=ax[1])\n",
    "ax[0].set_title('Train (cross validation) accuracy: ' + str(np.mean(vTrainY == vTrainCrossVal)))\n",
    "ax[1].set_title('Test accuracy: '                     + str(np.mean(vTestY  == vTestHat)))\n",
    "plt.tight_layout()\n",
    "plt.show()"
   ]
  },
  {
   "cell_type": "markdown",
   "metadata": {},
   "source": [
    "#### Let us find the optimal value of $K$:"
   ]
  },
  {
   "cell_type": "code",
   "execution_count": null,
   "metadata": {},
   "outputs": [],
   "source": [
    "from sklearn.model_selection import cross_val_score\n",
    "\n",
    "for kk in range(1, 12):\n",
    "    scores = cross_val_score(KNeighborsClassifier(n_neighbors=kk), mTrainX, vTrainY, cv=10)\n",
    "    print('K = ' + f'{kk:2d}' + ', Cross validation accuracy: ' + f'{scores.mean():.5f}')"
   ]
  }
 ],
 "metadata": {
  "kernelspec": {
   "display_name": "Python 3",
   "language": "python",
   "name": "python3"
  },
  "language_info": {
   "codemirror_mode": {
    "name": "ipython",
    "version": 3
   },
   "file_extension": ".py",
   "mimetype": "text/x-python",
   "name": "python",
   "nbconvert_exporter": "python",
   "pygments_lexer": "ipython3",
   "version": "3.7.6"
  },
  "toc": {
   "base_numbering": 1,
   "nav_menu": {},
   "number_sections": false,
   "sideBar": true,
   "skip_h1_title": false,
   "title_cell": "Table of Contents",
   "title_sidebar": "Contents",
   "toc_cell": false,
   "toc_position": {},
   "toc_section_display": true,
   "toc_window_display": false
  },
  "varInspector": {
   "cols": {
    "lenName": 16,
    "lenType": 16,
    "lenVar": 40
   },
   "kernels_config": {
    "python": {
     "delete_cmd_postfix": "",
     "delete_cmd_prefix": "del ",
     "library": "var_list.py",
     "varRefreshCmd": "print(var_dic_list())"
    },
    "r": {
     "delete_cmd_postfix": ") ",
     "delete_cmd_prefix": "rm(",
     "library": "var_list.r",
     "varRefreshCmd": "cat(var_dic_list()) "
    }
   },
   "types_to_exclude": [
    "module",
    "function",
    "builtin_function_or_method",
    "instance",
    "_Feature"
   ],
   "window_display": false
  }
 },
 "nbformat": 4,
 "nbformat_minor": 4
}
