{
 "cells": [
  {
   "cell_type": "markdown",
   "metadata": {},
   "source": [
    "![Fixel Algorithms](https://fixelalgorithms.co/images/CCExt.png)"
   ]
  },
  {
   "cell_type": "markdown",
   "metadata": {},
   "source": [
    "# <center> Machine Learning Methods </center>\n",
    "## <center> Lecture 3 - Discriminative Classification </center>\n",
    "### <center> K-Nearest Neighbors (K-NN)</center>"
   ]
  },
  {
   "cell_type": "markdown",
   "metadata": {},
   "source": [
    "[![Open In Colab](https://colab.research.google.com/assets/colab-badge.svg)](https://colab.research.google.com/github/FixelAlgorithmsTeam/FixelCourses/blob/master/MachineLearningMethod/03_DiscriminativeClassfication/MainKnnExample.ipynb)"
   ]
  },
  {
   "cell_type": "code",
   "execution_count": 1,
   "metadata": {},
   "outputs": [],
   "source": [
    "import numpy             as np\n",
    "import matplotlib.pyplot as plt\n",
    "import matplotlib\n",
    "\n",
    "matplotlib.rc('font', **{'size':16})"
   ]
  },
  {
   "cell_type": "markdown",
   "metadata": {},
   "source": [
    "### Generate data:"
   ]
  },
  {
   "cell_type": "code",
   "execution_count": 2,
   "metadata": {},
   "outputs": [],
   "source": [
    "N   = 250\n",
    "mX1 = np.random.rand(2, N) + np.array([[.6], [0]])\n",
    "mX2 = np.random.rand(2, N) \n",
    "vY1 = np.ones(N)\n",
    "vY2 = -np.ones(N)\n",
    "\n",
    "mX       = np.r_[mX1.T, mX2.T]\n",
    "vY       = np.concatenate([vY1, vY2])\n",
    "vIdx     = np.random.choice(2*N, 40)\n",
    "vY[vIdx] = vY[vIdx[::-1]]"
   ]
  },
  {
   "cell_type": "markdown",
   "metadata": {},
   "source": [
    "### Plot data:"
   ]
  },
  {
   "cell_type": "code",
   "execution_count": 3,
   "metadata": {},
   "outputs": [
    {
     "data": {
      "image/png": "[encoded data removed]",
      "text/plain": [
       "<Figure size 576x432 with 1 Axes>"
      ]
     },
     "metadata": {
      "needs_background": "light"
     },
     "output_type": "display_data"
    }
   ],
   "source": [
    "vIdx1 = vY == 1\n",
    "plt.figure(figsize=(8,6))\n",
    "plt.scatter(mX[~vIdx1,0], mX[~vIdx1,1],   color='b', label='$C_1$')\n",
    "plt.scatter(mX[vIdx1,0],  mX[vIdx1,1],    color='r', label='$C_0$')\n",
    "plt.legend()\n",
    "plt.axvline(x=0, color='k')\n",
    "plt.axhline(y=0, color='k')\n",
    "plt.axis([-.25, 2, -.25, 1.25])\n",
    "plt.show()"
   ]
  },
  {
   "cell_type": "markdown",
   "metadata": {},
   "source": [
    "### Train a K-NN Classifier:\n",
    "For $K=1$:\n",
    "$$\\hat{y}\\left(\\boldsymbol{x}\\right)=f_{\\text{1--NN}}\\left(\\boldsymbol{x}\\right)=y_{\\hat{i}\\left(\\boldsymbol{x}\\right)}$$\n",
    "where\n",
    "$$\\hat{i}\\left(\\boldsymbol{x}\\right)=\\arg\\min_{i}d\\left(\\boldsymbol{x},\\boldsymbol{x}_{i}\\right)$$"
   ]
  },
  {
   "cell_type": "code",
   "execution_count": 4,
   "metadata": {},
   "outputs": [],
   "source": [
    "from sklearn.neighbors import KNeighborsClassifier\n",
    "\n",
    "#-- make grid for plot:\n",
    "v0       = np.linspace(mX[:,0].min(), mX[:,0].max(), 150)\n",
    "v1       = np.linspace(mX[:,1].min(), mX[:,1].max(), 150)\n",
    "XX0, XX1 = np.meshgrid(v0, v1)\n",
    "XX       = np.c_[XX0.ravel(), XX1.ravel()]\n",
    "\n",
    "def PlotKnn(K):\n",
    "    #-- Train the linear SVM:\n",
    "    KnnClassifier = KNeighborsClassifier(n_neighbors=K).fit(mX, vY)\n",
    "    \n",
    "    #-- Plot classification:\n",
    "    plt.figure(figsize=(8, 8))\n",
    "    Z = KnnClassifier.predict(XX)\n",
    "    Z = Z.reshape(XX0.shape)\n",
    "\n",
    "    plt.contourf(XX0, XX1, Z, colors=['blue', 'red'], alpha=0.3)\n",
    "    plt.scatter(mX[~vIdx1,0], mX[~vIdx1,1], color='b', label='$C_1$')\n",
    "    plt.scatter(mX[vIdx1,0],  mX[vIdx1,1],  color='r', label='$C_0$')\n",
    "    plt.title('$K = ' + str(K) + '$')"
   ]
  },
  {
   "cell_type": "code",
   "execution_count": 5,
   "metadata": {},
   "outputs": [
    {
     "data": {
      "application/vnd.jupyter.widget-view+json": {
       "model_id": "8e4b2e00556a4eba9b387678815e2344",
       "version_major": 2,
       "version_minor": 0
      },
      "text/plain": [
       "interactive(children=(IntSlider(value=1, description='K', layout=Layout(width='80%'), max=9, min=1, step=2), O…"
      ]
     },
     "metadata": {},
     "output_type": "display_data"
    }
   ],
   "source": [
    "from ipywidgets import interact, IntSlider, Layout\n",
    "\n",
    "kSlider = IntSlider(min=1, max=9, step=2, value=1, layout=Layout(width='80%'))\n",
    "interact(PlotKnn, K=kSlider)\n",
    "plt.show()"
   ]
  },
  {
   "cell_type": "markdown",
   "metadata": {},
   "source": [
    "### Exercise:\n",
    "Train a K-NN classifier on the breast cancer data.  \n",
    "* What is the (train) accuracy when $K=1$?  "
   ]
  },
  {
   "cell_type": "code",
   "execution_count": 6,
   "metadata": {},
   "outputs": [],
   "source": [
    "from sklearn.datasets import load_breast_cancer\n",
    "\n",
    "dData = load_breast_cancer()\n",
    "mX    = dData.data\n",
    "vY    = dData.target"
   ]
  },
  {
   "cell_type": "code",
   "execution_count": 7,
   "metadata": {},
   "outputs": [
    {
     "data": {
      "text/plain": [
       "((569, 30), (569,))"
      ]
     },
     "execution_count": 7,
     "metadata": {},
     "output_type": "execute_result"
    }
   ],
   "source": [
    "#-- Normalize data:\n",
    "mX    = mX - np.mean(mX, axis=0)\n",
    "mX    = mX / np.std (mX, axis=0)\n",
    "\n",
    "mX.shape, vY.shape"
   ]
  },
  {
   "cell_type": "code",
   "execution_count": 8,
   "metadata": {},
   "outputs": [
    {
     "ename": "SyntaxError",
     "evalue": "invalid syntax (<ipython-input-8-7bf592cb943f>, line 1)",
     "output_type": "error",
     "traceback": [
      "\u001b[1;36m  File \u001b[1;32m\"<ipython-input-8-7bf592cb943f>\"\u001b[1;36m, line \u001b[1;32m1\u001b[0m\n\u001b[1;33m    KnnClassifier = ???\u001b[0m\n\u001b[1;37m                    ^\u001b[0m\n\u001b[1;31mSyntaxError\u001b[0m\u001b[1;31m:\u001b[0m invalid syntax\n"
     ]
    }
   ],
   "source": [
    "KnnClassifier = ???\n",
    "KnnClassifier.score(mX, vY)"
   ]
  },
  {
   "cell_type": "code",
   "execution_count": null,
   "metadata": {},
   "outputs": [],
   "source": []
  }
 ],
 "metadata": {
  "kernelspec": {
   "display_name": "Python 3",
   "language": "python",
   "name": "python3"
  },
  "language_info": {
   "codemirror_mode": {
    "name": "ipython",
    "version": 3
   },
   "file_extension": ".py",
   "mimetype": "text/x-python",
   "name": "python",
   "nbconvert_exporter": "python",
   "pygments_lexer": "ipython3",
   "version": "3.8.6"
  },
  "toc": {
   "base_numbering": 1,
   "nav_menu": {},
   "number_sections": false,
   "sideBar": true,
   "skip_h1_title": false,
   "title_cell": "Table of Contents",
   "title_sidebar": "Contents",
   "toc_cell": false,
   "toc_position": {},
   "toc_section_display": true,
   "toc_window_display": false
  },
  "varInspector": {
   "cols": {
    "lenName": 16,
    "lenType": 16,
    "lenVar": 40
   },
   "kernels_config": {
    "python": {
     "delete_cmd_postfix": "",
     "delete_cmd_prefix": "del ",
     "library": "var_list.py",
     "varRefreshCmd": "print(var_dic_list())"
    },
    "r": {
     "delete_cmd_postfix": ") ",
     "delete_cmd_prefix": "rm(",
     "library": "var_list.r",
     "varRefreshCmd": "cat(var_dic_list()) "
    }
   },
   "types_to_exclude": [
    "module",
    "function",
    "builtin_function_or_method",
    "instance",
    "_Feature"
   ],
   "window_display": false
  }
 },
 "nbformat": 4,
 "nbformat_minor": 4
}
