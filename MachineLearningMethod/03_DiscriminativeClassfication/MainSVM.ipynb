{
 "cells": [
  {
   "cell_type": "markdown",
   "metadata": {},
   "source": [
    "![Fixel Algorithms](https://fixelalgorithms.co/images/CCExt.png)"
   ]
  },
  {
   "cell_type": "markdown",
   "metadata": {},
   "source": [
    "# <center> Machine Learning Methods </center>\n",
    "## <center> Lecture 3 - Discriminative Classification </center>\n",
    "### <center> Support Vector Machine (SVM)</center>"
   ]
  },
  {
   "cell_type": "markdown",
   "metadata": {},
   "source": [
    "[![Open In Colab](https://colab.research.google.com/assets/colab-badge.svg)](https://colab.research.google.com/github/FixelAlgorithmsTeam/FixelCourses/blob/master/MachineLearningMethod/03_DiscriminativeClassfication/MainSVM.ipynb)"
   ]
  },
  {
   "cell_type": "code",
   "execution_count": 1,
   "metadata": {},
   "outputs": [],
   "source": [
    "import numpy             as np\n",
    "import matplotlib.pyplot as plt\n",
    "import matplotlib\n",
    "\n",
    "matplotlib.rc('font', **{'size':16})"
   ]
  },
  {
   "cell_type": "markdown",
   "metadata": {},
   "source": [
    "### Generate data:"
   ]
  },
  {
   "cell_type": "code",
   "execution_count": 2,
   "metadata": {},
   "outputs": [],
   "source": [
    "N1  = 250\n",
    "N2  = 200\n",
    "mX1 = np.random.rand(2, N1) - 1/2 + np.array([[2], [1/3]])\n",
    "mX2 = np.random.rand(2, N2) - 1/2 + np.array([[0], [1/3]])\n",
    "vY1 = np.ones(N1)\n",
    "vY2 = -np.ones(N2)\n",
    "\n",
    "mX1[:,-1] = [2/3, .2]\n",
    "mX        = np.r_[mX1.T, mX2.T]\n",
    "vY        = np.concatenate([vY1, vY2])"
   ]
  },
  {
   "cell_type": "markdown",
   "metadata": {},
   "source": [
    "### Plot"
   ]
  },
  {
   "cell_type": "code",
   "execution_count": 3,
   "metadata": {},
   "outputs": [
    {
     "data": {
      "image/png": "[encoded data removed]",
      "text/plain": [
       "<Figure size 576x432 with 1 Axes>"
      ]
     },
     "metadata": {
      "needs_background": "light"
     },
     "output_type": "display_data"
    }
   ],
   "source": [
    "vIdx1 = vY == 1\n",
    "plt.figure(figsize=(8,6))\n",
    "plt.scatter(mX[~vIdx1,0], mX[~vIdx1,1],   color='b', label='$C_1$')\n",
    "plt.scatter(mX[vIdx1,0],  mX[vIdx1,1],    color='r', label='$C_0$')\n",
    "plt.legend()\n",
    "plt.axvline(x=0, color='k')\n",
    "plt.axhline(y=0, color='k')\n",
    "vAxis = np.array([-.6, 2.7, -1/2, 1])\n",
    "plt.axis(vAxis)\n",
    "xlim  = vAxis[0:2]\n",
    "plt.show()"
   ]
  },
  {
   "cell_type": "markdown",
   "metadata": {},
   "source": [
    "### Train a SVM Classifier"
   ]
  },
  {
   "cell_type": "code",
   "execution_count": 4,
   "metadata": {},
   "outputs": [],
   "source": [
    "from sklearn.svm import SVC\n",
    "\n",
    "def PlotSVM(C):\n",
    "    if C == 0:\n",
    "        C = 1e-20\n",
    "\n",
    "    #-- Train the linear SVM:\n",
    "    SvmClassifier = SVC(C=C, kernel='linear').fit(mX, vY)\n",
    "    \n",
    "    #-- Get model params (only needed for the plot):\n",
    "    vW = SvmClassifier.coef_[0]\n",
    "    b  = -SvmClassifier.intercept_  \n",
    "    \n",
    "    plt.figure(figsize=(10, 6))\n",
    "    plt.scatter(mX[vIdx1,0],  mX[vIdx1,1],  color='r', label='$C_0$')\n",
    "    plt.scatter(mX[~vIdx1,0], mX[~vIdx1,1], color='b', label='$C_1$')\n",
    "#     plt.legend()\n",
    "    plt.axvline(x=0, color='k')\n",
    "    plt.axhline(y=0, color='k')\n",
    "    plt.plot(xlim, (b + 1 - vW[0] * xlim) / vW[1] , lw=4, color='orange', ls='--')\n",
    "    plt.plot(xlim, (b + 0 - vW[0] * xlim) / vW[1] , lw=4, color='orange', ls='-')\n",
    "    plt.plot(xlim, (b - 1 - vW[0] * xlim) / vW[1] , lw=4, color='orange', ls='--')\n",
    "    plt.axis(vAxis)\n",
    "    plt.title('$C = ' + str(C) + '$')"
   ]
  },
  {
   "cell_type": "markdown",
   "metadata": {},
   "source": [
    "### $$\\min_{\\boldsymbol{w},b}\\frac{1}{2}\\left\\Vert \\boldsymbol{w}\\right\\Vert ^{2}+C\\sum_{i}\\xi_{i}$$\n",
    "$$\\xi_{i}:=\\max\\left\\{ 0,1-y_{i}\\left(\\boldsymbol{w}^{T}\\boldsymbol{x}_{i}-b\\right)\\right\\} $$"
   ]
  },
  {
   "cell_type": "code",
   "execution_count": 5,
   "metadata": {},
   "outputs": [
    {
     "data": {
      "application/vnd.jupyter.widget-view+json": {
       "model_id": "125bcd35b0ed49aebea2a19f7459aa3f",
       "version_major": 2,
       "version_minor": 0
      },
      "text/plain": [
       "interactive(children=(FloatSlider(value=1.0, description='C', layout=Layout(width='80%'), step=1.0), Output())…"
      ]
     },
     "metadata": {},
     "output_type": "display_data"
    }
   ],
   "source": [
    "from ipywidgets import interact, FloatSlider, Layout\n",
    "\n",
    "cSlider = FloatSlider(min=0, max=100, step=1, value=1, layout=Layout(width='80%'))\n",
    "interact(PlotSVM, C=cSlider)\n",
    "plt.show()"
   ]
  },
  {
   "cell_type": "markdown",
   "metadata": {},
   "source": [
    "### Exercise:\n",
    "Train a linear SVM on the breast cancer data.  \n",
    "* What is the best accuracy on the training data?  \n",
    "* What is the optimal value of $C$?  "
   ]
  },
  {
   "cell_type": "code",
   "execution_count": null,
   "metadata": {},
   "outputs": [],
   "source": []
  }
 ],
 "metadata": {
  "kernelspec": {
   "display_name": "Python 3",
   "language": "python",
   "name": "python3"
  },
  "language_info": {
   "codemirror_mode": {
    "name": "ipython",
    "version": 3
   },
   "file_extension": ".py",
   "mimetype": "text/x-python",
   "name": "python",
   "nbconvert_exporter": "python",
   "pygments_lexer": "ipython3",
   "version": "3.7.8"
  },
  "toc": {
   "base_numbering": 1,
   "nav_menu": {},
   "number_sections": false,
   "sideBar": true,
   "skip_h1_title": false,
   "title_cell": "Table of Contents",
   "title_sidebar": "Contents",
   "toc_cell": false,
   "toc_position": {},
   "toc_section_display": true,
   "toc_window_display": false
  },
  "varInspector": {
   "cols": {
    "lenName": 16,
    "lenType": 16,
    "lenVar": 40
   },
   "kernels_config": {
    "python": {
     "delete_cmd_postfix": "",
     "delete_cmd_prefix": "del ",
     "library": "var_list.py",
     "varRefreshCmd": "print(var_dic_list())"
    },
    "r": {
     "delete_cmd_postfix": ") ",
     "delete_cmd_prefix": "rm(",
     "library": "var_list.r",
     "varRefreshCmd": "cat(var_dic_list()) "
    }
   },
   "types_to_exclude": [
    "module",
    "function",
    "builtin_function_or_method",
    "instance",
    "_Feature"
   ],
   "window_display": false
  }
 },
 "nbformat": 4,
 "nbformat_minor": 4
}
