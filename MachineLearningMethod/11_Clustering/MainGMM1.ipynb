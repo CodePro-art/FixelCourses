{
 "cells": [
  {
   "cell_type": "markdown",
   "metadata": {},
   "source": [
    "![Fixel Algorithms](https://fixelalgorithms.co/images/CCExt.png)"
   ]
  },
  {
   "cell_type": "markdown",
   "metadata": {},
   "source": [
    "# <center> Machine Learning Methods </center>\n",
    "## <center> Lecture 11 - Clustering</center>\n",
    "### <center> Gaussian Mixture Model (GMM)</center>"
   ]
  },
  {
   "cell_type": "markdown",
   "metadata": {},
   "source": [
    "[![Open In Colab](https://colab.research.google.com/assets/colab-badge.svg)](https://colab.research.google.com/github/FixelAlgorithmsTeam/FixelCourses/blob/master/MachineLearningMethod/11_Clustering/MainGMM1.ipynb)"
   ]
  },
  {
   "cell_type": "code",
   "execution_count": 1,
   "metadata": {},
   "outputs": [],
   "source": [
    "import numpy             as np\n",
    "import matplotlib.pyplot as plt\n",
    "import matplotlib\n",
    "\n",
    "matplotlib.rc('font', **{'size' : 16})\n",
    "\n",
    "np.random.seed(2)"
   ]
  },
  {
   "cell_type": "markdown",
   "metadata": {},
   "source": [
    "### Generate some data:"
   ]
  },
  {
   "cell_type": "code",
   "execution_count": 2,
   "metadata": {},
   "outputs": [
    {
     "data": {
      "image/png": "[encoded data removed]",
      "text/plain": [
       "<Figure size 432x360 with 1 Axes>"
      ]
     },
     "metadata": {
      "needs_background": "light"
     },
     "output_type": "display_data"
    }
   ],
   "source": [
    "N1  = 250\n",
    "N2  = 50\n",
    "N   = N1 + N2\n",
    "mX1 = np.random.randn(N1, 2)\n",
    "mX2 = np.random.randn(N2, 2) / 4 + [3, 0]\n",
    "mX  = np.r_[mX1, mX2]\n",
    "\n",
    "plt.figure(figsize=(6,5))\n",
    "plt.scatter(mX[:,0], mX[:,1], s=50, edgecolors='k', color='b')\n",
    "plt.axis('equal')\n",
    "plt.axis('tight')\n",
    "vAxis = plt.axis()\n",
    "plt.show()"
   ]
  },
  {
   "cell_type": "markdown",
   "metadata": {},
   "source": [
    "### A simple implementation of the GMM algorithm:"
   ]
  },
  {
   "cell_type": "code",
   "execution_count": 3,
   "metadata": {},
   "outputs": [],
   "source": [
    "import scipy.stats\n",
    "import scipy       as sp\n",
    "\n",
    "#-- N(x; mu, sig^2):\n",
    "def Pz(x, w, vMu, mSig):\n",
    "    return w * sp.stats.multivariate_normal.pdf(x, vMu, mSig)\n",
    "\n",
    "def EstimateGmmParams(mX, vW, mMu, mSig):\n",
    "\n",
    "    lMu     = [mMu.copy()]\n",
    "    lW      = [vW.copy()]\n",
    "    lSig    = [mSig.copy()]\n",
    "    numIter = 30\n",
    "    for ii in range(numIter):\n",
    "        #-- Step 1, estimate probabilites:\n",
    "        Px1  = Pz(mX, vW0[0], mMu0[:,0], mSig0[:,:,0])\n",
    "        Px2  = Pz(mX, vW0[1], mMu0[:,1], mSig0[:,:,1])\n",
    "        vSum = Px1 + Px2\n",
    "        Px1  = Px1 / vSum\n",
    "        Px2  = Px2 / vSum\n",
    "\n",
    "        #-- Step 2, estimate params:\n",
    "        N1          = np.sum(Px1)\n",
    "        N2          = np.sum(Px2)\n",
    "        vW[0]       = N1 / N\n",
    "        vW[1]       = N2 / N\n",
    "        mMu[:,0]    = np.sum(Px1[:,None] * mX, axis=0) / N1\n",
    "        mMu[:,1]    = np.sum(Px2[:,None] * mX, axis=0) / N2\n",
    "        mSig[:,:,0] = (Px1[:,None] * (mX - mMu0[:,0])).T @ (mX - mMu0[:,0]) / N1\n",
    "        mSig[:,:,1] = (Px2[:,None] * (mX - mMu0[:,1])).T @ (mX - mMu0[:,1]) / N2\n",
    "\n",
    "        lW.append(vW.copy())    \n",
    "        lMu.append(mMu.copy())    \n",
    "        lSig.append(mSig.copy())\n",
    "        \n",
    "    return lW, lMu, lSig"
   ]
  },
  {
   "cell_type": "code",
   "execution_count": 4,
   "metadata": {},
   "outputs": [],
   "source": [
    "vMu1   = [-1.0, 0.0]\n",
    "vMu2   = [2.0, -1.0]\n",
    "mSig1  = np.eye(2)\n",
    "mSig2  = np.eye(2)\n",
    "w1     = 1/2\n",
    "w2     = 1/2\n",
    "\n",
    "vW0     = np.r_[w1, w2]\n",
    "mMu0    = np.c_[vMu1, vMu2]\n",
    "mSig0   = np.dstack((mSig1, mSig2))\n",
    "\n",
    "lW, lMu, lSig = EstimateGmmParams(mX, vW0, mMu0, mSig0)"
   ]
  },
  {
   "cell_type": "code",
   "execution_count": 5,
   "metadata": {},
   "outputs": [],
   "source": [
    "def PlotGMM(mX, lW, lMu, lSig, vAxis, iteration):\n",
    "    \n",
    "    x1       = np.linspace(vAxis[0], vAxis[1])\n",
    "    x2       = np.linspace(vAxis[2], vAxis[3])\n",
    "    XX1, XX2 = np.meshgrid(x1, x2)\n",
    "    XX       = np.c_[XX1.ravel(), XX2.ravel()]\n",
    "    \n",
    "    mMu  = lMu[iteration]\n",
    "    mSig = lSig[iteration]\n",
    "    vW   = lW[iteration]\n",
    "    \n",
    "    Px1  = Pz(mX, vW[0], mMu[:,0], mSig[:,:,0])\n",
    "    Px2  = Pz(mX, vW[1], mMu[:,1], mSig[:,:,1])\n",
    "    vIdx = Px1 > Px2\n",
    "    mP1  = np.reshape(Pz(XX, vW[0], mMu[:,0], mSig[:,:,0]), XX1.shape)\n",
    "    mP2  = np.reshape(Pz(XX, vW[1], mMu[:,1], mSig[:,:,1]), XX1.shape)\n",
    "    \n",
    "    fig = plt.figure(figsize=(6,5))\n",
    "    plt.scatter(mX[:,0], mX[:,1], s=50, edgecolors='k', c=vIdx)\n",
    "    plt.plot(mMu[0,:], mMu[1,:], '.r', markersize=20)\n",
    "    plt.contour(XX1, XX2, mP1, colors='orange', levels=3)\n",
    "    plt.contour(XX1, XX2, mP2, colors='cyan', levels=3)\n",
    "    plt.axis('equal')\n",
    "#     plt.axis([-12, 8, -12, 8])\n",
    "    "
   ]
  },
  {
   "cell_type": "code",
   "execution_count": 6,
   "metadata": {},
   "outputs": [
    {
     "data": {
      "application/vnd.jupyter.widget-view+json": {
       "model_id": "76eb60557c524f5096d04c5ff8c79cc7",
       "version_major": 2,
       "version_minor": 0
      },
      "text/plain": [
       "interactive(children=(IntSlider(value=0, description='iteration', layout=Layout(width='80%'), max=30), Output(…"
      ]
     },
     "metadata": {},
     "output_type": "display_data"
    }
   ],
   "source": [
    "from ipywidgets import interact, IntSlider, Layout\n",
    "\n",
    "PlotAux    = lambda iteration: PlotGMM(mX, lW, lMu, lSig, vAxis, iteration)\n",
    "iterSlider = IntSlider(min=0, max=30, step=1, value=0, layout=Layout(width='80%'))\n",
    "interact(PlotAux, iteration=iterSlider)\n",
    "plt.show()"
   ]
  },
  {
   "cell_type": "markdown",
   "metadata": {},
   "source": [
    "### Trying a different dataset:"
   ]
  },
  {
   "cell_type": "code",
   "execution_count": 7,
   "metadata": {},
   "outputs": [
    {
     "data": {
      "image/png": "[encoded data removed]",
      "text/plain": [
       "<Figure size 432x360 with 1 Axes>"
      ]
     },
     "metadata": {
      "needs_background": "light"
     },
     "output_type": "display_data"
    }
   ],
   "source": [
    "N1   = 200\n",
    "N2   = 200\n",
    "N    = N1 + N2\n",
    "mSig = np.array([[1, 0], [0, 4]])\n",
    "mX1  = np.random.randn(N1, 2) @ mSig\n",
    "mX2  = np.random.randn(N2, 2) @ mSig + [6, 0]\n",
    "mX   = np.r_[mX1, mX2]\n",
    "\n",
    "plt.figure(figsize=(6,5))\n",
    "plt.scatter(mX[:,0], mX[:,1], s=50, edgecolors='k', color='b')\n",
    "plt.axis('equal')\n",
    "plt.axis('tight')\n",
    "vAxis = plt.axis()\n",
    "plt.show()"
   ]
  },
  {
   "cell_type": "code",
   "execution_count": 8,
   "metadata": {},
   "outputs": [],
   "source": [
    "vMu1  = [-0.2, 5.0]\n",
    "vMu2  = [0.2,  6.0]\n",
    "mSig1 = np.eye(2)\n",
    "mSig2 = np.eye(2)\n",
    "w1    = 1/2\n",
    "w2    = 1/2\n",
    "\n",
    "vW0     = np.r_[w1, w2]\n",
    "mMu0    = np.c_[vMu1, vMu2]\n",
    "mSig0   = np.dstack((mSig1, mSig2))\n",
    "\n",
    "lW, lMu, lSig = EstimateGmmParams(mX, vW0, mMu0, mSig0)"
   ]
  },
  {
   "cell_type": "code",
   "execution_count": 9,
   "metadata": {},
   "outputs": [
    {
     "data": {
      "application/vnd.jupyter.widget-view+json": {
       "model_id": "e37a48f8f46649b48a017e4ee645f438",
       "version_major": 2,
       "version_minor": 0
      },
      "text/plain": [
       "interactive(children=(IntSlider(value=0, description='iteration', layout=Layout(width='80%'), max=30), Output(…"
      ]
     },
     "metadata": {},
     "output_type": "display_data"
    }
   ],
   "source": [
    "PlotAux    = lambda iteration: PlotGMM(mX, lW, lMu, lSig, vAxis, iteration)\n",
    "iterSlider = IntSlider(min=0, max=30, step=1, value=0, layout=Layout(width='80%'))\n",
    "interact(PlotAux, iteration=iterSlider)\n",
    "plt.show()"
   ]
  },
  {
   "cell_type": "markdown",
   "metadata": {},
   "source": [
    "### Sk-learm GMM:"
   ]
  },
  {
   "cell_type": "code",
   "execution_count": null,
   "metadata": {},
   "outputs": [],
   "source": [
    "from sklearn.mixture import GaussianMixture\n",
    "\n",
    "vIdx = GaussianMixture(n_components=2, n_init=10).fit_predict(mX)\n",
    "\n",
    "fig = plt.figure(figsize=(6,5))\n",
    "plt.scatter(mX[:,0], mX[:,1], s=50, edgecolors='k', c=vIdx)\n",
    "plt.axis('equal')\n",
    "plt.show()"
   ]
  },
  {
   "cell_type": "code",
   "execution_count": null,
   "metadata": {},
   "outputs": [],
   "source": []
  }
 ],
 "metadata": {
  "kernelspec": {
   "display_name": "Python 3",
   "language": "python",
   "name": "python3"
  },
  "language_info": {
   "codemirror_mode": {
    "name": "ipython",
    "version": 3
   },
   "file_extension": ".py",
   "mimetype": "text/x-python",
   "name": "python",
   "nbconvert_exporter": "python",
   "pygments_lexer": "ipython3",
   "version": "3.7.8"
  },
  "toc": {
   "base_numbering": 1,
   "nav_menu": {},
   "number_sections": false,
   "sideBar": true,
   "skip_h1_title": false,
   "title_cell": "Table of Contents",
   "title_sidebar": "Contents",
   "toc_cell": false,
   "toc_position": {},
   "toc_section_display": true,
   "toc_window_display": false
  },
  "varInspector": {
   "cols": {
    "lenName": 16,
    "lenType": 16,
    "lenVar": 40
   },
   "kernels_config": {
    "python": {
     "delete_cmd_postfix": "",
     "delete_cmd_prefix": "del ",
     "library": "var_list.py",
     "varRefreshCmd": "print(var_dic_list())"
    },
    "r": {
     "delete_cmd_postfix": ") ",
     "delete_cmd_prefix": "rm(",
     "library": "var_list.r",
     "varRefreshCmd": "cat(var_dic_list()) "
    }
   },
   "types_to_exclude": [
    "module",
    "function",
    "builtin_function_or_method",
    "instance",
    "_Feature"
   ],
   "window_display": false
  }
 },
 "nbformat": 4,
 "nbformat_minor": 4
}
