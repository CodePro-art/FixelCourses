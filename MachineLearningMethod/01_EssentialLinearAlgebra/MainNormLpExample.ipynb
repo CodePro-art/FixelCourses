{
 "cells": [
  {
   "cell_type": "markdown",
   "metadata": {},
   "source": [
    "![Fixel Algorithms](https://fixelalgorithms.co/images/CCExt.png)"
   ]
  },
  {
   "cell_type": "markdown",
   "metadata": {},
   "source": [
    "# <center> Machine Learning Methods </center>\n",
    "## <center> Lecture 1 - Essential Linear Algebra </center>\n",
    "### <center> $L^p$ norm example</center>"
   ]
  },
  {
   "cell_type": "markdown",
   "metadata": {},
   "source": [
    "[![Open In Colab](https://colab.research.google.com/assets/colab-badge.svg)](https://colab.research.google.com/github/FixelAlgorithmsTeam/FixelCourses/blob/master/MachineLearningMethod/01_EssentialLinearAlgebra/MainNormLpExample.ipynb)"
   ]
  },
  {
   "cell_type": "code",
   "execution_count": 1,
   "metadata": {},
   "outputs": [],
   "source": [
    "import numpy             as np\n",
    "import matplotlib.pyplot as plt\n",
    "import matplotlib\n",
    "\n",
    "matplotlib.rc('font', **{'size': 16})"
   ]
  },
  {
   "cell_type": "code",
   "execution_count": 2,
   "metadata": {},
   "outputs": [],
   "source": [
    "#-- make grid for plot:\n",
    "v0       = np.linspace(-1.25, 1.25, 250)\n",
    "XX0, XX1 = np.meshgrid(v0, v0)\n",
    "XX       = np.c_[XX0.ravel(), XX1.ravel()]\n",
    "\n",
    "def PlotNormLp(p = 2):\n",
    "    if p >= 5:\n",
    "        p = np.Inf\n",
    "    \n",
    "    #-- Compute Lp norm:\n",
    "    Z = np.sum(np.abs(XX)**p, axis=1) < 1**p\n",
    "    Z = Z.reshape(XX0.shape)\n",
    "    \n",
    "    \n",
    "    #-- Plot related stuff:\n",
    "    #-- color:\n",
    "    if p >= 1:\n",
    "        color = (0,.75,.75)\n",
    "    else:\n",
    "        color = (.75,0,0)\n",
    "    \n",
    "    #-- title:\n",
    "    if np.isinf(p):\n",
    "        pStr = '\\infty'\n",
    "    else:\n",
    "        pStr = str(p)\n",
    "    if p % 1 < 0.01:\n",
    "        pStr = pStr[0] #-- round integer\n",
    "\n",
    "    #-- plot:\n",
    "    plt.figure(figsize=(6,6))\n",
    "    plt.grid(True, which='both', linestyle='--', linewidth=.3)\n",
    "    plt.axhline(y=0, color='k', linewidth=3)\n",
    "    plt.axvline(x=0, color='k', linewidth=3)\n",
    "    plt.contourf(XX0, XX1, 2*Z-1, colors=[(1,1,1), color], alpha=0.75)\n",
    "    plt.title(r'$||x||_{' + pStr + '}\\leq 1$', fontsize = 30)\n",
    "    plt.xlabel('$x_1$')\n",
    "    plt.ylabel('$x_2$')"
   ]
  },
  {
   "cell_type": "markdown",
   "metadata": {},
   "source": [
    "$$\\left\\Vert \\boldsymbol{x}\\right\\Vert _{p}^{p}=\\sum_{i=1}^{d}\\left|\\boldsymbol{x}\\left[i\\right]\\right|^{p}$$"
   ]
  },
  {
   "cell_type": "code",
   "execution_count": 3,
   "metadata": {},
   "outputs": [
    {
     "data": {
      "application/vnd.jupyter.widget-view+json": {
       "model_id": "530b789ca4bb40a6af62b2ed9f858811",
       "version_major": 2,
       "version_minor": 0
      },
      "text/plain": [
       "interactive(children=(FloatSlider(value=2.0, description='p', layout=Layout(width='80%'), max=5.0, min=0.25, s…"
      ]
     },
     "metadata": {},
     "output_type": "display_data"
    }
   ],
   "source": [
    "from ipywidgets import interact, FloatSlider, Layout\n",
    "\n",
    "interact(PlotNormLp, p=FloatSlider(min=.25, max=5, step=.25, value=2, layout=Layout(width='80%')))\n",
    "plt.show()"
   ]
  }
 ],
 "metadata": {
  "kernelspec": {
   "display_name": "Python 3",
   "language": "python",
   "name": "python3"
  },
  "language_info": {
   "codemirror_mode": {
    "name": "ipython",
    "version": 3
   },
   "file_extension": ".py",
   "mimetype": "text/x-python",
   "name": "python",
   "nbconvert_exporter": "python",
   "pygments_lexer": "ipython3",
   "version": "3.7.6"
  },
  "toc": {
   "base_numbering": 1,
   "nav_menu": {},
   "number_sections": false,
   "sideBar": true,
   "skip_h1_title": false,
   "title_cell": "Table of Contents",
   "title_sidebar": "Contents",
   "toc_cell": false,
   "toc_position": {},
   "toc_section_display": true,
   "toc_window_display": false
  },
  "varInspector": {
   "cols": {
    "lenName": 16,
    "lenType": 16,
    "lenVar": 40
   },
   "kernels_config": {
    "python": {
     "delete_cmd_postfix": "",
     "delete_cmd_prefix": "del ",
     "library": "var_list.py",
     "varRefreshCmd": "print(var_dic_list())"
    },
    "r": {
     "delete_cmd_postfix": ") ",
     "delete_cmd_prefix": "rm(",
     "library": "var_list.r",
     "varRefreshCmd": "cat(var_dic_list()) "
    }
   },
   "types_to_exclude": [
    "module",
    "function",
    "builtin_function_or_method",
    "instance",
    "_Feature"
   ],
   "window_display": false
  }
 },
 "nbformat": 4,
 "nbformat_minor": 4
}
