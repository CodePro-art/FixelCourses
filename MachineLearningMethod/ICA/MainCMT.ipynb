{
 "cells": [
  {
   "cell_type": "markdown",
   "metadata": {},
   "source": [
    "![Fixel Algorithms](https://fixelalgorithms.co/images/CCExt.png)"
   ]
  },
  {
   "cell_type": "markdown",
   "metadata": {},
   "source": [
    "# <center> Machine Learning Methods </center>\n",
    "## <center> Lecture 31 - ICA </center>\n",
    "### <center> CMT </center>"
   ]
  },
  {
   "cell_type": "markdown",
   "metadata": {},
   "source": [
    "[![Open In Colab](https://colab.research.google.com/assets/colab-badge.svg)](https://colab.research.google.com/github/FixelAlgorithmsTeam/FixelCourses/blob/master/MachineLearningMethod/ICA/MainCMT.ipynb)"
   ]
  },
  {
   "cell_type": "code",
   "execution_count": 1,
   "metadata": {},
   "outputs": [
    {
     "data": {
      "text/html": [
       "<style>.container { width:80% !important; }</style>"
      ],
      "text/plain": [
       "<IPython.core.display.HTML object>"
      ]
     },
     "metadata": {},
     "output_type": "display_data"
    }
   ],
   "source": [
    "from IPython.core.display import display, HTML\n",
    "display(HTML(\"<style>.container { width:80% !important; }</style>\"))"
   ]
  },
  {
   "cell_type": "code",
   "execution_count": 2,
   "metadata": {},
   "outputs": [],
   "source": [
    "import numpy             as np\n",
    "import matplotlib.pyplot as plt\n",
    "import matplotlib\n",
    "\n",
    "matplotlib.rc('font', **{'size' : 16})\n",
    "# np.random.seed(1)"
   ]
  },
  {
   "cell_type": "markdown",
   "metadata": {},
   "source": [
    "Consider the data $\\left\\{ Y_{i}\\right\\} _{i=1}^{N}$.  \n",
    "* Sample mean:\n",
    "$$\\overline{Y}:=\\frac{1}{N}\\sum_{i=1}^{N}Y_{i}$$\n",
    "* Normalized mean:\n",
    "$$\\tilde{Y}:=\\frac{\\overline{Y}-\\mu_{\\overline{Y}}}{\\sigma_{\\overline{Y}}}$$"
   ]
  },
  {
   "cell_type": "markdown",
   "metadata": {},
   "source": [
    "### CMT:"
   ]
  },
  {
   "cell_type": "code",
   "execution_count": 3,
   "metadata": {},
   "outputs": [
    {
     "data": {
      "application/vnd.jupyter.widget-view+json": {
       "model_id": "4c53d03740ff4d84afe1f241f2225b52",
       "version_major": 2,
       "version_minor": 0
      },
      "text/plain": [
       "interactive(children=(IntSlider(value=1, description='N', layout=Layout(width='80%'), max=500, min=1), Output(…"
      ]
     },
     "metadata": {},
     "output_type": "display_data"
    }
   ],
   "source": [
    "from scipy.stats import norm\n",
    "from ipywidgets  import interact, IntSlider, Layout\n",
    "\n",
    "M  = 1000\n",
    "mY = np.random.binomial(10, .1, size=(1000, M))\n",
    "def PlotCMT(N):\n",
    "    vY  = mY[:N,:].mean(axis=0)\n",
    "    vY -= vY.mean()\n",
    "    vY /= vY.std()\n",
    "    \n",
    "    x   = np.linspace(-4, 4, 10001)\n",
    "    vP  = norm.pdf(x)\n",
    "    plt.figure(figsize=(12, 6))\n",
    "    plt.hist  (vY, bins=40, density=True, color='b', edgecolor='k', alpha=.5, label=r'$\\tilde{Y}:=\\frac{\\overline{Y}-\\mu_{\\overline{Y}}}{\\sigma_{\\overline{Y}}}$')\n",
    "    plt.plot  (x, vP, '--r', lw=3,                                            label=r'$\\mathcal{N}\\left(x;0,1\\right)$')\n",
    "    plt.title (f'{M} realizations from $\\\\tilde{{Y}}$\\nN={N}')\n",
    "    plt.xlabel('$x$')\n",
    "    plt.ylim  ([0, 1])\n",
    "    plt.legend()\n",
    "    plt.show  ()\n",
    "    \n",
    "\n",
    "nSlider = IntSlider(min=1, max=500, step=1, value=1, layout=Layout(width='80%'))\n",
    "interact(PlotCMT, N=nSlider);"
   ]
  },
  {
   "cell_type": "markdown",
   "metadata": {},
   "source": [
    "### Plot Gaussianity:"
   ]
  },
  {
   "cell_type": "code",
   "execution_count": 4,
   "metadata": {},
   "outputs": [],
   "source": [
    "N  = 1000\n",
    "mS = np.random.rand(2, N)"
   ]
  },
  {
   "cell_type": "code",
   "execution_count": 5,
   "metadata": {},
   "outputs": [
    {
     "data": {
      "application/vnd.jupyter.widget-view+json": {
       "model_id": "dbf5740ec1eb43fe99b29eab583818fd",
       "version_major": 2,
       "version_minor": 0
      },
      "text/plain": [
       "interactive(children=(FloatSlider(value=0.7853981633974483, description='θ', layout=Layout(width='80%'), max=6…"
      ]
     },
     "metadata": {},
     "output_type": "display_data"
    }
   ],
   "source": [
    "from sklearn.neighbors import KernelDensity\n",
    "from ipywidgets        import interact, FloatSlider, Layout\n",
    "\n",
    "def PlotGaussianity(θ):\n",
    "    mR = np.array([[np.cos(θ), -np.sin(θ)], \n",
    "                   [np.sin(θ),  np.cos(θ)]])\n",
    "\n",
    "    mX        = mR @ mS\n",
    "    mX       -= mX.mean(axis=1)[:,None]\n",
    "    mU, vS, _ = np.linalg.svd(mX / np.sqrt(N), full_matrices=False)\n",
    "    mZ        = mU @ (mU.T @ mX / vS[:,None])\n",
    "\n",
    "    x     = np.linspace(-3, 3, 1001)\n",
    "    oKDE1 = KernelDensity(bandwidth=.12).fit(mZ[0:1,:].T)\n",
    "    oKDE2 = KernelDensity(bandwidth=.12).fit(mZ[1:, :].T)\n",
    "    vP1   = np.exp(oKDE1.score_samples(x[:,None]).squeeze())\n",
    "    vP2   = np.exp(oKDE2.score_samples(x[:,None]).squeeze())\n",
    "    vPz   = norm.pdf(x)\n",
    "   \n",
    "    _, vAxes = plt.subplots(1, 3, figsize=(20, 5))\n",
    "    vAxes[0].scatter   (mZ[0,:], mZ[1,:], s=50, color=[0,1,0], edgecolor='k')\n",
    "    vAxes[0].axis      ('equal')\n",
    "    vAxes[0].set_xlabel('$Z_1$')\n",
    "    vAxes[0].set_ylabel('$Z_2$')\n",
    "\n",
    "    vAxes[1].hist      (mZ[0,:], bins=40, density=True, color='b', edgecolor='k', alpha=.25, label=r'$X_1$')\n",
    "    vAxes[1].plot      (x, vP1, 'b',    lw=3, label=r'$KDE(Z_1)$')\n",
    "    vAxes[1].plot      (x, vPz,  '--r', lw=2, label=r'$\\mathcal{N}\\left(z;0,1\\right)$')\n",
    "    vAxes[1].set_xlabel('$Z_1$')\n",
    "    vAxes[1].legend    (fontsize=12)\n",
    "\n",
    "    vAxes[2].hist      (mZ[1,:], bins=40, density=True, color='b', edgecolor='k', alpha=.25, label=r'$X_2$')\n",
    "    vAxes[2].plot      (x, vP2, 'b',   lw=3, label=r'$KDE(Z_2)$')\n",
    "    vAxes[2].plot      (x, vPz,  '--r', lw=2, label=r'$\\mathcal{N}\\left(z;0,1\\right)$')\n",
    "    vAxes[2].set_xlabel('$Z_2$')\n",
    "    vAxes[2].legend    (fontsize=12)\n",
    "    plt.show           ()\n",
    "\n",
    "θSlider = FloatSlider(min=0, max=2*np.pi, step=np.pi/20, value=np.pi/4, layout=Layout(width='80%'))\n",
    "interact(PlotGaussianity, θ=θSlider);"
   ]
  },
  {
   "cell_type": "code",
   "execution_count": null,
   "metadata": {},
   "outputs": [],
   "source": []
  }
 ],
 "metadata": {
  "kernelspec": {
   "display_name": "Python 3 (ipykernel)",
   "language": "python",
   "name": "python3"
  },
  "language_info": {
   "codemirror_mode": {
    "name": "ipython",
    "version": 3
   },
   "file_extension": ".py",
   "mimetype": "text/x-python",
   "name": "python",
   "nbconvert_exporter": "python",
   "pygments_lexer": "ipython3",
   "version": "3.8.10"
  },
  "toc": {
   "base_numbering": 1,
   "nav_menu": {},
   "number_sections": true,
   "sideBar": true,
   "skip_h1_title": false,
   "title_cell": "Table of Contents",
   "title_sidebar": "Contents",
   "toc_cell": false,
   "toc_position": {},
   "toc_section_display": true,
   "toc_window_display": false
  },
  "varInspector": {
   "cols": {
    "lenName": 16,
    "lenType": 16,
    "lenVar": 40
   },
   "kernels_config": {
    "python": {
     "delete_cmd_postfix": "",
     "delete_cmd_prefix": "del ",
     "library": "var_list.py",
     "varRefreshCmd": "print(var_dic_list())"
    },
    "r": {
     "delete_cmd_postfix": ") ",
     "delete_cmd_prefix": "rm(",
     "library": "var_list.r",
     "varRefreshCmd": "cat(var_dic_list()) "
    }
   },
   "types_to_exclude": [
    "module",
    "function",
    "builtin_function_or_method",
    "instance",
    "_Feature"
   ],
   "window_display": false
  }
 },
 "nbformat": 4,
 "nbformat_minor": 4
}
