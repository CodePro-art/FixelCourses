{
 "cells": [
  {
   "cell_type": "markdown",
   "metadata": {},
   "source": [
    "![Fixel Algorithms](https://fixelalgorithms.co/images/CCExt.png)"
   ]
  },
  {
   "cell_type": "markdown",
   "metadata": {},
   "source": [
    "# <center> Machine Learning Methods </center>\n",
    "## <center> Lecture 10 - Regression</center>\n",
    "### <center> Polyfit Regression</center>"
   ]
  },
  {
   "cell_type": "markdown",
   "metadata": {},
   "source": [
    "[![Open In Colab](https://colab.research.google.com/assets/colab-badge.svg)](https://colab.research.google.com/github/FixelAlgorithmsTeam/FixelCourses/blob/master/MachineLearningMethod/10_Regression/MainPolyfit.ipynb)"
   ]
  },
  {
   "cell_type": "code",
   "execution_count": 1,
   "metadata": {},
   "outputs": [],
   "source": [
    "import numpy             as np\n",
    "import matplotlib.pyplot as plt\n",
    "import matplotlib\n",
    "\n",
    "matplotlib.rc('font', **{'size' : 16})\n",
    "\n",
    "np.random.seed(1)"
   ]
  },
  {
   "cell_type": "markdown",
   "metadata": {},
   "source": [
    "###  Generate some data:"
   ]
  },
  {
   "cell_type": "markdown",
   "metadata": {},
   "source": [
    "$$y_{i}=f\\left(x_{i}\\right)+\\epsilon_{i}$$\n",
    "where:\n",
    "$$f\\left(x\\right)=\\frac{2}{3}x^{2}+2x+5$$"
   ]
  },
  {
   "cell_type": "code",
   "execution_count": 2,
   "metadata": {},
   "outputs": [
    {
     "data": {
      "image/png": "[encoded data removed]",
      "text/plain": [
       "<Figure size 432x288 with 1 Axes>"
      ]
     },
     "metadata": {
      "needs_background": "light"
     },
     "output_type": "display_data"
    }
   ],
   "source": [
    "def f(vX):\n",
    "    return 2/3*vX**2 + 2*vX + 5\n",
    "\n",
    "N  = 30\n",
    "vX = np.linspace(-2, 2, N, endpoint=True) + np.random.randn(N) / 20   \n",
    "vY = f(vX) + np.random.randn(N) / 3\n",
    "\n",
    "#-- Plot:\n",
    "plt.figure()\n",
    "plt.plot  (vX, vY, '.r', ms=10, label=r'$y_i = \\frac{2}{3}x_i^2 + 2x_i + 5 + \\epsilon_i$')\n",
    "plt.xlabel('$x$')\n",
    "plt.legend()\n",
    "plt.grid  ()\n",
    "lAxis = plt.axis()"
   ]
  },
  {
   "cell_type": "markdown",
   "metadata": {},
   "source": [
    "### Plot Polyfit:\n",
    "$$\\arg\\min_{\\boldsymbol{w}}\\left\\Vert \\boldsymbol{y}-\\boldsymbol{\\Phi}\\boldsymbol{w}\\right\\Vert _{2}^{2}$$\n",
    "where:\n",
    "$$\\boldsymbol{\\Phi}=\\left[\\begin{matrix}1 & x_{1} & x_{1}^{2} & \\cdots & x_{1}^{P}\\\\\n",
    "1 & x_{2} & x_{2}^{2} & \\cdots & x_{2}^{P}\\\\\n",
    "\\vdots & \\vdots & \\vdots &  & \\vdots\\\\\n",
    "1 & x_{N} & x_{N}^{2} & \\cdots & x_{N}^{P}\n",
    "\\end{matrix}\\right]$$"
   ]
  },
  {
   "cell_type": "code",
   "execution_count": 3,
   "metadata": {},
   "outputs": [],
   "source": [
    "def PlotPolyfit(P=1):\n",
    "\n",
    "    #-- Polyfit:\n",
    "    vW    = np.polyfit(vX, vY, P)\n",
    "    \n",
    "    #-- MSE:\n",
    "    vHatY = np.polyval(vW, vX)\n",
    "    MSE   = np.linalg.norm(vY - vHatY)**2 / N\n",
    "    \n",
    "    #-- Plot:\n",
    "    xx  = np.linspace(lAxis[0], lAxis[1], 1001)\n",
    "    yy  = np.polyval(vW, xx)\n",
    "\n",
    "    _, ax = plt.subplots(1, 2, figsize=(16, 8))\n",
    "    ax[0].plot      (vX, vY, '.r', ms=10, label='$y_i$')\n",
    "    ax[0].plot      (xx, yy, 'b',  lw=2,  label='$\\hat{f}(x)$')\n",
    "    ax[0].set_title (f'$P = {P}$\\nMSE = {MSE}')\n",
    "    ax[0].set_xlabel('$x$')\n",
    "    ax[0].axis      (lAxis)\n",
    "    ax[0].grid      ()\n",
    "    ax[0].legend    ()\n",
    "    \n",
    "    ax[1].stem      (vW[::-1], use_line_collection=True)\n",
    "    ax[1].set_title ('Coefficients')\n",
    "    ax[1].set_xlabel('$w$')"
   ]
  },
  {
   "cell_type": "code",
   "execution_count": 4,
   "metadata": {},
   "outputs": [
    {
     "data": {
      "application/vnd.jupyter.widget-view+json": {
       "model_id": "01cb540016d04cac84e7fe63d78ebcdf",
       "version_major": 2,
       "version_minor": 0
      },
      "text/plain": [
       "interactive(children=(IntSlider(value=0, description='P', layout=Layout(width='80%'), max=31), Output()), _dom…"
      ]
     },
     "metadata": {},
     "output_type": "display_data"
    }
   ],
   "source": [
    "from ipywidgets import interact, IntSlider, Layout\n",
    "\n",
    "pSlider = IntSlider(min=0, max=31, step=1, value=0, layout=Layout(width='80%'))\n",
    "interact(PlotPolyfit, P=pSlider)\n",
    "plt.show()"
   ]
  },
  {
   "cell_type": "markdown",
   "metadata": {},
   "source": [
    "### Question:\n",
    "Assume $P_1$ < $P_2$.  \n",
    "Why the MSE with $P_2$ will always be smaller (or equal) than the MSE with $P_1$?"
   ]
  },
  {
   "cell_type": "code",
   "execution_count": null,
   "metadata": {},
   "outputs": [],
   "source": []
  }
 ],
 "metadata": {
  "kernelspec": {
   "display_name": "Python 3",
   "language": "python",
   "name": "python3"
  },
  "language_info": {
   "codemirror_mode": {
    "name": "ipython",
    "version": 3
   },
   "file_extension": ".py",
   "mimetype": "text/x-python",
   "name": "python",
   "nbconvert_exporter": "python",
   "pygments_lexer": "ipython3",
   "version": "3.8.8"
  },
  "toc": {
   "base_numbering": 1,
   "nav_menu": {},
   "number_sections": false,
   "sideBar": true,
   "skip_h1_title": false,
   "title_cell": "Table of Contents",
   "title_sidebar": "Contents",
   "toc_cell": false,
   "toc_position": {},
   "toc_section_display": true,
   "toc_window_display": false
  },
  "varInspector": {
   "cols": {
    "lenName": 16,
    "lenType": 16,
    "lenVar": 40
   },
   "kernels_config": {
    "python": {
     "delete_cmd_postfix": "",
     "delete_cmd_prefix": "del ",
     "library": "var_list.py",
     "varRefreshCmd": "print(var_dic_list())"
    },
    "r": {
     "delete_cmd_postfix": ") ",
     "delete_cmd_prefix": "rm(",
     "library": "var_list.r",
     "varRefreshCmd": "cat(var_dic_list()) "
    }
   },
   "types_to_exclude": [
    "module",
    "function",
    "builtin_function_or_method",
    "instance",
    "_Feature"
   ],
   "window_display": false
  }
 },
 "nbformat": 4,
 "nbformat_minor": 4
}
