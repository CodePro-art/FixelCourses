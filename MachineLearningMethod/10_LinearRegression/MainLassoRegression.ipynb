{
 "cells": [
  {
   "cell_type": "markdown",
   "metadata": {},
   "source": [
    "![Fixel Algorithms](https://fixelalgorithms.co/images/CCExt.png)"
   ]
  },
  {
   "cell_type": "markdown",
   "metadata": {},
   "source": [
    "# <center> Machine Learning Methods </center>\n",
    "## <center> Lecture 10 - Regression</center>\n",
    "### <center> Regression and LASSO Regularization</center>"
   ]
  },
  {
   "cell_type": "markdown",
   "metadata": {},
   "source": [
    "[![Open In Colab](https://colab.research.google.com/assets/colab-badge.svg)](https://colab.research.google.com/github/FixelAlgorithmsTeam/FixelCourses/blob/master/MachineLearningMethod/10_Regression/MainLassoRegression.ipynb)"
   ]
  },
  {
   "cell_type": "code",
   "execution_count": 1,
   "metadata": {},
   "outputs": [],
   "source": [
    "import numpy             as np\n",
    "import matplotlib.pyplot as plt\n",
    "import matplotlib\n",
    "import warnings\n",
    "\n",
    "matplotlib.rc('font', **{'size' : 16})\n",
    "warnings.filterwarnings('ignore')\n",
    "np.random.seed(1) #-- for reproducibility"
   ]
  },
  {
   "cell_type": "markdown",
   "metadata": {},
   "source": [
    "###  Generate some data:\n",
    "$$\\mathcal{D}=\\left\\{ \\left(x_{i},y_{i}\\right)\\right\\} _{i=1}^{N}$$\n",
    "where\n",
    "\\begin{align*}\n",
    "y_{i} & =f\\left(x_{i}\\right)+\\epsilon_{i}\\\\\n",
    " & =\\frac{2}{3}x_{i}^{2}+2x_{i}+5+\\epsilon_{i}\n",
    "\\end{align*}"
   ]
  },
  {
   "cell_type": "code",
   "execution_count": 2,
   "metadata": {},
   "outputs": [
    {
     "data": {
      "image/png": "[encoded data removed]",
      "text/plain": [
       "<Figure size 432x288 with 1 Axes>"
      ]
     },
     "metadata": {
      "needs_background": "light"
     },
     "output_type": "display_data"
    }
   ],
   "source": [
    "def f(vX):\n",
    "    return 2/3*vX**2 + 2*vX + 5\n",
    "\n",
    "N  = 30\n",
    "vX = np.linspace(-2, 2, N, endpoint=True) + np.random.randn(N) / 20   \n",
    "vY = f(vX) + np.random.randn(N) / 3\n",
    "\n",
    "#-- Plot:\n",
    "plt.figure ()\n",
    "plt.scatter(vX, vY, s=50, c='lime', edgecolor='k', label=r'$y_i = \\frac{2}{3}x_i^2 + 2x_i + 5 + \\epsilon_i$')\n",
    "plt.xlabel ('$x$')\n",
    "plt.legend ()\n",
    "plt.grid   ()\n",
    "lAxis = plt.axis()"
   ]
  },
  {
   "cell_type": "markdown",
   "metadata": {},
   "source": [
    "### (Polynomial) Lasso objective:\n",
    "$$\\arg\\min_{\\boldsymbol{w},b}\\left\\Vert \\boldsymbol{y}-\\boldsymbol{\\Phi}\\boldsymbol{w}-b\\right\\Vert _{2}^{2}+\\lambda\\left\\Vert \\boldsymbol{w}\\right\\Vert _{1}$$\n",
    "where:\n",
    "$$\\boldsymbol{\\Phi}=\\left[\\begin{matrix}x_{1} & x_{1}^{2} & \\cdots & x_{1}^{P}\\\\\n",
    "x_{2} & x_{2}^{2} & \\cdots & x_{2}^{P}\\\\\n",
    "\\vdots & \\vdots &  & \\vdots\\\\\n",
    "x_{N} & x_{N}^{2} & \\cdots & x_{N}^{P}\n",
    "\\end{matrix}\\right]$$"
   ]
  },
  {
   "cell_type": "markdown",
   "metadata": {},
   "source": [
    "### Fit (and plot) Lasso:\n",
    "(for each value of $\\lambda$) "
   ]
  },
  {
   "cell_type": "code",
   "execution_count": 5,
   "metadata": {},
   "outputs": [],
   "source": [
    "from sklearn.linear_model  import Lasso\n",
    "from sklearn.metrics       import r2_score\n",
    "from sklearn.preprocessing import PolynomialFeatures\n",
    "\n",
    "def PlotRegression(λ):\n",
    "    P = 15 #-- polynomial order\n",
    "\n",
    "    if λ == 0:\n",
    "        #-- No Lasso (polyfit):\n",
    "        vW  = np.polyfit(vX, vY, P)\n",
    "    else:\n",
    "        #-- Fit Lasso:\n",
    "        mX   = PolynomialFeatures(degree=P, include_bias=False).fit_transform(vX[:,None])\n",
    "        oMdl = Lasso(alpha=λ, fit_intercept=True, max_iter=30000).fit(mX, vY)\n",
    "        #-- Get Lasso coefficients:\n",
    "        vW   = np.r_[oMdl.coef_[::-1], oMdl.intercept_]\n",
    "\n",
    "    #-- R2 score:\n",
    "    vHatY = np.polyval(vW, vX)\n",
    "    R2    = r2_score(vY, vHatY)\n",
    "        \n",
    "    #-- Plot:\n",
    "    xx = np.linspace(lAxis[0], lAxis[1], 1001)\n",
    "    yy = np.polyval(vW, xx)\n",
    "\n",
    "    _, ax = plt.subplots(1, 2, figsize=(16, 8))\n",
    "    ax[0].scatter  (vX, vY, s=50, c='lime', edgecolor='k', label=r'$y_i = \\frac{2}{3}x_i^2 + 2x_i + 5 + \\epsilon_i$')\n",
    "    ax[0].plot     (xx, yy, c='b', lw=2)\n",
    "    ax[0].set_title(f'$\\lambda = {λ}$\\n$R^2 = {R2}$')\n",
    "    ax[0].axis     (lAxis)\n",
    "    ax[0].grid     ()\n",
    "    \n",
    "    \n",
    "    ax[1].stem      (np.arange(1, P+1), vW[-2::-1], use_line_collection=True)\n",
    "    ax[1].set_title ('Coefficients ($w$)\\n' f'$b = {vW[-1]}$')\n",
    "    ax[1].set_xlabel('$w$')"
   ]
  },
  {
   "cell_type": "markdown",
   "metadata": {},
   "source": [
    "#### Note that increasing the regularization factor $\\lambda$ promotes a sparse coefficient vector"
   ]
  },
  {
   "cell_type": "code",
   "execution_count": 6,
   "metadata": {},
   "outputs": [
    {
     "data": {
      "application/vnd.jupyter.widget-view+json": {
       "model_id": "b5f6a9a8a1034eeabdcc6cf69e9fed77",
       "version_major": 2,
       "version_minor": 0
      },
      "text/plain": [
       "interactive(children=(FloatSlider(value=0.0, description='λ', layout=Layout(width='80%'), max=2.0, step=0.001)…"
      ]
     },
     "metadata": {},
     "output_type": "display_data"
    }
   ],
   "source": [
    "from ipywidgets import interact, FloatSlider, Layout\n",
    "\n",
    "lamSlider = FloatSlider(min=0, max=2, step=0.001, value=0, layout=Layout(width='80%'))\n",
    "interact(PlotRegression, λ=lamSlider)\n",
    "plt.show()"
   ]
  },
  {
   "cell_type": "markdown",
   "metadata": {},
   "source": [
    "### Exercise:\n",
    "* Use the Boston house-prices dataset.\n",
    "* Use cross-validation with $K=20$.\n",
    "* Try to achieve the best R2 score you can.\n",
    "* Hint 1:\n",
    "    * Use `sklearn.preprocessing.PolynomialFeatures` to obtain polynomial features.\n",
    "    * Use `sklearn.linear_model.LinearRegression` to compute a linear regressor model.\n",
    "    * Use `cross_val_predict` instead of `cross_val_score` when performing regression.\n",
    "* Hint 2: consider to normalize your features (and data),  \n",
    "that is, zero mean and unit variance.\n",
    "\n",
    "* Which value of $P$ provides the best result?  \n",
    "Did you use regularization?"
   ]
  },
  {
   "cell_type": "markdown",
   "metadata": {},
   "source": [
    "### Load the Boston house-prices dataset:"
   ]
  },
  {
   "cell_type": "code",
   "execution_count": 7,
   "metadata": {},
   "outputs": [
    {
     "name": "stdout",
     "output_type": "stream",
     "text": [
      ".. _boston_dataset:\n",
      "\n",
      "Boston house prices dataset\n",
      "---------------------------\n",
      "\n",
      "**Data Set Characteristics:**  \n",
      "\n",
      "    :Number of Instances: 506 \n",
      "\n",
      "    :Number of Attributes: 13 numeric/categorical predictive. Median Value (attribute 14) is usually the target.\n",
      "\n",
      "    :Attribute Information (in order):\n",
      "        - CRIM     per capita crime rate by town\n",
      "        - ZN       proportion of residential land zoned for lots over 25,000 sq.ft.\n",
      "        - INDUS    proportion of non-retail business acres per town\n",
      "        - CHAS     Charles River dummy variable (= 1 if tract bounds river; 0 otherwise)\n",
      "        - NOX      nitric oxides concentration (parts per 10 million)\n",
      "        - RM       average number of rooms per dwelling\n",
      "        - AGE      proportion of owner-occupied units built prior to 1940\n",
      "        - DIS      weighted distances to five Boston employment centres\n",
      "        - RAD      index of accessibility to radial highways\n",
      "        - TAX      full-value property-tax rate per $10,000\n",
      "        - PTRATIO  pupil-teacher ratio by town\n",
      "        - B        1000(Bk - 0.63)^2 where Bk is the proportion of blacks by town\n",
      "        - LSTAT    % lower status of the population\n",
      "        - MEDV     Median value of owner-occupied homes in $1000's\n",
      "\n",
      "    :Missing Attribute Values: None\n",
      "\n",
      "    :Creator: Harrison, D. and Rubinfeld, D.L.\n",
      "\n",
      "This is a copy of UCI ML housing dataset.\n",
      "https://archive.ics.uci.edu/ml/machine-learning-databases/housing/\n",
      "\n",
      "\n",
      "This dataset was taken from the StatLib library which is maintained at Carnegie Mellon University.\n",
      "\n",
      "The Boston house-price data of Harrison, D. and Rubinfeld, D.L. 'Hedonic\n",
      "prices and the demand for clean air', J. Environ. Economics & Management,\n",
      "vol.5, 81-102, 1978.   Used in Belsley, Kuh & Welsch, 'Regression diagnostics\n",
      "...', Wiley, 1980.   N.B. Various transformations are used in the table on\n",
      "pages 244-261 of the latter.\n",
      "\n",
      "The Boston house-price data has been used in many machine learning papers that address regression\n",
      "problems.   \n",
      "     \n",
      ".. topic:: References\n",
      "\n",
      "   - Belsley, Kuh & Welsch, 'Regression diagnostics: Identifying Influential Data and Sources of Collinearity', Wiley, 1980. 244-261.\n",
      "   - Quinlan,R. (1993). Combining Instance-Based and Model-Based Learning. In Proceedings on the Tenth International Conference of Machine Learning, 236-243, University of Massachusetts, Amherst. Morgan Kaufmann.\n",
      "\n"
     ]
    }
   ],
   "source": [
    "import sklearn.datasets\n",
    "\n",
    "dData = sklearn.datasets.load_boston()\n",
    "print(dData.DESCR)"
   ]
  },
  {
   "cell_type": "code",
   "execution_count": 6,
   "metadata": {},
   "outputs": [
    {
     "data": {
      "text/plain": [
       "((506, 13), (506,))"
      ]
     },
     "execution_count": 6,
     "metadata": {},
     "output_type": "execute_result"
    }
   ],
   "source": [
    "mX = dData.data\n",
    "vY = dData.target\n",
    "\n",
    "mX.shape, vY.shape"
   ]
  },
  {
   "cell_type": "markdown",
   "metadata": {},
   "source": [
    "### Your solution:"
   ]
  },
  {
   "cell_type": "code",
   "execution_count": 7,
   "metadata": {},
   "outputs": [
    {
     "name": "stdout",
     "output_type": "stream",
     "text": [
      "Object `?` not found.\n"
     ]
    }
   ],
   "source": [
    "import pandas as pd\n",
    "\n",
    "from sklearn.preprocessing   import PolynomialFeatures\n",
    "from sklearn.model_selection import cross_val_predict, KFold\n",
    "from sklearn.linear_model    import LinearRegression\n",
    "\n",
    "???"
   ]
  },
  {
   "cell_type": "code",
   "execution_count": null,
   "metadata": {},
   "outputs": [],
   "source": []
  }
 ],
 "metadata": {
  "kernelspec": {
   "display_name": "Python 3",
   "language": "python",
   "name": "python3"
  },
  "language_info": {
   "codemirror_mode": {
    "name": "ipython",
    "version": 3
   },
   "file_extension": ".py",
   "mimetype": "text/x-python",
   "name": "python",
   "nbconvert_exporter": "python",
   "pygments_lexer": "ipython3",
   "version": "3.8.8"
  },
  "toc": {
   "base_numbering": 1,
   "nav_menu": {},
   "number_sections": false,
   "sideBar": true,
   "skip_h1_title": false,
   "title_cell": "Table of Contents",
   "title_sidebar": "Contents",
   "toc_cell": false,
   "toc_position": {},
   "toc_section_display": true,
   "toc_window_display": false
  },
  "varInspector": {
   "cols": {
    "lenName": 16,
    "lenType": 16,
    "lenVar": 40
   },
   "kernels_config": {
    "python": {
     "delete_cmd_postfix": "",
     "delete_cmd_prefix": "del ",
     "library": "var_list.py",
     "varRefreshCmd": "print(var_dic_list())"
    },
    "r": {
     "delete_cmd_postfix": ") ",
     "delete_cmd_prefix": "rm(",
     "library": "var_list.r",
     "varRefreshCmd": "cat(var_dic_list()) "
    }
   },
   "types_to_exclude": [
    "module",
    "function",
    "builtin_function_or_method",
    "instance",
    "_Feature"
   ],
   "window_display": false
  }
 },
 "nbformat": 4,
 "nbformat_minor": 4
}
