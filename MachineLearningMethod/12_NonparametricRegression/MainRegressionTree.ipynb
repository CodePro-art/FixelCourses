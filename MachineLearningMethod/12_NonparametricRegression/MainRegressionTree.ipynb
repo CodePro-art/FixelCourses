{
 "cells": [
  {
   "cell_type": "markdown",
   "metadata": {},
   "source": [
    "![Fixel Algorithms](https://fixelalgorithms.co/images/CCExt.png)"
   ]
  },
  {
   "cell_type": "markdown",
   "metadata": {},
   "source": [
    "# <center> Machine Learning Methods </center>\n",
    "## <center> Non-parametric Regression </center>\n",
    "### <center> Regression Tree </center>"
   ]
  },
  {
   "cell_type": "markdown",
   "metadata": {},
   "source": [
    "[![Open In Colab](https://colab.research.google.com/assets/colab-badge.svg)](https://colab.research.google.com/github/FixelAlgorithmsTeam/FixelCourses/blob/master/MachineLearningMethod/12_NonparametricRegression/MainRegressionTree.ipynb)"
   ]
  },
  {
   "cell_type": "code",
   "execution_count": 1,
   "metadata": {},
   "outputs": [],
   "source": [
    "import numpy             as np\n",
    "import pandas            as pd\n",
    "import matplotlib.pyplot as plt\n",
    "import matplotlib\n",
    "\n",
    "matplotlib.rc('font', **{'size' : 16})"
   ]
  },
  {
   "cell_type": "markdown",
   "metadata": {},
   "source": [
    "### Make some data:"
   ]
  },
  {
   "cell_type": "code",
   "execution_count": 4,
   "metadata": {},
   "outputs": [
    {
     "data": {
      "image/png": "[encoded data removed]",
      "text/plain": [
       "<Figure size 720x360 with 1 Axes>"
      ]
     },
     "metadata": {
      "needs_background": "light"
     },
     "output_type": "display_data"
    }
   ],
   "source": [
    "def f(vX):\n",
    "    vY            = 1/2 + 0*vX\n",
    "    vY[vX < 3.25] = 1\n",
    "    vY[vX < 2.5 ] = .5 + vX[vX < 2.5] / 5 - .25\n",
    "    vY[vX < 1.5 ] = 0\n",
    "    \n",
    "    return vY\n",
    "    \n",
    "N  = 201\n",
    "vX = 5     * np.random.rand (N)\n",
    "vY = f(vX) + np.random.randn(N) / 10\n",
    "\n",
    "plt.figure (figsize=(10, 5))\n",
    "plt.scatter(vX, vY, s=50, c='b', edgecolor='k', label='$y_i = f(x_i) + \\epsilon_i$')\n",
    "plt.xlabel ('$x$')\n",
    "plt.grid   ()\n",
    "plt.legend ()\n",
    "plt.show   ()"
   ]
  },
  {
   "cell_type": "code",
   "execution_count": 5,
   "metadata": {},
   "outputs": [],
   "source": [
    "from sklearn.tree import DecisionTreeRegressor, plot_tree\n",
    "\n",
    "xx = np.linspace(0, 5, 1001)\n",
    "\n",
    "def PlotTree(split):\n",
    "    oTree    = DecisionTreeRegressor(criterion='mse', max_leaf_nodes=split+1, random_state=0)\n",
    "    oTree    = oTree.fit(vX[:,None], vY)\n",
    "    \n",
    "    yy    = oTree.predict(xx[:,None])\n",
    "    _, ax = plt.subplots(1, 2, figsize=(20,10))\n",
    "    \n",
    "    ax[0].scatter   (vX, vY, s=50, c='b', edgecolor='k', label='$y_i = f(x_i) + \\epsilon_i$')\n",
    "    ax[0].plot      (xx, yy, 'r',  lw=3,                 label='regression tree')\n",
    "    ax[0].set_xlabel('$x$')\n",
    "    ax[0].grid      ()\n",
    "    ax[0].legend    ()\n",
    "\n",
    "    plot_tree(oTree, filled=True, ax=ax[1], rounded=True)\n",
    "    ax[1].set_title(f'Max splits = {split}')\n",
    "    "
   ]
  },
  {
   "cell_type": "code",
   "execution_count": 6,
   "metadata": {},
   "outputs": [
    {
     "data": {
      "application/vnd.jupyter.widget-view+json": {
       "model_id": "249add652ec54c2d94c1b3242567afaa",
       "version_major": 2,
       "version_minor": 0
      },
      "text/plain": [
       "interactive(children=(IntSlider(value=1, description='split', layout=Layout(width='80%'), max=20, min=1), Outp…"
      ]
     },
     "metadata": {},
     "output_type": "display_data"
    }
   ],
   "source": [
    "from ipywidgets import interact, IntSlider, Layout\n",
    "\n",
    "splitSlider = IntSlider(min=1, max=20, step=1, value=1, layout=Layout(width='80%'))\n",
    "interact(PlotTree, split=splitSlider)\n",
    "plt.show()"
   ]
  },
  {
   "cell_type": "code",
   "execution_count": null,
   "metadata": {},
   "outputs": [],
   "source": []
  }
 ],
 "metadata": {
  "kernelspec": {
   "display_name": "Python 3",
   "language": "python",
   "name": "python3"
  },
  "language_info": {
   "codemirror_mode": {
    "name": "ipython",
    "version": 3
   },
   "file_extension": ".py",
   "mimetype": "text/x-python",
   "name": "python",
   "nbconvert_exporter": "python",
   "pygments_lexer": "ipython3",
   "version": "3.8.8"
  },
  "toc": {
   "base_numbering": 1,
   "nav_menu": {},
   "number_sections": true,
   "sideBar": true,
   "skip_h1_title": false,
   "title_cell": "Table of Contents",
   "title_sidebar": "Contents",
   "toc_cell": false,
   "toc_position": {},
   "toc_section_display": true,
   "toc_window_display": false
  },
  "varInspector": {
   "cols": {
    "lenName": 16,
    "lenType": 16,
    "lenVar": 40
   },
   "kernels_config": {
    "python": {
     "delete_cmd_postfix": "",
     "delete_cmd_prefix": "del ",
     "library": "var_list.py",
     "varRefreshCmd": "print(var_dic_list())"
    },
    "r": {
     "delete_cmd_postfix": ") ",
     "delete_cmd_prefix": "rm(",
     "library": "var_list.r",
     "varRefreshCmd": "cat(var_dic_list()) "
    }
   },
   "types_to_exclude": [
    "module",
    "function",
    "builtin_function_or_method",
    "instance",
    "_Feature"
   ],
   "window_display": false
  }
 },
 "nbformat": 4,
 "nbformat_minor": 4
}
