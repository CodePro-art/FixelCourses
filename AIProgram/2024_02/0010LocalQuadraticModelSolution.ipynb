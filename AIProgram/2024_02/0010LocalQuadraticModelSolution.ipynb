{
 "cells": [
  {
   "attachments": {},
   "cell_type": "markdown",
   "metadata": {},
   "source": [
    "[![Fixel Algorithms](https://i.imgur.com/AqKHVZ0.png)](https://fixelalgorithms.gitlab.io/)\n",
    "\n",
    "# AI Program\n",
    "\n",
    "## Convex Smooth Optimization - Local Quadratic Model \n",
    "\n",
    "> Notebook by:\n",
    "> - Royi Avital RoyiAvital@fixelalgorithms.com\n",
    "\n",
    "## Revision History\n",
    "\n",
    "| Version | Date       | User        |Content / Changes                                                   |\n",
    "|---------|------------|-------------|--------------------------------------------------------------------|\n",
    "| 1.0.000 | 09/02/2024 | Royi Avital | First version                                                      |"
   ]
  },
  {
   "attachments": {},
   "cell_type": "markdown",
   "metadata": {},
   "source": [
    "[![Open In Colab](https://colab.research.google.com/assets/colab-badge.svg)](https://colab.research.google.com/github/FixelAlgorithmsTeam/FixelCourses/blob/master/AIProgram/2024_02/0010LocalQuadraticModel.ipynb)"
   ]
  },
  {
   "cell_type": "code",
   "execution_count": 1,
   "metadata": {
    "ExecuteTime": {
     "end_time": "2022-02-02T09:30:06.492269Z",
     "start_time": "2022-02-02T09:30:06.220934Z"
    }
   },
   "outputs": [
    {
     "name": "stderr",
     "output_type": "stream",
     "text": [
      "C:\\Users\\RoyiA\\AppData\\Local\\Temp\\ipykernel_5056\\2123946435.py:6: DeprecationWarning: \n",
      "Pyarrow will become a required dependency of pandas in the next major release of pandas (pandas 3.0),\n",
      "(to allow more performant data types, such as the Arrow string type, and better interoperability with other libraries)\n",
      "but was not found to be installed on your system.\n",
      "If this would cause problems for you,\n",
      "please provide us feedback at https://github.com/pandas-dev/pandas/issues/54466\n",
      "        \n",
      "  import pandas as pd\n"
     ]
    }
   ],
   "source": [
    "# Import Packages\n",
    "\n",
    "# General Tools\n",
    "import numpy as np\n",
    "import scipy as sp\n",
    "import pandas as pd\n",
    "\n",
    "# Machine Learning\n",
    "\n",
    "# Miscellaneous\n",
    "import os\n",
    "import math\n",
    "from platform import python_version\n",
    "import random\n",
    "\n",
    "# Typing\n",
    "from typing import Callable, List, Tuple, Union\n",
    "\n",
    "# Visualization\n",
    "from matplotlib.colors import LogNorm, Normalize, PowerNorm\n",
    "import matplotlib.pyplot as plt\n",
    "import plotly.express as px\n",
    "import plotly.graph_objects as go\n",
    "import seaborn as sns\n",
    "\n",
    "# Jupyter\n",
    "from IPython import get_ipython\n",
    "from IPython.display import Markdown, display\n",
    "from ipywidgets import Dropdown, FloatSlider, interact, IntSlider, Layout"
   ]
  },
  {
   "attachments": {},
   "cell_type": "markdown",
   "metadata": {},
   "source": [
    "## Notations\n",
    "\n",
    "* <font color='red'>(**?**)</font> Question to answer interactively.\n",
    "* <font color='blue'>(**!**)</font> Simple task to add code for the notebook.\n",
    "* <font color='green'>(**@**)</font> Optional / Extra self practice.\n",
    "* <font color='brown'>(**#**)</font> Note / Useful resource / Food for thought.\n",
    "\n",
    "Code Notations:\n",
    "\n",
    "```python\n",
    "someVar    = 2; #<! Notation for a variable\n",
    "vVector    = np.random.rand(4); #<! Notation for 1D array\n",
    "mMatrix    = np.random.rand(4, 3); #<! Notation for 2D array\n",
    "tTensor    = np.random.rand(4, 3, 2, 3); #<! Notation for nD array (Tensor)\n",
    "cCell      = cell(3, 1); #<! Notation for a cell array\n",
    "oObj       = MyClass(); #<! Notation for an object\n",
    "dfData     = ps.DataFrame(); #<! Notation for a data frame\n",
    "hObj       = plt.Axes(); #<! Notation for an object / handler / function handler\n",
    "```\n",
    "\n",
    "### Code Exercise\n",
    "\n",
    " - Single line fill\n",
    "\n",
    " ```python\n",
    " vallToFill = ???\n",
    " ```\n",
    "\n",
    " - Multi Line to Fill (At least one)\n",
    "\n",
    " ```python\n",
    " # You need to start writing\n",
    " ????\n",
    " ```\n",
    "\n",
    " - Section to Fill\n",
    "\n",
    "```python\n",
    "#===========================Fill This===========================#\n",
    "# 1. Explanation about what to do.\n",
    "# !! Remarks to follow / take under consideration.\n",
    "mX = ???\n",
    "\n",
    "???\n",
    "#===============================================================#\n",
    "```"
   ]
  },
  {
   "cell_type": "markdown",
   "metadata": {},
   "source": [
    "## MathJaX Macros\n",
    "\n",
    "Adding _quality of life_ macros.\n",
    "\n",
    "$$\n",
    "\\newcommand{\\MyParen}[1]{\\left( #1 \\right)}\n",
    "\\newcommand{\\MyBrack}[1]{\\left\\lbrack #1 \\right\\rbrack}\n",
    "\\newcommand{\\MyBrace}[1]{\\left\\lbrace #1 \\right\\rbrace}\n",
    "\\newcommand{\\MyMat}[1]{\\begin{bmatrix} #1 \\end{bmatrix}}\n",
    "\\newcommand{\\MyNorm}[2]{{\\left\\| #1 \\right\\|}_{#2}}\n",
    "\\newcommand{\\MyAbs}[1]{\\left| #1 \\right|}\n",
    "\\newcommand{\\MyNormTwo}[1]{\\MyNorm{#1}{2}}\n",
    "\\newcommand{\\MyCeil}[1]{\\lceil #1 \\rceil}\n",
    "\\newcommand{\\MyInProd}[2]{\\langle #1, #2 \\rangle}\n",
    "\\newcommand{\\MyUndBrace}[2]{\\underset{#2}{\\underbrace{#1}}}\n",
    "\\newcommand{\\RR}[1]{\\mathbb{R}^{#1}}\n",
    "\\newcommand{\\InR}[1]{\\in \\mathbb{R}^{#1}}\n",
    "\\newcommand{\\InC}[1]{\\in \\mathbb{C}^{#1}}\n",
    "\\newcommand{\\BS}[1]{\\boldsymbol{#1}}\n",
    "\\newcommand{\\MyClr}[2]{{\\color{#1}{#2}}}\n",
    "\\newcommand{\\MyQuad}[2]{ {#1}^{T} #2 #1 }\n",
    "$$"
   ]
  },
  {
   "cell_type": "code",
   "execution_count": 2,
   "metadata": {},
   "outputs": [],
   "source": [
    "# Configuration\n",
    "%matplotlib inline\n",
    "\n",
    "# warnings.filterwarnings(\"ignore\")\n",
    "\n",
    "seedNum = 512\n",
    "np.random.seed(seedNum)\n",
    "random.seed(seedNum)\n",
    "\n",
    "# sns.set_theme() #>! Apply SeaBorn theme\n",
    "# sns.set_palette(\"tab10\")\n",
    "\n",
    "runInGoogleColab = 'google.colab' in str(get_ipython())"
   ]
  },
  {
   "cell_type": "code",
   "execution_count": 3,
   "metadata": {},
   "outputs": [],
   "source": [
    "# Constants\n",
    "\n",
    "FIG_SIZE_DEF    = (8, 8)\n",
    "ELM_SIZE_DEF    = 50\n",
    "CLASS_COLOR     = ('b', 'r')\n",
    "EDGE_COLOR      = 'k'\n",
    "MARKER_SIZE_DEF = 10\n",
    "LINE_WIDTH_DEF  = 2\n"
   ]
  },
  {
   "cell_type": "code",
   "execution_count": 4,
   "metadata": {},
   "outputs": [],
   "source": [
    "# Course Packages\n"
   ]
  },
  {
   "cell_type": "code",
   "execution_count": 5,
   "metadata": {},
   "outputs": [],
   "source": [
    "# Auxiliary Functions"
   ]
  },
  {
   "cell_type": "code",
   "execution_count": 6,
   "metadata": {},
   "outputs": [],
   "source": [
    "# Parameters\n",
    "\n",
    "gradRadius = 4\n",
    "numGridPts = (2 * gradRadius) + 1\n",
    "\n",
    "μ = -0.2\n",
    "σ = 1.5"
   ]
  },
  {
   "cell_type": "markdown",
   "metadata": {},
   "source": [
    "* <font color='red'>(**?**)</font> For multivariate (2D) Gaussian, $\\mu$ should be a vector and $\\sigma$ should be a matrix. Yet above they are scalars. Explain."
   ]
  },
  {
   "attachments": {},
   "cell_type": "markdown",
   "metadata": {},
   "source": [
    "## Local Quadratic Model\n",
    "\n",
    "Local quadratic models are useful in many cases to model set of samples.  \n",
    "One motivation could be that near local extrema many functions look like a quadratic model.\n",
    "\n",
    "A _Quadratic Model_ in $\\mathbb{R}^{n}$ is given by:\n",
    "\n",
    "$$ f \\left( \\boldsymbol{x} \\right) = \\boldsymbol{x}^{T} \\boldsymbol{A} \\boldsymbol{x} + \\boldsymbol{b}^{T} \\boldsymbol{x} + c $$\n",
    "\n",
    "Where the model parameters are the elements of the **matrix** $\\boldsymbol{A}$, the **vector** $\\boldsymbol{b}$ and the **scalar** $c$.\n",
    "\n",
    "This notebooks demonstrate how to estimate the parameters of a quadratic model given a set of samples.  \n",
    "Specially, a 2D model will be used.\n",
    "\n",
    "The objective is to estimate the peak location and value of the sampled data.  \n",
    "The steps are:\n",
    "\n",
    "1. Estimate the parameters of the polynomial model.\n",
    "2. Extract the maximum values and the corresponding argument of the 2nd order model.\n",
    "3. Compare the model results to the actual model.\n",
    "\n",
    "\n",
    "* <font color='red'>(**?**)</font> How many parameters do a 2D _Quadratic Model_ have? Think about the properties of $\\BS{A}$."
   ]
  },
  {
   "cell_type": "markdown",
   "metadata": {},
   "source": [
    "## Generate Data\n",
    "\n",
    "The data will be sampled from a 2D Gaussian function."
   ]
  },
  {
   "cell_type": "code",
   "execution_count": 7,
   "metadata": {},
   "outputs": [],
   "source": [
    "# Generate / Load the Data\n",
    "vX = np.linspace(-gradRadius, gradRadius, numGridPts) #<! Grid of the Gaussian Function\n",
    "vY = np.exp(-0.5 * np.square((vX - μ) / σ))\n",
    "mY = np.outer(vY, vY) #<! 2D Gaussian\n"
   ]
  },
  {
   "cell_type": "code",
   "execution_count": 8,
   "metadata": {},
   "outputs": [
    {
     "data": {
      "application/vnd.plotly.v1+json": {
       "config": {
        "plotlyServerURL": "https://plot.ly"
       },
       "data": [
        {
         "name": "Gaussian",
         "type": "surface",
         "x": [
          -4,
          -3,
          -2,
          -1,
          0,
          1,
          2,
          3,
          4
         ],
         "y": [
          -4,
          -3,
          -2,
          -1,
          0,
          1,
          2,
          3,
          4
         ],
         "z": [
          [
           0.0016322794952194585,
           0.0070755428455421725,
           0.019665510986118094,
           0.03504539313416724,
           0.040043946006593764,
           0.029337494980826703,
           0.013781275659203349,
           0.004150840461318567,
           0.0008016095701549468
          ],
          [
           0.0070755428455421725,
           0.030670793026394087,
           0.08524530631505058,
           0.15191343234164142,
           0.17358096851920432,
           0.1271710533187878,
           0.05973854764365009,
           0.01799290477830873,
           0.0034747865642123983
          ],
          [
           0.019665510986118094,
           0.08524530631505058,
           0.2369277586821218,
           0.42222276620593896,
           0.48244474210852767,
           0.35345468195878016,
           0.16603518494995703,
           0.05000883668069904,
           0.009657697627537766
          ],
          [
           0.03504539313416724,
           0.15191343234164142,
           0.42222276620593896,
           0.7524321560893031,
           0.8597521653335264,
           0.6298823505324357,
           0.29588696346527116,
           0.0891194407760169,
           0.0172107305203965
          ],
          [
           0.040043946006593764,
           0.17358096851920432,
           0.48244474210852767,
           0.8597521653335264,
           0.9823793146181776,
           0.719722981524675,
           0.3380895612640941,
           0.10183061896068102,
           0.019665510986118073
          ],
          [
           0.029337494980826703,
           0.1271710533187878,
           0.35345468195878016,
           0.6298823505324357,
           0.719722981524675,
           0.5272924240430485,
           0.24769538958578205,
           0.0746044176605755,
           0.014407591843112341
          ],
          [
           0.013781275659203349,
           0.05973854764365009,
           0.16603518494995703,
           0.29588696346527116,
           0.3380895612640941,
           0.24769538958578205,
           0.1163548028087038,
           0.03504539313416723,
           0.006767960076515903
          ],
          [
           0.004150840461318567,
           0.01799290477830873,
           0.05000883668069904,
           0.0891194407760169,
           0.10183061896068102,
           0.0746044176605755,
           0.03504539313416723,
           0.0105554695661988,
           0.002038470401499455
          ],
          [
           0.0008016095701549468,
           0.0034747865642123983,
           0.009657697627537766,
           0.0172107305203965,
           0.019665510986118073,
           0.014407591843112341,
           0.006767960076515903,
           0.002038470401499455,
           0.0003936690406550776
          ]
         ]
        },
        {
         "mode": "markers",
         "name": "Samples",
         "type": "scatter3d",
         "x": [
          -4,
          -4,
          -4,
          -4,
          -4,
          -4,
          -4,
          -4,
          -4,
          -3,
          -3,
          -3,
          -3,
          -3,
          -3,
          -3,
          -3,
          -3,
          -2,
          -2,
          -2,
          -2,
          -2,
          -2,
          -2,
          -2,
          -2,
          -1,
          -1,
          -1,
          -1,
          -1,
          -1,
          -1,
          -1,
          -1,
          0,
          0,
          0,
          0,
          0,
          0,
          0,
          0,
          0,
          1,
          1,
          1,
          1,
          1,
          1,
          1,
          1,
          1,
          2,
          2,
          2,
          2,
          2,
          2,
          2,
          2,
          2,
          3,
          3,
          3,
          3,
          3,
          3,
          3,
          3,
          3,
          4,
          4,
          4,
          4,
          4,
          4,
          4,
          4,
          4
         ],
         "y": [
          -4,
          -3,
          -2,
          -1,
          0,
          1,
          2,
          3,
          4,
          -4,
          -3,
          -2,
          -1,
          0,
          1,
          2,
          3,
          4,
          -4,
          -3,
          -2,
          -1,
          0,
          1,
          2,
          3,
          4,
          -4,
          -3,
          -2,
          -1,
          0,
          1,
          2,
          3,
          4,
          -4,
          -3,
          -2,
          -1,
          0,
          1,
          2,
          3,
          4,
          -4,
          -3,
          -2,
          -1,
          0,
          1,
          2,
          3,
          4,
          -4,
          -3,
          -2,
          -1,
          0,
          1,
          2,
          3,
          4,
          -4,
          -3,
          -2,
          -1,
          0,
          1,
          2,
          3,
          4,
          -4,
          -3,
          -2,
          -1,
          0,
          1,
          2,
          3,
          4
         ],
         "z": [
          0.0016322794952194585,
          0.0070755428455421725,
          0.019665510986118094,
          0.03504539313416724,
          0.040043946006593764,
          0.029337494980826703,
          0.013781275659203349,
          0.004150840461318567,
          0.0008016095701549468,
          0.0070755428455421725,
          0.030670793026394087,
          0.08524530631505058,
          0.15191343234164142,
          0.17358096851920432,
          0.1271710533187878,
          0.05973854764365009,
          0.01799290477830873,
          0.0034747865642123983,
          0.019665510986118094,
          0.08524530631505058,
          0.2369277586821218,
          0.42222276620593896,
          0.48244474210852767,
          0.35345468195878016,
          0.16603518494995703,
          0.05000883668069904,
          0.009657697627537766,
          0.03504539313416724,
          0.15191343234164142,
          0.42222276620593896,
          0.7524321560893031,
          0.8597521653335264,
          0.6298823505324357,
          0.29588696346527116,
          0.0891194407760169,
          0.0172107305203965,
          0.040043946006593764,
          0.17358096851920432,
          0.48244474210852767,
          0.8597521653335264,
          0.9823793146181776,
          0.719722981524675,
          0.3380895612640941,
          0.10183061896068102,
          0.019665510986118073,
          0.029337494980826703,
          0.1271710533187878,
          0.35345468195878016,
          0.6298823505324357,
          0.719722981524675,
          0.5272924240430485,
          0.24769538958578205,
          0.0746044176605755,
          0.014407591843112341,
          0.013781275659203349,
          0.05973854764365009,
          0.16603518494995703,
          0.29588696346527116,
          0.3380895612640941,
          0.24769538958578205,
          0.1163548028087038,
          0.03504539313416723,
          0.006767960076515903,
          0.004150840461318567,
          0.01799290477830873,
          0.05000883668069904,
          0.0891194407760169,
          0.10183061896068102,
          0.0746044176605755,
          0.03504539313416723,
          0.0105554695661988,
          0.002038470401499455,
          0.0008016095701549468,
          0.0034747865642123983,
          0.009657697627537766,
          0.0172107305203965,
          0.019665510986118073,
          0.014407591843112341,
          0.006767960076515903,
          0.002038470401499455,
          0.0003936690406550776
         ]
        }
       ],
       "layout": {
        "autosize": false,
        "height": 500,
        "margin": {
         "b": 45,
         "l": 45,
         "r": 45,
         "t": 45
        },
        "scene": {
         "xaxis": {
          "title": {
           "text": "x_1"
          }
         },
         "yaxis": {
          "title": {
           "text": "x_2"
          }
         },
         "zaxis": {
          "title": {
           "text": ""
          }
         }
        },
        "template": {
         "data": {
          "bar": [
           {
            "error_x": {
             "color": "#2a3f5f"
            },
            "error_y": {
             "color": "#2a3f5f"
            },
            "marker": {
             "line": {
              "color": "#E5ECF6",
              "width": 0.5
             },
             "pattern": {
              "fillmode": "overlay",
              "size": 10,
              "solidity": 0.2
             }
            },
            "type": "bar"
           }
          ],
          "barpolar": [
           {
            "marker": {
             "line": {
              "color": "#E5ECF6",
              "width": 0.5
             },
             "pattern": {
              "fillmode": "overlay",
              "size": 10,
              "solidity": 0.2
             }
            },
            "type": "barpolar"
           }
          ],
          "carpet": [
           {
            "aaxis": {
             "endlinecolor": "#2a3f5f",
             "gridcolor": "white",
             "linecolor": "white",
             "minorgridcolor": "white",
             "startlinecolor": "#2a3f5f"
            },
            "baxis": {
             "endlinecolor": "#2a3f5f",
             "gridcolor": "white",
             "linecolor": "white",
             "minorgridcolor": "white",
             "startlinecolor": "#2a3f5f"
            },
            "type": "carpet"
           }
          ],
          "choropleth": [
           {
            "colorbar": {
             "outlinewidth": 0,
             "ticks": ""
            },
            "type": "choropleth"
           }
          ],
          "contour": [
           {
            "colorbar": {
             "outlinewidth": 0,
             "ticks": ""
            },
            "colorscale": [
             [
              0,
              "#0d0887"
             ],
             [
              0.1111111111111111,
              "#46039f"
             ],
             [
              0.2222222222222222,
              "#7201a8"
             ],
             [
              0.3333333333333333,
              "#9c179e"
             ],
             [
              0.4444444444444444,
              "#bd3786"
             ],
             [
              0.5555555555555556,
              "#d8576b"
             ],
             [
              0.6666666666666666,
              "#ed7953"
             ],
             [
              0.7777777777777778,
              "#fb9f3a"
             ],
             [
              0.8888888888888888,
              "#fdca26"
             ],
             [
              1,
              "#f0f921"
             ]
            ],
            "type": "contour"
           }
          ],
          "contourcarpet": [
           {
            "colorbar": {
             "outlinewidth": 0,
             "ticks": ""
            },
            "type": "contourcarpet"
           }
          ],
          "heatmap": [
           {
            "colorbar": {
             "outlinewidth": 0,
             "ticks": ""
            },
            "colorscale": [
             [
              0,
              "#0d0887"
             ],
             [
              0.1111111111111111,
              "#46039f"
             ],
             [
              0.2222222222222222,
              "#7201a8"
             ],
             [
              0.3333333333333333,
              "#9c179e"
             ],
             [
              0.4444444444444444,
              "#bd3786"
             ],
             [
              0.5555555555555556,
              "#d8576b"
             ],
             [
              0.6666666666666666,
              "#ed7953"
             ],
             [
              0.7777777777777778,
              "#fb9f3a"
             ],
             [
              0.8888888888888888,
              "#fdca26"
             ],
             [
              1,
              "#f0f921"
             ]
            ],
            "type": "heatmap"
           }
          ],
          "heatmapgl": [
           {
            "colorbar": {
             "outlinewidth": 0,
             "ticks": ""
            },
            "colorscale": [
             [
              0,
              "#0d0887"
             ],
             [
              0.1111111111111111,
              "#46039f"
             ],
             [
              0.2222222222222222,
              "#7201a8"
             ],
             [
              0.3333333333333333,
              "#9c179e"
             ],
             [
              0.4444444444444444,
              "#bd3786"
             ],
             [
              0.5555555555555556,
              "#d8576b"
             ],
             [
              0.6666666666666666,
              "#ed7953"
             ],
             [
              0.7777777777777778,
              "#fb9f3a"
             ],
             [
              0.8888888888888888,
              "#fdca26"
             ],
             [
              1,
              "#f0f921"
             ]
            ],
            "type": "heatmapgl"
           }
          ],
          "histogram": [
           {
            "marker": {
             "pattern": {
              "fillmode": "overlay",
              "size": 10,
              "solidity": 0.2
             }
            },
            "type": "histogram"
           }
          ],
          "histogram2d": [
           {
            "colorbar": {
             "outlinewidth": 0,
             "ticks": ""
            },
            "colorscale": [
             [
              0,
              "#0d0887"
             ],
             [
              0.1111111111111111,
              "#46039f"
             ],
             [
              0.2222222222222222,
              "#7201a8"
             ],
             [
              0.3333333333333333,
              "#9c179e"
             ],
             [
              0.4444444444444444,
              "#bd3786"
             ],
             [
              0.5555555555555556,
              "#d8576b"
             ],
             [
              0.6666666666666666,
              "#ed7953"
             ],
             [
              0.7777777777777778,
              "#fb9f3a"
             ],
             [
              0.8888888888888888,
              "#fdca26"
             ],
             [
              1,
              "#f0f921"
             ]
            ],
            "type": "histogram2d"
           }
          ],
          "histogram2dcontour": [
           {
            "colorbar": {
             "outlinewidth": 0,
             "ticks": ""
            },
            "colorscale": [
             [
              0,
              "#0d0887"
             ],
             [
              0.1111111111111111,
              "#46039f"
             ],
             [
              0.2222222222222222,
              "#7201a8"
             ],
             [
              0.3333333333333333,
              "#9c179e"
             ],
             [
              0.4444444444444444,
              "#bd3786"
             ],
             [
              0.5555555555555556,
              "#d8576b"
             ],
             [
              0.6666666666666666,
              "#ed7953"
             ],
             [
              0.7777777777777778,
              "#fb9f3a"
             ],
             [
              0.8888888888888888,
              "#fdca26"
             ],
             [
              1,
              "#f0f921"
             ]
            ],
            "type": "histogram2dcontour"
           }
          ],
          "mesh3d": [
           {
            "colorbar": {
             "outlinewidth": 0,
             "ticks": ""
            },
            "type": "mesh3d"
           }
          ],
          "parcoords": [
           {
            "line": {
             "colorbar": {
              "outlinewidth": 0,
              "ticks": ""
             }
            },
            "type": "parcoords"
           }
          ],
          "pie": [
           {
            "automargin": true,
            "type": "pie"
           }
          ],
          "scatter": [
           {
            "fillpattern": {
             "fillmode": "overlay",
             "size": 10,
             "solidity": 0.2
            },
            "type": "scatter"
           }
          ],
          "scatter3d": [
           {
            "line": {
             "colorbar": {
              "outlinewidth": 0,
              "ticks": ""
             }
            },
            "marker": {
             "colorbar": {
              "outlinewidth": 0,
              "ticks": ""
             }
            },
            "type": "scatter3d"
           }
          ],
          "scattercarpet": [
           {
            "marker": {
             "colorbar": {
              "outlinewidth": 0,
              "ticks": ""
             }
            },
            "type": "scattercarpet"
           }
          ],
          "scattergeo": [
           {
            "marker": {
             "colorbar": {
              "outlinewidth": 0,
              "ticks": ""
             }
            },
            "type": "scattergeo"
           }
          ],
          "scattergl": [
           {
            "marker": {
             "colorbar": {
              "outlinewidth": 0,
              "ticks": ""
             }
            },
            "type": "scattergl"
           }
          ],
          "scattermapbox": [
           {
            "marker": {
             "colorbar": {
              "outlinewidth": 0,
              "ticks": ""
             }
            },
            "type": "scattermapbox"
           }
          ],
          "scatterpolar": [
           {
            "marker": {
             "colorbar": {
              "outlinewidth": 0,
              "ticks": ""
             }
            },
            "type": "scatterpolar"
           }
          ],
          "scatterpolargl": [
           {
            "marker": {
             "colorbar": {
              "outlinewidth": 0,
              "ticks": ""
             }
            },
            "type": "scatterpolargl"
           }
          ],
          "scatterternary": [
           {
            "marker": {
             "colorbar": {
              "outlinewidth": 0,
              "ticks": ""
             }
            },
            "type": "scatterternary"
           }
          ],
          "surface": [
           {
            "colorbar": {
             "outlinewidth": 0,
             "ticks": ""
            },
            "colorscale": [
             [
              0,
              "#0d0887"
             ],
             [
              0.1111111111111111,
              "#46039f"
             ],
             [
              0.2222222222222222,
              "#7201a8"
             ],
             [
              0.3333333333333333,
              "#9c179e"
             ],
             [
              0.4444444444444444,
              "#bd3786"
             ],
             [
              0.5555555555555556,
              "#d8576b"
             ],
             [
              0.6666666666666666,
              "#ed7953"
             ],
             [
              0.7777777777777778,
              "#fb9f3a"
             ],
             [
              0.8888888888888888,
              "#fdca26"
             ],
             [
              1,
              "#f0f921"
             ]
            ],
            "type": "surface"
           }
          ],
          "table": [
           {
            "cells": {
             "fill": {
              "color": "#EBF0F8"
             },
             "line": {
              "color": "white"
             }
            },
            "header": {
             "fill": {
              "color": "#C8D4E3"
             },
             "line": {
              "color": "white"
             }
            },
            "type": "table"
           }
          ]
         },
         "layout": {
          "annotationdefaults": {
           "arrowcolor": "#2a3f5f",
           "arrowhead": 0,
           "arrowwidth": 1
          },
          "autotypenumbers": "strict",
          "coloraxis": {
           "colorbar": {
            "outlinewidth": 0,
            "ticks": ""
           }
          },
          "colorscale": {
           "diverging": [
            [
             0,
             "#8e0152"
            ],
            [
             0.1,
             "#c51b7d"
            ],
            [
             0.2,
             "#de77ae"
            ],
            [
             0.3,
             "#f1b6da"
            ],
            [
             0.4,
             "#fde0ef"
            ],
            [
             0.5,
             "#f7f7f7"
            ],
            [
             0.6,
             "#e6f5d0"
            ],
            [
             0.7,
             "#b8e186"
            ],
            [
             0.8,
             "#7fbc41"
            ],
            [
             0.9,
             "#4d9221"
            ],
            [
             1,
             "#276419"
            ]
           ],
           "sequential": [
            [
             0,
             "#0d0887"
            ],
            [
             0.1111111111111111,
             "#46039f"
            ],
            [
             0.2222222222222222,
             "#7201a8"
            ],
            [
             0.3333333333333333,
             "#9c179e"
            ],
            [
             0.4444444444444444,
             "#bd3786"
            ],
            [
             0.5555555555555556,
             "#d8576b"
            ],
            [
             0.6666666666666666,
             "#ed7953"
            ],
            [
             0.7777777777777778,
             "#fb9f3a"
            ],
            [
             0.8888888888888888,
             "#fdca26"
            ],
            [
             1,
             "#f0f921"
            ]
           ],
           "sequentialminus": [
            [
             0,
             "#0d0887"
            ],
            [
             0.1111111111111111,
             "#46039f"
            ],
            [
             0.2222222222222222,
             "#7201a8"
            ],
            [
             0.3333333333333333,
             "#9c179e"
            ],
            [
             0.4444444444444444,
             "#bd3786"
            ],
            [
             0.5555555555555556,
             "#d8576b"
            ],
            [
             0.6666666666666666,
             "#ed7953"
            ],
            [
             0.7777777777777778,
             "#fb9f3a"
            ],
            [
             0.8888888888888888,
             "#fdca26"
            ],
            [
             1,
             "#f0f921"
            ]
           ]
          },
          "colorway": [
           "#636efa",
           "#EF553B",
           "#00cc96",
           "#ab63fa",
           "#FFA15A",
           "#19d3f3",
           "#FF6692",
           "#B6E880",
           "#FF97FF",
           "#FECB52"
          ],
          "font": {
           "color": "#2a3f5f"
          },
          "geo": {
           "bgcolor": "white",
           "lakecolor": "white",
           "landcolor": "#E5ECF6",
           "showlakes": true,
           "showland": true,
           "subunitcolor": "white"
          },
          "hoverlabel": {
           "align": "left"
          },
          "hovermode": "closest",
          "mapbox": {
           "style": "light"
          },
          "paper_bgcolor": "white",
          "plot_bgcolor": "#E5ECF6",
          "polar": {
           "angularaxis": {
            "gridcolor": "white",
            "linecolor": "white",
            "ticks": ""
           },
           "bgcolor": "#E5ECF6",
           "radialaxis": {
            "gridcolor": "white",
            "linecolor": "white",
            "ticks": ""
           }
          },
          "scene": {
           "xaxis": {
            "backgroundcolor": "#E5ECF6",
            "gridcolor": "white",
            "gridwidth": 2,
            "linecolor": "white",
            "showbackground": true,
            "ticks": "",
            "zerolinecolor": "white"
           },
           "yaxis": {
            "backgroundcolor": "#E5ECF6",
            "gridcolor": "white",
            "gridwidth": 2,
            "linecolor": "white",
            "showbackground": true,
            "ticks": "",
            "zerolinecolor": "white"
           },
           "zaxis": {
            "backgroundcolor": "#E5ECF6",
            "gridcolor": "white",
            "gridwidth": 2,
            "linecolor": "white",
            "showbackground": true,
            "ticks": "",
            "zerolinecolor": "white"
           }
          },
          "shapedefaults": {
           "line": {
            "color": "#2a3f5f"
           }
          },
          "ternary": {
           "aaxis": {
            "gridcolor": "white",
            "linecolor": "white",
            "ticks": ""
           },
           "baxis": {
            "gridcolor": "white",
            "linecolor": "white",
            "ticks": ""
           },
           "bgcolor": "#E5ECF6",
           "caxis": {
            "gridcolor": "white",
            "linecolor": "white",
            "ticks": ""
           }
          },
          "title": {
           "x": 0.05
          },
          "xaxis": {
           "automargin": true,
           "gridcolor": "white",
           "linecolor": "white",
           "ticks": "",
           "title": {
            "standoff": 15
           },
           "zerolinecolor": "white",
           "zerolinewidth": 2
          },
          "yaxis": {
           "automargin": true,
           "gridcolor": "white",
           "linecolor": "white",
           "ticks": "",
           "title": {
            "standoff": 15
           },
           "zerolinecolor": "white",
           "zerolinewidth": 2
          }
         }
        },
        "title": {
         "text": "Data Samples"
        },
        "width": 600
       }
      }
     },
     "metadata": {},
     "output_type": "display_data"
    }
   ],
   "source": [
    "# Display the Data\n",
    "\n",
    "hF = go.Figure()\n",
    "hF.add_trace(go.Surface(x = vX, y = vX, z = mY, name = 'Gaussian'))\n",
    "hF.add_trace(go.Scatter3d(x = np.repeat(vX, numGridPts), y = np.tile(vX, numGridPts), z = mY.flat, mode = 'markers', name = 'Samples'))\n",
    "hF.update_layout(title = 'Data Samples', scene = dict(xaxis_title = r'x_1', yaxis_title = r'x_2', zaxis_title = ''),\n",
    "                 autosize = False, width = 600, height = 500, margin = dict(l = 45, r = 45, b = 45, t = 45)) #<! No LaTeX support in 3D plots\n"
   ]
  },
  {
   "cell_type": "markdown",
   "metadata": {},
   "source": [
    "## Build the Linear Model\n",
    "\n",
    "Given a set of $\\left\\{ \\left( \\boldsymbol{x}_{i}, {y}_{i} \\right) \\right\\}_{i = 1}^{N}$ the model is given by:\n",
    "\n",
    "$$ {y}_{i} = \\boldsymbol{x}_{i}^{T} \\boldsymbol{A} \\boldsymbol{x}_{i} + \\boldsymbol{b}^{T} \\boldsymbol{x}_{i} + c $$\n",
    "\n",
    "Which could be solved using _Linear Least Squares_ as:\n",
    "\n",
    "$$ \\arg \\min_{\\BS{A}, \\BS{b}, c} \\sum_{i = 1}^{N} \\MyParen{ {y}_{i} - \\boldsymbol{x}_{i}^{T} \\boldsymbol{A} \\boldsymbol{x}_{i} - \\boldsymbol{b}^{T} \\boldsymbol{x}_{i} - c }^{2} $$\n",
    "\n",
    "Yet, there is a more efficient way to build this.  \n",
    "A 2nd order model has basically the following form: ${y}_{i} = p {x}_{1}^{2} + q {x}_{2}^{2} + 2 r {x}_{1} {x}_{2} + s {x}_{1} + {t} {x}_{2} + u$.  \n",
    "Which can be solved in a classic linear form:\n",
    "\n",
    "$$ \\BS{y} = \\BS{H} \\BS{w} $$\n",
    "\n",
    "Where $\\BS{w} = \\MyBrack{ u, t, s, r, q, p }^{T}$ (Or any other permutation).\n",
    "\n",
    "* <font color='brown'>(**#**)</font> If a model is **linear**, it can be always be written in the form $\\BS{y} = \\BS{H} \\BS{w}$ for some $\\BS{H}$ and $\\BS{w}$.\n",
    "\n"
   ]
  },
  {
   "cell_type": "markdown",
   "metadata": {},
   "source": [
    "### Question 001\n",
    "\n",
    "1. Find the connection between the parameters $u, t, s, r, q, p$ to the elements of $\\BS{A}, \\BS{b}, c$.\n",
    "2. Derive the matrix $\\BS{H}$.  \n",
    "   The matrix is a combination of the set of $\\MyBrace{ \\BS{x}_{i} }_{i = 1}^{N}$.\n",
    "3. Implement in code a function to build $\\BS{H}$."
   ]
  },
  {
   "cell_type": "markdown",
   "metadata": {},
   "source": [
    "### Solution 001\n",
    "\n",
    "#### The Mapping\n",
    "\n",
    "The matrix $\\BS{A}$ must be symmetric, hence:\n",
    "\n",
    "$$ \\BS{A} = \\begin{bmatrix} {a}_{11} & {a}_{12} \\\\ {a}_{12} & {a}_{22} \\end{bmatrix} $$\n",
    "\n",
    "For $\\BS{x} = \\MyBrack{ {x}_{1}, {x}_{2} }^{T}$ the result:\n",
    "\n",
    "$$ \\begin{bmatrix} {x}_{1} & {x}_{2} \\end{bmatrix} \\begin{bmatrix} {a}_{11} & {a}_{12} \\\\ {a}_{12} & {a}_{22} \\end{bmatrix} \\begin{bmatrix} {x}_{1} \\\\ {x}_{2} \\end{bmatrix} = {a}_{11} {x}_{1}^{2} + 2 {a}_{12} {x}_{1} {x}_{2} + {a}_{22} {x}_{2}^{2} $$\n",
    "\n",
    "For the vector $\\BS{b} = \\MyBrack{ {b}_{1}, {b}_{2} }^{T}$ the result:\n",
    "\n",
    "$$ \\BS{b}^{T} \\BS{x} = {b}_{1} {x}_{1} + {b}_{2} {x}_{2} $$\n",
    "\n",
    "Hence the mapping is:\n",
    "\n",
    "$$ u = c, t = {b}_{2}, s = {b}_{1}, r = {a}_{12}, q = {a}_{22}, p = {a}_{11} $$\n",
    "\n",
    "#### The Matrix $\\BS{H}$\n",
    "\n",
    "If $\\BS{w} = \\MyBrack{ u, t, s, r, q, p }^{T}$ then the columns of $\\BS{H}$ should match the elements of $\\BS{x}_{i}$:\n",
    "\n",
    "$$ \\BS{H} = \\begin{bmatrix} 1 & \\BS{x}_{1} \\MyBrack{2} & \\BS{x}_{1} \\MyBrack{1} & 2 \\BS{x}_{1} \\MyBrack{1} \\BS{x}_{1} \\MyBrack{2} & \\BS{x}_{1} \\MyBrack{2}^{2} & \\BS{x}_{1} \\MyBrack{1}^{2} \\\\ 1 & \\BS{x}_{2} \\MyBrack{2} & \\BS{x}_{2} \\MyBrack{1} & 2 \\BS{x}_{2} \\MyBrack{1} \\BS{x}_{2} \\MyBrack{2} & \\BS{x}_{2} \\MyBrack{2}^{2} & \\BS{x}_{2} \\MyBrack{1}^{2} \\\\ \\vdots & \\vdots & \\vdots & \\vdots & \\vdots & \\vdots \\\\ 1 & \\BS{x}_{N} \\MyBrack{2} & \\BS{x}_{N} \\MyBrack{1} & 2 \\BS{x}_{N} \\MyBrack{1} \\BS{x}_{N} \\MyBrack{2} & \\BS{x}_{N} \\MyBrack{2}^{2} & \\BS{x}_{N} \\MyBrack{1}^{2} \\end{bmatrix} $$\n",
    "\n",
    "---\n"
   ]
  },
  {
   "cell_type": "code",
   "execution_count": 9,
   "metadata": {},
   "outputs": [],
   "source": [
    "# The Linear Model Matrix H\n",
    "\n",
    "#===========================Fill This===========================#\n",
    "# 1. Implement the function to build H.\n",
    "# !! You may find `np.column_stack()` useful.\n",
    "\n",
    "def BuildMatH( vX1: np.ndarray, vX2: np.ndarray ) -> np.ndarray:\n",
    "    \"\"\"\n",
    "    Build the linear model matrix for 2nd degree polynomial in 2D.\n",
    "    Input:\n",
    "      vX1         - The set of the 1st coordinates, Vector (numPts, 1).\n",
    "      vX2         - The set of the 2nd coordinates, Vector (numPts, 1).\n",
    "    Output:\n",
    "      mH          - The model matrix.\n",
    "    \"\"\"\n",
    "\n",
    "    numPts  = np.size(vX1) #<! Number of points\n",
    "    mH      = np.column_stack((np.ones(numPts), vX2, vX1, 2 * vX1 * vX2, np.square(vX2), np.square(vX1)))\n",
    "\n",
    "    return mH\n",
    "\n",
    "#===============================================================#"
   ]
  },
  {
   "cell_type": "markdown",
   "metadata": {},
   "source": [
    "## Solve the Linear Model\n",
    "\n",
    "The linear model is given by $\\BS{y} = \\BS{H} \\BS{w}$, to estimate $\\BS{w}$ the model should be solved.  \n",
    "In reality, equality is not always achievable (Noise, Model accuracy, etc...) hence the problem is solved in the _Leas Squares_ meaning:\n",
    "\n",
    "$$ \\arg \\min_{\\BS{w}} \\frac{1}{2} \\MyNormTwo{ \\BS{H} \\BS{w} - \\BS{y} }^{2} $$\n",
    "\n",
    "To solve such cases the function [`np.linalg.lstsq()`](https://numpy.org/doc/stable/reference/generated/numpy.linalg.lstsq.html) is used."
   ]
  },
  {
   "cell_type": "code",
   "execution_count": 16,
   "metadata": {},
   "outputs": [],
   "source": [
    "# Estimate the Model Parameters\n",
    "# Using a LS solver to estimate vW\n",
    "\n",
    "# Since `mY.flat` is row major:\n",
    "# 1. x1 changes for ech point, repeats each numGridPts.\n",
    "# 2. x2 changes each numGridPts, constant in between.\n",
    "vX1 = np.tile(vX, numGridPts) #<! Replicate the vector\n",
    "vX2 = np.repeat(vX, numGridPts) #<! Replicates the items\n",
    "mH  = BuildMatH(vX1, vX2)\n",
    "\n",
    "# vW, _, _, _ = np.linalg.lstsq(mH, mY.flat, rcond = None) #<! _ is \"don't care\"\n",
    "vW, *_ = np.linalg.lstsq(mH, mY.flat, rcond = None) #<! See https://stackoverflow.com/questions/431866"
   ]
  },
  {
   "cell_type": "code",
   "execution_count": 17,
   "metadata": {},
   "outputs": [],
   "source": [
    "# Build the Quadratic Model\n",
    "\n",
    "#===========================Fill This===========================#\n",
    "# 1. Calculate `mA`, `vB` and `valC` from `vW`.\n",
    "\n",
    "mA      = np.array([[vW[5], vW[3]], [vW[3], vW[4]]])\n",
    "vB      = np.array([vW[2], vW[1]])\n",
    "valC    = vW[0]\n",
    "\n",
    "#===============================================================#"
   ]
  },
  {
   "cell_type": "code",
   "execution_count": 18,
   "metadata": {},
   "outputs": [],
   "source": [
    "# Estimate the Model Values\n",
    "mX = np.column_stack((vX1, vX2))\n",
    "\n",
    "# vYEst = mH * vW #<! The linear model\n",
    "vYEst = np.array([mX[ii, :] @ mA @ mX[ii, :].T + np.dot(mX[ii, :], vB) + valC for ii in range(numGridPts * numGridPts)])\n",
    "# vYEst = np.diag(mX @ mA @ mX.T) + mX @ vB + valC"
   ]
  },
  {
   "cell_type": "markdown",
   "metadata": {},
   "source": [
    "* <font color='red'>(**?**)</font> How can `vY` be evaluated using `mA`, `vB` and `valC` without any loops? Is it efficient?\n",
    "* <font color='blue'>(**!**)</font> Implement the vectorized method. "
   ]
  },
  {
   "cell_type": "code",
   "execution_count": 19,
   "metadata": {},
   "outputs": [
    {
     "name": "stdout",
     "output_type": "stream",
     "text": [
      "The quadratic model peak location is: [-0.2266297 -0.2266297]\n"
     ]
    }
   ],
   "source": [
    "# Estimate `arg max` and Maximum Value\n",
    "\n",
    "vXMax = -np.linalg.solve(mA, vB)\n",
    "valYMax = vXMax.T @ mA @ vXMax + np.dot(vXMax, vB) + valC\n",
    "\n",
    "print(f'The quadratic model peak location is: {vXMax}')"
   ]
  },
  {
   "cell_type": "code",
   "execution_count": 20,
   "metadata": {},
   "outputs": [
    {
     "data": {
      "application/vnd.plotly.v1+json": {
       "config": {
        "plotlyServerURL": "https://plot.ly"
       },
       "data": [
        {
         "name": "Gaussian",
         "opacity": 0.35,
         "showscale": false,
         "type": "surface",
         "x": [
          -4,
          -3,
          -2,
          -1,
          0,
          1,
          2,
          3,
          4
         ],
         "y": [
          -4,
          -3,
          -2,
          -1,
          0,
          1,
          2,
          3,
          4
         ],
         "z": [
          [
           0.0016322794952194585,
           0.0070755428455421725,
           0.019665510986118094,
           0.03504539313416724,
           0.040043946006593764,
           0.029337494980826703,
           0.013781275659203349,
           0.004150840461318567,
           0.0008016095701549468
          ],
          [
           0.0070755428455421725,
           0.030670793026394087,
           0.08524530631505058,
           0.15191343234164142,
           0.17358096851920432,
           0.1271710533187878,
           0.05973854764365009,
           0.01799290477830873,
           0.0034747865642123983
          ],
          [
           0.019665510986118094,
           0.08524530631505058,
           0.2369277586821218,
           0.42222276620593896,
           0.48244474210852767,
           0.35345468195878016,
           0.16603518494995703,
           0.05000883668069904,
           0.009657697627537766
          ],
          [
           0.03504539313416724,
           0.15191343234164142,
           0.42222276620593896,
           0.7524321560893031,
           0.8597521653335264,
           0.6298823505324357,
           0.29588696346527116,
           0.0891194407760169,
           0.0172107305203965
          ],
          [
           0.040043946006593764,
           0.17358096851920432,
           0.48244474210852767,
           0.8597521653335264,
           0.9823793146181776,
           0.719722981524675,
           0.3380895612640941,
           0.10183061896068102,
           0.019665510986118073
          ],
          [
           0.029337494980826703,
           0.1271710533187878,
           0.35345468195878016,
           0.6298823505324357,
           0.719722981524675,
           0.5272924240430485,
           0.24769538958578205,
           0.0746044176605755,
           0.014407591843112341
          ],
          [
           0.013781275659203349,
           0.05973854764365009,
           0.16603518494995703,
           0.29588696346527116,
           0.3380895612640941,
           0.24769538958578205,
           0.1163548028087038,
           0.03504539313416723,
           0.006767960076515903
          ],
          [
           0.004150840461318567,
           0.01799290477830873,
           0.05000883668069904,
           0.0891194407760169,
           0.10183061896068102,
           0.0746044176605755,
           0.03504539313416723,
           0.0105554695661988,
           0.002038470401499455
          ],
          [
           0.0008016095701549468,
           0.0034747865642123983,
           0.009657697627537766,
           0.0172107305203965,
           0.019665510986118073,
           0.014407591843112341,
           0.006767960076515903,
           0.002038470401499455,
           0.0003936690406550776
          ]
         ]
        },
        {
         "mode": "markers",
         "name": "Samples",
         "type": "scatter3d",
         "x": [
          -4,
          -4,
          -4,
          -4,
          -4,
          -4,
          -4,
          -4,
          -4,
          -3,
          -3,
          -3,
          -3,
          -3,
          -3,
          -3,
          -3,
          -3,
          -2,
          -2,
          -2,
          -2,
          -2,
          -2,
          -2,
          -2,
          -2,
          -1,
          -1,
          -1,
          -1,
          -1,
          -1,
          -1,
          -1,
          -1,
          0,
          0,
          0,
          0,
          0,
          0,
          0,
          0,
          0,
          1,
          1,
          1,
          1,
          1,
          1,
          1,
          1,
          1,
          2,
          2,
          2,
          2,
          2,
          2,
          2,
          2,
          2,
          3,
          3,
          3,
          3,
          3,
          3,
          3,
          3,
          3,
          4,
          4,
          4,
          4,
          4,
          4,
          4,
          4,
          4
         ],
         "y": [
          -4,
          -3,
          -2,
          -1,
          0,
          1,
          2,
          3,
          4,
          -4,
          -3,
          -2,
          -1,
          0,
          1,
          2,
          3,
          4,
          -4,
          -3,
          -2,
          -1,
          0,
          1,
          2,
          3,
          4,
          -4,
          -3,
          -2,
          -1,
          0,
          1,
          2,
          3,
          4,
          -4,
          -3,
          -2,
          -1,
          0,
          1,
          2,
          3,
          4,
          -4,
          -3,
          -2,
          -1,
          0,
          1,
          2,
          3,
          4,
          -4,
          -3,
          -2,
          -1,
          0,
          1,
          2,
          3,
          4,
          -4,
          -3,
          -2,
          -1,
          0,
          1,
          2,
          3,
          4,
          -4,
          -3,
          -2,
          -1,
          0,
          1,
          2,
          3,
          4
         ],
         "z": [
          0.0016322794952194585,
          0.0070755428455421725,
          0.019665510986118094,
          0.03504539313416724,
          0.040043946006593764,
          0.029337494980826703,
          0.013781275659203349,
          0.004150840461318567,
          0.0008016095701549468,
          0.0070755428455421725,
          0.030670793026394087,
          0.08524530631505058,
          0.15191343234164142,
          0.17358096851920432,
          0.1271710533187878,
          0.05973854764365009,
          0.01799290477830873,
          0.0034747865642123983,
          0.019665510986118094,
          0.08524530631505058,
          0.2369277586821218,
          0.42222276620593896,
          0.48244474210852767,
          0.35345468195878016,
          0.16603518494995703,
          0.05000883668069904,
          0.009657697627537766,
          0.03504539313416724,
          0.15191343234164142,
          0.42222276620593896,
          0.7524321560893031,
          0.8597521653335264,
          0.6298823505324357,
          0.29588696346527116,
          0.0891194407760169,
          0.0172107305203965,
          0.040043946006593764,
          0.17358096851920432,
          0.48244474210852767,
          0.8597521653335264,
          0.9823793146181776,
          0.719722981524675,
          0.3380895612640941,
          0.10183061896068102,
          0.019665510986118073,
          0.029337494980826703,
          0.1271710533187878,
          0.35345468195878016,
          0.6298823505324357,
          0.719722981524675,
          0.5272924240430485,
          0.24769538958578205,
          0.0746044176605755,
          0.014407591843112341,
          0.013781275659203349,
          0.05973854764365009,
          0.16603518494995703,
          0.29588696346527116,
          0.3380895612640941,
          0.24769538958578205,
          0.1163548028087038,
          0.03504539313416723,
          0.006767960076515903,
          0.004150840461318567,
          0.01799290477830873,
          0.05000883668069904,
          0.0891194407760169,
          0.10183061896068102,
          0.0746044176605755,
          0.03504539313416723,
          0.0105554695661988,
          0.002038470401499455,
          0.0008016095701549468,
          0.0034747865642123983,
          0.009657697627537766,
          0.0172107305203965,
          0.019665510986118073,
          0.014407591843112341,
          0.006767960076515903,
          0.002038470401499455,
          0.0003936690406550776
         ]
        },
        {
         "mode": "markers",
         "name": "Quadratic Model",
         "type": "scatter3d",
         "x": [
          -4,
          -4,
          -4,
          -4,
          -4,
          -4,
          -4,
          -4,
          -4,
          -3,
          -3,
          -3,
          -3,
          -3,
          -3,
          -3,
          -3,
          -3,
          -2,
          -2,
          -2,
          -2,
          -2,
          -2,
          -2,
          -2,
          -2,
          -1,
          -1,
          -1,
          -1,
          -1,
          -1,
          -1,
          -1,
          -1,
          0,
          0,
          0,
          0,
          0,
          0,
          0,
          0,
          0,
          1,
          1,
          1,
          1,
          1,
          1,
          1,
          1,
          1,
          2,
          2,
          2,
          2,
          2,
          2,
          2,
          2,
          2,
          3,
          3,
          3,
          3,
          3,
          3,
          3,
          3,
          3,
          4,
          4,
          4,
          4,
          4,
          4,
          4,
          4,
          4
         ],
         "y": [
          -4,
          -3,
          -2,
          -1,
          0,
          1,
          2,
          3,
          4,
          -4,
          -3,
          -2,
          -1,
          0,
          1,
          2,
          3,
          4,
          -4,
          -3,
          -2,
          -1,
          0,
          1,
          2,
          3,
          4,
          -4,
          -3,
          -2,
          -1,
          0,
          1,
          2,
          3,
          4,
          -4,
          -3,
          -2,
          -1,
          0,
          1,
          2,
          3,
          4,
          -4,
          -3,
          -2,
          -1,
          0,
          1,
          2,
          3,
          4,
          -4,
          -3,
          -2,
          -1,
          0,
          1,
          2,
          3,
          4,
          -4,
          -3,
          -2,
          -1,
          0,
          1,
          2,
          3,
          4,
          -4,
          -3,
          -2,
          -1,
          0,
          1,
          2,
          3,
          4
         ],
         "z": [
          -0.2034221997273734,
          -0.05154435898956511,
          0.05531710147486796,
          0.1171621816659254,
          0.1339908815836074,
          0.10580320122791387,
          0.03259914059884489,
          -0.08562130030359971,
          -0.24885812147941955,
          -0.05154435898956511,
          0.10048231443186462,
          0.20749260757991883,
          0.2694865204545976,
          0.28646405305590084,
          0.25842520538382857,
          0.1853699774383808,
          0.06729836921955756,
          -0.09578961927264118,
          0.05531710147486785,
          0.20749260757991883,
          0.3146517334115943,
          0.37679447896989426,
          0.39392084425481877,
          0.36603082926636776,
          0.2931244340045413,
          0.17520165846933933,
          0.012262502660761843,
          0.11716218166592529,
          0.26948652045459753,
          0.37679447896989426,
          0.4390860572118155,
          0.45636125518036125,
          0.4286200728755315,
          0.3558625102973263,
          0.23808856744574555,
          0.0752982443207893,
          0.13399088158360722,
          0.2864640530559007,
          0.3939208442548187,
          0.4563612551803612,
          0.4737852858325282,
          0.4461929362113197,
          0.3735842063167358,
          0.2559590961487763,
          0.09331760570744135,
          0.1058032012279137,
          0.2584252053838284,
          0.36603082926636765,
          0.42862007287553144,
          0.4461929362113197,
          0.4187494192737325,
          0.34628952206276975,
          0.22881324457843158,
          0.06632058682071784,
          0.03259914059884467,
          0.18536997743838068,
          0.2931244340045412,
          0.3558625102973262,
          0.3735842063167357,
          0.34628952206276975,
          0.2739784575354283,
          0.15665101273471138,
          -0.00569281233938107,
          -0.08562130030359982,
          0.06729836921955745,
          0.17520165846933922,
          0.23808856744574547,
          0.2559590961487762,
          0.22881324457843155,
          0.15665101273471138,
          0.0394724006176157,
          -0.1227225917728555,
          -0.24885812147941977,
          -0.09578961927264129,
          0.012262502660761732,
          0.07529824432078924,
          0.0933176057074413,
          0.06632058682071784,
          -0.00569281233938107,
          -0.1227225917728555,
          -0.2847687514797054
         ]
        },
        {
         "mode": "markers",
         "name": "Quadratic Model Peak",
         "type": "scatter3d",
         "x": [
          -0.22662970265313687
         ],
         "y": [
          -0.22662970265313792
         ],
         "z": [
          0.4737852858325282
         ]
        }
       ],
       "layout": {
        "autosize": false,
        "coloraxis": {
         "showscale": false
        },
        "height": 600,
        "margin": {
         "b": 10,
         "l": 10,
         "r": 10,
         "t": 40
        },
        "scene": {
         "xaxis": {
          "title": {
           "text": "x_1"
          }
         },
         "yaxis": {
          "title": {
           "text": "x_2"
          }
         },
         "zaxis": {
          "title": {
           "text": ""
          }
         }
        },
        "template": {
         "data": {
          "bar": [
           {
            "error_x": {
             "color": "#2a3f5f"
            },
            "error_y": {
             "color": "#2a3f5f"
            },
            "marker": {
             "line": {
              "color": "#E5ECF6",
              "width": 0.5
             },
             "pattern": {
              "fillmode": "overlay",
              "size": 10,
              "solidity": 0.2
             }
            },
            "type": "bar"
           }
          ],
          "barpolar": [
           {
            "marker": {
             "line": {
              "color": "#E5ECF6",
              "width": 0.5
             },
             "pattern": {
              "fillmode": "overlay",
              "size": 10,
              "solidity": 0.2
             }
            },
            "type": "barpolar"
           }
          ],
          "carpet": [
           {
            "aaxis": {
             "endlinecolor": "#2a3f5f",
             "gridcolor": "white",
             "linecolor": "white",
             "minorgridcolor": "white",
             "startlinecolor": "#2a3f5f"
            },
            "baxis": {
             "endlinecolor": "#2a3f5f",
             "gridcolor": "white",
             "linecolor": "white",
             "minorgridcolor": "white",
             "startlinecolor": "#2a3f5f"
            },
            "type": "carpet"
           }
          ],
          "choropleth": [
           {
            "colorbar": {
             "outlinewidth": 0,
             "ticks": ""
            },
            "type": "choropleth"
           }
          ],
          "contour": [
           {
            "colorbar": {
             "outlinewidth": 0,
             "ticks": ""
            },
            "colorscale": [
             [
              0,
              "#0d0887"
             ],
             [
              0.1111111111111111,
              "#46039f"
             ],
             [
              0.2222222222222222,
              "#7201a8"
             ],
             [
              0.3333333333333333,
              "#9c179e"
             ],
             [
              0.4444444444444444,
              "#bd3786"
             ],
             [
              0.5555555555555556,
              "#d8576b"
             ],
             [
              0.6666666666666666,
              "#ed7953"
             ],
             [
              0.7777777777777778,
              "#fb9f3a"
             ],
             [
              0.8888888888888888,
              "#fdca26"
             ],
             [
              1,
              "#f0f921"
             ]
            ],
            "type": "contour"
           }
          ],
          "contourcarpet": [
           {
            "colorbar": {
             "outlinewidth": 0,
             "ticks": ""
            },
            "type": "contourcarpet"
           }
          ],
          "heatmap": [
           {
            "colorbar": {
             "outlinewidth": 0,
             "ticks": ""
            },
            "colorscale": [
             [
              0,
              "#0d0887"
             ],
             [
              0.1111111111111111,
              "#46039f"
             ],
             [
              0.2222222222222222,
              "#7201a8"
             ],
             [
              0.3333333333333333,
              "#9c179e"
             ],
             [
              0.4444444444444444,
              "#bd3786"
             ],
             [
              0.5555555555555556,
              "#d8576b"
             ],
             [
              0.6666666666666666,
              "#ed7953"
             ],
             [
              0.7777777777777778,
              "#fb9f3a"
             ],
             [
              0.8888888888888888,
              "#fdca26"
             ],
             [
              1,
              "#f0f921"
             ]
            ],
            "type": "heatmap"
           }
          ],
          "heatmapgl": [
           {
            "colorbar": {
             "outlinewidth": 0,
             "ticks": ""
            },
            "colorscale": [
             [
              0,
              "#0d0887"
             ],
             [
              0.1111111111111111,
              "#46039f"
             ],
             [
              0.2222222222222222,
              "#7201a8"
             ],
             [
              0.3333333333333333,
              "#9c179e"
             ],
             [
              0.4444444444444444,
              "#bd3786"
             ],
             [
              0.5555555555555556,
              "#d8576b"
             ],
             [
              0.6666666666666666,
              "#ed7953"
             ],
             [
              0.7777777777777778,
              "#fb9f3a"
             ],
             [
              0.8888888888888888,
              "#fdca26"
             ],
             [
              1,
              "#f0f921"
             ]
            ],
            "type": "heatmapgl"
           }
          ],
          "histogram": [
           {
            "marker": {
             "pattern": {
              "fillmode": "overlay",
              "size": 10,
              "solidity": 0.2
             }
            },
            "type": "histogram"
           }
          ],
          "histogram2d": [
           {
            "colorbar": {
             "outlinewidth": 0,
             "ticks": ""
            },
            "colorscale": [
             [
              0,
              "#0d0887"
             ],
             [
              0.1111111111111111,
              "#46039f"
             ],
             [
              0.2222222222222222,
              "#7201a8"
             ],
             [
              0.3333333333333333,
              "#9c179e"
             ],
             [
              0.4444444444444444,
              "#bd3786"
             ],
             [
              0.5555555555555556,
              "#d8576b"
             ],
             [
              0.6666666666666666,
              "#ed7953"
             ],
             [
              0.7777777777777778,
              "#fb9f3a"
             ],
             [
              0.8888888888888888,
              "#fdca26"
             ],
             [
              1,
              "#f0f921"
             ]
            ],
            "type": "histogram2d"
           }
          ],
          "histogram2dcontour": [
           {
            "colorbar": {
             "outlinewidth": 0,
             "ticks": ""
            },
            "colorscale": [
             [
              0,
              "#0d0887"
             ],
             [
              0.1111111111111111,
              "#46039f"
             ],
             [
              0.2222222222222222,
              "#7201a8"
             ],
             [
              0.3333333333333333,
              "#9c179e"
             ],
             [
              0.4444444444444444,
              "#bd3786"
             ],
             [
              0.5555555555555556,
              "#d8576b"
             ],
             [
              0.6666666666666666,
              "#ed7953"
             ],
             [
              0.7777777777777778,
              "#fb9f3a"
             ],
             [
              0.8888888888888888,
              "#fdca26"
             ],
             [
              1,
              "#f0f921"
             ]
            ],
            "type": "histogram2dcontour"
           }
          ],
          "mesh3d": [
           {
            "colorbar": {
             "outlinewidth": 0,
             "ticks": ""
            },
            "type": "mesh3d"
           }
          ],
          "parcoords": [
           {
            "line": {
             "colorbar": {
              "outlinewidth": 0,
              "ticks": ""
             }
            },
            "type": "parcoords"
           }
          ],
          "pie": [
           {
            "automargin": true,
            "type": "pie"
           }
          ],
          "scatter": [
           {
            "fillpattern": {
             "fillmode": "overlay",
             "size": 10,
             "solidity": 0.2
            },
            "type": "scatter"
           }
          ],
          "scatter3d": [
           {
            "line": {
             "colorbar": {
              "outlinewidth": 0,
              "ticks": ""
             }
            },
            "marker": {
             "colorbar": {
              "outlinewidth": 0,
              "ticks": ""
             }
            },
            "type": "scatter3d"
           }
          ],
          "scattercarpet": [
           {
            "marker": {
             "colorbar": {
              "outlinewidth": 0,
              "ticks": ""
             }
            },
            "type": "scattercarpet"
           }
          ],
          "scattergeo": [
           {
            "marker": {
             "colorbar": {
              "outlinewidth": 0,
              "ticks": ""
             }
            },
            "type": "scattergeo"
           }
          ],
          "scattergl": [
           {
            "marker": {
             "colorbar": {
              "outlinewidth": 0,
              "ticks": ""
             }
            },
            "type": "scattergl"
           }
          ],
          "scattermapbox": [
           {
            "marker": {
             "colorbar": {
              "outlinewidth": 0,
              "ticks": ""
             }
            },
            "type": "scattermapbox"
           }
          ],
          "scatterpolar": [
           {
            "marker": {
             "colorbar": {
              "outlinewidth": 0,
              "ticks": ""
             }
            },
            "type": "scatterpolar"
           }
          ],
          "scatterpolargl": [
           {
            "marker": {
             "colorbar": {
              "outlinewidth": 0,
              "ticks": ""
             }
            },
            "type": "scatterpolargl"
           }
          ],
          "scatterternary": [
           {
            "marker": {
             "colorbar": {
              "outlinewidth": 0,
              "ticks": ""
             }
            },
            "type": "scatterternary"
           }
          ],
          "surface": [
           {
            "colorbar": {
             "outlinewidth": 0,
             "ticks": ""
            },
            "colorscale": [
             [
              0,
              "#0d0887"
             ],
             [
              0.1111111111111111,
              "#46039f"
             ],
             [
              0.2222222222222222,
              "#7201a8"
             ],
             [
              0.3333333333333333,
              "#9c179e"
             ],
             [
              0.4444444444444444,
              "#bd3786"
             ],
             [
              0.5555555555555556,
              "#d8576b"
             ],
             [
              0.6666666666666666,
              "#ed7953"
             ],
             [
              0.7777777777777778,
              "#fb9f3a"
             ],
             [
              0.8888888888888888,
              "#fdca26"
             ],
             [
              1,
              "#f0f921"
             ]
            ],
            "type": "surface"
           }
          ],
          "table": [
           {
            "cells": {
             "fill": {
              "color": "#EBF0F8"
             },
             "line": {
              "color": "white"
             }
            },
            "header": {
             "fill": {
              "color": "#C8D4E3"
             },
             "line": {
              "color": "white"
             }
            },
            "type": "table"
           }
          ]
         },
         "layout": {
          "annotationdefaults": {
           "arrowcolor": "#2a3f5f",
           "arrowhead": 0,
           "arrowwidth": 1
          },
          "autotypenumbers": "strict",
          "coloraxis": {
           "colorbar": {
            "outlinewidth": 0,
            "ticks": ""
           }
          },
          "colorscale": {
           "diverging": [
            [
             0,
             "#8e0152"
            ],
            [
             0.1,
             "#c51b7d"
            ],
            [
             0.2,
             "#de77ae"
            ],
            [
             0.3,
             "#f1b6da"
            ],
            [
             0.4,
             "#fde0ef"
            ],
            [
             0.5,
             "#f7f7f7"
            ],
            [
             0.6,
             "#e6f5d0"
            ],
            [
             0.7,
             "#b8e186"
            ],
            [
             0.8,
             "#7fbc41"
            ],
            [
             0.9,
             "#4d9221"
            ],
            [
             1,
             "#276419"
            ]
           ],
           "sequential": [
            [
             0,
             "#0d0887"
            ],
            [
             0.1111111111111111,
             "#46039f"
            ],
            [
             0.2222222222222222,
             "#7201a8"
            ],
            [
             0.3333333333333333,
             "#9c179e"
            ],
            [
             0.4444444444444444,
             "#bd3786"
            ],
            [
             0.5555555555555556,
             "#d8576b"
            ],
            [
             0.6666666666666666,
             "#ed7953"
            ],
            [
             0.7777777777777778,
             "#fb9f3a"
            ],
            [
             0.8888888888888888,
             "#fdca26"
            ],
            [
             1,
             "#f0f921"
            ]
           ],
           "sequentialminus": [
            [
             0,
             "#0d0887"
            ],
            [
             0.1111111111111111,
             "#46039f"
            ],
            [
             0.2222222222222222,
             "#7201a8"
            ],
            [
             0.3333333333333333,
             "#9c179e"
            ],
            [
             0.4444444444444444,
             "#bd3786"
            ],
            [
             0.5555555555555556,
             "#d8576b"
            ],
            [
             0.6666666666666666,
             "#ed7953"
            ],
            [
             0.7777777777777778,
             "#fb9f3a"
            ],
            [
             0.8888888888888888,
             "#fdca26"
            ],
            [
             1,
             "#f0f921"
            ]
           ]
          },
          "colorway": [
           "#636efa",
           "#EF553B",
           "#00cc96",
           "#ab63fa",
           "#FFA15A",
           "#19d3f3",
           "#FF6692",
           "#B6E880",
           "#FF97FF",
           "#FECB52"
          ],
          "font": {
           "color": "#2a3f5f"
          },
          "geo": {
           "bgcolor": "white",
           "lakecolor": "white",
           "landcolor": "#E5ECF6",
           "showlakes": true,
           "showland": true,
           "subunitcolor": "white"
          },
          "hoverlabel": {
           "align": "left"
          },
          "hovermode": "closest",
          "mapbox": {
           "style": "light"
          },
          "paper_bgcolor": "white",
          "plot_bgcolor": "#E5ECF6",
          "polar": {
           "angularaxis": {
            "gridcolor": "white",
            "linecolor": "white",
            "ticks": ""
           },
           "bgcolor": "#E5ECF6",
           "radialaxis": {
            "gridcolor": "white",
            "linecolor": "white",
            "ticks": ""
           }
          },
          "scene": {
           "xaxis": {
            "backgroundcolor": "#E5ECF6",
            "gridcolor": "white",
            "gridwidth": 2,
            "linecolor": "white",
            "showbackground": true,
            "ticks": "",
            "zerolinecolor": "white"
           },
           "yaxis": {
            "backgroundcolor": "#E5ECF6",
            "gridcolor": "white",
            "gridwidth": 2,
            "linecolor": "white",
            "showbackground": true,
            "ticks": "",
            "zerolinecolor": "white"
           },
           "zaxis": {
            "backgroundcolor": "#E5ECF6",
            "gridcolor": "white",
            "gridwidth": 2,
            "linecolor": "white",
            "showbackground": true,
            "ticks": "",
            "zerolinecolor": "white"
           }
          },
          "shapedefaults": {
           "line": {
            "color": "#2a3f5f"
           }
          },
          "ternary": {
           "aaxis": {
            "gridcolor": "white",
            "linecolor": "white",
            "ticks": ""
           },
           "baxis": {
            "gridcolor": "white",
            "linecolor": "white",
            "ticks": ""
           },
           "bgcolor": "#E5ECF6",
           "caxis": {
            "gridcolor": "white",
            "linecolor": "white",
            "ticks": ""
           }
          },
          "title": {
           "x": 0.05
          },
          "xaxis": {
           "automargin": true,
           "gridcolor": "white",
           "linecolor": "white",
           "ticks": "",
           "title": {
            "standoff": 15
           },
           "zerolinecolor": "white",
           "zerolinewidth": 2
          },
          "yaxis": {
           "automargin": true,
           "gridcolor": "white",
           "linecolor": "white",
           "ticks": "",
           "title": {
            "standoff": 15
           },
           "zerolinecolor": "white",
           "zerolinewidth": 2
          }
         }
        },
        "title": {
         "text": "Data Samples"
        },
        "width": 900
       }
      }
     },
     "metadata": {},
     "output_type": "display_data"
    }
   ],
   "source": [
    "# Display Data\n",
    "\n",
    "hF = go.Figure()\n",
    "hF.add_trace(go.Surface(x = vX, y = vX, z = mY, opacity = 0.35, showscale = False, name = 'Gaussian'))\n",
    "# hF.add_trace(go.Surface(x = vX, y = vX, z = np.reshape(vYEst, (numGridPts, numGridPts)), name = 'Gaussian'))\n",
    "hF.add_trace(go.Scatter3d(x = np.repeat(vX, numGridPts), y = np.tile(vX, numGridPts), z = mY.flat, mode = 'markers', name = 'Samples'))\n",
    "hF.add_trace(go.Scatter3d(x = np.repeat(vX, numGridPts), y = np.tile(vX, numGridPts), z = vYEst, mode = 'markers', name = 'Quadratic Model'))\n",
    "hF.add_trace(go.Scatter3d(x = [vXMax[0]], y = [vXMax[1]], z = [valYMax], mode = 'markers', name = 'Quadratic Model Peak'))\n",
    "hF.update_layout(title = 'Data Samples', scene = dict(xaxis_title = r'x_1', yaxis_title = r'x_2', zaxis_title = ''),\n",
    "                 autosize = False, width = 900, height = 600, margin = dict(l = 10, r = 10, b = 10, t = 40),\n",
    "                 coloraxis_showscale = False) #<! No LaTeX support in 3D plots"
   ]
  },
  {
   "cell_type": "markdown",
   "metadata": {},
   "source": [
    "* <font color='red'>(**?**)</font> Did the model estimate the peak well? Explain.\n",
    "* <font color='red'>(**?**)</font> How can it be improved? Think about the number of points and the choice.\n",
    "* <font color='green'>(**@**)</font> Implement the idea and verify improves results.\n"
   ]
  }
 ],
 "metadata": {
  "kernelspec": {
   "display_name": "Python 3",
   "language": "python",
   "name": "python3"
  },
  "language_info": {
   "codemirror_mode": {
    "name": "ipython",
    "version": 3
   },
   "file_extension": ".py",
   "mimetype": "text/x-python",
   "name": "python",
   "nbconvert_exporter": "python",
   "pygments_lexer": "ipython3",
   "version": "3.11.8"
  },
  "toc": {
   "base_numbering": 1,
   "nav_menu": {},
   "number_sections": false,
   "sideBar": true,
   "skip_h1_title": false,
   "title_cell": "Table of Contents",
   "title_sidebar": "Contents",
   "toc_cell": false,
   "toc_position": {},
   "toc_section_display": true,
   "toc_window_display": true
  },
  "varInspector": {
   "cols": {
    "lenName": 16,
    "lenType": 16,
    "lenVar": 40
   },
   "kernels_config": {
    "python": {
     "delete_cmd_postfix": "",
     "delete_cmd_prefix": "del ",
     "library": "var_list.py",
     "varRefreshCmd": "print(var_dic_list())"
    },
    "r": {
     "delete_cmd_postfix": ") ",
     "delete_cmd_prefix": "rm(",
     "library": "var_list.r",
     "varRefreshCmd": "cat(var_dic_list()) "
    }
   },
   "types_to_exclude": [
    "module",
    "function",
    "builtin_function_or_method",
    "instance",
    "_Feature"
   ],
   "window_display": false
  },
  "vscode": {
   "interpreter": {
    "hash": "39577bab1f263e62e0b74f5b8086bd735049bf4751f6562b2d4b2969dc308293"
   }
  }
 },
 "nbformat": 4,
 "nbformat_minor": 4
}
