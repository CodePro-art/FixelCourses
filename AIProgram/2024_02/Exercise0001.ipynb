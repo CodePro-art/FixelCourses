{
 "cells": [
  {
   "attachments": {},
   "cell_type": "markdown",
   "metadata": {},
   "source": [
    "[![Fixel Algorithms](https://i.imgur.com/AqKHVZ0.png)](https://fixelalgorithms.gitlab.io/)\n",
    "\n",
    "# AI Program\n",
    "\n",
    "## Exercise 0001 - Python\n",
    "\n",
    "> Notebook by:\n",
    "> - Royi Avital RoyiAvital@fixelalgorithms.com\n",
    "\n",
    "## Revision History\n",
    "\n",
    "| Version | Date       | User        |Content / Changes                                                   |\n",
    "|---------|------------|-------------|--------------------------------------------------------------------|\n",
    "| 0.1.000 | 22/02/2024 | Royi Avital | First version                                                      |"
   ]
  },
  {
   "attachments": {},
   "cell_type": "markdown",
   "metadata": {},
   "source": [
    "[![Open In Colab](https://colab.research.google.com/assets/colab-badge.svg)](https://colab.research.google.com/github/FixelAlgorithmsTeam/FixelCourses/blob/master/AIProgram/2024_02/Exercise001.ipynb)"
   ]
  },
  {
   "cell_type": "code",
   "execution_count": null,
   "metadata": {
    "ExecuteTime": {
     "end_time": "2022-02-02T09:30:06.492269Z",
     "start_time": "2022-02-02T09:30:06.220934Z"
    }
   },
   "outputs": [],
   "source": [
    "# Import Packages\n",
    "\n",
    "# General Tools\n",
    "import numpy as np\n",
    "import scipy as sp\n",
    "import pandas as pd\n",
    "\n",
    "from numba import jit, njit\n",
    "\n",
    "# Image Processing\n",
    "\n",
    "# Machine Learning\n",
    "\n",
    "\n",
    "# Miscellaneous\n",
    "import os\n",
    "from platform import python_version\n",
    "import random\n",
    "import timeit\n",
    "\n",
    "# Typing\n",
    "from typing import Callable, Dict, List, Optional, Set, Tuple, Union\n",
    "\n",
    "# Visualization\n",
    "import matplotlib as mpl\n",
    "import matplotlib.pyplot as plt\n",
    "import seaborn as sns\n",
    "# from bokeh.plotting import figure, show\n",
    "\n",
    "# Jupyter\n",
    "from IPython import get_ipython\n",
    "from IPython.display import Image, display\n",
    "from ipywidgets import Dropdown, FloatSlider, interact, IntSlider, Layout"
   ]
  },
  {
   "attachments": {},
   "cell_type": "markdown",
   "metadata": {},
   "source": [
    "## Notations\n",
    "\n",
    "* <font color='red'>(**?**)</font> Question to answer interactively.\n",
    "* <font color='blue'>(**!**)</font> Simple task to add code for the notebook.\n",
    "* <font color='green'>(**@**)</font> Optional / Extra self practice.\n",
    "* <font color='brown'>(**#**)</font> Note / Useful resource / Food for thought.\n",
    "\n",
    "Code Notations:\n",
    "\n",
    "```python\n",
    "someVar    = 2; #<! Notation for a variable\n",
    "vVector    = np.random.rand(4) #<! Notation for 1D array\n",
    "mMatrix    = np.random.rand(4, 3) #<! Notation for 2D array\n",
    "tTensor    = np.random.rand(4, 3, 2, 3) #<! Notation for nD array (Tensor)\n",
    "tuTuple    = (1, 2, 3) #<! Notation for a tuple\n",
    "lList      = [1, 2, 3] #<! Notation for a list\n",
    "dDict      = {1: 3, 2: 2, 3: 1} #<! Notation for a dictionary\n",
    "oObj       = MyClass() #<! Notation for an object\n",
    "dfData     = pd.DataFrame() #<! Notation for a data frame\n",
    "dsData     = pd.Series() #<! Notation for a series\n",
    "hObj       = plt.Axes() #<! Notation for an object / handler / function handler\n",
    "```\n",
    "\n",
    "### Code Exercise\n",
    "\n",
    " - Single line fill\n",
    "\n",
    " ```python\n",
    " vallToFill = ???\n",
    " ```\n",
    "\n",
    " - Multi Line to Fill (At least one)\n",
    "\n",
    " ```python\n",
    " # You need to start writing\n",
    " ????\n",
    " ```\n",
    "\n",
    " - Section to Fill\n",
    "\n",
    "```python\n",
    "#===========================Fill This===========================#\n",
    "# 1. Explanation about what to do.\n",
    "# !! Remarks to follow / take under consideration.\n",
    "mX = ???\n",
    "\n",
    "???\n",
    "#===============================================================#\n",
    "```"
   ]
  },
  {
   "cell_type": "code",
   "execution_count": null,
   "metadata": {},
   "outputs": [],
   "source": [
    "# Configuration\n",
    "# %matplotlib inline\n",
    "\n",
    "seedNum = 512\n",
    "np.random.seed(seedNum)\n",
    "random.seed(seedNum)\n",
    "\n",
    "# sns.set_theme() #>! Apply SeaBorn theme\n",
    "\n",
    "runInGoogleColab = 'google.colab' in str(get_ipython())"
   ]
  },
  {
   "cell_type": "code",
   "execution_count": null,
   "metadata": {},
   "outputs": [],
   "source": [
    "# Constants\n",
    "\n"
   ]
  },
  {
   "cell_type": "code",
   "execution_count": null,
   "metadata": {},
   "outputs": [],
   "source": [
    "# Course Packages\n"
   ]
  },
  {
   "cell_type": "code",
   "execution_count": null,
   "metadata": {},
   "outputs": [],
   "source": [
    "# General Auxiliary Functions\n",
    "\n"
   ]
  },
  {
   "attachments": {},
   "cell_type": "markdown",
   "metadata": {},
   "source": [
    "## Question 001 - Fibonacci Sequence\n",
    "\n",
    "The Fibonacci sequence $\\left\\{ a_{n}\\right\\} _{n=0}^{\\infty}$ is defined by:\n",
    "\n",
    "$$\n",
    "{a}_{n} = \\begin{cases}\n",
    "0 & n = 0 \\\\\n",
    "1 & n = 1 \\\\\n",
    "{a}_{n-1} + {a}_{n-2} & n \\geq 2\n",
    "\\end{cases}\n",
    "$$\n",
    "\n",
    "The first few elements are:\n",
    "\n",
    "$$ 0, 1, 1, 2, 3, 5, 8, 13, 21,\\ldots $$\n",
    "\n",
    "This section implement the function computes the $n$ -th Fibonacci number.\n",
    "It is required to implement the function in 2 flavors:\n",
    "\n",
    "1. Use a recursion.\n",
    "2. Use a `for` loop.\n"
   ]
  },
  {
   "cell_type": "code",
   "execution_count": null,
   "metadata": {},
   "outputs": [],
   "source": [
    "#===========================Fill This===========================#\n",
    "# 1. Implement the `FibonacciRec()` function.\n",
    "# !! Implement using a recursion.\n",
    "\n",
    "def FibonacciRec(n: int) -> int:\n",
    "    \n",
    "    if n <= 1:\n",
    "        return n\n",
    "    \n",
    "    return FibonacciRec(n - 1) + FibonacciRec(n - 2)\n",
    "#===============================================================#"
   ]
  },
  {
   "cell_type": "code",
   "execution_count": null,
   "metadata": {},
   "outputs": [],
   "source": [
    "#===========================Fill This===========================#\n",
    "# 1. Implement the `FibonacciLoop()` function.\n",
    "# !! Implement using a loop.\n",
    "\n",
    "def FibonacciLoop(n: int) -> int:\n",
    "    \n",
    "    if n <= 1:\n",
    "        return n\n",
    "    \n",
    "    n0 = 0\n",
    "    n1 = 1\n",
    "    for ii in range(n - 1):\n",
    "        n1, n0 = n0 + n1, n1\n",
    "        \n",
    "    return n1\n",
    "#===============================================================#"
   ]
  },
  {
   "cell_type": "code",
   "execution_count": null,
   "metadata": {},
   "outputs": [],
   "source": [
    "# Function Verification\n",
    "\n",
    "numNumbers = 15 #<! Don't change\n",
    "\n",
    "lRef = [0, 1, 1, 2, 3, 5, 8, 13, 21, 34, 55, 89, 144, 233, 377] #<! Reference solution\n",
    "lFun = [(FibonacciRec, 'FibonacciRec'), (FibonacciLoop, 'FibonacciLoop')]\n",
    "\n",
    "for hF, funName in lFun:\n",
    "    lAns = [hF(ii) for ii in range(numNumbers)]\n",
    "    \n",
    "    # for ii in range(numNumbers):\n",
    "    #     print(f'The {ii:03d} -th Fibonacci number is given by (According to the answer): {lAns[ii]}')\n",
    "        \n",
    "    if lRef == lAns:\n",
    "        print(f'The {funName} implementation was correct up to the {numNumbers} -th Fibonacci number')\n",
    "    else:\n",
    "        print(f'The {funName} implementation was not correct')"
   ]
  },
  {
   "cell_type": "markdown",
   "metadata": {},
   "source": [
    "## Question 002 - Rotation of 2D Data (Image)\n",
    "\n",
    "In this section we'll create a 2D data and rotate it using a rotation matrix.\n",
    "\n",
    "The data is stored in the matrix `mSmiley` with shape `mSmiley.shape = (2, 180)` (You may want to verify).      \n",
    "In other words $\\mathrm{smiley} \\in \\mathbb{R}^{2 \\times 180}$.  \n",
    "Each column in `mSmiley` is a 2D vector.\n",
    "\n",
    "Your task is to rotate the 2D data in the array `mSmiley` in $\\theta=30^{\\circ}$.  \n",
    "\n",
    "**Hint**: A $2 \\times 2$ (In 2D) rotation matrix has the following form:\n",
    "\n",
    "$$\\boldsymbol{R} = \\left[\\begin{matrix}\\cos\\left(\\theta\\right) & -\\sin\\left(\\theta\\right)\\\\\n",
    "\\sin\\left(\\theta\\right) & \\cos\\left(\\theta\\right)\n",
    "\\end{matrix}\\right]$$\n",
    "\n",
    "**Extra:**\n",
    "* Add an interactive slider for `θ`.\n",
    "* Add a nose.\n",
    "\n",
    "<div class=\"alert alert-danger\">\n",
    "    \n",
    "**Tip:**\n",
    "* Given a matrix `M` and a vector `v`, the matrix by vector multiplication ($\\boldsymbol{u} = M \\boldsymbol{v}$) is performed using:\n",
    "    \n",
    "```python\n",
    "u = M @ v\n",
    "```\n",
    "\n",
    "* Pay attention to the use of `[Deg]` vs. `[Rad]`.\n",
    "</span>\n",
    "</div>"
   ]
  },
  {
   "cell_type": "code",
   "execution_count": null,
   "metadata": {},
   "outputs": [],
   "source": [
    "# Generate Data (Smiley Face)\n",
    "\n",
    "R    = 1\n",
    "r    = .7\n",
    "ℼ    = np.pi\n",
    "θ    = np.linspace(0, 2 * ℼ, 100, endpoint = False)\n",
    "φ    = np.linspace(-ℼ/4, ℼ/4, 20, endpoint = False) - ℼ/2\n",
    "ball = np.random.randn(30, 2) / 20\n",
    "\n",
    "face   = np.c_[R * np.cos(θ), R * np.sin(θ)]\n",
    "mouth  = np.c_[r * np.cos(φ), r * np.sin(φ)]\n",
    "eye1   = ball + [0.4, 0.5]\n",
    "eye2   = eye1 * [-1,  1]\n",
    "mSmiley = np.concatenate([face, mouth, eye1, eye2]).T\n"
   ]
  },
  {
   "cell_type": "code",
   "execution_count": null,
   "metadata": {},
   "outputs": [],
   "source": [
    "# Plot the Data\n",
    "\n",
    "hF, hA = plt.subplots(figsize = (5, 5)) #<! Generate a figure and an axes\n",
    "\n",
    "hA.scatter(mSmiley[0, :], mSmiley[1, :], s = 50, c = 'b') #<! Draw on the axes using `scatter()`\n",
    "hA.axis('equal') #<! Force axis ratio to be 1:1\n",
    "\n",
    "plt.show() #<! Draw the current canvas buffer (All above is lazy)"
   ]
  },
  {
   "cell_type": "code",
   "execution_count": null,
   "metadata": {},
   "outputs": [],
   "source": [
    "# Function Definition\n",
    "\n",
    "def RotateSmiley(mSmiley: np.ndarray, θ: float) -> np.ndarray:\n",
    "\n",
    "    θ = np.deg2rad(θ) #<! Look at edge case at https://stackoverflow.com/a/74270198\n",
    "\n",
    "    mR = np.array([[np.cos(θ), -np.sin(θ)],\n",
    "                  [np.sin(θ),  np.cos(θ)]])\n",
    "    \n",
    "    smileyRot = mR @ mSmiley\n",
    "    \n",
    "    return smileyRot"
   ]
  },
  {
   "cell_type": "code",
   "execution_count": null,
   "metadata": {},
   "outputs": [],
   "source": [
    "# Function Verification\n",
    "\n",
    "θ = 30 #<! [Deg]\n",
    "mSmileyRot = RotateSmiley(mSmiley, θ)"
   ]
  },
  {
   "cell_type": "code",
   "execution_count": null,
   "metadata": {},
   "outputs": [],
   "source": [
    "# Plot Result\n",
    "\n",
    "def PlotSmiley(mS):\n",
    "    \n",
    "    hF, hA = plt.subplots(figsize = (5, 5))\n",
    "    hA.scatter(mS[0, :], mS[1, :], s = 50, c = 'b') \n",
    "    hA.axis('equal')\n",
    "\n",
    "\n",
    "PlotSmiley(mSmileyRot)\n",
    "\n",
    "plt.show() "
   ]
  }
 ],
 "metadata": {
  "kernelspec": {
   "display_name": "Python 3",
   "language": "python",
   "name": "python3"
  },
  "language_info": {
   "codemirror_mode": {
    "name": "ipython",
    "version": 3
   },
   "file_extension": ".py",
   "mimetype": "text/x-python",
   "name": "python",
   "nbconvert_exporter": "python",
   "pygments_lexer": "ipython3",
   "version": "3.11.8"
  },
  "toc": {
   "base_numbering": 1,
   "nav_menu": {},
   "number_sections": false,
   "sideBar": true,
   "skip_h1_title": false,
   "title_cell": "Table of Contents",
   "title_sidebar": "Contents",
   "toc_cell": false,
   "toc_position": {},
   "toc_section_display": true,
   "toc_window_display": true
  },
  "varInspector": {
   "cols": {
    "lenName": 16,
    "lenType": 16,
    "lenVar": 40
   },
   "kernels_config": {
    "python": {
     "delete_cmd_postfix": "",
     "delete_cmd_prefix": "del ",
     "library": "var_list.py",
     "varRefreshCmd": "print(var_dic_list())"
    },
    "r": {
     "delete_cmd_postfix": ") ",
     "delete_cmd_prefix": "rm(",
     "library": "var_list.r",
     "varRefreshCmd": "cat(var_dic_list()) "
    }
   },
   "types_to_exclude": [
    "module",
    "function",
    "builtin_function_or_method",
    "instance",
    "_Feature"
   ],
   "window_display": false
  },
  "vscode": {
   "interpreter": {
    "hash": "39577bab1f263e62e0b74f5b8086bd735049bf4751f6562b2d4b2969dc308293"
   }
  }
 },
 "nbformat": 4,
 "nbformat_minor": 4
}
