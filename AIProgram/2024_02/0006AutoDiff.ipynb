{
 "cells": [
  {
   "attachments": {},
   "cell_type": "markdown",
   "metadata": {},
   "source": [
    "[![Fixel Algorithms](https://i.imgur.com/AqKHVZ0.png)](https://fixelalgorithms.gitlab.io/)\n",
    "\n",
    "# AI Program\n",
    "\n",
    "## Essential Matrix Calculus - Auto Diff\n",
    "\n",
    "> Notebook by:\n",
    "> - Royi Avital RoyiAvital@fixelalgorithms.com\n",
    "\n",
    "## Revision History\n",
    "\n",
    "| Version | Date       | User        |Content / Changes                                                   |\n",
    "|---------|------------|-------------|--------------------------------------------------------------------|\n",
    "| 1.0.000 | 05/02/2024 | Royi Avital | First version                                                      |"
   ]
  },
  {
   "attachments": {},
   "cell_type": "markdown",
   "metadata": {},
   "source": [
    "[![Open In Colab](https://colab.research.google.com/assets/colab-badge.svg)](https://colab.research.google.com/github/FixelAlgorithmsTeam/FixelCourses/blob/master/AIProgram/2024_02/0006AutoDiff.ipynb)"
   ]
  },
  {
   "cell_type": "code",
   "execution_count": null,
   "metadata": {
    "ExecuteTime": {
     "end_time": "2022-02-02T09:30:06.492269Z",
     "start_time": "2022-02-02T09:30:06.220934Z"
    }
   },
   "outputs": [],
   "source": [
    "# Import Packages\n",
    "\n",
    "# General Tools\n",
    "import numpy as np\n",
    "import scipy as sp\n",
    "import pandas as pd\n",
    "\n",
    "# Machine Learning\n",
    "import autograd.numpy as anp\n",
    "from autograd import grad\n",
    "from autograd import elementwise_grad as egrad\n",
    "\n",
    "# Miscellaneous\n",
    "import os\n",
    "import math\n",
    "from platform import python_version\n",
    "import random\n",
    "\n",
    "# Typing\n",
    "from typing import Callable, List, Tuple, Union\n",
    "\n",
    "# Visualization\n",
    "from matplotlib.colors import LogNorm, Normalize, PowerNorm\n",
    "import matplotlib.pyplot as plt\n",
    "import seaborn as sns\n",
    "\n",
    "# Jupyter\n",
    "from IPython import get_ipython\n",
    "from IPython.display import Image, display\n",
    "from ipywidgets import Dropdown, FloatSlider, interact, IntSlider, Layout"
   ]
  },
  {
   "attachments": {},
   "cell_type": "markdown",
   "metadata": {},
   "source": [
    "## Notations\n",
    "\n",
    "* <font color='red'>(**?**)</font> Question to answer interactively.\n",
    "* <font color='blue'>(**!**)</font> Simple task to add code for the notebook.\n",
    "* <font color='green'>(**@**)</font> Optional / Extra self practice.\n",
    "* <font color='brown'>(**#**)</font> Note / Useful resource / Food for thought.\n",
    "\n",
    "Code Notations:\n",
    "\n",
    "```python\n",
    "someVar    = 2; #<! Notation for a variable\n",
    "vVector    = np.random.rand(4); #<! Notation for 1D array\n",
    "mMatrix    = np.random.rand(4, 3); #<! Notation for 2D array\n",
    "tTensor    = np.random.rand(4, 3, 2, 3); #<! Notation for nD array (Tensor)\n",
    "cCell      = cell(3, 1); #<! Notation for a cell array\n",
    "oObj       = MyClass(); #<! Notation for an object\n",
    "dfData     = ps.DataFrame(); #<! Notation for a data frame\n",
    "hObj       = plt.Axes(); #<! Notation for an object / handler / function handler\n",
    "```\n",
    "\n",
    "### Code Exercise\n",
    "\n",
    " - Single line fill\n",
    "\n",
    " ```python\n",
    " vallToFill = ???\n",
    " ```\n",
    "\n",
    " - Multi Line to Fill (At least one)\n",
    "\n",
    " ```python\n",
    " # You need to start writing\n",
    " ????\n",
    " ```\n",
    "\n",
    " - Section to Fill\n",
    "\n",
    "```python\n",
    "#===========================Fill This===========================#\n",
    "# 1. Explanation about what to do.\n",
    "# !! Remarks to follow / take under consideration.\n",
    "mX = ???\n",
    "\n",
    "???\n",
    "#===============================================================#\n",
    "```"
   ]
  },
  {
   "cell_type": "code",
   "execution_count": null,
   "metadata": {},
   "outputs": [],
   "source": [
    "# Configuration\n",
    "%matplotlib inline\n",
    "\n",
    "# warnings.filterwarnings(\"ignore\")\n",
    "\n",
    "seedNum = 512\n",
    "np.random.seed(seedNum)\n",
    "random.seed(seedNum)\n",
    "\n",
    "# sns.set_theme() #>! Apply SeaBorn theme\n",
    "# sns.set_palette(\"tab10\")\n",
    "\n",
    "runInGoogleColab = 'google.colab' in str(get_ipython())"
   ]
  },
  {
   "cell_type": "code",
   "execution_count": null,
   "metadata": {},
   "outputs": [],
   "source": [
    "# Constants\n",
    "\n",
    "FIG_SIZE_DEF    = (8, 8)\n",
    "ELM_SIZE_DEF    = 50\n",
    "CLASS_COLOR     = ('b', 'r')\n",
    "EDGE_COLOR      = 'k'\n",
    "MARKER_SIZE_DEF = 10\n",
    "LINE_WIDTH_DEF  = 2\n"
   ]
  },
  {
   "cell_type": "code",
   "execution_count": null,
   "metadata": {},
   "outputs": [],
   "source": [
    "# Course Packages\n"
   ]
  },
  {
   "cell_type": "code",
   "execution_count": null,
   "metadata": {},
   "outputs": [],
   "source": [
    "# Auxiliary Functions"
   ]
  },
  {
   "cell_type": "code",
   "execution_count": null,
   "metadata": {},
   "outputs": [],
   "source": [
    "# Parameters"
   ]
  },
  {
   "attachments": {},
   "cell_type": "markdown",
   "metadata": {},
   "source": [
    "## Auto Differentiation\n",
    "\n",
    "The concept of _Auto differentiation_ is being able to calculate the gradient or higher order derivatives of a function without explicit procedure.  \n",
    "The vision is being able to \n",
    "\n",
    "This notebook uses one of the pioneer packages in the field, [`AutoGrad`](https://github.com/HIPS/autograd).   \n",
    "This package have inspired `PyTorch` and `JaX` which are _State of the Art_ auto differentiation packages.\n",
    "\n",
    "`AutoGrad` works by overloading a sub set of _NumPy_ and _SciPy_ functions.  \n",
    "In order to use it, a function must replace the operations of `numpy` by `autograd.numpy`.\n",
    "\n",
    "* <font color='brown'>(**#**)</font> This notebook doesn't cover the ideas for _auto differentiation_. One might watch [What is Automatic Differentiation](https://www.youtube.com/watch?v=wG_nF1awSSY).\n",
    "* <font color='brown'>(**#**)</font> There are few approaches to auto differentiation. One of them is based on Dual Numbers.  \n",
    "  See A Hands On Introduction to Automatic Differentiation: [Part I](https://mostafa-samir.github.io/auto-diff-pt1), [Part II](https://mostafa-samir.github.io/auto-diff-pt2)."
   ]
  },
  {
   "cell_type": "code",
   "execution_count": null,
   "metadata": {},
   "outputs": [],
   "source": [
    "# Parameters\n",
    "\n",
    "# Data\n",
    "numCoeff    = 3\n",
    "numSamples  = 50\n",
    "noiseStd    = 0.15\n",
    "\n",
    "# Model\n",
    "λ  = 0.1 #<! Regularization\n",
    "mD = -np.eye(numSamples - 1, numSamples, k = 0) + np.eye(numSamples - 1, numSamples, k = 1) #<! Finite Differences Matrix\n",
    "δ  = 1 #<! Huber Loss\n",
    "\n",
    "# Visualization\n",
    "numGrdiPts = 1000\n"
   ]
  },
  {
   "cell_type": "code",
   "execution_count": null,
   "metadata": {},
   "outputs": [],
   "source": [
    "# Auxiliary Functions\n",
    "\n"
   ]
  },
  {
   "attachments": {},
   "cell_type": "markdown",
   "metadata": {},
   "source": [
    "## Exercise 001\n",
    "\n",
    "1. Compute the directional derivative $\\nabla f \\left( \\boldsymbol{x} \\right) \\left[ \\boldsymbol{h} \\right]$ and the gradient $\\nabla f \\left( \\boldsymbol{x} \\right)$ of:\n",
    "\n",
    "$$ f \\left( \\boldsymbol{x} \\right) = \\boldsymbol{x}^{T} \\boldsymbol{A} \\boldsymbol{x} $$\n",
    "\n",
    "2. Implement the gradient function a Python function.\n",
    "3. Implement the function using `AutoGrad`.\n"
   ]
  },
  {
   "cell_type": "markdown",
   "metadata": {},
   "source": [
    "## Solution 001\n",
    "\n",
    "Since we can write $f \\left( \\boldsymbol{x} \\right) = \\left \\langle \\boldsymbol{x}, A \\boldsymbol{x} \\right \\rangle$:\n",
    "\n",
    "$$\n",
    "\\begin{aligned}\n",
    "\\nabla f \\left( \\boldsymbol{x} \\right) \\left[ \\boldsymbol{h} \\right] & = \\left \\langle \\boldsymbol{h}, A \\boldsymbol{x} \\right \\rangle + \\left \\langle \\boldsymbol{x}, A \\boldsymbol{h} \\right \\rangle && \\text{Product rule and linearity} \\\\\n",
    "& = \\left \\langle A \\boldsymbol{x}, \\boldsymbol{h} \\right \\rangle + \\left \\langle \\boldsymbol{x}, A \\boldsymbol{h} \\right \\rangle && \\text{Symmetry} \\\\\n",
    "& = \\left \\langle A \\boldsymbol{x}, \\boldsymbol{h} \\right \\rangle + \\left \\langle {A}^{T} \\boldsymbol{x}, \\boldsymbol{h} \\right \\rangle && \\text{Adjoint (Or just equality)} \\\\\n",
    "& = \\left \\langle \\left( A + {A}^{T} \\right) \\boldsymbol{x}, \\boldsymbol{h} \\right \\rangle && \\text{Linearity} \\\\\n",
    "& \\Rightarrow \\nabla f \\left( \\boldsymbol{x} \\right) = \\left( A + {A}^{T} \\right) \\boldsymbol{x}\n",
    "&& \\blacksquare\n",
    "\\end{aligned}\n",
    "$$"
   ]
  },
  {
   "cell_type": "code",
   "execution_count": null,
   "metadata": {},
   "outputs": [],
   "source": [
    "# The Gradient Function\n",
    "\n",
    "#===========================Fill This===========================#\n",
    "# 1. Implement the gradient function.\n",
    "# !! You may find the `@` operator useful.\n",
    "\n",
    "def GradF( mA: np.ndarray, vX: np.ndarray ) -> np.ndarray:\n",
    "\n",
    "    return (mA + mA.T) @ vX\n",
    "\n",
    "#===============================================================#"
   ]
  },
  {
   "cell_type": "code",
   "execution_count": null,
   "metadata": {},
   "outputs": [],
   "source": [
    "# The Function\n",
    "\n",
    "#===========================Fill This===========================#\n",
    "# 1. Implement the function.\n",
    "# !! Use `anp` instead of `np`.\n",
    "\n",
    "def FunctionF( mA: np.ndarray, vX: np.ndarray ) -> np.ndarray:\n",
    "\n",
    "    return anp.dot(anp.dot(vX, mA), vX)\n",
    "\n",
    "#===============================================================#"
   ]
  },
  {
   "cell_type": "code",
   "execution_count": null,
   "metadata": {},
   "outputs": [],
   "source": [
    "# Data\n",
    "mA = anp.random.rand(5, 5)\n",
    "vX = anp.random.rand(5)\n",
    "\n",
    "# Defining the functions (Single argument)\n",
    "hF          = lambda vX: FunctionF(mA, vX)\n",
    "hGradF      = lambda vX: GradF(mA, vX)\n",
    "hAutoGradF  = grad(hF) #<! AutoGrad\n",
    "\n",
    "print(f'Implementation of the analytic gradient is verified: {np.allclose(hGradF(vX), hAutoGradF(vX))}')"
   ]
  }
 ],
 "metadata": {
  "kernelspec": {
   "display_name": "Python 3",
   "language": "python",
   "name": "python3"
  },
  "language_info": {
   "codemirror_mode": {
    "name": "ipython",
    "version": 3
   },
   "file_extension": ".py",
   "mimetype": "text/x-python",
   "name": "python",
   "nbconvert_exporter": "python",
   "pygments_lexer": "ipython3",
   "version": "3.11.7"
  },
  "toc": {
   "base_numbering": 1,
   "nav_menu": {},
   "number_sections": false,
   "sideBar": true,
   "skip_h1_title": false,
   "title_cell": "Table of Contents",
   "title_sidebar": "Contents",
   "toc_cell": false,
   "toc_position": {},
   "toc_section_display": true,
   "toc_window_display": true
  },
  "varInspector": {
   "cols": {
    "lenName": 16,
    "lenType": 16,
    "lenVar": 40
   },
   "kernels_config": {
    "python": {
     "delete_cmd_postfix": "",
     "delete_cmd_prefix": "del ",
     "library": "var_list.py",
     "varRefreshCmd": "print(var_dic_list())"
    },
    "r": {
     "delete_cmd_postfix": ") ",
     "delete_cmd_prefix": "rm(",
     "library": "var_list.r",
     "varRefreshCmd": "cat(var_dic_list()) "
    }
   },
   "types_to_exclude": [
    "module",
    "function",
    "builtin_function_or_method",
    "instance",
    "_Feature"
   ],
   "window_display": false
  },
  "vscode": {
   "interpreter": {
    "hash": "39577bab1f263e62e0b74f5b8086bd735049bf4751f6562b2d4b2969dc308293"
   }
  }
 },
 "nbformat": 4,
 "nbformat_minor": 4
}
