{
 "cells": [
  {
   "attachments": {},
   "cell_type": "markdown",
   "metadata": {},
   "source": [
    "[![Fixel Algorithms](https://i.imgur.com/AqKHVZ0.png)](https://fixelalgorithms.gitlab.io/)\n",
    "\n",
    "# AI Program\n",
    "\n",
    "## Python - Data Structures\n",
    "\n",
    "> Notebook by:\n",
    "> - Royi Avital RoyiAvital@fixelalgorithms.com\n",
    "\n",
    "## Revision History\n",
    "\n",
    "| Version | Date       | User        |Content / Changes                                                   |\n",
    "|---------|------------|-------------|--------------------------------------------------------------------|\n",
    "| 1.0.000 | 01/02/2024 | Royi Avital | First version                                                      |"
   ]
  },
  {
   "attachments": {},
   "cell_type": "markdown",
   "metadata": {},
   "source": [
    "[![Open In Colab](https://colab.research.google.com/assets/colab-badge.svg)](https://colab.research.google.com/github/FixelAlgorithmsTeam/FixelCourses/blob/master/AIProgram/2024_02/0006PythonDataStructures.ipynb)"
   ]
  },
  {
   "cell_type": "code",
   "execution_count": null,
   "metadata": {
    "ExecuteTime": {
     "end_time": "2022-02-02T09:30:06.492269Z",
     "start_time": "2022-02-02T09:30:06.220934Z"
    }
   },
   "outputs": [],
   "source": [
    "# Import Packages\n",
    "\n",
    "# General Tools\n",
    "\n",
    "# Computer Vision\n",
    "\n",
    "# Machine Learning\n",
    "\n",
    "# Deep Learning\n",
    "\n",
    "# Miscellaneous\n",
    "import os\n",
    "import math\n",
    "from platform import python_version\n",
    "import random\n",
    "import time\n",
    "import urllib.request\n",
    "\n",
    "# Typing\n",
    "from typing import Callable, List, Tuple, Union\n",
    "\n",
    "# Visualization\n",
    "import matplotlib.pyplot as plt\n",
    "import seaborn as sns\n",
    "\n",
    "# Jupyter\n",
    "from IPython import get_ipython\n",
    "from IPython.display import Image, display\n",
    "from ipywidgets import Dropdown, FloatSlider, interact, IntSlider, Layout"
   ]
  },
  {
   "attachments": {},
   "cell_type": "markdown",
   "metadata": {},
   "source": [
    "## Notations\n",
    "\n",
    "* <font color='red'>(**?**)</font> Question to answer interactively.\n",
    "* <font color='blue'>(**!**)</font> Simple task to add code for the notebook.\n",
    "* <font color='green'>(**@**)</font> Optional / Extra self practice.\n",
    "* <font color='brown'>(**#**)</font> Note / Useful resource / Food for thought.\n",
    "\n",
    "### Code Exercise\n",
    "\n",
    " - Single line fill\n",
    "\n",
    " ```python\n",
    " vallToFill = ???\n",
    " ```\n",
    "\n",
    " - Multi Line to Fill (At least one)\n",
    "\n",
    " ```python\n",
    " # You need to start writing\n",
    " ????\n",
    " ```\n",
    "\n",
    " - Section to Fill\n",
    "\n",
    "```python\n",
    "#===========================Fill This===========================#\n",
    "# 1. Explanation about what to do.\n",
    "# !! Remarks to follow / take under consideration.\n",
    "mX = ???\n",
    "\n",
    "???\n",
    "#===============================================================#\n",
    "```"
   ]
  },
  {
   "cell_type": "code",
   "execution_count": null,
   "metadata": {},
   "outputs": [],
   "source": [
    "# Configuration\n",
    "# %matplotlib inline\n",
    "\n",
    "seedNum = 512\n",
    "# np.random.seed(seedNum)\n",
    "random.seed(seedNum)\n",
    "\n",
    "# sns.set_theme() #>! Apply SeaBorn theme\n",
    "\n",
    "runInGoogleColab = 'google.colab' in str(get_ipython())"
   ]
  },
  {
   "cell_type": "code",
   "execution_count": null,
   "metadata": {},
   "outputs": [],
   "source": [
    "# Constants\n"
   ]
  },
  {
   "cell_type": "code",
   "execution_count": null,
   "metadata": {},
   "outputs": [],
   "source": [
    "# Course Packages\n"
   ]
  },
  {
   "cell_type": "code",
   "execution_count": null,
   "metadata": {},
   "outputs": [],
   "source": [
    "# General Auxiliary Functions"
   ]
  },
  {
   "cell_type": "markdown",
   "metadata": {},
   "source": [
    "## Python Data Structures\n",
    "\n",
    "The most uses Python data structures are\n",
    "\n",
    " - `tuple` - Immutable, Ordered.  \n",
    "   Efficient memory access and performance.\n",
    " - `list` - Mutable, Ordered.  \n",
    "   Accessed by integer index, flexible. Less performant than `list`.\n",
    " - `set` - Represents boolean number (`True` / `False`).\n",
    " - `dictionary` - A singleton of the object `None`.\n",
    "\n",
    "You may use the `type()` function to see the information about the data structure."
   ]
  },
  {
   "cell_type": "code",
   "execution_count": null,
   "metadata": {},
   "outputs": [],
   "source": [
    "# Display the Python Version\n",
    "print(f'The Python version is: {python_version()}')"
   ]
  },
  {
   "cell_type": "markdown",
   "metadata": {},
   "source": [
    "### Tuple"
   ]
  },
  {
   "cell_type": "code",
   "execution_count": null,
   "metadata": {},
   "outputs": [],
   "source": [
    "# Generate a Tuple\n",
    "\n",
    "tuA = (1, 2, 'Why?')\n",
    "\n",
    "ii = 0\n",
    "for tupleElm in tuA:\n",
    "    print(f'The element at index {ii}: {tupleElm}')\n",
    "    ii += 1\n",
    "\n",
    "# Accessing using an index\n",
    "print(f'The first element: {tuA[0]}') #<! Python is zero based\n",
    "print(f'The last element: {tuA[len(tuA) - 1]}') #<! Elements are in the range 0, 1, ..., n - 1"
   ]
  },
  {
   "cell_type": "code",
   "execution_count": null,
   "metadata": {},
   "outputs": [],
   "source": [
    "# Tuples Mutability\n",
    "# Try changing the 2nd element:\n",
    "\n",
    "tuA[???] = ???\n",
    "    \n",
    "# Explain the result.\n"
   ]
  },
  {
   "cell_type": "markdown",
   "metadata": {},
   "source": [
    "### List"
   ]
  },
  {
   "cell_type": "code",
   "execution_count": null,
   "metadata": {},
   "outputs": [],
   "source": [
    "# Generate A List\n",
    "lA = [5.4, -2, 'Why', (2, ), [10, 20, 30]]\n",
    "\n",
    "for ii, listItem in enumerate(lA):\n",
    "    if hasattr(listItem, '__len__'): #<! len() is defined on the object\n",
    "        for jj in range(len(listItem)):\n",
    "            print(f'The {jj} sub item in the {ii} list item is: {lA[ii][jj]}') #<! Pay attention to the String object\n",
    "    else:\n",
    "        print(f'The {ii} item in the list is: {listItem}')"
   ]
  },
  {
   "cell_type": "code",
   "execution_count": null,
   "metadata": {},
   "outputs": [],
   "source": [
    "# Lists Are Mutable\n",
    "\n",
    "lB = [1, 2, 3]\n",
    "for ii in range(len(lB)):\n",
    "    lB[ii] -= 1\n",
    "\n",
    "for listItem in lB:\n",
    "    print(f'Item: {listItem}')"
   ]
  },
  {
   "cell_type": "code",
   "execution_count": null,
   "metadata": {},
   "outputs": [],
   "source": [
    "# Lists can be extended\n",
    "lB.append(3)\n",
    "for listItem in lB:\n",
    "    print(f'Item: {listItem}')"
   ]
  },
  {
   "cell_type": "code",
   "execution_count": null,
   "metadata": {},
   "outputs": [],
   "source": [
    "# Lists can be merged\n",
    "lA + lB"
   ]
  },
  {
   "cell_type": "markdown",
   "metadata": {},
   "source": [
    "* <font color='blue'>(**!**)</font> Try extending the list using indices."
   ]
  },
  {
   "cell_type": "code",
   "execution_count": null,
   "metadata": {},
   "outputs": [],
   "source": [
    "# Item can be deleted\n",
    "lB.pop(2)\n",
    "for listItem in lB:\n",
    "    print(f'Item: {listItem}')"
   ]
  },
  {
   "cell_type": "markdown",
   "metadata": {},
   "source": [
    "* <font color='blue'>(**!**)</font> Try `pop()` with no argument."
   ]
  },
  {
   "cell_type": "markdown",
   "metadata": {},
   "source": [
    "#### List Comprehension\n",
    "\n",
    "List comprehensions are a _Pythonic_ way to generate lists.  \n",
    "\n",
    "The model is as following:\n",
    "\n",
    "$$ \\texttt{lA = } \\left[ \\colorbox{yellow}{\\texttt{f(item)}} \\colorbox{magenta}{\\texttt{for item in iterator}} \\colorbox{red}{\\texttt{if g(item) is True}} \\right] $$"
   ]
  },
  {
   "cell_type": "code",
   "execution_count": null,
   "metadata": {},
   "outputs": [],
   "source": [
    "#===========================Fill This===========================#\n",
    "# 1. Create a list of the numbers in the range 2, 3, ..., 20 which divide by 2 and 3.\n",
    "# !! Use a `for` loop.\n",
    "\n",
    "lA = ??? #<! Initialize an empty list\n",
    "\n",
    "for valNum in range(2, 21):\n",
    "    if ((valNum % ???) == ???) and (not(valNum % ???)):\n",
    "        lA.append(???)\n",
    "\n",
    "lA\n",
    "#===============================================================#"
   ]
  },
  {
   "cell_type": "code",
   "execution_count": null,
   "metadata": {},
   "outputs": [],
   "source": [
    "#===========================Fill This===========================#\n",
    "# 1. Create a list of the numbers in the range 2, 3, ..., 20 which divide by 2 and 3.\n",
    "# !! Use a list comprehension.\n",
    "\n",
    "lA = [??? for valNum in ??? if ((???) and (???))]\n",
    "#===============================================================#"
   ]
  },
  {
   "cell_type": "markdown",
   "metadata": {},
   "source": [
    "### Set"
   ]
  },
  {
   "cell_type": "code",
   "execution_count": null,
   "metadata": {},
   "outputs": [],
   "source": [
    "# Generate a Set\n",
    "setA = {1, 2, 10, 11, 'Algebra'}\n",
    "\n",
    "# Test Membership\n",
    "\n",
    "print(f'The set includes {2}: {2 in setA}')\n",
    "print(f'The set includes {3}: {3 in setA}')\n",
    "print(f'The set includes {\"Calculus\"}: {\"Calculus\" in setA}')"
   ]
  },
  {
   "cell_type": "code",
   "execution_count": null,
   "metadata": {},
   "outputs": [],
   "source": [
    "# Items can be added\n",
    "setA.add('Calculus')"
   ]
  },
  {
   "cell_type": "code",
   "execution_count": null,
   "metadata": {},
   "outputs": [],
   "source": [
    "# Each item is unique\n",
    "setA.add('Algebra')\n",
    "setA"
   ]
  },
  {
   "cell_type": "code",
   "execution_count": null,
   "metadata": {},
   "outputs": [],
   "source": [
    "# Supports List Comprehension\n",
    "\n",
    "setB = {x for x in 'abracadabra' if x not in 'abc'}\n",
    "setB"
   ]
  },
  {
   "cell_type": "code",
   "execution_count": null,
   "metadata": {},
   "outputs": [],
   "source": [
    "# Items can be removed\n",
    "setB.remove('d')\n",
    "setB"
   ]
  },
  {
   "cell_type": "markdown",
   "metadata": {},
   "source": [
    "### Dictionary  \n",
    "A _set_ where each item, a key, is paired to a value.  \n",
    "Creates a data structure where the index is arbitrary.  \n",
    "Not efficient for a continuous indexing."
   ]
  },
  {
   "cell_type": "code",
   "execution_count": null,
   "metadata": {},
   "outputs": [],
   "source": [
    "# A Phone Book by a Dictionary\n",
    "\n",
    "dPhoneBook = {'Renana': 42030, 'Boaz': 52030, 'Gideon': 62030}\n",
    "\n",
    "for itmKey, itmVal in dPhoneBook.items():\n",
    "    print(f'{itmKey}\\'s phone number is: {itmVal}')"
   ]
  },
  {
   "cell_type": "code",
   "execution_count": null,
   "metadata": {},
   "outputs": [],
   "source": [
    "# The set of keys:\n",
    "lKeys = dPhoneBook.keys()\n",
    "lKeys"
   ]
  },
  {
   "cell_type": "code",
   "execution_count": null,
   "metadata": {},
   "outputs": [],
   "source": [
    "# Values\n",
    "lVals = dPhoneBook.values()\n",
    "lVals"
   ]
  },
  {
   "cell_type": "code",
   "execution_count": null,
   "metadata": {},
   "outputs": [],
   "source": [
    "# Dictionaries can be constructed by pairs\n",
    "dPhoneBook = dict([('Renana', 42030), ['Boaz', 52030], ('Gideon', 62030)])\n",
    "dPhoneBook"
   ]
  },
  {
   "cell_type": "code",
   "execution_count": null,
   "metadata": {},
   "outputs": [],
   "source": [
    "# Dictionary by a list comprehension\n",
    "dCubes = {x: x ** 3 for x in range(10)}\n",
    "dCubes"
   ]
  },
  {
   "cell_type": "code",
   "execution_count": null,
   "metadata": {},
   "outputs": [],
   "source": [
    "# Elements can be pooped with a default value\n",
    "katPhone = dPhoneBook.pop('Katherine', -1)\n",
    "katPhone"
   ]
  },
  {
   "cell_type": "markdown",
   "metadata": {},
   "source": [
    "* <font color='blue'>(**!**)</font> Use a key which is available on the dictionary with `pop()`. What happens to the dictionary?"
   ]
  },
  {
   "cell_type": "code",
   "execution_count": null,
   "metadata": {},
   "outputs": [],
   "source": [
    "# Elements can be added\n",
    "dPhoneBook.update([('Some', 72030), ['One', 82030]]) #<! Iterable of pairs\n",
    "dPhoneBook"
   ]
  },
  {
   "cell_type": "markdown",
   "metadata": {},
   "source": [
    "### String\n",
    "\n",
    "Strings behaves like a contiguous array of characters (Though it is far from that).  \n",
    "String are immutable."
   ]
  },
  {
   "cell_type": "code",
   "execution_count": null,
   "metadata": {},
   "outputs": [],
   "source": [
    "# Strings\n",
    "strA = 'The Beatles Are the Greatest'\n",
    "strB = \"The Spice Girls Are Even Better\"\n",
    "strC = str(425345634)"
   ]
  },
  {
   "cell_type": "code",
   "execution_count": null,
   "metadata": {},
   "outputs": [],
   "source": [
    "# Accessing by Index\n",
    "strC[4]"
   ]
  },
  {
   "cell_type": "code",
   "execution_count": null,
   "metadata": {},
   "outputs": [],
   "source": [
    "# Merging\n",
    "strA + ', Yet ' + strB"
   ]
  }
 ],
 "metadata": {
  "kernelspec": {
   "display_name": "Python 3",
   "language": "python",
   "name": "python3"
  },
  "language_info": {
   "codemirror_mode": {
    "name": "ipython",
    "version": 3
   },
   "file_extension": ".py",
   "mimetype": "text/x-python",
   "name": "python",
   "nbconvert_exporter": "python",
   "pygments_lexer": "ipython3",
   "version": "3.11.7"
  },
  "toc": {
   "base_numbering": 1,
   "nav_menu": {},
   "number_sections": false,
   "sideBar": true,
   "skip_h1_title": false,
   "title_cell": "Table of Contents",
   "title_sidebar": "Contents",
   "toc_cell": false,
   "toc_position": {},
   "toc_section_display": true,
   "toc_window_display": true
  },
  "varInspector": {
   "cols": {
    "lenName": 16,
    "lenType": 16,
    "lenVar": 40
   },
   "kernels_config": {
    "python": {
     "delete_cmd_postfix": "",
     "delete_cmd_prefix": "del ",
     "library": "var_list.py",
     "varRefreshCmd": "print(var_dic_list())"
    },
    "r": {
     "delete_cmd_postfix": ") ",
     "delete_cmd_prefix": "rm(",
     "library": "var_list.r",
     "varRefreshCmd": "cat(var_dic_list()) "
    }
   },
   "types_to_exclude": [
    "module",
    "function",
    "builtin_function_or_method",
    "instance",
    "_Feature"
   ],
   "window_display": false
  },
  "vscode": {
   "interpreter": {
    "hash": "39577bab1f263e62e0b74f5b8086bd735049bf4751f6562b2d4b2969dc308293"
   }
  }
 },
 "nbformat": 4,
 "nbformat_minor": 4
}
