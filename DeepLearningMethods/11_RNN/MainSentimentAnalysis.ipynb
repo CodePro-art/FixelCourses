{
 "cells": [
  {
   "cell_type": "markdown",
   "id": "psychological-excuse",
   "metadata": {},
   "source": [
    "![Fixel Algorithms](https://fixelalgorithms.co/images/CCExt.png)"
   ]
  },
  {
   "cell_type": "markdown",
   "id": "invalid-curtis",
   "metadata": {},
   "source": [
    "# <center> Deep Learning Methods </center>\n",
    "## <center> Lecture 11 - RNN </center>\n",
    "### <center> Sentiment Analysis </center>"
   ]
  },
  {
   "cell_type": "markdown",
   "id": "short-sunglasses",
   "metadata": {},
   "source": [
    "[![Open In Colab](https://colab.research.google.com/assets/colab-badge.svg)](https://colab.research.google.com/github/FixelAlgorithmsTeam/FixelCourses/blob/master/DeepLearningMethods/11_RNN/MainSentimentAnalysis.ipynb)"
   ]
  },
  {
   "cell_type": "code",
   "execution_count": 1,
   "id": "composed-walnut",
   "metadata": {
    "ExecuteTime": {
     "end_time": "2021-10-10T17:29:31.077499Z",
     "start_time": "2021-10-10T17:29:31.055479Z"
    }
   },
   "outputs": [
    {
     "data": {
      "text/html": [
       "<style>.container { width:80% !important; }</style>"
      ],
      "text/plain": [
       "<IPython.core.display.HTML object>"
      ]
     },
     "metadata": {},
     "output_type": "display_data"
    }
   ],
   "source": [
    "#-- Wide screen:\n",
    "from IPython.core.display import display, HTML\n",
    "display(HTML(\"<style>.container { width:80% !important; }</style>\"))"
   ]
  },
  {
   "cell_type": "code",
   "execution_count": 2,
   "id": "roman-significance",
   "metadata": {
    "ExecuteTime": {
     "end_time": "2021-10-10T17:29:31.109519Z",
     "start_time": "2021-10-10T17:29:31.078500Z"
    }
   },
   "outputs": [],
   "source": [
    "#-- Auto reload:\n",
    "%load_ext autoreload\n",
    "%autoreload 2"
   ]
  },
  {
   "cell_type": "code",
   "execution_count": 3,
   "id": "solved-anthony",
   "metadata": {
    "ExecuteTime": {
     "end_time": "2021-10-10T17:29:32.084410Z",
     "start_time": "2021-10-10T17:29:31.110521Z"
    }
   },
   "outputs": [],
   "source": [
    "import numpy             as np\n",
    "import matplotlib.pyplot as plt\n",
    "\n",
    "import torch\n",
    "import torch.nn    as nn\n",
    "import torch.optim as optim\n",
    "import torchsummary\n",
    "import torchtext\n",
    "\n",
    "from torchtext.data.utils import get_tokenizer\n",
    "from torchtext.vocab      import Vocab\n",
    "from torchtext.datasets   import IMDB"
   ]
  },
  {
   "cell_type": "code",
   "execution_count": 4,
   "id": "listed-westminster",
   "metadata": {
    "ExecuteTime": {
     "end_time": "2021-10-10T17:29:32.132028Z",
     "start_time": "2021-10-10T17:29:32.085411Z"
    }
   },
   "outputs": [],
   "source": [
    "if 'google.colab' in str(get_ipython()):\n",
    "    !npx degit FixelAlgorithmsTeam/FixelCourses/DeepLearningMethods/11_RNN/DeepLearningFramework ./DeepLearningFramework"
   ]
  },
  {
   "cell_type": "markdown",
   "id": "located-verse",
   "metadata": {},
   "source": [
    "### Embedding layer:\n",
    "Replace the integers $\\left\\{ 0,1,\\dots,9\\right\\} $ by vectors in $\\mathbb{R}^{5}$"
   ]
  },
  {
   "cell_type": "code",
   "execution_count": 5,
   "id": "specified-flower",
   "metadata": {
    "ExecuteTime": {
     "end_time": "2021-10-10T17:29:32.180072Z",
     "start_time": "2021-10-10T17:29:32.133030Z"
    }
   },
   "outputs": [
    {
     "data": {
      "text/plain": [
       "tensor([[ 7.7482e-01,  1.1967e+00,  2.1194e-03, -6.1813e-01, -1.0037e+00],\n",
       "        [ 1.8807e-01,  3.6197e-01, -2.5738e-01, -1.6832e+00,  6.0879e-01],\n",
       "        [ 9.2038e-02, -7.1206e-01, -9.3759e-01,  6.0630e-01, -1.1850e+00],\n",
       "        [ 1.4756e+00, -1.3298e+00,  8.8346e-01, -1.2152e+00, -2.4307e+00],\n",
       "        [ 1.5091e+00, -8.5223e-01,  1.6969e+00, -8.1846e-01,  5.6317e-02],\n",
       "        [ 8.3188e-01,  4.0002e-01,  3.6570e-01, -2.6178e-01, -1.7795e+00],\n",
       "        [-4.0384e-01,  6.0951e-01, -1.8145e+00,  5.2584e-01, -5.8213e-01],\n",
       "        [ 1.9168e+00, -6.8769e-01, -9.5595e-01,  1.0065e+00,  7.4277e-02],\n",
       "        [ 1.1182e+00, -2.1325e+00,  3.7426e-01,  6.2051e-01,  1.1487e+00],\n",
       "        [ 4.6182e-01,  3.3261e-01,  2.1073e+00, -8.9795e-01,  8.7363e-01]],\n",
       "       grad_fn=<EmbeddingBackward>)"
      ]
     },
     "execution_count": 5,
     "metadata": {},
     "output_type": "execute_result"
    }
   ],
   "source": [
    "oEmbedding = nn.Embedding(10, 5)\n",
    "v          = torch.tensor([0, 1, 2, 3, 4, 5, 6, 7, 8, 9])\n",
    "oEmbedding(v)"
   ]
  },
  {
   "cell_type": "markdown",
   "id": "living-ghana",
   "metadata": {},
   "source": [
    "### Get the IMDB dataset:"
   ]
  },
  {
   "cell_type": "code",
   "execution_count": 6,
   "id": "essential-biodiversity",
   "metadata": {
    "ExecuteTime": {
     "end_time": "2021-10-10T17:29:54.215353Z",
     "start_time": "2021-10-10T17:29:32.181073Z"
    }
   },
   "outputs": [],
   "source": [
    "dirPath             = '../../data'\n",
    "oTokenizer          = get_tokenizer('basic_english')\n",
    "\n",
    "trainIter, testIter = IMDB(root=dirPath)\n",
    "\n",
    "lFullTrainSet = list(trainIter)\n",
    "lFullTestSet  = list(testIter)"
   ]
  },
  {
   "cell_type": "markdown",
   "id": "monetary-paris",
   "metadata": {},
   "source": [
    "#### Filter long sequences:\n",
    "Keep only sequences with less than `maxLength` words"
   ]
  },
  {
   "cell_type": "code",
   "execution_count": 7,
   "id": "alien-malaysia",
   "metadata": {
    "ExecuteTime": {
     "end_time": "2021-10-10T17:29:54.693490Z",
     "start_time": "2021-10-10T17:29:54.216354Z"
    }
   },
   "outputs": [],
   "source": [
    "def NumWords(line):\n",
    "    return len(line.split())\n",
    "\n",
    "maxLength = 100\n",
    "lTrainSet = [(label, line) for (label, line) in lFullTrainSet if NumWords(line) < maxLength]\n",
    "lTestSet  = [(label, line) for (label, line) in lFullTestSet  if NumWords(line) < maxLength]"
   ]
  },
  {
   "cell_type": "code",
   "execution_count": 8,
   "id": "important-herald",
   "metadata": {
    "ExecuteTime": {
     "end_time": "2021-10-10T17:29:54.741245Z",
     "start_time": "2021-10-10T17:29:54.694491Z"
    }
   },
   "outputs": [
    {
     "data": {
      "text/plain": [
       "(25000, 25000, 2926, 3091)"
      ]
     },
     "execution_count": 8,
     "metadata": {},
     "output_type": "execute_result"
    }
   ],
   "source": [
    "len(lFullTrainSet), len(lFullTestSet), len(lTrainSet), len(lTestSet)"
   ]
  },
  {
   "cell_type": "markdown",
   "id": "stunning-discrimination",
   "metadata": {},
   "source": [
    "#### Show some sentences:"
   ]
  },
  {
   "cell_type": "code",
   "execution_count": 9,
   "id": "blocked-connectivity",
   "metadata": {
    "ExecuteTime": {
     "end_time": "2021-10-10T17:29:54.789065Z",
     "start_time": "2021-10-10T17:29:54.742246Z"
    }
   },
   "outputs": [
    {
     "name": "stdout",
     "output_type": "stream",
     "text": [
      "=========================================================================================================\n",
      "=========================================================================================================\n",
      "\u001b[32mExcellent film from Thaddeus O'Sullivan featuring strong performances from a host of British and Irish actors. The film deals well with a thorny subject matter, and effectively captures the hopelessness and grim atmosphere of 1970s Belfast. Surprisingly realistic, it does nothing to glorify either side in this conflict. On one hand, it shows a young Catholic father trying to raise his family without getting drawn into the troubles. On the other it deals with a Loyalist gang who are intent on propagating violence. Very interesting and, thankfully, entertaining. Don't be expecting any laughs, though. 7 out of 10.\u001b[0m\n",
      "--Tokenizer:---------------------------\n",
      "['excellent', 'film', 'from', 'thaddeus', 'o', \"'\", 'sullivan', 'featuring', 'strong', 'performances', 'from', 'a', 'host', 'of', 'british', 'and', 'irish', 'actors', '.', 'the', 'film', 'deals', 'well', 'with', 'a', 'thorny', 'subject', 'matter', ',', 'and', 'effectively', 'captures', 'the', 'hopelessness', 'and', 'grim', 'atmosphere', 'of', '1970s', 'belfast', '.', 'surprisingly', 'realistic', ',', 'it', 'does', 'nothing', 'to', 'glorify', 'either', 'side', 'in', 'this', 'conflict', '.', 'on', 'one', 'hand', ',', 'it', 'shows', 'a', 'young', 'catholic', 'father', 'trying', 'to', 'raise', 'his', 'family', 'without', 'getting', 'drawn', 'into', 'the', 'troubles', '.', 'on', 'the', 'other', 'it', 'deals', 'with', 'a', 'loyalist', 'gang', 'who', 'are', 'intent', 'on', 'propagating', 'violence', '.', 'very', 'interesting', 'and', ',', 'thankfully', ',', 'entertaining', '.', 'don', \"'\", 't', 'be', 'expecting', 'any', 'laughs', ',', 'though', '.', '7', 'out', 'of', '10', '.']\n",
      "=========================================================================================================\n",
      "=========================================================================================================\n",
      "\u001b[32mThe movie is truly poignant, unique and uplifting. The story is universal in that it's a battle between good, evil and the world between. THE MOST IMPORTANT thing is that its rating is wrong, misleading, and a travesty. Blockbuster has it rated as though it were an X rated movie. The truth is is that it is closer to G than PG and should be seen by children who can read the clear and simple sub-titles.\u001b[0m\n",
      "--Tokenizer:---------------------------\n",
      "['the', 'movie', 'is', 'truly', 'poignant', ',', 'unique', 'and', 'uplifting', '.', 'the', 'story', 'is', 'universal', 'in', 'that', 'it', \"'\", 's', 'a', 'battle', 'between', 'good', ',', 'evil', 'and', 'the', 'world', 'between', '.', 'the', 'most', 'important', 'thing', 'is', 'that', 'its', 'rating', 'is', 'wrong', ',', 'misleading', ',', 'and', 'a', 'travesty', '.', 'blockbuster', 'has', 'it', 'rated', 'as', 'though', 'it', 'were', 'an', 'x', 'rated', 'movie', '.', 'the', 'truth', 'is', 'is', 'that', 'it', 'is', 'closer', 'to', 'g', 'than', 'pg', 'and', 'should', 'be', 'seen', 'by', 'children', 'who', 'can', 'read', 'the', 'clear', 'and', 'simple', 'sub-titles', '.']\n",
      "=========================================================================================================\n",
      "=========================================================================================================\n",
      "\u001b[32m. . . is just as good as the original. Very nearly achieves greatness because of Cundieff's remarkable ear for music and dialogue. Skewers the self-important swagger of the hip-hop poseurs. The group \"Niggaz with Hats\" (NWH) are every rap group you ever heard and utterly self-parodic. Wardrobe is unbelievable. Buy the OOP soundtrack if you can.\u001b[0m\n",
      "--Tokenizer:---------------------------\n",
      "['.', '.', '.', 'is', 'just', 'as', 'good', 'as', 'the', 'original', '.', 'very', 'nearly', 'achieves', 'greatness', 'because', 'of', 'cundieff', \"'\", 's', 'remarkable', 'ear', 'for', 'music', 'and', 'dialogue', '.', 'skewers', 'the', 'self-important', 'swagger', 'of', 'the', 'hip-hop', 'poseurs', '.', 'the', 'group', 'niggaz', 'with', 'hats', '(', 'nwh', ')', 'are', 'every', 'rap', 'group', 'you', 'ever', 'heard', 'and', 'utterly', 'self-parodic', '.', 'wardrobe', 'is', 'unbelievable', '.', 'buy', 'the', 'oop', 'soundtrack', 'if', 'you', 'can', '.']\n"
     ]
    }
   ],
   "source": [
    "import random\n",
    "\n",
    "red   = '\\x1b[31m'\n",
    "green = '\\x1b[32m'\n",
    "end   = '\\x1b[0m'\n",
    "\n",
    "for _  in range(3):\n",
    "    (label, line) = random.choice(lTrainSet)\n",
    "    \n",
    "    color = red if label == 'neg' else green\n",
    "    print('=========================================================================================================')\n",
    "    print('=========================================================================================================')\n",
    "    print(color + line + end)\n",
    "    print('--Tokenizer:---------------------------')    \n",
    "    print(oTokenizer(line))"
   ]
  },
  {
   "cell_type": "markdown",
   "id": "concrete-zoning",
   "metadata": {},
   "source": [
    "### Build the vocabulary:\n",
    "We keep only words that appear more than `min_freq` times."
   ]
  },
  {
   "cell_type": "code",
   "execution_count": 10,
   "id": "0eded45f",
   "metadata": {
    "ExecuteTime": {
     "end_time": "2021-10-10T17:29:54.933198Z",
     "start_time": "2021-10-10T17:29:54.790067Z"
    }
   },
   "outputs": [
    {
     "data": {
      "text/plain": [
       "3268"
      ]
     },
     "execution_count": 10,
     "metadata": {},
     "output_type": "execute_result"
    }
   ],
   "source": [
    "from torchtext.vocab import build_vocab_from_iterator\n",
    "\n",
    "def YieldTokens(lDataset):\n",
    "    for (label, line) in lDataset:\n",
    "        yield oTokenizer(line)\n",
    "\n",
    "oVocab = build_vocab_from_iterator(YieldTokens(lTrainSet), min_freq=5, specials=('<UNK>', '<SOS>', '<EOS>', '<PAD>'))\n",
    "oVocab.set_default_index(oVocab['<UNK>'])\n",
    "len(oVocab)"
   ]
  },
  {
   "cell_type": "markdown",
   "id": "suffering-condition",
   "metadata": {},
   "source": [
    "#### Using the vocabulary:"
   ]
  },
  {
   "cell_type": "code",
   "execution_count": 11,
   "id": "difficult-buffer",
   "metadata": {
    "ExecuteTime": {
     "end_time": "2021-10-10T17:29:54.979233Z",
     "start_time": "2021-10-10T17:29:54.933198Z"
    }
   },
   "outputs": [
    {
     "data": {
      "text/plain": [
       "(5, 7, 0, 0, 19)"
      ]
     },
     "execution_count": 11,
     "metadata": {},
     "output_type": "execute_result"
    }
   ],
   "source": [
    "oVocab['the'], oVocab['a'], oVocab['asfdlkasdjf'], oVocab['aaab'], oVocab['!']"
   ]
  },
  {
   "cell_type": "code",
   "execution_count": 12,
   "id": "integral-narrow",
   "metadata": {
    "ExecuteTime": {
     "end_time": "2021-10-10T17:29:55.026637Z",
     "start_time": "2021-10-10T17:29:54.980234Z"
    }
   },
   "outputs": [
    {
     "data": {
      "text/plain": [
       "('.', 'and', '<UNK>', '!')"
      ]
     },
     "execution_count": 12,
     "metadata": {},
     "output_type": "execute_result"
    }
   ],
   "source": [
    "oVocab.get_itos()[4], oVocab.get_itos()[8], oVocab.get_itos()[0], oVocab.get_itos()[19]"
   ]
  },
  {
   "cell_type": "markdown",
   "id": "modern-trick",
   "metadata": {},
   "source": [
    "#### Text to sequence:"
   ]
  },
  {
   "cell_type": "code",
   "execution_count": 13,
   "id": "worthy-latest",
   "metadata": {
    "ExecuteTime": {
     "end_time": "2021-10-10T17:29:55.073679Z",
     "start_time": "2021-10-10T17:29:55.027639Z"
    }
   },
   "outputs": [
    {
     "name": "stdout",
     "output_type": "stream",
     "text": [
      "Input : Hello World!\n",
      "Output: tensor([   0, 3005,  196,   19,    2])\n"
     ]
    }
   ],
   "source": [
    "def Text2Tensor(line):\n",
    "    return torch.tensor([oVocab['<BOS>']] + [oVocab[token] for token in oTokenizer(line)] + [oVocab['<EOS>']])\n",
    "\n",
    "def Label2Int(label):\n",
    "    if label == 'pos':\n",
    "        return 1\n",
    "    else:\n",
    "        return 0\n",
    "\n",
    "# Print out the output of text_transform\n",
    "line = 'Hello World!'\n",
    "print('Input :', line)\n",
    "print('Output:', Text2Tensor(line))"
   ]
  },
  {
   "cell_type": "code",
   "execution_count": 14,
   "id": "removed-production",
   "metadata": {
    "ExecuteTime": {
     "end_time": "2021-10-10T17:29:55.121234Z",
     "start_time": "2021-10-10T17:29:55.074681Z"
    }
   },
   "outputs": [],
   "source": [
    "from torch.utils.data   import DataLoader\n",
    "from torch.nn.utils.rnn import pack_sequence\n",
    "\n",
    "def CollateBatch(lBatch):\n",
    "    Nb  = len(lBatch)\n",
    "    vY  = torch.empty(Nb)\n",
    "    lX  = [None] * Nb\n",
    "    for ii, (label, line) in enumerate(lBatch):\n",
    "        vY[ii] = Label2Int  (label)\n",
    "        lX[ii] = Text2Tensor(line)\n",
    "    \n",
    "    mPackX = pack_sequence(lX, enforce_sorted=False)\n",
    "\n",
    "    return mPackX, vY"
   ]
  },
  {
   "cell_type": "markdown",
   "id": "fourth-horse",
   "metadata": {},
   "source": [
    "#### Remark\n",
    "It is better to group lines with similar length together (as in `BucketIterator`)."
   ]
  },
  {
   "cell_type": "code",
   "execution_count": 15,
   "id": "macro-faith",
   "metadata": {
    "ExecuteTime": {
     "end_time": "2021-10-10T17:29:55.168276Z",
     "start_time": "2021-10-10T17:29:55.122236Z"
    }
   },
   "outputs": [],
   "source": [
    "batchSize = 64\n",
    "oTrainDL  = DataLoader(lTrainSet, batch_size=batchSize,   shuffle=True,  collate_fn=CollateBatch)\n",
    "oTestDL   = DataLoader(lTestSet,  batch_size=2*batchSize, shuffle=False, collate_fn=CollateBatch)"
   ]
  },
  {
   "cell_type": "markdown",
   "id": "atlantic-andrews",
   "metadata": {},
   "source": [
    "#### Define the RNN model:"
   ]
  },
  {
   "cell_type": "code",
   "execution_count": 16,
   "id": "similar-meaning",
   "metadata": {
    "ExecuteTime": {
     "end_time": "2021-10-10T17:29:55.231333Z",
     "start_time": "2021-10-10T17:29:55.169278Z"
    }
   },
   "outputs": [
    {
     "data": {
      "text/plain": [
       "torch.Size([64])"
      ]
     },
     "execution_count": 16,
     "metadata": {},
     "output_type": "execute_result"
    }
   ],
   "source": [
    "from torch.nn.utils.rnn import PackedSequence\n",
    "\n",
    "def PackedAs(mX, mPack):\n",
    "    return PackedSequence(mX, mPack.batch_sizes, mPack.sorted_indices, mPack.unsorted_indices)\n",
    "\n",
    "V = len(oVocab) #-- Vocab size\n",
    "D = 64          #-- embedding dim\n",
    "H = 256         #-- RNN hidden dim\n",
    "class RNN(nn.Module):\n",
    "    def __init__(self):\n",
    "        super(RNN, self).__init__()\n",
    "        \n",
    "        self.oEmbedding = nn.Embedding(V, D)\n",
    "        self.oRNN       = nn.RNN      (D, H, batch_first=True)\n",
    "        self.oFC        = nn.Linear   (H, 1)\n",
    "        \n",
    "    def forward(self, mPackX):\n",
    "                                              #-- mPackX.shape = (N*T,)\n",
    "        mE     = self.oEmbedding(mPackX.data) #-- mE    .shape = (N*T, D)\n",
    "        mPackE = PackedAs       (mE, mPackX)  #-- mPackE.shape = (N*T, D)\n",
    "        _, mH = self.oRNN       (mPackE)      #-- mH    .shape = (1, N, H)\n",
    "        mZ    = self.oFC        (mH[0])       #-- mZ    .shape = (N, 1)\n",
    "        return mZ[:,0]\n",
    "\n",
    "mPackX, vY = next(iter(oTrainDL))\n",
    "RNN()(mPackX).shape"
   ]
  },
  {
   "cell_type": "code",
   "execution_count": 17,
   "id": "worth-people",
   "metadata": {
    "ExecuteTime": {
     "end_time": "2021-10-10T17:29:55.293389Z",
     "start_time": "2021-10-10T17:29:55.232334Z"
    }
   },
   "outputs": [],
   "source": [
    "DEVICE = torch.device(\"cuda:0\" if torch.cuda.is_available() else \"cpu\") \n",
    "Loss   = nn.BCEWithLogitsLoss()"
   ]
  },
  {
   "cell_type": "code",
   "execution_count": 18,
   "id": "musical-medicine",
   "metadata": {
    "ExecuteTime": {
     "end_time": "2021-10-10T17:31:30.086275Z",
     "start_time": "2021-10-10T17:29:55.294390Z"
    },
    "scrolled": false
   },
   "outputs": [
    {
     "name": "stdout",
     "output_type": "stream",
     "text": [
      "------------------------------------------------------------------------------------------------------------------------\n",
      "Epoch 000: | Train loss:  0.690 | Val loss:  0.691 | Train Metric:  0.543 | Val Metric:  0.530 | epoch time:  1.525 | <-- Checkpoint!\n",
      "Epoch 001: | Train loss:  0.689 | Val loss:  0.691 | Train Metric:  0.549 | Val Metric:  0.544 | epoch time:  0.950 | <-- Checkpoint!\n",
      "Epoch 002: | Train loss:  0.688 | Val loss:  0.690 | Train Metric:  0.550 | Val Metric:  0.542 | epoch time:  0.945 |\n",
      "Epoch 003: | Train loss:  0.687 | Val loss:  0.689 | Train Metric:  0.551 | Val Metric:  0.542 | epoch time:  0.956 |\n",
      "Epoch 004: | Train loss:  0.686 | Val loss:  0.689 | Train Metric:  0.550 | Val Metric:  0.542 | epoch time:  0.919 |\n",
      "Epoch 005: | Train loss:  0.685 | Val loss:  0.688 | Train Metric:  0.550 | Val Metric:  0.542 | epoch time:  0.913 |\n",
      "Epoch 006: | Train loss:  0.684 | Val loss:  0.687 | Train Metric:  0.551 | Val Metric:  0.542 | epoch time:  0.928 |\n",
      "Epoch 007: | Train loss:  0.683 | Val loss:  0.686 | Train Metric:  0.552 | Val Metric:  0.543 | epoch time:  0.922 |\n",
      "Epoch 008: | Train loss:  0.682 | Val loss:  0.685 | Train Metric:  0.553 | Val Metric:  0.541 | epoch time:  0.926 |\n",
      "Epoch 009: | Train loss:  0.681 | Val loss:  0.685 | Train Metric:  0.552 | Val Metric:  0.540 | epoch time:  0.936 |\n",
      "------------------------------------------------------------------------------------------------------------------------\n",
      "Epoch 010: | Train loss:  0.679 | Val loss:  0.684 | Train Metric:  0.558 | Val Metric:  0.542 | epoch time:  0.925 |\n",
      "Epoch 011: | Train loss:  0.678 | Val loss:  0.683 | Train Metric:  0.558 | Val Metric:  0.543 | epoch time:  0.920 |\n",
      "Epoch 012: | Train loss:  0.677 | Val loss:  0.683 | Train Metric:  0.564 | Val Metric:  0.543 | epoch time:  0.920 |\n",
      "Epoch 013: | Train loss:  0.675 | Val loss:  0.682 | Train Metric:  0.580 | Val Metric:  0.541 | epoch time:  0.915 |\n",
      "Epoch 014: | Train loss:  0.673 | Val loss:  0.681 | Train Metric:  0.569 | Val Metric:  0.556 | epoch time:  0.917 | <-- Checkpoint!\n",
      "Epoch 015: | Train loss:  0.672 | Val loss:  0.682 | Train Metric:  0.595 | Val Metric:  0.544 | epoch time:  0.914 |\n",
      "Epoch 016: | Train loss:  0.670 | Val loss:  0.679 | Train Metric:  0.576 | Val Metric:  0.563 | epoch time:  0.921 | <-- Checkpoint!\n",
      "Epoch 017: | Train loss:  0.667 | Val loss:  0.680 | Train Metric:  0.596 | Val Metric:  0.561 | epoch time:  0.917 |\n",
      "Epoch 018: | Train loss:  0.664 | Val loss:  0.678 | Train Metric:  0.597 | Val Metric:  0.565 | epoch time:  0.922 | <-- Checkpoint!\n",
      "Epoch 019: | Train loss:  0.660 | Val loss:  0.677 | Train Metric:  0.603 | Val Metric:  0.566 | epoch time:  0.919 | <-- Checkpoint!\n",
      "------------------------------------------------------------------------------------------------------------------------\n",
      "Epoch 020: | Train loss:  0.655 | Val loss:  0.675 | Train Metric:  0.614 | Val Metric:  0.567 | epoch time:  0.920 | <-- Checkpoint!\n",
      "Epoch 021: | Train loss:  0.650 | Val loss:  0.674 | Train Metric:  0.614 | Val Metric:  0.574 | epoch time:  0.916 | <-- Checkpoint!\n",
      "Epoch 022: | Train loss:  0.644 | Val loss:  0.670 | Train Metric:  0.624 | Val Metric:  0.575 | epoch time:  0.927 | <-- Checkpoint!\n",
      "Epoch 023: | Train loss:  0.638 | Val loss:  0.669 | Train Metric:  0.629 | Val Metric:  0.588 | epoch time:  0.946 | <-- Checkpoint!\n",
      "Epoch 024: | Train loss:  0.631 | Val loss:  0.669 | Train Metric:  0.637 | Val Metric:  0.602 | epoch time:  0.929 | <-- Checkpoint!\n",
      "Epoch 025: | Train loss:  0.623 | Val loss:  0.654 | Train Metric:  0.645 | Val Metric:  0.606 | epoch time:  0.925 | <-- Checkpoint!\n",
      "Epoch 026: | Train loss:  0.616 | Val loss:  0.645 | Train Metric:  0.651 | Val Metric:  0.623 | epoch time:  0.934 | <-- Checkpoint!\n",
      "Epoch 027: | Train loss:  0.600 | Val loss:  0.635 | Train Metric:  0.666 | Val Metric:  0.636 | epoch time:  0.931 | <-- Checkpoint!\n",
      "Epoch 028: | Train loss:  0.588 | Val loss:  0.627 | Train Metric:  0.684 | Val Metric:  0.651 | epoch time:  0.934 | <-- Checkpoint!\n",
      "Epoch 029: | Train loss:  0.581 | Val loss:  0.621 | Train Metric:  0.692 | Val Metric:  0.658 | epoch time:  0.919 | <-- Checkpoint!\n",
      "------------------------------------------------------------------------------------------------------------------------\n",
      "Epoch 030: | Train loss:  0.572 | Val loss:  0.627 | Train Metric:  0.701 | Val Metric:  0.659 | epoch time:  0.912 | <-- Checkpoint!\n",
      "Epoch 031: | Train loss:  0.565 | Val loss:  0.618 | Train Metric:  0.708 | Val Metric:  0.668 | epoch time:  0.914 | <-- Checkpoint!\n",
      "Epoch 032: | Train loss:  0.559 | Val loss:  0.627 | Train Metric:  0.719 | Val Metric:  0.657 | epoch time:  0.925 |\n",
      "Epoch 033: | Train loss:  0.556 | Val loss:  0.611 | Train Metric:  0.718 | Val Metric:  0.664 | epoch time:  0.930 |\n",
      "Epoch 034: | Train loss:  0.550 | Val loss:  0.612 | Train Metric:  0.722 | Val Metric:  0.672 | epoch time:  0.915 | <-- Checkpoint!\n",
      "Epoch 035: | Train loss:  0.546 | Val loss:  0.610 | Train Metric:  0.725 | Val Metric:  0.674 | epoch time:  0.912 | <-- Checkpoint!\n",
      "Epoch 036: | Train loss:  0.542 | Val loss:  0.610 | Train Metric:  0.728 | Val Metric:  0.677 | epoch time:  0.912 | <-- Checkpoint!\n",
      "Epoch 037: | Train loss:  0.538 | Val loss:  0.608 | Train Metric:  0.731 | Val Metric:  0.664 | epoch time:  0.907 |\n",
      "Epoch 038: | Train loss:  0.537 | Val loss:  0.607 | Train Metric:  0.733 | Val Metric:  0.667 | epoch time:  0.913 |\n",
      "Epoch 039: | Train loss:  0.532 | Val loss:  0.605 | Train Metric:  0.739 | Val Metric:  0.669 | epoch time:  0.920 |\n",
      "------------------------------------------------------------------------------------------------------------------------\n",
      "Epoch 040: | Train loss:  0.527 | Val loss:  0.608 | Train Metric:  0.738 | Val Metric:  0.679 | epoch time:  0.908 | <-- Checkpoint!\n",
      "Epoch 041: | Train loss:  0.521 | Val loss:  0.606 | Train Metric:  0.744 | Val Metric:  0.676 | epoch time:  0.922 |\n",
      "Epoch 042: | Train loss:  0.519 | Val loss:  0.604 | Train Metric:  0.744 | Val Metric:  0.678 | epoch time:  0.926 |\n",
      "Epoch 043: | Train loss:  0.517 | Val loss:  0.618 | Train Metric:  0.743 | Val Metric:  0.686 | epoch time:  0.923 | <-- Checkpoint!\n",
      "Epoch 044: | Train loss:  0.511 | Val loss:  0.606 | Train Metric:  0.758 | Val Metric:  0.674 | epoch time:  0.915 |\n",
      "Epoch 045: | Train loss:  0.508 | Val loss:  0.618 | Train Metric:  0.758 | Val Metric:  0.681 | epoch time:  0.914 |\n",
      "Epoch 046: | Train loss:  0.505 | Val loss:  0.602 | Train Metric:  0.760 | Val Metric:  0.680 | epoch time:  0.911 |\n",
      "Epoch 047: | Train loss:  0.504 | Val loss:  0.602 | Train Metric:  0.755 | Val Metric:  0.687 | epoch time:  0.910 | <-- Checkpoint!\n",
      "Epoch 048: | Train loss:  0.502 | Val loss:  0.611 | Train Metric:  0.760 | Val Metric:  0.676 | epoch time:  0.915 |\n",
      "Epoch 049: | Train loss:  0.501 | Val loss:  0.603 | Train Metric:  0.760 | Val Metric:  0.688 | epoch time:  0.934 | <-- Checkpoint!\n",
      "------------------------------------------------------------------------------------------------------------------------\n",
      "Epoch 050: | Train loss:  0.490 | Val loss:  0.607 | Train Metric:  0.770 | Val Metric:  0.689 | epoch time:  0.921 | <-- Checkpoint!\n",
      "Epoch 051: | Train loss:  0.490 | Val loss:  0.613 | Train Metric:  0.767 | Val Metric:  0.674 | epoch time:  0.917 |\n",
      "Epoch 052: | Train loss:  0.490 | Val loss:  0.611 | Train Metric:  0.775 | Val Metric:  0.686 | epoch time:  0.909 |\n",
      "Epoch 053: | Train loss:  0.487 | Val loss:  0.600 | Train Metric:  0.768 | Val Metric:  0.688 | epoch time:  0.913 |\n",
      "Epoch 054: | Train loss:  0.478 | Val loss:  0.603 | Train Metric:  0.778 | Val Metric:  0.689 | epoch time:  0.915 |\n",
      "Epoch 055: | Train loss:  0.479 | Val loss:  0.601 | Train Metric:  0.779 | Val Metric:  0.689 | epoch time:  0.914 | <-- Checkpoint!\n",
      "Epoch 056: | Train loss:  0.477 | Val loss:  0.603 | Train Metric:  0.777 | Val Metric:  0.687 | epoch time:  0.918 |\n",
      "Epoch 057: | Train loss:  0.478 | Val loss:  0.608 | Train Metric:  0.777 | Val Metric:  0.692 | epoch time:  0.951 | <-- Checkpoint!\n",
      "Epoch 058: | Train loss:  0.470 | Val loss:  0.606 | Train Metric:  0.784 | Val Metric:  0.686 | epoch time:  0.941 |\n",
      "Epoch 059: | Train loss:  0.470 | Val loss:  0.601 | Train Metric:  0.784 | Val Metric:  0.686 | epoch time:  0.916 |\n"
     ]
    },
    {
     "name": "stdout",
     "output_type": "stream",
     "text": [
      "------------------------------------------------------------------------------------------------------------------------\n",
      "Epoch 060: | Train loss:  0.466 | Val loss:  0.604 | Train Metric:  0.791 | Val Metric:  0.691 | epoch time:  0.938 |\n",
      "Epoch 061: | Train loss:  0.463 | Val loss:  0.607 | Train Metric:  0.789 | Val Metric:  0.689 | epoch time:  0.942 |\n",
      "Epoch 062: | Train loss:  0.459 | Val loss:  0.609 | Train Metric:  0.789 | Val Metric:  0.693 | epoch time:  0.930 | <-- Checkpoint!\n",
      "Epoch 063: | Train loss:  0.456 | Val loss:  0.604 | Train Metric:  0.796 | Val Metric:  0.693 | epoch time:  0.918 |\n",
      "Epoch 064: | Train loss:  0.454 | Val loss:  0.613 | Train Metric:  0.795 | Val Metric:  0.695 | epoch time:  0.925 | <-- Checkpoint!\n",
      "Epoch 065: | Train loss:  0.453 | Val loss:  0.607 | Train Metric:  0.798 | Val Metric:  0.694 | epoch time:  0.937 |\n",
      "Epoch 066: | Train loss:  0.451 | Val loss:  0.606 | Train Metric:  0.803 | Val Metric:  0.693 | epoch time:  0.917 |\n",
      "Epoch 067: | Train loss:  0.447 | Val loss:  0.605 | Train Metric:  0.801 | Val Metric:  0.690 | epoch time:  0.916 |\n",
      "Epoch 068: | Train loss:  0.445 | Val loss:  0.605 | Train Metric:  0.805 | Val Metric:  0.690 | epoch time:  0.918 |\n",
      "Epoch 069: | Train loss:  0.446 | Val loss:  0.607 | Train Metric:  0.801 | Val Metric:  0.693 | epoch time:  0.914 |\n",
      "------------------------------------------------------------------------------------------------------------------------\n",
      "Epoch 070: | Train loss:  0.442 | Val loss:  0.606 | Train Metric:  0.807 | Val Metric:  0.693 | epoch time:  0.909 |\n",
      "Epoch 071: | Train loss:  0.442 | Val loss:  0.608 | Train Metric:  0.806 | Val Metric:  0.692 | epoch time:  0.910 |\n",
      "Epoch 072: | Train loss:  0.438 | Val loss:  0.607 | Train Metric:  0.807 | Val Metric:  0.693 | epoch time:  0.911 |\n",
      "Epoch 073: | Train loss:  0.437 | Val loss:  0.616 | Train Metric:  0.809 | Val Metric:  0.698 | epoch time:  0.916 | <-- Checkpoint!\n",
      "Epoch 074: | Train loss:  0.434 | Val loss:  0.613 | Train Metric:  0.815 | Val Metric:  0.693 | epoch time:  0.912 |\n",
      "Epoch 075: | Train loss:  0.434 | Val loss:  0.609 | Train Metric:  0.817 | Val Metric:  0.693 | epoch time:  0.934 |\n",
      "Epoch 076: | Train loss:  0.432 | Val loss:  0.612 | Train Metric:  0.813 | Val Metric:  0.693 | epoch time:  0.917 |\n",
      "Epoch 077: | Train loss:  0.433 | Val loss:  0.612 | Train Metric:  0.811 | Val Metric:  0.695 | epoch time:  0.970 |\n",
      "Epoch 078: | Train loss:  0.430 | Val loss:  0.617 | Train Metric:  0.815 | Val Metric:  0.694 | epoch time:  0.928 |\n",
      "Epoch 079: | Train loss:  0.429 | Val loss:  0.611 | Train Metric:  0.812 | Val Metric:  0.696 | epoch time:  0.919 |\n",
      "------------------------------------------------------------------------------------------------------------------------\n",
      "Epoch 080: | Train loss:  0.428 | Val loss:  0.612 | Train Metric:  0.815 | Val Metric:  0.693 | epoch time:  0.925 |\n",
      "Epoch 081: | Train loss:  0.427 | Val loss:  0.609 | Train Metric:  0.818 | Val Metric:  0.695 | epoch time:  0.934 |\n",
      "Epoch 082: | Train loss:  0.427 | Val loss:  0.611 | Train Metric:  0.817 | Val Metric:  0.696 | epoch time:  0.909 |\n",
      "Epoch 083: | Train loss:  0.425 | Val loss:  0.615 | Train Metric:  0.819 | Val Metric:  0.696 | epoch time:  0.943 |\n",
      "Epoch 084: | Train loss:  0.425 | Val loss:  0.612 | Train Metric:  0.819 | Val Metric:  0.697 | epoch time:  0.912 |\n",
      "Epoch 085: | Train loss:  0.425 | Val loss:  0.612 | Train Metric:  0.817 | Val Metric:  0.696 | epoch time:  0.916 |\n",
      "Epoch 086: | Train loss:  0.424 | Val loss:  0.613 | Train Metric:  0.822 | Val Metric:  0.698 | epoch time:  0.935 | <-- Checkpoint!\n",
      "Epoch 087: | Train loss:  0.423 | Val loss:  0.614 | Train Metric:  0.821 | Val Metric:  0.697 | epoch time:  0.948 |\n",
      "Epoch 088: | Train loss:  0.422 | Val loss:  0.613 | Train Metric:  0.821 | Val Metric:  0.698 | epoch time:  0.918 |\n",
      "Epoch 089: | Train loss:  0.422 | Val loss:  0.615 | Train Metric:  0.821 | Val Metric:  0.700 | epoch time:  0.945 | <-- Checkpoint!\n",
      "------------------------------------------------------------------------------------------------------------------------\n",
      "Epoch 090: | Train loss:  0.421 | Val loss:  0.614 | Train Metric:  0.819 | Val Metric:  0.698 | epoch time:  0.959 |\n",
      "Epoch 091: | Train loss:  0.421 | Val loss:  0.614 | Train Metric:  0.822 | Val Metric:  0.698 | epoch time:  0.917 |\n",
      "Epoch 092: | Train loss:  0.421 | Val loss:  0.613 | Train Metric:  0.822 | Val Metric:  0.700 | epoch time:  0.902 |\n",
      "Epoch 093: | Train loss:  0.421 | Val loss:  0.613 | Train Metric:  0.822 | Val Metric:  0.699 | epoch time:  0.905 |\n",
      "Epoch 094: | Train loss:  0.421 | Val loss:  0.614 | Train Metric:  0.822 | Val Metric:  0.699 | epoch time:  0.905 |\n",
      "Epoch 095: | Train loss:  0.421 | Val loss:  0.614 | Train Metric:  0.823 | Val Metric:  0.699 | epoch time:  0.907 |\n",
      "Epoch 096: | Train loss:  0.420 | Val loss:  0.614 | Train Metric:  0.822 | Val Metric:  0.699 | epoch time:  0.927 |\n",
      "Epoch 097: | Train loss:  0.420 | Val loss:  0.614 | Train Metric:  0.822 | Val Metric:  0.699 | epoch time:  0.917 |\n",
      "Epoch 098: | Train loss:  0.420 | Val loss:  0.614 | Train Metric:  0.822 | Val Metric:  0.699 | epoch time:  0.898 |\n",
      "Epoch 099: | Train loss:  0.420 | Val loss:  0.614 | Train Metric:  0.822 | Val Metric:  0.699 | epoch time:  0.876 |\n"
     ]
    }
   ],
   "source": [
    "from torch.optim.lr_scheduler       import OneCycleLR\n",
    "from DeepLearningFramework.Metric   import BinaryAcuuracy\n",
    "from DeepLearningFramework.Training import TrainModel\n",
    "\n",
    "nEpochs    = 100\n",
    "nIter      = nEpochs * len(oTrainDL)\n",
    "\n",
    "oModel     = RNN       ().to(DEVICE)\n",
    "oOptim     = optim.Adam(oModel.parameters(), lr=5e-6, betas=(0.8, 0.9))\n",
    "oScheduler = OneCycleLR(oOptim, max_lr=5e-5, total_steps=nIter)\n",
    "lHistory   = TrainModel(oModel, oTrainDL, oTestDL, Loss, BinaryAcuuracy, nEpochs, oOptim, oScheduler)"
   ]
  },
  {
   "cell_type": "code",
   "execution_count": 19,
   "id": "hindu-communication",
   "metadata": {
    "ExecuteTime": {
     "end_time": "2021-10-10T17:31:30.404080Z",
     "start_time": "2021-10-10T17:31:30.087276Z"
    }
   },
   "outputs": [
    {
     "data": {
      "image/png": "[encoded data removed]",
      "text/plain": [
       "<Figure size 2200x500 with 3 Axes>"
      ]
     },
     "metadata": {},
     "output_type": "display_data"
    }
   ],
   "source": [
    "from DeepLearningFramework.Auxiliary import PlotHistory\n",
    "\n",
    "PlotHistory(lHistory)\n",
    "plt.show   ()"
   ]
  },
  {
   "cell_type": "code",
   "execution_count": null,
   "id": "curious-raising",
   "metadata": {},
   "outputs": [],
   "source": []
  }
 ],
 "metadata": {
  "kernelspec": {
   "display_name": "Python 3",
   "language": "python",
   "name": "python3"
  },
  "language_info": {
   "codemirror_mode": {
    "name": "ipython",
    "version": 3
   },
   "file_extension": ".py",
   "mimetype": "text/x-python",
   "name": "python",
   "nbconvert_exporter": "python",
   "pygments_lexer": "ipython3",
   "version": "3.8.11"
  }
 },
 "nbformat": 4,
 "nbformat_minor": 5
}
