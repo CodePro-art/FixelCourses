{
 "cells": [
  {
   "cell_type": "markdown",
   "id": "psychological-excuse",
   "metadata": {},
   "source": [
    "![Fixel Algorithms](https://fixelalgorithms.co/images/CCExt.png)"
   ]
  },
  {
   "cell_type": "markdown",
   "id": "invalid-curtis",
   "metadata": {},
   "source": [
    "# <center> Deep Learning Methods </center>\n",
    "## <center> Lecture 10 - RNN </center>\n",
    "### <center> Sentiment Analysis </center>"
   ]
  },
  {
   "cell_type": "markdown",
   "id": "short-sunglasses",
   "metadata": {},
   "source": [
    "[![Open In Colab](https://colab.research.google.com/assets/colab-badge.svg)](https://colab.research.google.com/github/FixelAlgorithmsTeam/FixelCourses/blob/master/DeepLearningMethods/10_RNN/MainSentimentAnalysis.ipynb)"
   ]
  },
  {
   "cell_type": "code",
   "execution_count": 1,
   "id": "composed-walnut",
   "metadata": {},
   "outputs": [
    {
     "data": {
      "text/html": [
       "<style>.container { width:80% !important; }</style>"
      ],
      "text/plain": [
       "<IPython.core.display.HTML object>"
      ]
     },
     "metadata": {},
     "output_type": "display_data"
    }
   ],
   "source": [
    "#-- Wide screen:\n",
    "from IPython.core.display import display, HTML\n",
    "display(HTML(\"<style>.container { width:80% !important; }</style>\"))"
   ]
  },
  {
   "cell_type": "code",
   "execution_count": 2,
   "id": "roman-significance",
   "metadata": {},
   "outputs": [],
   "source": [
    "#-- Auto reload:\n",
    "%load_ext autoreload\n",
    "%autoreload 2"
   ]
  },
  {
   "cell_type": "code",
   "execution_count": 3,
   "id": "solved-anthony",
   "metadata": {},
   "outputs": [],
   "source": [
    "import numpy             as np\n",
    "import matplotlib.pyplot as plt\n",
    "\n",
    "import torch\n",
    "import torch.nn    as nn\n",
    "import torch.optim as optim\n",
    "import torchsummary\n",
    "import torchtext\n",
    "\n",
    "from torchtext.data.utils import get_tokenizer\n",
    "from torchtext.vocab      import Vocab\n",
    "from torchtext.datasets   import IMDB"
   ]
  },
  {
   "cell_type": "markdown",
   "id": "located-verse",
   "metadata": {},
   "source": [
    "### Embedding layer:\n",
    "Replace the integers $\\left\\{ 0,1,\\dots,9\\right\\} $ to vectors in $\\mathbb{R}^{5}$"
   ]
  },
  {
   "cell_type": "code",
   "execution_count": 4,
   "id": "specified-flower",
   "metadata": {},
   "outputs": [
    {
     "data": {
      "text/plain": [
       "tensor([[-0.8221, -1.1340, -1.1796, -0.5913, -0.5640],\n",
       "        [ 1.0691,  0.6601, -1.5598, -1.4273,  0.6341],\n",
       "        [ 0.3727, -0.7534, -1.6488, -1.2921,  2.0746],\n",
       "        [ 0.2034, -1.3749,  1.1782, -2.4784,  0.9181],\n",
       "        [ 0.4653,  1.5987, -0.0155, -0.4617, -0.4237],\n",
       "        [ 0.7055, -0.6143,  0.7999,  1.6138,  0.3643],\n",
       "        [-0.2880, -1.3430, -1.4173, -0.5826,  0.4581],\n",
       "        [-1.0176, -0.0622, -0.4230,  1.1060, -2.4317],\n",
       "        [-0.7340, -0.2430,  0.2804, -0.6148, -1.8122],\n",
       "        [-1.4944, -0.7939,  0.2205,  0.9207,  0.7249]],\n",
       "       grad_fn=<EmbeddingBackward>)"
      ]
     },
     "execution_count": 4,
     "metadata": {},
     "output_type": "execute_result"
    }
   ],
   "source": [
    "oEmbedding = nn.Embedding(10, 5)\n",
    "v          = torch.tensor([0, 1, 2, 3, 4, 5, 6, 7, 8, 9])\n",
    "oEmbedding(v)"
   ]
  },
  {
   "cell_type": "markdown",
   "id": "living-ghana",
   "metadata": {},
   "source": [
    "### Get the IMDB dataset:"
   ]
  },
  {
   "cell_type": "code",
   "execution_count": 5,
   "id": "essential-biodiversity",
   "metadata": {},
   "outputs": [],
   "source": [
    "dirPath             = '../../data'\n",
    "oTokenizer          = get_tokenizer('basic_english')\n",
    "\n",
    "trainIter, testIter = IMDB(root=dirPath)\n",
    "\n",
    "lFullTrainSet = list(trainIter)\n",
    "lFullTestSet  = list(testIter)"
   ]
  },
  {
   "cell_type": "markdown",
   "id": "monetary-paris",
   "metadata": {},
   "source": [
    "#### Filter long sequences:\n",
    "Keep only sequences with less than `maxLength` words"
   ]
  },
  {
   "cell_type": "code",
   "execution_count": 6,
   "id": "alien-malaysia",
   "metadata": {},
   "outputs": [],
   "source": [
    "def NumWords(line):\n",
    "    return len(line.split())\n",
    "\n",
    "maxLength = 100\n",
    "lTrainSet = [(label, line) for (label, line) in lFullTrainSet if NumWords(line) < maxLength]\n",
    "lTestSet  = [(label, line) for (label, line) in lFullTestSet  if NumWords(line) < maxLength]"
   ]
  },
  {
   "cell_type": "code",
   "execution_count": 7,
   "id": "important-herald",
   "metadata": {},
   "outputs": [
    {
     "data": {
      "text/plain": [
       "(25000, 25000, 2926, 3091)"
      ]
     },
     "execution_count": 7,
     "metadata": {},
     "output_type": "execute_result"
    }
   ],
   "source": [
    "len(lFullTrainSet), len(lFullTestSet), len(lTrainSet), len(lTestSet)"
   ]
  },
  {
   "cell_type": "markdown",
   "id": "stunning-discrimination",
   "metadata": {},
   "source": [
    "#### Show some sentences:"
   ]
  },
  {
   "cell_type": "code",
   "execution_count": 8,
   "id": "blocked-connectivity",
   "metadata": {},
   "outputs": [
    {
     "name": "stdout",
     "output_type": "stream",
     "text": [
      "=========================================================================================================\n",
      "=========================================================================================================\n",
      "\u001b[32mYoung Erendira and her tyrranical Grandmother provide for a great fantasy from the new world. This interpretation of Gabriel Garcia Marquez'\"La incréible y triste historia da la cándida Eréndira,...\" may not rub Marquez purists the right way eventhough The story stays intact and still carries the full force of the work. The strength of this film is in its acting especially Papas as the Grandmother. Marquez fans and Marquez novices alike will enjoy this movie for its real gritty brand of witt.\u001b[0m\n",
      "--Tokenized:---------------------------\n",
      "['young', 'erendira', 'and', 'her', 'tyrranical', 'grandmother', 'provide', 'for', 'a', 'great', 'fantasy', 'from', 'the', 'new', 'world', '.', 'this', 'interpretation', 'of', 'gabriel', 'garcia', 'marquez', \"'\", 'la', 'incréible', 'y', 'triste', 'historia', 'da', 'la', 'cándida', 'eréndira', ',', '.', '.', '.', 'may', 'not', 'rub', 'marquez', 'purists', 'the', 'right', 'way', 'eventhough', 'the', 'story', 'stays', 'intact', 'and', 'still', 'carries', 'the', 'full', 'force', 'of', 'the', 'work', '.', 'the', 'strength', 'of', 'this', 'film', 'is', 'in', 'its', 'acting', 'especially', 'papas', 'as', 'the', 'grandmother', '.', 'marquez', 'fans', 'and', 'marquez', 'novices', 'alike', 'will', 'enjoy', 'this', 'movie', 'for', 'its', 'real', 'gritty', 'brand', 'of', 'witt', '.']\n",
      "=========================================================================================================\n",
      "=========================================================================================================\n",
      "\u001b[32mThis movie was an impressive one. My first experience with a foreign film, it was neither too long, nor too complex. I myself enjoyed the subtitles; and the plot was surprisingly fresh. The story of an adult son visiting his elderly father and retarded brother after a long separation appeared cliched at first, but it proved to be very touching and realistic. There was also some subtle humor so as not to depress or bore the audience.\u001b[0m\n",
      "--Tokenized:---------------------------\n",
      "['this', 'movie', 'was', 'an', 'impressive', 'one', '.', 'my', 'first', 'experience', 'with', 'a', 'foreign', 'film', ',', 'it', 'was', 'neither', 'too', 'long', ',', 'nor', 'too', 'complex', '.', 'i', 'myself', 'enjoyed', 'the', 'subtitles', 'and', 'the', 'plot', 'was', 'surprisingly', 'fresh', '.', 'the', 'story', 'of', 'an', 'adult', 'son', 'visiting', 'his', 'elderly', 'father', 'and', 'retarded', 'brother', 'after', 'a', 'long', 'separation', 'appeared', 'cliched', 'at', 'first', ',', 'but', 'it', 'proved', 'to', 'be', 'very', 'touching', 'and', 'realistic', '.', 'there', 'was', 'also', 'some', 'subtle', 'humor', 'so', 'as', 'not', 'to', 'depress', 'or', 'bore', 'the', 'audience', '.']\n",
      "=========================================================================================================\n",
      "=========================================================================================================\n",
      "\u001b[32mMaybe one of the most entertaining Ninja-movies ever made. A hard-hitting action movie with lots of gore and slow motion (eehaaa!). Made in ´83 and still the greatest swedish action movie made so far! And we can hardly wait to see the upcoming sequel, Ninja mission 2000 - The legacy of Markov!\u001b[0m\n",
      "--Tokenized:---------------------------\n",
      "['maybe', 'one', 'of', 'the', 'most', 'entertaining', 'ninja-movies', 'ever', 'made', '.', 'a', 'hard-hitting', 'action', 'movie', 'with', 'lots', 'of', 'gore', 'and', 'slow', 'motion', '(', 'eehaaa', '!', ')', '.', 'made', 'in', '´83', 'and', 'still', 'the', 'greatest', 'swedish', 'action', 'movie', 'made', 'so', 'far', '!', 'and', 'we', 'can', 'hardly', 'wait', 'to', 'see', 'the', 'upcoming', 'sequel', ',', 'ninja', 'mission', '2000', '-', 'the', 'legacy', 'of', 'markov', '!']\n"
     ]
    }
   ],
   "source": [
    "import random\n",
    "\n",
    "red   = '\\x1b[31m'\n",
    "green = '\\x1b[32m'\n",
    "end   = '\\x1b[0m'\n",
    "\n",
    "for _  in range(3):\n",
    "    (label, line) = random.choice(lTrainSet)\n",
    "    \n",
    "    color = red if label == 'neg' else green\n",
    "    print('=========================================================================================================')\n",
    "    print('=========================================================================================================')\n",
    "    print(color + line + end)\n",
    "    print('--Tokenized:---------------------------')    \n",
    "    print(oTokenizer(line))"
   ]
  },
  {
   "cell_type": "markdown",
   "id": "concrete-zoning",
   "metadata": {},
   "source": [
    "### Build the vocabulary:\n",
    "We keep only words that appear more than `min_freq` times."
   ]
  },
  {
   "cell_type": "code",
   "execution_count": 9,
   "id": "intelligent-carol",
   "metadata": {},
   "outputs": [
    {
     "name": "stdout",
     "output_type": "stream",
     "text": [
      "000001"
     ]
    },
    {
     "data": {
      "text/plain": [
       "<torchtext.vocab.Vocab at 0x16f677691c0>"
      ]
     },
     "execution_count": 9,
     "metadata": {},
     "output_type": "execute_result"
    }
   ],
   "source": [
    "from collections import Counter\n",
    "\n",
    "oCounter  = Counter()\n",
    "for ii, (label, line) in enumerate(lTrainSet):\n",
    "    print(f'\\r{len(lTrainSet) - ii:06}', end='')\n",
    "    oCounter.update(oTokenizer(line))\n",
    "    \n",
    "oVocab = Vocab(oCounter, min_freq=10, specials=('<unk>', '<BOS>', '<EOS>', '<pad>'))\n",
    "oVocab"
   ]
  },
  {
   "cell_type": "markdown",
   "id": "suffering-condition",
   "metadata": {},
   "source": [
    "#### Using the vocabulary:"
   ]
  },
  {
   "cell_type": "code",
   "execution_count": 10,
   "id": "suspected-wrapping",
   "metadata": {},
   "outputs": [
    {
     "data": {
      "text/plain": [
       "1831"
      ]
     },
     "execution_count": 10,
     "metadata": {},
     "output_type": "execute_result"
    }
   ],
   "source": [
    "len(oVocab)"
   ]
  },
  {
   "cell_type": "code",
   "execution_count": 11,
   "id": "difficult-buffer",
   "metadata": {},
   "outputs": [
    {
     "data": {
      "text/plain": [
       "(5, 7, 0)"
      ]
     },
     "execution_count": 11,
     "metadata": {},
     "output_type": "execute_result"
    }
   ],
   "source": [
    "oVocab['the'], oVocab['a'], oVocab['asfdlkasdjf']"
   ]
  },
  {
   "cell_type": "code",
   "execution_count": 12,
   "id": "integral-narrow",
   "metadata": {},
   "outputs": [
    {
     "data": {
      "text/plain": [
       "('.', 'and', '<unk>')"
      ]
     },
     "execution_count": 12,
     "metadata": {},
     "output_type": "execute_result"
    }
   ],
   "source": [
    "oVocab.itos[4], oVocab.itos[8], oVocab.itos[0]"
   ]
  },
  {
   "cell_type": "code",
   "execution_count": 13,
   "id": "medieval-collectible",
   "metadata": {},
   "outputs": [
    {
     "data": {
      "text/plain": [
       "(31, 7, 19)"
      ]
     },
     "execution_count": 13,
     "metadata": {},
     "output_type": "execute_result"
    }
   ],
   "source": [
    "oVocab['have'], oVocab['a'], oVocab['!']"
   ]
  },
  {
   "cell_type": "code",
   "execution_count": 14,
   "id": "weighted-marathon",
   "metadata": {},
   "outputs": [
    {
     "data": {
      "text/plain": [
       "[('.', 15200),\n",
       " ('the', 10447),\n",
       " (',', 8499),\n",
       " ('a', 5859),\n",
       " ('and', 5457),\n",
       " ('of', 4715),\n",
       " (\"'\", 4473),\n",
       " ('it', 4416),\n",
       " ('this', 4352),\n",
       " ('is', 4272),\n",
       " ('i', 4159),\n",
       " ('to', 3947),\n",
       " ('movie', 2929),\n",
       " ('in', 2729),\n",
       " ('that', 2083),\n",
       " ('!', 2015),\n",
       " ('was', 2008),\n",
       " ('s', 1955),\n",
       " ('film', 1700),\n",
       " ('you', 1609)]"
      ]
     },
     "execution_count": 14,
     "metadata": {},
     "output_type": "execute_result"
    }
   ],
   "source": [
    "oVocab.freqs.most_common(20)"
   ]
  },
  {
   "cell_type": "markdown",
   "id": "modern-trick",
   "metadata": {},
   "source": [
    "#### Text to sequence:"
   ]
  },
  {
   "cell_type": "code",
   "execution_count": 15,
   "id": "worthy-latest",
   "metadata": {},
   "outputs": [
    {
     "name": "stdout",
     "output_type": "stream",
     "text": [
      "Input : Hello World!\n",
      "Output: tensor([  1,   0, 196,  19,   2])\n"
     ]
    }
   ],
   "source": [
    "def TextTransform(line):\n",
    "    return torch.tensor([oVocab['<BOS>']] + [oVocab[token] for token in oTokenizer(line)] + [oVocab['<EOS>']])\n",
    "\n",
    "def LabelTransform(label):\n",
    "    return 1 if label == 'pos' else 0\n",
    "\n",
    "# Print out the output of text_transform\n",
    "line = 'Hello World!'\n",
    "print('Input :', line)\n",
    "print('Output:', TextTransform(line))"
   ]
  },
  {
   "cell_type": "code",
   "execution_count": 16,
   "id": "removed-production",
   "metadata": {},
   "outputs": [],
   "source": [
    "from torch.utils.data   import DataLoader\n",
    "from torch.nn.utils.rnn import pack_sequence\n",
    "\n",
    "def CollateBatch(lBatch):\n",
    "    Nb  = len(lBatch)\n",
    "    vY  = torch.zeros(Nb)\n",
    "    lX  = [None] * Nb\n",
    "    for ii, (label, line) in enumerate(lBatch):\n",
    "        vY[ii] = LabelTransform(label)\n",
    "        lX[ii] = TextTransform (line)\n",
    "    \n",
    "    mPackX = pack_sequence(lX, enforce_sorted=False)\n",
    "\n",
    "    return mPackX, vY"
   ]
  },
  {
   "cell_type": "markdown",
   "id": "fourth-horse",
   "metadata": {},
   "source": [
    "#### Remark\n",
    "It is better to group lines with similar length together (as in `BucketIterator`)."
   ]
  },
  {
   "cell_type": "code",
   "execution_count": 17,
   "id": "macro-faith",
   "metadata": {},
   "outputs": [],
   "source": [
    "batchSize = 64\n",
    "oTrainDL  = DataLoader(lTrainSet, batch_size=batchSize,   shuffle=True,  collate_fn=CollateBatch)\n",
    "oTestDL   = DataLoader(lTestSet,  batch_size=2*batchSize, shuffle=False, collate_fn=CollateBatch)"
   ]
  },
  {
   "cell_type": "markdown",
   "id": "atlantic-andrews",
   "metadata": {},
   "source": [
    "#### Define the RNN model:"
   ]
  },
  {
   "cell_type": "code",
   "execution_count": 18,
   "id": "similar-meaning",
   "metadata": {},
   "outputs": [
    {
     "data": {
      "text/plain": [
       "torch.Size([64])"
      ]
     },
     "execution_count": 18,
     "metadata": {},
     "output_type": "execute_result"
    }
   ],
   "source": [
    "from torch.nn.utils.rnn import PackedSequence\n",
    "\n",
    "def PackedAs(mX, mPack):\n",
    "    return PackedSequence(mX, mPack.batch_sizes, mPack.sorted_indices, mPack.unsorted_indices)\n",
    "\n",
    "V = len(oVocab)\n",
    "D = 64\n",
    "H = 256\n",
    "class RNN(nn.Module):\n",
    "    def __init__(self):\n",
    "        super(RNN, self).__init__()\n",
    "        \n",
    "        self.oEmbedding = nn.Embedding(V, D)\n",
    "        self.oRNN       = nn.RNN      (D, H, batch_first=True)\n",
    "        self.oFC        = nn.Linear   (H, 1)\n",
    "        \n",
    "    def forward(self, mPackX):\n",
    "                                              #-- mPackX.shape = (N*T,)\n",
    "        mE     = self.oEmbedding(mPackX.data) #-- mE    .shape = (N*T, D)\n",
    "        mPackE = PackedAs       (mE, mPackX)  #-- mPackE.shape = (N*T, D)\n",
    "        _, mH = self.oRNN       (mPackE)      #-- mH    .shape = (1, N, H)\n",
    "        mZ    = self.oFC        (mH[0])       #-- mZ    .shape = (N, 1)\n",
    "        return mZ[:,0]\n",
    "    \n",
    "\n",
    "mPackX, vY = next(iter(oTrainDL))\n",
    "RNN()(mPackX).shape"
   ]
  },
  {
   "cell_type": "code",
   "execution_count": 19,
   "id": "worth-people",
   "metadata": {},
   "outputs": [],
   "source": [
    "DEVICE = torch.device(\"cuda:0\" if torch.cuda.is_available() else \"cpu\") \n",
    "Loss   = nn.BCEWithLogitsLoss()"
   ]
  },
  {
   "cell_type": "code",
   "execution_count": 20,
   "id": "musical-medicine",
   "metadata": {
    "scrolled": false
   },
   "outputs": [
    {
     "name": "stdout",
     "output_type": "stream",
     "text": [
      "Epoch 000: | Train loss: 0.69084 | Val loss: 0.69198 | Train Metric: 0.5362 | Val Metric: 0.5315 | epoch time:  1.677 | <-- Checkpoint!\n",
      "Epoch 001: | Train loss: 0.68969 | Val loss: 0.69121 | Train Metric: 0.5485 | Val Metric: 0.5377 | epoch time:  1.188 | <-- Checkpoint!\n",
      "Epoch 002: | Train loss: 0.68877 | Val loss: 0.69052 | Train Metric: 0.5509 | Val Metric: 0.5409 | epoch time:  1.422 | <-- Checkpoint!\n",
      "Epoch 003: | Train loss: 0.68773 | Val loss: 0.68977 | Train Metric: 0.5550 | Val Metric: 0.5400 | epoch time:  1.258 |\n",
      "Epoch 004: | Train loss: 0.68673 | Val loss: 0.68903 | Train Metric: 0.5557 | Val Metric: 0.5393 | epoch time:  1.202 |\n",
      "Epoch 005: | Train loss: 0.68573 | Val loss: 0.68808 | Train Metric: 0.5554 | Val Metric: 0.5396 | epoch time:  1.261 |\n",
      "Epoch 006: | Train loss: 0.68464 | Val loss: 0.68721 | Train Metric: 0.5550 | Val Metric: 0.5403 | epoch time:  1.145 |\n",
      "Epoch 007: | Train loss: 0.68351 | Val loss: 0.68620 | Train Metric: 0.5567 | Val Metric: 0.5419 | epoch time:  1.144 | <-- Checkpoint!\n",
      "Epoch 008: | Train loss: 0.68233 | Val loss: 0.68557 | Train Metric: 0.5581 | Val Metric: 0.5422 | epoch time:  1.197 | <-- Checkpoint!\n",
      "Epoch 009: | Train loss: 0.68129 | Val loss: 0.68471 | Train Metric: 0.5581 | Val Metric: 0.5409 | epoch time:  1.152 |\n",
      "Epoch 010: | Train loss: 0.68015 | Val loss: 0.68423 | Train Metric: 0.5625 | Val Metric: 0.5409 | epoch time:  1.200 |\n",
      "Epoch 011: | Train loss: 0.67903 | Val loss: 0.68337 | Train Metric: 0.5646 | Val Metric: 0.5467 | epoch time:  1.177 | <-- Checkpoint!\n",
      "Epoch 012: | Train loss: 0.67786 | Val loss: 0.68302 | Train Metric: 0.5694 | Val Metric: 0.5464 | epoch time:  1.267 |\n",
      "Epoch 013: | Train loss: 0.67714 | Val loss: 0.68194 | Train Metric: 0.5728 | Val Metric: 0.5467 | epoch time:  1.178 |\n",
      "Epoch 014: | Train loss: 0.67534 | Val loss: 0.68149 | Train Metric: 0.5690 | Val Metric: 0.5477 | epoch time:  1.211 | <-- Checkpoint!\n",
      "Epoch 015: | Train loss: 0.67409 | Val loss: 0.68059 | Train Metric: 0.5766 | Val Metric: 0.5561 | epoch time:  1.283 | <-- Checkpoint!\n",
      "Epoch 016: | Train loss: 0.67195 | Val loss: 0.67986 | Train Metric: 0.5783 | Val Metric: 0.5542 | epoch time:  1.186 |\n",
      "Epoch 017: | Train loss: 0.67023 | Val loss: 0.68060 | Train Metric: 0.5916 | Val Metric: 0.5500 | epoch time:  1.306 |\n",
      "Epoch 018: | Train loss: 0.66801 | Val loss: 0.67863 | Train Metric: 0.5957 | Val Metric: 0.5629 | epoch time:  1.602 | <-- Checkpoint!\n",
      "Epoch 019: | Train loss: 0.66454 | Val loss: 0.67626 | Train Metric: 0.6032 | Val Metric: 0.5746 | epoch time:  1.492 | <-- Checkpoint!\n",
      "Epoch 020: | Train loss: 0.65898 | Val loss: 0.67281 | Train Metric: 0.6159 | Val Metric: 0.5904 | epoch time:  1.565 | <-- Checkpoint!\n",
      "Epoch 021: | Train loss: 0.64981 | Val loss: 0.66408 | Train Metric: 0.6220 | Val Metric: 0.6040 | epoch time:  1.474 | <-- Checkpoint!\n",
      "Epoch 022: | Train loss: 0.61646 | Val loss: 0.64905 | Train Metric: 0.6613 | Val Metric: 0.6393 | epoch time:  1.228 | <-- Checkpoint!\n",
      "Epoch 023: | Train loss: 0.59533 | Val loss: 0.63498 | Train Metric: 0.6832 | Val Metric: 0.6448 | epoch time:  1.276 | <-- Checkpoint!\n",
      "Epoch 024: | Train loss: 0.58597 | Val loss: 0.62960 | Train Metric: 0.6951 | Val Metric: 0.6487 | epoch time:  1.822 | <-- Checkpoint!\n",
      "Epoch 025: | Train loss: 0.58260 | Val loss: 0.63784 | Train Metric: 0.6931 | Val Metric: 0.6393 | epoch time:  1.297 |\n",
      "Epoch 026: | Train loss: 0.57091 | Val loss: 0.62613 | Train Metric: 0.7044 | Val Metric: 0.6480 | epoch time:  1.258 |\n",
      "Epoch 027: | Train loss: 0.56645 | Val loss: 0.62930 | Train Metric: 0.7092 | Val Metric: 0.6548 | epoch time:  1.355 | <-- Checkpoint!\n",
      "Epoch 028: | Train loss: 0.55950 | Val loss: 0.62923 | Train Metric: 0.7218 | Val Metric: 0.6642 | epoch time:  1.290 | <-- Checkpoint!\n",
      "Epoch 029: | Train loss: 0.55678 | Val loss: 0.62680 | Train Metric: 0.7208 | Val Metric: 0.6571 | epoch time:  1.149 |\n",
      "Epoch 030: | Train loss: 0.55231 | Val loss: 0.63002 | Train Metric: 0.7218 | Val Metric: 0.6700 | epoch time:  1.109 | <-- Checkpoint!\n",
      "Epoch 031: | Train loss: 0.55169 | Val loss: 0.62105 | Train Metric: 0.7218 | Val Metric: 0.6613 | epoch time:  1.157 |\n",
      "Epoch 032: | Train loss: 0.54562 | Val loss: 0.62741 | Train Metric: 0.7293 | Val Metric: 0.6584 | epoch time:  1.217 |\n",
      "Epoch 033: | Train loss: 0.54314 | Val loss: 0.62245 | Train Metric: 0.7276 | Val Metric: 0.6755 | epoch time:  1.187 | <-- Checkpoint!\n",
      "Epoch 034: | Train loss: 0.54035 | Val loss: 0.62168 | Train Metric: 0.7403 | Val Metric: 0.6681 | epoch time:  1.353 |\n",
      "Epoch 035: | Train loss: 0.54619 | Val loss: 0.64515 | Train Metric: 0.7266 | Val Metric: 0.6690 | epoch time:  1.237 |\n",
      "Epoch 036: | Train loss: 0.53606 | Val loss: 0.62752 | Train Metric: 0.7358 | Val Metric: 0.6629 | epoch time:  1.217 |\n",
      "Epoch 037: | Train loss: 0.53197 | Val loss: 0.61996 | Train Metric: 0.7386 | Val Metric: 0.6648 | epoch time:  1.216 |\n",
      "Epoch 038: | Train loss: 0.52947 | Val loss: 0.63189 | Train Metric: 0.7341 | Val Metric: 0.6787 | epoch time:  1.174 | <-- Checkpoint!\n",
      "Epoch 039: | Train loss: 0.52314 | Val loss: 0.60814 | Train Metric: 0.7447 | Val Metric: 0.6775 | epoch time:  1.156 |\n",
      "Epoch 040: | Train loss: 0.52194 | Val loss: 0.62286 | Train Metric: 0.7481 | Val Metric: 0.6794 | epoch time:  1.244 | <-- Checkpoint!\n",
      "Epoch 041: | Train loss: 0.51875 | Val loss: 0.61513 | Train Metric: 0.7536 | Val Metric: 0.6694 | epoch time:  1.189 |\n",
      "Epoch 042: | Train loss: 0.51484 | Val loss: 0.61072 | Train Metric: 0.7532 | Val Metric: 0.6755 | epoch time:  1.134 |\n",
      "Epoch 043: | Train loss: 0.51317 | Val loss: 0.62246 | Train Metric: 0.7529 | Val Metric: 0.6584 | epoch time:  1.116 |\n",
      "Epoch 044: | Train loss: 0.51336 | Val loss: 0.61255 | Train Metric: 0.7522 | Val Metric: 0.6768 | epoch time:  1.149 |\n",
      "Epoch 045: | Train loss: 0.50664 | Val loss: 0.62021 | Train Metric: 0.7543 | Val Metric: 0.6817 | epoch time:  1.181 | <-- Checkpoint!\n",
      "Epoch 046: | Train loss: 0.50103 | Val loss: 0.62049 | Train Metric: 0.7591 | Val Metric: 0.6800 | epoch time:  1.228 |\n",
      "Epoch 047: | Train loss: 0.49615 | Val loss: 0.61890 | Train Metric: 0.7738 | Val Metric: 0.6813 | epoch time:  1.207 |\n",
      "Epoch 048: | Train loss: 0.49698 | Val loss: 0.60876 | Train Metric: 0.7642 | Val Metric: 0.6846 | epoch time:  1.108 | <-- Checkpoint!\n",
      "Epoch 049: | Train loss: 0.49467 | Val loss: 0.62087 | Train Metric: 0.7638 | Val Metric: 0.6800 | epoch time:  1.120 |\n",
      "Epoch 050: | Train loss: 0.48978 | Val loss: 0.61945 | Train Metric: 0.7761 | Val Metric: 0.6917 | epoch time:  1.120 | <-- Checkpoint!\n",
      "Epoch 051: | Train loss: 0.48415 | Val loss: 0.60459 | Train Metric: 0.7785 | Val Metric: 0.6849 | epoch time:  1.105 |\n",
      "Epoch 052: | Train loss: 0.49289 | Val loss: 0.62165 | Train Metric: 0.7669 | Val Metric: 0.6894 | epoch time:  1.114 |\n",
      "Epoch 053: | Train loss: 0.47957 | Val loss: 0.62014 | Train Metric: 0.7823 | Val Metric: 0.6936 | epoch time:  1.118 | <-- Checkpoint!\n",
      "Epoch 054: | Train loss: 0.47845 | Val loss: 0.60369 | Train Metric: 0.7768 | Val Metric: 0.6985 | epoch time:  1.158 | <-- Checkpoint!\n",
      "Epoch 055: | Train loss: 0.47757 | Val loss: 0.60898 | Train Metric: 0.7772 | Val Metric: 0.6917 | epoch time:  1.116 |\n",
      "Epoch 056: | Train loss: 0.47242 | Val loss: 0.61055 | Train Metric: 0.7891 | Val Metric: 0.6933 | epoch time:  1.138 |\n",
      "Epoch 057: | Train loss: 0.47659 | Val loss: 0.61136 | Train Metric: 0.7806 | Val Metric: 0.6881 | epoch time:  1.134 |\n",
      "Epoch 058: | Train loss: 0.46771 | Val loss: 0.60350 | Train Metric: 0.7881 | Val Metric: 0.6998 | epoch time:  1.154 | <-- Checkpoint!\n",
      "Epoch 059: | Train loss: 0.46777 | Val loss: 0.61605 | Train Metric: 0.7820 | Val Metric: 0.6878 | epoch time:  1.119 |\n",
      "Epoch 060: | Train loss: 0.46747 | Val loss: 0.60318 | Train Metric: 0.7871 | Val Metric: 0.6891 | epoch time:  1.117 |\n",
      "Epoch 061: | Train loss: 0.46581 | Val loss: 0.61575 | Train Metric: 0.7864 | Val Metric: 0.6875 | epoch time:  1.171 |\n",
      "Epoch 062: | Train loss: 0.45962 | Val loss: 0.60296 | Train Metric: 0.7932 | Val Metric: 0.6969 | epoch time:  1.139 |\n",
      "Epoch 063: | Train loss: 0.45810 | Val loss: 0.61207 | Train Metric: 0.7925 | Val Metric: 0.6985 | epoch time:  1.153 |\n",
      "Epoch 064: | Train loss: 0.45804 | Val loss: 0.60726 | Train Metric: 0.7980 | Val Metric: 0.6972 | epoch time:  1.126 |\n"
     ]
    },
    {
     "name": "stdout",
     "output_type": "stream",
     "text": [
      "Epoch 065: | Train loss: 0.45846 | Val loss: 0.60735 | Train Metric: 0.7963 | Val Metric: 0.7024 | epoch time:  1.129 | <-- Checkpoint!\n",
      "Epoch 066: | Train loss: 0.45250 | Val loss: 0.62539 | Train Metric: 0.8008 | Val Metric: 0.6930 | epoch time:  1.129 |\n",
      "Epoch 067: | Train loss: 0.45255 | Val loss: 0.60565 | Train Metric: 0.7980 | Val Metric: 0.6956 | epoch time:  1.121 |\n",
      "Epoch 068: | Train loss: 0.45030 | Val loss: 0.61580 | Train Metric: 0.7977 | Val Metric: 0.6995 | epoch time:  1.148 |\n",
      "Epoch 069: | Train loss: 0.44911 | Val loss: 0.61675 | Train Metric: 0.7943 | Val Metric: 0.7001 | epoch time:  1.191 |\n",
      "Epoch 070: | Train loss: 0.44507 | Val loss: 0.61443 | Train Metric: 0.8025 | Val Metric: 0.6959 | epoch time:  1.146 |\n",
      "Epoch 071: | Train loss: 0.44568 | Val loss: 0.60417 | Train Metric: 0.7987 | Val Metric: 0.7004 | epoch time:  1.113 |\n",
      "Epoch 072: | Train loss: 0.44371 | Val loss: 0.61529 | Train Metric: 0.8011 | Val Metric: 0.7024 | epoch time:  1.117 |\n",
      "Epoch 073: | Train loss: 0.44068 | Val loss: 0.60354 | Train Metric: 0.8042 | Val Metric: 0.6988 | epoch time:  1.173 |\n",
      "Epoch 074: | Train loss: 0.43951 | Val loss: 0.60588 | Train Metric: 0.8079 | Val Metric: 0.7059 | epoch time:  1.122 | <-- Checkpoint!\n",
      "Epoch 075: | Train loss: 0.43929 | Val loss: 0.60966 | Train Metric: 0.8072 | Val Metric: 0.7007 | epoch time:  1.125 |\n",
      "Epoch 076: | Train loss: 0.43668 | Val loss: 0.60490 | Train Metric: 0.8083 | Val Metric: 0.7062 | epoch time:  1.131 | <-- Checkpoint!\n",
      "Epoch 077: | Train loss: 0.43665 | Val loss: 0.60770 | Train Metric: 0.8072 | Val Metric: 0.7014 | epoch time:  1.136 |\n",
      "Epoch 078: | Train loss: 0.43449 | Val loss: 0.61529 | Train Metric: 0.8120 | Val Metric: 0.6969 | epoch time:  1.112 |\n",
      "Epoch 079: | Train loss: 0.43390 | Val loss: 0.61216 | Train Metric: 0.8113 | Val Metric: 0.6988 | epoch time:  1.101 |\n",
      "Epoch 080: | Train loss: 0.43254 | Val loss: 0.60882 | Train Metric: 0.8110 | Val Metric: 0.7040 | epoch time:  1.097 |\n",
      "Epoch 081: | Train loss: 0.43136 | Val loss: 0.61275 | Train Metric: 0.8127 | Val Metric: 0.7014 | epoch time:  1.094 |\n",
      "Epoch 082: | Train loss: 0.43158 | Val loss: 0.61441 | Train Metric: 0.8120 | Val Metric: 0.7004 | epoch time:  1.104 |\n",
      "Epoch 083: | Train loss: 0.43088 | Val loss: 0.60863 | Train Metric: 0.8110 | Val Metric: 0.7043 | epoch time:  1.107 |\n",
      "Epoch 084: | Train loss: 0.42962 | Val loss: 0.61232 | Train Metric: 0.8172 | Val Metric: 0.7007 | epoch time:  1.109 |\n",
      "Epoch 085: | Train loss: 0.42969 | Val loss: 0.61040 | Train Metric: 0.8113 | Val Metric: 0.7043 | epoch time:  1.109 |\n",
      "Epoch 086: | Train loss: 0.42885 | Val loss: 0.61087 | Train Metric: 0.8151 | Val Metric: 0.7040 | epoch time:  1.081 |\n",
      "Epoch 087: | Train loss: 0.42831 | Val loss: 0.61064 | Train Metric: 0.8172 | Val Metric: 0.7030 | epoch time:  1.132 |\n",
      "Epoch 088: | Train loss: 0.42867 | Val loss: 0.60980 | Train Metric: 0.8141 | Val Metric: 0.7040 | epoch time:  1.157 |\n",
      "Epoch 089: | Train loss: 0.42712 | Val loss: 0.61102 | Train Metric: 0.8161 | Val Metric: 0.7027 | epoch time:  1.085 |\n",
      "Epoch 090: | Train loss: 0.42733 | Val loss: 0.61267 | Train Metric: 0.8137 | Val Metric: 0.7004 | epoch time:  1.082 |\n",
      "Epoch 091: | Train loss: 0.42697 | Val loss: 0.60920 | Train Metric: 0.8185 | Val Metric: 0.7046 | epoch time:  1.082 |\n",
      "Epoch 092: | Train loss: 0.42701 | Val loss: 0.61103 | Train Metric: 0.8161 | Val Metric: 0.7030 | epoch time:  1.074 |\n",
      "Epoch 093: | Train loss: 0.42659 | Val loss: 0.61033 | Train Metric: 0.8182 | Val Metric: 0.7043 | epoch time:  1.084 |\n",
      "Epoch 094: | Train loss: 0.42631 | Val loss: 0.61023 | Train Metric: 0.8172 | Val Metric: 0.7030 | epoch time:  1.077 |\n",
      "Epoch 095: | Train loss: 0.42628 | Val loss: 0.61048 | Train Metric: 0.8172 | Val Metric: 0.7030 | epoch time:  1.079 |\n",
      "Epoch 096: | Train loss: 0.42617 | Val loss: 0.61084 | Train Metric: 0.8172 | Val Metric: 0.7030 | epoch time:  1.084 |\n",
      "Epoch 097: | Train loss: 0.42613 | Val loss: 0.61071 | Train Metric: 0.8172 | Val Metric: 0.7027 | epoch time:  1.135 |\n",
      "Epoch 098: | Train loss: 0.42610 | Val loss: 0.61075 | Train Metric: 0.8175 | Val Metric: 0.7027 | epoch time:  1.081 |\n",
      "Epoch 099: | Train loss: 0.42609 | Val loss: 0.61074 | Train Metric: 0.8175 | Val Metric: 0.7027 | epoch time:  1.115 |\n"
     ]
    }
   ],
   "source": [
    "from torch.optim                    import lr_scheduler\n",
    "from DeepLearningFramework.Metric   import BinaryAcuuracy\n",
    "from DeepLearningFramework.Training import TrainClassficationModel\n",
    "\n",
    "nEpochs       = 100\n",
    "nIter         = nEpochs * len(oTrainDL)\n",
    "oModel        = RNN().to(DEVICE)\n",
    "oOptim        = optim.Adam(oModel.parameters(), lr=5e-6, betas=(0.8, 0.9))\n",
    "oScheduler    = lr_scheduler.OneCycleLR(oOptim, max_lr=5e-5, total_steps=nIter)\n",
    "lHistory      = TrainClassficationModel(oModel, oTrainDL, oTestDL, Loss, BinaryAcuuracy, nEpochs, oOptim, oScheduler);"
   ]
  },
  {
   "cell_type": "code",
   "execution_count": 21,
   "id": "hindu-communication",
   "metadata": {},
   "outputs": [
    {
     "data": {
      "image/png": "[encoded data removed]",
      "text/plain": [
       "<Figure size 1584x360 with 3 Axes>"
      ]
     },
     "metadata": {
      "needs_background": "light"
     },
     "output_type": "display_data"
    }
   ],
   "source": [
    "from DeepLearningFramework.Auxiliary import PlotHistory\n",
    "\n",
    "PlotHistory(lHistory)"
   ]
  },
  {
   "cell_type": "code",
   "execution_count": null,
   "id": "curious-raising",
   "metadata": {},
   "outputs": [],
   "source": []
  }
 ],
 "metadata": {
  "kernelspec": {
   "display_name": "Python 3",
   "language": "python",
   "name": "python3"
  },
  "language_info": {
   "codemirror_mode": {
    "name": "ipython",
    "version": 3
   },
   "file_extension": ".py",
   "mimetype": "text/x-python",
   "name": "python",
   "nbconvert_exporter": "python",
   "pygments_lexer": "ipython3",
   "version": "3.8.8"
  }
 },
 "nbformat": 4,
 "nbformat_minor": 5
}
