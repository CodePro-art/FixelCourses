{
 "cells": [
  {
   "cell_type": "markdown",
   "metadata": {},
   "source": [
    "![Fixel Algorithms](https://fixelalgorithms.co/images/CCExt.png)"
   ]
  },
  {
   "cell_type": "markdown",
   "metadata": {},
   "source": [
    "# <center> Deep Learning Methods </center>\n",
    "## <center> Lecture 5 - PyTorch</center>\n",
    "### <center> Cifar-10 Example </center>"
   ]
  },
  {
   "cell_type": "markdown",
   "metadata": {},
   "source": [
    "[![Open In Colab](https://colab.research.google.com/assets/colab-badge.svg)](https://colab.research.google.com/github/FixelAlgorithmsTeam/FixelCourses/blob/master/DeepLearningMethods/05_PyTorch/MainPyTorchCifar.ipynb)"
   ]
  },
  {
   "cell_type": "code",
   "execution_count": 1,
   "metadata": {},
   "outputs": [
    {
     "data": {
      "text/html": [
       "<style>.container { width:80% !important; }</style>"
      ],
      "text/plain": [
       "<IPython.core.display.HTML object>"
      ]
     },
     "metadata": {},
     "output_type": "display_data"
    }
   ],
   "source": [
    "#-- Wide screen:\n",
    "from IPython.core.display import display, HTML\n",
    "display(HTML(\"<style>.container { width:80% !important; }</style>\"))"
   ]
  },
  {
   "cell_type": "code",
   "execution_count": 2,
   "metadata": {},
   "outputs": [],
   "source": [
    "#-- Auto reload:\n",
    "%load_ext autoreload\n",
    "%autoreload 2"
   ]
  },
  {
   "cell_type": "code",
   "execution_count": 3,
   "metadata": {},
   "outputs": [],
   "source": [
    "#-- Imports:\n",
    "import numpy             as np\n",
    "import matplotlib.pyplot as plt\n",
    "import matplotlib\n",
    "\n",
    "#-- torch:\n",
    "import torch\n",
    "import torch.nn            as nn\n",
    "import torch.nn.functional as F\n",
    "import torch.optim         as optim\n",
    "import torchsummary\n",
    "\n",
    "matplotlib.rc('font', **{'size' : 16})\n",
    "\n",
    "# #-- Fix seed (for presentation sake)\n",
    "# torch.manual_seed(0)\n",
    "# np.random.seed   (0)\n",
    "# torch.backends.cudnn.deterministic = True\n",
    "# torch.backends.cudnn.benchmark     = False"
   ]
  },
  {
   "cell_type": "markdown",
   "metadata": {},
   "source": [
    "#### Accuracy function\n",
    "A `torch.tensor` stores the computational graph.  \n",
    "Use `torch.Tensor.item()` to get a Python number from a tensor containing a single value."
   ]
  },
  {
   "cell_type": "code",
   "execution_count": 4,
   "metadata": {},
   "outputs": [
    {
     "data": {
      "text/plain": [
       "(tensor(5.3000), 5.300000190734863)"
      ]
     },
     "execution_count": 4,
     "metadata": {},
     "output_type": "execute_result"
    }
   ],
   "source": [
    "#-- Example for item():\n",
    "x = torch.tensor(5.3)\n",
    "x, x.item()"
   ]
  },
  {
   "cell_type": "code",
   "execution_count": 5,
   "metadata": {},
   "outputs": [],
   "source": [
    "#-- Classification accuracy:\n",
    "def Accuracy(mScore, vY):\n",
    "    vHatY = mScore.detach().argmax(dim=1)\n",
    "    return (vHatY == vY).float().mean().item()"
   ]
  },
  {
   "cell_type": "code",
   "execution_count": 6,
   "metadata": {},
   "outputs": [],
   "source": [
    "def Epoch(oModel, oDataDL, Loss, Metric, oOptim=None, bTrain=True):\n",
    "\n",
    "    epochLoss   = 0\n",
    "    epochMetric = 0\n",
    "    count       = 0\n",
    "    nIter       = len(oDataDL)\n",
    "    DEVICE      = next(oModel.parameters()).device #-- CPU\\GPU\n",
    "\n",
    "    oModel.train(bTrain) #-- train or test\n",
    "    \n",
    "    #-- Iterate over the mini-batches:\n",
    "    for ii, (mX, vY) in enumerate(oDataDL):\n",
    "        #-- Move to device (CPU\\GPU):\n",
    "        mX = mX.to(DEVICE)\n",
    "        vY = vY.to(DEVICE)\n",
    "        \n",
    "        #-- Forward:\n",
    "        if bTrain == True:\n",
    "            #-- Store computational graph:\n",
    "            mZ   = oModel(mX)\n",
    "            loss = Loss(mZ, vY)\n",
    "        else:\n",
    "            with torch.no_grad():\n",
    "                #-- Do not store computational graph:\n",
    "                mZ   = oModel(mX)\n",
    "                loss = Loss(mZ, vY)\n",
    "\n",
    "        #-- Backward:\n",
    "        if bTrain == True:\n",
    "            oOptim.zero_grad() #-- set gradients to zeros\n",
    "            loss.backward()    #-- backward\n",
    "            oOptim.step()      #-- update parameters\n",
    "\n",
    "        Nb           = vY.shape[0]\n",
    "        count       += Nb\n",
    "        epochLoss   += Nb * loss.item()\n",
    "        epochMetric += Nb * Metric(mZ, vY)\n",
    "        print(f'\\r{\"Train\" if bTrain else \"Val\"} - Iteration: {ii:3d} ({nIter}): loss = {loss:.6f}', end='')\n",
    "\n",
    "    print('', end='\\r')\n",
    "    epochLoss   /= count\n",
    "    epochMetric /= count\n",
    "\n",
    "    return epochLoss, epochMetric"
   ]
  },
  {
   "cell_type": "code",
   "execution_count": 7,
   "metadata": {},
   "outputs": [],
   "source": [
    "import time\n",
    "\n",
    "def TrainClassficationModel(oModel, oTrainData, oValData, Loss, nEpochs, oOptim):\n",
    "\n",
    "    vTrainLoss = np.full(nEpochs, np.nan)\n",
    "    vTrainAcc  = np.full(nEpochs, np.nan)\n",
    "    vValLoss   = np.full(nEpochs, np.nan)\n",
    "    vValAcc    = np.full(nEpochs, np.nan)\n",
    "    bestAcc    = 0\n",
    "\n",
    "    for epoch in range(nEpochs):\n",
    "        startTime = time.time()\n",
    "        trainLoss, trainAcc = Epoch(oModel, oTrainData, Loss, Accuracy, oOptim, bTrain=True ) #-- train\n",
    "        valLoss,   valAcc   = Epoch(oModel, oValData,   Loss, Accuracy,         bTrain=False) #-- validate\n",
    "        epochTime = time.time() - startTime\n",
    "\n",
    "        #-- Display:\n",
    "        print('Epoch '              f'{epoch    :03d}:',   end='')\n",
    "        print(' | Train loss: '     f'{trainLoss:.5f}' ,   end='')\n",
    "        print(' | Val loss: '       f'{valLoss  :.5f}' ,   end='')\n",
    "        print(' | Train Accuracy: ' f'{trainAcc :2.4f}',   end='')\n",
    "        print(' | Val Accuracy: '   f'{valAcc   :2.4f}',   end='')\n",
    "        print(' | epoch time: '     f'{epochTime:3.3f} |', end='')\n",
    "\n",
    "        vTrainLoss[epoch] = trainLoss\n",
    "        vTrainAcc [epoch] = trainAcc\n",
    "        vValLoss  [epoch] = valLoss\n",
    "        vValAcc   [epoch] = valAcc\n",
    "\n",
    "        #-- Save best model (early stopping):\n",
    "        if bestAcc < valAcc:\n",
    "            bestAcc = valAcc\n",
    "            try:\n",
    "                torch.save(oModel.state_dict(), 'BestModel.pt')\n",
    "            except:\n",
    "                pass\n",
    "            print(' <-- Checkpoint!')\n",
    "        else:\n",
    "            print('')\n",
    "\n",
    "    #-- Load best model (early stopping):\n",
    "    oModel.load_state_dict(torch.load('BestModel.pt'))\n",
    "\n",
    "    return vTrainLoss, vTrainAcc, vValLoss, vValAcc"
   ]
  },
  {
   "cell_type": "markdown",
   "metadata": {},
   "source": [
    "### Download CIFAR-10 dataset:"
   ]
  },
  {
   "cell_type": "code",
   "execution_count": 8,
   "metadata": {},
   "outputs": [
    {
     "name": "stdout",
     "output_type": "stream",
     "text": [
      "Files already downloaded and verified\n",
      "Files already downloaded and verified\n"
     ]
    },
    {
     "data": {
      "text/plain": [
       "((50000, 32, 32, 3), torch.Size([3, 32, 32]))"
      ]
     },
     "execution_count": 8,
     "metadata": {},
     "output_type": "execute_result"
    }
   ],
   "source": [
    "import torchvision\n",
    "import torchvision.transforms as transforms\n",
    "\n",
    "oTrainSet = torchvision.datasets.CIFAR10(root='../../data', train=True,  download=True, transform=transforms.ToTensor())\n",
    "oTestSet  = torchvision.datasets.CIFAR10(root='../../data', train=False, download=True, transform=transforms.ToTensor())\n",
    "lClasses  = oTrainSet.classes\n",
    "\n",
    "oTrainSet.data.shape, oTrainSet[0][0].shape"
   ]
  },
  {
   "cell_type": "markdown",
   "metadata": {},
   "source": [
    "### Plot some examples:"
   ]
  },
  {
   "cell_type": "code",
   "execution_count": 9,
   "metadata": {},
   "outputs": [
    {
     "data": {
      "text/plain": [
       "((50000, 32, 32, 3), torch.Size([3, 32, 32]))"
      ]
     },
     "execution_count": 9,
     "metadata": {},
     "output_type": "execute_result"
    }
   ],
   "source": [
    "oTrainSet.data.shape, oTrainSet[0][0].shape"
   ]
  },
  {
   "cell_type": "code",
   "execution_count": 10,
   "metadata": {},
   "outputs": [
    {
     "data": {
      "image/png": "[encoded data removed]",
      "text/plain": [
       "<Figure size 720x432 with 6 Axes>"
      ]
     },
     "metadata": {
      "needs_background": "light"
     },
     "output_type": "display_data"
    }
   ],
   "source": [
    "N, H, W, C = oTrainSet.data.shape\n",
    "fig, _     = plt.subplots(2, 3, figsize=(10,6))\n",
    "for ax in fig.axes:\n",
    "    idx   = np.random.randint(N)\n",
    "    mX, y = oTrainSet[idx]\n",
    "    ax.imshow(np.transpose(mX.numpy(), (1,2,0)))\n",
    "    ax.set_title(f'True label: {lClasses[y]}')\n",
    "    \n",
    "plt.tight_layout()\n",
    "plt.show()"
   ]
  },
  {
   "cell_type": "markdown",
   "metadata": {},
   "source": [
    "#### Compute mean and variance:"
   ]
  },
  {
   "cell_type": "code",
   "execution_count": 11,
   "metadata": {},
   "outputs": [
    {
     "name": "stdout",
     "output_type": "stream",
     "text": [
      "µ = [0.49139968 0.48215841 0.44653091]\n",
      "σ = [0.24703223 0.24348513 0.26158784]\n"
     ]
    }
   ],
   "source": [
    "vMean = oTrainSet.data.mean((0,1,2)) / 255\n",
    "vStd  = oTrainSet.data.std ((0,1,2)) / 255\n",
    "print('µ =', vMean)\n",
    "print('σ =', vStd)"
   ]
  },
  {
   "cell_type": "markdown",
   "metadata": {},
   "source": [
    "#### Add normalization to the datasets (using `transform`):"
   ]
  },
  {
   "cell_type": "code",
   "execution_count": 12,
   "metadata": {},
   "outputs": [],
   "source": [
    "oTransform = transforms.Compose([\n",
    "    transforms.ToTensor(),\n",
    "    transforms.Normalize(vMean, vStd)\n",
    "])\n",
    "\n",
    "oTrainSet.transform = oTransform\n",
    "oTestSet .transform = oTransform"
   ]
  },
  {
   "cell_type": "markdown",
   "metadata": {},
   "source": [
    "#### Create data loaders:"
   ]
  },
  {
   "cell_type": "code",
   "execution_count": 13,
   "metadata": {},
   "outputs": [],
   "source": [
    "batchSize = 128\n",
    "oTrainDL  = torch.utils.data.DataLoader(oTrainSet, shuffle=True,  batch_size=batchSize,   num_workers=2)\n",
    "oTestDL   = torch.utils.data.DataLoader(oTestSet,  shuffle=False, batch_size=2*batchSize, num_workers=2)"
   ]
  },
  {
   "cell_type": "markdown",
   "metadata": {},
   "source": [
    "### Define the model (architecture):"
   ]
  },
  {
   "cell_type": "code",
   "execution_count": 14,
   "metadata": {},
   "outputs": [
    {
     "name": "stdout",
     "output_type": "stream",
     "text": [
      "==========================================================================================\n",
      "Layer (type:depth-idx)                   Output Shape              Param #\n",
      "==========================================================================================\n",
      "├─Identity: 1-1                          [-1, 3, 32, 32]           --\n",
      "├─Flatten: 1-2                           [-1, 3072]                --\n",
      "├─Linear: 1-3                            [-1, 500]                 1,536,500\n",
      "├─ReLU: 1-4                              [-1, 500]                 --\n",
      "├─Linear: 1-5                            [-1, 250]                 125,250\n",
      "├─ReLU: 1-6                              [-1, 250]                 --\n",
      "├─Linear: 1-7                            [-1, 10]                  2,510\n",
      "==========================================================================================\n",
      "Total params: 1,664,260\n",
      "Trainable params: 1,664,260\n",
      "Non-trainable params: 0\n",
      "Total mult-adds (M): 1.66\n",
      "==========================================================================================\n",
      "Input size (MB): 0.01\n",
      "Forward/backward pass size (MB): 0.01\n",
      "Params size (MB): 6.35\n",
      "Estimated Total Size (MB): 6.37\n",
      "==========================================================================================\n"
     ]
    }
   ],
   "source": [
    "def GetModel():\n",
    "    oModel = nn.Sequential(\n",
    "        nn.Identity(), #-- does nothing\n",
    "        nn.Flatten (),\n",
    "        \n",
    "        nn.Linear(3*32*32, 500), nn.ReLU(),\n",
    "        nn.Linear(500,     250), nn.ReLU(),\n",
    "        nn.Linear(250,      10)\n",
    "    )\n",
    "    return oModel\n",
    "\n",
    "torchsummary.summary(GetModel(), (C, H, W), device='cpu');"
   ]
  },
  {
   "cell_type": "markdown",
   "metadata": {},
   "source": [
    "### Check whether GPU is available:"
   ]
  },
  {
   "cell_type": "code",
   "execution_count": 15,
   "metadata": {},
   "outputs": [
    {
     "data": {
      "text/plain": [
       "device(type='cuda', index=0)"
      ]
     },
     "execution_count": 15,
     "metadata": {},
     "output_type": "execute_result"
    }
   ],
   "source": [
    "DEVICE = torch.device(\"cuda:0\" if torch.cuda.is_available() else \"cpu\") \n",
    "DEVICE"
   ]
  },
  {
   "cell_type": "markdown",
   "metadata": {},
   "source": [
    "### Train the model:"
   ]
  },
  {
   "cell_type": "code",
   "execution_count": 16,
   "metadata": {},
   "outputs": [
    {
     "name": "stdout",
     "output_type": "stream",
     "text": [
      "Epoch 000: | Train loss: 1.70304 | Val loss: 1.54404 | Train Accuracy: 0.4009 | Val Accuracy: 0.4632 | epoch time: 10.958 | <-- Checkpoint!\n",
      "Epoch 001: | Train loss: 1.48330 | Val loss: 1.44708 | Train Accuracy: 0.4811 | Val Accuracy: 0.4932 | epoch time: 12.168 | <-- Checkpoint!\n",
      "Epoch 002: | Train loss: 1.38320 | Val loss: 1.41071 | Train Accuracy: 0.5194 | Val Accuracy: 0.5059 | epoch time: 11.420 | <-- Checkpoint!\n",
      "Epoch 003: | Train loss: 1.30908 | Val loss: 1.37224 | Train Accuracy: 0.5466 | Val Accuracy: 0.5172 | epoch time: 11.422 | <-- Checkpoint!\n",
      "Epoch 004: | Train loss: 1.24891 | Val loss: 1.35288 | Train Accuracy: 0.5684 | Val Accuracy: 0.5260 | epoch time: 11.300 | <-- Checkpoint!\n",
      "Epoch 005: | Train loss: 1.19178 | Val loss: 1.34475 | Train Accuracy: 0.5885 | Val Accuracy: 0.5275 | epoch time: 11.239 | <-- Checkpoint!\n",
      "Epoch 006: | Train loss: 1.14082 | Val loss: 1.32762 | Train Accuracy: 0.6084 | Val Accuracy: 0.5301 | epoch time: 10.674 | <-- Checkpoint!\n",
      "Epoch 007: | Train loss: 1.09058 | Val loss: 1.32587 | Train Accuracy: 0.6259 | Val Accuracy: 0.5329 | epoch time: 11.290 | <-- Checkpoint!\n",
      "Epoch 008: | Train loss: 1.04433 | Val loss: 1.32167 | Train Accuracy: 0.6404 | Val Accuracy: 0.5406 | epoch time: 11.381 | <-- Checkpoint!\n",
      "Epoch 009: | Train loss: 1.00129 | Val loss: 1.31238 | Train Accuracy: 0.6572 | Val Accuracy: 0.5528 | epoch time: 10.683 | <-- Checkpoint!\n",
      "Epoch 010: | Train loss: 0.95894 | Val loss: 1.31356 | Train Accuracy: 0.6725 | Val Accuracy: 0.5466 | epoch time: 11.929 |\n",
      "Epoch 011: | Train loss: 0.91749 | Val loss: 1.32207 | Train Accuracy: 0.6898 | Val Accuracy: 0.5439 | epoch time: 12.004 |\n",
      "Epoch 012: | Train loss: 0.87811 | Val loss: 1.32462 | Train Accuracy: 0.7028 | Val Accuracy: 0.5507 | epoch time: 11.832 |\n",
      "Epoch 013: | Train loss: 0.83649 | Val loss: 1.33148 | Train Accuracy: 0.7202 | Val Accuracy: 0.5500 | epoch time: 11.427 |\n",
      "Epoch 014: | Train loss: 0.79820 | Val loss: 1.36387 | Train Accuracy: 0.7327 | Val Accuracy: 0.5447 | epoch time: 10.881 |\n",
      "Epoch 015: | Train loss: 0.76550 | Val loss: 1.36151 | Train Accuracy: 0.7434 | Val Accuracy: 0.5500 | epoch time: 11.221 |\n",
      "Epoch 016: | Train loss: 0.72939 | Val loss: 1.39056 | Train Accuracy: 0.7576 | Val Accuracy: 0.5434 | epoch time: 11.342 |\n",
      "Epoch 017: | Train loss: 0.69321 | Val loss: 1.41030 | Train Accuracy: 0.7730 | Val Accuracy: 0.5430 | epoch time: 11.012 |\n",
      "Epoch 018: | Train loss: 0.65923 | Val loss: 1.47155 | Train Accuracy: 0.7828 | Val Accuracy: 0.5321 | epoch time: 10.713 |\n",
      "Epoch 019: | Train loss: 0.62716 | Val loss: 1.45522 | Train Accuracy: 0.7952 | Val Accuracy: 0.5408 | epoch time: 10.518 |\n"
     ]
    }
   ],
   "source": [
    "oModel  = GetModel().to(DEVICE)\n",
    "Loss    = nn.CrossEntropyLoss()\n",
    "oOptim  = optim.AdamW(oModel.parameters(), lr=1e-4, betas=(0.9, 0.99), weight_decay=1e-4)\n",
    "nEpochs = 20\n",
    "\n",
    "TrainClassficationModel(oModel, oTrainDL, oTestDL, Loss, nEpochs, oOptim);"
   ]
  },
  {
   "cell_type": "markdown",
   "metadata": {},
   "source": [
    "### Exercise:\n",
    "* Use the California housing dataset `fetch_california_housing`.\n",
    "* Use MSE loss (instead of the cross-entropy)\n",
    "* Replace the classification accuracy with $R^2$ score.\n",
    "* Try to get the best MSE\\R2 score you can.\n",
    "\n",
    "**Tips**:\n",
    "* You should test different models (layers\\activations) and hyper-parameters.\n",
    "* Try different optimizers and regularizations.\n",
    "* $R_2 > 0.8$ (on the validation set) is quite good."
   ]
  },
  {
   "cell_type": "code",
   "execution_count": 17,
   "metadata": {},
   "outputs": [
    {
     "data": {
      "text/plain": [
       "((20640, 8), (20640,))"
      ]
     },
     "execution_count": 17,
     "metadata": {},
     "output_type": "execute_result"
    }
   ],
   "source": [
    "from sklearn.datasets import fetch_california_housing\n",
    "\n",
    "mX, vY  = fetch_california_housing(return_X_y=True)\n",
    "mX     -= mX.mean(0)\n",
    "mX     /= mX.std (0)\n",
    "\n",
    "mX.shape, vY.shape"
   ]
  },
  {
   "cell_type": "code",
   "execution_count": 18,
   "metadata": {},
   "outputs": [
    {
     "data": {
      "text/plain": [
       "(15000, 5640)"
      ]
     },
     "execution_count": 18,
     "metadata": {},
     "output_type": "execute_result"
    }
   ],
   "source": [
    "from torch.utils.data import TensorDataset\n",
    "\n",
    "nTrain              = 15000\n",
    "nTest               = 5640\n",
    "oDataset            = TensorDataset(torch.tensor(mX, dtype=torch.float32), torch.tensor(vY, dtype=torch.float32))\n",
    "oTrainSet, oValSet  = torch.utils.data.random_split(oDataset, [nTrain, nTest])\n",
    "len(oTrainSet), len(oValSet)"
   ]
  },
  {
   "cell_type": "markdown",
   "metadata": {},
   "source": [
    "#### $R^2$ function\n",
    "`tensor.detach()` creates a tensor that shares storage with `tensor` that does not require grad."
   ]
  },
  {
   "cell_type": "code",
   "execution_count": 19,
   "metadata": {},
   "outputs": [],
   "source": [
    "from sklearn.metrics import r2_score\n",
    "\n",
    "def R2Score(vHatY, vY):\n",
    "    vY    = vY   .detach().cpu().view(-1)\n",
    "    vHatY = vHatY.detach().cpu().view(-1)\n",
    "    return ???"
   ]
  },
  {
   "cell_type": "code",
   "execution_count": 20,
   "metadata": {},
   "outputs": [],
   "source": [
    "import time\n",
    "\n",
    "def TrainRegressionModel(oModel, oTrainData, oValData, Loss, nEpochs, oOptim):\n",
    "\n",
    "    vTrainLoss = np.full(nEpochs, np.nan)\n",
    "    vTrainR2   = np.full(nEpochs, np.nan)\n",
    "    vValLoss   = np.full(nEpochs, np.nan)\n",
    "    vValR2     = np.full(nEpochs, np.nan)\n",
    "    bestR2     = 0\n",
    "\n",
    "    for epoch in range(nEpochs):\n",
    "        startTime = time.time()\n",
    "        trainLoss, trainR2 = Epoch(oModel, oTrainData, ???, ???, oOptim, bTrain=True ) #-- train\n",
    "        valLoss,   valR2   = Epoch(oModel, oValData,   ???, ???,         bTrain=False) #-- validate\n",
    "        epochTime = time.time() - startTime\n",
    "\n",
    "        #-- Display:\n",
    "        print('Epoch '          f'{epoch    :03d}:',   end='')\n",
    "        print(' | Train loss: ' f'{trainLoss:.5f}' ,   end='')\n",
    "        print(' | Val loss: '   f'{valLoss  :.5f}' ,   end='')\n",
    "        print(' | Train R2: '   f'{trainR2 :+2.4f}',   end='')\n",
    "        print(' | Val R2: '     f'{valR2   :+2.4f}',   end='')\n",
    "        print(' | epoch time: ' f'{epochTime:3.3f} |', end='')\n",
    "\n",
    "        vTrainLoss[epoch] = trainLoss\n",
    "        vTrainR2  [epoch] = trainR2\n",
    "        vValLoss  [epoch] = valLoss\n",
    "        vValR2    [epoch] = valR2\n",
    "\n",
    "        #-- Save best model (early stopping):\n",
    "        if ??? < ???:\n",
    "            ??? = ???\n",
    "            try:\n",
    "                torch.save(oModel.state_dict(), 'BestModel.pt')\n",
    "            except:\n",
    "                pass\n",
    "            print(' <-- Checkpoint!')\n",
    "        else:\n",
    "            print('')\n",
    "\n",
    "    #-- Load best model (early stopping):\n",
    "    oModel.load_state_dict(torch.load('BestModel.pt'))\n",
    "\n",
    "    return vTrainLoss, vTrainR2, vValLoss, vValR2"
   ]
  },
  {
   "cell_type": "code",
   "execution_count": 21,
   "metadata": {},
   "outputs": [],
   "source": [
    "batchSize = 128\n",
    "oTrainDL  = torch.utils.data.DataLoader(oTrainSet, shuffle=True,  batch_size=batchSize,   num_workers=2)\n",
    "oValDL    = torch.utils.data.DataLoader(oValSet,   shuffle=False, batch_size=2*batchSize, num_workers=2)"
   ]
  },
  {
   "cell_type": "code",
   "execution_count": 1,
   "metadata": {},
   "outputs": [
    {
     "ename": "SyntaxError",
     "evalue": "invalid syntax (<ipython-input-1-4d2555473a8c>, line 15)",
     "output_type": "error",
     "traceback": [
      "\u001b[1;36m  File \u001b[1;32m\"<ipython-input-1-4d2555473a8c>\"\u001b[1;36m, line \u001b[1;32m15\u001b[0m\n\u001b[1;33m    ???\u001b[0m\n\u001b[1;37m    ^\u001b[0m\n\u001b[1;31mSyntaxError\u001b[0m\u001b[1;31m:\u001b[0m invalid syntax\n"
     ]
    }
   ],
   "source": [
    "import torch.nn            as nn\n",
    "import torch.nn.functional as F\n",
    "import torch.optim         as optim\n",
    "import torchsummary\n",
    "\n",
    "#-- Tensor to vector (reshape):\n",
    "class Squeeze(nn.Module):\n",
    "    def forward(self, mX):\n",
    "        return mX[:,0]\n",
    "\n",
    "#-- Model:\n",
    "def GetModel():\n",
    "    oModel = nn.Sequential(\n",
    "        nn.Identity(),  #-- does nothing\n",
    "        ???\n",
    "        \n",
    "        Squeeze()\n",
    "    )\n",
    "   \n",
    "    return oModel\n",
    "\n",
    "#--------------------------------------------------------------------------------#\n",
    "#--------------------------------------------------------------------------------#\n",
    "torchsummary.summary(GetModel(), (8,), device='cpu');"
   ]
  },
  {
   "cell_type": "code",
   "execution_count": 23,
   "metadata": {},
   "outputs": [
    {
     "data": {
      "text/plain": [
       "device(type='cuda', index=0)"
      ]
     },
     "execution_count": 23,
     "metadata": {},
     "output_type": "execute_result"
    }
   ],
   "source": [
    "DEVICE = torch.device(\"cuda:0\" if torch.cuda.is_available() else \"cpu\") \n",
    "DEVICE"
   ]
  },
  {
   "cell_type": "code",
   "execution_count": 24,
   "metadata": {},
   "outputs": [
    {
     "name": "stdout",
     "output_type": "stream",
     "text": [
      "Epoch 000: | Train loss: 1.40575 | Val loss: 0.98158 | Train R2: -0.0723 | Val R2: +0.2694 | epoch time: 2.404 | <-- Checkpoint!\n",
      "Epoch 001: | Train loss: 0.86331 | Val loss: 0.61450 | Train R2: +0.3420 | Val R2: +0.5385 | epoch time: 2.461 | <-- Checkpoint!\n",
      "Epoch 002: | Train loss: 1.09707 | Val loss: 1.04488 | Train R2: +0.1687 | Val R2: +0.2174 | epoch time: 2.635 |\n",
      "Epoch 003: | Train loss: 1.58837 | Val loss: 3.04303 | Train R2: -0.4952 | Val R2: -1.2734 | epoch time: 2.986 |\n",
      "Epoch 004: | Train loss: 2.02782 | Val loss: 0.71811 | Train R2: -0.3409 | Val R2: +0.4616 | epoch time: 2.787 |\n",
      "Epoch 005: | Train loss: 1.59696 | Val loss: 0.70818 | Train R2: -0.0860 | Val R2: +0.4692 | epoch time: 2.538 |\n",
      "Epoch 006: | Train loss: 2.06670 | Val loss: 0.78344 | Train R2: -0.7312 | Val R2: +0.4132 | epoch time: 2.587 |\n",
      "Epoch 007: | Train loss: 3.60828 | Val loss: 0.35537 | Train R2: -1.9025 | Val R2: +0.7328 | epoch time: 2.592 | <-- Checkpoint!\n",
      "Epoch 008: | Train loss: 1.07305 | Val loss: 0.36349 | Train R2: +0.2304 | Val R2: +0.7270 | epoch time: 2.648 |\n",
      "Epoch 009: | Train loss: 3.36896 | Val loss: 0.37724 | Train R2: -1.5946 | Val R2: +0.7163 | epoch time: 2.635 |\n",
      "Epoch 010: | Train loss: 14.64858 | Val loss: 0.33553 | Train R2: -9.0776 | Val R2: +0.7473 | epoch time: 2.708 | <-- Checkpoint!\n",
      "Epoch 011: | Train loss: 1.03355 | Val loss: 1.68409 | Train R2: +0.2043 | Val R2: -0.2609 | epoch time: 2.811 |\n",
      "Epoch 012: | Train loss: 34.70619 | Val loss: 0.35130 | Train R2: -20.7277 | Val R2: +0.7356 | epoch time: 2.707 |\n",
      "Epoch 013: | Train loss: 0.45230 | Val loss: 0.46283 | Train R2: +0.6468 | Val R2: +0.6525 | epoch time: 2.728 |\n",
      "Epoch 014: | Train loss: 3.09725 | Val loss: 0.32710 | Train R2: -1.5760 | Val R2: +0.7537 | epoch time: 2.701 | <-- Checkpoint!\n",
      "Epoch 015: | Train loss: 0.42858 | Val loss: 1.18428 | Train R2: +0.6740 | Val R2: +0.1136 | epoch time: 2.692 |\n",
      "Epoch 016: | Train loss: 0.59985 | Val loss: 0.98204 | Train R2: +0.5227 | Val R2: +0.2647 | epoch time: 2.582 |\n",
      "Epoch 017: | Train loss: 1.54932 | Val loss: 0.93008 | Train R2: -0.1766 | Val R2: +0.3035 | epoch time: 2.546 |\n",
      "Epoch 018: | Train loss: 2.59562 | Val loss: 7.02294 | Train R2: -0.8532 | Val R2: -4.2506 | epoch time: 2.657 |\n",
      "Epoch 019: | Train loss: 0.87255 | Val loss: 2.18251 | Train R2: +0.3508 | Val R2: -0.6327 | epoch time: 2.565 |\n",
      "Epoch 020: | Train loss: 0.58116 | Val loss: 2.61142 | Train R2: +0.5476 | Val R2: -0.9523 | epoch time: 2.809 |\n",
      "Epoch 021: | Train loss: 3.30993 | Val loss: 0.41002 | Train R2: -2.1992 | Val R2: +0.6923 | epoch time: 2.436 |\n",
      "Epoch 022: | Train loss: 0.42480 | Val loss: 0.38658 | Train R2: +0.6716 | Val R2: +0.7098 | epoch time: 2.671 |\n",
      "Epoch 023: | Train loss: 0.52672 | Val loss: 0.31930 | Train R2: +0.5843 | Val R2: +0.7598 | epoch time: 2.458 | <-- Checkpoint!\n",
      "Epoch 024: | Train loss: 0.35641 | Val loss: 1.76337 | Train R2: +0.7284 | Val R2: -0.3185 | epoch time: 2.482 |\n",
      "Epoch 025: | Train loss: 0.42825 | Val loss: 0.40713 | Train R2: +0.6662 | Val R2: +0.6941 | epoch time: 2.442 |\n",
      "Epoch 026: | Train loss: 0.63139 | Val loss: 0.40882 | Train R2: +0.5491 | Val R2: +0.6932 | epoch time: 2.558 |\n",
      "Epoch 027: | Train loss: 0.38016 | Val loss: 0.31741 | Train R2: +0.7075 | Val R2: +0.7614 | epoch time: 2.431 | <-- Checkpoint!\n",
      "Epoch 028: | Train loss: 0.35025 | Val loss: 0.35078 | Train R2: +0.7331 | Val R2: +0.7357 | epoch time: 2.537 |\n",
      "Epoch 029: | Train loss: 0.45737 | Val loss: 0.33754 | Train R2: +0.6486 | Val R2: +0.7457 | epoch time: 2.458 |\n",
      "Epoch 030: | Train loss: 0.39136 | Val loss: 0.29573 | Train R2: +0.7046 | Val R2: +0.7776 | epoch time: 2.450 | <-- Checkpoint!\n",
      "Epoch 031: | Train loss: 0.34801 | Val loss: 0.47237 | Train R2: +0.7346 | Val R2: +0.6454 | epoch time: 2.639 |\n",
      "Epoch 032: | Train loss: 0.36398 | Val loss: 0.38845 | Train R2: +0.7125 | Val R2: +0.7084 | epoch time: 2.614 |\n",
      "Epoch 033: | Train loss: 1.81503 | Val loss: 0.31020 | Train R2: -0.5193 | Val R2: +0.7660 | epoch time: 2.543 |\n",
      "Epoch 034: | Train loss: 0.34758 | Val loss: 0.99571 | Train R2: +0.7300 | Val R2: +0.2549 | epoch time: 2.500 |\n",
      "Epoch 035: | Train loss: 0.41745 | Val loss: 0.29305 | Train R2: +0.6942 | Val R2: +0.7793 | epoch time: 2.736 | <-- Checkpoint!\n",
      "Epoch 036: | Train loss: 0.70748 | Val loss: 0.35510 | Train R2: +0.4525 | Val R2: +0.7332 | epoch time: 2.704 |\n",
      "Epoch 037: | Train loss: 0.34982 | Val loss: 0.31932 | Train R2: +0.7312 | Val R2: +0.7589 | epoch time: 2.481 |\n",
      "Epoch 038: | Train loss: 0.31769 | Val loss: 0.31455 | Train R2: +0.7580 | Val R2: +0.7625 | epoch time: 2.771 |\n",
      "Epoch 039: | Train loss: 0.45728 | Val loss: 0.28048 | Train R2: +0.6566 | Val R2: +0.7886 | epoch time: 2.941 | <-- Checkpoint!\n",
      "Epoch 040: | Train loss: 0.31350 | Val loss: 0.31777 | Train R2: +0.7600 | Val R2: +0.7613 | epoch time: 2.476 |\n",
      "Epoch 041: | Train loss: 0.31319 | Val loss: 0.28596 | Train R2: +0.7606 | Val R2: +0.7849 | epoch time: 2.475 |\n",
      "Epoch 042: | Train loss: 0.32682 | Val loss: 0.28018 | Train R2: +0.7575 | Val R2: +0.7890 | epoch time: 2.539 | <-- Checkpoint!\n",
      "Epoch 043: | Train loss: 0.32335 | Val loss: 0.31565 | Train R2: +0.7549 | Val R2: +0.7627 | epoch time: 2.499 |\n",
      "Epoch 044: | Train loss: 0.36418 | Val loss: 0.28390 | Train R2: +0.7150 | Val R2: +0.7862 | epoch time: 2.476 |\n",
      "Epoch 045: | Train loss: 0.29950 | Val loss: 0.30687 | Train R2: +0.7706 | Val R2: +0.7688 | epoch time: 2.455 |\n",
      "Epoch 046: | Train loss: 0.29330 | Val loss: 0.31502 | Train R2: +0.7775 | Val R2: +0.7626 | epoch time: 2.502 |\n",
      "Epoch 047: | Train loss: 0.31830 | Val loss: 0.30029 | Train R2: +0.7600 | Val R2: +0.7737 | epoch time: 2.487 |\n",
      "Epoch 048: | Train loss: 0.32925 | Val loss: 0.29931 | Train R2: +0.7505 | Val R2: +0.7741 | epoch time: 2.468 |\n",
      "Epoch 049: | Train loss: 0.29962 | Val loss: 0.28694 | Train R2: +0.7715 | Val R2: +0.7841 | epoch time: 2.395 |\n",
      "Epoch 050: | Train loss: 0.27565 | Val loss: 0.28723 | Train R2: +0.7891 | Val R2: +0.7832 | epoch time: 2.391 |\n",
      "Epoch 051: | Train loss: 0.35578 | Val loss: 0.27725 | Train R2: +0.7329 | Val R2: +0.7915 | epoch time: 2.442 | <-- Checkpoint!\n",
      "Epoch 052: | Train loss: 0.29923 | Val loss: 0.33110 | Train R2: +0.7715 | Val R2: +0.7512 | epoch time: 2.501 |\n",
      "Epoch 053: | Train loss: 0.35106 | Val loss: 0.29429 | Train R2: +0.7429 | Val R2: +0.7780 | epoch time: 2.461 |\n",
      "Epoch 054: | Train loss: 0.27689 | Val loss: 0.27474 | Train R2: +0.7898 | Val R2: +0.7932 | epoch time: 2.529 | <-- Checkpoint!\n",
      "Epoch 055: | Train loss: 0.27720 | Val loss: 0.28763 | Train R2: +0.7891 | Val R2: +0.7831 | epoch time: 2.551 |\n",
      "Epoch 056: | Train loss: 0.27969 | Val loss: 0.32619 | Train R2: +0.7855 | Val R2: +0.7535 | epoch time: 2.609 |\n",
      "Epoch 057: | Train loss: 0.28077 | Val loss: 0.26664 | Train R2: +0.7861 | Val R2: +0.7993 | epoch time: 3.031 | <-- Checkpoint!\n",
      "Epoch 058: | Train loss: 0.26293 | Val loss: 0.29347 | Train R2: +0.7992 | Val R2: +0.7788 | epoch time: 2.857 |\n",
      "Epoch 059: | Train loss: 0.27470 | Val loss: 0.26396 | Train R2: +0.7918 | Val R2: +0.8010 | epoch time: 2.473 | <-- Checkpoint!\n",
      "Epoch 060: | Train loss: 0.26727 | Val loss: 0.28651 | Train R2: +0.7963 | Val R2: +0.7845 | epoch time: 2.646 |\n",
      "Epoch 061: | Train loss: 0.26123 | Val loss: 0.29361 | Train R2: +0.8006 | Val R2: +0.7790 | epoch time: 2.588 |\n",
      "Epoch 062: | Train loss: 0.26013 | Val loss: 0.27476 | Train R2: +0.8009 | Val R2: +0.7930 | epoch time: 2.478 |\n",
      "Epoch 063: | Train loss: 0.25414 | Val loss: 0.27574 | Train R2: +0.8067 | Val R2: +0.7924 | epoch time: 2.507 |\n",
      "Epoch 064: | Train loss: 0.26258 | Val loss: 0.28862 | Train R2: +0.7992 | Val R2: +0.7818 | epoch time: 2.480 |\n",
      "Epoch 065: | Train loss: 0.26075 | Val loss: 0.26097 | Train R2: +0.8006 | Val R2: +0.8034 | epoch time: 2.435 | <-- Checkpoint!\n",
      "Epoch 066: | Train loss: 0.25627 | Val loss: 0.28738 | Train R2: +0.8041 | Val R2: +0.7838 | epoch time: 2.517 |\n",
      "Epoch 067: | Train loss: 0.24508 | Val loss: 0.28519 | Train R2: +0.8128 | Val R2: +0.7845 | epoch time: 2.505 |\n",
      "Epoch 068: | Train loss: 0.24969 | Val loss: 0.27666 | Train R2: +0.8097 | Val R2: +0.7915 | epoch time: 2.474 |\n",
      "Epoch 069: | Train loss: 0.25946 | Val loss: 0.27750 | Train R2: +0.8040 | Val R2: +0.7910 | epoch time: 2.417 |\n",
      "Epoch 070: | Train loss: 0.24727 | Val loss: 0.26951 | Train R2: +0.8121 | Val R2: +0.7972 | epoch time: 2.408 |\n",
      "Epoch 071: | Train loss: 0.24602 | Val loss: 0.29124 | Train R2: +0.8115 | Val R2: +0.7810 | epoch time: 2.404 |\n",
      "Epoch 072: | Train loss: 0.24144 | Val loss: 0.26856 | Train R2: +0.8141 | Val R2: +0.7977 | epoch time: 2.468 |\n",
      "Epoch 073: | Train loss: 0.23937 | Val loss: 0.27339 | Train R2: +0.8176 | Val R2: +0.7943 | epoch time: 2.398 |\n",
      "Epoch 074: | Train loss: 0.24509 | Val loss: 0.26671 | Train R2: +0.8142 | Val R2: +0.7988 | epoch time: 2.392 |\n",
      "Epoch 075: | Train loss: 0.23669 | Val loss: 0.28908 | Train R2: +0.8189 | Val R2: +0.7824 | epoch time: 2.424 |\n",
      "Epoch 076: | Train loss: 0.23563 | Val loss: 0.27083 | Train R2: +0.8207 | Val R2: +0.7955 | epoch time: 2.411 |\n",
      "Epoch 077: | Train loss: 0.23298 | Val loss: 0.25946 | Train R2: +0.8223 | Val R2: +0.8043 | epoch time: 2.433 | <-- Checkpoint!\n",
      "Epoch 078: | Train loss: 0.23035 | Val loss: 0.26545 | Train R2: +0.8248 | Val R2: +0.8000 | epoch time: 2.439 |\n",
      "Epoch 079: | Train loss: 0.23414 | Val loss: 0.27724 | Train R2: +0.8210 | Val R2: +0.7911 | epoch time: 2.502 |\n",
      "Epoch 080: | Train loss: 0.22754 | Val loss: 0.26571 | Train R2: +0.8257 | Val R2: +0.8000 | epoch time: 2.448 |\n",
      "Epoch 081: | Train loss: 0.22395 | Val loss: 0.25944 | Train R2: +0.8286 | Val R2: +0.8041 | epoch time: 2.371 |\n",
      "Epoch 082: | Train loss: 0.22392 | Val loss: 0.25927 | Train R2: +0.8284 | Val R2: +0.8042 | epoch time: 2.518 |\n",
      "Epoch 083: | Train loss: 0.22335 | Val loss: 0.27132 | Train R2: +0.8294 | Val R2: +0.7951 | epoch time: 2.474 |\n",
      "Epoch 084: | Train loss: 0.22300 | Val loss: 0.27884 | Train R2: +0.8286 | Val R2: +0.7898 | epoch time: 2.495 |\n",
      "Epoch 085: | Train loss: 0.22488 | Val loss: 0.27025 | Train R2: +0.8281 | Val R2: +0.7957 | epoch time: 2.515 |\n",
      "Epoch 086: | Train loss: 0.22520 | Val loss: 0.26345 | Train R2: +0.8282 | Val R2: +0.8012 | epoch time: 2.484 |\n",
      "Epoch 087: | Train loss: 0.21849 | Val loss: 0.25469 | Train R2: +0.8332 | Val R2: +0.8079 | epoch time: 2.452 | <-- Checkpoint!\n",
      "Epoch 088: | Train loss: 0.21837 | Val loss: 0.27918 | Train R2: +0.8328 | Val R2: +0.7891 | epoch time: 2.447 |\n",
      "Epoch 089: | Train loss: 0.21966 | Val loss: 0.25485 | Train R2: +0.8322 | Val R2: +0.8073 | epoch time: 2.414 |\n",
      "Epoch 090: | Train loss: 0.22545 | Val loss: 0.26261 | Train R2: +0.8290 | Val R2: +0.8014 | epoch time: 2.483 |\n",
      "Epoch 091: | Train loss: 0.21926 | Val loss: 0.28230 | Train R2: +0.8319 | Val R2: +0.7875 | epoch time: 2.469 |\n",
      "Epoch 092: | Train loss: 0.20841 | Val loss: 0.26372 | Train R2: +0.8405 | Val R2: +0.8008 | epoch time: 2.558 |\n",
      "Epoch 093: | Train loss: 0.21261 | Val loss: 0.25737 | Train R2: +0.8369 | Val R2: +0.8057 | epoch time: 2.456 |\n",
      "Epoch 094: | Train loss: 0.21129 | Val loss: 0.27914 | Train R2: +0.8375 | Val R2: +0.7896 | epoch time: 2.433 |\n",
      "Epoch 095: | Train loss: 0.21074 | Val loss: 0.30726 | Train R2: +0.8395 | Val R2: +0.7687 | epoch time: 2.496 |\n",
      "Epoch 096: | Train loss: 0.20340 | Val loss: 0.26135 | Train R2: +0.8450 | Val R2: +0.8031 | epoch time: 2.439 |\n",
      "Epoch 097: | Train loss: 0.19983 | Val loss: 0.26452 | Train R2: +0.8477 | Val R2: +0.7999 | epoch time: 2.423 |\n",
      "Epoch 098: | Train loss: 0.19935 | Val loss: 0.26064 | Train R2: +0.8482 | Val R2: +0.8035 | epoch time: 2.414 |\n",
      "Epoch 099: | Train loss: 0.20170 | Val loss: 0.26877 | Train R2: +0.8453 | Val R2: +0.7971 | epoch time: 2.419 |\n",
      "Epoch 100: | Train loss: 0.19996 | Val loss: 0.26328 | Train R2: +0.8470 | Val R2: +0.8010 | epoch time: 2.467 |\n",
      "Epoch 101: | Train loss: 13.88001 | Val loss: 0.25035 | Train R2: -10.1878 | Val R2: +0.8112 | epoch time: 2.549 | <-- Checkpoint!\n",
      "Epoch 102: | Train loss: 0.19672 | Val loss: 0.27575 | Train R2: +0.8492 | Val R2: +0.7922 | epoch time: 2.498 |\n",
      "Epoch 103: | Train loss: 0.35562 | Val loss: 0.24859 | Train R2: +0.7509 | Val R2: +0.8122 | epoch time: 2.481 | <-- Checkpoint!\n",
      "Epoch 104: | Train loss: 0.19204 | Val loss: 0.25395 | Train R2: +0.8533 | Val R2: +0.8079 | epoch time: 2.451 |\n",
      "Epoch 105: | Train loss: 0.19181 | Val loss: 0.25366 | Train R2: +0.8535 | Val R2: +0.8083 | epoch time: 2.515 |\n",
      "Epoch 106: | Train loss: 0.18587 | Val loss: 0.25586 | Train R2: +0.8580 | Val R2: +0.8067 | epoch time: 2.580 |\n",
      "Epoch 107: | Train loss: 0.18825 | Val loss: 0.25415 | Train R2: +0.8563 | Val R2: +0.8078 | epoch time: 2.492 |\n",
      "Epoch 108: | Train loss: 0.18903 | Val loss: 0.25826 | Train R2: +0.8552 | Val R2: +0.8048 | epoch time: 2.503 |\n",
      "Epoch 109: | Train loss: 0.18878 | Val loss: 0.26271 | Train R2: +0.8559 | Val R2: +0.8013 | epoch time: 2.632 |\n",
      "Epoch 110: | Train loss: 0.18838 | Val loss: 0.26390 | Train R2: +0.8558 | Val R2: +0.8010 | epoch time: 2.505 |\n",
      "Epoch 111: | Train loss: 0.18653 | Val loss: 0.27497 | Train R2: +0.8563 | Val R2: +0.7928 | epoch time: 2.543 |\n",
      "Epoch 112: | Train loss: 0.18905 | Val loss: 0.26651 | Train R2: +0.8557 | Val R2: +0.7982 | epoch time: 2.708 |\n",
      "Epoch 113: | Train loss: 0.18354 | Val loss: 0.26719 | Train R2: +0.8605 | Val R2: +0.7986 | epoch time: 2.498 |\n",
      "Epoch 114: | Train loss: 0.18752 | Val loss: 0.26660 | Train R2: +0.8571 | Val R2: +0.7985 | epoch time: 2.502 |\n",
      "Epoch 115: | Train loss: 0.19142 | Val loss: 0.26800 | Train R2: +0.8537 | Val R2: +0.7978 | epoch time: 2.450 |\n",
      "Epoch 116: | Train loss: 0.18268 | Val loss: 0.26507 | Train R2: +0.8606 | Val R2: +0.7994 | epoch time: 2.448 |\n",
      "Epoch 117: | Train loss: 0.18659 | Val loss: 0.26005 | Train R2: +0.8580 | Val R2: +0.8036 | epoch time: 2.496 |\n",
      "Epoch 118: | Train loss: 0.18758 | Val loss: 0.26229 | Train R2: +0.8556 | Val R2: +0.8020 | epoch time: 2.457 |\n",
      "Epoch 119: | Train loss: 0.18707 | Val loss: 0.26030 | Train R2: +0.8572 | Val R2: +0.8035 | epoch time: 2.509 |\n",
      "Epoch 120: | Train loss: 0.17715 | Val loss: 0.26432 | Train R2: +0.8643 | Val R2: +0.8006 | epoch time: 2.504 |\n",
      "Epoch 121: | Train loss: 0.17786 | Val loss: 0.26037 | Train R2: +0.8639 | Val R2: +0.8035 | epoch time: 2.382 |\n",
      "Epoch 122: | Train loss: 0.18098 | Val loss: 0.25537 | Train R2: +0.8619 | Val R2: +0.8076 | epoch time: 2.437 |\n",
      "Epoch 123: | Train loss: 0.17833 | Val loss: 0.27483 | Train R2: +0.8620 | Val R2: +0.7924 | epoch time: 2.441 |\n",
      "Epoch 124: | Train loss: 0.17756 | Val loss: 0.26830 | Train R2: +0.8644 | Val R2: +0.7968 | epoch time: 2.478 |\n",
      "Epoch 125: | Train loss: 0.18065 | Val loss: 0.27093 | Train R2: +0.8621 | Val R2: +0.7956 | epoch time: 2.461 |\n",
      "Epoch 126: | Train loss: 0.17747 | Val loss: 0.25819 | Train R2: +0.8640 | Val R2: +0.8051 | epoch time: 2.439 |\n",
      "Epoch 127: | Train loss: 0.17814 | Val loss: 0.26204 | Train R2: +0.8638 | Val R2: +0.8023 | epoch time: 2.470 |\n",
      "Epoch 128: | Train loss: 0.18199 | Val loss: 0.26087 | Train R2: +0.8606 | Val R2: +0.8027 | epoch time: 2.480 |\n",
      "Epoch 129: | Train loss: 0.17381 | Val loss: 0.25611 | Train R2: +0.8667 | Val R2: +0.8067 | epoch time: 2.423 |\n",
      "Epoch 130: | Train loss: 0.17492 | Val loss: 0.26663 | Train R2: +0.8662 | Val R2: +0.7984 | epoch time: 2.507 |\n",
      "Epoch 131: | Train loss: 0.21079 | Val loss: 0.25918 | Train R2: +0.8455 | Val R2: +0.8043 | epoch time: 2.472 |\n",
      "Epoch 132: | Train loss: 0.17591 | Val loss: 0.25908 | Train R2: +0.8653 | Val R2: +0.8040 | epoch time: 2.393 |\n",
      "Epoch 133: | Train loss: 0.17499 | Val loss: 0.27248 | Train R2: +0.8655 | Val R2: +0.7945 | epoch time: 2.408 |\n",
      "Epoch 134: | Train loss: 0.16368 | Val loss: 0.26372 | Train R2: +0.8748 | Val R2: +0.8006 | epoch time: 2.422 |\n",
      "Epoch 135: | Train loss: 0.16540 | Val loss: 0.27596 | Train R2: +0.8735 | Val R2: +0.7917 | epoch time: 2.548 |\n",
      "Epoch 136: | Train loss: 0.16894 | Val loss: 0.26615 | Train R2: +0.8705 | Val R2: +0.7983 | epoch time: 2.773 |\n",
      "Epoch 137: | Train loss: 0.46697 | Val loss: 0.26953 | Train R2: +0.6002 | Val R2: +0.7967 | epoch time: 2.814 |\n",
      "Epoch 138: | Train loss: 0.16151 | Val loss: 0.25812 | Train R2: +0.8760 | Val R2: +0.8051 | epoch time: 2.502 |\n",
      "Epoch 139: | Train loss: 0.16085 | Val loss: 0.25944 | Train R2: +0.8766 | Val R2: +0.8042 | epoch time: 2.512 |\n",
      "Epoch 140: | Train loss: 0.16119 | Val loss: 0.25668 | Train R2: +0.8768 | Val R2: +0.8063 | epoch time: 3.067 |\n",
      "Epoch 141: | Train loss: 0.15721 | Val loss: 0.26641 | Train R2: +0.8796 | Val R2: +0.7987 | epoch time: 2.453 |\n"
     ]
    },
    {
     "name": "stdout",
     "output_type": "stream",
     "text": [
      "Epoch 142: | Train loss: 0.15952 | Val loss: 0.27075 | Train R2: +0.8781 | Val R2: +0.7954 | epoch time: 2.378 |\n",
      "Epoch 143: | Train loss: 0.15981 | Val loss: 0.26389 | Train R2: +0.8779 | Val R2: +0.8008 | epoch time: 2.404 |\n",
      "Epoch 144: | Train loss: 0.16549 | Val loss: 0.26886 | Train R2: +0.8719 | Val R2: +0.7968 | epoch time: 2.444 |\n",
      "Epoch 145: | Train loss: 0.16057 | Val loss: 0.27176 | Train R2: +0.8773 | Val R2: +0.7951 | epoch time: 2.394 |\n",
      "Epoch 146: | Train loss: 0.15842 | Val loss: 0.26928 | Train R2: +0.8788 | Val R2: +0.7966 | epoch time: 2.405 |\n",
      "Epoch 147: | Train loss: 0.16234 | Val loss: 0.26623 | Train R2: +0.8758 | Val R2: +0.7985 | epoch time: 2.584 |\n",
      "Epoch 148: | Train loss: 0.15620 | Val loss: 0.25228 | Train R2: +0.8804 | Val R2: +0.8096 | epoch time: 2.695 |\n",
      "Epoch 149: | Train loss: 0.15880 | Val loss: 0.27064 | Train R2: +0.8778 | Val R2: +0.7950 | epoch time: 2.740 |\n"
     ]
    }
   ],
   "source": [
    "oModel  = GetModel().to(DEVICE)\n",
    "Loss    = ???\n",
    "oOptim  = ???\n",
    "nEpochs = 150\n",
    "\n",
    "TrainRegressionModel(oModel, oTrainDL, oValDL, Loss, nEpochs, oOptim);"
   ]
  },
  {
   "cell_type": "code",
   "execution_count": 25,
   "metadata": {},
   "outputs": [
    {
     "data": {
      "image/png": "[encoded data removed]",
      "text/plain": [
       "<Figure size 1152x504 with 2 Axes>"
      ]
     },
     "metadata": {
      "needs_background": "light"
     },
     "output_type": "display_data"
    }
   ],
   "source": [
    "from torch.utils.data import DataLoader\n",
    "from sklearn.metrics  import r2_score\n",
    "\n",
    "#-- Entire dataset in one batch:\n",
    "mTrainX, vTrainY = next(iter(DataLoader(oTrainSet, shuffle=False, batch_size=nTrain)))\n",
    "mValX,   vValY   = next(iter(DataLoader(oValSet,   shuffle=False, batch_size=nTest )))\n",
    "\n",
    "#-- Apply model to data:\n",
    "with torch.no_grad():\n",
    "    vHatTrainY = oModel(mTrainX.to(DEVICE)).detach().cpu()\n",
    "    vHatValY   = oModel(mValX  .to(DEVICE)).detach().cpu()\n",
    "\n",
    "_, ax = plt.subplots(1, 2, figsize=(16, 7))\n",
    "\n",
    "ax[0].scatter   (vTrainY, vHatTrainY, s=10, c='b', edgecolor=None)\n",
    "ax[1].scatter   (vValY,   vHatValY,  s=10, c='b', edgecolor=None)\n",
    "ax[0].plot      (vTrainY, vTrainY, ':k')\n",
    "ax[1].plot      (vValY,   vValY,   ':k')\n",
    "ax[0].set_title ('Train $R^2$ score:'      f'{r2_score(vTrainY, vHatTrainY)}')\n",
    "ax[1].set_title ('Validation $R^2$ score:' f'{r2_score(vValY,   vHatValY)}')\n",
    "ax[0].set_xlabel('$y_i$')\n",
    "ax[1].set_xlabel('$y_i$')\n",
    "ax[0].set_ylabel('$\\hat{y}_i$')\n",
    "ax[1].set_ylabel('$\\hat{y}_i$')\n",
    "\n",
    "plt.tight_layout()\n",
    "plt.show        ()"
   ]
  },
  {
   "cell_type": "code",
   "execution_count": null,
   "metadata": {},
   "outputs": [],
   "source": []
  }
 ],
 "metadata": {
  "kernelspec": {
   "display_name": "Python 3",
   "language": "python",
   "name": "python3"
  },
  "language_info": {
   "codemirror_mode": {
    "name": "ipython",
    "version": 3
   },
   "file_extension": ".py",
   "mimetype": "text/x-python",
   "name": "python",
   "nbconvert_exporter": "python",
   "pygments_lexer": "ipython3",
   "version": "3.8.8"
  },
  "toc": {
   "base_numbering": 1,
   "nav_menu": {},
   "number_sections": false,
   "sideBar": true,
   "skip_h1_title": false,
   "title_cell": "Table of Contents",
   "title_sidebar": "Contents",
   "toc_cell": false,
   "toc_position": {},
   "toc_section_display": true,
   "toc_window_display": false
  },
  "varInspector": {
   "cols": {
    "lenName": 16,
    "lenType": 16,
    "lenVar": 40
   },
   "kernels_config": {
    "python": {
     "delete_cmd_postfix": "",
     "delete_cmd_prefix": "del ",
     "library": "var_list.py",
     "varRefreshCmd": "print(var_dic_list())"
    },
    "r": {
     "delete_cmd_postfix": ") ",
     "delete_cmd_prefix": "rm(",
     "library": "var_list.r",
     "varRefreshCmd": "cat(var_dic_list()) "
    }
   },
   "oldHeight": 413,
   "position": {
    "height": "435px",
    "left": "1650px",
    "right": "20px",
    "top": "120px",
    "width": "250px"
   },
   "types_to_exclude": [
    "module",
    "function",
    "builtin_function_or_method",
    "instance",
    "_Feature"
   ],
   "varInspector_section_display": "block",
   "window_display": true
  }
 },
 "nbformat": 4,
 "nbformat_minor": 4
}
