{
 "cells": [
  {
   "cell_type": "markdown",
   "metadata": {},
   "source": [
    "![Fixel Algorithms](https://fixelalgorithms.co/images/CCExt.png)"
   ]
  },
  {
   "cell_type": "markdown",
   "metadata": {},
   "source": [
    "# <center> Deep Learning Methods </center>\n",
    "## <center> Lecture 6 - Convolutional Neural Network</center>\n",
    "### <center> 2D CNN - Solution</center>"
   ]
  },
  {
   "cell_type": "markdown",
   "metadata": {},
   "source": [
    "[![Open In Colab](https://colab.research.google.com/assets/colab-badge.svg)](https://colab.research.google.com/github/FixelAlgorithmsTeam/FixelCourses/blob/master/DeepLearningMethods/06_CNN/MainCnn2D_Solution.ipynb)"
   ]
  },
  {
   "cell_type": "code",
   "execution_count": 1,
   "metadata": {},
   "outputs": [
    {
     "data": {
      "text/html": [
       "<style>.container { width:80% !important; }</style>"
      ],
      "text/plain": [
       "<IPython.core.display.HTML object>"
      ]
     },
     "metadata": {},
     "output_type": "display_data"
    }
   ],
   "source": [
    "#-- Wide screen:\n",
    "from IPython.core.display import display, HTML\n",
    "display(HTML(\"<style>.container { width:80% !important; }</style>\"))"
   ]
  },
  {
   "cell_type": "code",
   "execution_count": 2,
   "metadata": {},
   "outputs": [],
   "source": [
    "#-- Auto reload:\n",
    "%load_ext autoreload\n",
    "%autoreload 2"
   ]
  },
  {
   "cell_type": "code",
   "execution_count": 2,
   "metadata": {},
   "outputs": [],
   "source": [
    "#-- Imports:\n",
    "import numpy             as np\n",
    "import matplotlib.pyplot as plt\n",
    "import matplotlib\n",
    "import torch\n",
    "\n",
    "matplotlib.rc('font', **{'size' : 16})"
   ]
  },
  {
   "cell_type": "markdown",
   "metadata": {},
   "source": [
    "For Colab users:"
   ]
  },
  {
   "cell_type": "code",
   "execution_count": 3,
   "metadata": {},
   "outputs": [],
   "source": [
    "if 'google.colab' in str(get_ipython()):\n",
    "    !npx degit FixelAlgorithmsTeam/FixelCourses/DeepLearningMethods/06_CNN/DeepLearningFramework ./DeepLearningFramework"
   ]
  },
  {
   "cell_type": "code",
   "execution_count": 4,
   "metadata": {},
   "outputs": [],
   "source": [
    "#-- Record figures during training:\n",
    "from DeepLearningFramework.Training import TrainClassficationModel"
   ]
  },
  {
   "cell_type": "markdown",
   "metadata": {},
   "source": [
    "### Exercise\n",
    "* Load the Fashion-MNIST dataset.\n",
    "* Use 2D CNN, try to get the high accuracy (above 93% is good)."
   ]
  },
  {
   "cell_type": "markdown",
   "metadata": {},
   "source": [
    "#### Download Fashion-MNIST dataset:"
   ]
  },
  {
   "cell_type": "code",
   "execution_count": 5,
   "metadata": {},
   "outputs": [
    {
     "data": {
      "text/plain": [
       "torch.Size([60000, 28, 28])"
      ]
     },
     "execution_count": 5,
     "metadata": {},
     "output_type": "execute_result"
    }
   ],
   "source": [
    "import torchvision\n",
    "import torchvision.transforms as transforms\n",
    "\n",
    "oTrainSet = torchvision.datasets.FashionMNIST(root='../../data', train=True,  download=True, transform=transforms.ToTensor())\n",
    "oTestSet  = torchvision.datasets.FashionMNIST(root='../../data', train=False, download=True, transform=transforms.ToTensor())\n",
    "oTrainSet.data.shape"
   ]
  },
  {
   "cell_type": "code",
   "execution_count": 6,
   "metadata": {},
   "outputs": [
    {
     "data": {
      "text/plain": [
       "['T-shirt/top',\n",
       " 'Trouser',\n",
       " 'Pullover',\n",
       " 'Dress',\n",
       " 'Coat',\n",
       " 'Sandal',\n",
       " 'Shirt',\n",
       " 'Sneaker',\n",
       " 'Bag',\n",
       " 'Ankle boot']"
      ]
     },
     "execution_count": 6,
     "metadata": {},
     "output_type": "execute_result"
    }
   ],
   "source": [
    "lClasses  = oTrainSet.classes\n",
    "lClasses"
   ]
  },
  {
   "cell_type": "markdown",
   "metadata": {},
   "source": [
    "#### Plot some examples:"
   ]
  },
  {
   "cell_type": "code",
   "execution_count": 7,
   "metadata": {},
   "outputs": [
    {
     "data": {
      "image/png": "[encoded data removed]",
      "text/plain": [
       "<Figure size 720x432 with 6 Axes>"
      ]
     },
     "metadata": {
      "needs_background": "light"
     },
     "output_type": "display_data"
    }
   ],
   "source": [
    "N, H, W = oTrainSet.data.shape\n",
    "fig, _  = plt.subplots(2, 3, figsize=(10,6))\n",
    "for ax in fig.axes:\n",
    "    idx   = np.random.randint(N)\n",
    "    mX, y = oTrainSet[idx]\n",
    "    ax.imshow   (mX.squeeze(), cmap='gray')\n",
    "    ax.set_title(f'True label: {lClasses[y]}')\n",
    "    \n",
    "plt.tight_layout()\n",
    "plt.show()"
   ]
  },
  {
   "cell_type": "markdown",
   "metadata": {},
   "source": [
    "#### Compute mean and variance:"
   ]
  },
  {
   "cell_type": "code",
   "execution_count": 8,
   "metadata": {},
   "outputs": [
    {
     "name": "stdout",
     "output_type": "stream",
     "text": [
      "µ = tensor(0.2860)\n",
      "σ = tensor(0.3530)\n"
     ]
    }
   ],
   "source": [
    "mean = oTrainSet.data.float().mean() / 255\n",
    "std  = oTrainSet.data.float().std () / 255\n",
    "print('µ =', mean)\n",
    "print('σ =', std)"
   ]
  },
  {
   "cell_type": "markdown",
   "metadata": {},
   "source": [
    "#### Set datasets with normalization:"
   ]
  },
  {
   "cell_type": "code",
   "execution_count": 9,
   "metadata": {},
   "outputs": [],
   "source": [
    "oTransform = transforms.Compose([\n",
    "    transforms.ToTensor(),\n",
    "    transforms.Normalize(mean, std)\n",
    "])\n",
    "\n",
    "oTrainSet.transform = oTransform\n",
    "oTestSet .transform = oTransform"
   ]
  },
  {
   "cell_type": "markdown",
   "metadata": {},
   "source": [
    "#### Create data loaders:"
   ]
  },
  {
   "cell_type": "code",
   "execution_count": 10,
   "metadata": {},
   "outputs": [],
   "source": [
    "batchSize = 256\n",
    "oTrainDL  = torch.utils.data.DataLoader(oTrainSet, shuffle=True,  batch_size=batchSize,   num_workers=2)\n",
    "oTestDL   = torch.utils.data.DataLoader(oTestSet,  shuffle=False, batch_size=2*batchSize, num_workers=2)"
   ]
  },
  {
   "cell_type": "markdown",
   "metadata": {},
   "source": [
    "#### Define the model (2D CNN):"
   ]
  },
  {
   "cell_type": "code",
   "execution_count": 32,
   "metadata": {},
   "outputs": [
    {
     "name": "stdout",
     "output_type": "stream",
     "text": [
      "==========================================================================================\n",
      "Layer (type:depth-idx)                   Output Shape              Param #\n",
      "==========================================================================================\n",
      "├─Identity: 1-1                          [-1, 1, 28, 28]           --\n",
      "├─Conv2d: 1-2                            [-1, 16, 26, 26]          144\n",
      "├─BatchNorm2d: 1-3                       [-1, 16, 26, 26]          32\n",
      "├─ReLU: 1-4                              [-1, 16, 26, 26]          --\n",
      "├─Dropout2d: 1-5                         [-1, 16, 26, 26]          --\n",
      "├─Conv2d: 1-6                            [-1, 32, 24, 24]          4,608\n",
      "├─BatchNorm2d: 1-7                       [-1, 32, 24, 24]          64\n",
      "├─ReLU: 1-8                              [-1, 32, 24, 24]          --\n",
      "├─Dropout2d: 1-9                         [-1, 32, 24, 24]          --\n",
      "├─Conv2d: 1-10                           [-1, 64, 11, 11]          18,432\n",
      "├─BatchNorm2d: 1-11                      [-1, 64, 11, 11]          128\n",
      "├─ReLU: 1-12                             [-1, 64, 11, 11]          --\n",
      "├─Dropout2d: 1-13                        [-1, 64, 11, 11]          --\n",
      "├─Conv2d: 1-14                           [-1, 128, 9, 9]           73,728\n",
      "├─BatchNorm2d: 1-15                      [-1, 128, 9, 9]           256\n",
      "├─ReLU: 1-16                             [-1, 128, 9, 9]           --\n",
      "├─Dropout2d: 1-17                        [-1, 128, 9, 9]           --\n",
      "├─Conv2d: 1-18                           [-1, 256, 4, 4]           294,912\n",
      "├─BatchNorm2d: 1-19                      [-1, 256, 4, 4]           512\n",
      "├─ReLU: 1-20                             [-1, 256, 4, 4]           --\n",
      "├─Dropout2d: 1-21                        [-1, 256, 4, 4]           --\n",
      "├─AdaptiveAvgPool2d: 1-22                [-1, 256, 1, 1]           --\n",
      "├─Flatten: 1-23                          [-1, 256]                 --\n",
      "├─Linear: 1-24                           [-1, 10]                  2,570\n",
      "==========================================================================================\n",
      "Total params: 395,386\n",
      "Trainable params: 395,386\n",
      "Non-trainable params: 0\n",
      "Total mult-adds (M): 15.68\n",
      "==========================================================================================\n",
      "Input size (MB): 0.00\n",
      "Forward/backward pass size (MB): 0.79\n",
      "Params size (MB): 1.51\n",
      "Estimated Total Size (MB): 2.30\n",
      "==========================================================================================\n"
     ]
    }
   ],
   "source": [
    "import torch.nn            as nn\n",
    "import torch.nn.functional as F\n",
    "import torch.optim         as optim\n",
    "import torchsummary\n",
    "    \n",
    "def GetModel():\n",
    "    oModel = nn.Sequential(\n",
    "        nn.Identity(), #-- does nothing\n",
    "        \n",
    "        nn.Conv2d(1,   16,  3, bias=False),           nn.BatchNorm2d(16),  nn.ReLU(), nn.Dropout2d(0.1),\n",
    "        nn.Conv2d(16,  32,  3, bias=False),           nn.BatchNorm2d(32),  nn.ReLU(), nn.Dropout2d(0.1),\n",
    "        nn.Conv2d(32,  64,  3, bias=False, stride=2), nn.BatchNorm2d(64),  nn.ReLU(), nn.Dropout2d(0.1),\n",
    "        nn.Conv2d(64,  128, 3, bias=False),           nn.BatchNorm2d(128), nn.ReLU(), nn.Dropout2d(0.1),\n",
    "        nn.Conv2d(128, 256, 3, bias=False, stride=2), nn.BatchNorm2d(256), nn.ReLU(), nn.Dropout2d(0.1),\n",
    "        \n",
    "        nn.AdaptiveAvgPool2d(1),\n",
    "        nn.Flatten(),\n",
    "        nn.Linear(256, 10),\n",
    "    )\n",
    "    \n",
    "    return oModel\n",
    "\n",
    "#--------------------------------------------------------------------------------#\n",
    "#--------------------------------------------------------------------------------#\n",
    "torchsummary.summary(GetModel(), (1, H, W), device='cpu');"
   ]
  },
  {
   "cell_type": "markdown",
   "metadata": {},
   "source": [
    "#### Check whether GPU is available:"
   ]
  },
  {
   "cell_type": "code",
   "execution_count": 33,
   "metadata": {},
   "outputs": [
    {
     "data": {
      "text/plain": [
       "device(type='cuda', index=0)"
      ]
     },
     "execution_count": 33,
     "metadata": {},
     "output_type": "execute_result"
    }
   ],
   "source": [
    "DEVICE = torch.device(\"cuda:0\" if torch.cuda.is_available() else \"cpu\") \n",
    "DEVICE"
   ]
  },
  {
   "cell_type": "markdown",
   "metadata": {},
   "source": [
    "#### Train the model:"
   ]
  },
  {
   "cell_type": "code",
   "execution_count": 34,
   "metadata": {
    "scrolled": false
   },
   "outputs": [
    {
     "name": "stdout",
     "output_type": "stream",
     "text": [
      "Epoch 000: | Train loss: 0.63009 | Val loss: 0.42330 | Train Accuracy: 0.7704 | Val Accuracy: 0.8439 | epoch time: 15.474 | <-- Checkpoint!\n",
      "Epoch 001: | Train loss: 0.39018 | Val loss: 0.33165 | Train Accuracy: 0.8570 | Val Accuracy: 0.8838 | epoch time: 15.098 | <-- Checkpoint!\n",
      "Epoch 002: | Train loss: 0.32437 | Val loss: 0.29346 | Train Accuracy: 0.8829 | Val Accuracy: 0.8965 | epoch time: 15.052 | <-- Checkpoint!\n",
      "Epoch 003: | Train loss: 0.29083 | Val loss: 0.27048 | Train Accuracy: 0.8944 | Val Accuracy: 0.9013 | epoch time: 14.930 | <-- Checkpoint!\n",
      "Epoch 004: | Train loss: 0.27038 | Val loss: 0.25901 | Train Accuracy: 0.9024 | Val Accuracy: 0.9043 | epoch time: 14.977 | <-- Checkpoint!\n",
      "Epoch 005: | Train loss: 0.24917 | Val loss: 0.26942 | Train Accuracy: 0.9100 | Val Accuracy: 0.9004 | epoch time: 15.699 |\n",
      "Epoch 006: | Train loss: 0.23952 | Val loss: 0.24560 | Train Accuracy: 0.9122 | Val Accuracy: 0.9110 | epoch time: 15.520 | <-- Checkpoint!\n",
      "Epoch 007: | Train loss: 0.22293 | Val loss: 0.23688 | Train Accuracy: 0.9185 | Val Accuracy: 0.9163 | epoch time: 15.106 | <-- Checkpoint!\n",
      "Epoch 008: | Train loss: 0.21547 | Val loss: 0.23375 | Train Accuracy: 0.9212 | Val Accuracy: 0.9148 | epoch time: 14.994 |\n",
      "Epoch 009: | Train loss: 0.20113 | Val loss: 0.23811 | Train Accuracy: 0.9262 | Val Accuracy: 0.9154 | epoch time: 14.945 |\n",
      "Epoch 010: | Train loss: 0.19095 | Val loss: 0.23012 | Train Accuracy: 0.9303 | Val Accuracy: 0.9170 | epoch time: 15.113 | <-- Checkpoint!\n",
      "Epoch 011: | Train loss: 0.18337 | Val loss: 0.23203 | Train Accuracy: 0.9337 | Val Accuracy: 0.9149 | epoch time: 15.145 |\n",
      "Epoch 012: | Train loss: 0.17183 | Val loss: 0.23237 | Train Accuracy: 0.9372 | Val Accuracy: 0.9150 | epoch time: 14.827 |\n",
      "Epoch 013: | Train loss: 0.16594 | Val loss: 0.22564 | Train Accuracy: 0.9397 | Val Accuracy: 0.9179 | epoch time: 14.841 | <-- Checkpoint!\n",
      "Epoch 014: | Train loss: 0.15353 | Val loss: 0.25598 | Train Accuracy: 0.9437 | Val Accuracy: 0.9099 | epoch time: 14.892 |\n",
      "Epoch 015: | Train loss: 0.15246 | Val loss: 0.23682 | Train Accuracy: 0.9447 | Val Accuracy: 0.9157 | epoch time: 15.215 |\n",
      "Epoch 016: | Train loss: 0.14238 | Val loss: 0.23428 | Train Accuracy: 0.9479 | Val Accuracy: 0.9218 | epoch time: 15.858 | <-- Checkpoint!\n",
      "Epoch 017: | Train loss: 0.13762 | Val loss: 0.24600 | Train Accuracy: 0.9491 | Val Accuracy: 0.9159 | epoch time: 15.060 |\n",
      "Epoch 018: | Train loss: 0.12876 | Val loss: 0.24081 | Train Accuracy: 0.9523 | Val Accuracy: 0.9170 | epoch time: 15.006 |\n",
      "Epoch 019: | Train loss: 0.12288 | Val loss: 0.23440 | Train Accuracy: 0.9547 | Val Accuracy: 0.9212 | epoch time: 15.315 |\n",
      "Epoch 020: | Train loss: 0.12110 | Val loss: 0.24042 | Train Accuracy: 0.9556 | Val Accuracy: 0.9208 | epoch time: 14.866 |\n",
      "Epoch 021: | Train loss: 0.11644 | Val loss: 0.24531 | Train Accuracy: 0.9575 | Val Accuracy: 0.9194 | epoch time: 15.355 |\n",
      "Epoch 022: | Train loss: 0.10916 | Val loss: 0.26450 | Train Accuracy: 0.9594 | Val Accuracy: 0.9146 | epoch time: 15.130 |\n",
      "Epoch 023: | Train loss: 0.10612 | Val loss: 0.24606 | Train Accuracy: 0.9607 | Val Accuracy: 0.9209 | epoch time: 15.315 |\n",
      "Epoch 024: | Train loss: 0.10271 | Val loss: 0.24958 | Train Accuracy: 0.9625 | Val Accuracy: 0.9184 | epoch time: 14.984 |\n",
      "Epoch 025: | Train loss: 0.10080 | Val loss: 0.26482 | Train Accuracy: 0.9633 | Val Accuracy: 0.9182 | epoch time: 15.132 |\n",
      "Epoch 026: | Train loss: 0.09632 | Val loss: 0.25774 | Train Accuracy: 0.9656 | Val Accuracy: 0.9168 | epoch time: 14.512 |\n",
      "Epoch 027: | Train loss: 0.09153 | Val loss: 0.25226 | Train Accuracy: 0.9669 | Val Accuracy: 0.9207 | epoch time: 15.135 |\n",
      "Epoch 028: | Train loss: 0.08919 | Val loss: 0.25535 | Train Accuracy: 0.9673 | Val Accuracy: 0.9224 | epoch time: 15.468 | <-- Checkpoint!\n",
      "Epoch 029: | Train loss: 0.08915 | Val loss: 0.26855 | Train Accuracy: 0.9673 | Val Accuracy: 0.9173 | epoch time: 14.976 |\n"
     ]
    }
   ],
   "source": [
    "oModel  = GetModel().to(DEVICE)\n",
    "oOptim  = optim.AdamW(oModel.parameters(), lr=4e-3, betas=(0.9, 0.99), weight_decay=1e-2)\n",
    "Loss    = nn.CrossEntropyLoss()\n",
    "nEpochs = 30\n",
    "\n",
    "TrainClassficationModel(oModel, oTrainDL, oTestDL, Loss, nEpochs, oOptim);"
   ]
  },
  {
   "cell_type": "code",
   "execution_count": null,
   "metadata": {},
   "outputs": [],
   "source": []
  }
 ],
 "metadata": {
  "kernelspec": {
   "display_name": "Python 3",
   "language": "python",
   "name": "python3"
  },
  "language_info": {
   "codemirror_mode": {
    "name": "ipython",
    "version": 3
   },
   "file_extension": ".py",
   "mimetype": "text/x-python",
   "name": "python",
   "nbconvert_exporter": "python",
   "pygments_lexer": "ipython3",
   "version": "3.8.8"
  },
  "toc": {
   "base_numbering": 1,
   "nav_menu": {},
   "number_sections": false,
   "sideBar": true,
   "skip_h1_title": false,
   "title_cell": "Table of Contents",
   "title_sidebar": "Contents",
   "toc_cell": false,
   "toc_position": {},
   "toc_section_display": true,
   "toc_window_display": false
  },
  "varInspector": {
   "cols": {
    "lenName": 16,
    "lenType": 16,
    "lenVar": 40
   },
   "kernels_config": {
    "python": {
     "delete_cmd_postfix": "",
     "delete_cmd_prefix": "del ",
     "library": "var_list.py",
     "varRefreshCmd": "print(var_dic_list())"
    },
    "r": {
     "delete_cmd_postfix": ") ",
     "delete_cmd_prefix": "rm(",
     "library": "var_list.r",
     "varRefreshCmd": "cat(var_dic_list()) "
    }
   },
   "oldHeight": 413,
   "position": {
    "height": "435px",
    "left": "1650px",
    "right": "20px",
    "top": "120px",
    "width": "250px"
   },
   "types_to_exclude": [
    "module",
    "function",
    "builtin_function_or_method",
    "instance",
    "_Feature"
   ],
   "varInspector_section_display": "block",
   "window_display": true
  }
 },
 "nbformat": 4,
 "nbformat_minor": 4
}
