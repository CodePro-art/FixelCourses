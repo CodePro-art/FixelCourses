{
 "cells": [
  {
   "cell_type": "markdown",
   "metadata": {},
   "source": [
    "![Fixel Algorithms](https://fixelalgorithms.co/images/CCExt.png)"
   ]
  },
  {
   "cell_type": "markdown",
   "metadata": {},
   "source": [
    "# <center> Deep Learning Methods </center>\n",
    "## <center> Lecture 9 - Tips and Tricks </center>\n",
    "### <center> Label Smoothing </center>"
   ]
  },
  {
   "cell_type": "markdown",
   "metadata": {},
   "source": [
    "[![Open In Colab](https://colab.research.google.com/assets/colab-badge.svg)](https://colab.research.google.com/github/FixelAlgorithmsTeam/FixelCourses/blob/master/DeepLearningMethods/09_TipsAndTricks/MainLabelSmoothing.ipynb)"
   ]
  },
  {
   "cell_type": "code",
   "execution_count": 1,
   "metadata": {
    "execution": {
     "iopub.execute_input": "2021-09-27T18:37:22.254857Z",
     "iopub.status.busy": "2021-09-27T18:37:22.254857Z",
     "iopub.status.idle": "2021-09-27T18:37:22.274875Z",
     "shell.execute_reply": "2021-09-27T18:37:22.274875Z",
     "shell.execute_reply.started": "2021-09-27T18:37:22.254857Z"
    }
   },
   "outputs": [
    {
     "data": {
      "text/html": [
       "<style>.container { width:80% !important; }</style>"
      ],
      "text/plain": [
       "<IPython.core.display.HTML object>"
      ]
     },
     "metadata": {},
     "output_type": "display_data"
    }
   ],
   "source": [
    "#-- Wide screen:\n",
    "from IPython.core.display import display, HTML\n",
    "display(HTML(\"<style>.container { width:80% !important; }</style>\"))"
   ]
  },
  {
   "cell_type": "code",
   "execution_count": 2,
   "metadata": {
    "execution": {
     "iopub.execute_input": "2021-09-27T18:37:22.275876Z",
     "iopub.status.busy": "2021-09-27T18:37:22.275876Z",
     "iopub.status.idle": "2021-09-27T18:37:22.306904Z",
     "shell.execute_reply": "2021-09-27T18:37:22.306904Z",
     "shell.execute_reply.started": "2021-09-27T18:37:22.275876Z"
    }
   },
   "outputs": [],
   "source": [
    "#-- Auto reload:\n",
    "%load_ext autoreload\n",
    "%autoreload 2"
   ]
  },
  {
   "cell_type": "code",
   "execution_count": 3,
   "metadata": {
    "execution": {
     "iopub.execute_input": "2021-09-27T18:37:22.307905Z",
     "iopub.status.busy": "2021-09-27T18:37:22.307905Z",
     "iopub.status.idle": "2021-09-27T18:37:23.033548Z",
     "shell.execute_reply": "2021-09-27T18:37:23.033548Z",
     "shell.execute_reply.started": "2021-09-27T18:37:22.307905Z"
    }
   },
   "outputs": [],
   "source": [
    "import numpy             as np\n",
    "import matplotlib.pyplot as plt\n",
    "import matplotlib\n",
    "\n",
    "import torch\n",
    "import torch.nn               as nn\n",
    "import torch.optim            as optim\n",
    "import torchvision\n",
    "import torchvision.transforms as transforms\n",
    "import torchsummary\n",
    "\n",
    "from torch.optim import lr_scheduler\n",
    "\n",
    "matplotlib.rc('font', **{'size' : 16})"
   ]
  },
  {
   "cell_type": "markdown",
   "metadata": {},
   "source": [
    "For Colab users:"
   ]
  },
  {
   "cell_type": "code",
   "execution_count": 4,
   "metadata": {
    "execution": {
     "iopub.execute_input": "2021-09-27T18:37:23.034549Z",
     "iopub.status.busy": "2021-09-27T18:37:23.034549Z",
     "iopub.status.idle": "2021-09-27T18:37:23.081029Z",
     "shell.execute_reply": "2021-09-27T18:37:23.081029Z",
     "shell.execute_reply.started": "2021-09-27T18:37:23.034549Z"
    }
   },
   "outputs": [],
   "source": [
    "if 'google.colab' in str(get_ipython()):\n",
    "    !npx degit FixelAlgorithmsTeam/FixelCourses/DeepLearningMethods/09_TipsAndTricks/DeepLearningFramework ./DeepLearningFramework"
   ]
  },
  {
   "cell_type": "code",
   "execution_count": 5,
   "metadata": {
    "execution": {
     "iopub.execute_input": "2021-09-27T18:37:23.082030Z",
     "iopub.status.busy": "2021-09-27T18:37:23.082030Z",
     "iopub.status.idle": "2021-09-27T18:37:23.649197Z",
     "shell.execute_reply": "2021-09-27T18:37:23.649197Z",
     "shell.execute_reply.started": "2021-09-27T18:37:23.082030Z"
    }
   },
   "outputs": [],
   "source": [
    "from DeepLearningFramework.Training import TrainClassficationModel"
   ]
  },
  {
   "cell_type": "markdown",
   "metadata": {
    "slideshow": {
     "slide_type": "slide"
    }
   },
   "source": [
    "### Download CIFAR-10 dataset:"
   ]
  },
  {
   "cell_type": "code",
   "execution_count": 6,
   "metadata": {
    "execution": {
     "iopub.execute_input": "2021-09-27T18:37:23.650198Z",
     "iopub.status.busy": "2021-09-27T18:37:23.650198Z",
     "iopub.status.idle": "2021-09-27T18:37:24.723770Z",
     "shell.execute_reply": "2021-09-27T18:37:24.723770Z",
     "shell.execute_reply.started": "2021-09-27T18:37:23.650198Z"
    },
    "slideshow": {
     "slide_type": "fragment"
    }
   },
   "outputs": [
    {
     "name": "stdout",
     "output_type": "stream",
     "text": [
      "Files already downloaded and verified\n",
      "Files already downloaded and verified\n"
     ]
    },
    {
     "data": {
      "text/plain": [
       "((50000, 32, 32, 3), torch.Size([3, 32, 32]))"
      ]
     },
     "execution_count": 6,
     "metadata": {},
     "output_type": "execute_result"
    }
   ],
   "source": [
    "oTrainSet = torchvision.datasets.CIFAR10(root='../../data', train=True,  download=True, transform=transforms.ToTensor())\n",
    "oTestSet  = torchvision.datasets.CIFAR10(root='../../data', train=False, download=True, transform=transforms.ToTensor())\n",
    "oTrainSet.data.shape, oTrainSet[0][0].shape"
   ]
  },
  {
   "cell_type": "code",
   "execution_count": 7,
   "metadata": {
    "execution": {
     "iopub.execute_input": "2021-09-27T18:37:24.724772Z",
     "iopub.status.busy": "2021-09-27T18:37:24.724772Z",
     "iopub.status.idle": "2021-09-27T18:37:24.785816Z",
     "shell.execute_reply": "2021-09-27T18:37:24.785816Z",
     "shell.execute_reply.started": "2021-09-27T18:37:24.724772Z"
    }
   },
   "outputs": [
    {
     "data": {
      "text/plain": [
       "['airplane',\n",
       " 'automobile',\n",
       " 'bird',\n",
       " 'cat',\n",
       " 'deer',\n",
       " 'dog',\n",
       " 'frog',\n",
       " 'horse',\n",
       " 'ship',\n",
       " 'truck']"
      ]
     },
     "execution_count": 7,
     "metadata": {},
     "output_type": "execute_result"
    }
   ],
   "source": [
    "lClasses  = oTrainSet.classes\n",
    "lClasses"
   ]
  },
  {
   "cell_type": "markdown",
   "metadata": {
    "slideshow": {
     "slide_type": "slide"
    }
   },
   "source": [
    "### Plot some examples:"
   ]
  },
  {
   "cell_type": "code",
   "execution_count": 8,
   "metadata": {
    "execution": {
     "iopub.execute_input": "2021-09-27T18:37:24.786817Z",
     "iopub.status.busy": "2021-09-27T18:37:24.786817Z",
     "iopub.status.idle": "2021-09-27T18:37:25.119122Z",
     "shell.execute_reply": "2021-09-27T18:37:25.119122Z",
     "shell.execute_reply.started": "2021-09-27T18:37:24.786817Z"
    },
    "slideshow": {
     "slide_type": "fragment"
    }
   },
   "outputs": [
    {
     "data": {
      "image/png": "[encoded data removed]",
      "text/plain": [
       "<Figure size 576x432 with 6 Axes>"
      ]
     },
     "metadata": {
      "needs_background": "light"
     },
     "output_type": "display_data"
    }
   ],
   "source": [
    "N, H, W, C = oTrainSet.data.shape\n",
    "fig, _     = plt.subplots(2, 3, figsize=(8, 6))\n",
    "for ax in fig.axes:\n",
    "    idx   = np.random.randint(0, N)\n",
    "    mX, y = oTrainSet[idx]\n",
    "    ax.imshow   (np.transpose(mX.numpy(), (1,2,0)))\n",
    "    ax.set_title(f'True label: {lClasses[y]}')\n",
    "    \n",
    "plt.tight_layout()\n",
    "plt.show()"
   ]
  },
  {
   "cell_type": "markdown",
   "metadata": {
    "slideshow": {
     "slide_type": "fragment"
    }
   },
   "source": [
    "#### Compute mean and variance:"
   ]
  },
  {
   "cell_type": "code",
   "execution_count": 9,
   "metadata": {
    "execution": {
     "iopub.execute_input": "2021-09-27T18:37:25.120123Z",
     "iopub.status.busy": "2021-09-27T18:37:25.120123Z",
     "iopub.status.idle": "2021-09-27T18:37:25.876243Z",
     "shell.execute_reply": "2021-09-27T18:37:25.876243Z",
     "shell.execute_reply.started": "2021-09-27T18:37:25.120123Z"
    },
    "slideshow": {
     "slide_type": "fragment"
    }
   },
   "outputs": [
    {
     "name": "stdout",
     "output_type": "stream",
     "text": [
      "µ = [0.49139968 0.48215841 0.44653091]\n",
      "σ = [0.24703223 0.24348513 0.26158784]\n"
     ]
    }
   ],
   "source": [
    "vMean = oTrainSet.data.mean((0,1,2)) / 255\n",
    "vStd  = oTrainSet.data.std ((0,1,2)) / 255\n",
    "print('µ =', vMean)\n",
    "print('σ =', vStd)"
   ]
  },
  {
   "cell_type": "markdown",
   "metadata": {
    "slideshow": {
     "slide_type": "slide"
    }
   },
   "source": [
    "#### Set datasets with augmentations:"
   ]
  },
  {
   "cell_type": "code",
   "execution_count": 10,
   "metadata": {
    "execution": {
     "iopub.execute_input": "2021-09-27T18:37:25.877243Z",
     "iopub.status.busy": "2021-09-27T18:37:25.877243Z",
     "iopub.status.idle": "2021-09-27T18:37:25.939300Z",
     "shell.execute_reply": "2021-09-27T18:37:25.939300Z",
     "shell.execute_reply.started": "2021-09-27T18:37:25.877243Z"
    },
    "slideshow": {
     "slide_type": "fragment"
    }
   },
   "outputs": [],
   "source": [
    "oTrainTransform = transforms.Compose([\n",
    "    transforms.AutoAugment         (policy=transforms.AutoAugmentPolicy.CIFAR10),\n",
    "    transforms.RandomHorizontalFlip(),\n",
    "    transforms.ToTensor            (),\n",
    "    transforms.Normalize           (vMean, vStd),\n",
    "])\n",
    "\n",
    "oTestTransform = transforms.Compose([\n",
    "    transforms.ToTensor (),\n",
    "    transforms.Normalize(vMean, vStd),\n",
    "])\n",
    "\n",
    "\n",
    "oTrainSet.transform = oTrainTransform\n",
    "oTestSet .transform = oTestTransform"
   ]
  },
  {
   "cell_type": "code",
   "execution_count": 11,
   "metadata": {
    "execution": {
     "iopub.execute_input": "2021-09-27T18:37:25.940301Z",
     "iopub.status.busy": "2021-09-27T18:37:25.940301Z",
     "iopub.status.idle": "2021-09-27T18:37:26.320646Z",
     "shell.execute_reply": "2021-09-27T18:37:26.320646Z",
     "shell.execute_reply.started": "2021-09-27T18:37:25.940301Z"
    },
    "tags": []
   },
   "outputs": [
    {
     "data": {
      "image/png": "[encoded data removed]",
      "text/plain": [
       "<Figure size 576x432 with 6 Axes>"
      ]
     },
     "metadata": {
      "needs_background": "light"
     },
     "output_type": "display_data"
    }
   ],
   "source": [
    "N, H, W, C = oTrainSet.data.shape\n",
    "fig, _     = plt.subplots(2, 3, figsize=(8, 6))\n",
    "for ax in fig.axes:\n",
    "    idx   = 7\n",
    "    mX, y = oTrainSet[idx]\n",
    "#     mX, y = oTestSet [idx]\n",
    "    mX    = np.transpose(mX.numpy(), (1,2,0))\n",
    "    ax.imshow   (np.clip(mX * vStd[None,None,:] + vMean[None,None,:], 0, 1))\n",
    "    ax.set_title(f'True label: {lClasses[y]}')\n",
    "    \n",
    "plt.tight_layout()\n",
    "plt.show()"
   ]
  },
  {
   "cell_type": "markdown",
   "metadata": {
    "slideshow": {
     "slide_type": "slide"
    }
   },
   "source": [
    "#### Create data loaders:"
   ]
  },
  {
   "cell_type": "code",
   "execution_count": 12,
   "metadata": {
    "execution": {
     "iopub.execute_input": "2021-09-27T18:37:26.322648Z",
     "iopub.status.busy": "2021-09-27T18:37:26.321647Z",
     "iopub.status.idle": "2021-09-27T18:37:26.384705Z",
     "shell.execute_reply": "2021-09-27T18:37:26.384705Z",
     "shell.execute_reply.started": "2021-09-27T18:37:26.322648Z"
    },
    "slideshow": {
     "slide_type": "fragment"
    }
   },
   "outputs": [],
   "source": [
    "batchSize = 128\n",
    "oTrainDL  = torch.utils.data.DataLoader(oTrainSet, shuffle=True,  batch_size=batchSize,   num_workers=2)\n",
    "oTestDL   = torch.utils.data.DataLoader(oTestSet,  shuffle=False, batch_size=2*batchSize, num_workers=2)"
   ]
  },
  {
   "cell_type": "markdown",
   "metadata": {
    "slideshow": {
     "slide_type": "slide"
    }
   },
   "source": [
    "#### Define the model (ResNet):\n",
    "<img src='https://github.com/FixelAlgorithmsTeam/FixelCourses/blob/master/DeepLearningMethods/08_CnnArchitectures/ResBlock.png?raw=true' alt=\"Drawing\" style=\"width: 150px;\"/>"
   ]
  },
  {
   "cell_type": "code",
   "execution_count": 13,
   "metadata": {
    "execution": {
     "iopub.execute_input": "2021-09-27T18:37:26.385705Z",
     "iopub.status.busy": "2021-09-27T18:37:26.385705Z",
     "iopub.status.idle": "2021-09-27T18:37:26.445955Z",
     "shell.execute_reply": "2021-09-27T18:37:26.445955Z",
     "shell.execute_reply.started": "2021-09-27T18:37:26.385705Z"
    }
   },
   "outputs": [],
   "source": [
    "def LeftBranch(C):\n",
    "    oLeft = nn.Sequential(\n",
    "        nn.BatchNorm2d(C), nn.ReLU(), nn.Conv2d(C, C, 3, padding=1, bias=False),\n",
    "        nn.BatchNorm2d(C), nn.ReLU(), nn.Conv2d(C, C, 3, padding=1, bias=False)\n",
    "    )\n",
    "    return oLeft\n",
    "               \n",
    "def RightBranch(C):\n",
    "    oRight = nn.Identity() #-- Identity\n",
    "\n",
    "    return oRight"
   ]
  },
  {
   "cell_type": "code",
   "execution_count": 14,
   "metadata": {
    "execution": {
     "iopub.execute_input": "2021-09-27T18:37:26.446956Z",
     "iopub.status.busy": "2021-09-27T18:37:26.446956Z",
     "iopub.status.idle": "2021-09-27T18:37:26.510013Z",
     "shell.execute_reply": "2021-09-27T18:37:26.510013Z",
     "shell.execute_reply.started": "2021-09-27T18:37:26.446956Z"
    },
    "tags": []
   },
   "outputs": [
    {
     "name": "stdout",
     "output_type": "stream",
     "text": [
      "----------------------------------------------------------------\n",
      "        Layer (type)               Output Shape         Param #\n",
      "================================================================\n",
      "       BatchNorm2d-1           [-1, 64, 56, 56]             128\n",
      "              ReLU-2           [-1, 64, 56, 56]               0\n",
      "            Conv2d-3           [-1, 64, 56, 56]          36,864\n",
      "       BatchNorm2d-4           [-1, 64, 56, 56]             128\n",
      "              ReLU-5           [-1, 64, 56, 56]               0\n",
      "            Conv2d-6           [-1, 64, 56, 56]          36,864\n",
      "          Identity-7           [-1, 64, 56, 56]               0\n",
      "================================================================\n",
      "Total params: 73,984\n",
      "Trainable params: 73,984\n",
      "Non-trainable params: 0\n",
      "----------------------------------------------------------------\n",
      "Input size (MB): 0.77\n",
      "Forward/backward pass size (MB): 10.72\n",
      "Params size (MB): 0.28\n",
      "Estimated Total Size (MB): 11.77\n",
      "----------------------------------------------------------------\n"
     ]
    }
   ],
   "source": [
    "class ResBlock(nn.Module):\n",
    "    def __init__(self, C):\n",
    "        super(ResBlock, self).__init__()\n",
    "        \n",
    "        self.oLeft  = LeftBranch(C)\n",
    "        self.oRight = RightBranch(C)\n",
    "\n",
    "    def forward(self, mX):\n",
    "        mZ = self.oLeft(mX) + self.oRight(mX)\n",
    "        return mZ\n",
    "        \n",
    "torchsummary.summary(ResBlock(64), (64, 56, 56), device='cpu');"
   ]
  },
  {
   "cell_type": "code",
   "execution_count": 15,
   "metadata": {
    "execution": {
     "iopub.execute_input": "2021-09-27T18:37:26.511013Z",
     "iopub.status.busy": "2021-09-27T18:37:26.511013Z",
     "iopub.status.idle": "2021-09-27T18:37:26.620598Z",
     "shell.execute_reply": "2021-09-27T18:37:26.620598Z",
     "shell.execute_reply.started": "2021-09-27T18:37:26.511013Z"
    },
    "scrolled": true,
    "tags": []
   },
   "outputs": [
    {
     "name": "stdout",
     "output_type": "stream",
     "text": [
      "----------------------------------------------------------------\n",
      "        Layer (type)               Output Shape         Param #\n",
      "================================================================\n",
      "          Identity-1            [-1, 3, 32, 32]               0\n",
      "            Conv2d-2          [-1, 128, 32, 32]           3,456\n",
      "       BatchNorm2d-3          [-1, 128, 32, 32]             256\n",
      "              ReLU-4          [-1, 128, 32, 32]               0\n",
      "            Conv2d-5          [-1, 128, 32, 32]         147,456\n",
      "       BatchNorm2d-6          [-1, 128, 32, 32]             256\n",
      "              ReLU-7          [-1, 128, 32, 32]               0\n",
      "         MaxPool2d-8          [-1, 128, 16, 16]               0\n",
      "       BatchNorm2d-9          [-1, 128, 16, 16]             256\n",
      "             ReLU-10          [-1, 128, 16, 16]               0\n",
      "           Conv2d-11          [-1, 128, 16, 16]         147,456\n",
      "      BatchNorm2d-12          [-1, 128, 16, 16]             256\n",
      "             ReLU-13          [-1, 128, 16, 16]               0\n",
      "           Conv2d-14          [-1, 128, 16, 16]         147,456\n",
      "         Identity-15          [-1, 128, 16, 16]               0\n",
      "         ResBlock-16          [-1, 128, 16, 16]               0\n",
      "      BatchNorm2d-17          [-1, 128, 16, 16]             256\n",
      "             ReLU-18          [-1, 128, 16, 16]               0\n",
      "           Conv2d-19          [-1, 128, 16, 16]         147,456\n",
      "      BatchNorm2d-20          [-1, 128, 16, 16]             256\n",
      "             ReLU-21          [-1, 128, 16, 16]               0\n",
      "           Conv2d-22          [-1, 128, 16, 16]         147,456\n",
      "         Identity-23          [-1, 128, 16, 16]               0\n",
      "         ResBlock-24          [-1, 128, 16, 16]               0\n",
      "      BatchNorm2d-25          [-1, 128, 16, 16]             256\n",
      "             ReLU-26          [-1, 128, 16, 16]               0\n",
      "           Conv2d-27          [-1, 128, 16, 16]         147,456\n",
      "      BatchNorm2d-28          [-1, 128, 16, 16]             256\n",
      "             ReLU-29          [-1, 128, 16, 16]               0\n",
      "           Conv2d-30          [-1, 128, 16, 16]         147,456\n",
      "         Identity-31          [-1, 128, 16, 16]               0\n",
      "         ResBlock-32          [-1, 128, 16, 16]               0\n",
      "      BatchNorm2d-33          [-1, 128, 16, 16]             256\n",
      "             ReLU-34          [-1, 128, 16, 16]               0\n",
      "           Conv2d-35          [-1, 128, 16, 16]         147,456\n",
      "      BatchNorm2d-36          [-1, 128, 16, 16]             256\n",
      "             ReLU-37          [-1, 128, 16, 16]               0\n",
      "           Conv2d-38          [-1, 128, 16, 16]         147,456\n",
      "         Identity-39          [-1, 128, 16, 16]               0\n",
      "         ResBlock-40          [-1, 128, 16, 16]               0\n",
      "      BatchNorm2d-41          [-1, 128, 16, 16]             256\n",
      "             ReLU-42          [-1, 128, 16, 16]               0\n",
      "           Conv2d-43          [-1, 128, 16, 16]         147,456\n",
      "      BatchNorm2d-44          [-1, 128, 16, 16]             256\n",
      "             ReLU-45          [-1, 128, 16, 16]               0\n",
      "           Conv2d-46          [-1, 128, 16, 16]         147,456\n",
      "         Identity-47          [-1, 128, 16, 16]               0\n",
      "         ResBlock-48          [-1, 128, 16, 16]               0\n",
      "      BatchNorm2d-49          [-1, 128, 16, 16]             256\n",
      "             ReLU-50          [-1, 128, 16, 16]               0\n",
      "           Conv2d-51          [-1, 128, 16, 16]         147,456\n",
      "      BatchNorm2d-52          [-1, 128, 16, 16]             256\n",
      "             ReLU-53          [-1, 128, 16, 16]               0\n",
      "           Conv2d-54          [-1, 128, 16, 16]         147,456\n",
      "         Identity-55          [-1, 128, 16, 16]               0\n",
      "         ResBlock-56          [-1, 128, 16, 16]               0\n",
      "      BatchNorm2d-57          [-1, 128, 16, 16]             256\n",
      "             ReLU-58          [-1, 128, 16, 16]               0\n",
      "           Conv2d-59          [-1, 128, 16, 16]         147,456\n",
      "      BatchNorm2d-60          [-1, 128, 16, 16]             256\n",
      "             ReLU-61          [-1, 128, 16, 16]               0\n",
      "           Conv2d-62          [-1, 128, 16, 16]         147,456\n",
      "         Identity-63          [-1, 128, 16, 16]               0\n",
      "         ResBlock-64          [-1, 128, 16, 16]               0\n",
      "AdaptiveAvgPool2d-65            [-1, 128, 1, 1]               0\n",
      "          Flatten-66                  [-1, 128]               0\n",
      "           Linear-67                   [-1, 10]           1,290\n",
      "================================================================\n",
      "Total params: 2,220,682\n",
      "Trainable params: 2,220,682\n",
      "Non-trainable params: 0\n",
      "----------------------------------------------------------------\n",
      "Input size (MB): 0.01\n",
      "Forward/backward pass size (MB): 20.28\n",
      "Params size (MB): 8.47\n",
      "Estimated Total Size (MB): 28.76\n",
      "----------------------------------------------------------------\n"
     ]
    }
   ],
   "source": [
    "def weights_init(m):\n",
    "    if isinstance(m, nn.Conv2d):\n",
    "        nn.init.kaiming_normal_(m.weight.data)\n",
    "    \n",
    "#--------------------------------------------------------------------------------#\n",
    "#--------------------------------------------------------------------------------#\n",
    "def GetModel():\n",
    "    d      = 128\n",
    "    oModel = nn.Sequential(\n",
    "        nn.Identity(),\n",
    "        nn.Conv2d(3, d, 3, padding=1, bias=False), nn.BatchNorm2d(d),  nn.ReLU(),\n",
    "        nn.Conv2d(d, d, 3, padding=1, bias=False), nn.BatchNorm2d(d),  nn.ReLU(),  nn.MaxPool2d(2),\n",
    "        ResBlock(d),\n",
    "        ResBlock(d),\n",
    "        ResBlock(d),\n",
    "        ResBlock(d),\n",
    "        ResBlock(d),\n",
    "        ResBlock(d),\n",
    "        ResBlock(d),\n",
    "        \n",
    "        nn.AdaptiveAvgPool2d(1),\n",
    "        nn.Flatten(),\n",
    "        nn.Linear(d, 10)\n",
    "    )\n",
    "    \n",
    "    oModel.apply(weights_init)\n",
    "    \n",
    "    return oModel\n",
    "\n",
    "\n",
    "torchsummary.summary(GetModel(), (3, 32, 32), device='cpu');"
   ]
  },
  {
   "cell_type": "markdown",
   "metadata": {},
   "source": [
    "### Label Smoothing\n",
    "* Cross-entropy loss:\n",
    "$$\n",
    "\\ell_{\\mathrm{CE}}\\left(\\boldsymbol{y}_{i},\\hat{\\boldsymbol{y}}_{i}\\right)=-\\left\\langle \\boldsymbol{y}_{i},\\log\\left(\\hat{\\boldsymbol{y}}_{i}\\right)\\right\\rangle =-\\left\\langle \\left[\\begin{matrix}0\\\\\n",
    "1\\\\\n",
    "0\\\\\n",
    "0\n",
    "\\end{matrix}\\right],\\log\\left(\\left[\\begin{matrix}0.1\\\\\n",
    "0.75\\\\\n",
    "0.05\\\\\n",
    "0.1\n",
    "\\end{matrix}\\right]\\right)\\right\\rangle \n",
    "$$\n",
    "* Label-smoothing loss:\n",
    "$$\n",
    "\\ell_{\\mathrm{LS}}\\left(\\boldsymbol{y}_{i},\\hat{\\boldsymbol{y}}_{i}\\right)=-\\left\\langle \\left[\\begin{matrix}\\frac{\\epsilon}{3}\\\\\n",
    "1-\\epsilon\\\\\n",
    "\\frac{\\epsilon}{3}\\\\\n",
    "\\frac{\\epsilon}{3}\n",
    "\\end{matrix}\\right],\\log\\left(\\left[\\begin{matrix}0.1\\\\\n",
    "0.75\\\\\n",
    "0.05\\\\\n",
    "0.1\n",
    "\\end{matrix}\\right]\\right)\\right\\rangle \n",
    "$$\n",
    "#### Smooth labels code:"
   ]
  },
  {
   "cell_type": "code",
   "execution_count": 16,
   "metadata": {
    "execution": {
     "iopub.execute_input": "2021-09-27T18:37:26.621599Z",
     "iopub.status.busy": "2021-09-27T18:37:26.621599Z",
     "iopub.status.idle": "2021-09-27T18:37:26.682654Z",
     "shell.execute_reply": "2021-09-27T18:37:26.682654Z",
     "shell.execute_reply.started": "2021-09-27T18:37:26.621599Z"
    },
    "tags": []
   },
   "outputs": [
    {
     "data": {
      "text/plain": [
       "tensor([3, 1, 2, 1, 1, 0, 1, 3, 1, 3])"
      ]
     },
     "execution_count": 16,
     "metadata": {},
     "output_type": "execute_result"
    }
   ],
   "source": [
    "N    = 10                         #-- number of samples\n",
    "C    = 4                          #-- number of classes (labels)\n",
    "vIdx = torch.randint(0, C, (N,))  #-- correct labels\n",
    "vIdx"
   ]
  },
  {
   "cell_type": "code",
   "execution_count": 17,
   "metadata": {
    "execution": {
     "iopub.execute_input": "2021-09-27T18:37:26.683656Z",
     "iopub.status.busy": "2021-09-27T18:37:26.683656Z",
     "iopub.status.idle": "2021-09-27T18:37:27.013591Z",
     "shell.execute_reply": "2021-09-27T18:37:27.013591Z",
     "shell.execute_reply.started": "2021-09-27T18:37:26.683656Z"
    },
    "tags": []
   },
   "outputs": [
    {
     "data": {
      "image/png": "[encoded data removed]",
      "text/plain": [
       "<Figure size 360x288 with 3 Axes>"
      ]
     },
     "metadata": {
      "needs_background": "light"
     },
     "output_type": "display_data"
    }
   ],
   "source": [
    "#-- mY1 (one hot):\n",
    "mY1 = torch.zeros(N, C).scatter_(1, vIdx.unsqueeze(1), 1)\n",
    "\n",
    "#-- mY2 (smooth):\n",
    "ϵ   = 0.3\n",
    "mY2 = torch.empty(N, C).fill_(ϵ / (C-1)).scatter_(1, vIdx.unsqueeze(1), 1-ϵ)\n",
    "\n",
    "_, ax = plt.subplots(1, 2, figsize=(5, 4))\n",
    "h = ax[0].matshow(mY1, vmin=0, vmax=1)\n",
    "h = ax[1].matshow(mY2, vmin=0, vmax=1)\n",
    "ax[0].set_title('$Y_1$')\n",
    "ax[1].set_title('$Y_2$')\n",
    "plt.colorbar(h);"
   ]
  },
  {
   "cell_type": "code",
   "execution_count": 18,
   "metadata": {
    "execution": {
     "iopub.execute_input": "2021-09-27T18:37:27.014593Z",
     "iopub.status.busy": "2021-09-27T18:37:27.014593Z",
     "iopub.status.idle": "2021-09-27T18:37:27.076549Z",
     "shell.execute_reply": "2021-09-27T18:37:27.076549Z",
     "shell.execute_reply.started": "2021-09-27T18:37:27.014593Z"
    },
    "tags": []
   },
   "outputs": [
    {
     "data": {
      "text/plain": [
       "(tensor([[0., 0., 0., 1.],\n",
       "         [0., 1., 0., 0.],\n",
       "         [0., 0., 1., 0.],\n",
       "         [0., 1., 0., 0.],\n",
       "         [0., 1., 0., 0.],\n",
       "         [1., 0., 0., 0.],\n",
       "         [0., 1., 0., 0.],\n",
       "         [0., 0., 0., 1.],\n",
       "         [0., 1., 0., 0.],\n",
       "         [0., 0., 0., 1.]]),\n",
       " tensor([[0.1000, 0.1000, 0.1000, 0.7000],\n",
       "         [0.1000, 0.7000, 0.1000, 0.1000],\n",
       "         [0.1000, 0.1000, 0.7000, 0.1000],\n",
       "         [0.1000, 0.7000, 0.1000, 0.1000],\n",
       "         [0.1000, 0.7000, 0.1000, 0.1000],\n",
       "         [0.7000, 0.1000, 0.1000, 0.1000],\n",
       "         [0.1000, 0.7000, 0.1000, 0.1000],\n",
       "         [0.1000, 0.1000, 0.1000, 0.7000],\n",
       "         [0.1000, 0.7000, 0.1000, 0.1000],\n",
       "         [0.1000, 0.1000, 0.1000, 0.7000]]))"
      ]
     },
     "execution_count": 18,
     "metadata": {},
     "output_type": "execute_result"
    }
   ],
   "source": [
    "mY1, mY2"
   ]
  },
  {
   "cell_type": "markdown",
   "metadata": {},
   "source": [
    "#### Label smoothing loss:\n",
    "$$\\ell_{\\mathrm{LS}}\\left(\\boldsymbol{y}_{i},\\hat{\\boldsymbol{y}}_{i}\\right)=-\\left\\langle \\left[\\begin{matrix}\\frac{\\epsilon}{3}\\\\\n",
    "1-\\epsilon\\\\\n",
    "\\frac{\\epsilon}{3}\\\\\n",
    "\\frac{\\epsilon}{3}\n",
    "\\end{matrix}\\right],\\log\\left(\\left[\\begin{matrix}0.1\\\\\n",
    "0.75\\\\\n",
    "0.05\\\\\n",
    "0.1\n",
    "\\end{matrix}\\right]\\right)\\right\\rangle $$\n",
    "https://github.com/pytorch/pytorch/issues/7455"
   ]
  },
  {
   "cell_type": "code",
   "execution_count": 19,
   "metadata": {
    "execution": {
     "iopub.execute_input": "2021-09-27T18:37:27.077551Z",
     "iopub.status.busy": "2021-09-27T18:37:27.077551Z",
     "iopub.status.idle": "2021-09-27T18:37:27.138834Z",
     "shell.execute_reply": "2021-09-27T18:37:27.138834Z",
     "shell.execute_reply.started": "2021-09-27T18:37:27.077551Z"
    },
    "tags": []
   },
   "outputs": [],
   "source": [
    "class LabelSmoothingLoss(nn.Module):\n",
    "    def __init__(self, nClass, ε=0.01):\n",
    "        super(LabelSmoothingLoss, self).__init__()\n",
    "        self.nClass = nClass\n",
    "        self.ε      = ε\n",
    "\n",
    "    def forward(self, mScore, vY):\n",
    "        ε      = self.ε\n",
    "        nClass = self.nClass\n",
    "        mScore = mScore.log_softmax(dim=-1)\n",
    "\n",
    "        with torch.no_grad():\n",
    "            mSmoothY = torch.empty_like(mScore).fill_(ε / (nClass - 1))\n",
    "            mSmoothY.scatter_(1, vY.unsqueeze(1), 1-ε)\n",
    "\n",
    "        return torch.mean( torch.sum(-mSmoothY * mScore, dim=-1) )"
   ]
  },
  {
   "cell_type": "code",
   "execution_count": 20,
   "metadata": {
    "execution": {
     "iopub.execute_input": "2021-09-27T18:37:27.139836Z",
     "iopub.status.busy": "2021-09-27T18:37:27.139836Z",
     "iopub.status.idle": "2021-09-27T18:37:27.218543Z",
     "shell.execute_reply": "2021-09-27T18:37:27.218543Z",
     "shell.execute_reply.started": "2021-09-27T18:37:27.139836Z"
    },
    "slideshow": {
     "slide_type": "fragment"
    },
    "tags": []
   },
   "outputs": [],
   "source": [
    "DEVICE = torch.device(\"cuda:0\" if torch.cuda.is_available() else \"cpu\") \n",
    "Loss   = LabelSmoothingLoss(10, ε=0.1)"
   ]
  },
  {
   "cell_type": "code",
   "execution_count": 21,
   "metadata": {
    "execution": {
     "iopub.execute_input": "2021-09-27T18:37:27.219544Z",
     "iopub.status.busy": "2021-09-27T18:37:27.219544Z",
     "iopub.status.idle": "2021-09-27T20:23:09.813210Z",
     "shell.execute_reply": "2021-09-27T20:23:09.813210Z",
     "shell.execute_reply.started": "2021-09-27T18:37:27.219544Z"
    },
    "tags": []
   },
   "outputs": [
    {
     "name": "stdout",
     "output_type": "stream",
     "text": [
      "Epoch 000: | Train loss: 1.82755 | Val loss: 1.56670 | Train Accuracy: 0.3966 | Val Accuracy: 0.5403 | epoch time: 26.498 | <-- Checkpoint!\n",
      "Epoch 001: | Train loss: 1.55401 | Val loss: 1.32592 | Train Accuracy: 0.5396 | Val Accuracy: 0.6482 | epoch time: 25.054 | <-- Checkpoint!\n",
      "Epoch 002: | Train loss: 1.42641 | Val loss: 1.29695 | Train Accuracy: 0.6042 | Val Accuracy: 0.6722 | epoch time: 25.287 | <-- Checkpoint!\n",
      "Epoch 003: | Train loss: 1.33833 | Val loss: 1.26311 | Train Accuracy: 0.6514 | Val Accuracy: 0.6840 | epoch time: 27.363 | <-- Checkpoint!\n",
      "Epoch 004: | Train loss: 1.26128 | Val loss: 1.16694 | Train Accuracy: 0.6892 | Val Accuracy: 0.7374 | epoch time: 26.731 | <-- Checkpoint!\n",
      "Epoch 005: | Train loss: 1.21392 | Val loss: 1.12237 | Train Accuracy: 0.7151 | Val Accuracy: 0.7566 | epoch time: 26.646 | <-- Checkpoint!\n",
      "Epoch 006: | Train loss: 1.17312 | Val loss: 1.10006 | Train Accuracy: 0.7329 | Val Accuracy: 0.7734 | epoch time: 26.699 | <-- Checkpoint!\n",
      "Epoch 007: | Train loss: 1.13173 | Val loss: 1.03582 | Train Accuracy: 0.7535 | Val Accuracy: 0.7999 | epoch time: 26.835 | <-- Checkpoint!\n",
      "Epoch 008: | Train loss: 1.10538 | Val loss: 1.03377 | Train Accuracy: 0.7659 | Val Accuracy: 0.7991 | epoch time: 26.447 |\n",
      "Epoch 009: | Train loss: 1.07862 | Val loss: 0.99084 | Train Accuracy: 0.7746 | Val Accuracy: 0.8191 | epoch time: 25.131 | <-- Checkpoint!\n",
      "Epoch 010: | Train loss: 1.05512 | Val loss: 1.03854 | Train Accuracy: 0.7864 | Val Accuracy: 0.7958 | epoch time: 25.321 |\n",
      "Epoch 011: | Train loss: 1.03725 | Val loss: 1.02495 | Train Accuracy: 0.7947 | Val Accuracy: 0.7977 | epoch time: 24.885 |\n",
      "Epoch 012: | Train loss: 1.02108 | Val loss: 1.04053 | Train Accuracy: 0.8016 | Val Accuracy: 0.8040 | epoch time: 24.671 |\n",
      "Epoch 013: | Train loss: 1.00777 | Val loss: 0.94632 | Train Accuracy: 0.8050 | Val Accuracy: 0.8372 | epoch time: 24.606 | <-- Checkpoint!\n",
      "Epoch 014: | Train loss: 0.99277 | Val loss: 0.97333 | Train Accuracy: 0.8131 | Val Accuracy: 0.8259 | epoch time: 24.638 |\n",
      "Epoch 015: | Train loss: 0.98464 | Val loss: 0.98619 | Train Accuracy: 0.8160 | Val Accuracy: 0.8174 | epoch time: 24.621 |\n",
      "Epoch 016: | Train loss: 0.96728 | Val loss: 0.97696 | Train Accuracy: 0.8246 | Val Accuracy: 0.8196 | epoch time: 24.706 |\n",
      "Epoch 017: | Train loss: 0.96544 | Val loss: 0.95182 | Train Accuracy: 0.8248 | Val Accuracy: 0.8354 | epoch time: 25.285 |\n",
      "Epoch 018: | Train loss: 0.95868 | Val loss: 0.88494 | Train Accuracy: 0.8283 | Val Accuracy: 0.8606 | epoch time: 24.659 | <-- Checkpoint!\n",
      "Epoch 019: | Train loss: 0.94337 | Val loss: 0.87618 | Train Accuracy: 0.8362 | Val Accuracy: 0.8681 | epoch time: 24.653 | <-- Checkpoint!\n",
      "Epoch 020: | Train loss: 0.94022 | Val loss: 0.91197 | Train Accuracy: 0.8369 | Val Accuracy: 0.8534 | epoch time: 24.673 |\n",
      "Epoch 021: | Train loss: 0.92620 | Val loss: 0.87246 | Train Accuracy: 0.8421 | Val Accuracy: 0.8645 | epoch time: 24.688 |\n",
      "Epoch 022: | Train loss: 0.92353 | Val loss: 0.87818 | Train Accuracy: 0.8457 | Val Accuracy: 0.8737 | epoch time: 24.708 | <-- Checkpoint!\n",
      "Epoch 023: | Train loss: 0.91749 | Val loss: 0.89225 | Train Accuracy: 0.8455 | Val Accuracy: 0.8634 | epoch time: 24.653 |\n",
      "Epoch 024: | Train loss: 0.90453 | Val loss: 0.87283 | Train Accuracy: 0.8518 | Val Accuracy: 0.8675 | epoch time: 24.638 |\n",
      "Epoch 025: | Train loss: 0.89498 | Val loss: 0.87591 | Train Accuracy: 0.8566 | Val Accuracy: 0.8732 | epoch time: 24.619 |\n",
      "Epoch 026: | Train loss: 0.89924 | Val loss: 0.88217 | Train Accuracy: 0.8546 | Val Accuracy: 0.8672 | epoch time: 24.691 |\n",
      "Epoch 027: | Train loss: 0.89150 | Val loss: 0.91440 | Train Accuracy: 0.8571 | Val Accuracy: 0.8527 | epoch time: 24.737 |\n",
      "Epoch 028: | Train loss: 0.88908 | Val loss: 0.91105 | Train Accuracy: 0.8589 | Val Accuracy: 0.8568 | epoch time: 24.673 |\n",
      "Epoch 029: | Train loss: 0.88227 | Val loss: 0.92159 | Train Accuracy: 0.8628 | Val Accuracy: 0.8478 | epoch time: 24.639 |\n",
      "Epoch 030: | Train loss: 0.87228 | Val loss: 0.86176 | Train Accuracy: 0.8678 | Val Accuracy: 0.8767 | epoch time: 24.720 | <-- Checkpoint!\n",
      "Epoch 031: | Train loss: 0.87294 | Val loss: 0.85223 | Train Accuracy: 0.8663 | Val Accuracy: 0.8777 | epoch time: 24.920 | <-- Checkpoint!\n",
      "Epoch 032: | Train loss: 0.86294 | Val loss: 0.83965 | Train Accuracy: 0.8688 | Val Accuracy: 0.8843 | epoch time: 25.014 | <-- Checkpoint!\n",
      "Epoch 033: | Train loss: 0.85639 | Val loss: 0.87776 | Train Accuracy: 0.8736 | Val Accuracy: 0.8664 | epoch time: 24.870 |\n",
      "Epoch 034: | Train loss: 0.85650 | Val loss: 0.81702 | Train Accuracy: 0.8731 | Val Accuracy: 0.8934 | epoch time: 25.038 | <-- Checkpoint!\n",
      "Epoch 035: | Train loss: 0.85287 | Val loss: 0.82927 | Train Accuracy: 0.8732 | Val Accuracy: 0.8850 | epoch time: 24.921 |\n",
      "Epoch 036: | Train loss: 0.84228 | Val loss: 0.83409 | Train Accuracy: 0.8789 | Val Accuracy: 0.8867 | epoch time: 24.724 |\n",
      "Epoch 037: | Train loss: 0.84624 | Val loss: 0.83657 | Train Accuracy: 0.8775 | Val Accuracy: 0.8886 | epoch time: 24.658 |\n",
      "Epoch 038: | Train loss: 0.84546 | Val loss: 0.81633 | Train Accuracy: 0.8772 | Val Accuracy: 0.8918 | epoch time: 24.652 |\n",
      "Epoch 039: | Train loss: 0.84034 | Val loss: 0.84123 | Train Accuracy: 0.8804 | Val Accuracy: 0.8874 | epoch time: 24.625 |\n",
      "Epoch 040: | Train loss: 0.83824 | Val loss: 0.82706 | Train Accuracy: 0.8813 | Val Accuracy: 0.8863 | epoch time: 24.651 |\n",
      "Epoch 041: | Train loss: 0.83436 | Val loss: 0.81941 | Train Accuracy: 0.8822 | Val Accuracy: 0.8864 | epoch time: 24.738 |\n",
      "Epoch 042: | Train loss: 0.83158 | Val loss: 0.84220 | Train Accuracy: 0.8837 | Val Accuracy: 0.8769 | epoch time: 24.656 |\n",
      "Epoch 043: | Train loss: 0.82613 | Val loss: 0.82909 | Train Accuracy: 0.8855 | Val Accuracy: 0.8840 | epoch time: 24.704 |\n",
      "Epoch 044: | Train loss: 0.82902 | Val loss: 0.87800 | Train Accuracy: 0.8851 | Val Accuracy: 0.8722 | epoch time: 24.638 |\n",
      "Epoch 045: | Train loss: 0.82349 | Val loss: 0.81144 | Train Accuracy: 0.8873 | Val Accuracy: 0.8924 | epoch time: 24.704 |\n",
      "Epoch 046: | Train loss: 0.82485 | Val loss: 0.79237 | Train Accuracy: 0.8872 | Val Accuracy: 0.8975 | epoch time: 24.812 | <-- Checkpoint!\n",
      "Epoch 047: | Train loss: 0.81909 | Val loss: 0.81363 | Train Accuracy: 0.8902 | Val Accuracy: 0.8891 | epoch time: 25.387 |\n",
      "Epoch 048: | Train loss: 0.82057 | Val loss: 0.81145 | Train Accuracy: 0.8885 | Val Accuracy: 0.8982 | epoch time: 25.585 | <-- Checkpoint!\n",
      "Epoch 049: | Train loss: 0.81648 | Val loss: 0.80783 | Train Accuracy: 0.8908 | Val Accuracy: 0.8924 | epoch time: 25.642 |\n",
      "Epoch 050: | Train loss: 0.81187 | Val loss: 0.80803 | Train Accuracy: 0.8924 | Val Accuracy: 0.8923 | epoch time: 25.730 |\n",
      "Epoch 051: | Train loss: 0.81658 | Val loss: 0.78966 | Train Accuracy: 0.8908 | Val Accuracy: 0.8980 | epoch time: 25.593 |\n",
      "Epoch 052: | Train loss: 0.80921 | Val loss: 0.82081 | Train Accuracy: 0.8933 | Val Accuracy: 0.8915 | epoch time: 25.491 |\n",
      "Epoch 053: | Train loss: 0.80599 | Val loss: 0.81978 | Train Accuracy: 0.8952 | Val Accuracy: 0.8926 | epoch time: 25.492 |\n",
      "Epoch 054: | Train loss: 0.80294 | Val loss: 0.78217 | Train Accuracy: 0.8970 | Val Accuracy: 0.9079 | epoch time: 25.740 | <-- Checkpoint!\n",
      "Epoch 055: | Train loss: 0.80607 | Val loss: 0.81294 | Train Accuracy: 0.8958 | Val Accuracy: 0.8936 | epoch time: 25.695 |\n",
      "Epoch 056: | Train loss: 0.80230 | Val loss: 0.84657 | Train Accuracy: 0.8980 | Val Accuracy: 0.8804 | epoch time: 25.887 |\n",
      "Epoch 057: | Train loss: 0.80171 | Val loss: 0.84402 | Train Accuracy: 0.8973 | Val Accuracy: 0.8786 | epoch time: 25.561 |\n",
      "Epoch 058: | Train loss: 0.80015 | Val loss: 0.80680 | Train Accuracy: 0.8978 | Val Accuracy: 0.8975 | epoch time: 25.552 |\n",
      "Epoch 059: | Train loss: 0.79805 | Val loss: 0.81711 | Train Accuracy: 0.8994 | Val Accuracy: 0.8928 | epoch time: 25.355 |\n",
      "Epoch 060: | Train loss: 0.79520 | Val loss: 0.81795 | Train Accuracy: 0.8998 | Val Accuracy: 0.8912 | epoch time: 25.445 |\n",
      "Epoch 061: | Train loss: 0.79788 | Val loss: 0.80040 | Train Accuracy: 0.8995 | Val Accuracy: 0.8999 | epoch time: 25.403 |\n",
      "Epoch 062: | Train loss: 0.79163 | Val loss: 0.78723 | Train Accuracy: 0.9012 | Val Accuracy: 0.9028 | epoch time: 25.341 |\n",
      "Epoch 063: | Train loss: 0.79055 | Val loss: 0.81121 | Train Accuracy: 0.9020 | Val Accuracy: 0.8891 | epoch time: 25.364 |\n",
      "Epoch 064: | Train loss: 0.78978 | Val loss: 0.81157 | Train Accuracy: 0.9022 | Val Accuracy: 0.8964 | epoch time: 25.080 |\n",
      "Epoch 065: | Train loss: 0.78343 | Val loss: 0.78280 | Train Accuracy: 0.9037 | Val Accuracy: 0.9065 | epoch time: 24.734 |\n",
      "Epoch 066: | Train loss: 0.78569 | Val loss: 0.77732 | Train Accuracy: 0.9031 | Val Accuracy: 0.9072 | epoch time: 24.659 |\n",
      "Epoch 067: | Train loss: 0.78189 | Val loss: 0.82198 | Train Accuracy: 0.9052 | Val Accuracy: 0.8925 | epoch time: 24.654 |\n",
      "Epoch 068: | Train loss: 0.77662 | Val loss: 0.77652 | Train Accuracy: 0.9075 | Val Accuracy: 0.9091 | epoch time: 24.707 | <-- Checkpoint!\n",
      "Epoch 069: | Train loss: 0.77903 | Val loss: 0.81124 | Train Accuracy: 0.9063 | Val Accuracy: 0.8932 | epoch time: 24.759 |\n",
      "Epoch 070: | Train loss: 0.78291 | Val loss: 0.81022 | Train Accuracy: 0.9053 | Val Accuracy: 0.8989 | epoch time: 25.275 |\n",
      "Epoch 071: | Train loss: 0.77799 | Val loss: 0.77994 | Train Accuracy: 0.9067 | Val Accuracy: 0.9083 | epoch time: 25.547 |\n",
      "Epoch 072: | Train loss: 0.77750 | Val loss: 0.78268 | Train Accuracy: 0.9082 | Val Accuracy: 0.9061 | epoch time: 25.085 |\n",
      "Epoch 073: | Train loss: 0.77151 | Val loss: 0.80605 | Train Accuracy: 0.9090 | Val Accuracy: 0.9004 | epoch time: 25.231 |\n",
      "Epoch 074: | Train loss: 0.77330 | Val loss: 0.80691 | Train Accuracy: 0.9098 | Val Accuracy: 0.8941 | epoch time: 25.576 |\n",
      "Epoch 075: | Train loss: 0.76607 | Val loss: 0.79425 | Train Accuracy: 0.9122 | Val Accuracy: 0.9016 | epoch time: 25.573 |\n",
      "Epoch 076: | Train loss: 0.76790 | Val loss: 0.81963 | Train Accuracy: 0.9112 | Val Accuracy: 0.8920 | epoch time: 25.494 |\n",
      "Epoch 077: | Train loss: 0.76426 | Val loss: 0.81210 | Train Accuracy: 0.9138 | Val Accuracy: 0.8951 | epoch time: 25.548 |\n",
      "Epoch 078: | Train loss: 0.76245 | Val loss: 0.77545 | Train Accuracy: 0.9136 | Val Accuracy: 0.9075 | epoch time: 25.494 |\n",
      "Epoch 079: | Train loss: 0.75938 | Val loss: 0.79888 | Train Accuracy: 0.9143 | Val Accuracy: 0.9017 | epoch time: 25.614 |\n",
      "Epoch 080: | Train loss: 0.76075 | Val loss: 0.78256 | Train Accuracy: 0.9142 | Val Accuracy: 0.9088 | epoch time: 25.523 |\n",
      "Epoch 081: | Train loss: 0.75847 | Val loss: 0.78836 | Train Accuracy: 0.9156 | Val Accuracy: 0.9017 | epoch time: 25.511 |\n",
      "Epoch 082: | Train loss: 0.75228 | Val loss: 0.78955 | Train Accuracy: 0.9183 | Val Accuracy: 0.8997 | epoch time: 25.470 |\n",
      "Epoch 083: | Train loss: 0.75350 | Val loss: 0.81678 | Train Accuracy: 0.9182 | Val Accuracy: 0.9025 | epoch time: 25.615 |\n",
      "Epoch 084: | Train loss: 0.75383 | Val loss: 0.79832 | Train Accuracy: 0.9165 | Val Accuracy: 0.8980 | epoch time: 25.598 |\n",
      "Epoch 085: | Train loss: 0.75194 | Val loss: 0.77103 | Train Accuracy: 0.9176 | Val Accuracy: 0.9099 | epoch time: 25.047 | <-- Checkpoint!\n",
      "Epoch 086: | Train loss: 0.75012 | Val loss: 0.82312 | Train Accuracy: 0.9192 | Val Accuracy: 0.8983 | epoch time: 24.910 |\n",
      "Epoch 087: | Train loss: 0.74977 | Val loss: 0.79719 | Train Accuracy: 0.9196 | Val Accuracy: 0.9015 | epoch time: 25.378 |\n",
      "Epoch 088: | Train loss: 0.74647 | Val loss: 0.77748 | Train Accuracy: 0.9219 | Val Accuracy: 0.9106 | epoch time: 25.572 | <-- Checkpoint!\n",
      "Epoch 089: | Train loss: 0.74270 | Val loss: 0.77431 | Train Accuracy: 0.9209 | Val Accuracy: 0.9115 | epoch time: 25.480 | <-- Checkpoint!\n",
      "Epoch 090: | Train loss: 0.74512 | Val loss: 0.78991 | Train Accuracy: 0.9213 | Val Accuracy: 0.9036 | epoch time: 25.563 |\n",
      "Epoch 091: | Train loss: 0.74505 | Val loss: 0.78470 | Train Accuracy: 0.9205 | Val Accuracy: 0.9011 | epoch time: 25.487 |\n",
      "Epoch 092: | Train loss: 0.74116 | Val loss: 0.79026 | Train Accuracy: 0.9218 | Val Accuracy: 0.9062 | epoch time: 25.269 |\n",
      "Epoch 093: | Train loss: 0.74136 | Val loss: 0.77862 | Train Accuracy: 0.9222 | Val Accuracy: 0.9031 | epoch time: 24.629 |\n",
      "Epoch 094: | Train loss: 0.73548 | Val loss: 0.77832 | Train Accuracy: 0.9242 | Val Accuracy: 0.9075 | epoch time: 24.638 |\n",
      "Epoch 095: | Train loss: 0.73669 | Val loss: 0.80748 | Train Accuracy: 0.9242 | Val Accuracy: 0.8954 | epoch time: 24.637 |\n",
      "Epoch 096: | Train loss: 0.73234 | Val loss: 0.81116 | Train Accuracy: 0.9258 | Val Accuracy: 0.8934 | epoch time: 24.643 |\n",
      "Epoch 097: | Train loss: 0.73380 | Val loss: 0.78085 | Train Accuracy: 0.9251 | Val Accuracy: 0.9083 | epoch time: 24.747 |\n",
      "Epoch 098: | Train loss: 0.73254 | Val loss: 0.77242 | Train Accuracy: 0.9266 | Val Accuracy: 0.9080 | epoch time: 24.655 |\n",
      "Epoch 099: | Train loss: 0.73310 | Val loss: 0.77046 | Train Accuracy: 0.9255 | Val Accuracy: 0.9134 | epoch time: 24.810 | <-- Checkpoint!\n",
      "Epoch 100: | Train loss: 0.72510 | Val loss: 0.77878 | Train Accuracy: 0.9292 | Val Accuracy: 0.9063 | epoch time: 24.657 |\n",
      "Epoch 101: | Train loss: 0.73030 | Val loss: 0.78493 | Train Accuracy: 0.9260 | Val Accuracy: 0.9030 | epoch time: 24.651 |\n",
      "Epoch 102: | Train loss: 0.72684 | Val loss: 0.76601 | Train Accuracy: 0.9286 | Val Accuracy: 0.9095 | epoch time: 24.745 |\n",
      "Epoch 103: | Train loss: 0.72456 | Val loss: 0.76277 | Train Accuracy: 0.9287 | Val Accuracy: 0.9161 | epoch time: 24.650 | <-- Checkpoint!\n",
      "Epoch 104: | Train loss: 0.72148 | Val loss: 0.81648 | Train Accuracy: 0.9293 | Val Accuracy: 0.8957 | epoch time: 24.672 |\n",
      "Epoch 105: | Train loss: 0.72263 | Val loss: 0.77170 | Train Accuracy: 0.9305 | Val Accuracy: 0.9088 | epoch time: 24.624 |\n",
      "Epoch 106: | Train loss: 0.71972 | Val loss: 0.75438 | Train Accuracy: 0.9316 | Val Accuracy: 0.9153 | epoch time: 24.687 |\n",
      "Epoch 107: | Train loss: 0.72142 | Val loss: 0.75829 | Train Accuracy: 0.9299 | Val Accuracy: 0.9108 | epoch time: 24.740 |\n",
      "Epoch 108: | Train loss: 0.72150 | Val loss: 0.76032 | Train Accuracy: 0.9302 | Val Accuracy: 0.9168 | epoch time: 24.640 | <-- Checkpoint!\n",
      "Epoch 109: | Train loss: 0.72101 | Val loss: 0.77142 | Train Accuracy: 0.9305 | Val Accuracy: 0.9095 | epoch time: 24.722 |\n",
      "Epoch 110: | Train loss: 0.71664 | Val loss: 0.76000 | Train Accuracy: 0.9322 | Val Accuracy: 0.9168 | epoch time: 24.654 |\n",
      "Epoch 111: | Train loss: 0.71417 | Val loss: 0.77401 | Train Accuracy: 0.9333 | Val Accuracy: 0.9124 | epoch time: 24.725 |\n",
      "Epoch 112: | Train loss: 0.71434 | Val loss: 0.75992 | Train Accuracy: 0.9332 | Val Accuracy: 0.9143 | epoch time: 24.744 |\n",
      "Epoch 113: | Train loss: 0.71315 | Val loss: 0.77619 | Train Accuracy: 0.9339 | Val Accuracy: 0.9081 | epoch time: 24.646 |\n",
      "Epoch 114: | Train loss: 0.71066 | Val loss: 0.74927 | Train Accuracy: 0.9350 | Val Accuracy: 0.9179 | epoch time: 24.638 | <-- Checkpoint!\n",
      "Epoch 115: | Train loss: 0.71356 | Val loss: 0.74576 | Train Accuracy: 0.9332 | Val Accuracy: 0.9193 | epoch time: 24.709 | <-- Checkpoint!\n",
      "Epoch 116: | Train loss: 0.70740 | Val loss: 0.77039 | Train Accuracy: 0.9367 | Val Accuracy: 0.9085 | epoch time: 24.719 |\n",
      "Epoch 117: | Train loss: 0.70937 | Val loss: 0.76099 | Train Accuracy: 0.9347 | Val Accuracy: 0.9120 | epoch time: 24.690 |\n",
      "Epoch 118: | Train loss: 0.70977 | Val loss: 0.77555 | Train Accuracy: 0.9351 | Val Accuracy: 0.9080 | epoch time: 24.636 |\n",
      "Epoch 119: | Train loss: 0.70597 | Val loss: 0.77107 | Train Accuracy: 0.9363 | Val Accuracy: 0.9145 | epoch time: 24.657 |\n",
      "Epoch 120: | Train loss: 0.70387 | Val loss: 0.76286 | Train Accuracy: 0.9377 | Val Accuracy: 0.9151 | epoch time: 24.645 |\n",
      "Epoch 121: | Train loss: 0.70262 | Val loss: 0.77346 | Train Accuracy: 0.9384 | Val Accuracy: 0.9060 | epoch time: 24.696 |\n",
      "Epoch 122: | Train loss: 0.70363 | Val loss: 0.75739 | Train Accuracy: 0.9366 | Val Accuracy: 0.9168 | epoch time: 24.721 |\n",
      "Epoch 123: | Train loss: 0.70134 | Val loss: 0.74811 | Train Accuracy: 0.9382 | Val Accuracy: 0.9186 | epoch time: 24.854 |\n",
      "Epoch 124: | Train loss: 0.69726 | Val loss: 0.77281 | Train Accuracy: 0.9396 | Val Accuracy: 0.9118 | epoch time: 24.410 |\n",
      "Epoch 125: | Train loss: 0.69964 | Val loss: 0.75530 | Train Accuracy: 0.9400 | Val Accuracy: 0.9205 | epoch time: 24.411 | <-- Checkpoint!\n",
      "Epoch 126: | Train loss: 0.69804 | Val loss: 0.75055 | Train Accuracy: 0.9378 | Val Accuracy: 0.9183 | epoch time: 24.475 |\n",
      "Epoch 127: | Train loss: 0.69611 | Val loss: 0.76518 | Train Accuracy: 0.9402 | Val Accuracy: 0.9144 | epoch time: 24.440 |\n",
      "Epoch 128: | Train loss: 0.69375 | Val loss: 0.74699 | Train Accuracy: 0.9419 | Val Accuracy: 0.9192 | epoch time: 24.390 |\n",
      "Epoch 129: | Train loss: 0.69272 | Val loss: 0.73997 | Train Accuracy: 0.9418 | Val Accuracy: 0.9234 | epoch time: 24.390 | <-- Checkpoint!\n",
      "Epoch 130: | Train loss: 0.69228 | Val loss: 0.74848 | Train Accuracy: 0.9410 | Val Accuracy: 0.9174 | epoch time: 24.409 |\n",
      "Epoch 131: | Train loss: 0.69317 | Val loss: 0.74680 | Train Accuracy: 0.9417 | Val Accuracy: 0.9210 | epoch time: 24.457 |\n",
      "Epoch 132: | Train loss: 0.68750 | Val loss: 0.76396 | Train Accuracy: 0.9435 | Val Accuracy: 0.9116 | epoch time: 24.410 |\n",
      "Epoch 133: | Train loss: 0.68840 | Val loss: 0.73992 | Train Accuracy: 0.9432 | Val Accuracy: 0.9235 | epoch time: 24.410 | <-- Checkpoint!\n",
      "Epoch 134: | Train loss: 0.68710 | Val loss: 0.75336 | Train Accuracy: 0.9438 | Val Accuracy: 0.9193 | epoch time: 24.436 |\n",
      "Epoch 135: | Train loss: 0.68856 | Val loss: 0.73868 | Train Accuracy: 0.9432 | Val Accuracy: 0.9197 | epoch time: 25.018 |\n",
      "Epoch 136: | Train loss: 0.68771 | Val loss: 0.76493 | Train Accuracy: 0.9437 | Val Accuracy: 0.9134 | epoch time: 25.039 |\n",
      "Epoch 137: | Train loss: 0.68527 | Val loss: 0.74743 | Train Accuracy: 0.9454 | Val Accuracy: 0.9220 | epoch time: 24.757 |\n",
      "Epoch 138: | Train loss: 0.68295 | Val loss: 0.73256 | Train Accuracy: 0.9454 | Val Accuracy: 0.9243 | epoch time: 25.224 | <-- Checkpoint!\n",
      "Epoch 139: | Train loss: 0.68070 | Val loss: 0.75041 | Train Accuracy: 0.9466 | Val Accuracy: 0.9244 | epoch time: 24.939 | <-- Checkpoint!\n",
      "Epoch 140: | Train loss: 0.68210 | Val loss: 0.74346 | Train Accuracy: 0.9460 | Val Accuracy: 0.9209 | epoch time: 24.975 |\n",
      "Epoch 141: | Train loss: 0.68036 | Val loss: 0.73850 | Train Accuracy: 0.9457 | Val Accuracy: 0.9220 | epoch time: 25.192 |\n",
      "Epoch 142: | Train loss: 0.67775 | Val loss: 0.76953 | Train Accuracy: 0.9482 | Val Accuracy: 0.9151 | epoch time: 24.749 |\n",
      "Epoch 143: | Train loss: 0.67550 | Val loss: 0.73317 | Train Accuracy: 0.9481 | Val Accuracy: 0.9197 | epoch time: 25.755 |\n",
      "Epoch 144: | Train loss: 0.67531 | Val loss: 0.72416 | Train Accuracy: 0.9490 | Val Accuracy: 0.9270 | epoch time: 25.586 | <-- Checkpoint!\n",
      "Epoch 145: | Train loss: 0.67624 | Val loss: 0.73130 | Train Accuracy: 0.9484 | Val Accuracy: 0.9282 | epoch time: 26.277 | <-- Checkpoint!\n",
      "Epoch 146: | Train loss: 0.67635 | Val loss: 0.73401 | Train Accuracy: 0.9478 | Val Accuracy: 0.9264 | epoch time: 26.747 |\n",
      "Epoch 147: | Train loss: 0.66847 | Val loss: 0.73538 | Train Accuracy: 0.9514 | Val Accuracy: 0.9230 | epoch time: 26.797 |\n",
      "Epoch 148: | Train loss: 0.66997 | Val loss: 0.74609 | Train Accuracy: 0.9504 | Val Accuracy: 0.9214 | epoch time: 26.924 |\n",
      "Epoch 149: | Train loss: 0.67115 | Val loss: 0.73029 | Train Accuracy: 0.9498 | Val Accuracy: 0.9248 | epoch time: 26.804 |\n",
      "Epoch 150: | Train loss: 0.66590 | Val loss: 0.73065 | Train Accuracy: 0.9537 | Val Accuracy: 0.9240 | epoch time: 26.797 |\n",
      "Epoch 151: | Train loss: 0.66627 | Val loss: 0.72407 | Train Accuracy: 0.9520 | Val Accuracy: 0.9260 | epoch time: 27.002 |\n",
      "Epoch 152: | Train loss: 0.66515 | Val loss: 0.74167 | Train Accuracy: 0.9524 | Val Accuracy: 0.9217 | epoch time: 26.500 |\n",
      "Epoch 153: | Train loss: 0.66322 | Val loss: 0.72606 | Train Accuracy: 0.9531 | Val Accuracy: 0.9275 | epoch time: 26.725 |\n",
      "Epoch 154: | Train loss: 0.66545 | Val loss: 0.74290 | Train Accuracy: 0.9519 | Val Accuracy: 0.9187 | epoch time: 26.796 |\n",
      "Epoch 155: | Train loss: 0.66562 | Val loss: 0.72899 | Train Accuracy: 0.9519 | Val Accuracy: 0.9234 | epoch time: 26.762 |\n",
      "Epoch 156: | Train loss: 0.66000 | Val loss: 0.73333 | Train Accuracy: 0.9546 | Val Accuracy: 0.9285 | epoch time: 26.765 | <-- Checkpoint!\n",
      "Epoch 157: | Train loss: 0.65789 | Val loss: 0.73480 | Train Accuracy: 0.9549 | Val Accuracy: 0.9228 | epoch time: 26.730 |\n",
      "Epoch 158: | Train loss: 0.65725 | Val loss: 0.72677 | Train Accuracy: 0.9551 | Val Accuracy: 0.9264 | epoch time: 26.576 |\n",
      "Epoch 159: | Train loss: 0.65920 | Val loss: 0.73888 | Train Accuracy: 0.9540 | Val Accuracy: 0.9221 | epoch time: 26.364 |\n",
      "Epoch 160: | Train loss: 0.65796 | Val loss: 0.73085 | Train Accuracy: 0.9550 | Val Accuracy: 0.9251 | epoch time: 26.599 |\n",
      "Epoch 161: | Train loss: 0.65277 | Val loss: 0.71707 | Train Accuracy: 0.9566 | Val Accuracy: 0.9267 | epoch time: 26.280 |\n",
      "Epoch 162: | Train loss: 0.65310 | Val loss: 0.71928 | Train Accuracy: 0.9574 | Val Accuracy: 0.9287 | epoch time: 26.288 | <-- Checkpoint!\n",
      "Epoch 163: | Train loss: 0.65019 | Val loss: 0.72463 | Train Accuracy: 0.9578 | Val Accuracy: 0.9269 | epoch time: 26.315 |\n",
      "Epoch 164: | Train loss: 0.65179 | Val loss: 0.73422 | Train Accuracy: 0.9575 | Val Accuracy: 0.9260 | epoch time: 26.366 |\n",
      "Epoch 165: | Train loss: 0.64765 | Val loss: 0.73640 | Train Accuracy: 0.9584 | Val Accuracy: 0.9227 | epoch time: 26.289 |\n",
      "Epoch 166: | Train loss: 0.64741 | Val loss: 0.71311 | Train Accuracy: 0.9590 | Val Accuracy: 0.9303 | epoch time: 26.304 | <-- Checkpoint!\n",
      "Epoch 167: | Train loss: 0.64494 | Val loss: 0.71892 | Train Accuracy: 0.9596 | Val Accuracy: 0.9303 | epoch time: 26.302 |\n",
      "Epoch 168: | Train loss: 0.64507 | Val loss: 0.71882 | Train Accuracy: 0.9604 | Val Accuracy: 0.9293 | epoch time: 26.451 |\n",
      "Epoch 169: | Train loss: 0.64275 | Val loss: 0.71184 | Train Accuracy: 0.9611 | Val Accuracy: 0.9324 | epoch time: 27.061 | <-- Checkpoint!\n",
      "Epoch 170: | Train loss: 0.64101 | Val loss: 0.71962 | Train Accuracy: 0.9620 | Val Accuracy: 0.9311 | epoch time: 26.321 |\n",
      "Epoch 171: | Train loss: 0.64297 | Val loss: 0.71492 | Train Accuracy: 0.9607 | Val Accuracy: 0.9316 | epoch time: 26.276 |\n",
      "Epoch 172: | Train loss: 0.64223 | Val loss: 0.72368 | Train Accuracy: 0.9614 | Val Accuracy: 0.9262 | epoch time: 26.269 |\n",
      "Epoch 173: | Train loss: 0.63930 | Val loss: 0.70777 | Train Accuracy: 0.9620 | Val Accuracy: 0.9326 | epoch time: 26.356 | <-- Checkpoint!\n",
      "Epoch 174: | Train loss: 0.63817 | Val loss: 0.71514 | Train Accuracy: 0.9632 | Val Accuracy: 0.9311 | epoch time: 26.429 |\n",
      "Epoch 175: | Train loss: 0.63645 | Val loss: 0.71576 | Train Accuracy: 0.9632 | Val Accuracy: 0.9315 | epoch time: 26.980 |\n",
      "Epoch 176: | Train loss: 0.63733 | Val loss: 0.71167 | Train Accuracy: 0.9628 | Val Accuracy: 0.9301 | epoch time: 26.847 |\n",
      "Epoch 177: | Train loss: 0.63826 | Val loss: 0.71919 | Train Accuracy: 0.9623 | Val Accuracy: 0.9306 | epoch time: 26.721 |\n",
      "Epoch 178: | Train loss: 0.63306 | Val loss: 0.70697 | Train Accuracy: 0.9645 | Val Accuracy: 0.9306 | epoch time: 26.579 |\n",
      "Epoch 179: | Train loss: 0.63370 | Val loss: 0.71401 | Train Accuracy: 0.9646 | Val Accuracy: 0.9292 | epoch time: 26.617 |\n",
      "Epoch 180: | Train loss: 0.62996 | Val loss: 0.69639 | Train Accuracy: 0.9659 | Val Accuracy: 0.9362 | epoch time: 26.612 | <-- Checkpoint!\n",
      "Epoch 181: | Train loss: 0.63186 | Val loss: 0.71356 | Train Accuracy: 0.9653 | Val Accuracy: 0.9314 | epoch time: 26.546 |\n",
      "Epoch 182: | Train loss: 0.62964 | Val loss: 0.71334 | Train Accuracy: 0.9653 | Val Accuracy: 0.9318 | epoch time: 26.604 |\n",
      "Epoch 183: | Train loss: 0.62639 | Val loss: 0.70207 | Train Accuracy: 0.9679 | Val Accuracy: 0.9353 | epoch time: 26.516 |\n",
      "Epoch 184: | Train loss: 0.62514 | Val loss: 0.70542 | Train Accuracy: 0.9679 | Val Accuracy: 0.9334 | epoch time: 26.505 |\n",
      "Epoch 185: | Train loss: 0.62736 | Val loss: 0.69868 | Train Accuracy: 0.9662 | Val Accuracy: 0.9356 | epoch time: 26.539 |\n",
      "Epoch 186: | Train loss: 0.62553 | Val loss: 0.70421 | Train Accuracy: 0.9676 | Val Accuracy: 0.9333 | epoch time: 26.843 |\n",
      "Epoch 187: | Train loss: 0.62329 | Val loss: 0.70478 | Train Accuracy: 0.9685 | Val Accuracy: 0.9341 | epoch time: 26.777 |\n",
      "Epoch 188: | Train loss: 0.62155 | Val loss: 0.69503 | Train Accuracy: 0.9696 | Val Accuracy: 0.9375 | epoch time: 24.874 | <-- Checkpoint!\n",
      "Epoch 189: | Train loss: 0.62045 | Val loss: 0.69958 | Train Accuracy: 0.9695 | Val Accuracy: 0.9365 | epoch time: 24.526 |\n",
      "Epoch 190: | Train loss: 0.62094 | Val loss: 0.70217 | Train Accuracy: 0.9683 | Val Accuracy: 0.9345 | epoch time: 25.074 |\n",
      "Epoch 191: | Train loss: 0.61840 | Val loss: 0.69679 | Train Accuracy: 0.9700 | Val Accuracy: 0.9393 | epoch time: 26.574 | <-- Checkpoint!\n",
      "Epoch 192: | Train loss: 0.61956 | Val loss: 0.68957 | Train Accuracy: 0.9691 | Val Accuracy: 0.9420 | epoch time: 26.532 | <-- Checkpoint!\n",
      "Epoch 193: | Train loss: 0.61658 | Val loss: 0.69129 | Train Accuracy: 0.9707 | Val Accuracy: 0.9403 | epoch time: 26.530 |\n",
      "Epoch 194: | Train loss: 0.61589 | Val loss: 0.69658 | Train Accuracy: 0.9708 | Val Accuracy: 0.9363 | epoch time: 26.470 |\n",
      "Epoch 195: | Train loss: 0.61550 | Val loss: 0.69215 | Train Accuracy: 0.9712 | Val Accuracy: 0.9403 | epoch time: 26.476 |\n",
      "Epoch 196: | Train loss: 0.61466 | Val loss: 0.69992 | Train Accuracy: 0.9712 | Val Accuracy: 0.9400 | epoch time: 26.756 |\n",
      "Epoch 197: | Train loss: 0.61483 | Val loss: 0.68496 | Train Accuracy: 0.9709 | Val Accuracy: 0.9413 | epoch time: 26.496 |\n",
      "Epoch 198: | Train loss: 0.61096 | Val loss: 0.69063 | Train Accuracy: 0.9730 | Val Accuracy: 0.9402 | epoch time: 26.490 |\n",
      "Epoch 199: | Train loss: 0.60883 | Val loss: 0.68771 | Train Accuracy: 0.9743 | Val Accuracy: 0.9402 | epoch time: 26.552 |\n",
      "Epoch 200: | Train loss: 0.60957 | Val loss: 0.69221 | Train Accuracy: 0.9731 | Val Accuracy: 0.9406 | epoch time: 26.516 |\n",
      "Epoch 201: | Train loss: 0.60888 | Val loss: 0.69207 | Train Accuracy: 0.9741 | Val Accuracy: 0.9404 | epoch time: 26.530 |\n",
      "Epoch 202: | Train loss: 0.60594 | Val loss: 0.68629 | Train Accuracy: 0.9754 | Val Accuracy: 0.9411 | epoch time: 26.010 |\n",
      "Epoch 203: | Train loss: 0.60757 | Val loss: 0.68320 | Train Accuracy: 0.9740 | Val Accuracy: 0.9425 | epoch time: 26.628 | <-- Checkpoint!\n",
      "Epoch 204: | Train loss: 0.60694 | Val loss: 0.69091 | Train Accuracy: 0.9745 | Val Accuracy: 0.9421 | epoch time: 26.051 |\n",
      "Epoch 205: | Train loss: 0.60488 | Val loss: 0.68581 | Train Accuracy: 0.9757 | Val Accuracy: 0.9438 | epoch time: 27.074 | <-- Checkpoint!\n",
      "Epoch 206: | Train loss: 0.60421 | Val loss: 0.68542 | Train Accuracy: 0.9758 | Val Accuracy: 0.9443 | epoch time: 24.611 | <-- Checkpoint!\n",
      "Epoch 207: | Train loss: 0.60708 | Val loss: 0.68686 | Train Accuracy: 0.9743 | Val Accuracy: 0.9411 | epoch time: 24.536 |\n",
      "Epoch 208: | Train loss: 0.60422 | Val loss: 0.68081 | Train Accuracy: 0.9763 | Val Accuracy: 0.9446 | epoch time: 26.670 | <-- Checkpoint!\n",
      "Epoch 209: | Train loss: 0.59963 | Val loss: 0.68104 | Train Accuracy: 0.9776 | Val Accuracy: 0.9430 | epoch time: 26.862 |\n",
      "Epoch 210: | Train loss: 0.60228 | Val loss: 0.68311 | Train Accuracy: 0.9762 | Val Accuracy: 0.9421 | epoch time: 26.830 |\n",
      "Epoch 211: | Train loss: 0.59935 | Val loss: 0.68602 | Train Accuracy: 0.9771 | Val Accuracy: 0.9435 | epoch time: 26.511 |\n",
      "Epoch 212: | Train loss: 0.59961 | Val loss: 0.68261 | Train Accuracy: 0.9770 | Val Accuracy: 0.9436 | epoch time: 26.495 |\n",
      "Epoch 213: | Train loss: 0.59949 | Val loss: 0.67891 | Train Accuracy: 0.9773 | Val Accuracy: 0.9447 | epoch time: 26.684 | <-- Checkpoint!\n",
      "Epoch 214: | Train loss: 0.59979 | Val loss: 0.68540 | Train Accuracy: 0.9773 | Val Accuracy: 0.9436 | epoch time: 25.123 |\n",
      "Epoch 215: | Train loss: 0.59846 | Val loss: 0.68454 | Train Accuracy: 0.9778 | Val Accuracy: 0.9432 | epoch time: 24.616 |\n",
      "Epoch 216: | Train loss: 0.59646 | Val loss: 0.68128 | Train Accuracy: 0.9783 | Val Accuracy: 0.9430 | epoch time: 24.488 |\n",
      "Epoch 217: | Train loss: 0.59641 | Val loss: 0.67713 | Train Accuracy: 0.9784 | Val Accuracy: 0.9454 | epoch time: 24.511 | <-- Checkpoint!\n",
      "Epoch 218: | Train loss: 0.59399 | Val loss: 0.68000 | Train Accuracy: 0.9798 | Val Accuracy: 0.9437 | epoch time: 24.514 |\n",
      "Epoch 219: | Train loss: 0.59400 | Val loss: 0.67933 | Train Accuracy: 0.9795 | Val Accuracy: 0.9446 | epoch time: 24.600 |\n",
      "Epoch 220: | Train loss: 0.59403 | Val loss: 0.67956 | Train Accuracy: 0.9796 | Val Accuracy: 0.9444 | epoch time: 24.554 |\n",
      "Epoch 221: | Train loss: 0.59226 | Val loss: 0.67765 | Train Accuracy: 0.9809 | Val Accuracy: 0.9456 | epoch time: 24.492 | <-- Checkpoint!\n",
      "Epoch 222: | Train loss: 0.59414 | Val loss: 0.67849 | Train Accuracy: 0.9794 | Val Accuracy: 0.9466 | epoch time: 24.517 | <-- Checkpoint!\n",
      "Epoch 223: | Train loss: 0.59239 | Val loss: 0.67571 | Train Accuracy: 0.9806 | Val Accuracy: 0.9479 | epoch time: 24.524 | <-- Checkpoint!\n",
      "Epoch 224: | Train loss: 0.59254 | Val loss: 0.67915 | Train Accuracy: 0.9801 | Val Accuracy: 0.9455 | epoch time: 24.655 |\n",
      "Epoch 225: | Train loss: 0.59387 | Val loss: 0.67561 | Train Accuracy: 0.9801 | Val Accuracy: 0.9465 | epoch time: 24.535 |\n",
      "Epoch 226: | Train loss: 0.59326 | Val loss: 0.67902 | Train Accuracy: 0.9800 | Val Accuracy: 0.9445 | epoch time: 24.492 |\n",
      "Epoch 227: | Train loss: 0.59199 | Val loss: 0.67563 | Train Accuracy: 0.9801 | Val Accuracy: 0.9463 | epoch time: 24.487 |\n",
      "Epoch 228: | Train loss: 0.59004 | Val loss: 0.67323 | Train Accuracy: 0.9812 | Val Accuracy: 0.9461 | epoch time: 24.529 |\n",
      "Epoch 229: | Train loss: 0.58834 | Val loss: 0.67356 | Train Accuracy: 0.9816 | Val Accuracy: 0.9465 | epoch time: 24.601 |\n",
      "Epoch 230: | Train loss: 0.58911 | Val loss: 0.67324 | Train Accuracy: 0.9817 | Val Accuracy: 0.9471 | epoch time: 24.535 |\n",
      "Epoch 231: | Train loss: 0.58954 | Val loss: 0.67696 | Train Accuracy: 0.9813 | Val Accuracy: 0.9468 | epoch time: 24.543 |\n",
      "Epoch 232: | Train loss: 0.58943 | Val loss: 0.67347 | Train Accuracy: 0.9813 | Val Accuracy: 0.9464 | epoch time: 24.491 |\n",
      "Epoch 233: | Train loss: 0.58795 | Val loss: 0.67442 | Train Accuracy: 0.9824 | Val Accuracy: 0.9472 | epoch time: 24.491 |\n",
      "Epoch 234: | Train loss: 0.58824 | Val loss: 0.67249 | Train Accuracy: 0.9816 | Val Accuracy: 0.9478 | epoch time: 24.606 |\n",
      "Epoch 235: | Train loss: 0.58749 | Val loss: 0.67224 | Train Accuracy: 0.9825 | Val Accuracy: 0.9475 | epoch time: 24.508 |\n",
      "Epoch 236: | Train loss: 0.58610 | Val loss: 0.67210 | Train Accuracy: 0.9833 | Val Accuracy: 0.9476 | epoch time: 24.508 |\n",
      "Epoch 237: | Train loss: 0.58770 | Val loss: 0.67221 | Train Accuracy: 0.9824 | Val Accuracy: 0.9475 | epoch time: 24.512 |\n",
      "Epoch 238: | Train loss: 0.58762 | Val loss: 0.67092 | Train Accuracy: 0.9819 | Val Accuracy: 0.9479 | epoch time: 24.679 |\n",
      "Epoch 239: | Train loss: 0.58659 | Val loss: 0.67057 | Train Accuracy: 0.9826 | Val Accuracy: 0.9479 | epoch time: 24.480 |\n",
      "Epoch 240: | Train loss: 0.58601 | Val loss: 0.67255 | Train Accuracy: 0.9831 | Val Accuracy: 0.9479 | epoch time: 24.372 |\n",
      "Epoch 241: | Train loss: 0.58837 | Val loss: 0.67143 | Train Accuracy: 0.9814 | Val Accuracy: 0.9488 | epoch time: 24.413 | <-- Checkpoint!\n",
      "Epoch 242: | Train loss: 0.58694 | Val loss: 0.67133 | Train Accuracy: 0.9823 | Val Accuracy: 0.9479 | epoch time: 24.425 |\n",
      "Epoch 243: | Train loss: 0.58610 | Val loss: 0.67099 | Train Accuracy: 0.9829 | Val Accuracy: 0.9477 | epoch time: 24.409 |\n",
      "Epoch 244: | Train loss: 0.58586 | Val loss: 0.67068 | Train Accuracy: 0.9833 | Val Accuracy: 0.9484 | epoch time: 24.463 |\n",
      "Epoch 245: | Train loss: 0.58680 | Val loss: 0.67074 | Train Accuracy: 0.9824 | Val Accuracy: 0.9484 | epoch time: 24.388 |\n",
      "Epoch 246: | Train loss: 0.58881 | Val loss: 0.67050 | Train Accuracy: 0.9818 | Val Accuracy: 0.9478 | epoch time: 24.595 |\n",
      "Epoch 247: | Train loss: 0.58690 | Val loss: 0.67054 | Train Accuracy: 0.9825 | Val Accuracy: 0.9480 | epoch time: 24.959 |\n",
      "Epoch 248: | Train loss: 0.58565 | Val loss: 0.67052 | Train Accuracy: 0.9835 | Val Accuracy: 0.9469 | epoch time: 25.161 |\n",
      "Epoch 249: | Train loss: 0.58711 | Val loss: 0.67159 | Train Accuracy: 0.9825 | Val Accuracy: 0.9473 | epoch time: 25.147 |\n"
     ]
    }
   ],
   "source": [
    "nEpochs       = 250\n",
    "nIter         = nEpochs * len(oTrainDL)\n",
    "\n",
    "oModel        = GetModel               ().to(DEVICE)\n",
    "oOptim        = optim.AdamW            (oModel.parameters(), lr=5e-5, betas=(0.9, 0.99), weight_decay=1e-2)\n",
    "oScheduler    = lr_scheduler.OneCycleLR(oOptim, max_lr=5e-3, total_steps=nIter)\n",
    "lHistory      = TrainClassficationModel(oModel, oTrainDL, oTestDL, Loss, nEpochs, oOptim, oScheduler)"
   ]
  },
  {
   "cell_type": "code",
   "execution_count": 22,
   "metadata": {
    "execution": {
     "iopub.execute_input": "2021-09-27T20:23:09.814211Z",
     "iopub.status.busy": "2021-09-27T20:23:09.814211Z",
     "iopub.status.idle": "2021-09-27T20:23:10.111481Z",
     "shell.execute_reply": "2021-09-27T20:23:10.111481Z",
     "shell.execute_reply.started": "2021-09-27T20:23:09.814211Z"
    }
   },
   "outputs": [
    {
     "data": {
      "image/png": "[encoded data removed]",
      "text/plain": [
       "<Figure size 1584x360 with 3 Axes>"
      ]
     },
     "metadata": {
      "needs_background": "light"
     },
     "output_type": "display_data"
    }
   ],
   "source": [
    "def PlotHistory(lHistory):\n",
    "\n",
    "    vTrainLoss, vTrainAcc, vValLoss, vValAcc, vLR = lHistory\n",
    "    \n",
    "    _, vAx = plt.subplots(1, 3, figsize=(22, 5))\n",
    "    \n",
    "    vAx[0].plot      (vTrainLoss, lw=2, label='Train'      f'={vTrainLoss.min():.4f}')\n",
    "    vAx[0].plot      (vValLoss,   lw=2, label='Validation' f'={vValLoss  .min():.4f}')\n",
    "    vAx[0].set_title ('Loss')\n",
    "    vAx[0].set_xlabel('epoch')\n",
    "    vAx[0].set_ylim  (bottom=0)\n",
    "    vAx[0].grid      ()\n",
    "    vAx[0].legend    ()\n",
    "    \n",
    "    vAx[1].plot      (vTrainAcc, lw=2, label='Train'      f'={vTrainAcc.max():.4f}')\n",
    "    vAx[1].plot      (vValAcc,   lw=2, label='Validation' f'={vValAcc  .max():.4f}')\n",
    "    vAx[1].set_title ('Accuracy')\n",
    "    vAx[1].set_xlabel('epoch')\n",
    "    vAx[1].set_ylim  (top=1)\n",
    "    vAx[1].grid      ()\n",
    "    vAx[1].legend    ()\n",
    "    \n",
    "    vAx[2].plot      (vLR, lw=2)\n",
    "    vAx[2].set_title ('Learning rate')\n",
    "    vAx[2].set_xlabel('iteration')\n",
    "    vAx[2].grid      ()\n",
    "    \n",
    "PlotHistory(lHistory)\n",
    "plt.show   ()"
   ]
  },
  {
   "cell_type": "code",
   "execution_count": null,
   "metadata": {},
   "outputs": [],
   "source": []
  },
  {
   "cell_type": "code",
   "execution_count": null,
   "metadata": {},
   "outputs": [],
   "source": []
  }
 ],
 "metadata": {
  "kernelspec": {
   "display_name": "Python 3 (ipykernel)",
   "language": "python",
   "name": "python3"
  },
  "language_info": {
   "codemirror_mode": {
    "name": "ipython",
    "version": 3
   },
   "file_extension": ".py",
   "mimetype": "text/x-python",
   "name": "python",
   "nbconvert_exporter": "python",
   "pygments_lexer": "ipython3",
   "version": "3.8.11"
  },
  "toc": {
   "base_numbering": 1,
   "nav_menu": {},
   "number_sections": false,
   "sideBar": true,
   "skip_h1_title": false,
   "title_cell": "Table of Contents",
   "title_sidebar": "Contents",
   "toc_cell": false,
   "toc_position": {},
   "toc_section_display": true,
   "toc_window_display": false
  },
  "varInspector": {
   "cols": {
    "lenName": 16,
    "lenType": 16,
    "lenVar": 40
   },
   "kernels_config": {
    "python": {
     "delete_cmd_postfix": "",
     "delete_cmd_prefix": "del ",
     "library": "var_list.py",
     "varRefreshCmd": "print(var_dic_list())"
    },
    "r": {
     "delete_cmd_postfix": ") ",
     "delete_cmd_prefix": "rm(",
     "library": "var_list.r",
     "varRefreshCmd": "cat(var_dic_list()) "
    }
   },
   "types_to_exclude": [
    "module",
    "function",
    "builtin_function_or_method",
    "instance",
    "_Feature"
   ],
   "window_display": false
  }
 },
 "nbformat": 4,
 "nbformat_minor": 4
}
