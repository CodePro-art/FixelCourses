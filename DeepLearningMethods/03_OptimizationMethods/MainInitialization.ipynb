{
 "cells": [
  {
   "cell_type": "markdown",
   "metadata": {},
   "source": [
    "![Fixel Algorithms](https://fixelalgorithms.co/images/CCExt.png)"
   ]
  },
  {
   "cell_type": "markdown",
   "metadata": {},
   "source": [
    "# <center> Deep Learning Methods </center>\n",
    "## <center> Lecture 3 - Optimization Methods </center>\n",
    "### <center> Data Pre-processing and Weights Initialization</center>"
   ]
  },
  {
   "cell_type": "markdown",
   "metadata": {},
   "source": [
    "[![Open In Colab](https://colab.research.google.com/assets/colab-badge.svg)](https://colab.research.google.com/github/FixelAlgorithmsTeam/FixelCourses/blob/master/DeepLearningMethods/03_OptimizationMethods/MainInitialization.ipynb)"
   ]
  },
  {
   "cell_type": "code",
   "execution_count": 1,
   "metadata": {},
   "outputs": [
    {
     "data": {
      "text/html": [
       "<style>.container { width:80% !important; }</style>"
      ],
      "text/plain": [
       "<IPython.core.display.HTML object>"
      ]
     },
     "metadata": {},
     "output_type": "display_data"
    }
   ],
   "source": [
    "#-- Wide screen:\n",
    "from IPython.core.display import display, HTML\n",
    "display(HTML(\"<style>.container { width:80% !important; }</style>\"))"
   ]
  },
  {
   "cell_type": "code",
   "execution_count": 2,
   "metadata": {},
   "outputs": [],
   "source": [
    "import numpy             as np\n",
    "import matplotlib.pyplot as plt\n",
    "import matplotlib\n",
    "\n",
    "matplotlib.rc('font', **{'size' : 16})\n",
    "np.random.seed(1)"
   ]
  },
  {
   "cell_type": "markdown",
   "metadata": {},
   "source": [
    "###  What we have so far:\n",
    "This part will grow so we will move this to its own module"
   ]
  },
  {
   "cell_type": "code",
   "execution_count": 18,
   "metadata": {},
   "outputs": [],
   "source": [
    "class ReLULayer:\n",
    "    def __init__(self):\n",
    "        self.dParams = {}\n",
    "        self.dGrads  = {}\n",
    "    \n",
    "    def Forward(self, mX):\n",
    "        self.mX = mX                 #-- store for Backward\n",
    "        mZ      = np.maximum(mX, 0)\n",
    "        \n",
    "        return mZ\n",
    "    \n",
    "    def Backward(self, mDz):\n",
    "        mX    = self.mX\n",
    "        mMask = (mX > 0).astype(np.float32)\n",
    "        mDx   = mDz * mMask\n",
    "                \n",
    "        return mDx\n",
    "\n",
    "#--------------------------------------------------------------------------------#\n",
    "#--------------------------------------------------------------------------------#\n",
    "def CrossEntropyLoss(vY, mZ):\n",
    "    '''\n",
    "    Returns both the loss and the gradient w.r.t the input (mZ)\n",
    "    '''\n",
    "    N      = len(vY)\n",
    "    mHatY  = np.exp(mZ)\n",
    "    mHatY /= np.sum(mHatY, axis=0)\n",
    "    loss   = -np.log(mHatY[vY,range(N)]).mean()\n",
    "    \n",
    "    mDz               = mHatY\n",
    "    mDz[vY,range(N)] -= 1\n",
    "    mDz              /= N\n",
    "    \n",
    "    return loss, mDz\n",
    "\n",
    "#--------------------------------------------------------------------------------#\n",
    "#--------------------------------------------------------------------------------#\n",
    "class Model:\n",
    "    def __init__(self, lLayers):\n",
    "        self.lLayers = lLayers\n",
    "\n",
    "    def Forward(self, mX):\n",
    "        for oLayer in self.lLayers:\n",
    "            mX = oLayer.Forward(mX)\n",
    "        return mX\n",
    "\n",
    "    def Backward(self, mDz):\n",
    "        for oLayer in reversed(self.lLayers):\n",
    "            mDz = oLayer.Backward(mDz)"
   ]
  },
  {
   "cell_type": "markdown",
   "metadata": {},
   "source": [
    "#### Adding Kaiming (and Xavier) initialization to the linear layer:\n",
    "$$\\boldsymbol{W}\\left[i,j\\right]=\\mathcal{N}\\left(0,\\sigma_w^2\\right)$$\n",
    "where:\n",
    "* Xavier - $\\sigma_{w}^{2}=\\frac{1}{d}$\n",
    "* Kaiming - $\\sigma_{w}^{2}=\\frac{2}{d}$\n",
    "* $d$ is the input dimension."
   ]
  },
  {
   "cell_type": "code",
   "execution_count": 19,
   "metadata": {},
   "outputs": [],
   "source": [
    "class LinearLayer:\n",
    "    def __init__(self, dIn, dOut, init='Kaiming'):\n",
    "        if   init == 'Kaiming': mW = np.random.randn(dOut, dIn) * np.sqrt(2 / dIn)\n",
    "        elif init == 'Xavier':  mW = np.random.randn(dOut, dIn) * np.sqrt(1 / dIn)\n",
    "        else:                   mW = np.random.randn(dOut, dIn) / dIn #-- this is how we initialize previously\n",
    "        \n",
    "        vB = np.zeros(dOut)\n",
    "\n",
    "        self.dParams = {'mW' : mW,   'vB': vB}\n",
    "        self.dGrads  = {'mW' : None, 'vB' : None}\n",
    "\n",
    "    def Forward(self, mX):\n",
    "        mW      = self.dParams['mW']\n",
    "        vB      = self.dParams['vB']\n",
    "        self.mX = mX                   #-- store for Backward\n",
    "        mZ      = mW @ mX + vB[:,None]\n",
    "\n",
    "        return mZ\n",
    "\n",
    "    def Backward(self, mDz):\n",
    "        mW  = self.dParams['mW']\n",
    "        mX  = self.mX\n",
    "        \n",
    "        vDb = mDz.sum(1)\n",
    "        mDw = mDz  @ mX.T\n",
    "        mDx = mW.T @ mDz\n",
    "        \n",
    "        self.dGrads['vB'] = vDb\n",
    "        self.dGrads['mW'] = mDw\n",
    "\n",
    "        return mDx\n"
   ]
  },
  {
   "cell_type": "markdown",
   "metadata": {},
   "source": [
    "### Get Fashion MNIST dataset"
   ]
  },
  {
   "cell_type": "code",
   "execution_count": 5,
   "metadata": {},
   "outputs": [
    {
     "data": {
      "text/plain": [
       "((60000, 784), (60000,))"
      ]
     },
     "execution_count": 5,
     "metadata": {},
     "output_type": "execute_result"
    }
   ],
   "source": [
    "import torchvision\n",
    "import torchvision.transforms as transforms\n",
    "\n",
    "#-- For now, we use PyTorch just to get the data:\n",
    "oTorchTrainSet = torchvision.datasets.FashionMNIST(root='../../data', train=True,  download=True, transform=transforms.ToTensor())\n",
    "# oTorchTestSet  = torchvision.datasets.FashionMNIST(root='./data', train=False, download=True, transform=transforms.ToTensor())\n",
    "\n",
    "lClasses = oTorchTrainSet.classes\n",
    "mX       = oTorchTrainSet.data.view(-1,784).numpy() / 255\n",
    "vY       = oTorchTrainSet.targets.numpy()\n",
    "mX.shape, vY.shape"
   ]
  },
  {
   "cell_type": "markdown",
   "metadata": {},
   "source": [
    "#### Classes:"
   ]
  },
  {
   "cell_type": "code",
   "execution_count": 6,
   "metadata": {},
   "outputs": [
    {
     "data": {
      "text/plain": [
       "[(0, 'T-shirt/top'),\n",
       " (1, 'Trouser'),\n",
       " (2, 'Pullover'),\n",
       " (3, 'Dress'),\n",
       " (4, 'Coat'),\n",
       " (5, 'Sandal'),\n",
       " (6, 'Shirt'),\n",
       " (7, 'Sneaker'),\n",
       " (8, 'Bag'),\n",
       " (9, 'Ankle boot')]"
      ]
     },
     "execution_count": 6,
     "metadata": {},
     "output_type": "execute_result"
    }
   ],
   "source": [
    "list(zip(range(10), lClasses))"
   ]
  },
  {
   "cell_type": "code",
   "execution_count": 7,
   "metadata": {},
   "outputs": [
    {
     "data": {
      "image/png": "[encoded data removed]",
      "text/plain": [
       "<Figure size 864x432 with 6 Axes>"
      ]
     },
     "metadata": {
      "needs_background": "light"
     },
     "output_type": "display_data"
    }
   ],
   "source": [
    "#-- Plot a few examples:\n",
    "N, d   = mX.shape\n",
    "fig, _ = plt.subplots(2, 3, figsize=(12, 6))\n",
    "for ax in fig.axes:\n",
    "    idx = np.random.randint(N)\n",
    "    ax.imshow   (np.reshape(mX[idx,:], (28, 28)), cmap='gray')\n",
    "    ax.set_title(f'True label: {lClasses[vY[idx]]}')\n",
    "    \n",
    "plt.tight_layout()\n",
    "plt.show()"
   ]
  },
  {
   "cell_type": "markdown",
   "metadata": {},
   "source": [
    "###  Split to train and validation:"
   ]
  },
  {
   "cell_type": "code",
   "execution_count": 8,
   "metadata": {},
   "outputs": [
    {
     "data": {
      "text/plain": [
       "((55000, 784), (55000,), (5000, 784), (5000,))"
      ]
     },
     "execution_count": 8,
     "metadata": {},
     "output_type": "execute_result"
    }
   ],
   "source": [
    "from sklearn.model_selection import train_test_split\n",
    "\n",
    "Ntrain = 55000\n",
    "Nval   = 5000\n",
    "mTrainX, mValX, vTrainY, vValY = train_test_split(mX, vY, train_size=Ntrain, test_size=Nval)\n",
    "\n",
    "(mTrainX.shape, \n",
    "vTrainY.shape, \n",
    "mValX.shape,  \n",
    "vValY.shape)"
   ]
  },
  {
   "cell_type": "markdown",
   "metadata": {},
   "source": [
    "### Define the training loop:"
   ]
  },
  {
   "cell_type": "code",
   "execution_count": 9,
   "metadata": {},
   "outputs": [],
   "source": [
    "import time\n",
    "\n",
    "#-- Classification accuracy:\n",
    "def Accuracy(mScore, vY):\n",
    "    vHatY    = np.argmax(mScore, axis=0)\n",
    "    accuracy = (vHatY == vY).mean()\n",
    "    return accuracy\n",
    "    \n",
    "#--------------------------------------------------------------------------------#\n",
    "#--------------------------------------------------------------------------------#\n",
    "def TrainEpoch(oModel, mX, vY, learningRate):\n",
    "    #-- Forward:\n",
    "    mZ        = oModel.Forward(mX)\n",
    "    loss, mDz = CrossEntropyLoss(vY, mZ)\n",
    "\n",
    "    #-- Backward:\n",
    "    oModel.Backward(mDz)\n",
    "\n",
    "    #-- Update parameters (vanilla gradient descnet)\n",
    "    for oLayer in oModel.lLayers:\n",
    "        for sParam in oLayer.dGrads:\n",
    "            oLayer.dParams[sParam] -= learningRate * oLayer.dGrads[sParam]\n",
    "              \n",
    "    #-- Check accuracy:\n",
    "    acc = Accuracy(mZ, vY)\n",
    "            \n",
    "    return loss, acc\n",
    "\n",
    "#--------------------------------------------------------------------------------#\n",
    "#--------------------------------------------------------------------------------#\n",
    "def ValidationEpoch(oModel, mX, vY):\n",
    "    #-- Forward:\n",
    "    mZ      = oModel.Forward(mX)\n",
    "    loss, _ = CrossEntropyLoss(vY, mZ)\n",
    "    acc     = Accuracy(mZ, vY)\n",
    "    \n",
    "    return loss, acc"
   ]
  },
  {
   "cell_type": "code",
   "execution_count": 10,
   "metadata": {},
   "outputs": [],
   "source": [
    "def TrainModel(oModel, mTrainX, vTrainY, mValX, vValY, numEpochs, learningRate):\n",
    "    lTrainLoss = []\n",
    "    lValLoss   = []\n",
    "    lTrainAcc  = []\n",
    "    lValAcc    = []\n",
    "    for epoch in range(numEpochs):\n",
    "        startTime           = time.time()\n",
    "        trainLoss, trainAcc = TrainEpoch     (oModel, mTrainX, vTrainY, learningRate) #-- train\n",
    "        valLoss,   valAcc   = ValidationEpoch(oModel, mValX,   vValY)                 #-- validation\n",
    "        endTime             = time.time()\n",
    "\n",
    "        #-- Display:\n",
    "        print('Epoch '              f'{epoch:3d}:',     end='')\n",
    "        print(' | Train loss: '     f'{trainLoss:.5f}', end='')\n",
    "        print(' | Val loss: '       f'{valLoss:.5f}',   end='')\n",
    "        print(' | Train Accuracy: ' f'{trainAcc:2.4f}', end='')\n",
    "        print(' | Val Accuracy: '   f'{valAcc:2.4f}',   end='')\n",
    "        print(' | epoch time: '     f'{(endTime-startTime):3.3f} |')\n",
    "        \n",
    "        lTrainLoss.append(trainLoss)\n",
    "        lValLoss  .append(valLoss  )\n",
    "        lTrainAcc .append(trainAcc )\n",
    "        lValAcc   .append(valAcc   )\n",
    "    \n",
    "    return lTrainLoss, lValLoss, lTrainAcc, lValAcc"
   ]
  },
  {
   "cell_type": "markdown",
   "metadata": {},
   "source": [
    "#### Train <u>without</u> normalizing and initialization:"
   ]
  },
  {
   "cell_type": "code",
   "execution_count": 17,
   "metadata": {},
   "outputs": [
    {
     "name": "stdout",
     "output_type": "stream",
     "text": [
      "Epoch   0: | Train loss: 2.30246 | Val loss: 2.30118 | Train Accuracy: 0.1417 | Val Accuracy: 0.2620 | epoch time: 0.921 |\n",
      "Epoch   1: | Train loss: 2.30120 | Val loss: 2.29986 | Train Accuracy: 0.2621 | Val Accuracy: 0.3414 | epoch time: 0.844 |\n",
      "Epoch   2: | Train loss: 2.29989 | Val loss: 2.29824 | Train Accuracy: 0.3399 | Val Accuracy: 0.3874 | epoch time: 0.856 |\n",
      "Epoch   3: | Train loss: 2.29828 | Val loss: 2.29617 | Train Accuracy: 0.3833 | Val Accuracy: 0.3878 | epoch time: 0.885 |\n",
      "Epoch   4: | Train loss: 2.29623 | Val loss: 2.29347 | Train Accuracy: 0.3887 | Val Accuracy: 0.3908 | epoch time: 0.870 |\n",
      "Epoch   5: | Train loss: 2.29356 | Val loss: 2.28988 | Train Accuracy: 0.3887 | Val Accuracy: 0.3780 | epoch time: 0.794 |\n",
      "Epoch   6: | Train loss: 2.29001 | Val loss: 2.28503 | Train Accuracy: 0.3805 | Val Accuracy: 0.3690 | epoch time: 0.863 |\n",
      "Epoch   7: | Train loss: 2.28522 | Val loss: 2.27846 | Train Accuracy: 0.3731 | Val Accuracy: 0.3538 | epoch time: 0.900 |\n",
      "Epoch   8: | Train loss: 2.27872 | Val loss: 2.26954 | Train Accuracy: 0.3573 | Val Accuracy: 0.3386 | epoch time: 0.855 |\n",
      "Epoch   9: | Train loss: 2.26990 | Val loss: 2.25750 | Train Accuracy: 0.3390 | Val Accuracy: 0.3138 | epoch time: 0.862 |\n",
      "Epoch  10: | Train loss: 2.25801 | Val loss: 2.24149 | Train Accuracy: 0.3162 | Val Accuracy: 0.2840 | epoch time: 0.984 |\n",
      "Epoch  11: | Train loss: 2.24217 | Val loss: 2.22060 | Train Accuracy: 0.2866 | Val Accuracy: 0.2466 | epoch time: 0.967 |\n",
      "Epoch  12: | Train loss: 2.22150 | Val loss: 2.19403 | Train Accuracy: 0.2474 | Val Accuracy: 0.2372 | epoch time: 1.000 |\n",
      "Epoch  13: | Train loss: 2.19516 | Val loss: 2.16120 | Train Accuracy: 0.2396 | Val Accuracy: 0.2434 | epoch time: 0.915 |\n",
      "Epoch  14: | Train loss: 2.16254 | Val loss: 2.12180 | Train Accuracy: 0.2473 | Val Accuracy: 0.2648 | epoch time: 0.884 |\n",
      "Epoch  15: | Train loss: 2.12333 | Val loss: 2.07585 | Train Accuracy: 0.2660 | Val Accuracy: 0.2908 | epoch time: 0.911 |\n",
      "Epoch  16: | Train loss: 2.07750 | Val loss: 2.02369 | Train Accuracy: 0.2954 | Val Accuracy: 0.3230 | epoch time: 0.966 |\n",
      "Epoch  17: | Train loss: 2.02537 | Val loss: 1.96625 | Train Accuracy: 0.3271 | Val Accuracy: 0.3544 | epoch time: 0.980 |\n",
      "Epoch  18: | Train loss: 1.96790 | Val loss: 1.90522 | Train Accuracy: 0.3559 | Val Accuracy: 0.3750 | epoch time: 0.910 |\n",
      "Epoch  19: | Train loss: 1.90683 | Val loss: 1.84297 | Train Accuracy: 0.3735 | Val Accuracy: 0.3844 | epoch time: 0.888 |\n",
      "Epoch  20: | Train loss: 1.84458 | Val loss: 1.78183 | Train Accuracy: 0.3835 | Val Accuracy: 0.3912 | epoch time: 0.935 |\n",
      "Epoch  21: | Train loss: 1.78352 | Val loss: 1.72342 | Train Accuracy: 0.3916 | Val Accuracy: 0.4018 | epoch time: 0.861 |\n",
      "Epoch  22: | Train loss: 1.72526 | Val loss: 1.66862 | Train Accuracy: 0.4023 | Val Accuracy: 0.4074 | epoch time: 0.877 |\n",
      "Epoch  23: | Train loss: 1.67065 | Val loss: 1.61766 | Train Accuracy: 0.4133 | Val Accuracy: 0.4176 | epoch time: 0.914 |\n",
      "Epoch  24: | Train loss: 1.61987 | Val loss: 1.57051 | Train Accuracy: 0.4254 | Val Accuracy: 0.4364 | epoch time: 0.963 |\n",
      "Epoch  25: | Train loss: 1.57285 | Val loss: 1.52702 | Train Accuracy: 0.4452 | Val Accuracy: 0.4760 | epoch time: 0.943 |\n",
      "Epoch  26: | Train loss: 1.52943 | Val loss: 1.48690 | Train Accuracy: 0.4835 | Val Accuracy: 0.5036 | epoch time: 0.895 |\n",
      "Epoch  27: | Train loss: 1.48932 | Val loss: 1.44982 | Train Accuracy: 0.5159 | Val Accuracy: 0.5160 | epoch time: 0.917 |\n",
      "Epoch  28: | Train loss: 1.45218 | Val loss: 1.41544 | Train Accuracy: 0.5332 | Val Accuracy: 0.5314 | epoch time: 0.943 |\n",
      "Epoch  29: | Train loss: 1.41768 | Val loss: 1.38341 | Train Accuracy: 0.5447 | Val Accuracy: 0.5420 | epoch time: 0.857 |\n"
     ]
    }
   ],
   "source": [
    "oModel = Model([\n",
    "        LinearLayer(784, 200, init=None), ReLULayer(),\n",
    "        LinearLayer(200, 10,  init=None),\n",
    "])\n",
    "\n",
    "nEpochs = 30\n",
    "lr      = 2e-1\n",
    "\n",
    "_, lValLossV1, _, lValAccV1 = TrainModel(oModel, mTrainX.T, vTrainY, mValX.T, vValY, nEpochs, lr)"
   ]
  },
  {
   "cell_type": "markdown",
   "metadata": {},
   "source": [
    "####  Normalize data:\n",
    "Based on the training data"
   ]
  },
  {
   "cell_type": "code",
   "execution_count": 36,
   "metadata": {},
   "outputs": [],
   "source": [
    "vMean = mTrainX.mean(0)\n",
    "vStd  = mTrainX.std (0)\n",
    "\n",
    "mTrainX -= vMean\n",
    "mTrainX /= vStd\n",
    "mValX   -= vMean\n",
    "mValX   /= vStd"
   ]
  },
  {
   "cell_type": "markdown",
   "metadata": {},
   "source": [
    "#### Train <u>with</u> normalizing and initialization:"
   ]
  },
  {
   "cell_type": "code",
   "execution_count": 38,
   "metadata": {},
   "outputs": [
    {
     "name": "stdout",
     "output_type": "stream",
     "text": [
      "Epoch   0: | Train loss: 3.01333 | Val loss: 1.28364 | Train Accuracy: 0.0627 | Val Accuracy: 0.5510 | epoch time: 0.936 |\n",
      "Epoch   1: | Train loss: 1.29452 | Val loss: 1.07734 | Train Accuracy: 0.5485 | Val Accuracy: 0.6400 | epoch time: 1.054 |\n",
      "Epoch   2: | Train loss: 1.07722 | Val loss: 1.03287 | Train Accuracy: 0.6360 | Val Accuracy: 0.6270 | epoch time: 0.958 |\n",
      "Epoch   3: | Train loss: 1.02780 | Val loss: 0.98105 | Train Accuracy: 0.6340 | Val Accuracy: 0.6626 | epoch time: 0.921 |\n",
      "Epoch   4: | Train loss: 0.97354 | Val loss: 0.97650 | Train Accuracy: 0.6636 | Val Accuracy: 0.6612 | epoch time: 0.963 |\n",
      "Epoch   5: | Train loss: 0.95887 | Val loss: 0.87159 | Train Accuracy: 0.6661 | Val Accuracy: 0.7018 | epoch time: 1.003 |\n",
      "Epoch   6: | Train loss: 0.86042 | Val loss: 0.86120 | Train Accuracy: 0.7074 | Val Accuracy: 0.7102 | epoch time: 1.007 |\n",
      "Epoch   7: | Train loss: 0.83610 | Val loss: 0.77466 | Train Accuracy: 0.7129 | Val Accuracy: 0.7360 | epoch time: 0.970 |\n",
      "Epoch   8: | Train loss: 0.76218 | Val loss: 0.74881 | Train Accuracy: 0.7394 | Val Accuracy: 0.7396 | epoch time: 0.980 |\n",
      "Epoch   9: | Train loss: 0.72595 | Val loss: 0.71034 | Train Accuracy: 0.7410 | Val Accuracy: 0.7570 | epoch time: 0.951 |\n",
      "Epoch  10: | Train loss: 0.69701 | Val loss: 0.69402 | Train Accuracy: 0.7602 | Val Accuracy: 0.7588 | epoch time: 0.992 |\n",
      "Epoch  11: | Train loss: 0.67214 | Val loss: 0.67079 | Train Accuracy: 0.7611 | Val Accuracy: 0.7696 | epoch time: 0.951 |\n",
      "Epoch  12: | Train loss: 0.65648 | Val loss: 0.66058 | Train Accuracy: 0.7723 | Val Accuracy: 0.7728 | epoch time: 0.999 |\n",
      "Epoch  13: | Train loss: 0.63875 | Val loss: 0.64355 | Train Accuracy: 0.7757 | Val Accuracy: 0.7792 | epoch time: 0.996 |\n",
      "Epoch  14: | Train loss: 0.62839 | Val loss: 0.63839 | Train Accuracy: 0.7823 | Val Accuracy: 0.7848 | epoch time: 0.967 |\n",
      "Epoch  15: | Train loss: 0.61608 | Val loss: 0.62295 | Train Accuracy: 0.7839 | Val Accuracy: 0.7852 | epoch time: 0.950 |\n",
      "Epoch  16: | Train loss: 0.60707 | Val loss: 0.62195 | Train Accuracy: 0.7885 | Val Accuracy: 0.7920 | epoch time: 0.962 |\n",
      "Epoch  17: | Train loss: 0.59905 | Val loss: 0.60572 | Train Accuracy: 0.7909 | Val Accuracy: 0.7914 | epoch time: 0.988 |\n",
      "Epoch  18: | Train loss: 0.58928 | Val loss: 0.60771 | Train Accuracy: 0.7933 | Val Accuracy: 0.7960 | epoch time: 1.003 |\n",
      "Epoch  19: | Train loss: 0.58432 | Val loss: 0.59098 | Train Accuracy: 0.7955 | Val Accuracy: 0.7950 | epoch time: 0.938 |\n",
      "Epoch  20: | Train loss: 0.57414 | Val loss: 0.59540 | Train Accuracy: 0.7975 | Val Accuracy: 0.7978 | epoch time: 0.938 |\n",
      "Epoch  21: | Train loss: 0.57158 | Val loss: 0.57973 | Train Accuracy: 0.8000 | Val Accuracy: 0.7982 | epoch time: 0.964 |\n",
      "Epoch  22: | Train loss: 0.56280 | Val loss: 0.58750 | Train Accuracy: 0.8007 | Val Accuracy: 0.7992 | epoch time: 0.912 |\n",
      "Epoch  23: | Train loss: 0.56320 | Val loss: 0.57417 | Train Accuracy: 0.8018 | Val Accuracy: 0.7962 | epoch time: 0.933 |\n",
      "Epoch  24: | Train loss: 0.55758 | Val loss: 0.58746 | Train Accuracy: 0.8013 | Val Accuracy: 0.7956 | epoch time: 0.915 |\n",
      "Epoch  25: | Train loss: 0.56263 | Val loss: 0.57662 | Train Accuracy: 0.8004 | Val Accuracy: 0.7944 | epoch time: 0.955 |\n",
      "Epoch  26: | Train loss: 0.56077 | Val loss: 0.59500 | Train Accuracy: 0.7984 | Val Accuracy: 0.7924 | epoch time: 0.849 |\n",
      "Epoch  27: | Train loss: 0.56982 | Val loss: 0.58154 | Train Accuracy: 0.7961 | Val Accuracy: 0.7918 | epoch time: 0.860 |\n",
      "Epoch  28: | Train loss: 0.56622 | Val loss: 0.59526 | Train Accuracy: 0.7957 | Val Accuracy: 0.7930 | epoch time: 0.914 |\n",
      "Epoch  29: | Train loss: 0.56987 | Val loss: 0.57268 | Train Accuracy: 0.7951 | Val Accuracy: 0.7960 | epoch time: 0.944 |\n"
     ]
    }
   ],
   "source": [
    "oModel = Model([\n",
    "        LinearLayer(784, 200, init='Kaiming'),\n",
    "        ReLULayer(),\n",
    "        LinearLayer(200, 10,  init='Xavier'),   \n",
    "])\n",
    "\n",
    "nEpochs = 30\n",
    "lr      = 2e-1\n",
    "\n",
    "_, lValLossV2, _, lValAccV2 = TrainModel(oModel, mTrainX.T, vTrainY, mValX.T, vValY, nEpochs, lr)"
   ]
  },
  {
   "cell_type": "markdown",
   "metadata": {},
   "source": [
    "### Compare the two configurations:"
   ]
  },
  {
   "cell_type": "code",
   "execution_count": 40,
   "metadata": {},
   "outputs": [
    {
     "data": {
      "image/png": "[encoded data removed]",
      "text/plain": [
       "<Figure size 1152x432 with 2 Axes>"
      ]
     },
     "metadata": {
      "needs_background": "light"
     },
     "output_type": "display_data"
    }
   ],
   "source": [
    "plt.figure(figsize=(16, 6))\n",
    "plt.subplot(1,2,1)\n",
    "plt.plot   (lValLossV1, 'b', label='without normalization and initialization')\n",
    "plt.plot   (lValLossV2, 'r', label='with normalization and initialization')\n",
    "plt.title  ('Validation loss')\n",
    "plt.xlabel ('Epoch')\n",
    "plt.grid   ()\n",
    "plt.legend ()\n",
    "\n",
    "plt.subplot(1,2,2)\n",
    "plt.plot   (lValAccV1, 'b', label='without normalization and initialization')\n",
    "plt.plot   (lValAccV2, 'r', label='with normalization and initialization')\n",
    "plt.title  ('Validation accuracy')\n",
    "plt.xlabel ('Epoch')\n",
    "plt.grid   ()\n",
    "plt.legend ()\n",
    "\n",
    "plt.tight_layout()\n",
    "plt.show()"
   ]
  },
  {
   "cell_type": "markdown",
   "metadata": {},
   "source": [
    "### Exercise\n",
    "Implement the `CountParameters` function\n",
    "* Input: A model.\n",
    "* Output: The number of parameters in the model."
   ]
  },
  {
   "cell_type": "code",
   "execution_count": 30,
   "metadata": {},
   "outputs": [],
   "source": [
    "def CountParameters(oModel):\n",
    "    ???\n",
    "\n",
    "    return nParams"
   ]
  },
  {
   "cell_type": "code",
   "execution_count": 31,
   "metadata": {},
   "outputs": [
    {
     "name": "stdout",
     "output_type": "stream",
     "text": [
      "Object `?` not found.\n"
     ]
    },
    {
     "data": {
      "text/plain": [
       "159010"
      ]
     },
     "execution_count": 31,
     "metadata": {},
     "output_type": "execute_result"
    }
   ],
   "source": [
    "oModel = Model([\n",
    "        LinearLayer(784, 200, init=None), ReLULayer(),\n",
    "        LinearLayer(200, 10,  init=None),\n",
    "])\n",
    "\n",
    "CountParameters(oModel)"
   ]
  },
  {
   "cell_type": "code",
   "execution_count": null,
   "metadata": {},
   "outputs": [],
   "source": []
  },
  {
   "cell_type": "code",
   "execution_count": null,
   "metadata": {},
   "outputs": [],
   "source": []
  },
  {
   "cell_type": "code",
   "execution_count": null,
   "metadata": {},
   "outputs": [],
   "source": []
  },
  {
   "cell_type": "code",
   "execution_count": null,
   "metadata": {},
   "outputs": [],
   "source": []
  },
  {
   "cell_type": "code",
   "execution_count": null,
   "metadata": {},
   "outputs": [],
   "source": []
  },
  {
   "cell_type": "code",
   "execution_count": null,
   "metadata": {},
   "outputs": [],
   "source": []
  },
  {
   "cell_type": "code",
   "execution_count": null,
   "metadata": {},
   "outputs": [],
   "source": []
  },
  {
   "cell_type": "code",
   "execution_count": null,
   "metadata": {},
   "outputs": [],
   "source": []
  },
  {
   "cell_type": "code",
   "execution_count": null,
   "metadata": {},
   "outputs": [],
   "source": []
  },
  {
   "cell_type": "code",
   "execution_count": null,
   "metadata": {},
   "outputs": [],
   "source": []
  },
  {
   "cell_type": "code",
   "execution_count": null,
   "metadata": {},
   "outputs": [],
   "source": []
  },
  {
   "cell_type": "code",
   "execution_count": null,
   "metadata": {},
   "outputs": [],
   "source": []
  },
  {
   "cell_type": "code",
   "execution_count": null,
   "metadata": {},
   "outputs": [],
   "source": []
  },
  {
   "cell_type": "code",
   "execution_count": null,
   "metadata": {},
   "outputs": [],
   "source": []
  },
  {
   "cell_type": "code",
   "execution_count": null,
   "metadata": {},
   "outputs": [],
   "source": []
  },
  {
   "cell_type": "code",
   "execution_count": null,
   "metadata": {},
   "outputs": [],
   "source": []
  },
  {
   "cell_type": "code",
   "execution_count": null,
   "metadata": {},
   "outputs": [],
   "source": []
  },
  {
   "cell_type": "code",
   "execution_count": null,
   "metadata": {},
   "outputs": [],
   "source": []
  },
  {
   "cell_type": "code",
   "execution_count": null,
   "metadata": {},
   "outputs": [],
   "source": []
  },
  {
   "cell_type": "code",
   "execution_count": null,
   "metadata": {},
   "outputs": [],
   "source": []
  },
  {
   "cell_type": "code",
   "execution_count": null,
   "metadata": {},
   "outputs": [],
   "source": []
  },
  {
   "cell_type": "code",
   "execution_count": null,
   "metadata": {},
   "outputs": [],
   "source": []
  },
  {
   "cell_type": "code",
   "execution_count": null,
   "metadata": {},
   "outputs": [],
   "source": []
  },
  {
   "cell_type": "code",
   "execution_count": null,
   "metadata": {},
   "outputs": [],
   "source": []
  },
  {
   "cell_type": "code",
   "execution_count": null,
   "metadata": {},
   "outputs": [],
   "source": []
  },
  {
   "cell_type": "code",
   "execution_count": null,
   "metadata": {},
   "outputs": [],
   "source": []
  },
  {
   "cell_type": "code",
   "execution_count": null,
   "metadata": {},
   "outputs": [],
   "source": []
  },
  {
   "cell_type": "code",
   "execution_count": null,
   "metadata": {},
   "outputs": [],
   "source": []
  },
  {
   "cell_type": "code",
   "execution_count": null,
   "metadata": {},
   "outputs": [],
   "source": []
  },
  {
   "cell_type": "code",
   "execution_count": null,
   "metadata": {},
   "outputs": [],
   "source": []
  },
  {
   "cell_type": "code",
   "execution_count": null,
   "metadata": {},
   "outputs": [],
   "source": []
  },
  {
   "cell_type": "code",
   "execution_count": null,
   "metadata": {},
   "outputs": [],
   "source": []
  },
  {
   "cell_type": "code",
   "execution_count": null,
   "metadata": {},
   "outputs": [],
   "source": []
  },
  {
   "cell_type": "code",
   "execution_count": null,
   "metadata": {},
   "outputs": [],
   "source": []
  },
  {
   "cell_type": "code",
   "execution_count": null,
   "metadata": {},
   "outputs": [],
   "source": []
  },
  {
   "cell_type": "code",
   "execution_count": null,
   "metadata": {},
   "outputs": [],
   "source": []
  },
  {
   "cell_type": "code",
   "execution_count": null,
   "metadata": {},
   "outputs": [],
   "source": []
  },
  {
   "cell_type": "code",
   "execution_count": null,
   "metadata": {},
   "outputs": [],
   "source": []
  },
  {
   "cell_type": "code",
   "execution_count": null,
   "metadata": {},
   "outputs": [],
   "source": []
  },
  {
   "cell_type": "code",
   "execution_count": null,
   "metadata": {},
   "outputs": [],
   "source": []
  },
  {
   "cell_type": "code",
   "execution_count": null,
   "metadata": {},
   "outputs": [],
   "source": []
  },
  {
   "cell_type": "code",
   "execution_count": null,
   "metadata": {},
   "outputs": [],
   "source": []
  },
  {
   "cell_type": "code",
   "execution_count": null,
   "metadata": {},
   "outputs": [],
   "source": []
  },
  {
   "cell_type": "code",
   "execution_count": null,
   "metadata": {},
   "outputs": [],
   "source": []
  },
  {
   "cell_type": "code",
   "execution_count": null,
   "metadata": {},
   "outputs": [],
   "source": []
  },
  {
   "cell_type": "code",
   "execution_count": null,
   "metadata": {},
   "outputs": [],
   "source": []
  },
  {
   "cell_type": "code",
   "execution_count": null,
   "metadata": {},
   "outputs": [],
   "source": []
  },
  {
   "cell_type": "code",
   "execution_count": null,
   "metadata": {},
   "outputs": [],
   "source": []
  },
  {
   "cell_type": "code",
   "execution_count": null,
   "metadata": {},
   "outputs": [],
   "source": []
  },
  {
   "cell_type": "code",
   "execution_count": null,
   "metadata": {},
   "outputs": [],
   "source": []
  },
  {
   "cell_type": "code",
   "execution_count": null,
   "metadata": {},
   "outputs": [],
   "source": []
  },
  {
   "cell_type": "code",
   "execution_count": null,
   "metadata": {},
   "outputs": [],
   "source": []
  },
  {
   "cell_type": "code",
   "execution_count": null,
   "metadata": {},
   "outputs": [],
   "source": []
  },
  {
   "cell_type": "code",
   "execution_count": null,
   "metadata": {},
   "outputs": [],
   "source": []
  },
  {
   "cell_type": "code",
   "execution_count": null,
   "metadata": {},
   "outputs": [],
   "source": []
  },
  {
   "cell_type": "code",
   "execution_count": null,
   "metadata": {},
   "outputs": [],
   "source": []
  },
  {
   "cell_type": "code",
   "execution_count": null,
   "metadata": {},
   "outputs": [],
   "source": []
  },
  {
   "cell_type": "code",
   "execution_count": null,
   "metadata": {},
   "outputs": [],
   "source": []
  },
  {
   "cell_type": "code",
   "execution_count": null,
   "metadata": {},
   "outputs": [],
   "source": []
  },
  {
   "cell_type": "code",
   "execution_count": null,
   "metadata": {},
   "outputs": [],
   "source": []
  },
  {
   "cell_type": "code",
   "execution_count": null,
   "metadata": {},
   "outputs": [],
   "source": []
  },
  {
   "cell_type": "code",
   "execution_count": null,
   "metadata": {},
   "outputs": [],
   "source": []
  },
  {
   "cell_type": "code",
   "execution_count": null,
   "metadata": {},
   "outputs": [],
   "source": []
  },
  {
   "cell_type": "code",
   "execution_count": null,
   "metadata": {},
   "outputs": [],
   "source": []
  },
  {
   "cell_type": "code",
   "execution_count": null,
   "metadata": {},
   "outputs": [],
   "source": []
  },
  {
   "cell_type": "code",
   "execution_count": null,
   "metadata": {},
   "outputs": [],
   "source": []
  },
  {
   "cell_type": "code",
   "execution_count": null,
   "metadata": {},
   "outputs": [],
   "source": []
  },
  {
   "cell_type": "code",
   "execution_count": null,
   "metadata": {},
   "outputs": [],
   "source": []
  },
  {
   "cell_type": "code",
   "execution_count": null,
   "metadata": {},
   "outputs": [],
   "source": [
    "# def CountParameters(oModel):\n",
    "#     nParams = 0\n",
    "#     for oLayer in oModel.lLayers:\n",
    "#         for key in oLayer.dParams:\n",
    "#             nParams += oLayer.dParams[key].size()\n",
    "\n",
    "#     return nParams"
   ]
  }
 ],
 "metadata": {
  "kernelspec": {
   "display_name": "Python 3",
   "language": "python",
   "name": "python3"
  },
  "language_info": {
   "codemirror_mode": {
    "name": "ipython",
    "version": 3
   },
   "file_extension": ".py",
   "mimetype": "text/x-python",
   "name": "python",
   "nbconvert_exporter": "python",
   "pygments_lexer": "ipython3",
   "version": "3.8.8"
  },
  "toc": {
   "base_numbering": 1,
   "nav_menu": {},
   "number_sections": false,
   "sideBar": true,
   "skip_h1_title": false,
   "title_cell": "Table of Contents",
   "title_sidebar": "Contents",
   "toc_cell": false,
   "toc_position": {},
   "toc_section_display": true,
   "toc_window_display": false
  },
  "varInspector": {
   "cols": {
    "lenName": 16,
    "lenType": 16,
    "lenVar": 40
   },
   "kernels_config": {
    "python": {
     "delete_cmd_postfix": "",
     "delete_cmd_prefix": "del ",
     "library": "var_list.py",
     "varRefreshCmd": "print(var_dic_list())"
    },
    "r": {
     "delete_cmd_postfix": ") ",
     "delete_cmd_prefix": "rm(",
     "library": "var_list.r",
     "varRefreshCmd": "cat(var_dic_list()) "
    }
   },
   "types_to_exclude": [
    "module",
    "function",
    "builtin_function_or_method",
    "instance",
    "_Feature"
   ],
   "window_display": false
  }
 },
 "nbformat": 4,
 "nbformat_minor": 4
}
