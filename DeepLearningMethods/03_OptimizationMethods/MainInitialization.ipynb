{
 "cells": [
  {
   "cell_type": "markdown",
   "metadata": {},
   "source": [
    "![Fixel Algorithms](https://fixelalgorithms.co/images/CCExt.png)"
   ]
  },
  {
   "cell_type": "markdown",
   "metadata": {},
   "source": [
    "# <center> Deep Learning Methods </center>\n",
    "## <center> Lecture 3 - Optimization Methods </center>\n",
    "### <center> Data Pre-processing and Weights Initialization</center>"
   ]
  },
  {
   "cell_type": "markdown",
   "metadata": {},
   "source": [
    "[![Open In Colab](https://colab.research.google.com/assets/colab-badge.svg)](https://colab.research.google.com/github/FixelAlgorithmsTeam/FixelCourses/blob/master/DeepLearningMethods/03_OptimizationMethods/MainInitialization.ipynb)"
   ]
  },
  {
   "cell_type": "code",
   "execution_count": 1,
   "metadata": {},
   "outputs": [
    {
     "data": {
      "text/html": [
       "<style>.container { width:80% !important; }</style>"
      ],
      "text/plain": [
       "<IPython.core.display.HTML object>"
      ]
     },
     "metadata": {},
     "output_type": "display_data"
    }
   ],
   "source": [
    "#-- Wide screen:\n",
    "from IPython.core.display import display, HTML\n",
    "display(HTML(\"<style>.container { width:80% !important; }</style>\"))"
   ]
  },
  {
   "cell_type": "code",
   "execution_count": 2,
   "metadata": {},
   "outputs": [],
   "source": [
    "import numpy             as np\n",
    "import matplotlib.pyplot as plt\n",
    "import matplotlib\n",
    "\n",
    "matplotlib.rc('font', **{'size' : 16})\n",
    "np.random.seed(1)"
   ]
  },
  {
   "cell_type": "markdown",
   "metadata": {},
   "source": [
    "###  What we have so far:\n",
    "This part will grow so we will move this to its own module"
   ]
  },
  {
   "cell_type": "code",
   "execution_count": 3,
   "metadata": {},
   "outputs": [],
   "source": [
    "class ReLULayer:\n",
    "    def __init__(self):\n",
    "        self.dParams = {}\n",
    "        self.dGrads  = {}\n",
    "    \n",
    "    def Forward(self, mX):\n",
    "        self.mX = mX                 #-- store for Backward\n",
    "        mZ      = np.maximum(mX, 0)\n",
    "        \n",
    "        return mZ\n",
    "    \n",
    "    def Backward(self, mDz):\n",
    "        mX    = self.mX\n",
    "        mMask = (mX > 0).astype(np.float32)\n",
    "        mDx   = mDz * mMask\n",
    "                \n",
    "        return mDx\n",
    "\n",
    "#--------------------------------------------------------------------------------#\n",
    "#--------------------------------------------------------------------------------#\n",
    "def CrossEntropyLoss(vY, mZ):\n",
    "    '''\n",
    "    Returns both the loss and the gradient w.r.t the input (mZ)\n",
    "    '''\n",
    "    N      = len(vY)\n",
    "    mHatY  = np.exp(mZ)\n",
    "    mHatY /= np.sum(mHatY, axis=0)\n",
    "    loss   = -np.log(mHatY[vY,range(N)]).mean()\n",
    "    \n",
    "    mDz               = mHatY\n",
    "    mDz[vY,range(N)] -= 1\n",
    "    mDz              /= N\n",
    "    \n",
    "    return loss, mDz\n",
    "\n",
    "#--------------------------------------------------------------------------------#\n",
    "#--------------------------------------------------------------------------------#\n",
    "class Model:\n",
    "    def __init__(self, lLayers):\n",
    "        self.lLayers = lLayers\n",
    "\n",
    "    def Forward(self, mX):\n",
    "        for oLayer in self.lLayers:\n",
    "            mX = oLayer.Forward(mX)\n",
    "        return mX\n",
    "\n",
    "    def Backward(self, mDz):\n",
    "        for oLayer in reversed(self.lLayers):\n",
    "            mDz = oLayer.Backward(mDz)"
   ]
  },
  {
   "cell_type": "markdown",
   "metadata": {},
   "source": [
    "#### Adding Kaiming (and Xavier) initialization to the linear layer:\n",
    "$$\\boldsymbol{W}\\left[i,j\\right]=\\mathcal{N}\\left(0,\\sigma_w^2\\right)$$\n",
    "where:\n",
    "* Xavier - $\\sigma_{w}^{2}=\\frac{1}{d}$\n",
    "* Kaiming - $\\sigma_{w}^{2}=\\frac{2}{d}$\n",
    "* $d$ is the input dimension."
   ]
  },
  {
   "cell_type": "code",
   "execution_count": 4,
   "metadata": {},
   "outputs": [],
   "source": [
    "class LinearLayer:\n",
    "    def __init__(self, dIn, dOut, init='Kaiming'):\n",
    "        if   init == 'Kaiming': mW = np.random.randn(dOut, dIn) * np.sqrt(2 / dIn)\n",
    "        elif init == 'Xavier':  mW = np.random.randn(dOut, dIn) * np.sqrt(1 / dIn)\n",
    "        else:                   mW = np.random.randn(dOut, dIn) / dIn #-- this is how we initialize previously\n",
    "        \n",
    "        vB = np.zeros(dOut)\n",
    "\n",
    "        self.dParams = {'mW' : mW,   'vB': vB}\n",
    "        self.dGrads  = {'mW' : None, 'vB' : None}\n",
    "\n",
    "    def Forward(self, mX):\n",
    "        mW      = self.dParams['mW']\n",
    "        vB      = self.dParams['vB']\n",
    "        self.mX = mX                   #-- store for Backward\n",
    "        mZ      = mW @ mX + vB[:,None]\n",
    "\n",
    "        return mZ\n",
    "\n",
    "    def Backward(self, mDz):\n",
    "        mW  = self.dParams['mW']\n",
    "        mX  = self.mX\n",
    "        \n",
    "        vDb = mDz.sum(1)\n",
    "        mDw = mDz  @ mX.T\n",
    "        mDx = mW.T @ mDz\n",
    "        \n",
    "        self.dGrads['vB'] = vDb\n",
    "        self.dGrads['mW'] = mDw\n",
    "\n",
    "        return mDx\n"
   ]
  },
  {
   "cell_type": "markdown",
   "metadata": {},
   "source": [
    "### Get Fashion MNIST dataset\n",
    "We use the test set for validation."
   ]
  },
  {
   "cell_type": "code",
   "execution_count": 5,
   "metadata": {},
   "outputs": [
    {
     "data": {
      "text/plain": [
       "((60000, 784), (60000,), (10000, 784), (10000,))"
      ]
     },
     "execution_count": 5,
     "metadata": {},
     "output_type": "execute_result"
    }
   ],
   "source": [
    "import torchvision\n",
    "import torchvision.transforms as transforms\n",
    "\n",
    "#-- For now, we use PyTorch just to get the data:\n",
    "oTrainSet = torchvision.datasets.FashionMNIST(root='../../data', train=True,  download=True, transform=transforms.ToTensor())\n",
    "oTestSet  = torchvision.datasets.FashionMNIST(root='../../data', train=False, download=True, transform=transforms.ToTensor())\n",
    "\n",
    "lClasses = oTrainSet.classes\n",
    "mTrainX  = oTrainSet.data.view(-1,784).numpy() / 255\n",
    "mTestX   = oTestSet .data.view(-1,784).numpy() / 255\n",
    "vTrainY  = oTrainSet.targets.numpy()\n",
    "vTestY   = oTestSet .targets.numpy()\n",
    "\n",
    "(\n",
    "mTrainX.shape, \n",
    "vTrainY.shape, \n",
    "mTestX .shape,  \n",
    "vTestY .shape\n",
    ")"
   ]
  },
  {
   "cell_type": "markdown",
   "metadata": {},
   "source": [
    "#### Classes:"
   ]
  },
  {
   "cell_type": "code",
   "execution_count": 6,
   "metadata": {},
   "outputs": [
    {
     "data": {
      "text/plain": [
       "[(0, 'T-shirt/top'),\n",
       " (1, 'Trouser'),\n",
       " (2, 'Pullover'),\n",
       " (3, 'Dress'),\n",
       " (4, 'Coat'),\n",
       " (5, 'Sandal'),\n",
       " (6, 'Shirt'),\n",
       " (7, 'Sneaker'),\n",
       " (8, 'Bag'),\n",
       " (9, 'Ankle boot')]"
      ]
     },
     "execution_count": 6,
     "metadata": {},
     "output_type": "execute_result"
    }
   ],
   "source": [
    "list(zip(range(10), lClasses))"
   ]
  },
  {
   "cell_type": "code",
   "execution_count": 7,
   "metadata": {},
   "outputs": [
    {
     "data": {
      "image/png": "[encoded data removed]",
      "text/plain": [
       "<Figure size 864x432 with 6 Axes>"
      ]
     },
     "metadata": {
      "needs_background": "light"
     },
     "output_type": "display_data"
    }
   ],
   "source": [
    "#-- Plot a few examples:\n",
    "N, d   = mTrainX.shape\n",
    "fig, _ = plt.subplots(2, 3, figsize=(12, 6))\n",
    "for ax in fig.axes:\n",
    "    idx = np.random.randint(N)\n",
    "    ax.imshow   (np.reshape(mTrainX[idx,:], (28, 28)), cmap='gray')\n",
    "    ax.set_title(f'True label: {lClasses[vTrainY[idx]]}')\n",
    "    \n",
    "plt.tight_layout()\n",
    "plt.show()"
   ]
  },
  {
   "cell_type": "markdown",
   "metadata": {},
   "source": [
    "### Define the training loop:\n",
    "`mScore` is the network output (before the softmax), a.k.a <u>logits</u>."
   ]
  },
  {
   "cell_type": "code",
   "execution_count": 8,
   "metadata": {},
   "outputs": [],
   "source": [
    "import time\n",
    "\n",
    "#-- Classification accuracy:\n",
    "def Accuracy(mScore, vY):\n",
    "    vHatY    = np.argmax(mScore, axis=0)\n",
    "    accuracy = (vHatY == vY).mean()\n",
    "    return accuracy\n",
    "    \n",
    "#--------------------------------------------------------------------------------#\n",
    "#--------------------------------------------------------------------------------#\n",
    "def TrainEpoch(oModel, mX, vY, learningRate):\n",
    "    #-- Forward:\n",
    "    mZ        = oModel.Forward(mX)\n",
    "    loss, mDz = CrossEntropyLoss(vY, mZ)\n",
    "\n",
    "    #-- Backward:\n",
    "    oModel.Backward(mDz)\n",
    "\n",
    "    #-- Update parameters (vanilla gradient descnet)\n",
    "    for oLayer in oModel.lLayers:\n",
    "        for sParam in oLayer.dGrads:\n",
    "            oLayer.dParams[sParam] -= learningRate * oLayer.dGrads[sParam]\n",
    "              \n",
    "    #-- Check accuracy:\n",
    "    acc = Accuracy(mZ, vY)\n",
    "            \n",
    "    return loss, acc\n",
    "\n",
    "#--------------------------------------------------------------------------------#\n",
    "#--------------------------------------------------------------------------------#\n",
    "def ValidationEpoch(oModel, mX, vY):\n",
    "    #-- Forward:\n",
    "    mZ      = oModel.Forward(mX)\n",
    "    loss, _ = CrossEntropyLoss(vY, mZ)\n",
    "    acc     = Accuracy(mZ, vY)\n",
    "    \n",
    "    return loss, acc"
   ]
  },
  {
   "cell_type": "code",
   "execution_count": 9,
   "metadata": {},
   "outputs": [],
   "source": [
    "def TrainModel(oModel, mTrainX, vTrainY, mValX, vValY, numEpochs, learningRate):\n",
    "    lTrainLoss = []\n",
    "    lValLoss   = []\n",
    "    lTrainAcc  = []\n",
    "    lValAcc    = []\n",
    "    for epoch in range(numEpochs):\n",
    "        startTime           = time.time()\n",
    "        trainLoss, trainAcc = TrainEpoch     (oModel, mTrainX, vTrainY, learningRate) #-- train\n",
    "        valLoss,   valAcc   = ValidationEpoch(oModel, mValX,   vValY)                 #-- validation\n",
    "        endTime             = time.time()\n",
    "\n",
    "        #-- Display:\n",
    "        print('Epoch '              f'{epoch    :3d}:',  end='')\n",
    "        print(' | Train loss: '     f'{trainLoss:6.3f}', end='')\n",
    "        print(' | Val loss: '       f'{valLoss  :6.3f}', end='')\n",
    "        print(' | Train Accuracy: ' f'{trainAcc :6.3f}', end='')\n",
    "        print(' | Val Accuracy: '   f'{valAcc   :6.3f}', end='')\n",
    "        print(' | epoch time: '     f'{(endTime-startTime):6.3f} |')\n",
    "        \n",
    "        lTrainLoss.append(trainLoss)\n",
    "        lValLoss  .append(valLoss  )\n",
    "        lTrainAcc .append(trainAcc )\n",
    "        lValAcc   .append(valAcc   )\n",
    "    \n",
    "    return lTrainLoss, lValLoss, lTrainAcc, lValAcc"
   ]
  },
  {
   "cell_type": "markdown",
   "metadata": {},
   "source": [
    "#### Train <u>without</u> normalizing and initialization:"
   ]
  },
  {
   "cell_type": "code",
   "execution_count": 10,
   "metadata": {},
   "outputs": [
    {
     "name": "stdout",
     "output_type": "stream",
     "text": [
      "Epoch   0: | Train loss:  2.303 | Val loss:  2.301 | Train Accuracy:  0.091 | Val Accuracy:  0.361 | epoch time:  0.502 |\n",
      "Epoch   1: | Train loss:  2.301 | Val loss:  2.300 | Train Accuracy:  0.365 | Val Accuracy:  0.466 | epoch time:  0.531 |\n",
      "Epoch   2: | Train loss:  2.300 | Val loss:  2.298 | Train Accuracy:  0.473 | Val Accuracy:  0.464 | epoch time:  0.534 |\n",
      "Epoch   3: | Train loss:  2.298 | Val loss:  2.295 | Train Accuracy:  0.472 | Val Accuracy:  0.449 | epoch time:  0.555 |\n",
      "Epoch   4: | Train loss:  2.295 | Val loss:  2.292 | Train Accuracy:  0.456 | Val Accuracy:  0.414 | epoch time:  0.519 |\n",
      "Epoch   5: | Train loss:  2.292 | Val loss:  2.287 | Train Accuracy:  0.421 | Val Accuracy:  0.365 | epoch time:  0.508 |\n",
      "Epoch   6: | Train loss:  2.287 | Val loss:  2.281 | Train Accuracy:  0.371 | Val Accuracy:  0.294 | epoch time:  0.526 |\n",
      "Epoch   7: | Train loss:  2.281 | Val loss:  2.272 | Train Accuracy:  0.303 | Val Accuracy:  0.237 | epoch time:  0.489 |\n",
      "Epoch   8: | Train loss:  2.272 | Val loss:  2.260 | Train Accuracy:  0.242 | Val Accuracy:  0.207 | epoch time:  0.522 |\n",
      "Epoch   9: | Train loss:  2.260 | Val loss:  2.244 | Train Accuracy:  0.209 | Val Accuracy:  0.200 | epoch time:  0.534 |\n",
      "Epoch  10: | Train loss:  2.244 | Val loss:  2.223 | Train Accuracy:  0.201 | Val Accuracy:  0.198 | epoch time:  0.530 |\n",
      "Epoch  11: | Train loss:  2.223 | Val loss:  2.197 | Train Accuracy:  0.198 | Val Accuracy:  0.198 | epoch time:  0.521 |\n",
      "Epoch  12: | Train loss:  2.197 | Val loss:  2.166 | Train Accuracy:  0.199 | Val Accuracy:  0.201 | epoch time:  0.532 |\n",
      "Epoch  13: | Train loss:  2.165 | Val loss:  2.128 | Train Accuracy:  0.202 | Val Accuracy:  0.209 | epoch time:  0.518 |\n",
      "Epoch  14: | Train loss:  2.128 | Val loss:  2.086 | Train Accuracy:  0.210 | Val Accuracy:  0.221 | epoch time:  0.502 |\n",
      "Epoch  15: | Train loss:  2.085 | Val loss:  2.038 | Train Accuracy:  0.223 | Val Accuracy:  0.275 | epoch time:  0.524 |\n",
      "Epoch  16: | Train loss:  2.037 | Val loss:  1.985 | Train Accuracy:  0.279 | Val Accuracy:  0.344 | epoch time:  0.502 |\n",
      "Epoch  17: | Train loss:  1.984 | Val loss:  1.928 | Train Accuracy:  0.347 | Val Accuracy:  0.371 | epoch time:  0.498 |\n",
      "Epoch  18: | Train loss:  1.927 | Val loss:  1.870 | Train Accuracy:  0.376 | Val Accuracy:  0.385 | epoch time:  0.527 |\n",
      "Epoch  19: | Train loss:  1.869 | Val loss:  1.812 | Train Accuracy:  0.389 | Val Accuracy:  0.393 | epoch time:  0.501 |\n",
      "Epoch  20: | Train loss:  1.811 | Val loss:  1.757 | Train Accuracy:  0.397 | Val Accuracy:  0.402 | epoch time:  0.477 |\n",
      "Epoch  21: | Train loss:  1.755 | Val loss:  1.705 | Train Accuracy:  0.404 | Val Accuracy:  0.407 | epoch time:  0.534 |\n",
      "Epoch  22: | Train loss:  1.703 | Val loss:  1.656 | Train Accuracy:  0.409 | Val Accuracy:  0.413 | epoch time:  0.525 |\n",
      "Epoch  23: | Train loss:  1.654 | Val loss:  1.611 | Train Accuracy:  0.418 | Val Accuracy:  0.422 | epoch time:  0.509 |\n",
      "Epoch  24: | Train loss:  1.608 | Val loss:  1.569 | Train Accuracy:  0.427 | Val Accuracy:  0.433 | epoch time:  0.497 |\n",
      "Epoch  25: | Train loss:  1.566 | Val loss:  1.530 | Train Accuracy:  0.439 | Val Accuracy:  0.461 | epoch time:  0.493 |\n",
      "Epoch  26: | Train loss:  1.527 | Val loss:  1.494 | Train Accuracy:  0.468 | Val Accuracy:  0.493 | epoch time:  0.497 |\n",
      "Epoch  27: | Train loss:  1.490 | Val loss:  1.460 | Train Accuracy:  0.499 | Val Accuracy:  0.513 | epoch time:  0.498 |\n",
      "Epoch  28: | Train loss:  1.456 | Val loss:  1.428 | Train Accuracy:  0.522 | Val Accuracy:  0.525 | epoch time:  0.524 |\n",
      "Epoch  29: | Train loss:  1.424 | Val loss:  1.399 | Train Accuracy:  0.536 | Val Accuracy:  0.535 | epoch time:  0.492 |\n"
     ]
    }
   ],
   "source": [
    "oModel = Model([\n",
    "        LinearLayer(784, 200, init=None), ReLULayer(),\n",
    "        LinearLayer(200, 10,  init=None),\n",
    "])\n",
    "\n",
    "nEpochs = 30\n",
    "lr      = 2e-1\n",
    "\n",
    "_, lValLossV1, _, lValAccV1 = TrainModel(oModel, mTrainX.T, vTrainY, mTestX.T, vTestY, nEpochs, lr)"
   ]
  },
  {
   "cell_type": "markdown",
   "metadata": {},
   "source": [
    "####  Normalize data:\n",
    "Based on the training data"
   ]
  },
  {
   "cell_type": "code",
   "execution_count": 11,
   "metadata": {},
   "outputs": [],
   "source": [
    "vMean = mTrainX.mean(0)\n",
    "vStd  = mTrainX.std (0)\n",
    "\n",
    "mTrainX -= vMean\n",
    "mTestX  -= vMean\n",
    "mTrainX /= vStd\n",
    "mTestX  /= vStd"
   ]
  },
  {
   "cell_type": "markdown",
   "metadata": {},
   "source": [
    "#### Train <u>with</u> normalizing and initialization:"
   ]
  },
  {
   "cell_type": "code",
   "execution_count": 12,
   "metadata": {},
   "outputs": [
    {
     "name": "stdout",
     "output_type": "stream",
     "text": [
      "Epoch   0: | Train loss:  2.668 | Val loss:  1.285 | Train Accuracy:  0.063 | Val Accuracy:  0.575 | epoch time:  0.557 |\n",
      "Epoch   1: | Train loss:  1.273 | Val loss:  1.049 | Train Accuracy:  0.575 | Val Accuracy:  0.653 | epoch time:  0.561 |\n",
      "Epoch   2: | Train loss:  1.035 | Val loss:  0.947 | Train Accuracy:  0.659 | Val Accuracy:  0.672 | epoch time:  0.559 |\n",
      "Epoch   3: | Train loss:  0.931 | Val loss:  0.915 | Train Accuracy:  0.681 | Val Accuracy:  0.682 | epoch time:  0.522 |\n",
      "Epoch   4: | Train loss:  0.901 | Val loss:  0.944 | Train Accuracy:  0.688 | Val Accuracy:  0.654 | epoch time:  0.529 |\n",
      "Epoch   5: | Train loss:  0.924 | Val loss:  1.048 | Train Accuracy:  0.660 | Val Accuracy:  0.653 | epoch time:  0.533 |\n",
      "Epoch   6: | Train loss:  1.037 | Val loss:  0.895 | Train Accuracy:  0.661 | Val Accuracy:  0.685 | epoch time:  0.595 |\n",
      "Epoch   7: | Train loss:  0.871 | Val loss:  0.822 | Train Accuracy:  0.691 | Val Accuracy:  0.716 | epoch time:  0.604 |\n",
      "Epoch   8: | Train loss:  0.805 | Val loss:  0.761 | Train Accuracy:  0.723 | Val Accuracy:  0.726 | epoch time:  0.542 |\n",
      "Epoch   9: | Train loss:  0.737 | Val loss:  0.727 | Train Accuracy:  0.735 | Val Accuracy:  0.744 | epoch time:  0.583 |\n",
      "Epoch  10: | Train loss:  0.707 | Val loss:  0.698 | Train Accuracy:  0.755 | Val Accuracy:  0.751 | epoch time:  0.546 |\n",
      "Epoch  11: | Train loss:  0.675 | Val loss:  0.677 | Train Accuracy:  0.760 | Val Accuracy:  0.761 | epoch time:  0.544 |\n",
      "Epoch  12: | Train loss:  0.655 | Val loss:  0.659 | Train Accuracy:  0.771 | Val Accuracy:  0.766 | epoch time:  0.562 |\n",
      "Epoch  13: | Train loss:  0.635 | Val loss:  0.644 | Train Accuracy:  0.777 | Val Accuracy:  0.774 | epoch time:  0.566 |\n",
      "Epoch  14: | Train loss:  0.621 | Val loss:  0.633 | Train Accuracy:  0.782 | Val Accuracy:  0.780 | epoch time:  0.560 |\n",
      "Epoch  15: | Train loss:  0.608 | Val loss:  0.622 | Train Accuracy:  0.788 | Val Accuracy:  0.781 | epoch time:  0.564 |\n",
      "Epoch  16: | Train loss:  0.597 | Val loss:  0.613 | Train Accuracy:  0.790 | Val Accuracy:  0.787 | epoch time:  0.570 |\n",
      "Epoch  17: | Train loss:  0.587 | Val loss:  0.604 | Train Accuracy:  0.797 | Val Accuracy:  0.786 | epoch time:  0.531 |\n",
      "Epoch  18: | Train loss:  0.579 | Val loss:  0.597 | Train Accuracy:  0.797 | Val Accuracy:  0.792 | epoch time:  0.548 |\n",
      "Epoch  19: | Train loss:  0.571 | Val loss:  0.591 | Train Accuracy:  0.803 | Val Accuracy:  0.790 | epoch time:  0.550 |\n",
      "Epoch  20: | Train loss:  0.564 | Val loss:  0.585 | Train Accuracy:  0.801 | Val Accuracy:  0.794 | epoch time:  0.543 |\n",
      "Epoch  21: | Train loss:  0.557 | Val loss:  0.580 | Train Accuracy:  0.807 | Val Accuracy:  0.794 | epoch time:  0.548 |\n",
      "Epoch  22: | Train loss:  0.552 | Val loss:  0.576 | Train Accuracy:  0.805 | Val Accuracy:  0.797 | epoch time:  0.539 |\n",
      "Epoch  23: | Train loss:  0.547 | Val loss:  0.571 | Train Accuracy:  0.811 | Val Accuracy:  0.797 | epoch time:  0.569 |\n",
      "Epoch  24: | Train loss:  0.543 | Val loss:  0.568 | Train Accuracy:  0.808 | Val Accuracy:  0.798 | epoch time:  0.538 |\n",
      "Epoch  25: | Train loss:  0.539 | Val loss:  0.565 | Train Accuracy:  0.813 | Val Accuracy:  0.798 | epoch time:  0.583 |\n",
      "Epoch  26: | Train loss:  0.536 | Val loss:  0.563 | Train Accuracy:  0.810 | Val Accuracy:  0.798 | epoch time:  0.572 |\n",
      "Epoch  27: | Train loss:  0.532 | Val loss:  0.561 | Train Accuracy:  0.814 | Val Accuracy:  0.799 | epoch time:  0.538 |\n",
      "Epoch  28: | Train loss:  0.531 | Val loss:  0.558 | Train Accuracy:  0.811 | Val Accuracy:  0.799 | epoch time:  0.587 |\n",
      "Epoch  29: | Train loss:  0.527 | Val loss:  0.557 | Train Accuracy:  0.815 | Val Accuracy:  0.801 | epoch time:  0.550 |\n"
     ]
    }
   ],
   "source": [
    "oModel = Model([\n",
    "        LinearLayer(784, 200, init='Kaiming'),\n",
    "        ReLULayer(),\n",
    "        LinearLayer(200, 10,  init='Xavier'),   \n",
    "])\n",
    "\n",
    "nEpochs = 30\n",
    "lr      = 2e-1\n",
    "\n",
    "_, lValLossV2, _, lValAccV2 = TrainModel(oModel, mTrainX.T, vTrainY, mTestX.T, vTestY, nEpochs, lr)"
   ]
  },
  {
   "cell_type": "markdown",
   "metadata": {},
   "source": [
    "### Compare the two configurations:"
   ]
  },
  {
   "cell_type": "code",
   "execution_count": 13,
   "metadata": {},
   "outputs": [
    {
     "data": {
      "image/png": "[encoded data removed]",
      "text/plain": [
       "<Figure size 1152x432 with 2 Axes>"
      ]
     },
     "metadata": {
      "needs_background": "light"
     },
     "output_type": "display_data"
    }
   ],
   "source": [
    "plt.figure(figsize=(16, 6))\n",
    "plt.subplot(1,2,1)\n",
    "plt.plot   (lValLossV1, 'b', label='without normalization and initialization')\n",
    "plt.plot   (lValLossV2, 'r', label='with normalization and initialization')\n",
    "plt.title  ('Validation loss')\n",
    "plt.xlabel ('Epoch')\n",
    "plt.grid   ()\n",
    "plt.legend ()\n",
    "\n",
    "plt.subplot(1,2,2)\n",
    "plt.plot   (lValAccV1, 'b', label='without normalization and initialization')\n",
    "plt.plot   (lValAccV2, 'r', label='with normalization and initialization')\n",
    "plt.title  ('Validation accuracy')\n",
    "plt.xlabel ('Epoch')\n",
    "plt.grid   ()\n",
    "plt.legend ()\n",
    "\n",
    "plt.tight_layout()\n",
    "plt.show()"
   ]
  },
  {
   "cell_type": "markdown",
   "metadata": {},
   "source": [
    "### Exercise\n",
    "Implement the `CountParameters` function\n",
    "* Input: A model.\n",
    "* Output: The number of parameters in the model."
   ]
  },
  {
   "cell_type": "code",
   "execution_count": 14,
   "metadata": {},
   "outputs": [],
   "source": [
    "def CountParameters(oModel):\n",
    "    ???\n",
    "\n",
    "    return nParams"
   ]
  },
  {
   "cell_type": "code",
   "execution_count": 15,
   "metadata": {},
   "outputs": [
    {
     "name": "stdout",
     "output_type": "stream",
     "text": [
      "Object `?` not found.\n"
     ]
    },
    {
     "ename": "NameError",
     "evalue": "name 'nParams' is not defined",
     "output_type": "error",
     "traceback": [
      "\u001b[1;31m---------------------------------------------------------------------------\u001b[0m",
      "\u001b[1;31mNameError\u001b[0m                                 Traceback (most recent call last)",
      "\u001b[1;32m~\\AppData\\Local\\Temp/ipykernel_3240/3933511992.py\u001b[0m in \u001b[0;36m<module>\u001b[1;34m\u001b[0m\n\u001b[0;32m      4\u001b[0m ])\n\u001b[0;32m      5\u001b[0m \u001b[1;33m\u001b[0m\u001b[0m\n\u001b[1;32m----> 6\u001b[1;33m \u001b[0mCountParameters\u001b[0m\u001b[1;33m(\u001b[0m\u001b[0moModel\u001b[0m\u001b[1;33m)\u001b[0m\u001b[1;33m\u001b[0m\u001b[1;33m\u001b[0m\u001b[0m\n\u001b[0m",
      "\u001b[1;32m~\\AppData\\Local\\Temp/ipykernel_3240/2639516418.py\u001b[0m in \u001b[0;36mCountParameters\u001b[1;34m(oModel)\u001b[0m\n\u001b[0;32m      2\u001b[0m     \u001b[0mget_ipython\u001b[0m\u001b[1;33m(\u001b[0m\u001b[1;33m)\u001b[0m\u001b[1;33m.\u001b[0m\u001b[0mrun_line_magic\u001b[0m\u001b[1;33m(\u001b[0m\u001b[1;34m'pinfo2'\u001b[0m\u001b[1;33m,\u001b[0m \u001b[1;34m'?'\u001b[0m\u001b[1;33m)\u001b[0m\u001b[1;33m\u001b[0m\u001b[1;33m\u001b[0m\u001b[0m\n\u001b[0;32m      3\u001b[0m \u001b[1;33m\u001b[0m\u001b[0m\n\u001b[1;32m----> 4\u001b[1;33m     \u001b[1;32mreturn\u001b[0m \u001b[0mnParams\u001b[0m\u001b[1;33m\u001b[0m\u001b[1;33m\u001b[0m\u001b[0m\n\u001b[0m",
      "\u001b[1;31mNameError\u001b[0m: name 'nParams' is not defined"
     ]
    }
   ],
   "source": [
    "oModel = Model([\n",
    "        LinearLayer(784, 200, init=None), ReLULayer(),\n",
    "        LinearLayer(200, 150, init=None), ReLULayer(),\n",
    "        LinearLayer(150, 10,  init=None),\n",
    "])\n",
    "\n",
    "CountParameters(oModel)"
   ]
  },
  {
   "cell_type": "code",
   "execution_count": null,
   "metadata": {},
   "outputs": [],
   "source": []
  },
  {
   "cell_type": "code",
   "execution_count": null,
   "metadata": {},
   "outputs": [],
   "source": []
  },
  {
   "cell_type": "code",
   "execution_count": null,
   "metadata": {},
   "outputs": [],
   "source": []
  },
  {
   "cell_type": "code",
   "execution_count": null,
   "metadata": {},
   "outputs": [],
   "source": []
  },
  {
   "cell_type": "code",
   "execution_count": null,
   "metadata": {},
   "outputs": [],
   "source": []
  },
  {
   "cell_type": "code",
   "execution_count": null,
   "metadata": {},
   "outputs": [],
   "source": []
  },
  {
   "cell_type": "code",
   "execution_count": null,
   "metadata": {},
   "outputs": [],
   "source": []
  },
  {
   "cell_type": "code",
   "execution_count": null,
   "metadata": {},
   "outputs": [],
   "source": []
  },
  {
   "cell_type": "code",
   "execution_count": null,
   "metadata": {},
   "outputs": [],
   "source": []
  },
  {
   "cell_type": "code",
   "execution_count": null,
   "metadata": {},
   "outputs": [],
   "source": []
  },
  {
   "cell_type": "code",
   "execution_count": null,
   "metadata": {},
   "outputs": [],
   "source": []
  },
  {
   "cell_type": "code",
   "execution_count": null,
   "metadata": {},
   "outputs": [],
   "source": []
  },
  {
   "cell_type": "code",
   "execution_count": null,
   "metadata": {},
   "outputs": [],
   "source": []
  },
  {
   "cell_type": "code",
   "execution_count": null,
   "metadata": {},
   "outputs": [],
   "source": []
  },
  {
   "cell_type": "code",
   "execution_count": null,
   "metadata": {},
   "outputs": [],
   "source": []
  },
  {
   "cell_type": "code",
   "execution_count": null,
   "metadata": {},
   "outputs": [],
   "source": []
  },
  {
   "cell_type": "code",
   "execution_count": null,
   "metadata": {},
   "outputs": [],
   "source": []
  },
  {
   "cell_type": "code",
   "execution_count": null,
   "metadata": {},
   "outputs": [],
   "source": []
  },
  {
   "cell_type": "code",
   "execution_count": null,
   "metadata": {},
   "outputs": [],
   "source": []
  },
  {
   "cell_type": "code",
   "execution_count": null,
   "metadata": {},
   "outputs": [],
   "source": []
  },
  {
   "cell_type": "code",
   "execution_count": null,
   "metadata": {},
   "outputs": [],
   "source": []
  },
  {
   "cell_type": "code",
   "execution_count": null,
   "metadata": {},
   "outputs": [],
   "source": []
  },
  {
   "cell_type": "code",
   "execution_count": null,
   "metadata": {},
   "outputs": [],
   "source": []
  },
  {
   "cell_type": "code",
   "execution_count": null,
   "metadata": {},
   "outputs": [],
   "source": []
  },
  {
   "cell_type": "code",
   "execution_count": null,
   "metadata": {},
   "outputs": [],
   "source": []
  },
  {
   "cell_type": "code",
   "execution_count": null,
   "metadata": {},
   "outputs": [],
   "source": []
  },
  {
   "cell_type": "code",
   "execution_count": null,
   "metadata": {},
   "outputs": [],
   "source": []
  },
  {
   "cell_type": "code",
   "execution_count": null,
   "metadata": {},
   "outputs": [],
   "source": []
  },
  {
   "cell_type": "code",
   "execution_count": null,
   "metadata": {},
   "outputs": [],
   "source": []
  },
  {
   "cell_type": "code",
   "execution_count": null,
   "metadata": {},
   "outputs": [],
   "source": []
  },
  {
   "cell_type": "code",
   "execution_count": null,
   "metadata": {},
   "outputs": [],
   "source": []
  },
  {
   "cell_type": "code",
   "execution_count": null,
   "metadata": {},
   "outputs": [],
   "source": []
  },
  {
   "cell_type": "code",
   "execution_count": null,
   "metadata": {},
   "outputs": [],
   "source": []
  },
  {
   "cell_type": "code",
   "execution_count": null,
   "metadata": {},
   "outputs": [],
   "source": []
  },
  {
   "cell_type": "code",
   "execution_count": null,
   "metadata": {},
   "outputs": [],
   "source": []
  },
  {
   "cell_type": "code",
   "execution_count": null,
   "metadata": {},
   "outputs": [],
   "source": []
  },
  {
   "cell_type": "code",
   "execution_count": null,
   "metadata": {},
   "outputs": [],
   "source": []
  },
  {
   "cell_type": "code",
   "execution_count": null,
   "metadata": {},
   "outputs": [],
   "source": []
  },
  {
   "cell_type": "code",
   "execution_count": null,
   "metadata": {},
   "outputs": [],
   "source": []
  },
  {
   "cell_type": "code",
   "execution_count": null,
   "metadata": {},
   "outputs": [],
   "source": []
  },
  {
   "cell_type": "code",
   "execution_count": null,
   "metadata": {},
   "outputs": [],
   "source": []
  },
  {
   "cell_type": "code",
   "execution_count": null,
   "metadata": {},
   "outputs": [],
   "source": []
  },
  {
   "cell_type": "code",
   "execution_count": null,
   "metadata": {},
   "outputs": [],
   "source": []
  },
  {
   "cell_type": "code",
   "execution_count": null,
   "metadata": {},
   "outputs": [],
   "source": []
  },
  {
   "cell_type": "code",
   "execution_count": null,
   "metadata": {},
   "outputs": [],
   "source": []
  },
  {
   "cell_type": "code",
   "execution_count": null,
   "metadata": {},
   "outputs": [],
   "source": []
  },
  {
   "cell_type": "code",
   "execution_count": null,
   "metadata": {},
   "outputs": [],
   "source": []
  },
  {
   "cell_type": "code",
   "execution_count": null,
   "metadata": {},
   "outputs": [],
   "source": []
  },
  {
   "cell_type": "code",
   "execution_count": null,
   "metadata": {},
   "outputs": [],
   "source": []
  },
  {
   "cell_type": "code",
   "execution_count": null,
   "metadata": {},
   "outputs": [],
   "source": []
  },
  {
   "cell_type": "code",
   "execution_count": null,
   "metadata": {},
   "outputs": [],
   "source": []
  },
  {
   "cell_type": "code",
   "execution_count": null,
   "metadata": {},
   "outputs": [],
   "source": []
  },
  {
   "cell_type": "code",
   "execution_count": null,
   "metadata": {},
   "outputs": [],
   "source": []
  },
  {
   "cell_type": "code",
   "execution_count": null,
   "metadata": {},
   "outputs": [],
   "source": []
  },
  {
   "cell_type": "code",
   "execution_count": null,
   "metadata": {},
   "outputs": [],
   "source": []
  },
  {
   "cell_type": "code",
   "execution_count": null,
   "metadata": {},
   "outputs": [],
   "source": []
  },
  {
   "cell_type": "code",
   "execution_count": null,
   "metadata": {},
   "outputs": [],
   "source": []
  },
  {
   "cell_type": "code",
   "execution_count": null,
   "metadata": {},
   "outputs": [],
   "source": []
  },
  {
   "cell_type": "code",
   "execution_count": null,
   "metadata": {},
   "outputs": [],
   "source": []
  },
  {
   "cell_type": "code",
   "execution_count": null,
   "metadata": {},
   "outputs": [],
   "source": []
  },
  {
   "cell_type": "code",
   "execution_count": null,
   "metadata": {},
   "outputs": [],
   "source": []
  },
  {
   "cell_type": "code",
   "execution_count": null,
   "metadata": {},
   "outputs": [],
   "source": []
  },
  {
   "cell_type": "code",
   "execution_count": null,
   "metadata": {},
   "outputs": [],
   "source": []
  },
  {
   "cell_type": "code",
   "execution_count": null,
   "metadata": {},
   "outputs": [],
   "source": []
  },
  {
   "cell_type": "code",
   "execution_count": null,
   "metadata": {},
   "outputs": [],
   "source": []
  },
  {
   "cell_type": "code",
   "execution_count": null,
   "metadata": {},
   "outputs": [],
   "source": []
  },
  {
   "cell_type": "code",
   "execution_count": null,
   "metadata": {},
   "outputs": [],
   "source": []
  },
  {
   "cell_type": "code",
   "execution_count": null,
   "metadata": {},
   "outputs": [],
   "source": []
  },
  {
   "cell_type": "code",
   "execution_count": null,
   "metadata": {},
   "outputs": [],
   "source": [
    "# def CountParameters(oModel):\n",
    "#     nParams = 0\n",
    "#     for oLayer in oModel.lLayers:\n",
    "#         for key in oLayer.dParams:\n",
    "#             nParams += oLayer.dParams[key].size()\n",
    "\n",
    "#     return nParams"
   ]
  }
 ],
 "metadata": {
  "kernelspec": {
   "display_name": "Python 3 (ipykernel)",
   "language": "python",
   "name": "python3"
  },
  "language_info": {
   "codemirror_mode": {
    "name": "ipython",
    "version": 3
   },
   "file_extension": ".py",
   "mimetype": "text/x-python",
   "name": "python",
   "nbconvert_exporter": "python",
   "pygments_lexer": "ipython3",
   "version": "3.8.11"
  },
  "toc": {
   "base_numbering": 1,
   "nav_menu": {},
   "number_sections": false,
   "sideBar": true,
   "skip_h1_title": false,
   "title_cell": "Table of Contents",
   "title_sidebar": "Contents",
   "toc_cell": false,
   "toc_position": {},
   "toc_section_display": true,
   "toc_window_display": false
  },
  "varInspector": {
   "cols": {
    "lenName": 16,
    "lenType": 16,
    "lenVar": 40
   },
   "kernels_config": {
    "python": {
     "delete_cmd_postfix": "",
     "delete_cmd_prefix": "del ",
     "library": "var_list.py",
     "varRefreshCmd": "print(var_dic_list())"
    },
    "r": {
     "delete_cmd_postfix": ") ",
     "delete_cmd_prefix": "rm(",
     "library": "var_list.r",
     "varRefreshCmd": "cat(var_dic_list()) "
    }
   },
   "types_to_exclude": [
    "module",
    "function",
    "builtin_function_or_method",
    "instance",
    "_Feature"
   ],
   "window_display": false
  }
 },
 "nbformat": 4,
 "nbformat_minor": 4
}
