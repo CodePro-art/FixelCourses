{
 "cells": [
  {
   "cell_type": "markdown",
   "metadata": {},
   "source": [
    "![Fixel Algorithms](https://fixelalgorithms.co/images/CCExt.png)"
   ]
  },
  {
   "cell_type": "markdown",
   "metadata": {},
   "source": [
    "# <center> Deep Learning Methods </center>\n",
    "## <center> Lecture 3 - Optimization Methods </center>\n",
    "### <center> Update Rules (SGDM & Adam)</center>"
   ]
  },
  {
   "cell_type": "markdown",
   "metadata": {},
   "source": [
    "[![Open In Colab](https://colab.research.google.com/assets/colab-badge.svg)](https://colab.research.google.com/github/FixelAlgorithmsTeam/FixelCourses/blob/master/DeepLearningMethods/03_OptimizationMethods/MainUpdateRules_Solution.ipynb)"
   ]
  },
  {
   "cell_type": "code",
   "execution_count": 1,
   "metadata": {},
   "outputs": [
    {
     "data": {
      "text/html": [
       "<style>.container { width:80% !important; }</style>"
      ],
      "text/plain": [
       "<IPython.core.display.HTML object>"
      ]
     },
     "metadata": {},
     "output_type": "display_data"
    }
   ],
   "source": [
    "#-- Wide screen:\n",
    "from IPython.core.display import display, HTML\n",
    "display(HTML(\"<style>.container { width:80% !important; }</style>\"))"
   ]
  },
  {
   "cell_type": "code",
   "execution_count": 2,
   "metadata": {},
   "outputs": [],
   "source": [
    "#-- Auto reload:\n",
    "%load_ext autoreload\n",
    "%autoreload 2"
   ]
  },
  {
   "cell_type": "code",
   "execution_count": 3,
   "metadata": {},
   "outputs": [],
   "source": [
    "import numpy             as np\n",
    "import matplotlib.pyplot as plt\n",
    "import matplotlib\n",
    "\n",
    "matplotlib.rc('font', **{'size' : 16})\n",
    "\n",
    "np.random.seed(1)"
   ]
  },
  {
   "cell_type": "markdown",
   "metadata": {},
   "source": [
    "For Colab users:"
   ]
  },
  {
   "cell_type": "code",
   "execution_count": 4,
   "metadata": {},
   "outputs": [
    {
     "name": "stderr",
     "output_type": "stream",
     "text": [
      "'wget' is not recognized as an internal or external command,\n",
      "operable program or batch file.\n"
     ]
    }
   ],
   "source": [
    "!wget https://raw.githubusercontent.com/FixelAlgorithmsTeam/FixelCourses/master/DeepLearningMethods/03_OptimizationMethods/UpdateRulesAux.py"
   ]
  },
  {
   "cell_type": "code",
   "execution_count": 5,
   "metadata": {},
   "outputs": [],
   "source": [
    "#-- What we have so far:\n",
    "from UpdateRulesAux import LinearLayer, ReLULayer, SequentialModel, CrossEntropyLoss, Dataset, Accuracy"
   ]
  },
  {
   "cell_type": "markdown",
   "metadata": {},
   "source": [
    "### Get Fashion MNIST dataset"
   ]
  },
  {
   "cell_type": "code",
   "execution_count": 6,
   "metadata": {},
   "outputs": [
    {
     "data": {
      "text/plain": [
       "((60000, 784), (60000,))"
      ]
     },
     "execution_count": 6,
     "metadata": {},
     "output_type": "execute_result"
    }
   ],
   "source": [
    "import torchvision\n",
    "import torchvision.transforms as transforms\n",
    "\n",
    "#-- For now, we use PyTorch just to get the data:\n",
    "oTorchTrainSet = torchvision.datasets.FashionMNIST(root='../../data', train=True,  download=True, transform=transforms.ToTensor())\n",
    "# oTorchTestSet  = torchvision.datasets.FashionMNIST(root='./data', train=False, download=True, transform=transforms.ToTensor())\n",
    "\n",
    "lClasses = oTorchTrainSet.classes\n",
    "mX       = oTorchTrainSet.data.view(-1,784).numpy() / 255\n",
    "vY       = oTorchTrainSet.targets.numpy()\n",
    "mX.shape, vY.shape"
   ]
  },
  {
   "cell_type": "code",
   "execution_count": 7,
   "metadata": {},
   "outputs": [
    {
     "data": {
      "image/png": "[encoded data removed]",
      "text/plain": [
       "<Figure size 864x432 with 6 Axes>"
      ]
     },
     "metadata": {
      "needs_background": "light"
     },
     "output_type": "display_data"
    }
   ],
   "source": [
    "#-- Plot a few examples:\n",
    "N, d   = mX.shape\n",
    "fig, _ = plt.subplots(2, 3, figsize=(12, 6))\n",
    "for ax in fig.axes:\n",
    "    idx = np.random.randint(N)\n",
    "    ax.imshow   (np.reshape(mX[idx,:], (28, 28)), cmap='gray')\n",
    "    ax.set_title(f'True label: {lClasses[vY[idx]]}')\n",
    "    \n",
    "plt.tight_layout()\n",
    "plt.show()"
   ]
  },
  {
   "cell_type": "markdown",
   "metadata": {},
   "source": [
    "####  Normalize data:"
   ]
  },
  {
   "cell_type": "code",
   "execution_count": 8,
   "metadata": {},
   "outputs": [],
   "source": [
    "vMean = mX.mean(0)\n",
    "vStd  = mX.std (0)\n",
    "mX    = (mX - vMean) / vStd"
   ]
  },
  {
   "cell_type": "markdown",
   "metadata": {},
   "source": [
    "####  Split to train and validation:"
   ]
  },
  {
   "cell_type": "code",
   "execution_count": 9,
   "metadata": {},
   "outputs": [
    {
     "data": {
      "text/plain": [
       "((55000, 784), (55000,), (5000, 784), (5000,))"
      ]
     },
     "execution_count": 9,
     "metadata": {},
     "output_type": "execute_result"
    }
   ],
   "source": [
    "from sklearn.model_selection import train_test_split\n",
    "\n",
    "Ntrain = 55000\n",
    "Nval   = 5000\n",
    "mTrainX, mValX, vTrainY, vValY = train_test_split(mX, vY, train_size=Ntrain, test_size=Nval)\n",
    "\n",
    "(\n",
    "mTrainX.shape, \n",
    "vTrainY.shape, \n",
    "mValX  .shape,  \n",
    "vValY  .shape\n",
    ")"
   ]
  },
  {
   "cell_type": "markdown",
   "metadata": {},
   "source": [
    "#### Data loaders:"
   ]
  },
  {
   "cell_type": "code",
   "execution_count": 10,
   "metadata": {},
   "outputs": [],
   "source": [
    "batchSize = 256\n",
    "oTrainSet = Dataset(mTrainX.T, vTrainY, batchSize)\n",
    "oValSet   = Dataset(mValX.T,   vValY,   batchSize)"
   ]
  },
  {
   "cell_type": "markdown",
   "metadata": {},
   "source": [
    "### A basic optimizer (only SGD):\n",
    "$$\\boldsymbol{p}^{\\left(t+1\\right)}=\\boldsymbol{p}^{\\left(t\\right)}-\\mu\\nabla_{\\boldsymbol{p}}L$$"
   ]
  },
  {
   "cell_type": "code",
   "execution_count": 11,
   "metadata": {},
   "outputs": [],
   "source": [
    "#-- Basic gradient descent update rule:\n",
    "class Sgd:\n",
    "    def __init__(self, lr=1e-3):\n",
    "        self.lr = lr\n",
    "        \n",
    "    def Step(self, mP, mDp, dState={}):\n",
    "        mP -= self.lr * mDp\n",
    "        return mP, dState\n",
    "\n",
    "#--------------------------------------------------------------------------------#\n",
    "#--------------------------------------------------------------------------------#\n",
    "class Optimizer:\n",
    "    def __init__(self, oUpdateRule):\n",
    "        self.oUpdateRule = oUpdateRule #-- SGD, SGDM, ADAM\n",
    "        self.dStates     = {}\n",
    "            \n",
    "    def Step(self, oModel, lr=None):\n",
    "        if lr is not None:\n",
    "            self.oUpdateRule.lr = lr\n",
    "        \n",
    "        for ii, oLayer in enumerate(oModel.lLayers):\n",
    "            for sParamKey in oLayer.dGrads:\n",
    "                #-- Get param, gradient and history:\n",
    "                mP       = oLayer.dParams[sParamKey]\n",
    "                mDp      = oLayer.dGrads [sParamKey]\n",
    "                sParamID = f'{ii}_{sParamKey}'\n",
    "                dState   = self.dStates.get(sParamID, {})\n",
    "                \n",
    "                #-- Apply step:\n",
    "                mP, dState = self.oUpdateRule.Step(mP, mDp, dState)\n",
    "                \n",
    "                #-- Set param and hisoty:\n",
    "                oLayer.dParams[sParamKey] = mP\n",
    "                self.dStates  [sParamID ] = dState"
   ]
  },
  {
   "cell_type": "markdown",
   "metadata": {},
   "source": [
    "### Epoch with an optimizer:\n",
    "* We merge `TrainEpoch` and `ValidationEpoch` into a single function.  \n",
    "* `bTrain` indicates whether we train or validate."
   ]
  },
  {
   "cell_type": "code",
   "execution_count": 12,
   "metadata": {},
   "outputs": [],
   "source": [
    "import time\n",
    "    \n",
    "def Epoch(oModel, oData, oOptim=None, bTrain=True):\n",
    "    \n",
    "    epochLoss = 0\n",
    "    epochAcc  = 0\n",
    "    count     = 0\n",
    "    #-- Iterate over the mini-batches:\n",
    "    for ii, (mX, vY) in enumerate(oData):\n",
    "        \n",
    "        Nb     = len(vY)\n",
    "        count += Nb\n",
    "        \n",
    "        #-- Forward:\n",
    "        mZ        = oModel.Forward(mX)\n",
    "        loss, mDz = CrossEntropyLoss(vY, mZ)\n",
    "\n",
    "        if bTrain == True:\n",
    "            oModel.Backward(mDz) #-- backward\n",
    "            oOptim.Step(oModel)  #-- update parameters\n",
    "            \n",
    "        epochLoss += Nb * loss\n",
    "        epochAcc  += Nb * Accuracy(mZ, vY)\n",
    "        print(f'\\rIteration: {ii:3d}: loss = {loss:2.6f}', end='')\n",
    "    \n",
    "    print('', end='\\r')\n",
    "    epochLoss /= count\n",
    "    epochAcc  /= count\n",
    "    \n",
    "    return epochLoss, epochAcc"
   ]
  },
  {
   "cell_type": "code",
   "execution_count": 13,
   "metadata": {},
   "outputs": [],
   "source": [
    "def TrainModel(oModel, oTrainData, oValData, nEpochs, oOptim):\n",
    "\n",
    "    vTrainLoss = np.full(nEpochs, np.nan)\n",
    "    vTrainAcc  = np.full(nEpochs, np.nan)\n",
    "    vValLoss   = np.full(nEpochs, np.nan)\n",
    "    vValAcc    = np.full(nEpochs, np.nan)\n",
    "    for epoch in range(nEpochs):\n",
    "        startTime           = time.time()\n",
    "        trainLoss, trainAcc = Epoch(oModel, oTrainData, oOptim, bTrain=True )\n",
    "        valLoss,   valAcc   = Epoch(oModel, oValData,           bTrain=False)\n",
    "        epochTime           = time.time() - startTime\n",
    "        \n",
    "        #-- Display:\n",
    "        print('Epoch '              f'{epoch    :03d}:',  end='')\n",
    "        print(' | Train loss: '     f'{trainLoss:.5f}' ,  end='')\n",
    "        print(' | Val loss: '       f'{valLoss  :.5f}' ,  end='')\n",
    "        print(' | Train Accuracy: ' f'{trainAcc :2.4f}',  end='')\n",
    "        print(' | Val Accuracy: '   f'{valAcc   :2.4f}',  end='')\n",
    "        print(' | epoch time: '     f'{epochTime:3.3f} |'       )\n",
    "        \n",
    "        vTrainLoss[epoch] = trainLoss\n",
    "        vTrainAcc [epoch] = trainAcc\n",
    "        vValLoss  [epoch] = valLoss\n",
    "        vValAcc   [epoch] = valAcc\n",
    "        \n",
    "    return vTrainLoss, vTrainAcc, vValLoss, vValAcc"
   ]
  },
  {
   "cell_type": "markdown",
   "metadata": {},
   "source": [
    "####  Define a model:"
   ]
  },
  {
   "cell_type": "code",
   "execution_count": 14,
   "metadata": {},
   "outputs": [],
   "source": [
    "def GetModel():\n",
    "    oModel = SequentialModel([\n",
    "        LinearLayer(784, 350), ReLULayer(),\n",
    "        LinearLayer(350, 250), ReLULayer(),\n",
    "        LinearLayer(250, 150), ReLULayer(),\n",
    "        LinearLayer(150, 50 ), ReLULayer(),\n",
    "        LinearLayer(50,  10 ),\n",
    "    ])\n",
    "    \n",
    "    return oModel"
   ]
  },
  {
   "cell_type": "markdown",
   "metadata": {},
   "source": [
    "### Train the model with SGD:"
   ]
  },
  {
   "cell_type": "code",
   "execution_count": 15,
   "metadata": {
    "scrolled": true
   },
   "outputs": [
    {
     "name": "stdout",
     "output_type": "stream",
     "text": [
      "Epoch 000: | Train loss: 0.70476 | Val loss: 0.50611 | Train Accuracy: 0.7586 | Val Accuracy: 0.8164 | epoch time: 3.988 |\n",
      "Epoch 001: | Train loss: 0.45451 | Val loss: 0.42748 | Train Accuracy: 0.8366 | Val Accuracy: 0.8426 | epoch time: 3.480 |\n",
      "Epoch 002: | Train loss: 0.40163 | Val loss: 0.39856 | Train Accuracy: 0.8553 | Val Accuracy: 0.8532 | epoch time: 3.360 |\n",
      "Epoch 003: | Train loss: 0.36968 | Val loss: 0.37198 | Train Accuracy: 0.8676 | Val Accuracy: 0.8656 | epoch time: 3.877 |\n",
      "Epoch 004: | Train loss: 0.34809 | Val loss: 0.37861 | Train Accuracy: 0.8746 | Val Accuracy: 0.8620 | epoch time: 3.250 |\n",
      "Epoch 005: | Train loss: 0.32880 | Val loss: 0.35354 | Train Accuracy: 0.8817 | Val Accuracy: 0.8728 | epoch time: 3.118 |\n",
      "Epoch 006: | Train loss: 0.31404 | Val loss: 0.34158 | Train Accuracy: 0.8863 | Val Accuracy: 0.8756 | epoch time: 3.083 |\n",
      "Epoch 007: | Train loss: 0.29912 | Val loss: 0.33308 | Train Accuracy: 0.8918 | Val Accuracy: 0.8780 | epoch time: 3.234 |\n",
      "Epoch 008: | Train loss: 0.28768 | Val loss: 0.32829 | Train Accuracy: 0.8967 | Val Accuracy: 0.8808 | epoch time: 3.213 |\n",
      "Epoch 009: | Train loss: 0.27832 | Val loss: 0.33007 | Train Accuracy: 0.8991 | Val Accuracy: 0.8802 | epoch time: 3.084 |\n"
     ]
    }
   ],
   "source": [
    "oModel  = GetModel()\n",
    "oOptim  = Optimizer(Sgd(lr=2e-2))\n",
    "nEpochs = 10\n",
    "\n",
    "TrainModel(oModel, oTrainSet, oValSet, nEpochs, oOptim);"
   ]
  },
  {
   "cell_type": "markdown",
   "metadata": {},
   "source": [
    "### SGDM\n",
    "$$\\boldsymbol{v}^{\\left(t\\right)}=\\beta\\boldsymbol{v}^{\\left(t-1\\right)}-\\mu\\nabla f\\left(\\boldsymbol{p}^{\\left(t\\right)}\\right)$$\n",
    "$$\\boldsymbol{p}^{\\left(t+1\\right)}=\\boldsymbol{p}^{\\left(t\\right)}+\\boldsymbol{v}^{\\left(t\\right)}$$"
   ]
  },
  {
   "cell_type": "code",
   "execution_count": 16,
   "metadata": {},
   "outputs": [],
   "source": [
    "class Sgdm:\n",
    "    def __init__(self, lr=1e-3, beta=0.9):\n",
    "        self.lr   = lr\n",
    "        self.beta = beta\n",
    "        \n",
    "    def Step(self, mP, mDp, dState={}):\n",
    "        mV            = dState.get('mV', np.zeros(mP.shape))\n",
    "        mV            = self.beta * mV - self.lr * mDp\n",
    "        mP           += mV\n",
    "        dState['mV']  = mV\n",
    "        \n",
    "        return mP, dState"
   ]
  },
  {
   "cell_type": "markdown",
   "metadata": {},
   "source": [
    "### Train the same architecture with SGDM:"
   ]
  },
  {
   "cell_type": "code",
   "execution_count": 17,
   "metadata": {},
   "outputs": [
    {
     "name": "stdout",
     "output_type": "stream",
     "text": [
      "Epoch 000: | Train loss: 0.56737 | Val loss: 0.40415 | Train Accuracy: 0.7971 | Val Accuracy: 0.8468 | epoch time: 3.791 |\n",
      "Epoch 001: | Train loss: 0.36252 | Val loss: 0.34117 | Train Accuracy: 0.8690 | Val Accuracy: 0.8762 | epoch time: 3.705 |\n",
      "Epoch 002: | Train loss: 0.31074 | Val loss: 0.32400 | Train Accuracy: 0.8874 | Val Accuracy: 0.8772 | epoch time: 4.293 |\n",
      "Epoch 003: | Train loss: 0.27881 | Val loss: 0.30371 | Train Accuracy: 0.8985 | Val Accuracy: 0.8872 | epoch time: 4.608 |\n",
      "Epoch 004: | Train loss: 0.24828 | Val loss: 0.30173 | Train Accuracy: 0.9090 | Val Accuracy: 0.8892 | epoch time: 3.740 |\n",
      "Epoch 005: | Train loss: 0.22622 | Val loss: 0.30293 | Train Accuracy: 0.9182 | Val Accuracy: 0.8910 | epoch time: 3.730 |\n",
      "Epoch 006: | Train loss: 0.20570 | Val loss: 0.29988 | Train Accuracy: 0.9250 | Val Accuracy: 0.8928 | epoch time: 3.815 |\n",
      "Epoch 007: | Train loss: 0.18637 | Val loss: 0.29773 | Train Accuracy: 0.9318 | Val Accuracy: 0.8956 | epoch time: 3.786 |\n",
      "Epoch 008: | Train loss: 0.16960 | Val loss: 0.29063 | Train Accuracy: 0.9387 | Val Accuracy: 0.8960 | epoch time: 3.624 |\n",
      "Epoch 009: | Train loss: 0.15207 | Val loss: 0.33229 | Train Accuracy: 0.9452 | Val Accuracy: 0.8872 | epoch time: 3.634 |\n"
     ]
    }
   ],
   "source": [
    "oModel  = GetModel()\n",
    "oOptim  = Optimizer(Sgdm(lr=1e-2, beta=0.9))\n",
    "nEpochs = 10\n",
    "\n",
    "TrainModel(oModel, oTrainSet, oValSet, nEpochs, oOptim);"
   ]
  },
  {
   "cell_type": "markdown",
   "metadata": {},
   "source": [
    "#### Question:\n",
    "Which optimizer obtains a better performance after 10 iterations?"
   ]
  },
  {
   "cell_type": "markdown",
   "metadata": {},
   "source": [
    "### Exercise\n",
    "* Implement the `Adam` update rule\n",
    "* Train your model with `Adam` (for 10 epochs).  \n",
    "You should get a better training loss (and also a better validation loss)"
   ]
  },
  {
   "cell_type": "markdown",
   "metadata": {},
   "source": [
    "#### Adam:\n",
    "(start with $t=1$)\n",
    "1. $\\boldsymbol{g}=\\nabla f\\left(\\boldsymbol{p}^{\\left(t\\right)}\\right)$\n",
    "2. $\\boldsymbol{v}^{\\left(t\\right)}=\\beta_{1}\\boldsymbol{v}^{\\left(t-1\\right)}+\\left(1-\\beta_{1}\\right)\\boldsymbol{g}$\n",
    "3. $\\boldsymbol{s}^{\\left(t\\right)}=\\beta_{2}\\boldsymbol{s}^{\\left(t-1\\right)}+\\left(1-\\beta_{2}\\right)\\left(\\boldsymbol{g}\\odot\\boldsymbol{g}\\right)$\n",
    "4. $\\tilde{\\boldsymbol{v}}^{\\left(t\\right)}=\\frac{1}{\\left(1-\\beta_{1}^{t}\\right)}\\boldsymbol{v}^{\\left(t\\right)}$\n",
    "5. $\\tilde{\\boldsymbol{s}}^{\\left(t\\right)}=\\frac{1}{\\left(1-\\beta_{2}^{t}\\right)}\\boldsymbol{s}^{\\left(t\\right)}$\n",
    "6. $\\boldsymbol{p}^{\\left(t+1\\right)}=\\boldsymbol{p}^{\\left(t\\right)}-\\mu\\tilde{\\boldsymbol{v}}^{\\left(t\\right)}\\oslash\\left(\\sqrt{\\tilde{\\boldsymbol{s}}^{\\left(t\\right)}}+\\epsilon\\right)$"
   ]
  },
  {
   "cell_type": "code",
   "execution_count": 18,
   "metadata": {},
   "outputs": [],
   "source": [
    "class Adam:\n",
    "    def __init__(self, lr=1e-3, beta1=0.9, beta2=0.99, eps=1e-8):\n",
    "        self.lr    = lr\n",
    "        self.beta1 = beta1\n",
    "        self.beta2 = beta2\n",
    "        self.eps   = eps\n",
    "        \n",
    "    def Step(self, mP, mDp, dState={}):\n",
    "        mV            = dState.get('mV', np.zeros(mP.shape))\n",
    "        mS            = dState.get('mS', np.zeros(mP.shape))\n",
    "        ii            = dState.get('ii', 0) + 1\n",
    "        \n",
    "        mV            = self.beta1 * mV + (1 - self.beta1) * mDp\n",
    "        mS            = self.beta2 * mS + (1 - self.beta2) * mDp * mDp\n",
    "        \n",
    "        mTildeV       = mV / (1 - self.beta1**ii)\n",
    "        mTildeS       = mS / (1 - self.beta2**ii)\n",
    "        \n",
    "        mP           -= self.lr * mTildeV / (np.sqrt(mTildeS) + self.eps)\n",
    "        dState['mV']  = mV\n",
    "        dState['mS']  = mS\n",
    "        dState['ii']  = ii\n",
    "        \n",
    "        return mP, dState"
   ]
  },
  {
   "cell_type": "code",
   "execution_count": 19,
   "metadata": {
    "scrolled": false
   },
   "outputs": [
    {
     "name": "stdout",
     "output_type": "stream",
     "text": [
      "Epoch 000: | Train loss: 0.51226 | Val loss: 0.35888 | Train Accuracy: 0.8202 | Val Accuracy: 0.8680 | epoch time: 7.911 |\n",
      "Epoch 001: | Train loss: 0.33053 | Val loss: 0.33003 | Train Accuracy: 0.8792 | Val Accuracy: 0.8804 | epoch time: 7.075 |\n",
      "Epoch 002: | Train loss: 0.28602 | Val loss: 0.31243 | Train Accuracy: 0.8949 | Val Accuracy: 0.8922 | epoch time: 7.185 |\n",
      "Epoch 003: | Train loss: 0.24901 | Val loss: 0.31121 | Train Accuracy: 0.9069 | Val Accuracy: 0.8876 | epoch time: 7.733 |\n",
      "Epoch 004: | Train loss: 0.22427 | Val loss: 0.30007 | Train Accuracy: 0.9154 | Val Accuracy: 0.8960 | epoch time: 7.064 |\n",
      "Epoch 005: | Train loss: 0.19636 | Val loss: 0.30435 | Train Accuracy: 0.9269 | Val Accuracy: 0.8954 | epoch time: 6.991 |\n",
      "Epoch 006: | Train loss: 0.17847 | Val loss: 0.30410 | Train Accuracy: 0.9332 | Val Accuracy: 0.8926 | epoch time: 6.930 |\n",
      "Epoch 007: | Train loss: 0.16162 | Val loss: 0.30230 | Train Accuracy: 0.9395 | Val Accuracy: 0.9020 | epoch time: 7.300 |\n",
      "Epoch 008: | Train loss: 0.14149 | Val loss: 0.31881 | Train Accuracy: 0.9468 | Val Accuracy: 0.8998 | epoch time: 6.670 |\n",
      "Epoch 009: | Train loss: 0.13090 | Val loss: 0.33217 | Train Accuracy: 0.9517 | Val Accuracy: 0.8958 | epoch time: 6.757 |\n"
     ]
    }
   ],
   "source": [
    "oModel  = GetModel()\n",
    "oOptim  = Optimizer(Adam(lr=5e-4, beta1=0.9, beta2=0.9))\n",
    "nEpochs = 10\n",
    "\n",
    "TrainModel(oModel, oTrainSet, oValSet, nEpochs, oOptim);"
   ]
  },
  {
   "cell_type": "markdown",
   "metadata": {},
   "source": [
    "#### Extra\n",
    "* Train your model for $30-40$ epochs.\n",
    "* Plot the train\\validation loss\\accuracy as a function of the epochs.\n",
    "* Answer the question:   \n",
    "Does training for many epochs is always the right thing to do?"
   ]
  },
  {
   "cell_type": "code",
   "execution_count": 20,
   "metadata": {},
   "outputs": [
    {
     "name": "stdout",
     "output_type": "stream",
     "text": [
      "Epoch 000: | Train loss: 0.50267 | Val loss: 0.35135 | Train Accuracy: 0.8232 | Val Accuracy: 0.8664 | epoch time: 7.020 |\n",
      "Epoch 001: | Train loss: 0.32813 | Val loss: 0.31959 | Train Accuracy: 0.8797 | Val Accuracy: 0.8826 | epoch time: 6.915 |\n",
      "Epoch 002: | Train loss: 0.27998 | Val loss: 0.30409 | Train Accuracy: 0.8969 | Val Accuracy: 0.8876 | epoch time: 6.786 |\n",
      "Epoch 003: | Train loss: 0.24646 | Val loss: 0.29583 | Train Accuracy: 0.9090 | Val Accuracy: 0.8900 | epoch time: 6.896 |\n",
      "Epoch 004: | Train loss: 0.21912 | Val loss: 0.28788 | Train Accuracy: 0.9193 | Val Accuracy: 0.8946 | epoch time: 6.872 |\n",
      "Epoch 005: | Train loss: 0.19438 | Val loss: 0.29680 | Train Accuracy: 0.9283 | Val Accuracy: 0.8924 | epoch time: 6.766 |\n",
      "Epoch 006: | Train loss: 0.17495 | Val loss: 0.29459 | Train Accuracy: 0.9351 | Val Accuracy: 0.8972 | epoch time: 6.756 |\n",
      "Epoch 007: | Train loss: 0.15671 | Val loss: 0.30558 | Train Accuracy: 0.9421 | Val Accuracy: 0.9002 | epoch time: 6.975 |\n",
      "Epoch 008: | Train loss: 0.14092 | Val loss: 0.29819 | Train Accuracy: 0.9480 | Val Accuracy: 0.9002 | epoch time: 7.419 |\n",
      "Epoch 009: | Train loss: 0.12566 | Val loss: 0.33460 | Train Accuracy: 0.9540 | Val Accuracy: 0.8896 | epoch time: 7.204 |\n",
      "Epoch 010: | Train loss: 0.11196 | Val loss: 0.33071 | Train Accuracy: 0.9600 | Val Accuracy: 0.9002 | epoch time: 7.197 |\n",
      "Epoch 011: | Train loss: 0.09978 | Val loss: 0.35336 | Train Accuracy: 0.9638 | Val Accuracy: 0.9008 | epoch time: 6.911 |\n",
      "Epoch 012: | Train loss: 0.09635 | Val loss: 0.37645 | Train Accuracy: 0.9651 | Val Accuracy: 0.8948 | epoch time: 7.127 |\n",
      "Epoch 013: | Train loss: 0.08483 | Val loss: 0.36590 | Train Accuracy: 0.9687 | Val Accuracy: 0.8932 | epoch time: 6.697 |\n",
      "Epoch 014: | Train loss: 0.07905 | Val loss: 0.41427 | Train Accuracy: 0.9717 | Val Accuracy: 0.8970 | epoch time: 6.850 |\n",
      "Epoch 015: | Train loss: 0.07231 | Val loss: 0.43732 | Train Accuracy: 0.9735 | Val Accuracy: 0.8952 | epoch time: 6.824 |\n",
      "Epoch 016: | Train loss: 0.06730 | Val loss: 0.40497 | Train Accuracy: 0.9753 | Val Accuracy: 0.8998 | epoch time: 6.518 |\n",
      "Epoch 017: | Train loss: 0.06237 | Val loss: 0.41630 | Train Accuracy: 0.9782 | Val Accuracy: 0.8980 | epoch time: 6.992 |\n",
      "Epoch 018: | Train loss: 0.05789 | Val loss: 0.44886 | Train Accuracy: 0.9792 | Val Accuracy: 0.8944 | epoch time: 6.717 |\n",
      "Epoch 019: | Train loss: 0.05379 | Val loss: 0.43649 | Train Accuracy: 0.9805 | Val Accuracy: 0.8966 | epoch time: 8.155 |\n",
      "Epoch 020: | Train loss: 0.05124 | Val loss: 0.48806 | Train Accuracy: 0.9817 | Val Accuracy: 0.8978 | epoch time: 7.029 |\n",
      "Epoch 021: | Train loss: 0.04935 | Val loss: 0.47121 | Train Accuracy: 0.9827 | Val Accuracy: 0.9018 | epoch time: 6.940 |\n",
      "Epoch 022: | Train loss: 0.04461 | Val loss: 0.50897 | Train Accuracy: 0.9843 | Val Accuracy: 0.8958 | epoch time: 7.051 |\n",
      "Epoch 023: | Train loss: 0.04223 | Val loss: 0.50582 | Train Accuracy: 0.9847 | Val Accuracy: 0.9030 | epoch time: 6.872 |\n",
      "Epoch 024: | Train loss: 0.04106 | Val loss: 0.53729 | Train Accuracy: 0.9851 | Val Accuracy: 0.9002 | epoch time: 7.348 |\n",
      "Epoch 025: | Train loss: 0.03921 | Val loss: 0.52484 | Train Accuracy: 0.9863 | Val Accuracy: 0.8958 | epoch time: 7.193 |\n",
      "Epoch 026: | Train loss: 0.03725 | Val loss: 0.52295 | Train Accuracy: 0.9871 | Val Accuracy: 0.8982 | epoch time: 7.686 |\n",
      "Epoch 027: | Train loss: 0.03924 | Val loss: 0.56184 | Train Accuracy: 0.9864 | Val Accuracy: 0.8980 | epoch time: 7.441 |\n",
      "Epoch 028: | Train loss: 0.03484 | Val loss: 0.55281 | Train Accuracy: 0.9876 | Val Accuracy: 0.8984 | epoch time: 7.423 |\n",
      "Epoch 029: | Train loss: 0.03312 | Val loss: 0.59020 | Train Accuracy: 0.9888 | Val Accuracy: 0.8958 | epoch time: 7.276 |\n",
      "Epoch 030: | Train loss: 0.03531 | Val loss: 0.58716 | Train Accuracy: 0.9873 | Val Accuracy: 0.8984 | epoch time: 7.080 |\n",
      "Epoch 031: | Train loss: 0.03363 | Val loss: 0.56493 | Train Accuracy: 0.9888 | Val Accuracy: 0.9072 | epoch time: 7.128 |\n",
      "Epoch 032: | Train loss: 0.03201 | Val loss: 0.60274 | Train Accuracy: 0.9884 | Val Accuracy: 0.8986 | epoch time: 6.854 |\n",
      "Epoch 033: | Train loss: 0.03060 | Val loss: 0.62684 | Train Accuracy: 0.9895 | Val Accuracy: 0.9008 | epoch time: 8.193 |\n",
      "Epoch 034: | Train loss: 0.02909 | Val loss: 0.59777 | Train Accuracy: 0.9896 | Val Accuracy: 0.8998 | epoch time: 7.346 |\n",
      "Epoch 035: | Train loss: 0.03075 | Val loss: 0.61361 | Train Accuracy: 0.9894 | Val Accuracy: 0.9020 | epoch time: 7.553 |\n",
      "Epoch 036: | Train loss: 0.02813 | Val loss: 0.68275 | Train Accuracy: 0.9899 | Val Accuracy: 0.8904 | epoch time: 7.176 |\n",
      "Epoch 037: | Train loss: 0.02854 | Val loss: 0.59537 | Train Accuracy: 0.9900 | Val Accuracy: 0.9028 | epoch time: 7.161 |\n",
      "Epoch 038: | Train loss: 0.02659 | Val loss: 0.63149 | Train Accuracy: 0.9908 | Val Accuracy: 0.8998 | epoch time: 7.550 |\n",
      "Epoch 039: | Train loss: 0.02749 | Val loss: 0.67781 | Train Accuracy: 0.9907 | Val Accuracy: 0.9036 | epoch time: 7.349 |\n"
     ]
    }
   ],
   "source": [
    "oModel  = GetModel()\n",
    "oOptim  = Optimizer(Adam(lr=5e-4, beta1=0.9, beta2=0.9))\n",
    "nEpochs = 40\n",
    "\n",
    "vTrainLoss, vTrainAcc, vValLoss, vValAcc = TrainModel(oModel, oTrainSet, oValSet, nEpochs, oOptim)"
   ]
  },
  {
   "cell_type": "code",
   "execution_count": 21,
   "metadata": {},
   "outputs": [
    {
     "data": {
      "image/png": "[encoded data removed]",
      "text/plain": [
       "<Figure size 1296x360 with 2 Axes>"
      ]
     },
     "metadata": {
      "needs_background": "light"
     },
     "output_type": "display_data"
    }
   ],
   "source": [
    "plt.figure(figsize=(18, 5))\n",
    "\n",
    "plt.subplot(1,2,1)\n",
    "plt.plot   (vTrainLoss, 'b', lw=2, label='Train'     )\n",
    "plt.plot   (vValLoss,   'r', lw=2, label='Validation')\n",
    "plt.title  ('Loss')\n",
    "plt.xlabel ('epoch')\n",
    "plt.ylim   (bottom=0)\n",
    "plt.legend ()\n",
    "plt.grid   ()\n",
    "\n",
    "plt.subplot(1,2,2)\n",
    "plt.plot   (vTrainAcc, 'b', lw=2, label='Train'     )\n",
    "plt.plot   (vValAcc,   'r', lw=2, label='Validation')\n",
    "plt.title  ('Accuracy')\n",
    "plt.xlabel ('epoch')\n",
    "plt.ylim   (top=1)\n",
    "plt.legend ()\n",
    "plt.grid   ()"
   ]
  }
 ],
 "metadata": {
  "kernelspec": {
   "display_name": "Python 3",
   "language": "python",
   "name": "python3"
  },
  "language_info": {
   "codemirror_mode": {
    "name": "ipython",
    "version": 3
   },
   "file_extension": ".py",
   "mimetype": "text/x-python",
   "name": "python",
   "nbconvert_exporter": "python",
   "pygments_lexer": "ipython3",
   "version": "3.8.8"
  },
  "toc": {
   "base_numbering": 1,
   "nav_menu": {},
   "number_sections": false,
   "sideBar": true,
   "skip_h1_title": false,
   "title_cell": "Table of Contents",
   "title_sidebar": "Contents",
   "toc_cell": false,
   "toc_position": {},
   "toc_section_display": true,
   "toc_window_display": false
  },
  "varInspector": {
   "cols": {
    "lenName": 16,
    "lenType": 16,
    "lenVar": 40
   },
   "kernels_config": {
    "python": {
     "delete_cmd_postfix": "",
     "delete_cmd_prefix": "del ",
     "library": "var_list.py",
     "varRefreshCmd": "print(var_dic_list())"
    },
    "r": {
     "delete_cmd_postfix": ") ",
     "delete_cmd_prefix": "rm(",
     "library": "var_list.r",
     "varRefreshCmd": "cat(var_dic_list()) "
    }
   },
   "types_to_exclude": [
    "module",
    "function",
    "builtin_function_or_method",
    "instance",
    "_Feature"
   ],
   "window_display": false
  }
 },
 "nbformat": 4,
 "nbformat_minor": 4
}
