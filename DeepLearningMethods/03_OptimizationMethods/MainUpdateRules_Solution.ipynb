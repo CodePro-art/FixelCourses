{
 "cells": [
  {
   "cell_type": "markdown",
   "metadata": {},
   "source": [
    "![Fixel Algorithms](https://fixelalgorithms.co/images/CCExt.png)"
   ]
  },
  {
   "cell_type": "markdown",
   "metadata": {},
   "source": [
    "# <center> Deep Learning Methods </center>\n",
    "## <center> Lecture 3 - Optimization Methods </center>\n",
    "### <center> Update Rules (SGDM & Adam)</center>"
   ]
  },
  {
   "cell_type": "markdown",
   "metadata": {},
   "source": [
    "[![Open In Colab](https://colab.research.google.com/assets/colab-badge.svg)](https://colab.research.google.com/github/FixelAlgorithmsTeam/FixelCourses/blob/master/DeepLearningMethods/03_OptimizationMethods/MainUpdateRules_Solution.ipynb)"
   ]
  },
  {
   "cell_type": "code",
   "execution_count": 1,
   "metadata": {},
   "outputs": [
    {
     "data": {
      "text/html": [
       "<style>.container { width:80% !important; }</style>"
      ],
      "text/plain": [
       "<IPython.core.display.HTML object>"
      ]
     },
     "metadata": {},
     "output_type": "display_data"
    }
   ],
   "source": [
    "#-- Wide screen:\n",
    "from IPython.core.display import display, HTML\n",
    "display(HTML(\"<style>.container { width:80% !important; }</style>\"))"
   ]
  },
  {
   "cell_type": "code",
   "execution_count": 2,
   "metadata": {},
   "outputs": [],
   "source": [
    "#-- Auto reload:\n",
    "%load_ext autoreload\n",
    "%autoreload 2"
   ]
  },
  {
   "cell_type": "code",
   "execution_count": 3,
   "metadata": {},
   "outputs": [],
   "source": [
    "import numpy             as np\n",
    "import matplotlib.pyplot as plt\n",
    "import matplotlib\n",
    "\n",
    "matplotlib.rc('font', **{'size' : 16})\n",
    "\n",
    "np.random.seed(1)"
   ]
  },
  {
   "cell_type": "markdown",
   "metadata": {},
   "source": [
    "For Colab users:"
   ]
  },
  {
   "cell_type": "code",
   "execution_count": 4,
   "metadata": {},
   "outputs": [],
   "source": [
    "if 'google.colab' in str(get_ipython()):\n",
    "    !wget https://raw.githubusercontent.com/FixelAlgorithmsTeam/FixelCourses/master/DeepLearningMethods/03_OptimizationMethods/UpdateRulesAux.py"
   ]
  },
  {
   "cell_type": "code",
   "execution_count": 5,
   "metadata": {},
   "outputs": [],
   "source": [
    "#-- What we have so far:\n",
    "from UpdateRulesAux import LinearLayer, ReLULayer, SequentialModel, CrossEntropyLoss, Dataset, Accuracy"
   ]
  },
  {
   "cell_type": "markdown",
   "metadata": {},
   "source": [
    "### Get Fashion MNIST dataset"
   ]
  },
  {
   "cell_type": "code",
   "execution_count": 6,
   "metadata": {},
   "outputs": [
    {
     "data": {
      "text/plain": [
       "((60000, 784), (60000,), (10000, 784), (10000,))"
      ]
     },
     "execution_count": 6,
     "metadata": {},
     "output_type": "execute_result"
    }
   ],
   "source": [
    "import torchvision\n",
    "import torchvision.transforms as transforms\n",
    "\n",
    "#-- For now, we use PyTorch just to get the data:\n",
    "oTrainSet = torchvision.datasets.FashionMNIST(root='../../data', train=True,  download=True, transform=transforms.ToTensor())\n",
    "oTestSet  = torchvision.datasets.FashionMNIST(root='../../data', train=False, download=True, transform=transforms.ToTensor())\n",
    "\n",
    "lClasses = oTrainSet.classes\n",
    "mTrainX  = oTrainSet.data.view(-1,784).numpy() / 255\n",
    "mTestX   = oTestSet .data.view(-1,784).numpy() / 255\n",
    "vTrainY  = oTrainSet.targets.numpy()\n",
    "vTestY   = oTestSet .targets.numpy()\n",
    "\n",
    "(\n",
    "mTrainX.shape, \n",
    "vTrainY.shape, \n",
    "mTestX .shape,  \n",
    "vTestY .shape\n",
    ")"
   ]
  },
  {
   "cell_type": "code",
   "execution_count": 7,
   "metadata": {},
   "outputs": [
    {
     "data": {
      "image/png": "[encoded data removed]",
      "text/plain": [
       "<Figure size 864x432 with 6 Axes>"
      ]
     },
     "metadata": {
      "needs_background": "light"
     },
     "output_type": "display_data"
    }
   ],
   "source": [
    "#-- Plot a few examples:\n",
    "N, d   = mTrainX.shape\n",
    "fig, _ = plt.subplots(2, 3, figsize=(12, 6))\n",
    "for ax in fig.axes:\n",
    "    idx = np.random.randint(N)\n",
    "    ax.imshow   (np.reshape(mTrainX[idx,:], (28, 28)), cmap='gray')\n",
    "    ax.set_title(f'True label: {lClasses[vTrainY[idx]]}')\n",
    "    \n",
    "plt.tight_layout()\n",
    "plt.show()"
   ]
  },
  {
   "cell_type": "markdown",
   "metadata": {},
   "source": [
    "####  Normalize data:"
   ]
  },
  {
   "cell_type": "code",
   "execution_count": 8,
   "metadata": {},
   "outputs": [],
   "source": [
    "vMean = mTrainX.mean(0)\n",
    "vStd  = mTrainX.std (0)\n",
    "\n",
    "mTrainX -= vMean\n",
    "mTestX  -= vMean\n",
    "mTrainX /= vStd\n",
    "mTestX  /= vStd"
   ]
  },
  {
   "cell_type": "markdown",
   "metadata": {},
   "source": [
    "#### Data loaders:"
   ]
  },
  {
   "cell_type": "code",
   "execution_count": 9,
   "metadata": {},
   "outputs": [],
   "source": [
    "batchSize = 256\n",
    "oTrainSet = Dataset(mTrainX.T, vTrainY, batchSize)\n",
    "oTestSet  = Dataset(mTestX.T,  vTestY,  batchSize)"
   ]
  },
  {
   "cell_type": "markdown",
   "metadata": {},
   "source": [
    "### A basic optimizer (only SGD):\n",
    "$$\\boldsymbol{p}^{\\left(t+1\\right)}=\\boldsymbol{p}^{\\left(t\\right)}-\\mu\\nabla_{\\boldsymbol{p}}L$$"
   ]
  },
  {
   "cell_type": "code",
   "execution_count": 12,
   "metadata": {},
   "outputs": [],
   "source": [
    "#-- Basic gradient descent update rule:\n",
    "class SGD:\n",
    "    def __init__(self, lr=1e-3):\n",
    "        self.lr = lr\n",
    "        \n",
    "    def Step(self, mP, mDp, dState={}):\n",
    "        mP -= self.lr * mDp\n",
    "        return mP, dState\n",
    "\n",
    "#--------------------------------------------------------------------------------#\n",
    "#--------------------------------------------------------------------------------#\n",
    "class Optimizer:\n",
    "    def __init__(self, oUpdateRule):\n",
    "        self.oUpdateRule = oUpdateRule #-- SGD, SGDM, ADAM\n",
    "        self.dStates     = {}\n",
    "            \n",
    "    def Step(self, oModel, lr=None):\n",
    "        if lr is not None:\n",
    "            self.oUpdateRule.lr = lr\n",
    "        \n",
    "        for ii, oLayer in enumerate(oModel.lLayers):\n",
    "            for sParamKey in oLayer.dGrads:\n",
    "                #-- Get param, gradient and history:\n",
    "                mP       = oLayer.dParams[sParamKey]\n",
    "                mDp      = oLayer.dGrads [sParamKey]\n",
    "                sParamID = f'{ii}_{sParamKey}'\n",
    "                dState   = self.dStates.get(sParamID, {})\n",
    "                \n",
    "                #-- Apply step:\n",
    "                mP, dState = self.oUpdateRule.Step(mP, mDp, dState)\n",
    "                \n",
    "                #-- Set param and hisoty:\n",
    "                oLayer.dParams[sParamKey] = mP\n",
    "                self.dStates  [sParamID ] = dState"
   ]
  },
  {
   "cell_type": "markdown",
   "metadata": {},
   "source": [
    "### Epoch with an optimizer:\n",
    "* We merge `TrainEpoch` and `ValidationEpoch` into a single function.  \n",
    "* `bTrain` indicates whether we train or validate."
   ]
  },
  {
   "cell_type": "code",
   "execution_count": 13,
   "metadata": {},
   "outputs": [],
   "source": [
    "import time\n",
    "    \n",
    "def Epoch(oModel, oData, oOptim=None, bTrain=True):\n",
    "    \n",
    "    epochLoss = 0\n",
    "    epochAcc  = 0\n",
    "    count     = 0\n",
    "    #-- Iterate over the mini-batches:\n",
    "    for ii, (mX, vY) in enumerate(oData):\n",
    "        \n",
    "        Nb     = len(vY)\n",
    "        count += Nb\n",
    "        \n",
    "        #-- Forward:\n",
    "        mZ        = oModel.Forward(mX)\n",
    "        loss, mDz = CrossEntropyLoss(vY, mZ)\n",
    "\n",
    "        if bTrain == True:\n",
    "            oModel.Backward(mDz) #-- backward\n",
    "            oOptim.Step(oModel)  #-- update parameters\n",
    "            \n",
    "        epochLoss += Nb * loss\n",
    "        epochAcc  += Nb * Accuracy(mZ, vY)\n",
    "        print(f'\\rIteration: {ii:3d}: loss = {loss:2.6f}', end='')\n",
    "    \n",
    "    print('', end='\\r')\n",
    "    epochLoss /= count\n",
    "    epochAcc  /= count\n",
    "    \n",
    "    return epochLoss, epochAcc"
   ]
  },
  {
   "cell_type": "code",
   "execution_count": 14,
   "metadata": {},
   "outputs": [],
   "source": [
    "def TrainModel(oModel, oTrainData, oValData, nEpochs, oOptim):\n",
    "\n",
    "    vTrainLoss = np.full(nEpochs, np.nan)\n",
    "    vTrainAcc  = np.full(nEpochs, np.nan)\n",
    "    vValLoss   = np.full(nEpochs, np.nan)\n",
    "    vValAcc    = np.full(nEpochs, np.nan)\n",
    "    for epoch in range(nEpochs):\n",
    "        startTime           = time.time()\n",
    "        trainLoss, trainAcc = Epoch(oModel, oTrainData, oOptim, bTrain=True )\n",
    "        valLoss,   valAcc   = Epoch(oModel, oValData,           bTrain=False)\n",
    "        epochTime           = time.time() - startTime\n",
    "        \n",
    "        #-- Display:\n",
    "        print('Epoch '              f'{epoch    :3d}:',  end='')\n",
    "        print(' | Train loss: '     f'{trainLoss:6.3f}', end='')\n",
    "        print(' | Val loss: '       f'{valLoss  :6.3f}', end='')\n",
    "        print(' | Train Accuracy: ' f'{trainAcc :6.3f}', end='')\n",
    "        print(' | Val Accuracy: '   f'{valAcc   :6.3f}', end='')\n",
    "        print(' | epoch time: '     f'{epochTime:6.3f} |')\n",
    "        \n",
    "        vTrainLoss[epoch] = trainLoss\n",
    "        vTrainAcc [epoch] = trainAcc\n",
    "        vValLoss  [epoch] = valLoss\n",
    "        vValAcc   [epoch] = valAcc\n",
    "        \n",
    "    return vTrainLoss, vTrainAcc, vValLoss, vValAcc"
   ]
  },
  {
   "cell_type": "markdown",
   "metadata": {},
   "source": [
    "####  Define a model:"
   ]
  },
  {
   "cell_type": "code",
   "execution_count": 15,
   "metadata": {},
   "outputs": [],
   "source": [
    "def GetModel():\n",
    "    oModel = SequentialModel([\n",
    "        LinearLayer(784, 350), ReLULayer(),\n",
    "        LinearLayer(350, 250), ReLULayer(),\n",
    "        LinearLayer(250, 150), ReLULayer(),\n",
    "        LinearLayer(150, 50 ), ReLULayer(),\n",
    "        LinearLayer(50,  10 ),\n",
    "    ])\n",
    "    \n",
    "    return oModel"
   ]
  },
  {
   "cell_type": "markdown",
   "metadata": {},
   "source": [
    "### Train the model with SGD:"
   ]
  },
  {
   "cell_type": "code",
   "execution_count": 17,
   "metadata": {
    "scrolled": true
   },
   "outputs": [
    {
     "name": "stdout",
     "output_type": "stream",
     "text": [
      "Epoch   0: | Train loss:  0.690 | Val loss:  0.541 | Train Accuracy:  0.762 | Val Accuracy:  0.806 | epoch time:  1.679 |\n",
      "Epoch   1: | Train loss:  0.443 | Val loss:  0.521 | Train Accuracy:  0.840 | Val Accuracy:  0.812 | epoch time:  1.681 |\n",
      "Epoch   2: | Train loss:  0.391 | Val loss:  0.446 | Train Accuracy:  0.859 | Val Accuracy:  0.840 | epoch time:  1.670 |\n",
      "Epoch   3: | Train loss:  0.358 | Val loss:  0.425 | Train Accuracy:  0.871 | Val Accuracy:  0.845 | epoch time:  1.694 |\n",
      "Epoch   4: | Train loss:  0.334 | Val loss:  0.408 | Train Accuracy:  0.879 | Val Accuracy:  0.858 | epoch time:  1.687 |\n",
      "Epoch   5: | Train loss:  0.316 | Val loss:  0.414 | Train Accuracy:  0.886 | Val Accuracy:  0.854 | epoch time:  1.690 |\n",
      "Epoch   6: | Train loss:  0.301 | Val loss:  0.418 | Train Accuracy:  0.891 | Val Accuracy:  0.845 | epoch time:  1.662 |\n",
      "Epoch   7: | Train loss:  0.287 | Val loss:  0.385 | Train Accuracy:  0.897 | Val Accuracy:  0.867 | epoch time:  1.691 |\n",
      "Epoch   8: | Train loss:  0.276 | Val loss:  0.392 | Train Accuracy:  0.900 | Val Accuracy:  0.858 | epoch time:  1.752 |\n",
      "Epoch   9: | Train loss:  0.264 | Val loss:  0.379 | Train Accuracy:  0.905 | Val Accuracy:  0.866 | epoch time:  1.696 |\n"
     ]
    }
   ],
   "source": [
    "oModel  = GetModel()\n",
    "oOptim  = Optimizer(SGD(lr=2e-2))\n",
    "nEpochs = 10\n",
    "\n",
    "TrainModel(oModel, oTrainSet, oTestSet, nEpochs, oOptim);"
   ]
  },
  {
   "cell_type": "markdown",
   "metadata": {},
   "source": [
    "### SGDM\n",
    "$$\\boldsymbol{v}^{\\left(t\\right)}=\\beta\\boldsymbol{v}^{\\left(t-1\\right)}-\\mu\\nabla f\\left(\\boldsymbol{p}^{\\left(t\\right)}\\right)$$\n",
    "$$\\boldsymbol{p}^{\\left(t+1\\right)}=\\boldsymbol{p}^{\\left(t\\right)}+\\boldsymbol{v}^{\\left(t\\right)}$$"
   ]
  },
  {
   "cell_type": "code",
   "execution_count": 18,
   "metadata": {},
   "outputs": [],
   "source": [
    "class SGDM:\n",
    "    def __init__(self, lr=1e-3, beta=0.9):\n",
    "        self.lr   = lr\n",
    "        self.beta = beta\n",
    "        \n",
    "    def Step(self, mP, mDp, dState={}):\n",
    "        mV            = dState.get('mV', np.zeros(mP.shape))\n",
    "        mV            = self.beta * mV - self.lr * mDp\n",
    "        mP           += mV\n",
    "        dState['mV']  = mV\n",
    "        \n",
    "        return mP, dState"
   ]
  },
  {
   "cell_type": "markdown",
   "metadata": {},
   "source": [
    "### Train the same architecture with SGDM:"
   ]
  },
  {
   "cell_type": "code",
   "execution_count": 20,
   "metadata": {},
   "outputs": [
    {
     "name": "stdout",
     "output_type": "stream",
     "text": [
      "Epoch   0: | Train loss:  0.557 | Val loss:  0.432 | Train Accuracy:  0.804 | Val Accuracy:  0.846 | epoch time:  1.940 |\n",
      "Epoch   1: | Train loss:  0.349 | Val loss:  0.381 | Train Accuracy:  0.873 | Val Accuracy:  0.864 | epoch time:  2.072 |\n",
      "Epoch   2: | Train loss:  0.302 | Val loss:  0.364 | Train Accuracy:  0.889 | Val Accuracy:  0.872 | epoch time:  2.054 |\n",
      "Epoch   3: | Train loss:  0.274 | Val loss:  0.358 | Train Accuracy:  0.900 | Val Accuracy:  0.873 | epoch time:  2.071 |\n",
      "Epoch   4: | Train loss:  0.243 | Val loss:  0.353 | Train Accuracy:  0.912 | Val Accuracy:  0.874 | epoch time:  2.050 |\n",
      "Epoch   5: | Train loss:  0.227 | Val loss:  0.354 | Train Accuracy:  0.916 | Val Accuracy:  0.877 | epoch time:  2.016 |\n",
      "Epoch   6: | Train loss:  0.204 | Val loss:  0.353 | Train Accuracy:  0.927 | Val Accuracy:  0.876 | epoch time:  2.017 |\n",
      "Epoch   7: | Train loss:  0.185 | Val loss:  0.359 | Train Accuracy:  0.932 | Val Accuracy:  0.883 | epoch time:  2.051 |\n",
      "Epoch   8: | Train loss:  0.168 | Val loss:  0.370 | Train Accuracy:  0.940 | Val Accuracy:  0.882 | epoch time:  2.023 |\n",
      "Epoch   9: | Train loss:  0.151 | Val loss:  0.365 | Train Accuracy:  0.946 | Val Accuracy:  0.882 | epoch time:  2.031 |\n"
     ]
    }
   ],
   "source": [
    "oModel  = GetModel()\n",
    "oOptim  = Optimizer(SGDM(lr=1e-2, beta=0.9))\n",
    "nEpochs = 10\n",
    "\n",
    "TrainModel(oModel, oTrainSet, oTestSet, nEpochs, oOptim);"
   ]
  },
  {
   "cell_type": "markdown",
   "metadata": {},
   "source": [
    "#### Question:\n",
    "Which optimizer obtains a better performance after 10 iterations?"
   ]
  },
  {
   "cell_type": "markdown",
   "metadata": {},
   "source": [
    "### Exercise\n",
    "* Implement the `Adam` update rule\n",
    "* Train your model with `Adam` (for 10 epochs).  \n",
    "You should get a better training loss (and also a better validation loss)"
   ]
  },
  {
   "cell_type": "markdown",
   "metadata": {},
   "source": [
    "#### Adam:\n",
    "(start with $t=1$)\n",
    "1. $\\boldsymbol{g}=\\nabla f\\left(\\boldsymbol{p}^{\\left(t\\right)}\\right)$\n",
    "2. $\\boldsymbol{v}^{\\left(t\\right)}=\\beta_{1}\\boldsymbol{v}^{\\left(t-1\\right)}+\\left(1-\\beta_{1}\\right)\\boldsymbol{g}$\n",
    "3. $\\boldsymbol{s}^{\\left(t\\right)}=\\beta_{2}\\boldsymbol{s}^{\\left(t-1\\right)}+\\left(1-\\beta_{2}\\right)\\left(\\boldsymbol{g}\\odot\\boldsymbol{g}\\right)$\n",
    "4. $\\tilde{\\boldsymbol{v}}^{\\left(t\\right)}=\\frac{1}{\\left(1-\\beta_{1}^{t}\\right)}\\boldsymbol{v}^{\\left(t\\right)}$\n",
    "5. $\\tilde{\\boldsymbol{s}}^{\\left(t\\right)}=\\frac{1}{\\left(1-\\beta_{2}^{t}\\right)}\\boldsymbol{s}^{\\left(t\\right)}$\n",
    "6. $\\boldsymbol{p}^{\\left(t+1\\right)}=\\boldsymbol{p}^{\\left(t\\right)}-\\mu\\tilde{\\boldsymbol{v}}^{\\left(t\\right)}\\oslash\\left(\\sqrt{\\tilde{\\boldsymbol{s}}^{\\left(t\\right)}}+\\epsilon\\right)$"
   ]
  },
  {
   "cell_type": "code",
   "execution_count": 27,
   "metadata": {},
   "outputs": [],
   "source": [
    "class Adam:\n",
    "    def __init__(self, lr=1e-3, β1=0.9, β2=0.99, ϵ=1e-8):\n",
    "        self.lr = lr\n",
    "        self.β1 = β1\n",
    "        self.β2 = β2\n",
    "        self.ϵ  = ϵ\n",
    "        \n",
    "    def Step(self, mP, mDp, dState={}):\n",
    "        mV            = dState.get('mV', np.zeros(mP.shape))\n",
    "        mS            = dState.get('mS', np.zeros(mP.shape))\n",
    "        ii            = dState.get('ii', 0) + 1\n",
    "        \n",
    "        mV            = self.β1 * mV + (1 - self.β1) * mDp\n",
    "        mS            = self.β2 * mS + (1 - self.β2) * mDp * mDp\n",
    "        \n",
    "        mTildeV       = mV / (1 - self.β1**ii)\n",
    "        mTildeS       = mS / (1 - self.β2**ii)\n",
    "        \n",
    "        mP           -= self.lr * mTildeV / (np.sqrt(mTildeS) + self.ϵ)\n",
    "        dState['mV']  = mV\n",
    "        dState['mS']  = mS\n",
    "        dState['ii']  = ii\n",
    "        \n",
    "        return mP, dState"
   ]
  },
  {
   "cell_type": "code",
   "execution_count": 28,
   "metadata": {
    "scrolled": false
   },
   "outputs": [
    {
     "name": "stdout",
     "output_type": "stream",
     "text": [
      "Epoch   0: | Train loss:  0.499 | Val loss:  0.398 | Train Accuracy:  0.823 | Val Accuracy:  0.855 | epoch time:  3.398 |\n",
      "Epoch   1: | Train loss:  0.317 | Val loss:  0.360 | Train Accuracy:  0.885 | Val Accuracy:  0.871 | epoch time:  3.476 |\n",
      "Epoch   2: | Train loss:  0.275 | Val loss:  0.352 | Train Accuracy:  0.899 | Val Accuracy:  0.879 | epoch time:  3.534 |\n",
      "Epoch   3: | Train loss:  0.242 | Val loss:  0.343 | Train Accuracy:  0.910 | Val Accuracy:  0.880 | epoch time:  3.566 |\n",
      "Epoch   4: | Train loss:  0.217 | Val loss:  0.339 | Train Accuracy:  0.920 | Val Accuracy:  0.884 | epoch time:  3.609 |\n",
      "Epoch   5: | Train loss:  0.194 | Val loss:  0.354 | Train Accuracy:  0.928 | Val Accuracy:  0.882 | epoch time:  3.587 |\n",
      "Epoch   6: | Train loss:  0.174 | Val loss:  0.365 | Train Accuracy:  0.936 | Val Accuracy:  0.881 | epoch time:  3.553 |\n",
      "Epoch   7: | Train loss:  0.158 | Val loss:  0.350 | Train Accuracy:  0.942 | Val Accuracy:  0.885 | epoch time:  3.519 |\n",
      "Epoch   8: | Train loss:  0.143 | Val loss:  0.363 | Train Accuracy:  0.947 | Val Accuracy:  0.886 | epoch time:  3.579 |\n",
      "Epoch   9: | Train loss:  0.126 | Val loss:  0.400 | Train Accuracy:  0.953 | Val Accuracy:  0.883 | epoch time:  3.573 |\n"
     ]
    }
   ],
   "source": [
    "oModel  = GetModel()\n",
    "oOptim  = Optimizer(Adam(lr=5e-4, β1=0.9, β2=0.9))\n",
    "nEpochs = 10\n",
    "\n",
    "TrainModel(oModel, oTrainSet, oTestSet, nEpochs, oOptim);"
   ]
  },
  {
   "cell_type": "markdown",
   "metadata": {},
   "source": [
    "#### Extra\n",
    "* Train your model for $30-40$ epochs.\n",
    "* Plot the train\\validation loss\\accuracy as a function of the epochs.\n",
    "* Answer the question:   \n",
    "Does training for many epochs is always the right thing to do?"
   ]
  },
  {
   "cell_type": "code",
   "execution_count": 29,
   "metadata": {},
   "outputs": [
    {
     "name": "stdout",
     "output_type": "stream",
     "text": [
      "Epoch   0: | Train loss:  0.514 | Val loss:  0.398 | Train Accuracy:  0.819 | Val Accuracy:  0.855 | epoch time:  3.572 |\n",
      "Epoch   1: | Train loss:  0.324 | Val loss:  0.372 | Train Accuracy:  0.882 | Val Accuracy:  0.868 | epoch time:  3.519 |\n",
      "Epoch   2: | Train loss:  0.278 | Val loss:  0.346 | Train Accuracy:  0.898 | Val Accuracy:  0.875 | epoch time:  3.609 |\n",
      "Epoch   3: | Train loss:  0.248 | Val loss:  0.344 | Train Accuracy:  0.908 | Val Accuracy:  0.875 | epoch time:  3.477 |\n",
      "Epoch   4: | Train loss:  0.220 | Val loss:  0.327 | Train Accuracy:  0.918 | Val Accuracy:  0.883 | epoch time:  3.502 |\n",
      "Epoch   5: | Train loss:  0.200 | Val loss:  0.360 | Train Accuracy:  0.926 | Val Accuracy:  0.874 | epoch time:  3.472 |\n",
      "Epoch   6: | Train loss:  0.178 | Val loss:  0.331 | Train Accuracy:  0.934 | Val Accuracy:  0.887 | epoch time:  3.431 |\n",
      "Epoch   7: | Train loss:  0.160 | Val loss:  0.362 | Train Accuracy:  0.941 | Val Accuracy:  0.884 | epoch time:  3.419 |\n",
      "Epoch   8: | Train loss:  0.145 | Val loss:  0.353 | Train Accuracy:  0.946 | Val Accuracy:  0.888 | epoch time:  3.436 |\n",
      "Epoch   9: | Train loss:  0.130 | Val loss:  0.365 | Train Accuracy:  0.951 | Val Accuracy:  0.889 | epoch time:  3.426 |\n",
      "Epoch  10: | Train loss:  0.120 | Val loss:  0.393 | Train Accuracy:  0.955 | Val Accuracy:  0.889 | epoch time:  3.378 |\n",
      "Epoch  11: | Train loss:  0.111 | Val loss:  0.408 | Train Accuracy:  0.959 | Val Accuracy:  0.886 | epoch time:  3.403 |\n",
      "Epoch  12: | Train loss:  0.097 | Val loss:  0.418 | Train Accuracy:  0.964 | Val Accuracy:  0.888 | epoch time:  3.377 |\n",
      "Epoch  13: | Train loss:  0.089 | Val loss:  0.441 | Train Accuracy:  0.967 | Val Accuracy:  0.888 | epoch time:  3.380 |\n",
      "Epoch  14: | Train loss:  0.083 | Val loss:  0.424 | Train Accuracy:  0.969 | Val Accuracy:  0.889 | epoch time:  3.341 |\n",
      "Epoch  15: | Train loss:  0.074 | Val loss:  0.481 | Train Accuracy:  0.973 | Val Accuracy:  0.890 | epoch time:  3.424 |\n",
      "Epoch  16: | Train loss:  0.070 | Val loss:  0.460 | Train Accuracy:  0.975 | Val Accuracy:  0.889 | epoch time:  3.427 |\n",
      "Epoch  17: | Train loss:  0.066 | Val loss:  0.482 | Train Accuracy:  0.975 | Val Accuracy:  0.890 | epoch time:  3.393 |\n",
      "Epoch  18: | Train loss:  0.063 | Val loss:  0.498 | Train Accuracy:  0.977 | Val Accuracy:  0.892 | epoch time:  3.395 |\n",
      "Epoch  19: | Train loss:  0.056 | Val loss:  0.536 | Train Accuracy:  0.980 | Val Accuracy:  0.888 | epoch time:  3.359 |\n",
      "Epoch  20: | Train loss:  0.055 | Val loss:  0.514 | Train Accuracy:  0.980 | Val Accuracy:  0.893 | epoch time:  3.432 |\n",
      "Epoch  21: | Train loss:  0.051 | Val loss:  0.562 | Train Accuracy:  0.982 | Val Accuracy:  0.891 | epoch time:  3.411 |\n",
      "Epoch  22: | Train loss:  0.050 | Val loss:  0.562 | Train Accuracy:  0.982 | Val Accuracy:  0.889 | epoch time:  3.396 |\n",
      "Epoch  23: | Train loss:  0.044 | Val loss:  0.583 | Train Accuracy:  0.984 | Val Accuracy:  0.887 | epoch time:  3.408 |\n",
      "Epoch  24: | Train loss:  0.045 | Val loss:  0.589 | Train Accuracy:  0.984 | Val Accuracy:  0.891 | epoch time:  3.412 |\n",
      "Epoch  25: | Train loss:  0.043 | Val loss:  0.600 | Train Accuracy:  0.985 | Val Accuracy:  0.891 | epoch time:  3.393 |\n",
      "Epoch  26: | Train loss:  0.038 | Val loss:  0.622 | Train Accuracy:  0.986 | Val Accuracy:  0.890 | epoch time:  3.441 |\n",
      "Epoch  27: | Train loss:  0.037 | Val loss:  0.664 | Train Accuracy:  0.987 | Val Accuracy:  0.892 | epoch time:  3.399 |\n",
      "Epoch  28: | Train loss:  0.039 | Val loss:  0.651 | Train Accuracy:  0.986 | Val Accuracy:  0.889 | epoch time:  3.387 |\n",
      "Epoch  29: | Train loss:  0.036 | Val loss:  0.702 | Train Accuracy:  0.988 | Val Accuracy:  0.887 | epoch time:  3.365 |\n",
      "Epoch  30: | Train loss:  0.036 | Val loss:  0.669 | Train Accuracy:  0.987 | Val Accuracy:  0.891 | epoch time:  3.422 |\n",
      "Epoch  31: | Train loss:  0.034 | Val loss:  0.708 | Train Accuracy:  0.989 | Val Accuracy:  0.891 | epoch time:  3.408 |\n",
      "Epoch  32: | Train loss:  0.034 | Val loss:  0.710 | Train Accuracy:  0.988 | Val Accuracy:  0.890 | epoch time:  3.416 |\n",
      "Epoch  33: | Train loss:  0.034 | Val loss:  0.724 | Train Accuracy:  0.988 | Val Accuracy:  0.891 | epoch time:  3.434 |\n",
      "Epoch  34: | Train loss:  0.033 | Val loss:  0.730 | Train Accuracy:  0.988 | Val Accuracy:  0.889 | epoch time:  3.540 |\n",
      "Epoch  35: | Train loss:  0.033 | Val loss:  0.709 | Train Accuracy:  0.989 | Val Accuracy:  0.894 | epoch time:  3.472 |\n",
      "Epoch  36: | Train loss:  0.028 | Val loss:  0.727 | Train Accuracy:  0.990 | Val Accuracy:  0.892 | epoch time:  3.552 |\n",
      "Epoch  37: | Train loss:  0.028 | Val loss:  0.723 | Train Accuracy:  0.990 | Val Accuracy:  0.888 | epoch time:  3.538 |\n",
      "Epoch  38: | Train loss:  0.029 | Val loss:  0.776 | Train Accuracy:  0.990 | Val Accuracy:  0.886 | epoch time:  3.514 |\n",
      "Epoch  39: | Train loss:  0.029 | Val loss:  0.796 | Train Accuracy:  0.990 | Val Accuracy:  0.889 | epoch time:  3.559 |\n"
     ]
    }
   ],
   "source": [
    "oModel  = GetModel()\n",
    "oOptim  = Optimizer(Adam(lr=5e-4, β1=0.9, β2=0.9))\n",
    "nEpochs = 40\n",
    "\n",
    "vTrainLoss, vTrainAcc, vValLoss, vValAcc = TrainModel(oModel, oTrainSet, oTestSet, nEpochs, oOptim)"
   ]
  },
  {
   "cell_type": "code",
   "execution_count": 30,
   "metadata": {},
   "outputs": [
    {
     "data": {
      "image/png": "[encoded data removed]",
      "text/plain": [
       "<Figure size 1296x360 with 2 Axes>"
      ]
     },
     "metadata": {
      "needs_background": "light"
     },
     "output_type": "display_data"
    }
   ],
   "source": [
    "plt.figure(figsize=(18, 5))\n",
    "\n",
    "plt.subplot(1,2,1)\n",
    "plt.plot   (vTrainLoss, 'b', lw=2, label='Train'     )\n",
    "plt.plot   (vValLoss,   'r', lw=2, label='Validation')\n",
    "plt.title  ('Loss')\n",
    "plt.xlabel ('epoch')\n",
    "plt.ylim   (bottom=0)\n",
    "plt.legend ()\n",
    "plt.grid   ()\n",
    "\n",
    "plt.subplot(1,2,2)\n",
    "plt.plot   (vTrainAcc, 'b', lw=2, label='Train'     )\n",
    "plt.plot   (vValAcc,   'r', lw=2, label='Validation')\n",
    "plt.title  ('Accuracy')\n",
    "plt.xlabel ('epoch')\n",
    "plt.ylim   (top=1)\n",
    "plt.legend ()\n",
    "plt.grid   ()"
   ]
  },
  {
   "cell_type": "code",
   "execution_count": null,
   "metadata": {},
   "outputs": [],
   "source": []
  }
 ],
 "metadata": {
  "kernelspec": {
   "display_name": "Python 3 (ipykernel)",
   "language": "python",
   "name": "python3"
  },
  "language_info": {
   "codemirror_mode": {
    "name": "ipython",
    "version": 3
   },
   "file_extension": ".py",
   "mimetype": "text/x-python",
   "name": "python",
   "nbconvert_exporter": "python",
   "pygments_lexer": "ipython3",
   "version": "3.8.11"
  },
  "toc": {
   "base_numbering": 1,
   "nav_menu": {},
   "number_sections": false,
   "sideBar": true,
   "skip_h1_title": false,
   "title_cell": "Table of Contents",
   "title_sidebar": "Contents",
   "toc_cell": false,
   "toc_position": {},
   "toc_section_display": true,
   "toc_window_display": false
  },
  "varInspector": {
   "cols": {
    "lenName": 16,
    "lenType": 16,
    "lenVar": 40
   },
   "kernels_config": {
    "python": {
     "delete_cmd_postfix": "",
     "delete_cmd_prefix": "del ",
     "library": "var_list.py",
     "varRefreshCmd": "print(var_dic_list())"
    },
    "r": {
     "delete_cmd_postfix": ") ",
     "delete_cmd_prefix": "rm(",
     "library": "var_list.r",
     "varRefreshCmd": "cat(var_dic_list()) "
    }
   },
   "types_to_exclude": [
    "module",
    "function",
    "builtin_function_or_method",
    "instance",
    "_Feature"
   ],
   "window_display": false
  }
 },
 "nbformat": 4,
 "nbformat_minor": 4
}
