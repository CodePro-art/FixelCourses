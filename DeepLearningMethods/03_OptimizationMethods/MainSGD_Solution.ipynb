{
 "cells": [
  {
   "cell_type": "markdown",
   "metadata": {},
   "source": [
    "![Fixel Algorithms](https://fixelalgorithms.co/images/CCExt.png)"
   ]
  },
  {
   "cell_type": "markdown",
   "metadata": {},
   "source": [
    "# <center> Deep Learning Methods </center>\n",
    "## <center> Lecture 3 - Optimization Methods </center>\n",
    "### <center> Stochastic Gradient Descent (SGD) - Solution </center>"
   ]
  },
  {
   "cell_type": "markdown",
   "metadata": {},
   "source": [
    "[![Open In Colab](https://colab.research.google.com/assets/colab-badge.svg)](https://colab.research.google.com/github/FixelAlgorithmsTeam/FixelCourses/blob/master/DeepLearningMethods/03_OptimizationMethods/MainSGD_Solution.ipynb)"
   ]
  },
  {
   "cell_type": "code",
   "execution_count": 1,
   "metadata": {},
   "outputs": [
    {
     "data": {
      "text/html": [
       "<style>.container { width:80% !important; }</style>"
      ],
      "text/plain": [
       "<IPython.core.display.HTML object>"
      ]
     },
     "metadata": {},
     "output_type": "display_data"
    }
   ],
   "source": [
    "#-- Wide screen:\n",
    "from IPython.core.display import display, HTML\n",
    "display(HTML(\"<style>.container { width:80% !important; }</style>\"))"
   ]
  },
  {
   "cell_type": "code",
   "execution_count": 2,
   "metadata": {},
   "outputs": [],
   "source": [
    "#-- Auto reload:\n",
    "%load_ext autoreload\n",
    "%autoreload 2"
   ]
  },
  {
   "cell_type": "code",
   "execution_count": 3,
   "metadata": {},
   "outputs": [],
   "source": [
    "import numpy             as np\n",
    "import matplotlib.pyplot as plt\n",
    "import matplotlib\n",
    "\n",
    "matplotlib.rc('font', **{'size' : 16})\n",
    "np.random.seed(0)"
   ]
  },
  {
   "cell_type": "markdown",
   "metadata": {},
   "source": [
    "For Colab users:"
   ]
  },
  {
   "cell_type": "code",
   "execution_count": 4,
   "metadata": {},
   "outputs": [],
   "source": [
    "if 'google.colab' in str(get_ipython()):\n",
    "    !wget https://raw.githubusercontent.com/FixelAlgorithmsTeam/FixelCourses/master/DeepLearningMethods/03_OptimizationMethods/SGD_Aux.py"
   ]
  },
  {
   "cell_type": "code",
   "execution_count": 5,
   "metadata": {},
   "outputs": [],
   "source": [
    "#-- What we have so far:\n",
    "from SGD_Aux import LinearLayer, ReLULayer, SequentialModel, CrossEntropyLoss, Accuracy"
   ]
  },
  {
   "cell_type": "markdown",
   "metadata": {},
   "source": [
    "#### Get Fashion MNIST dataset"
   ]
  },
  {
   "cell_type": "code",
   "execution_count": 6,
   "metadata": {},
   "outputs": [
    {
     "data": {
      "text/plain": [
       "((60000, 784), (60000,), (10000, 784), (10000,))"
      ]
     },
     "execution_count": 6,
     "metadata": {},
     "output_type": "execute_result"
    }
   ],
   "source": [
    "import torchvision\n",
    "import torchvision.transforms as transforms\n",
    "\n",
    "#-- For now, we use PyTorch just to get the data:\n",
    "oTrainSet = torchvision.datasets.FashionMNIST(root='../../data', train=True,  download=True, transform=transforms.ToTensor())\n",
    "oTestSet  = torchvision.datasets.FashionMNIST(root='../../data', train=False, download=True, transform=transforms.ToTensor())\n",
    "\n",
    "lClasses = oTrainSet.classes\n",
    "mTrainX  = oTrainSet.data.view(-1,784).numpy() / 255\n",
    "mTestX   = oTestSet .data.view(-1,784).numpy() / 255\n",
    "vTrainY  = oTrainSet.targets.numpy()\n",
    "vTestY   = oTestSet .targets.numpy()\n",
    "\n",
    "(\n",
    "mTrainX.shape, \n",
    "vTrainY.shape, \n",
    "mTestX .shape,  \n",
    "vTestY .shape\n",
    ")"
   ]
  },
  {
   "cell_type": "code",
   "execution_count": 7,
   "metadata": {},
   "outputs": [
    {
     "data": {
      "image/png": "[encoded data removed]",
      "text/plain": [
       "<Figure size 864x432 with 6 Axes>"
      ]
     },
     "metadata": {
      "needs_background": "light"
     },
     "output_type": "display_data"
    }
   ],
   "source": [
    "#-- Plot a few examples:\n",
    "N, d   = mTrainX.shape\n",
    "fig, _ = plt.subplots(2, 3, figsize=(12, 6))\n",
    "for ax in fig.axes:\n",
    "    idx = np.random.randint(N)\n",
    "    ax.imshow   (np.reshape(mTrainX[idx,:], (28, 28)), cmap='gray')\n",
    "    ax.set_title(f'True label: {lClasses[vTrainY[idx]]}')\n",
    "    \n",
    "plt.tight_layout()\n",
    "plt.show()"
   ]
  },
  {
   "cell_type": "markdown",
   "metadata": {},
   "source": [
    "####  Normalize data:"
   ]
  },
  {
   "cell_type": "code",
   "execution_count": 8,
   "metadata": {},
   "outputs": [],
   "source": [
    "vMean = mTrainX.mean(0)\n",
    "vStd  = mTrainX.std (0)\n",
    "\n",
    "mTrainX -= vMean\n",
    "mTestX  -= vMean\n",
    "mTrainX /= vStd\n",
    "mTestX  /= vStd"
   ]
  },
  {
   "cell_type": "markdown",
   "metadata": {},
   "source": [
    "### Exercise\n",
    "* Add a drop last flag (`bDropLast`):\n",
    "    * If `bDropLast = False` then the last non-full batch is also returned in the iterations.\n",
    "* Update `TrainEpoch` and `ValidationEpoch` accordingly\n",
    "\n",
    "**Extra**: Play with the model (and the hyper-parameters) and improve your validation accuracy."
   ]
  },
  {
   "cell_type": "code",
   "execution_count": 9,
   "metadata": {},
   "outputs": [],
   "source": [
    "class Dataset:\n",
    "    def __init__(self, mX, vY, batchSize, bDropLast=False):\n",
    "        self.mX        = mX\n",
    "        self.vY        = vY\n",
    "        self.N         = len(vY)\n",
    "        self.batchSize = min(batchSize, self.N)\n",
    "        self.nBatches  = np.ceil(self.N / self.batchSize).astype(np.int32)\n",
    "\n",
    "    def __len__(self):\n",
    "        return self.nBatches\n",
    "\n",
    "    #-- Loop over mini-batches:\n",
    "    def __iter__(self):\n",
    "        vIdx = np.random.permutation(self.N)\n",
    "\n",
    "        for ii in range(self.nBatches):\n",
    "            startIdx  = ii * self.batchSize\n",
    "            vBatchIdx = vIdx[startIdx : startIdx + self.batchSize]\n",
    "            mBatchX   = self.mX[:,vBatchIdx]\n",
    "            vBatchY   = self.vY[vBatchIdx]\n",
    "\n",
    "            yield mBatchX, vBatchY"
   ]
  },
  {
   "cell_type": "code",
   "execution_count": 10,
   "metadata": {},
   "outputs": [],
   "source": [
    "batchSize = 256\n",
    "oTrainSet = Dataset(mTrainX.T, vTrainY, batchSize)\n",
    "oTestSet  = Dataset(mTestX.T,  vTestY,  batchSize)"
   ]
  },
  {
   "cell_type": "markdown",
   "metadata": {},
   "source": [
    "#### Test your implementation\n",
    "You should get $4$ batches, where the last one is not full."
   ]
  },
  {
   "cell_type": "code",
   "execution_count": 11,
   "metadata": {},
   "outputs": [
    {
     "name": "stdout",
     "output_type": "stream",
     "text": [
      "mX_0.shape = (784, 15), vY_0.shape = (15,)\n",
      "mX_1.shape = (784, 15), vY_1.shape = (15,)\n",
      "mX_2.shape = (784, 15), vY_2.shape = (15,)\n",
      "mX_3.shape = (784, 10), vY_3.shape = (10,)\n",
      "Dataset length = 4\n"
     ]
    }
   ],
   "source": [
    "batchSize = 15\n",
    "oDataset  = Dataset(mTrainX[:55,:].T, vTrainY[:55], batchSize)\n",
    "for ii, (mXi, vYi) in enumerate(oDataset):\n",
    "    print(f'mX_{ii}.shape = {mXi.shape}, vY_{ii}.shape = {vYi.shape}')\n",
    "    \n",
    "print(f'Dataset length = {len(oDataset)}')"
   ]
  },
  {
   "cell_type": "markdown",
   "metadata": {},
   "source": [
    "#### Update `TrainEpoch` and `ValidationEpoch`\n",
    "* Remember that each mini-batch might be of a different size.\n",
    "* Use `len(vY)` to get the current batch size."
   ]
  },
  {
   "cell_type": "code",
   "execution_count": 12,
   "metadata": {},
   "outputs": [],
   "source": [
    "import time\n",
    "\n",
    "def TrainEpoch(oModel, oTrainData, learningRate):\n",
    "    \n",
    "    epochLoss = 0\n",
    "    epochAcc  = 0\n",
    "    count     = 0\n",
    "\n",
    "    #-- Iterate over the mini-batches:\n",
    "    for ii, (mX, vY) in enumerate(oTrainData):\n",
    "        \n",
    "        Nb     = len(vY) #-- currect batch size\n",
    "        count += Nb\n",
    "        \n",
    "        #-- Forward:\n",
    "        mZ        = oModel.Forward(mX)\n",
    "        loss, mDz = CrossEntropyLoss(vY, mZ)\n",
    "\n",
    "        #-- Backward:\n",
    "        oModel.Backward(mDz)\n",
    "\n",
    "        #-- Update parameters (stochasitc gradient descnet):\n",
    "        for oLayer in oModel.lLayers:\n",
    "            for sParam in oLayer.dGrads:\n",
    "                oLayer.dParams[sParam] -= learningRate * oLayer.dGrads[sParam]\n",
    "        \n",
    "        epochLoss += Nb * loss\n",
    "        epochAcc  += Nb * Accuracy(mZ, vY)\n",
    "        print(f'\\rIteration: {ii:3d}: loss = {loss:2.6f}', end='')\n",
    "    \n",
    "    print('', end='\\r')\n",
    "    epochLoss /= count\n",
    "    epochAcc  /= count\n",
    "    \n",
    "    return epochLoss, epochAcc\n",
    "\n",
    "#--------------------------------------------------------------------------------#\n",
    "#--------------------------------------------------------------------------------#\n",
    "def ValidationEpoch(oModel, oValData):\n",
    "    \n",
    "    epochLoss = 0\n",
    "    epochAcc  = 0\n",
    "    count     = 0\n",
    "    \n",
    "    #-- Iterate over the mini-batches:\n",
    "    for ii, (mX, vY) in enumerate(oValData):\n",
    "        \n",
    "        Nb     = len(vY) #-- currect batch size\n",
    "        count += Nb\n",
    "        \n",
    "        #-- Forward:\n",
    "        mZ      = oModel.Forward(mX)\n",
    "        loss, _ = CrossEntropyLoss(vY, mZ)\n",
    "               \n",
    "        epochLoss += Nb * loss\n",
    "        epochAcc  += Nb * Accuracy(mZ, vY)\n",
    "    \n",
    "    epochLoss /= count\n",
    "    epochAcc  /= count\n",
    "    \n",
    "    return epochLoss, epochAcc"
   ]
  },
  {
   "cell_type": "markdown",
   "metadata": {},
   "source": [
    "#### Train model function:"
   ]
  },
  {
   "cell_type": "code",
   "execution_count": 13,
   "metadata": {},
   "outputs": [],
   "source": [
    "def TrainModel(oModel, oTrainData, oValData, numEpochs, learningRate):\n",
    "    for epoch in range(numEpochs):\n",
    "        startTime           = time.time()\n",
    "        trainLoss, trainAcc = TrainEpoch     (oModel, oTrainData, learningRate) #-- train\n",
    "        valLoss,   valAcc   = ValidationEpoch(oModel, oValData)                 #-- validation\n",
    "        epochTime           = time.time() - startTime\n",
    "\n",
    "        #-- Display:\n",
    "        print('Epoch '              f'{epoch    :3d}:',  end='')\n",
    "        print(' | Train loss: '     f'{trainLoss:6.3f}', end='')\n",
    "        print(' | Val loss: '       f'{valLoss  :6.3f}', end='')\n",
    "        print(' | Train Accuracy: ' f'{trainAcc :6.3f}', end='')\n",
    "        print(' | Val Accuracy: '   f'{valAcc   :6.3f}', end='')\n",
    "        print(' | epoch time: '     f'{epochTime:6.3f} |')"
   ]
  },
  {
   "cell_type": "markdown",
   "metadata": {},
   "source": [
    "#### Improve your accuracy:"
   ]
  },
  {
   "cell_type": "code",
   "execution_count": 14,
   "metadata": {},
   "outputs": [
    {
     "name": "stdout",
     "output_type": "stream",
     "text": [
      "Epoch   0: | Train loss:  0.749 | Val loss:  0.579 | Train Accuracy:  0.746 | Val Accuracy:  0.797 | epoch time:  0.765 |\n",
      "Epoch   1: | Train loss:  0.499 | Val loss:  0.499 | Train Accuracy:  0.825 | Val Accuracy:  0.825 | epoch time:  0.764 |\n",
      "Epoch   2: | Train loss:  0.445 | Val loss:  0.467 | Train Accuracy:  0.844 | Val Accuracy:  0.834 | epoch time:  0.767 |\n",
      "Epoch   3: | Train loss:  0.417 | Val loss:  0.449 | Train Accuracy:  0.854 | Val Accuracy:  0.841 | epoch time:  0.781 |\n",
      "Epoch   4: | Train loss:  0.397 | Val loss:  0.435 | Train Accuracy:  0.861 | Val Accuracy:  0.844 | epoch time:  0.722 |\n",
      "Epoch   5: | Train loss:  0.382 | Val loss:  0.424 | Train Accuracy:  0.865 | Val Accuracy:  0.848 | epoch time:  0.780 |\n",
      "Epoch   6: | Train loss:  0.371 | Val loss:  0.415 | Train Accuracy:  0.869 | Val Accuracy:  0.853 | epoch time:  0.751 |\n",
      "Epoch   7: | Train loss:  0.361 | Val loss:  0.411 | Train Accuracy:  0.873 | Val Accuracy:  0.853 | epoch time:  0.740 |\n",
      "Epoch   8: | Train loss:  0.352 | Val loss:  0.402 | Train Accuracy:  0.875 | Val Accuracy:  0.856 | epoch time:  0.736 |\n",
      "Epoch   9: | Train loss:  0.345 | Val loss:  0.398 | Train Accuracy:  0.878 | Val Accuracy:  0.859 | epoch time:  0.783 |\n",
      "Epoch  10: | Train loss:  0.338 | Val loss:  0.393 | Train Accuracy:  0.880 | Val Accuracy:  0.860 | epoch time:  0.752 |\n",
      "Epoch  11: | Train loss:  0.332 | Val loss:  0.389 | Train Accuracy:  0.882 | Val Accuracy:  0.861 | epoch time:  0.752 |\n",
      "Epoch  12: | Train loss:  0.326 | Val loss:  0.386 | Train Accuracy:  0.885 | Val Accuracy:  0.862 | epoch time:  0.750 |\n",
      "Epoch  13: | Train loss:  0.320 | Val loss:  0.384 | Train Accuracy:  0.887 | Val Accuracy:  0.864 | epoch time:  0.766 |\n",
      "Epoch  14: | Train loss:  0.316 | Val loss:  0.380 | Train Accuracy:  0.888 | Val Accuracy:  0.865 | epoch time:  0.751 |\n",
      "Epoch  15: | Train loss:  0.311 | Val loss:  0.377 | Train Accuracy:  0.889 | Val Accuracy:  0.865 | epoch time:  0.795 |\n",
      "Epoch  16: | Train loss:  0.307 | Val loss:  0.376 | Train Accuracy:  0.891 | Val Accuracy:  0.866 | epoch time:  0.774 |\n",
      "Epoch  17: | Train loss:  0.302 | Val loss:  0.374 | Train Accuracy:  0.893 | Val Accuracy:  0.865 | epoch time:  0.767 |\n",
      "Epoch  18: | Train loss:  0.298 | Val loss:  0.371 | Train Accuracy:  0.894 | Val Accuracy:  0.869 | epoch time:  0.768 |\n",
      "Epoch  19: | Train loss:  0.294 | Val loss:  0.367 | Train Accuracy:  0.895 | Val Accuracy:  0.869 | epoch time:  0.781 |\n",
      "Epoch  20: | Train loss:  0.291 | Val loss:  0.367 | Train Accuracy:  0.897 | Val Accuracy:  0.871 | epoch time:  0.753 |\n",
      "Epoch  21: | Train loss:  0.287 | Val loss:  0.366 | Train Accuracy:  0.898 | Val Accuracy:  0.867 | epoch time:  0.767 |\n",
      "Epoch  22: | Train loss:  0.283 | Val loss:  0.362 | Train Accuracy:  0.900 | Val Accuracy:  0.872 | epoch time:  0.768 |\n",
      "Epoch  23: | Train loss:  0.280 | Val loss:  0.360 | Train Accuracy:  0.901 | Val Accuracy:  0.871 | epoch time:  0.762 |\n",
      "Epoch  24: | Train loss:  0.277 | Val loss:  0.359 | Train Accuracy:  0.902 | Val Accuracy:  0.872 | epoch time:  0.787 |\n",
      "Epoch  25: | Train loss:  0.274 | Val loss:  0.357 | Train Accuracy:  0.903 | Val Accuracy:  0.872 | epoch time:  0.746 |\n",
      "Epoch  26: | Train loss:  0.271 | Val loss:  0.357 | Train Accuracy:  0.904 | Val Accuracy:  0.871 | epoch time:  0.751 |\n",
      "Epoch  27: | Train loss:  0.268 | Val loss:  0.355 | Train Accuracy:  0.905 | Val Accuracy:  0.870 | epoch time:  0.769 |\n",
      "Epoch  28: | Train loss:  0.265 | Val loss:  0.353 | Train Accuracy:  0.906 | Val Accuracy:  0.874 | epoch time:  0.722 |\n",
      "Epoch  29: | Train loss:  0.262 | Val loss:  0.352 | Train Accuracy:  0.907 | Val Accuracy:  0.874 | epoch time:  0.750 |\n",
      "Epoch  30: | Train loss:  0.260 | Val loss:  0.351 | Train Accuracy:  0.908 | Val Accuracy:  0.874 | epoch time:  0.768 |\n",
      "Epoch  31: | Train loss:  0.257 | Val loss:  0.351 | Train Accuracy:  0.909 | Val Accuracy:  0.875 | epoch time:  0.767 |\n",
      "Epoch  32: | Train loss:  0.254 | Val loss:  0.349 | Train Accuracy:  0.911 | Val Accuracy:  0.875 | epoch time:  0.765 |\n",
      "Epoch  33: | Train loss:  0.251 | Val loss:  0.349 | Train Accuracy:  0.912 | Val Accuracy:  0.873 | epoch time:  0.752 |\n",
      "Epoch  34: | Train loss:  0.249 | Val loss:  0.349 | Train Accuracy:  0.913 | Val Accuracy:  0.874 | epoch time:  0.768 |\n",
      "Epoch  35: | Train loss:  0.246 | Val loss:  0.347 | Train Accuracy:  0.914 | Val Accuracy:  0.874 | epoch time:  0.752 |\n",
      "Epoch  36: | Train loss:  0.244 | Val loss:  0.345 | Train Accuracy:  0.914 | Val Accuracy:  0.876 | epoch time:  0.776 |\n",
      "Epoch  37: | Train loss:  0.242 | Val loss:  0.344 | Train Accuracy:  0.915 | Val Accuracy:  0.875 | epoch time:  0.751 |\n",
      "Epoch  38: | Train loss:  0.239 | Val loss:  0.345 | Train Accuracy:  0.917 | Val Accuracy:  0.877 | epoch time:  0.773 |\n",
      "Epoch  39: | Train loss:  0.237 | Val loss:  0.343 | Train Accuracy:  0.917 | Val Accuracy:  0.879 | epoch time:  0.775 |\n",
      "Epoch  40: | Train loss:  0.235 | Val loss:  0.343 | Train Accuracy:  0.918 | Val Accuracy:  0.877 | epoch time:  0.774 |\n",
      "Epoch  41: | Train loss:  0.232 | Val loss:  0.341 | Train Accuracy:  0.919 | Val Accuracy:  0.876 | epoch time:  0.775 |\n",
      "Epoch  42: | Train loss:  0.230 | Val loss:  0.341 | Train Accuracy:  0.920 | Val Accuracy:  0.877 | epoch time:  0.730 |\n",
      "Epoch  43: | Train loss:  0.228 | Val loss:  0.343 | Train Accuracy:  0.920 | Val Accuracy:  0.878 | epoch time:  0.782 |\n",
      "Epoch  44: | Train loss:  0.226 | Val loss:  0.341 | Train Accuracy:  0.921 | Val Accuracy:  0.878 | epoch time:  0.767 |\n",
      "Epoch  45: | Train loss:  0.224 | Val loss:  0.339 | Train Accuracy:  0.922 | Val Accuracy:  0.878 | epoch time:  0.754 |\n",
      "Epoch  46: | Train loss:  0.222 | Val loss:  0.340 | Train Accuracy:  0.923 | Val Accuracy:  0.878 | epoch time:  0.787 |\n",
      "Epoch  47: | Train loss:  0.220 | Val loss:  0.339 | Train Accuracy:  0.924 | Val Accuracy:  0.880 | epoch time:  0.792 |\n",
      "Epoch  48: | Train loss:  0.217 | Val loss:  0.341 | Train Accuracy:  0.925 | Val Accuracy:  0.878 | epoch time:  0.761 |\n",
      "Epoch  49: | Train loss:  0.216 | Val loss:  0.337 | Train Accuracy:  0.925 | Val Accuracy:  0.881 | epoch time:  0.773 |\n",
      "Epoch  50: | Train loss:  0.213 | Val loss:  0.338 | Train Accuracy:  0.927 | Val Accuracy:  0.879 | epoch time:  0.755 |\n",
      "Epoch  51: | Train loss:  0.212 | Val loss:  0.341 | Train Accuracy:  0.927 | Val Accuracy:  0.881 | epoch time:  0.779 |\n",
      "Epoch  52: | Train loss:  0.210 | Val loss:  0.338 | Train Accuracy:  0.928 | Val Accuracy:  0.879 | epoch time:  0.741 |\n",
      "Epoch  53: | Train loss:  0.208 | Val loss:  0.345 | Train Accuracy:  0.928 | Val Accuracy:  0.878 | epoch time:  0.741 |\n",
      "Epoch  54: | Train loss:  0.206 | Val loss:  0.340 | Train Accuracy:  0.929 | Val Accuracy:  0.878 | epoch time:  0.778 |\n",
      "Epoch  55: | Train loss:  0.204 | Val loss:  0.341 | Train Accuracy:  0.930 | Val Accuracy:  0.881 | epoch time:  0.764 |\n",
      "Epoch  56: | Train loss:  0.202 | Val loss:  0.336 | Train Accuracy:  0.931 | Val Accuracy:  0.880 | epoch time:  0.767 |\n",
      "Epoch  57: | Train loss:  0.201 | Val loss:  0.339 | Train Accuracy:  0.932 | Val Accuracy:  0.881 | epoch time:  0.782 |\n",
      "Epoch  58: | Train loss:  0.199 | Val loss:  0.336 | Train Accuracy:  0.932 | Val Accuracy:  0.882 | epoch time:  0.772 |\n",
      "Epoch  59: | Train loss:  0.197 | Val loss:  0.338 | Train Accuracy:  0.932 | Val Accuracy:  0.881 | epoch time:  0.770 |\n",
      "Epoch  60: | Train loss:  0.196 | Val loss:  0.337 | Train Accuracy:  0.934 | Val Accuracy:  0.882 | epoch time:  0.797 |\n",
      "Epoch  61: | Train loss:  0.194 | Val loss:  0.336 | Train Accuracy:  0.934 | Val Accuracy:  0.882 | epoch time:  0.766 |\n",
      "Epoch  62: | Train loss:  0.192 | Val loss:  0.336 | Train Accuracy:  0.935 | Val Accuracy:  0.883 | epoch time:  0.779 |\n",
      "Epoch  63: | Train loss:  0.190 | Val loss:  0.337 | Train Accuracy:  0.935 | Val Accuracy:  0.881 | epoch time:  0.756 |\n",
      "Epoch  64: | Train loss:  0.189 | Val loss:  0.338 | Train Accuracy:  0.936 | Val Accuracy:  0.882 | epoch time:  0.719 |\n",
      "Epoch  65: | Train loss:  0.187 | Val loss:  0.336 | Train Accuracy:  0.936 | Val Accuracy:  0.882 | epoch time:  0.768 |\n",
      "Epoch  66: | Train loss:  0.185 | Val loss:  0.336 | Train Accuracy:  0.936 | Val Accuracy:  0.885 | epoch time:  0.765 |\n"
     ]
    },
    {
     "name": "stdout",
     "output_type": "stream",
     "text": [
      "Epoch  67: | Train loss:  0.184 | Val loss:  0.341 | Train Accuracy:  0.938 | Val Accuracy:  0.881 | epoch time:  0.767 |\n",
      "Epoch  68: | Train loss:  0.183 | Val loss:  0.335 | Train Accuracy:  0.939 | Val Accuracy:  0.883 | epoch time:  0.755 |\n",
      "Epoch  69: | Train loss:  0.181 | Val loss:  0.336 | Train Accuracy:  0.938 | Val Accuracy:  0.882 | epoch time:  0.726 |\n",
      "Epoch  70: | Train loss:  0.179 | Val loss:  0.335 | Train Accuracy:  0.939 | Val Accuracy:  0.883 | epoch time:  0.755 |\n",
      "Epoch  71: | Train loss:  0.178 | Val loss:  0.334 | Train Accuracy:  0.940 | Val Accuracy:  0.885 | epoch time:  0.748 |\n",
      "Epoch  72: | Train loss:  0.176 | Val loss:  0.337 | Train Accuracy:  0.941 | Val Accuracy:  0.884 | epoch time:  0.767 |\n",
      "Epoch  73: | Train loss:  0.175 | Val loss:  0.339 | Train Accuracy:  0.942 | Val Accuracy:  0.881 | epoch time:  0.770 |\n",
      "Epoch  74: | Train loss:  0.173 | Val loss:  0.336 | Train Accuracy:  0.942 | Val Accuracy:  0.884 | epoch time:  0.765 |\n",
      "Epoch  75: | Train loss:  0.172 | Val loss:  0.336 | Train Accuracy:  0.942 | Val Accuracy:  0.884 | epoch time:  0.752 |\n",
      "Epoch  76: | Train loss:  0.170 | Val loss:  0.337 | Train Accuracy:  0.943 | Val Accuracy:  0.884 | epoch time:  0.719 |\n",
      "Epoch  77: | Train loss:  0.169 | Val loss:  0.340 | Train Accuracy:  0.944 | Val Accuracy:  0.882 | epoch time:  0.767 |\n",
      "Epoch  78: | Train loss:  0.167 | Val loss:  0.338 | Train Accuracy:  0.944 | Val Accuracy:  0.884 | epoch time:  0.753 |\n",
      "Epoch  79: | Train loss:  0.166 | Val loss:  0.339 | Train Accuracy:  0.945 | Val Accuracy:  0.885 | epoch time:  0.767 |\n",
      "Epoch  80: | Train loss:  0.164 | Val loss:  0.337 | Train Accuracy:  0.946 | Val Accuracy:  0.886 | epoch time:  0.782 |\n",
      "Epoch  81: | Train loss:  0.163 | Val loss:  0.341 | Train Accuracy:  0.945 | Val Accuracy:  0.883 | epoch time:  0.786 |\n",
      "Epoch  82: | Train loss:  0.162 | Val loss:  0.340 | Train Accuracy:  0.947 | Val Accuracy:  0.885 | epoch time:  0.767 |\n",
      "Epoch  83: | Train loss:  0.160 | Val loss:  0.338 | Train Accuracy:  0.947 | Val Accuracy:  0.885 | epoch time:  0.766 |\n",
      "Epoch  84: | Train loss:  0.159 | Val loss:  0.339 | Train Accuracy:  0.947 | Val Accuracy:  0.885 | epoch time:  0.784 |\n",
      "Epoch  85: | Train loss:  0.158 | Val loss:  0.344 | Train Accuracy:  0.949 | Val Accuracy:  0.884 | epoch time:  0.751 |\n",
      "Epoch  86: | Train loss:  0.156 | Val loss:  0.341 | Train Accuracy:  0.948 | Val Accuracy:  0.885 | epoch time:  0.718 |\n",
      "Epoch  87: | Train loss:  0.155 | Val loss:  0.340 | Train Accuracy:  0.950 | Val Accuracy:  0.885 | epoch time:  0.741 |\n",
      "Epoch  88: | Train loss:  0.154 | Val loss:  0.345 | Train Accuracy:  0.951 | Val Accuracy:  0.882 | epoch time:  0.737 |\n",
      "Epoch  89: | Train loss:  0.153 | Val loss:  0.342 | Train Accuracy:  0.950 | Val Accuracy:  0.885 | epoch time:  0.752 |\n",
      "Epoch  90: | Train loss:  0.152 | Val loss:  0.342 | Train Accuracy:  0.951 | Val Accuracy:  0.884 | epoch time:  0.737 |\n",
      "Epoch  91: | Train loss:  0.150 | Val loss:  0.340 | Train Accuracy:  0.951 | Val Accuracy:  0.888 | epoch time:  0.731 |\n",
      "Epoch  92: | Train loss:  0.149 | Val loss:  0.343 | Train Accuracy:  0.952 | Val Accuracy:  0.886 | epoch time:  0.733 |\n",
      "Epoch  93: | Train loss:  0.148 | Val loss:  0.345 | Train Accuracy:  0.953 | Val Accuracy:  0.885 | epoch time:  0.736 |\n",
      "Epoch  94: | Train loss:  0.146 | Val loss:  0.343 | Train Accuracy:  0.953 | Val Accuracy:  0.886 | epoch time:  0.703 |\n",
      "Epoch  95: | Train loss:  0.145 | Val loss:  0.342 | Train Accuracy:  0.953 | Val Accuracy:  0.886 | epoch time:  0.735 |\n",
      "Epoch  96: | Train loss:  0.144 | Val loss:  0.357 | Train Accuracy:  0.953 | Val Accuracy:  0.879 | epoch time:  0.724 |\n",
      "Epoch  97: | Train loss:  0.143 | Val loss:  0.344 | Train Accuracy:  0.954 | Val Accuracy:  0.886 | epoch time:  0.739 |\n",
      "Epoch  98: | Train loss:  0.142 | Val loss:  0.345 | Train Accuracy:  0.955 | Val Accuracy:  0.885 | epoch time:  0.734 |\n",
      "Epoch  99: | Train loss:  0.140 | Val loss:  0.343 | Train Accuracy:  0.955 | Val Accuracy:  0.885 | epoch time:  0.728 |\n"
     ]
    }
   ],
   "source": [
    "oModel = SequentialModel([\n",
    "        LinearLayer(784, 200), ReLULayer(),\n",
    "        LinearLayer(200,  10, init='Xavier'),\n",
    "])\n",
    "\n",
    "nEpochs = 100\n",
    "lr      = 2e-2\n",
    "\n",
    "TrainModel(oModel, oTrainSet, oTestSet, nEpochs, lr)"
   ]
  },
  {
   "cell_type": "code",
   "execution_count": 15,
   "metadata": {},
   "outputs": [
    {
     "name": "stdout",
     "output_type": "stream",
     "text": [
      "Test accuracy: 88.5%\n"
     ]
    },
    {
     "data": {
      "image/png": "[encoded data removed]",
      "text/plain": [
       "<Figure size 1008x504 with 6 Axes>"
      ]
     },
     "metadata": {
      "needs_background": "light"
     },
     "output_type": "display_data"
    }
   ],
   "source": [
    "#-- Apply model to data:\n",
    "mHatTestY = oModel.Forward(mTestX.T)\n",
    "print(f'Test accuracy: {100 * Accuracy(mHatTestY, vTestY)}%')\n",
    "\n",
    "#-- Plot a few mistakes:\n",
    "vHatTestY = np.argmax(mHatTestY, axis=0)\n",
    "vWrongIdx = np.nonzero(vTestY != vHatTestY)[0]\n",
    "\n",
    "N, d   = mTestX.shape\n",
    "fig, _ = plt.subplots(2, 3, figsize=(14, 7))\n",
    "for ax in fig.axes:\n",
    "    idx = vWrongIdx[np.random.randint(0, len(vWrongIdx))]\n",
    "    ax.imshow   (np.reshape(mTestX[idx,:] * vStd + vMean, (28, 28)), cmap='gray')\n",
    "    ax.set_title(f'True label: {lClasses[vTestY[idx]]}\\nEstimated label: {lClasses[vHatTestY[idx]]}', color='r')\n",
    "    \n",
    "plt.tight_layout()\n",
    "plt.show()"
   ]
  },
  {
   "cell_type": "code",
   "execution_count": null,
   "metadata": {},
   "outputs": [],
   "source": []
  }
 ],
 "metadata": {
  "kernelspec": {
   "display_name": "Python 3 (ipykernel)",
   "language": "python",
   "name": "python3"
  },
  "language_info": {
   "codemirror_mode": {
    "name": "ipython",
    "version": 3
   },
   "file_extension": ".py",
   "mimetype": "text/x-python",
   "name": "python",
   "nbconvert_exporter": "python",
   "pygments_lexer": "ipython3",
   "version": "3.8.11"
  },
  "toc": {
   "base_numbering": 1,
   "nav_menu": {},
   "number_sections": false,
   "sideBar": true,
   "skip_h1_title": false,
   "title_cell": "Table of Contents",
   "title_sidebar": "Contents",
   "toc_cell": false,
   "toc_position": {},
   "toc_section_display": true,
   "toc_window_display": false
  },
  "varInspector": {
   "cols": {
    "lenName": 16,
    "lenType": 16,
    "lenVar": 40
   },
   "kernels_config": {
    "python": {
     "delete_cmd_postfix": "",
     "delete_cmd_prefix": "del ",
     "library": "var_list.py",
     "varRefreshCmd": "print(var_dic_list())"
    },
    "r": {
     "delete_cmd_postfix": ") ",
     "delete_cmd_prefix": "rm(",
     "library": "var_list.r",
     "varRefreshCmd": "cat(var_dic_list()) "
    }
   },
   "types_to_exclude": [
    "module",
    "function",
    "builtin_function_or_method",
    "instance",
    "_Feature"
   ],
   "window_display": false
  }
 },
 "nbformat": 4,
 "nbformat_minor": 4
}
