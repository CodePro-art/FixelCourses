{
 "cells": [
  {
   "cell_type": "markdown",
   "metadata": {},
   "source": [
    "![Fixel Algorithms](https://fixelalgorithms.co/images/CCExt.png)"
   ]
  },
  {
   "cell_type": "markdown",
   "metadata": {},
   "source": [
    "# <center> Deep Learning Methods </center>\n",
    "## <center> Lecture 3 - Optimization Methods </center>\n",
    "### <center> Stochastic Gradient Descent (SGD) - Solution </center>"
   ]
  },
  {
   "cell_type": "markdown",
   "metadata": {},
   "source": [
    "[![Open In Colab](https://colab.research.google.com/assets/colab-badge.svg)](https://colab.research.google.com/github/FixelAlgorithmsTeam/FixelCourses/blob/master/DeepLearningMethods/03_OptimizationMethods/MainSGD_Solution.ipynb)"
   ]
  },
  {
   "cell_type": "code",
   "execution_count": 1,
   "metadata": {},
   "outputs": [
    {
     "data": {
      "text/html": [
       "<style>.container { width:80% !important; }</style>"
      ],
      "text/plain": [
       "<IPython.core.display.HTML object>"
      ]
     },
     "metadata": {},
     "output_type": "display_data"
    }
   ],
   "source": [
    "#-- Wide screen:\n",
    "from IPython.core.display import display, HTML\n",
    "display(HTML(\"<style>.container { width:80% !important; }</style>\"))"
   ]
  },
  {
   "cell_type": "code",
   "execution_count": 2,
   "metadata": {},
   "outputs": [],
   "source": [
    "#-- Auto reload:\n",
    "%load_ext autoreload\n",
    "%autoreload 2"
   ]
  },
  {
   "cell_type": "code",
   "execution_count": 3,
   "metadata": {},
   "outputs": [],
   "source": [
    "import numpy             as np\n",
    "import matplotlib.pyplot as plt\n",
    "import matplotlib\n",
    "\n",
    "matplotlib.rc('font', **{'size' : 16})\n",
    "np.random.seed(0)"
   ]
  },
  {
   "cell_type": "markdown",
   "metadata": {},
   "source": [
    "For Colab users:"
   ]
  },
  {
   "cell_type": "code",
   "execution_count": 4,
   "metadata": {},
   "outputs": [
    {
     "name": "stderr",
     "output_type": "stream",
     "text": [
      "'wget' is not recognized as an internal or external command,\n",
      "operable program or batch file.\n"
     ]
    }
   ],
   "source": [
    "!wget https://raw.githubusercontent.com/FixelAlgorithmsTeam/FixelCourses/master/DeepLearningMethods/03_OptimizationMethods/SGD_Aux.py"
   ]
  },
  {
   "cell_type": "code",
   "execution_count": 5,
   "metadata": {},
   "outputs": [],
   "source": [
    "#-- What we have so far:\n",
    "from SGD_Aux import LinearLayer, ReLULayer, SequentialModel, CrossEntropyLoss, Accuracy"
   ]
  },
  {
   "cell_type": "markdown",
   "metadata": {},
   "source": [
    "#### Get Fashion MNIST dataset"
   ]
  },
  {
   "cell_type": "code",
   "execution_count": 6,
   "metadata": {},
   "outputs": [
    {
     "data": {
      "text/plain": [
       "((60000, 784), (60000,))"
      ]
     },
     "execution_count": 6,
     "metadata": {},
     "output_type": "execute_result"
    }
   ],
   "source": [
    "import torchvision\n",
    "import torchvision.transforms as transforms\n",
    "\n",
    "#-- For now, we use PyTorch just to get the data:\n",
    "oTorchTrainSet = torchvision.datasets.FashionMNIST(root='../../data', train=True,  download=True, transform=transforms.ToTensor())\n",
    "# oTorchTestSet  = torchvision.datasets.FashionMNIST(root='./data', train=False, download=True, transform=transforms.ToTensor())\n",
    "\n",
    "lClasses = oTorchTrainSet.classes\n",
    "mX       = oTorchTrainSet.data.view(-1,784).numpy() / 255\n",
    "vY       = oTorchTrainSet.targets.numpy()\n",
    "mX.shape, vY.shape"
   ]
  },
  {
   "cell_type": "code",
   "execution_count": 7,
   "metadata": {},
   "outputs": [
    {
     "data": {
      "text/plain": [
       "[(0, 'T-shirt/top'),\n",
       " (1, 'Trouser'),\n",
       " (2, 'Pullover'),\n",
       " (3, 'Dress'),\n",
       " (4, 'Coat'),\n",
       " (5, 'Sandal'),\n",
       " (6, 'Shirt'),\n",
       " (7, 'Sneaker'),\n",
       " (8, 'Bag'),\n",
       " (9, 'Ankle boot')]"
      ]
     },
     "execution_count": 7,
     "metadata": {},
     "output_type": "execute_result"
    }
   ],
   "source": [
    "list(zip(range(10), lClasses))"
   ]
  },
  {
   "cell_type": "code",
   "execution_count": 8,
   "metadata": {},
   "outputs": [
    {
     "data": {
      "image/png": "[encoded data removed]",
      "text/plain": [
       "<Figure size 864x432 with 6 Axes>"
      ]
     },
     "metadata": {
      "needs_background": "light"
     },
     "output_type": "display_data"
    }
   ],
   "source": [
    "#-- Plot a few examples:\n",
    "N, d   = mX.shape\n",
    "fig, _ = plt.subplots(2, 3, figsize=(12, 6))\n",
    "for ax in fig.axes:\n",
    "    idx = np.random.randint(N)\n",
    "    ax.imshow   (np.reshape(mX[idx,:], (28, 28)), cmap='gray')\n",
    "    ax.set_title(f'True label: {lClasses[vY[idx]]}')\n",
    "    \n",
    "plt.tight_layout()\n",
    "plt.show()"
   ]
  },
  {
   "cell_type": "markdown",
   "metadata": {},
   "source": [
    "####  Normalize data:"
   ]
  },
  {
   "cell_type": "code",
   "execution_count": 9,
   "metadata": {},
   "outputs": [],
   "source": [
    "vMean = mX.mean(0)\n",
    "vStd  = mX.std (0)\n",
    "mX    = (mX - vMean) / vStd"
   ]
  },
  {
   "cell_type": "markdown",
   "metadata": {},
   "source": [
    "####  Split to train and validation:"
   ]
  },
  {
   "cell_type": "code",
   "execution_count": 10,
   "metadata": {},
   "outputs": [
    {
     "data": {
      "text/plain": [
       "((55000, 784), (55000,), (5000, 784), (5000,))"
      ]
     },
     "execution_count": 10,
     "metadata": {},
     "output_type": "execute_result"
    }
   ],
   "source": [
    "from sklearn.model_selection import train_test_split\n",
    "\n",
    "Ntrain = 55000\n",
    "Nval   = 5000\n",
    "mTrainX, mValX, vTrainY, vValY = train_test_split(mX, vY, train_size=Ntrain, test_size=Nval)\n",
    "\n",
    "(\n",
    "mTrainX.shape, \n",
    "vTrainY.shape, \n",
    "mValX  .shape,  \n",
    "vValY  .shape\n",
    ")"
   ]
  },
  {
   "cell_type": "markdown",
   "metadata": {},
   "source": [
    "### Define a dataset (data loader) class:"
   ]
  },
  {
   "cell_type": "code",
   "execution_count": 11,
   "metadata": {},
   "outputs": [],
   "source": [
    "class Dataset:\n",
    "    def __init__(self, mX, vY, batchSize):\n",
    "        self.mX        = mX\n",
    "        self.vY        = vY\n",
    "        self.N         = len(vY)\n",
    "        self.batchSize = min(batchSize, self.N)\n",
    "        self.nBatches  = self.N // self.batchSize\n",
    "            \n",
    "    def __len__(self):\n",
    "        return self.nBatches\n",
    "    \n",
    "    #-- Loop over mini-batches:\n",
    "    def __iter__(self):\n",
    "        vIdx = np.random.permutation(self.N)\n",
    "    \n",
    "        for ii in range(self.nBatches):\n",
    "            startIdx  = ii * self.batchSize\n",
    "            vBatchIdx = vIdx[startIdx : startIdx + self.batchSize]\n",
    "            mBatchX   = self.mX[:,vBatchIdx]\n",
    "            vBatchY   = self.vY[vBatchIdx]\n",
    "\n",
    "            yield mBatchX, vBatchY"
   ]
  },
  {
   "cell_type": "markdown",
   "metadata": {},
   "source": [
    "#### A simple test for `dataset`:\n",
    "Notice that we drop the last (non-full) batch"
   ]
  },
  {
   "cell_type": "code",
   "execution_count": 12,
   "metadata": {},
   "outputs": [
    {
     "name": "stdout",
     "output_type": "stream",
     "text": [
      "mXi.shape = (784, 5), vYi.shape = (5,)\n",
      "mXi.shape = (784, 5), vYi.shape = (5,)\n",
      "mXi.shape = (784, 5), vYi.shape = (5,)\n"
     ]
    }
   ],
   "source": [
    "batchSize = 5\n",
    "oDataset  = Dataset(mX[:17,:].T, vY[:17], batchSize)\n",
    "for (mXi, vYi) in oDataset:\n",
    "    print(f'mXi.shape = {mXi.shape}, vYi.shape = {vYi.shape}')"
   ]
  },
  {
   "cell_type": "markdown",
   "metadata": {},
   "source": [
    "### Constructing train and validation data loaders:"
   ]
  },
  {
   "cell_type": "code",
   "execution_count": 13,
   "metadata": {},
   "outputs": [],
   "source": [
    "batchSize = 256\n",
    "oTrainSet = Dataset(mTrainX.T, vTrainY, batchSize)\n",
    "oValSet   = Dataset(mValX.T,   vValY,   batchSize)"
   ]
  },
  {
   "cell_type": "markdown",
   "metadata": {},
   "source": [
    "### Training loop with mini-batches:"
   ]
  },
  {
   "cell_type": "code",
   "execution_count": 14,
   "metadata": {},
   "outputs": [],
   "source": [
    "import time\n",
    "\n",
    "def TrainEpoch(oModel, oTrainData, learningRate):\n",
    "    \n",
    "    epochLoss = 0\n",
    "    epochAcc  = 0\n",
    "    count     = 0\n",
    "\n",
    "    #-- Iterate over the mini-batches:\n",
    "    for ii, (mX, vY) in enumerate(oTrainData, 1):\n",
    "       \n",
    "        #-- Forward:\n",
    "        mZ        = oModel.Forward(mX)\n",
    "        loss, mDz = CrossEntropyLoss(vY, mZ)\n",
    "\n",
    "        #-- Backward:\n",
    "        oModel.Backward(mDz)\n",
    "\n",
    "        #-- Update parameters (stochasitc gradient descnet):\n",
    "        for oLayer in oModel.lLayers:\n",
    "            for sParam in oLayer.dGrads:\n",
    "                oLayer.dParams[sParam] -= learningRate * oLayer.dGrads[sParam]\n",
    "        \n",
    "        epochLoss += loss\n",
    "        epochAcc  += Accuracy(mZ, vY)\n",
    "        print(f'\\rIteration: {ii:3d}: loss = {loss:2.6f}', end='')\n",
    "    \n",
    "    print('', end='\\r')\n",
    "    epochLoss /= ii\n",
    "    epochAcc  /= ii\n",
    "    \n",
    "    return epochLoss, epochAcc\n",
    "\n",
    "#--------------------------------------------------------------------------------#\n",
    "#--------------------------------------------------------------------------------#\n",
    "def ValidationEpoch(oModel, oValData):\n",
    "    \n",
    "    epochLoss = 0\n",
    "    epochAcc  = 0\n",
    "    count     = 0\n",
    "    \n",
    "    #-- Iterate over the mini-batches:\n",
    "    for ii, (mX, vY) in enumerate(oValData, 1):\n",
    "        \n",
    "        #-- Forward:\n",
    "        mZ      = oModel.Forward(mX)\n",
    "        loss, _ = CrossEntropyLoss(vY, mZ)\n",
    "               \n",
    "        epochLoss += loss\n",
    "        epochAcc  += Accuracy(mZ, vY)\n",
    "    \n",
    "    epochLoss /= ii\n",
    "    epochAcc  /= ii\n",
    "    \n",
    "    return epochLoss, epochAcc"
   ]
  },
  {
   "cell_type": "markdown",
   "metadata": {},
   "source": [
    "### Qeustion:\n",
    "Why do we use mini-batches in `ValidationLoop` as well?"
   ]
  },
  {
   "cell_type": "markdown",
   "metadata": {},
   "source": [
    "#### Train model function:"
   ]
  },
  {
   "cell_type": "code",
   "execution_count": 15,
   "metadata": {},
   "outputs": [],
   "source": [
    "def TrainModel(oModel, oTrainData, oValData, numEpochs, learningRate):\n",
    "    for epoch in range(numEpochs):\n",
    "        startTime           = time.time()\n",
    "        trainLoss, trainAcc = TrainEpoch     (oModel, oTrainData, learningRate) #-- train\n",
    "        valLoss,   valAcc   = ValidationEpoch(oModel, oValData)                 #-- validation\n",
    "        epochTime           = time.time() - startTime\n",
    "\n",
    "        #-- Display:\n",
    "        print('Epoch '              f'{epoch    :03d}:',  end='')\n",
    "        print(' | Train loss: '     f'{trainLoss:.5f}' ,  end='')\n",
    "        print(' | Val loss: '       f'{valLoss  :.5f}' ,  end='')\n",
    "        print(' | Train Accuracy: ' f'{trainAcc :2.4f}',  end='')\n",
    "        print(' | Val Accuracy: '   f'{valAcc   :2.4f}',  end='')\n",
    "        print(' | epoch time: '     f'{epochTime:3.3f} |'       )"
   ]
  },
  {
   "cell_type": "markdown",
   "metadata": {},
   "source": [
    "### Train a shallow model (with mini-batches):"
   ]
  },
  {
   "cell_type": "code",
   "execution_count": 16,
   "metadata": {},
   "outputs": [
    {
     "name": "stdout",
     "output_type": "stream",
     "text": [
      "Epoch 000: | Train loss: 0.51849 | Val loss: 0.40362 | Train Accuracy: 0.8216 | Val Accuracy: 0.8579 | epoch time: 1.547 |\n",
      "Epoch 001: | Train loss: 0.36494 | Val loss: 0.35708 | Train Accuracy: 0.8674 | Val Accuracy: 0.8748 | epoch time: 1.679 |\n",
      "Epoch 002: | Train loss: 0.32335 | Val loss: 0.35068 | Train Accuracy: 0.8826 | Val Accuracy: 0.8775 | epoch time: 1.613 |\n",
      "Epoch 003: | Train loss: 0.29563 | Val loss: 0.33874 | Train Accuracy: 0.8924 | Val Accuracy: 0.8820 | epoch time: 1.540 |\n",
      "Epoch 004: | Train loss: 0.27626 | Val loss: 0.36633 | Train Accuracy: 0.8977 | Val Accuracy: 0.8707 | epoch time: 1.478 |\n",
      "Epoch 005: | Train loss: 0.25853 | Val loss: 0.32339 | Train Accuracy: 0.9061 | Val Accuracy: 0.8884 | epoch time: 1.541 |\n",
      "Epoch 006: | Train loss: 0.24270 | Val loss: 0.34638 | Train Accuracy: 0.9112 | Val Accuracy: 0.8814 | epoch time: 1.503 |\n",
      "Epoch 007: | Train loss: 0.22950 | Val loss: 0.32661 | Train Accuracy: 0.9164 | Val Accuracy: 0.8896 | epoch time: 1.517 |\n",
      "Epoch 008: | Train loss: 0.21615 | Val loss: 0.32184 | Train Accuracy: 0.9210 | Val Accuracy: 0.8921 | epoch time: 1.550 |\n",
      "Epoch 009: | Train loss: 0.20780 | Val loss: 0.35806 | Train Accuracy: 0.9232 | Val Accuracy: 0.8775 | epoch time: 1.574 |\n"
     ]
    }
   ],
   "source": [
    "oModel = SequentialModel([\n",
    "        LinearLayer(784, 200),\n",
    "        ReLULayer(),\n",
    "        LinearLayer(200, 10),\n",
    "])\n",
    "\n",
    "nEpochs = 10\n",
    "lr      = 2e-1\n",
    "\n",
    "TrainModel(oModel, oTrainSet, oValSet, nEpochs, lr)"
   ]
  },
  {
   "cell_type": "markdown",
   "metadata": {},
   "source": [
    "### Apply model to test data:"
   ]
  },
  {
   "cell_type": "code",
   "execution_count": 17,
   "metadata": {},
   "outputs": [
    {
     "name": "stdout",
     "output_type": "stream",
     "text": [
      "Test accuracy: 87.01%\n"
     ]
    },
    {
     "data": {
      "image/png": "[encoded data removed]",
      "text/plain": [
       "<Figure size 1008x504 with 6 Axes>"
      ]
     },
     "metadata": {
      "needs_background": "light"
     },
     "output_type": "display_data"
    }
   ],
   "source": [
    "oTorchTestSet = torchvision.datasets.FashionMNIST(root='../../data', train=False, download=True, transform=transforms.ToTensor())\n",
    "mTestX        = oTorchTestSet.data.view(-1,784).numpy() / 255\n",
    "mTestX        = (mTestX -vMean) / vStd\n",
    "vTestY        = oTorchTestSet.targets.numpy()\n",
    "\n",
    "#-- Apply model to data:\n",
    "mHatTestY = oModel.Forward(mTestX.T)\n",
    "print(f'Test accuracy: {100 * Accuracy(mHatTestY, vTestY)}%')\n",
    "\n",
    "#-- Plot a few mistakes:\n",
    "vHatTestY = np.argmax(mHatTestY, axis=0)\n",
    "vWrongIdx = np.nonzero(vTestY != vHatTestY)[0]\n",
    "\n",
    "N, d   = mX.shape\n",
    "fig, _ = plt.subplots(2, 3, figsize=(14, 7))\n",
    "for ax in fig.axes:\n",
    "    idx = vWrongIdx[np.random.randint(0, len(vWrongIdx))]\n",
    "    ax.imshow   (np.reshape(mTestX[idx,:] * vStd + vMean, (28, 28)), cmap='gray')\n",
    "    ax.set_title(f'True label: {lClasses[vTestY[idx]]}\\nEstimated label: {lClasses[vHatTestY[idx]]}', color='r')\n",
    "    \n",
    "plt.tight_layout()\n",
    "plt.show()"
   ]
  },
  {
   "cell_type": "markdown",
   "metadata": {},
   "source": [
    "### Exercise\n",
    "* Add a drop last flag (`bDropLast`):\n",
    "    * If `bDropLast = False` then the last non-full batch is also returned in the iterations.\n",
    "* Update `TrainEpoch` and `ValidationEpoch` accordingly\n",
    "\n",
    "**Extra**: Play with the model (and the hyper-parameters) and improve your validation accuracy."
   ]
  },
  {
   "cell_type": "code",
   "execution_count": 18,
   "metadata": {},
   "outputs": [],
   "source": [
    "class Dataset:\n",
    "    def __init__(self, mX, vY, batchSize, bDropLast=False):\n",
    "        self.mX        = mX\n",
    "        self.vY        = vY\n",
    "        self.N         = len(vY)\n",
    "        self.batchSize = min(batchSize, self.N)\n",
    "        self.nBatches  = np.ceil(self.N / self.batchSize).astype(np.int32)\n",
    "            \n",
    "    def __len__(self):\n",
    "        return self.nBatches\n",
    "    \n",
    "    #-- Loop over mini-batches:\n",
    "    def __iter__(self):\n",
    "        vIdx = np.random.permutation(self.N)\n",
    "    \n",
    "        for ii in range(self.nBatches):\n",
    "            startIdx  = ii * self.batchSize\n",
    "            vBatchIdx = vIdx[startIdx : startIdx + self.batchSize]\n",
    "            mBatchX   = self.mX[:,vBatchIdx]\n",
    "            vBatchY   = self.vY[vBatchIdx]\n",
    "\n",
    "            yield mBatchX, vBatchY"
   ]
  },
  {
   "cell_type": "markdown",
   "metadata": {},
   "source": [
    "#### Test your implementation\n",
    "You should get $4$ batches, where the last one is not full."
   ]
  },
  {
   "cell_type": "code",
   "execution_count": 19,
   "metadata": {},
   "outputs": [
    {
     "name": "stdout",
     "output_type": "stream",
     "text": [
      "mXi.shape = (784, 5), vYi.shape = (5,)\n",
      "mXi.shape = (784, 5), vYi.shape = (5,)\n",
      "mXi.shape = (784, 5), vYi.shape = (5,)\n",
      "mXi.shape = (784, 2), vYi.shape = (2,)\n"
     ]
    }
   ],
   "source": [
    "batchSize = 5\n",
    "oDataset  = Dataset(mX[:17,:].T, vY[:17], batchSize)\n",
    "for (mXi, vYi) in oDataset:\n",
    "    print(f'mXi.shape = {mXi.shape}, vYi.shape = {vYi.shape}')"
   ]
  },
  {
   "cell_type": "markdown",
   "metadata": {},
   "source": [
    "#### Update `TrainEpoch` and `ValidationEpoch`\n",
    "* Remember that each mini-batch might be of a different size.\n",
    "* Use `len(vY)` to get the current batch size."
   ]
  },
  {
   "cell_type": "code",
   "execution_count": 20,
   "metadata": {},
   "outputs": [],
   "source": [
    "import time\n",
    "\n",
    "def TrainEpoch(oModel, oTrainData, learningRate):\n",
    "    \n",
    "    epochLoss = 0\n",
    "    epochAcc  = 0\n",
    "    count     = 0\n",
    "\n",
    "    #-- Iterate over the mini-batches:\n",
    "    for ii, (mX, vY) in enumerate(oTrainData):\n",
    "        \n",
    "        Nb     = len(vY) #-- currect batch size\n",
    "        count += Nb\n",
    "        \n",
    "        #-- Forward:\n",
    "        mZ        = oModel.Forward(mX)\n",
    "        loss, mDz = CrossEntropyLoss(vY, mZ)\n",
    "\n",
    "        #-- Backward:\n",
    "        oModel.Backward(mDz)\n",
    "\n",
    "        #-- Update parameters (stochasitc gradient descnet):\n",
    "        for oLayer in oModel.lLayers:\n",
    "            for sParam in oLayer.dGrads:\n",
    "                oLayer.dParams[sParam] -= learningRate * oLayer.dGrads[sParam]\n",
    "        \n",
    "        epochLoss += Nb * loss\n",
    "        epochAcc  += Nb * Accuracy(mZ, vY)\n",
    "        print(f'\\rIteration: {ii:3d}: loss = {loss:2.6f}', end='')\n",
    "    \n",
    "    print('', end='\\r')\n",
    "    epochLoss /= count\n",
    "    epochAcc  /= count\n",
    "    \n",
    "    return epochLoss, epochAcc\n",
    "\n",
    "#--------------------------------------------------------------------------------#\n",
    "#--------------------------------------------------------------------------------#\n",
    "def ValidationEpoch(oModel, oValData):\n",
    "    \n",
    "    epochLoss = 0\n",
    "    epochAcc  = 0\n",
    "    count     = 0\n",
    "    \n",
    "    #-- Iterate over the mini-batches:\n",
    "    for ii, (mX, vY) in enumerate(oValData):\n",
    "        \n",
    "        Nb     = len(vY) #-- currect batch size\n",
    "        count += Nb\n",
    "        \n",
    "        #-- Forward:\n",
    "        mZ      = oModel.Forward(mX)\n",
    "        loss, _ = CrossEntropyLoss(vY, mZ)\n",
    "               \n",
    "        epochLoss += Nb * loss\n",
    "        epochAcc  += Nb * Accuracy(mZ, vY)\n",
    "    \n",
    "    epochLoss /= count\n",
    "    epochAcc  /= count\n",
    "    \n",
    "    return epochLoss, epochAcc"
   ]
  },
  {
   "cell_type": "markdown",
   "metadata": {},
   "source": [
    "#### Train model function:"
   ]
  },
  {
   "cell_type": "code",
   "execution_count": 21,
   "metadata": {},
   "outputs": [],
   "source": [
    "def TrainModel(oModel, oTrainData, oValData, numEpochs, learningRate):\n",
    "    for epoch in range(numEpochs):\n",
    "        startTime           = time.time()\n",
    "        trainLoss, trainAcc = TrainEpoch     (oModel, oTrainData, learningRate) #-- train\n",
    "        valLoss,   valAcc   = ValidationEpoch(oModel, oValData)                 #-- validation\n",
    "        epochTime           = time.time() - startTime\n",
    "\n",
    "        #-- Display:\n",
    "        print('Epoch '              f'{epoch    :03d}:',  end='')\n",
    "        print(' | Train loss: '     f'{trainLoss:.5f}' ,  end='')\n",
    "        print(' | Val loss: '       f'{valLoss  :.5f}' ,  end='')\n",
    "        print(' | Train Accuracy: ' f'{trainAcc :2.4f}',  end='')\n",
    "        print(' | Val Accuracy: '   f'{valAcc   :2.4f}',  end='')\n",
    "        print(' | epoch time: '     f'{epochTime:3.3f} |'       )"
   ]
  },
  {
   "cell_type": "markdown",
   "metadata": {},
   "source": [
    "#### Train a shallow model:"
   ]
  },
  {
   "cell_type": "code",
   "execution_count": 22,
   "metadata": {},
   "outputs": [
    {
     "name": "stdout",
     "output_type": "stream",
     "text": [
      "Epoch 000: | Train loss: 0.51956 | Val loss: 0.41189 | Train Accuracy: 0.8173 | Val Accuracy: 0.8592 | epoch time: 1.793 |\n",
      "Epoch 001: | Train loss: 0.36395 | Val loss: 0.38368 | Train Accuracy: 0.8685 | Val Accuracy: 0.8647 | epoch time: 1.483 |\n",
      "Epoch 002: | Train loss: 0.32402 | Val loss: 0.34463 | Train Accuracy: 0.8815 | Val Accuracy: 0.8806 | epoch time: 1.483 |\n",
      "Epoch 003: | Train loss: 0.29588 | Val loss: 0.33989 | Train Accuracy: 0.8910 | Val Accuracy: 0.8826 | epoch time: 1.514 |\n",
      "Epoch 004: | Train loss: 0.27438 | Val loss: 0.39317 | Train Accuracy: 0.9000 | Val Accuracy: 0.8637 | epoch time: 1.445 |\n",
      "Epoch 005: | Train loss: 0.25899 | Val loss: 0.32878 | Train Accuracy: 0.9060 | Val Accuracy: 0.8904 | epoch time: 1.482 |\n",
      "Epoch 006: | Train loss: 0.24418 | Val loss: 0.31886 | Train Accuracy: 0.9116 | Val Accuracy: 0.8917 | epoch time: 1.514 |\n",
      "Epoch 007: | Train loss: 0.22893 | Val loss: 0.32857 | Train Accuracy: 0.9157 | Val Accuracy: 0.8892 | epoch time: 1.559 |\n",
      "Epoch 008: | Train loss: 0.21820 | Val loss: 0.32683 | Train Accuracy: 0.9216 | Val Accuracy: 0.8906 | epoch time: 1.454 |\n",
      "Epoch 009: | Train loss: 0.20629 | Val loss: 0.32992 | Train Accuracy: 0.9253 | Val Accuracy: 0.8908 | epoch time: 1.553 |\n"
     ]
    }
   ],
   "source": [
    "oModel = SequentialModel([\n",
    "        LinearLayer(784, 200),\n",
    "        ReLULayer(),\n",
    "        LinearLayer(200, 10),\n",
    "])\n",
    "\n",
    "nEpochs = 10\n",
    "lr      = 2e-1\n",
    "\n",
    "TrainModel(oModel, oTrainSet, oValSet, nEpochs, lr)"
   ]
  },
  {
   "cell_type": "markdown",
   "metadata": {},
   "source": [
    "#### Improve your accuracy:"
   ]
  },
  {
   "cell_type": "code",
   "execution_count": 23,
   "metadata": {},
   "outputs": [
    {
     "name": "stdout",
     "output_type": "stream",
     "text": [
      "Epoch 000: | Train loss: 0.59692 | Val loss: 0.43883 | Train Accuracy: 0.7922 | Val Accuracy: 0.8479 | epoch time: 1.756 |\n",
      "Epoch 001: | Train loss: 0.40680 | Val loss: 0.40040 | Train Accuracy: 0.8545 | Val Accuracy: 0.8653 | epoch time: 1.630 |\n",
      "Epoch 002: | Train loss: 0.36391 | Val loss: 0.36925 | Train Accuracy: 0.8707 | Val Accuracy: 0.8721 | epoch time: 1.702 |\n",
      "Epoch 003: | Train loss: 0.33831 | Val loss: 0.36199 | Train Accuracy: 0.8795 | Val Accuracy: 0.8748 | epoch time: 1.731 |\n",
      "Epoch 004: | Train loss: 0.31986 | Val loss: 0.34964 | Train Accuracy: 0.8871 | Val Accuracy: 0.8810 | epoch time: 1.665 |\n",
      "Epoch 005: | Train loss: 0.30437 | Val loss: 0.34282 | Train Accuracy: 0.8915 | Val Accuracy: 0.8808 | epoch time: 1.630 |\n",
      "Epoch 006: | Train loss: 0.29076 | Val loss: 0.33636 | Train Accuracy: 0.8960 | Val Accuracy: 0.8847 | epoch time: 1.656 |\n",
      "Epoch 007: | Train loss: 0.27986 | Val loss: 0.32821 | Train Accuracy: 0.8994 | Val Accuracy: 0.8896 | epoch time: 1.658 |\n",
      "Epoch 008: | Train loss: 0.26804 | Val loss: 0.33281 | Train Accuracy: 0.9037 | Val Accuracy: 0.8851 | epoch time: 1.670 |\n",
      "Epoch 009: | Train loss: 0.25924 | Val loss: 0.32753 | Train Accuracy: 0.9071 | Val Accuracy: 0.8865 | epoch time: 1.650 |\n",
      "Epoch 010: | Train loss: 0.24987 | Val loss: 0.32750 | Train Accuracy: 0.9105 | Val Accuracy: 0.8871 | epoch time: 1.853 |\n",
      "Epoch 011: | Train loss: 0.24240 | Val loss: 0.34432 | Train Accuracy: 0.9128 | Val Accuracy: 0.8803 | epoch time: 1.786 |\n",
      "Epoch 012: | Train loss: 0.23471 | Val loss: 0.32717 | Train Accuracy: 0.9148 | Val Accuracy: 0.8871 | epoch time: 1.667 |\n",
      "Epoch 013: | Train loss: 0.22493 | Val loss: 0.32039 | Train Accuracy: 0.9192 | Val Accuracy: 0.8917 | epoch time: 1.702 |\n",
      "Epoch 014: | Train loss: 0.21886 | Val loss: 0.33778 | Train Accuracy: 0.9218 | Val Accuracy: 0.8845 | epoch time: 1.632 |\n",
      "Epoch 015: | Train loss: 0.21176 | Val loss: 0.33020 | Train Accuracy: 0.9245 | Val Accuracy: 0.8871 | epoch time: 1.600 |\n",
      "Epoch 016: | Train loss: 0.20419 | Val loss: 0.31983 | Train Accuracy: 0.9272 | Val Accuracy: 0.8896 | epoch time: 1.625 |\n",
      "Epoch 017: | Train loss: 0.19872 | Val loss: 0.32993 | Train Accuracy: 0.9304 | Val Accuracy: 0.8904 | epoch time: 1.577 |\n",
      "Epoch 018: | Train loss: 0.19284 | Val loss: 0.32884 | Train Accuracy: 0.9317 | Val Accuracy: 0.8882 | epoch time: 1.656 |\n",
      "Epoch 019: | Train loss: 0.18598 | Val loss: 0.32003 | Train Accuracy: 0.9348 | Val Accuracy: 0.8914 | epoch time: 1.773 |\n",
      "Epoch 020: | Train loss: 0.18067 | Val loss: 0.31127 | Train Accuracy: 0.9373 | Val Accuracy: 0.8945 | epoch time: 1.643 |\n",
      "Epoch 021: | Train loss: 0.17579 | Val loss: 0.32729 | Train Accuracy: 0.9386 | Val Accuracy: 0.8919 | epoch time: 1.701 |\n",
      "Epoch 022: | Train loss: 0.17140 | Val loss: 0.32195 | Train Accuracy: 0.9407 | Val Accuracy: 0.8939 | epoch time: 1.571 |\n",
      "Epoch 023: | Train loss: 0.16533 | Val loss: 0.33370 | Train Accuracy: 0.9420 | Val Accuracy: 0.8908 | epoch time: 1.614 |\n",
      "Epoch 024: | Train loss: 0.16045 | Val loss: 0.34360 | Train Accuracy: 0.9442 | Val Accuracy: 0.8877 | epoch time: 1.607 |\n",
      "Epoch 025: | Train loss: 0.15421 | Val loss: 0.31941 | Train Accuracy: 0.9467 | Val Accuracy: 0.8956 | epoch time: 1.621 |\n",
      "Epoch 026: | Train loss: 0.15025 | Val loss: 0.33600 | Train Accuracy: 0.9484 | Val Accuracy: 0.8966 | epoch time: 1.665 |\n",
      "Epoch 027: | Train loss: 0.14616 | Val loss: 0.33561 | Train Accuracy: 0.9499 | Val Accuracy: 0.8900 | epoch time: 1.607 |\n",
      "Epoch 028: | Train loss: 0.14120 | Val loss: 0.34035 | Train Accuracy: 0.9521 | Val Accuracy: 0.8925 | epoch time: 1.629 |\n",
      "Epoch 029: | Train loss: 0.13696 | Val loss: 0.33357 | Train Accuracy: 0.9531 | Val Accuracy: 0.8929 | epoch time: 1.815 |\n"
     ]
    }
   ],
   "source": [
    "oModel = SequentialModel([\n",
    "        LinearLayer(784, 200), ReLULayer(),\n",
    "        LinearLayer(200, 50 ), ReLULayer(),\n",
    "        LinearLayer(50,  10 ),\n",
    "])\n",
    "\n",
    "nEpochs = 30\n",
    "lr      = 5e-2\n",
    "\n",
    "TrainModel(oModel, oTrainSet, oValSet, nEpochs, lr)"
   ]
  },
  {
   "cell_type": "code",
   "execution_count": 24,
   "metadata": {},
   "outputs": [
    {
     "name": "stdout",
     "output_type": "stream",
     "text": [
      "Test accuracy: 88.24%\n"
     ]
    },
    {
     "data": {
      "image/png": "[encoded data removed]",
      "text/plain": [
       "<Figure size 1008x504 with 6 Axes>"
      ]
     },
     "metadata": {
      "needs_background": "light"
     },
     "output_type": "display_data"
    }
   ],
   "source": [
    "oTorchTestSet = torchvision.datasets.FashionMNIST(root='../../data', train=False, download=True, transform=transforms.ToTensor())\n",
    "mTestX        = oTorchTestSet.data.view(-1,784).numpy() / 255\n",
    "mTestX        = (mTestX -vMean) / vStd\n",
    "vTestY        = oTorchTestSet.targets.numpy()\n",
    "\n",
    "#-- Apply model to data:\n",
    "mHatTestY = oModel.Forward(mTestX.T)\n",
    "print(f'Test accuracy: {100 * Accuracy(mHatTestY, vTestY)}%')\n",
    "\n",
    "#-- Plot a few mistakes:\n",
    "vHatTestY = np.argmax(mHatTestY, axis=0)\n",
    "vWrongIdx = np.nonzero(vTestY != vHatTestY)[0]\n",
    "\n",
    "N, d   = mX.shape\n",
    "fig, _ = plt.subplots(2, 3, figsize=(14, 7))\n",
    "for ax in fig.axes:\n",
    "    idx = vWrongIdx[np.random.randint(0, len(vWrongIdx))]\n",
    "    ax.imshow   (np.reshape(mTestX[idx,:] * vStd + vMean, (28, 28)), cmap='gray')\n",
    "    ax.set_title(f'True label: {lClasses[vTestY[idx]]}\\nEstimated label: {lClasses[vHatTestY[idx]]}', color='r')\n",
    "    \n",
    "plt.tight_layout()\n",
    "plt.show()"
   ]
  }
 ],
 "metadata": {
  "kernelspec": {
   "display_name": "Python 3",
   "language": "python",
   "name": "python3"
  },
  "language_info": {
   "codemirror_mode": {
    "name": "ipython",
    "version": 3
   },
   "file_extension": ".py",
   "mimetype": "text/x-python",
   "name": "python",
   "nbconvert_exporter": "python",
   "pygments_lexer": "ipython3",
   "version": "3.8.8"
  },
  "toc": {
   "base_numbering": 1,
   "nav_menu": {},
   "number_sections": false,
   "sideBar": true,
   "skip_h1_title": false,
   "title_cell": "Table of Contents",
   "title_sidebar": "Contents",
   "toc_cell": false,
   "toc_position": {},
   "toc_section_display": true,
   "toc_window_display": false
  },
  "varInspector": {
   "cols": {
    "lenName": 16,
    "lenType": 16,
    "lenVar": 40
   },
   "kernels_config": {
    "python": {
     "delete_cmd_postfix": "",
     "delete_cmd_prefix": "del ",
     "library": "var_list.py",
     "varRefreshCmd": "print(var_dic_list())"
    },
    "r": {
     "delete_cmd_postfix": ") ",
     "delete_cmd_prefix": "rm(",
     "library": "var_list.r",
     "varRefreshCmd": "cat(var_dic_list()) "
    }
   },
   "types_to_exclude": [
    "module",
    "function",
    "builtin_function_or_method",
    "instance",
    "_Feature"
   ],
   "window_display": false
  }
 },
 "nbformat": 4,
 "nbformat_minor": 4
}
