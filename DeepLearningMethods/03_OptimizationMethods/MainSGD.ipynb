{
 "cells": [
  {
   "cell_type": "markdown",
   "metadata": {},
   "source": [
    "![Fixel Algorithms](https://fixelalgorithms.co/images/CCExt.png)"
   ]
  },
  {
   "cell_type": "markdown",
   "metadata": {},
   "source": [
    "# <center> Deep Learning Methods </center>\n",
    "## <center> Lecture 3 - Optimization Methods </center>\n",
    "### <center> Stochastic Gradient Descent (SGD)</center>"
   ]
  },
  {
   "cell_type": "markdown",
   "metadata": {},
   "source": [
    "[![Open In Colab](https://colab.research.google.com/assets/colab-badge.svg)](https://colab.research.google.com/github/FixelAlgorithmsTeam/FixelCourses/blob/master/DeepLearningMethods/03_OptimizationMethods/MainSGD.ipynb)"
   ]
  },
  {
   "cell_type": "code",
   "execution_count": 1,
   "metadata": {},
   "outputs": [
    {
     "data": {
      "text/html": [
       "<style>.container { width:80% !important; }</style>"
      ],
      "text/plain": [
       "<IPython.core.display.HTML object>"
      ]
     },
     "metadata": {},
     "output_type": "display_data"
    }
   ],
   "source": [
    "#-- Wide screen:\n",
    "from IPython.core.display import display, HTML\n",
    "display(HTML(\"<style>.container { width:80% !important; }</style>\"))"
   ]
  },
  {
   "cell_type": "code",
   "execution_count": 2,
   "metadata": {},
   "outputs": [],
   "source": [
    "#-- Auto reload:\n",
    "%load_ext autoreload\n",
    "%autoreload 2"
   ]
  },
  {
   "cell_type": "code",
   "execution_count": 3,
   "metadata": {},
   "outputs": [],
   "source": [
    "import numpy             as np\n",
    "import matplotlib.pyplot as plt\n",
    "import matplotlib\n",
    "\n",
    "matplotlib.rc('font', **{'size' : 16})\n",
    "np.random.seed(1)"
   ]
  },
  {
   "cell_type": "markdown",
   "metadata": {},
   "source": [
    "For Colab users:"
   ]
  },
  {
   "cell_type": "code",
   "execution_count": 4,
   "metadata": {},
   "outputs": [],
   "source": [
    "if 'google.colab' in str(get_ipython()):\n",
    "    !wget https://raw.githubusercontent.com/FixelAlgorithmsTeam/FixelCourses/master/DeepLearningMethods/03_OptimizationMethods/SGD_Aux.py"
   ]
  },
  {
   "cell_type": "code",
   "execution_count": 5,
   "metadata": {},
   "outputs": [],
   "source": [
    "#-- What we have so far:\n",
    "from SGD_Aux import LinearLayer, ReLULayer, SequentialModel, CrossEntropyLoss, Accuracy"
   ]
  },
  {
   "cell_type": "markdown",
   "metadata": {},
   "source": [
    "#### Get Fashion MNIST dataset"
   ]
  },
  {
   "cell_type": "code",
   "execution_count": 6,
   "metadata": {},
   "outputs": [
    {
     "data": {
      "text/plain": [
       "((60000, 784), (60000,), (10000, 784), (10000,))"
      ]
     },
     "execution_count": 6,
     "metadata": {},
     "output_type": "execute_result"
    }
   ],
   "source": [
    "import torchvision\n",
    "import torchvision.transforms as transforms\n",
    "\n",
    "#-- For now, we use PyTorch just to get the data:\n",
    "oTrainSet = torchvision.datasets.FashionMNIST(root='../../data', train=True,  download=True, transform=transforms.ToTensor())\n",
    "oTestSet  = torchvision.datasets.FashionMNIST(root='../../data', train=False, download=True, transform=transforms.ToTensor())\n",
    "\n",
    "lClasses = oTrainSet.classes\n",
    "mTrainX  = oTrainSet.data.view(-1,784).numpy() / 255\n",
    "mTestX   = oTestSet .data.view(-1,784).numpy() / 255\n",
    "vTrainY  = oTrainSet.targets.numpy()\n",
    "vTestY   = oTestSet .targets.numpy()\n",
    "\n",
    "(\n",
    "mTrainX.shape, \n",
    "vTrainY.shape, \n",
    "mTestX .shape,  \n",
    "vTestY .shape\n",
    ")"
   ]
  },
  {
   "cell_type": "code",
   "execution_count": 8,
   "metadata": {},
   "outputs": [
    {
     "data": {
      "image/png": "[encoded data removed]",
      "text/plain": [
       "<Figure size 864x432 with 6 Axes>"
      ]
     },
     "metadata": {
      "needs_background": "light"
     },
     "output_type": "display_data"
    }
   ],
   "source": [
    "#-- Plot a few examples:\n",
    "N, d   = mTrainX.shape\n",
    "fig, _ = plt.subplots(2, 3, figsize=(12, 6))\n",
    "for ax in fig.axes:\n",
    "    idx = np.random.randint(N)\n",
    "    ax.imshow   (np.reshape(mTrainX[idx,:], (28, 28)), cmap='gray')\n",
    "    ax.set_title(f'True label: {lClasses[vTrainY[idx]]}')\n",
    "    \n",
    "plt.tight_layout()\n",
    "plt.show()"
   ]
  },
  {
   "cell_type": "markdown",
   "metadata": {},
   "source": [
    "####  Normalize data:"
   ]
  },
  {
   "cell_type": "code",
   "execution_count": 9,
   "metadata": {},
   "outputs": [],
   "source": [
    "vMean = mTrainX.mean(0)\n",
    "vStd  = mTrainX.std (0)\n",
    "\n",
    "mTrainX -= vMean\n",
    "mTestX  -= vMean\n",
    "mTrainX /= vStd\n",
    "mTestX  /= vStd"
   ]
  },
  {
   "cell_type": "markdown",
   "metadata": {},
   "source": [
    "### Define a dataset (data loader) class:"
   ]
  },
  {
   "cell_type": "code",
   "execution_count": 10,
   "metadata": {},
   "outputs": [],
   "source": [
    "class Dataset:\n",
    "    def __init__(self, mX, vY, batchSize):\n",
    "        self.mX        = mX\n",
    "        self.vY        = vY\n",
    "        self.N         = len(vY)\n",
    "        self.batchSize = min(batchSize, self.N)\n",
    "        self.nBatches  = self.N // self.batchSize\n",
    "            \n",
    "    def __len__(self):\n",
    "        return self.nBatches\n",
    "    \n",
    "    #-- Loop over mini-batches:\n",
    "    def __iter__(self):\n",
    "        vIdx = np.random.permutation(self.N)\n",
    "    \n",
    "        for ii in range(self.nBatches):\n",
    "            startIdx  = ii * self.batchSize\n",
    "            vBatchIdx = vIdx[startIdx : startIdx + self.batchSize]\n",
    "            mBatchX   = self.mX[:,vBatchIdx]\n",
    "            vBatchY   = self.vY[vBatchIdx]\n",
    "\n",
    "            yield mBatchX, vBatchY"
   ]
  },
  {
   "cell_type": "markdown",
   "metadata": {},
   "source": [
    "#### A simple test for `dataset`:\n",
    "Notice that we drop the last (non-full) batch"
   ]
  },
  {
   "cell_type": "code",
   "execution_count": 22,
   "metadata": {},
   "outputs": [
    {
     "name": "stdout",
     "output_type": "stream",
     "text": [
      "mX_0.shape = (784, 15), vY_0.shape = (15,)\n",
      "mX_1.shape = (784, 15), vY_1.shape = (15,)\n",
      "mX_2.shape = (784, 15), vY_2.shape = (15,)\n",
      "Dataset length = 3\n"
     ]
    }
   ],
   "source": [
    "batchSize = 15\n",
    "oDataset  = Dataset(mTrainX[:55,:].T, vTrainY[:55], batchSize)\n",
    "for ii, (mXi, vYi) in enumerate(oDataset):\n",
    "    print(f'mX_{ii}.shape = {mXi.shape}, vY_{ii}.shape = {vYi.shape}')\n",
    "    \n",
    "print(f'Dataset length = {len(oDataset)}')"
   ]
  },
  {
   "cell_type": "markdown",
   "metadata": {},
   "source": [
    "#### Constructing train and validation data loaders:"
   ]
  },
  {
   "cell_type": "code",
   "execution_count": 23,
   "metadata": {},
   "outputs": [],
   "source": [
    "batchSize = 256\n",
    "oTrainSet = Dataset(mTrainX.T, vTrainY, batchSize)\n",
    "oTestSet  = Dataset(mTestX.T,  vTestY,  batchSize)"
   ]
  },
  {
   "cell_type": "markdown",
   "metadata": {},
   "source": [
    "### Training loop with mini-batches:"
   ]
  },
  {
   "cell_type": "code",
   "execution_count": 24,
   "metadata": {},
   "outputs": [],
   "source": [
    "import time\n",
    "\n",
    "def TrainEpoch(oModel, oTrainData, learningRate):\n",
    "    \n",
    "    epochLoss = 0\n",
    "    epochAcc  = 0\n",
    "    count     = 0\n",
    "\n",
    "    #-- Iterate over the mini-batches:\n",
    "    for ii, (mX, vY) in enumerate(oTrainData, 1):\n",
    "       \n",
    "        #-- Forward:\n",
    "        mZ        = oModel.Forward(mX)\n",
    "        loss, mDz = CrossEntropyLoss(vY, mZ)\n",
    "\n",
    "        #-- Backward:\n",
    "        oModel.Backward(mDz)\n",
    "\n",
    "        #-- Update parameters (stochasitc gradient descnet):\n",
    "        for oLayer in oModel.lLayers:\n",
    "            for sParam in oLayer.dGrads:\n",
    "                oLayer.dParams[sParam] -= learningRate * oLayer.dGrads[sParam]\n",
    "        \n",
    "        epochLoss += loss\n",
    "        epochAcc  += Accuracy(mZ, vY)\n",
    "        print(f'\\rIteration: {ii:3d}: loss = {loss:2.6f}', end='')\n",
    "    \n",
    "    print('', end='\\r')\n",
    "    epochLoss /= ii\n",
    "    epochAcc  /= ii\n",
    "    \n",
    "    return epochLoss, epochAcc\n",
    "\n",
    "#--------------------------------------------------------------------------------#\n",
    "#--------------------------------------------------------------------------------#\n",
    "def ValidationEpoch(oModel, oValData):\n",
    "    \n",
    "    epochLoss = 0\n",
    "    epochAcc  = 0\n",
    "    count     = 0\n",
    "    \n",
    "    #-- Iterate over the mini-batches:\n",
    "    for ii, (mX, vY) in enumerate(oValData, 1):\n",
    "        \n",
    "        #-- Forward:\n",
    "        mZ      = oModel.Forward(mX)\n",
    "        loss, _ = CrossEntropyLoss(vY, mZ)\n",
    "               \n",
    "        epochLoss += loss\n",
    "        epochAcc  += Accuracy(mZ, vY)\n",
    "    \n",
    "    epochLoss /= ii\n",
    "    epochAcc  /= ii\n",
    "    \n",
    "    return epochLoss, epochAcc"
   ]
  },
  {
   "cell_type": "markdown",
   "metadata": {},
   "source": [
    "### Qeustion:\n",
    "Why do we use mini-batches in `ValidationLoop` as well?"
   ]
  },
  {
   "cell_type": "markdown",
   "metadata": {},
   "source": [
    "#### Train model function:"
   ]
  },
  {
   "cell_type": "code",
   "execution_count": 25,
   "metadata": {},
   "outputs": [],
   "source": [
    "def TrainModel(oModel, oTrainData, oValData, numEpochs, learningRate):\n",
    "    for epoch in range(numEpochs):\n",
    "        startTime           = time.time()\n",
    "        trainLoss, trainAcc = TrainEpoch     (oModel, oTrainData, learningRate) #-- train\n",
    "        valLoss,   valAcc   = ValidationEpoch(oModel, oValData)                 #-- validation\n",
    "        epochTime           = time.time() - startTime\n",
    "\n",
    "        #-- Display:\n",
    "        print('Epoch '              f'{epoch    :3d}:',  end='')\n",
    "        print(' | Train loss: '     f'{trainLoss:6.3f}', end='')\n",
    "        print(' | Val loss: '       f'{valLoss  :6.3f}', end='')\n",
    "        print(' | Train Accuracy: ' f'{trainAcc :6.3f}', end='')\n",
    "        print(' | Val Accuracy: '   f'{valAcc   :6.3f}', end='')\n",
    "        print(' | epoch time: '     f'{epochTime:6.3f} |')"
   ]
  },
  {
   "cell_type": "markdown",
   "metadata": {},
   "source": [
    "### Train a shallow model (with mini-batches):"
   ]
  },
  {
   "cell_type": "code",
   "execution_count": 27,
   "metadata": {},
   "outputs": [
    {
     "name": "stdout",
     "output_type": "stream",
     "text": [
      "Epoch   0: | Train loss:  0.510 | Val loss:  0.454 | Train Accuracy:  0.823 | Val Accuracy:  0.844 | epoch time:  0.686 |\n",
      "Epoch   1: | Train loss:  0.360 | Val loss:  0.386 | Train Accuracy:  0.871 | Val Accuracy:  0.863 | epoch time:  0.742 |\n",
      "Epoch   2: | Train loss:  0.323 | Val loss:  0.390 | Train Accuracy:  0.883 | Val Accuracy:  0.865 | epoch time:  0.696 |\n",
      "Epoch   3: | Train loss:  0.291 | Val loss:  0.361 | Train Accuracy:  0.894 | Val Accuracy:  0.874 | epoch time:  0.668 |\n",
      "Epoch   4: | Train loss:  0.273 | Val loss:  0.373 | Train Accuracy:  0.901 | Val Accuracy:  0.869 | epoch time:  0.717 |\n",
      "Epoch   5: | Train loss:  0.258 | Val loss:  0.357 | Train Accuracy:  0.906 | Val Accuracy:  0.875 | epoch time:  0.726 |\n",
      "Epoch   6: | Train loss:  0.240 | Val loss:  0.357 | Train Accuracy:  0.912 | Val Accuracy:  0.876 | epoch time:  0.688 |\n",
      "Epoch   7: | Train loss:  0.231 | Val loss:  0.348 | Train Accuracy:  0.915 | Val Accuracy:  0.884 | epoch time:  0.721 |\n",
      "Epoch   8: | Train loss:  0.218 | Val loss:  0.362 | Train Accuracy:  0.920 | Val Accuracy:  0.877 | epoch time:  0.675 |\n",
      "Epoch   9: | Train loss:  0.206 | Val loss:  0.349 | Train Accuracy:  0.925 | Val Accuracy:  0.880 | epoch time:  0.723 |\n"
     ]
    }
   ],
   "source": [
    "oModel = SequentialModel([\n",
    "        LinearLayer(784, 200), ReLULayer(),\n",
    "        LinearLayer(200, 10),\n",
    "])\n",
    "\n",
    "nEpochs = 10\n",
    "lr      = 2e-1\n",
    "\n",
    "TrainModel(oModel, oTrainSet, oTestSet, nEpochs, lr)"
   ]
  },
  {
   "cell_type": "markdown",
   "metadata": {},
   "source": [
    "#### Apply model to test data:"
   ]
  },
  {
   "cell_type": "code",
   "execution_count": 30,
   "metadata": {},
   "outputs": [
    {
     "name": "stdout",
     "output_type": "stream",
     "text": [
      "Test accuracy: 87.94%\n"
     ]
    },
    {
     "data": {
      "image/png": "[encoded data removed]",
      "text/plain": [
       "<Figure size 1008x504 with 6 Axes>"
      ]
     },
     "metadata": {
      "needs_background": "light"
     },
     "output_type": "display_data"
    }
   ],
   "source": [
    "#-- Apply model to data:\n",
    "mHatTestY = oModel.Forward(mTestX.T)\n",
    "print(f'Test accuracy: {100 * Accuracy(mHatTestY, vTestY)}%')\n",
    "\n",
    "#-- Plot a few mistakes:\n",
    "vHatTestY = np.argmax(mHatTestY, axis=0)\n",
    "vWrongIdx = np.nonzero(vTestY != vHatTestY)[0]\n",
    "\n",
    "N, d   = mTestX.shape\n",
    "fig, _ = plt.subplots(2, 3, figsize=(14, 7))\n",
    "for ax in fig.axes:\n",
    "    idx = vWrongIdx[np.random.randint(0, len(vWrongIdx))]\n",
    "    ax.imshow   (np.reshape(mTestX[idx,:] * vStd + vMean, (28, 28)), cmap='gray')\n",
    "    ax.set_title(f'True label: {lClasses[vTestY[idx]]}\\nEstimated label: {lClasses[vHatTestY[idx]]}', color='r')\n",
    "    \n",
    "plt.tight_layout()\n",
    "plt.show()"
   ]
  },
  {
   "cell_type": "markdown",
   "metadata": {},
   "source": [
    "### Exercise\n",
    "* Add a drop last flag (`bDropLast`):\n",
    "    * If `bDropLast = False` then the last non-full batch is also returned in the iterations.\n",
    "* Update `TrainEpoch` and `ValidationEpoch` accordingly\n",
    "\n",
    "**Extra**: Play with the model (and the hyper-parameters) and improve your validation accuracy."
   ]
  },
  {
   "cell_type": "code",
   "execution_count": 22,
   "metadata": {},
   "outputs": [],
   "source": [
    "class Dataset:\n",
    "    def __init__(self, mX, vY, batchSize, bDropLast=False):\n",
    "        self.mX        = mX\n",
    "        self.vY        = vY\n",
    "        self.N         = len(vY)\n",
    "        self.batchSize = min(batchSize, self.N)\n",
    "        self.nBatches  = ???\n",
    "            \n",
    "    def __len__(self):\n",
    "        return self.nBatches\n",
    "    \n",
    "    #-- Loop over mini-batches:\n",
    "    def __iter__(self):\n",
    "        vIdx = np.random.permutation(self.N)\n",
    "    \n",
    "        for ii in range(self.nBatches):\n",
    "            startIdx  = ii * self.batchSize\n",
    "            vBatchIdx = vIdx[startIdx : startIdx + self.batchSize]\n",
    "            mBatchX   = self.mX[:,vBatchIdx]\n",
    "            vBatchY   = self.vY[vBatchIdx]\n",
    "\n",
    "            yield mBatchX, vBatchY"
   ]
  },
  {
   "cell_type": "markdown",
   "metadata": {},
   "source": [
    "#### Test your implementation\n",
    "You should get $4$ batches, where the last one is not full."
   ]
  },
  {
   "cell_type": "code",
   "execution_count": 23,
   "metadata": {},
   "outputs": [
    {
     "name": "stdout",
     "output_type": "stream",
     "text": [
      "mXi.shape = (784, 5), vYi.shape = (5,)\n",
      "mXi.shape = (784, 5), vYi.shape = (5,)\n",
      "mXi.shape = (784, 5), vYi.shape = (5,)\n",
      "mXi.shape = (784, 2), vYi.shape = (2,)\n"
     ]
    }
   ],
   "source": [
    "batchSize = 5\n",
    "oDataset  = Dataset(mX[:17,:].T, vY[:17], batchSize)\n",
    "for (mXi, vYi) in oDataset:\n",
    "    print(f'mXi.shape = {mXi.shape}, vYi.shape = {vYi.shape}')"
   ]
  },
  {
   "cell_type": "markdown",
   "metadata": {},
   "source": [
    "#### Update `TrainEpoch` and `ValidationEpoch`\n",
    "* Remember that each mini-batch might be of a different size.\n",
    "* Use `len(vY)` to get the current batch size."
   ]
  },
  {
   "cell_type": "code",
   "execution_count": 24,
   "metadata": {},
   "outputs": [],
   "source": [
    "import time\n",
    "\n",
    "def TrainEpoch(oModel, oTrainData, learningRate):\n",
    "    \n",
    "    epochLoss = 0\n",
    "    epochAcc  = 0\n",
    "    count     = 0\n",
    "\n",
    "    #-- Iterate over the mini-batches:\n",
    "    for ii, (mX, vY) in enumerate(oTrainData):\n",
    "        \n",
    "        ???\n",
    "        \n",
    "        #-- Forward:\n",
    "        mZ        = oModel.Forward(mX)\n",
    "        loss, mDz = CrossEntropyLoss(vY, mZ)\n",
    "\n",
    "        #-- Backward:\n",
    "        oModel.Backward(mDz)\n",
    "\n",
    "        #-- Update parameters (stochasitc gradient descnet):\n",
    "        for oLayer in oModel.lLayers:\n",
    "            for sParam in oLayer.dGrads:\n",
    "                oLayer.dParams[sParam] -= learningRate * oLayer.dGrads[sParam]\n",
    "        \n",
    "        epochLoss += ???\n",
    "        epochAcc  += ???\n",
    "        print(f'\\rIteration: {ii:3d}: loss = {loss:2.6f}', end='')\n",
    "    \n",
    "    print('', end='\\r')\n",
    "    epochLoss /= ???\n",
    "    epochAcc  /= ???\n",
    "    \n",
    "    return epochLoss, epochAcc\n",
    "\n",
    "#--------------------------------------------------------------------------------#\n",
    "#--------------------------------------------------------------------------------#\n",
    "def ValidationEpoch(oModel, oValData):\n",
    "    \n",
    "    epochLoss = 0\n",
    "    epochAcc  = 0\n",
    "    count     = 0\n",
    "    \n",
    "    #-- Iterate over the mini-batches:\n",
    "    for ii, (mX, vY) in enumerate(oValData):\n",
    "        \n",
    "        ???\n",
    "        \n",
    "        #-- Forward:\n",
    "        mZ      = oModel.Forward(mX)\n",
    "        loss, _ = CrossEntropyLoss(vY, mZ)\n",
    "               \n",
    "        epochLoss += ???\n",
    "        epochAcc  += ???\n",
    "    \n",
    "    epochLoss /= ???\n",
    "    epochAcc  /= ???\n",
    "    \n",
    "    return epochLoss, epochAcc"
   ]
  },
  {
   "cell_type": "markdown",
   "metadata": {},
   "source": [
    "#### Train model function:"
   ]
  },
  {
   "cell_type": "code",
   "execution_count": 25,
   "metadata": {},
   "outputs": [],
   "source": [
    "def TrainModel(oModel, oTrainData, oValData, numEpochs, learningRate):\n",
    "    for epoch in range(numEpochs):\n",
    "        startTime           = time.time()\n",
    "        trainLoss, trainAcc = TrainEpoch     (oModel, oTrainData, learningRate) #-- train\n",
    "        valLoss,   valAcc   = ValidationEpoch(oModel, oValData)                 #-- validation\n",
    "        epochTime           = time.time() - startTime\n",
    "\n",
    "        #-- Display:\n",
    "        print('Epoch '              f'{epoch    :3d}:',  end='')\n",
    "        print(' | Train loss: '     f'{trainLoss:6.3f}', end='')\n",
    "        print(' | Val loss: '       f'{valLoss  :6.3f}', end='')\n",
    "        print(' | Train Accuracy: ' f'{trainAcc :6.3f}', end='')\n",
    "        print(' | Val Accuracy: '   f'{valAcc   :6.3f}', end='')\n",
    "        print(' | epoch time: '     f'{epochTime:6.3f} |')"
   ]
  },
  {
   "cell_type": "markdown",
   "metadata": {},
   "source": [
    "#### Improve your accuracy:"
   ]
  },
  {
   "cell_type": "code",
   "execution_count": 37,
   "metadata": {},
   "outputs": [
    {
     "ename": "SyntaxError",
     "evalue": "invalid syntax (<ipython-input-37-8e5f29408008>, line 1)",
     "output_type": "error",
     "traceback": [
      "\u001b[1;36m  File \u001b[1;32m\"<ipython-input-37-8e5f29408008>\"\u001b[1;36m, line \u001b[1;32m1\u001b[0m\n\u001b[1;33m    oModel = SequentialModel([???])\u001b[0m\n\u001b[1;37m                              ^\u001b[0m\n\u001b[1;31mSyntaxError\u001b[0m\u001b[1;31m:\u001b[0m invalid syntax\n"
     ]
    }
   ],
   "source": [
    "oModel = SequentialModel([???])\n",
    "\n",
    "nEpochs = ???\n",
    "lr      = ???\n",
    "\n",
    "TrainModel(oModel, oTrainSet, oTestSet, nEpochs, lr)"
   ]
  },
  {
   "cell_type": "code",
   "execution_count": null,
   "metadata": {},
   "outputs": [],
   "source": []
  }
 ],
 "metadata": {
  "kernelspec": {
   "display_name": "Python 3 (ipykernel)",
   "language": "python",
   "name": "python3"
  },
  "language_info": {
   "codemirror_mode": {
    "name": "ipython",
    "version": 3
   },
   "file_extension": ".py",
   "mimetype": "text/x-python",
   "name": "python",
   "nbconvert_exporter": "python",
   "pygments_lexer": "ipython3",
   "version": "3.8.11"
  },
  "toc": {
   "base_numbering": 1,
   "nav_menu": {},
   "number_sections": false,
   "sideBar": true,
   "skip_h1_title": false,
   "title_cell": "Table of Contents",
   "title_sidebar": "Contents",
   "toc_cell": false,
   "toc_position": {},
   "toc_section_display": true,
   "toc_window_display": false
  },
  "varInspector": {
   "cols": {
    "lenName": 16,
    "lenType": 16,
    "lenVar": 40
   },
   "kernels_config": {
    "python": {
     "delete_cmd_postfix": "",
     "delete_cmd_prefix": "del ",
     "library": "var_list.py",
     "varRefreshCmd": "print(var_dic_list())"
    },
    "r": {
     "delete_cmd_postfix": ") ",
     "delete_cmd_prefix": "rm(",
     "library": "var_list.r",
     "varRefreshCmd": "cat(var_dic_list()) "
    }
   },
   "types_to_exclude": [
    "module",
    "function",
    "builtin_function_or_method",
    "instance",
    "_Feature"
   ],
   "window_display": false
  }
 },
 "nbformat": 4,
 "nbformat_minor": 4
}
