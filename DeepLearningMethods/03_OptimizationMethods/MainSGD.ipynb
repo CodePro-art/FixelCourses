{
 "cells": [
  {
   "cell_type": "markdown",
   "metadata": {},
   "source": [
    "![Fixel Algorithms](https://fixelalgorithms.co/images/CCExt.png)"
   ]
  },
  {
   "cell_type": "markdown",
   "metadata": {},
   "source": [
    "# <center> Deep Learning Methods </center>\n",
    "## <center> Lecture 3 - Optimization Methods </center>\n",
    "### <center> Stochastic Gradient Descent (SGD)</center>"
   ]
  },
  {
   "cell_type": "markdown",
   "metadata": {},
   "source": [
    "[![Open In Colab](https://colab.research.google.com/assets/colab-badge.svg)](https://colab.research.google.com/github/FixelAlgorithmsTeam/FixelCourses/blob/master/DeepLearningMethods/03_OptimizationMethods/MainSGD.ipynb)"
   ]
  },
  {
   "cell_type": "code",
   "execution_count": 1,
   "metadata": {},
   "outputs": [
    {
     "data": {
      "text/html": [
       "<style>.container { width:80% !important; }</style>"
      ],
      "text/plain": [
       "<IPython.core.display.HTML object>"
      ]
     },
     "metadata": {},
     "output_type": "display_data"
    }
   ],
   "source": [
    "#-- Wide screen:\n",
    "from IPython.core.display import display, HTML\n",
    "display(HTML(\"<style>.container { width:80% !important; }</style>\"))"
   ]
  },
  {
   "cell_type": "code",
   "execution_count": 2,
   "metadata": {},
   "outputs": [],
   "source": [
    "#-- Auto reload:\n",
    "%load_ext autoreload\n",
    "%autoreload 2"
   ]
  },
  {
   "cell_type": "code",
   "execution_count": 3,
   "metadata": {},
   "outputs": [],
   "source": [
    "import numpy             as np\n",
    "import matplotlib.pyplot as plt\n",
    "import matplotlib\n",
    "\n",
    "matplotlib.rc('font', **{'size' : 16})\n",
    "np.random.seed(1)"
   ]
  },
  {
   "cell_type": "markdown",
   "metadata": {},
   "source": [
    "For Colab users:"
   ]
  },
  {
   "cell_type": "code",
   "execution_count": 4,
   "metadata": {},
   "outputs": [
    {
     "name": "stderr",
     "output_type": "stream",
     "text": [
      "'wget' is not recognized as an internal or external command,\n",
      "operable program or batch file.\n"
     ]
    }
   ],
   "source": [
    "!wget https://raw.githubusercontent.com/FixelAlgorithmsTeam/FixelCourses/master/DeepLearningMethods/03_OptimizationMethods/SGD_Aux.py"
   ]
  },
  {
   "cell_type": "code",
   "execution_count": 5,
   "metadata": {},
   "outputs": [],
   "source": [
    "#-- What we have so far:\n",
    "from SGD_Aux import LinearLayer, ReLULayer, SequentialModel, CrossEntropyLoss, Accuracy"
   ]
  },
  {
   "cell_type": "markdown",
   "metadata": {},
   "source": [
    "#### Get Fashion MNIST dataset"
   ]
  },
  {
   "cell_type": "code",
   "execution_count": 6,
   "metadata": {},
   "outputs": [
    {
     "data": {
      "text/plain": [
       "((60000, 784), (60000,))"
      ]
     },
     "execution_count": 6,
     "metadata": {},
     "output_type": "execute_result"
    }
   ],
   "source": [
    "import torchvision\n",
    "import torchvision.transforms as transforms\n",
    "\n",
    "#-- For now, we use PyTorch just to get the data:\n",
    "oTorchTrainSet = torchvision.datasets.FashionMNIST(root='../../data', train=True,  download=True, transform=transforms.ToTensor())\n",
    "# oTorchTestSet  = torchvision.datasets.FashionMNIST(root='./data', train=False, download=True, transform=transforms.ToTensor())\n",
    "\n",
    "lClasses = oTorchTrainSet.classes\n",
    "mX       = oTorchTrainSet.data.view(-1,784).numpy() / 255\n",
    "vY       = oTorchTrainSet.targets.numpy()\n",
    "mX.shape, vY.shape"
   ]
  },
  {
   "cell_type": "code",
   "execution_count": 7,
   "metadata": {},
   "outputs": [
    {
     "data": {
      "text/plain": [
       "[(0, 'T-shirt/top'),\n",
       " (1, 'Trouser'),\n",
       " (2, 'Pullover'),\n",
       " (3, 'Dress'),\n",
       " (4, 'Coat'),\n",
       " (5, 'Sandal'),\n",
       " (6, 'Shirt'),\n",
       " (7, 'Sneaker'),\n",
       " (8, 'Bag'),\n",
       " (9, 'Ankle boot')]"
      ]
     },
     "execution_count": 7,
     "metadata": {},
     "output_type": "execute_result"
    }
   ],
   "source": [
    "list(zip(range(10), lClasses))"
   ]
  },
  {
   "cell_type": "code",
   "execution_count": 8,
   "metadata": {},
   "outputs": [
    {
     "data": {
      "image/png": "[encoded data removed]",
      "text/plain": [
       "<Figure size 864x432 with 6 Axes>"
      ]
     },
     "metadata": {
      "needs_background": "light"
     },
     "output_type": "display_data"
    }
   ],
   "source": [
    "#-- Plot a few examples:\n",
    "N, d   = mX.shape\n",
    "fig, _ = plt.subplots(2, 3, figsize=(12, 6))\n",
    "for ax in fig.axes:\n",
    "    idx = np.random.randint(N)\n",
    "    ax.imshow   (np.reshape(mX[idx,:], (28, 28)), cmap='gray')\n",
    "    ax.set_title(f'True label: {lClasses[vY[idx]]}')\n",
    "    \n",
    "plt.tight_layout()\n",
    "plt.show()"
   ]
  },
  {
   "cell_type": "markdown",
   "metadata": {},
   "source": [
    "####  Normalize data:"
   ]
  },
  {
   "cell_type": "code",
   "execution_count": 9,
   "metadata": {},
   "outputs": [],
   "source": [
    "vMean = mX.mean(0)\n",
    "vStd  = mX.std (0)\n",
    "mX    = (mX - vMean) / vStd"
   ]
  },
  {
   "cell_type": "markdown",
   "metadata": {},
   "source": [
    "####  Split to train and validation:"
   ]
  },
  {
   "cell_type": "code",
   "execution_count": 10,
   "metadata": {},
   "outputs": [
    {
     "data": {
      "text/plain": [
       "((55000, 784), (55000,), (5000, 784), (5000,))"
      ]
     },
     "execution_count": 10,
     "metadata": {},
     "output_type": "execute_result"
    }
   ],
   "source": [
    "from sklearn.model_selection import train_test_split\n",
    "\n",
    "nTrain = 55000\n",
    "nVal   = 5000\n",
    "mTrainX, mValX, vTrainY, vValY = train_test_split(mX, vY, train_size=nTrain, test_size=nVal)\n",
    "\n",
    "(\n",
    "mTrainX.shape, \n",
    "vTrainY.shape, \n",
    "mValX  .shape,  \n",
    "vValY  .shape\n",
    ")"
   ]
  },
  {
   "cell_type": "markdown",
   "metadata": {},
   "source": [
    "### Define a dataset (data loader) class:"
   ]
  },
  {
   "cell_type": "code",
   "execution_count": 11,
   "metadata": {},
   "outputs": [],
   "source": [
    "class Dataset:\n",
    "    def __init__(self, mX, vY, batchSize):\n",
    "        self.mX        = mX\n",
    "        self.vY        = vY\n",
    "        self.N         = len(vY)\n",
    "        self.batchSize = min(batchSize, self.N)\n",
    "        self.nBatches  = self.N // self.batchSize\n",
    "            \n",
    "    def __len__(self):\n",
    "        return self.nBatches\n",
    "    \n",
    "    #-- Loop over mini-batches:\n",
    "    def __iter__(self):\n",
    "        vIdx = np.random.permutation(self.N)\n",
    "    \n",
    "        for ii in range(self.nBatches):\n",
    "            startIdx  = ii * self.batchSize\n",
    "            vBatchIdx = vIdx[startIdx : startIdx + self.batchSize]\n",
    "            mBatchX   = self.mX[:,vBatchIdx]\n",
    "            vBatchY   = self.vY[vBatchIdx]\n",
    "\n",
    "            yield mBatchX, vBatchY"
   ]
  },
  {
   "cell_type": "markdown",
   "metadata": {},
   "source": [
    "#### A simple test for `dataset`:\n",
    "Notice that we drop the last (non-full) batch"
   ]
  },
  {
   "cell_type": "code",
   "execution_count": 12,
   "metadata": {},
   "outputs": [
    {
     "name": "stdout",
     "output_type": "stream",
     "text": [
      "mXi.shape = (784, 5), vYi.shape = (5,)\n",
      "mXi.shape = (784, 5), vYi.shape = (5,)\n",
      "mXi.shape = (784, 5), vYi.shape = (5,)\n"
     ]
    }
   ],
   "source": [
    "batchSize = 5\n",
    "oDataset  = Dataset(mX[:17,:].T, vY[:17], batchSize)\n",
    "for (mXi, vYi) in oDataset:\n",
    "    print(f'mXi.shape = {mXi.shape}, vYi.shape = {vYi.shape}')"
   ]
  },
  {
   "cell_type": "markdown",
   "metadata": {},
   "source": [
    "### Constructing train and validation data loaders:"
   ]
  },
  {
   "cell_type": "code",
   "execution_count": 13,
   "metadata": {},
   "outputs": [],
   "source": [
    "batchSize = 256\n",
    "oTrainSet = Dataset(mTrainX.T, vTrainY, batchSize)\n",
    "oValSet   = Dataset(mValX.T,   vValY,   batchSize)"
   ]
  },
  {
   "cell_type": "markdown",
   "metadata": {},
   "source": [
    "### Training loop with mini-batches:"
   ]
  },
  {
   "cell_type": "code",
   "execution_count": 14,
   "metadata": {},
   "outputs": [],
   "source": [
    "import time\n",
    "\n",
    "def TrainEpoch(oModel, oTrainData, learningRate):\n",
    "    \n",
    "    epochLoss = 0\n",
    "    epochAcc  = 0\n",
    "    count     = 0\n",
    "\n",
    "    #-- Iterate over the mini-batches:\n",
    "    for ii, (mX, vY) in enumerate(oTrainData, 1):\n",
    "       \n",
    "        #-- Forward:\n",
    "        mZ        = oModel.Forward(mX)\n",
    "        loss, mDz = CrossEntropyLoss(vY, mZ)\n",
    "\n",
    "        #-- Backward:\n",
    "        oModel.Backward(mDz)\n",
    "\n",
    "        #-- Update parameters (stochasitc gradient descnet):\n",
    "        for oLayer in oModel.lLayers:\n",
    "            for sParam in oLayer.dGrads:\n",
    "                oLayer.dParams[sParam] -= learningRate * oLayer.dGrads[sParam]\n",
    "        \n",
    "        epochLoss += loss\n",
    "        epochAcc  += Accuracy(mZ, vY)\n",
    "        print(f'\\rIteration: {ii:3d}: loss = {loss:2.6f}', end='')\n",
    "    \n",
    "    print('', end='\\r')\n",
    "    epochLoss /= ii\n",
    "    epochAcc  /= ii\n",
    "    \n",
    "    return epochLoss, epochAcc\n",
    "\n",
    "#--------------------------------------------------------------------------------#\n",
    "#--------------------------------------------------------------------------------#\n",
    "def ValidationEpoch(oModel, oValData):\n",
    "    \n",
    "    epochLoss = 0\n",
    "    epochAcc  = 0\n",
    "    count     = 0\n",
    "    \n",
    "    #-- Iterate over the mini-batches:\n",
    "    for ii, (mX, vY) in enumerate(oValData, 1):\n",
    "        \n",
    "        #-- Forward:\n",
    "        mZ      = oModel.Forward(mX)\n",
    "        loss, _ = CrossEntropyLoss(vY, mZ)\n",
    "               \n",
    "        epochLoss += loss\n",
    "        epochAcc  += Accuracy(mZ, vY)\n",
    "    \n",
    "    epochLoss /= ii\n",
    "    epochAcc  /= ii\n",
    "    \n",
    "    return epochLoss, epochAcc"
   ]
  },
  {
   "cell_type": "markdown",
   "metadata": {},
   "source": [
    "### Qeustion:\n",
    "Why do we use mini-batches in `ValidationLoop` as well?"
   ]
  },
  {
   "cell_type": "markdown",
   "metadata": {},
   "source": [
    "#### Train model function:"
   ]
  },
  {
   "cell_type": "code",
   "execution_count": 15,
   "metadata": {},
   "outputs": [],
   "source": [
    "def TrainModel(oModel, oTrainData, oValData, numEpochs, learningRate):\n",
    "    for epoch in range(numEpochs):\n",
    "        startTime           = time.time()\n",
    "        trainLoss, trainAcc = TrainEpoch     (oModel, oTrainData, learningRate) #-- train\n",
    "        valLoss,   valAcc   = ValidationEpoch(oModel, oValData)                 #-- validation\n",
    "        epochTime           = time.time() - startTime\n",
    "\n",
    "        #-- Display:\n",
    "        print('Epoch '              f'{epoch    :03d}:',  end='')\n",
    "        print(' | Train loss: '     f'{trainLoss:.5f}' ,  end='')\n",
    "        print(' | Val loss: '       f'{valLoss  :.5f}' ,  end='')\n",
    "        print(' | Train Accuracy: ' f'{trainAcc :2.4f}',  end='')\n",
    "        print(' | Val Accuracy: '   f'{valAcc   :2.4f}',  end='')\n",
    "        print(' | epoch time: '     f'{epochTime:3.3f} |'       )"
   ]
  },
  {
   "cell_type": "markdown",
   "metadata": {},
   "source": [
    "### Train a shallow model (with mini-batches):"
   ]
  },
  {
   "cell_type": "code",
   "execution_count": 16,
   "metadata": {},
   "outputs": [
    {
     "name": "stdout",
     "output_type": "stream",
     "text": [
      "Epoch 000: | Train loss: 0.51519 | Val loss: 0.38507 | Train Accuracy: 0.8192 | Val Accuracy: 0.8559 | epoch time: 1.378 |\n",
      "Epoch 001: | Train loss: 0.36500 | Val loss: 0.35040 | Train Accuracy: 0.8676 | Val Accuracy: 0.8705 | epoch time: 1.401 |\n",
      "Epoch 002: | Train loss: 0.32380 | Val loss: 0.33404 | Train Accuracy: 0.8835 | Val Accuracy: 0.8775 | epoch time: 1.467 |\n",
      "Epoch 003: | Train loss: 0.29770 | Val loss: 0.31909 | Train Accuracy: 0.8928 | Val Accuracy: 0.8845 | epoch time: 1.517 |\n",
      "Epoch 004: | Train loss: 0.27915 | Val loss: 0.30545 | Train Accuracy: 0.8980 | Val Accuracy: 0.8890 | epoch time: 1.402 |\n",
      "Epoch 005: | Train loss: 0.25931 | Val loss: 0.30721 | Train Accuracy: 0.9053 | Val Accuracy: 0.8908 | epoch time: 1.376 |\n",
      "Epoch 006: | Train loss: 0.24355 | Val loss: 0.30008 | Train Accuracy: 0.9119 | Val Accuracy: 0.8939 | epoch time: 1.439 |\n",
      "Epoch 007: | Train loss: 0.23025 | Val loss: 0.29649 | Train Accuracy: 0.9175 | Val Accuracy: 0.8974 | epoch time: 1.444 |\n",
      "Epoch 008: | Train loss: 0.21956 | Val loss: 0.30453 | Train Accuracy: 0.9203 | Val Accuracy: 0.8912 | epoch time: 1.507 |\n",
      "Epoch 009: | Train loss: 0.21010 | Val loss: 0.29438 | Train Accuracy: 0.9226 | Val Accuracy: 0.8935 | epoch time: 1.491 |\n"
     ]
    }
   ],
   "source": [
    "oModel = SequentialModel([\n",
    "        LinearLayer(784, 200),\n",
    "        ReLULayer(),\n",
    "        LinearLayer(200, 10),\n",
    "])\n",
    "\n",
    "nEpochs = 10\n",
    "lr      = 2e-1\n",
    "\n",
    "TrainModel(oModel, oTrainSet, oValSet, nEpochs, lr)"
   ]
  },
  {
   "cell_type": "markdown",
   "metadata": {},
   "source": [
    "### Apply model to test data:"
   ]
  },
  {
   "cell_type": "code",
   "execution_count": 21,
   "metadata": {},
   "outputs": [
    {
     "name": "stdout",
     "output_type": "stream",
     "text": [
      "Test accuracy: 88.07000000000001%\n"
     ]
    },
    {
     "data": {
      "image/png": "[encoded data removed]",
      "text/plain": [
       "<Figure size 1008x504 with 6 Axes>"
      ]
     },
     "metadata": {
      "needs_background": "light"
     },
     "output_type": "display_data"
    }
   ],
   "source": [
    "oTorchTestSet = torchvision.datasets.FashionMNIST(root='../../data', train=False, download=True, transform=transforms.ToTensor())\n",
    "mTestX        = oTorchTestSet.data.view(-1,784).numpy() / 255\n",
    "mTestX        = (mTestX -vMean) / vStd\n",
    "vTestY        = oTorchTestSet.targets.numpy()\n",
    "\n",
    "#-- Apply model to data:\n",
    "mHatTestY = oModel.Forward(mTestX.T)\n",
    "print(f'Test accuracy: {100 * Accuracy(mHatTestY, vTestY)}%')\n",
    "\n",
    "#-- Plot a few mistakes:\n",
    "vHatTestY = np.argmax(mHatTestY, axis=0)\n",
    "vWrongIdx = np.nonzero(vTestY != vHatTestY)[0]\n",
    "\n",
    "N, d   = mX.shape\n",
    "fig, _ = plt.subplots(2, 3, figsize=(14, 7))\n",
    "for ax in fig.axes:\n",
    "    idx = vWrongIdx[np.random.randint(0, len(vWrongIdx))]\n",
    "    ax.imshow   (np.reshape(mTestX[idx,:] * vStd + vMean, (28, 28)), cmap='gray')\n",
    "    ax.set_title(f'True label: {lClasses[vTestY[idx]]}\\nEstimated label: {lClasses[vHatTestY[idx]]}', color='r')\n",
    "    \n",
    "plt.tight_layout()\n",
    "plt.show()"
   ]
  },
  {
   "cell_type": "markdown",
   "metadata": {},
   "source": [
    "### Exercise\n",
    "* Add a drop last flag (`bDropLast`):\n",
    "    * If `bDropLast = False` then the last non-full batch is also returned in the iterations.\n",
    "* Update `TrainEpoch` and `ValidationEpoch` accordingly\n",
    "\n",
    "**Extra**: Play with the model (and the hyper-parameters) and improve your validation accuracy."
   ]
  },
  {
   "cell_type": "code",
   "execution_count": 22,
   "metadata": {},
   "outputs": [],
   "source": [
    "class Dataset:\n",
    "    def __init__(self, mX, vY, batchSize, bDropLast=False):\n",
    "        self.mX        = mX\n",
    "        self.vY        = vY\n",
    "        self.N         = len(vY)\n",
    "        self.batchSize = min(batchSize, self.N)\n",
    "        self.nBatches  = ???\n",
    "            \n",
    "    def __len__(self):\n",
    "        return self.nBatches\n",
    "    \n",
    "    #-- Loop over mini-batches:\n",
    "    def __iter__(self):\n",
    "        vIdx = np.random.permutation(self.N)\n",
    "    \n",
    "        for ii in range(self.nBatches):\n",
    "            startIdx  = ii * self.batchSize\n",
    "            vBatchIdx = vIdx[startIdx : startIdx + self.batchSize]\n",
    "            mBatchX   = self.mX[:,vBatchIdx]\n",
    "            vBatchY   = self.vY[vBatchIdx]\n",
    "\n",
    "            yield mBatchX, vBatchY"
   ]
  },
  {
   "cell_type": "markdown",
   "metadata": {},
   "source": [
    "#### Test your implementation\n",
    "You should get $4$ batches, where the last one is not full."
   ]
  },
  {
   "cell_type": "code",
   "execution_count": 23,
   "metadata": {},
   "outputs": [
    {
     "name": "stdout",
     "output_type": "stream",
     "text": [
      "mXi.shape = (784, 5), vYi.shape = (5,)\n",
      "mXi.shape = (784, 5), vYi.shape = (5,)\n",
      "mXi.shape = (784, 5), vYi.shape = (5,)\n",
      "mXi.shape = (784, 2), vYi.shape = (2,)\n"
     ]
    }
   ],
   "source": [
    "batchSize = 5\n",
    "oDataset  = Dataset(mX[:17,:].T, vY[:17], batchSize)\n",
    "for (mXi, vYi) in oDataset:\n",
    "    print(f'mXi.shape = {mXi.shape}, vYi.shape = {vYi.shape}')"
   ]
  },
  {
   "cell_type": "markdown",
   "metadata": {},
   "source": [
    "#### Update `TrainEpoch` and `ValidationEpoch`\n",
    "* Remember that each mini-batch might be of a different size.\n",
    "* Use `len(vY)` to get the current batch size."
   ]
  },
  {
   "cell_type": "code",
   "execution_count": 24,
   "metadata": {},
   "outputs": [],
   "source": [
    "import time\n",
    "\n",
    "def TrainEpoch(oModel, oTrainData, learningRate):\n",
    "    \n",
    "    epochLoss = 0\n",
    "    epochAcc  = 0\n",
    "    count     = 0\n",
    "\n",
    "    #-- Iterate over the mini-batches:\n",
    "    for ii, (mX, vY) in enumerate(oTrainData):\n",
    "        \n",
    "        ???\n",
    "        \n",
    "        #-- Forward:\n",
    "        mZ        = oModel.Forward(mX)\n",
    "        loss, mDz = CrossEntropyLoss(vY, mZ)\n",
    "\n",
    "        #-- Backward:\n",
    "        oModel.Backward(mDz)\n",
    "\n",
    "        #-- Update parameters (stochasitc gradient descnet):\n",
    "        for oLayer in oModel.lLayers:\n",
    "            for sParam in oLayer.dGrads:\n",
    "                oLayer.dParams[sParam] -= learningRate * oLayer.dGrads[sParam]\n",
    "        \n",
    "        epochLoss += ???\n",
    "        epochAcc  += ???\n",
    "        print(f'\\rIteration: {ii:3d}: loss = {loss:2.6f}', end='')\n",
    "    \n",
    "    print('', end='\\r')\n",
    "    epochLoss /= ???\n",
    "    epochAcc  /= ???\n",
    "    \n",
    "    return epochLoss, epochAcc\n",
    "\n",
    "#--------------------------------------------------------------------------------#\n",
    "#--------------------------------------------------------------------------------#\n",
    "def ValidationEpoch(oModel, oValData):\n",
    "    \n",
    "    epochLoss = 0\n",
    "    epochAcc  = 0\n",
    "    count     = 0\n",
    "    \n",
    "    #-- Iterate over the mini-batches:\n",
    "    for ii, (mX, vY) in enumerate(oValData):\n",
    "        \n",
    "        ???\n",
    "        \n",
    "        #-- Forward:\n",
    "        mZ      = oModel.Forward(mX)\n",
    "        loss, _ = CrossEntropyLoss(vY, mZ)\n",
    "               \n",
    "        epochLoss += ???\n",
    "        epochAcc  += ???\n",
    "    \n",
    "    epochLoss /= ???\n",
    "    epochAcc  /= ???\n",
    "    \n",
    "    return epochLoss, epochAcc"
   ]
  },
  {
   "cell_type": "markdown",
   "metadata": {},
   "source": [
    "#### Train model function:"
   ]
  },
  {
   "cell_type": "code",
   "execution_count": 25,
   "metadata": {},
   "outputs": [],
   "source": [
    "def TrainModel(oModel, oTrainData, oValData, numEpochs, learningRate):\n",
    "    for epoch in range(numEpochs):\n",
    "        startTime           = time.time()\n",
    "        trainLoss, trainAcc = TrainEpoch     (oModel, oTrainData, learningRate) #-- train\n",
    "        valLoss,   valAcc   = ValidationEpoch(oModel, oValData)                 #-- validation\n",
    "        epochTime           = time.time() - startTime\n",
    "\n",
    "        #-- Display:\n",
    "        print('Epoch '              f'{epoch    :03d}:',  end='')\n",
    "        print(' | Train loss: '     f'{trainLoss:.5f}' ,  end='')\n",
    "        print(' | Val loss: '       f'{valLoss  :.5f}' ,  end='')\n",
    "        print(' | Train Accuracy: ' f'{trainAcc :2.4f}',  end='')\n",
    "        print(' | Val Accuracy: '   f'{valAcc   :2.4f}',  end='')\n",
    "        print(' | epoch time: '     f'{epochTime:3.3f} |'       )"
   ]
  },
  {
   "cell_type": "markdown",
   "metadata": {},
   "source": [
    "#### Train a shallow model:"
   ]
  },
  {
   "cell_type": "code",
   "execution_count": 26,
   "metadata": {},
   "outputs": [
    {
     "name": "stdout",
     "output_type": "stream",
     "text": [
      "Epoch 000: | Train loss: 0.52008 | Val loss: 0.38751 | Train Accuracy: 0.8195 | Val Accuracy: 0.8581 | epoch time: 1.357 |\n",
      "Epoch 001: | Train loss: 0.36536 | Val loss: 0.34676 | Train Accuracy: 0.8681 | Val Accuracy: 0.8744 | epoch time: 1.318 |\n",
      "Epoch 002: | Train loss: 0.32491 | Val loss: 0.32239 | Train Accuracy: 0.8817 | Val Accuracy: 0.8791 | epoch time: 1.430 |\n",
      "Epoch 003: | Train loss: 0.29800 | Val loss: 0.30587 | Train Accuracy: 0.8914 | Val Accuracy: 0.8867 | epoch time: 1.371 |\n",
      "Epoch 004: | Train loss: 0.27861 | Val loss: 0.30565 | Train Accuracy: 0.8989 | Val Accuracy: 0.8857 | epoch time: 1.352 |\n",
      "Epoch 005: | Train loss: 0.25914 | Val loss: 0.29820 | Train Accuracy: 0.9047 | Val Accuracy: 0.8908 | epoch time: 1.368 |\n",
      "Epoch 006: | Train loss: 0.24277 | Val loss: 0.29586 | Train Accuracy: 0.9108 | Val Accuracy: 0.8935 | epoch time: 1.353 |\n",
      "Epoch 007: | Train loss: 0.23527 | Val loss: 0.30589 | Train Accuracy: 0.9144 | Val Accuracy: 0.8900 | epoch time: 1.349 |\n",
      "Epoch 008: | Train loss: 0.22124 | Val loss: 0.29720 | Train Accuracy: 0.9183 | Val Accuracy: 0.8949 | epoch time: 1.510 |\n",
      "Epoch 009: | Train loss: 0.20642 | Val loss: 0.30215 | Train Accuracy: 0.9255 | Val Accuracy: 0.8929 | epoch time: 1.405 |\n"
     ]
    }
   ],
   "source": [
    "oModel = SequentialModel([\n",
    "        LinearLayer(784, 200),\n",
    "        ReLULayer(),\n",
    "        LinearLayer(200, 10),\n",
    "])\n",
    "\n",
    "nEpochs = 10\n",
    "lr      = 2e-1\n",
    "\n",
    "TrainModel(oModel, oTrainSet, oValSet, nEpochs, lr)"
   ]
  },
  {
   "cell_type": "markdown",
   "metadata": {},
   "source": [
    "#### Apply model to the test data:"
   ]
  },
  {
   "cell_type": "code",
   "execution_count": null,
   "metadata": {},
   "outputs": [],
   "source": [
    "oTorchTestSet = torchvision.datasets.FashionMNIST(root='../../data', train=False, download=True, transform=transforms.ToTensor())\n",
    "mTestX        = oTorchTestSet.data.view(-1,784).numpy() / 255\n",
    "mTestX        = (mTestX -vMean) / vStd\n",
    "vTestY        = oTorchTestSet.targets.numpy()\n",
    "\n",
    "#-- Apply model to data:\n",
    "mHatTestY = oModel.Forward(mTestX.T)\n",
    "print(f'Test accuracy: {100 * Accuracy(mHatTestY, vTestY)}%')\n",
    "\n",
    "#-- Plot a few mistakes:\n",
    "vHatTestY = np.argmax(mHatTestY, axis=0)\n",
    "vWrongIdx = np.nonzero(vTestY != vHatTestY)[0]\n",
    "\n",
    "N, d   = mX.shape\n",
    "fig, _ = plt.subplots(2, 3, figsize=(14, 7))\n",
    "for ax in fig.axes:\n",
    "    idx = vWrongIdx[np.random.randint(0, len(vWrongIdx))]\n",
    "    ax.imshow   (np.reshape(mTestX[idx,:] * vStd + vMean, (28, 28)), cmap='gray')\n",
    "    ax.set_title(f'True label: {lClasses[vTestY[idx]]}\\nEstimated label: {lClasses[vHatTestY[idx]]}', color='r')\n",
    "    \n",
    "plt.tight_layout()\n",
    "plt.show()"
   ]
  },
  {
   "cell_type": "markdown",
   "metadata": {},
   "source": [
    "#### Improve your accuracy:"
   ]
  },
  {
   "cell_type": "code",
   "execution_count": 37,
   "metadata": {},
   "outputs": [
    {
     "ename": "SyntaxError",
     "evalue": "invalid syntax (<ipython-input-37-8e5f29408008>, line 1)",
     "output_type": "error",
     "traceback": [
      "\u001b[1;36m  File \u001b[1;32m\"<ipython-input-37-8e5f29408008>\"\u001b[1;36m, line \u001b[1;32m1\u001b[0m\n\u001b[1;33m    oModel = SequentialModel([???])\u001b[0m\n\u001b[1;37m                              ^\u001b[0m\n\u001b[1;31mSyntaxError\u001b[0m\u001b[1;31m:\u001b[0m invalid syntax\n"
     ]
    }
   ],
   "source": [
    "oModel = SequentialModel([???])\n",
    "\n",
    "nEpochs = ???\n",
    "lr      = ???\n",
    "\n",
    "TrainModel(oModel, oTrainSet, oValSet, nEpochs, lr)"
   ]
  },
  {
   "cell_type": "code",
   "execution_count": null,
   "metadata": {},
   "outputs": [],
   "source": []
  }
 ],
 "metadata": {
  "kernelspec": {
   "display_name": "Python 3",
   "language": "python",
   "name": "python3"
  },
  "language_info": {
   "codemirror_mode": {
    "name": "ipython",
    "version": 3
   },
   "file_extension": ".py",
   "mimetype": "text/x-python",
   "name": "python",
   "nbconvert_exporter": "python",
   "pygments_lexer": "ipython3",
   "version": "3.8.8"
  },
  "toc": {
   "base_numbering": 1,
   "nav_menu": {},
   "number_sections": false,
   "sideBar": true,
   "skip_h1_title": false,
   "title_cell": "Table of Contents",
   "title_sidebar": "Contents",
   "toc_cell": false,
   "toc_position": {},
   "toc_section_display": true,
   "toc_window_display": false
  },
  "varInspector": {
   "cols": {
    "lenName": 16,
    "lenType": 16,
    "lenVar": 40
   },
   "kernels_config": {
    "python": {
     "delete_cmd_postfix": "",
     "delete_cmd_prefix": "del ",
     "library": "var_list.py",
     "varRefreshCmd": "print(var_dic_list())"
    },
    "r": {
     "delete_cmd_postfix": ") ",
     "delete_cmd_prefix": "rm(",
     "library": "var_list.r",
     "varRefreshCmd": "cat(var_dic_list()) "
    }
   },
   "types_to_exclude": [
    "module",
    "function",
    "builtin_function_or_method",
    "instance",
    "_Feature"
   ],
   "window_display": false
  }
 },
 "nbformat": 4,
 "nbformat_minor": 4
}
