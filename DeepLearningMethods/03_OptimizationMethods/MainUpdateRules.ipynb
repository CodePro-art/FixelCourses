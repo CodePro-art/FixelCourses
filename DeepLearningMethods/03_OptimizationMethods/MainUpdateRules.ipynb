{
 "cells": [
  {
   "cell_type": "markdown",
   "metadata": {},
   "source": [
    "![Fixel Algorithms](https://fixelalgorithms.co/images/CCExt.png)"
   ]
  },
  {
   "cell_type": "markdown",
   "metadata": {},
   "source": [
    "# <center> Deep Learning Methods </center>\n",
    "## <center> Lecture 3 - Optimization Methods </center>\n",
    "### <center> Update Rules (SGDM & Adam)</center>"
   ]
  },
  {
   "cell_type": "markdown",
   "metadata": {},
   "source": [
    "[![Open In Colab](https://colab.research.google.com/assets/colab-badge.svg)](https://colab.research.google.com/github/FixelAlgorithmsTeam/FixelCourses/blob/master/DeepLearningMethods/03_OptimizationMethods/MainUpdateRules.ipynb)"
   ]
  },
  {
   "cell_type": "code",
   "execution_count": 1,
   "metadata": {
    "ExecuteTime": {
     "end_time": "2021-10-24T06:30:40.777801Z",
     "start_time": "2021-10-24T06:30:40.770803Z"
    }
   },
   "outputs": [
    {
     "data": {
      "text/html": [
       "<style>.container { width:80% !important; }</style>"
      ],
      "text/plain": [
       "<IPython.core.display.HTML object>"
      ]
     },
     "metadata": {},
     "output_type": "display_data"
    }
   ],
   "source": [
    "#-- Wide screen:\n",
    "from IPython.core.display import display, HTML\n",
    "display(HTML(\"<style>.container { width:80% !important; }</style>\"))"
   ]
  },
  {
   "cell_type": "code",
   "execution_count": 2,
   "metadata": {
    "ExecuteTime": {
     "end_time": "2021-10-24T06:30:41.330626Z",
     "start_time": "2021-10-24T06:30:41.306604Z"
    }
   },
   "outputs": [],
   "source": [
    "#-- Auto reload:\n",
    "%load_ext autoreload\n",
    "%autoreload 2"
   ]
  },
  {
   "cell_type": "code",
   "execution_count": 3,
   "metadata": {
    "ExecuteTime": {
     "end_time": "2021-10-24T06:30:41.901711Z",
     "start_time": "2021-10-24T06:30:41.626603Z"
    }
   },
   "outputs": [],
   "source": [
    "import numpy             as np\n",
    "import matplotlib.pyplot as plt\n",
    "import matplotlib\n",
    "\n",
    "np.random.seed(1)"
   ]
  },
  {
   "cell_type": "markdown",
   "metadata": {},
   "source": [
    "For Colab users:"
   ]
  },
  {
   "cell_type": "code",
   "execution_count": 4,
   "metadata": {
    "ExecuteTime": {
     "end_time": "2021-10-24T06:30:42.263499Z",
     "start_time": "2021-10-24T06:30:42.226799Z"
    }
   },
   "outputs": [],
   "source": [
    "if 'google.colab' in str(get_ipython()):\n",
    "    !wget https://raw.githubusercontent.com/FixelAlgorithmsTeam/FixelCourses/master/DeepLearningMethods/03_OptimizationMethods/UpdateRulesAux.py"
   ]
  },
  {
   "cell_type": "code",
   "execution_count": 5,
   "metadata": {
    "ExecuteTime": {
     "end_time": "2021-10-24T06:30:42.637627Z",
     "start_time": "2021-10-24T06:30:42.610602Z"
    }
   },
   "outputs": [],
   "source": [
    "#-- What we have so far:\n",
    "from UpdateRulesAux import LinearLayer, ReLULayer, SequentialModel, CrossEntropyLoss, Dataset, Accuracy"
   ]
  },
  {
   "cell_type": "markdown",
   "metadata": {},
   "source": [
    "### Get Fashion MNIST dataset"
   ]
  },
  {
   "cell_type": "code",
   "execution_count": 6,
   "metadata": {
    "ExecuteTime": {
     "end_time": "2021-10-24T06:30:45.644589Z",
     "start_time": "2021-10-24T06:30:45.050253Z"
    }
   },
   "outputs": [
    {
     "data": {
      "text/plain": [
       "((60000, 784), (60000,), (10000, 784), (10000,))"
      ]
     },
     "execution_count": 6,
     "metadata": {},
     "output_type": "execute_result"
    }
   ],
   "source": [
    "import torchvision\n",
    "import torchvision.transforms as transforms\n",
    "\n",
    "#-- For now, we use PyTorch just to get the data:\n",
    "oTrainSet = torchvision.datasets.FashionMNIST(root='../../data', train=True,  download=True, transform=transforms.ToTensor())\n",
    "oTestSet  = torchvision.datasets.FashionMNIST(root='../../data', train=False, download=True, transform=transforms.ToTensor())\n",
    "\n",
    "lClasses = oTrainSet.classes\n",
    "mTrainX  = oTrainSet.data.view(-1,784).numpy() / 255\n",
    "mTestX   = oTestSet .data.view(-1,784).numpy() / 255\n",
    "vTrainY  = oTrainSet.targets.numpy()\n",
    "vTestY   = oTestSet .targets.numpy()\n",
    "\n",
    "(\n",
    "mTrainX.shape, \n",
    "vTrainY.shape, \n",
    "mTestX .shape,  \n",
    "vTestY .shape\n",
    ")"
   ]
  },
  {
   "cell_type": "code",
   "execution_count": 7,
   "metadata": {
    "ExecuteTime": {
     "end_time": "2021-10-24T06:30:49.111109Z",
     "start_time": "2021-10-24T06:30:48.796863Z"
    }
   },
   "outputs": [
    {
     "data": {
      "image/png": "[encoded data removed]",
      "text/plain": [
       "<Figure size 800x400 with 6 Axes>"
      ]
     },
     "metadata": {},
     "output_type": "display_data"
    }
   ],
   "source": [
    "#-- Plot a few examples:\n",
    "N, d   = mTrainX.shape\n",
    "fig, _ = plt.subplots(2, 3, figsize=(8, 4))\n",
    "for ax in fig.axes:\n",
    "    idx = np.random.randint(N)\n",
    "    ax.imshow   (np.reshape(mTrainX[idx,:], (28, 28)), cmap='gray')\n",
    "    ax.set_title(f'True label: {lClasses[vTrainY[idx]]}')\n",
    "    \n",
    "plt.tight_layout()\n",
    "plt.show()"
   ]
  },
  {
   "cell_type": "markdown",
   "metadata": {},
   "source": [
    "####  Normalize data:"
   ]
  },
  {
   "cell_type": "code",
   "execution_count": 8,
   "metadata": {
    "ExecuteTime": {
     "end_time": "2021-10-24T06:30:51.554786Z",
     "start_time": "2021-10-24T06:30:51.300309Z"
    }
   },
   "outputs": [],
   "source": [
    "vMean = mTrainX.mean(0)\n",
    "vStd  = mTrainX.std (0)\n",
    "\n",
    "mTrainX -= vMean\n",
    "mTestX  -= vMean\n",
    "mTrainX /= vStd\n",
    "mTestX  /= vStd"
   ]
  },
  {
   "cell_type": "markdown",
   "metadata": {},
   "source": [
    "#### Data loaders:"
   ]
  },
  {
   "cell_type": "code",
   "execution_count": 9,
   "metadata": {
    "ExecuteTime": {
     "end_time": "2021-10-24T06:31:03.992554Z",
     "start_time": "2021-10-24T06:31:03.950425Z"
    }
   },
   "outputs": [],
   "source": [
    "batchSize = 256\n",
    "oTrainSet = Dataset(mTrainX.T, vTrainY, batchSize)\n",
    "oTestSet  = Dataset(mTestX.T,  vTestY,  batchSize)"
   ]
  },
  {
   "cell_type": "markdown",
   "metadata": {},
   "source": [
    "### A basic optimizer (only SGD):\n",
    "$$\\boldsymbol{p}^{\\left(t+1\\right)}=\\boldsymbol{p}^{\\left(t\\right)}-\\mu\\nabla_{\\boldsymbol{p}}L$$"
   ]
  },
  {
   "cell_type": "code",
   "execution_count": 10,
   "metadata": {
    "ExecuteTime": {
     "end_time": "2021-10-24T06:34:34.072683Z",
     "start_time": "2021-10-24T06:34:33.989419Z"
    }
   },
   "outputs": [],
   "source": [
    "#-- Basic gradient descent update rule:\n",
    "class SGD:\n",
    "    def __init__(self, lr=1e-3):\n",
    "        self.lr = lr\n",
    "        \n",
    "    def Step(self, mP, mDp, dState={}):\n",
    "        mP -= self.lr * mDp\n",
    "        return mP, dState\n",
    "\n",
    "#--------------------------------------------------------------------------------#\n",
    "#--------------------------------------------------------------------------------#\n",
    "class Optimizer:\n",
    "    def __init__(self, oUpdateRule):\n",
    "        self.oUpdateRule = oUpdateRule #-- SGD, SGDM, ADAM, etc.\n",
    "        self.dStates     = {}\n",
    "            \n",
    "    def Step(self, oModel, lr=None):\n",
    "        if lr is not None:\n",
    "            self.oUpdateRule.lr = lr\n",
    "        \n",
    "        for ii, oLayer in enumerate(oModel.lLayers):\n",
    "            for sParamKey in oLayer.dGrads:\n",
    "                #-- Get param, gradient and history:\n",
    "                mP       = oLayer.dParams[sParamKey]\n",
    "                mDp      = oLayer.dGrads [sParamKey]\n",
    "                sParamID = f'{ii}_{sParamKey}'\n",
    "                dState   = self.dStates.get(sParamID, {})\n",
    "                \n",
    "                #-- Apply step:\n",
    "                mP, dState = self.oUpdateRule.Step(mP, mDp, dState)\n",
    "                \n",
    "                #-- Set param and hisoty:\n",
    "                oLayer.dParams[sParamKey] = mP\n",
    "                self.dStates  [sParamID ] = dState"
   ]
  },
  {
   "cell_type": "markdown",
   "metadata": {},
   "source": [
    "### Epoch with an optimizer:\n",
    "* We merge `TrainEpoch` and `ValidationEpoch` into a single function.  \n",
    "* `bTrain` indicates whether we train or validate."
   ]
  },
  {
   "cell_type": "code",
   "execution_count": 11,
   "metadata": {
    "ExecuteTime": {
     "end_time": "2021-10-24T06:36:07.476403Z",
     "start_time": "2021-10-24T06:36:07.433199Z"
    }
   },
   "outputs": [],
   "source": [
    "import time\n",
    "    \n",
    "def Epoch(oModel, oData, oOptim=None, bTrain=True):\n",
    "    \n",
    "    epochLoss = 0\n",
    "    epochAcc  = 0\n",
    "    count     = 0\n",
    "    #-- Iterate over the mini-batches:\n",
    "    for ii, (mX, vY) in enumerate(oData):\n",
    "        \n",
    "        Nb     = len(vY)\n",
    "        count += Nb\n",
    "        \n",
    "        #-- Forward:\n",
    "        mZ        = oModel.Forward  (mX)\n",
    "        loss, mDz = CrossEntropyLoss(vY, mZ)\n",
    "\n",
    "        if bTrain == True:\n",
    "            oModel.Backward(mDz)    #-- backward\n",
    "            oOptim.Step    (oModel) #-- update parameters\n",
    "            \n",
    "        epochLoss += Nb * loss\n",
    "        epochAcc  += Nb * Accuracy(mZ, vY)\n",
    "        print(f'\\rIteration: {ii:3d}: loss = {loss:2.6f}', end='')\n",
    "    \n",
    "    print('', end='\\r')\n",
    "    epochLoss /= count\n",
    "    epochAcc  /= count\n",
    "    \n",
    "    return epochLoss, epochAcc"
   ]
  },
  {
   "cell_type": "code",
   "execution_count": 12,
   "metadata": {
    "ExecuteTime": {
     "end_time": "2021-10-24T06:36:16.779649Z",
     "start_time": "2021-10-24T06:36:16.699975Z"
    }
   },
   "outputs": [],
   "source": [
    "def TrainModel(oModel, oTrainData, oValData, nEpochs, oOptim):\n",
    "\n",
    "    vTrainLoss = np.full(nEpochs, np.nan)\n",
    "    vTrainAcc  = np.full(nEpochs, np.nan)\n",
    "    vValLoss   = np.full(nEpochs, np.nan)\n",
    "    vValAcc    = np.full(nEpochs, np.nan)\n",
    "    for epoch in range(nEpochs):\n",
    "        startTime           = time.time()\n",
    "        trainLoss, trainAcc = Epoch(oModel, oTrainData, oOptim, bTrain=True )\n",
    "        valLoss,   valAcc   = Epoch(oModel, oValData,           bTrain=False)\n",
    "        epochTime           = time.time() - startTime\n",
    "        \n",
    "        #-- Display:\n",
    "        print('Epoch '              f'{epoch    :3d}:',  end='')\n",
    "        print(' | Train loss: '     f'{trainLoss:6.3f}', end='')\n",
    "        print(' | Val loss: '       f'{valLoss  :6.3f}', end='')\n",
    "        print(' | Train Accuracy: ' f'{trainAcc :6.3f}', end='')\n",
    "        print(' | Val Accuracy: '   f'{valAcc   :6.3f}', end='')\n",
    "        print(' | epoch time: '     f'{epochTime:6.3f} |')\n",
    "        \n",
    "        vTrainLoss[epoch] = trainLoss\n",
    "        vTrainAcc [epoch] = trainAcc\n",
    "        vValLoss  [epoch] = valLoss\n",
    "        vValAcc   [epoch] = valAcc\n",
    "        \n",
    "    return vTrainLoss, vTrainAcc, vValLoss, vValAcc"
   ]
  },
  {
   "cell_type": "markdown",
   "metadata": {},
   "source": [
    "####  Define a model:"
   ]
  },
  {
   "cell_type": "code",
   "execution_count": 13,
   "metadata": {
    "ExecuteTime": {
     "end_time": "2021-10-24T06:36:22.683207Z",
     "start_time": "2021-10-24T06:36:22.646173Z"
    }
   },
   "outputs": [],
   "source": [
    "def GetModel():\n",
    "    oModel = SequentialModel([\n",
    "        LinearLayer(784, 350), ReLULayer(),\n",
    "        LinearLayer(350, 250), ReLULayer(),\n",
    "        LinearLayer(250, 150), ReLULayer(),\n",
    "        LinearLayer(150, 50 ), ReLULayer(),\n",
    "        LinearLayer(50,  10 ),\n",
    "    ])\n",
    "    \n",
    "    return oModel"
   ]
  },
  {
   "cell_type": "markdown",
   "metadata": {},
   "source": [
    "### Train the model with SGD:"
   ]
  },
  {
   "cell_type": "code",
   "execution_count": 14,
   "metadata": {
    "ExecuteTime": {
     "end_time": "2021-10-24T06:36:59.783034Z",
     "start_time": "2021-10-24T06:36:41.207887Z"
    },
    "scrolled": true
   },
   "outputs": [
    {
     "name": "stdout",
     "output_type": "stream",
     "text": [
      "Epoch   0: | Train loss:  0.687 | Val loss:  0.539 | Train Accuracy:  0.769 | Val Accuracy:  0.812 | epoch time:  1.896 |\n",
      "Epoch   1: | Train loss:  0.436 | Val loss:  0.477 | Train Accuracy:  0.845 | Val Accuracy:  0.831 | epoch time:  1.804 |\n",
      "Epoch   2: | Train loss:  0.385 | Val loss:  0.441 | Train Accuracy:  0.861 | Val Accuracy:  0.844 | epoch time:  1.833 |\n",
      "Epoch   3: | Train loss:  0.355 | Val loss:  0.421 | Train Accuracy:  0.871 | Val Accuracy:  0.854 | epoch time:  1.835 |\n",
      "Epoch   4: | Train loss:  0.331 | Val loss:  0.412 | Train Accuracy:  0.880 | Val Accuracy:  0.854 | epoch time:  1.839 |\n",
      "Epoch   5: | Train loss:  0.314 | Val loss:  0.402 | Train Accuracy:  0.886 | Val Accuracy:  0.856 | epoch time:  1.915 |\n",
      "Epoch   6: | Train loss:  0.299 | Val loss:  0.393 | Train Accuracy:  0.892 | Val Accuracy:  0.861 | epoch time:  1.906 |\n",
      "Epoch   7: | Train loss:  0.285 | Val loss:  0.399 | Train Accuracy:  0.896 | Val Accuracy:  0.861 | epoch time:  1.814 |\n",
      "Epoch   8: | Train loss:  0.274 | Val loss:  0.391 | Train Accuracy:  0.901 | Val Accuracy:  0.865 | epoch time:  1.797 |\n",
      "Epoch   9: | Train loss:  0.263 | Val loss:  0.372 | Train Accuracy:  0.904 | Val Accuracy:  0.870 | epoch time:  1.856 |\n"
     ]
    }
   ],
   "source": [
    "oModel  = GetModel()\n",
    "oOptim  = Optimizer(SGD(lr=2e-2))\n",
    "nEpochs = 10\n",
    "\n",
    "TrainModel(oModel, oTrainSet, oTestSet, nEpochs, oOptim);"
   ]
  },
  {
   "cell_type": "markdown",
   "metadata": {},
   "source": [
    "### SGDM\n",
    "$$\\boldsymbol{v}^{\\left(t\\right)}=\\beta\\boldsymbol{v}^{\\left(t-1\\right)}-\\mu\\nabla f\\left(\\boldsymbol{p}^{\\left(t\\right)}\\right)$$\n",
    "$$\\boldsymbol{p}^{\\left(t+1\\right)}=\\boldsymbol{p}^{\\left(t\\right)}+\\boldsymbol{v}^{\\left(t\\right)}$$"
   ]
  },
  {
   "cell_type": "code",
   "execution_count": 15,
   "metadata": {
    "ExecuteTime": {
     "end_time": "2021-10-24T06:38:07.098220Z",
     "start_time": "2021-10-24T06:38:07.060391Z"
    }
   },
   "outputs": [],
   "source": [
    "class SGDM:\n",
    "    def __init__(self, lr=1e-3, β=0.9):\n",
    "        self.lr = lr\n",
    "        self.β  = β\n",
    "        \n",
    "    def Step(self, mP, mDp, dState={}):\n",
    "        mV            = dState.get('mV', np.zeros(mP.shape))\n",
    "        mV            = self.β * mV - self.lr * mDp\n",
    "        mP           += mV\n",
    "        dState['mV']  = mV\n",
    "        \n",
    "        return mP, dState"
   ]
  },
  {
   "cell_type": "markdown",
   "metadata": {},
   "source": [
    "### Train the same architecture with SGDM:"
   ]
  },
  {
   "cell_type": "code",
   "execution_count": 16,
   "metadata": {
    "ExecuteTime": {
     "end_time": "2021-10-24T06:38:40.941176Z",
     "start_time": "2021-10-24T06:38:16.724013Z"
    }
   },
   "outputs": [
    {
     "name": "stdout",
     "output_type": "stream",
     "text": [
      "Epoch   0: | Train loss:  0.514 | Val loss:  0.410 | Train Accuracy:  0.818 | Val Accuracy:  0.852 | epoch time:  2.207 |\n",
      "Epoch   1: | Train loss:  0.335 | Val loss:  0.357 | Train Accuracy:  0.877 | Val Accuracy:  0.870 | epoch time:  2.173 |\n",
      "Epoch   2: | Train loss:  0.287 | Val loss:  0.361 | Train Accuracy:  0.894 | Val Accuracy:  0.871 | epoch time:  2.195 |\n",
      "Epoch   3: | Train loss:  0.254 | Val loss:  0.354 | Train Accuracy:  0.905 | Val Accuracy:  0.874 | epoch time:  2.248 |\n",
      "Epoch   4: | Train loss:  0.231 | Val loss:  0.358 | Train Accuracy:  0.914 | Val Accuracy:  0.876 | epoch time:  2.328 |\n",
      "Epoch   5: | Train loss:  0.209 | Val loss:  0.335 | Train Accuracy:  0.923 | Val Accuracy:  0.883 | epoch time:  2.455 |\n",
      "Epoch   6: | Train loss:  0.184 | Val loss:  0.355 | Train Accuracy:  0.932 | Val Accuracy:  0.886 | epoch time:  2.603 |\n",
      "Epoch   7: | Train loss:  0.168 | Val loss:  0.352 | Train Accuracy:  0.939 | Val Accuracy:  0.884 | epoch time:  2.717 |\n",
      "Epoch   8: | Train loss:  0.156 | Val loss:  0.354 | Train Accuracy:  0.942 | Val Accuracy:  0.882 | epoch time:  2.637 |\n",
      "Epoch   9: | Train loss:  0.141 | Val loss:  0.361 | Train Accuracy:  0.948 | Val Accuracy:  0.887 | epoch time:  2.596 |\n"
     ]
    }
   ],
   "source": [
    "oModel  = GetModel()\n",
    "oOptim  = Optimizer(SGDM(lr=2e-2, β=0.9))\n",
    "nEpochs = 10\n",
    "\n",
    "TrainModel(oModel, oTrainSet, oTestSet, nEpochs, oOptim);"
   ]
  },
  {
   "cell_type": "markdown",
   "metadata": {},
   "source": [
    "#### Question:\n",
    "Which optimizer obtains a better performance after 10 iterations?"
   ]
  },
  {
   "cell_type": "markdown",
   "metadata": {},
   "source": [
    "### Exercise\n",
    "* Implement the `Adam` update rule\n",
    "* Train your model with `Adam` (for 10 epochs).  \n",
    "You should get a better training loss (and also a better validation loss)"
   ]
  },
  {
   "cell_type": "markdown",
   "metadata": {},
   "source": [
    "#### Adam:\n",
    "(start with $t=1$)\n",
    "1. $\\boldsymbol{g}=\\nabla f\\left(\\boldsymbol{p}^{\\left(t\\right)}\\right)$\n",
    "2. $\\boldsymbol{v}^{\\left(t\\right)}=\\beta_{1}\\boldsymbol{v}^{\\left(t-1\\right)}+\\left(1-\\beta_{1}\\right)\\boldsymbol{g}$\n",
    "3. $\\boldsymbol{s}^{\\left(t\\right)}=\\beta_{2}\\boldsymbol{s}^{\\left(t-1\\right)}+\\left(1-\\beta_{2}\\right)\\left(\\boldsymbol{g}\\odot\\boldsymbol{g}\\right)$\n",
    "4. $\\tilde{\\boldsymbol{v}}^{\\left(t\\right)}=\\frac{1}{\\left(1-\\beta_{1}^{t}\\right)}\\boldsymbol{v}^{\\left(t\\right)}$\n",
    "5. $\\tilde{\\boldsymbol{s}}^{\\left(t\\right)}=\\frac{1}{\\left(1-\\beta_{2}^{t}\\right)}\\boldsymbol{s}^{\\left(t\\right)}$\n",
    "6. $\\boldsymbol{p}^{\\left(t+1\\right)}=\\boldsymbol{p}^{\\left(t\\right)}-\\mu\\tilde{\\boldsymbol{v}}^{\\left(t\\right)}\\oslash\\left(\\sqrt{\\tilde{\\boldsymbol{s}}^{\\left(t\\right)}}+\\epsilon\\right)$"
   ]
  },
  {
   "cell_type": "code",
   "execution_count": 17,
   "metadata": {},
   "outputs": [
    {
     "ename": "SyntaxError",
     "evalue": "invalid syntax (Temp/ipykernel_1664/1460044933.py, line 10)",
     "output_type": "error",
     "traceback": [
      "\u001b[1;36m  File \u001b[1;32m\"C:\\Users\\oryai\\AppData\\Local\\Temp/ipykernel_1664/1460044933.py\"\u001b[1;36m, line \u001b[1;32m10\u001b[0m\n\u001b[1;33m    mS            = ???\u001b[0m\n\u001b[1;37m                    ^\u001b[0m\n\u001b[1;31mSyntaxError\u001b[0m\u001b[1;31m:\u001b[0m invalid syntax\n"
     ]
    }
   ],
   "source": [
    "class Adam:\n",
    "    def __init__(self, lr=1e-3, β1=0.9, β2=0.99, ϵ=1e-8):\n",
    "        self.lr = lr\n",
    "        self.β1 = β1\n",
    "        self.β2 = β2\n",
    "        self.ϵ  = ϵ\n",
    "        \n",
    "    def Step(self, mP, mDp, dState={}):\n",
    "        mV            = dState.get('mV', np.zeros(mP.shape))\n",
    "        mS            = ???\n",
    "        ii            = ???\n",
    "        \n",
    "        mV            = ???\n",
    "        mS            = ???\n",
    "        \n",
    "        mTildeV       = ???\n",
    "        mTildeS       = ???\n",
    "        \n",
    "        mP           -= ???\n",
    "        dState['mV']  = mV\n",
    "        ???\n",
    "        ???\n",
    "        \n",
    "        return mP, dState"
   ]
  },
  {
   "cell_type": "code",
   "execution_count": null,
   "metadata": {
    "scrolled": false
   },
   "outputs": [],
   "source": [
    "oModel  = GetModel()\n",
    "oOptim  = Optimizer(Adam(lr=5e-4, β1=0.9, β2=0.9))\n",
    "nEpochs = 10\n",
    "\n",
    "TrainModel(oModel, oTrainSet, oTestSet, nEpochs, oOptim);"
   ]
  },
  {
   "cell_type": "markdown",
   "metadata": {},
   "source": [
    "#### Extra\n",
    "* Train your model for $30-40$ epochs.\n",
    "* Plot the train\\validation loss\\accuracy as a function of the epochs.\n",
    "* Answer the question:   \n",
    "Does training for many epochs is always the right thing to do?"
   ]
  },
  {
   "cell_type": "code",
   "execution_count": null,
   "metadata": {},
   "outputs": [],
   "source": [
    "oModel  = GetModel()\n",
    "oOptim  = Optimizer(Adam(lr=5e-4, β1=0.9, β2=0.9))\n",
    "nEpochs = 40\n",
    "\n",
    "vTrainLoss, vTrainAcc, vValLoss, vValAcc = TrainModel(oModel, oTrainSet, oTestSet, nEpochs, oOptim)"
   ]
  },
  {
   "cell_type": "code",
   "execution_count": null,
   "metadata": {},
   "outputs": [],
   "source": [
    "plt.figure(figsize=(18, 5))\n",
    "\n",
    "plt.subplot(1,2,1)\n",
    "plt.plot   (vTrainLoss, 'b', lw=2, label='Train'     )\n",
    "plt.plot   (vValLoss,   'r', lw=2, label='Validation')\n",
    "plt.title  ('Loss')\n",
    "plt.xlabel ('epoch')\n",
    "plt.ylim   (bottom=0)\n",
    "plt.legend ()\n",
    "plt.grid   ()\n",
    "\n",
    "plt.subplot(1,2,2)\n",
    "plt.plot   (vTrainAcc, 'b', lw=2, label='Train'     )\n",
    "plt.plot   (vValAcc,   'r', lw=2, label='Validation')\n",
    "plt.title  ('Accuracy')\n",
    "plt.xlabel ('epoch')\n",
    "plt.ylim   (top=1)\n",
    "plt.legend ()\n",
    "plt.grid   ()"
   ]
  }
 ],
 "metadata": {
  "kernelspec": {
   "display_name": "Python 3",
   "language": "python",
   "name": "python3"
  },
  "language_info": {
   "codemirror_mode": {
    "name": "ipython",
    "version": 3
   },
   "file_extension": ".py",
   "mimetype": "text/x-python",
   "name": "python",
   "nbconvert_exporter": "python",
   "pygments_lexer": "ipython3",
   "version": "3.8.11"
  },
  "toc": {
   "base_numbering": 1,
   "nav_menu": {},
   "number_sections": false,
   "sideBar": true,
   "skip_h1_title": false,
   "title_cell": "Table of Contents",
   "title_sidebar": "Contents",
   "toc_cell": false,
   "toc_position": {},
   "toc_section_display": true,
   "toc_window_display": false
  },
  "varInspector": {
   "cols": {
    "lenName": 16,
    "lenType": 16,
    "lenVar": 40
   },
   "kernels_config": {
    "python": {
     "delete_cmd_postfix": "",
     "delete_cmd_prefix": "del ",
     "library": "var_list.py",
     "varRefreshCmd": "print(var_dic_list())"
    },
    "r": {
     "delete_cmd_postfix": ") ",
     "delete_cmd_prefix": "rm(",
     "library": "var_list.r",
     "varRefreshCmd": "cat(var_dic_list()) "
    }
   },
   "types_to_exclude": [
    "module",
    "function",
    "builtin_function_or_method",
    "instance",
    "_Feature"
   ],
   "window_display": false
  }
 },
 "nbformat": 4,
 "nbformat_minor": 4
}
