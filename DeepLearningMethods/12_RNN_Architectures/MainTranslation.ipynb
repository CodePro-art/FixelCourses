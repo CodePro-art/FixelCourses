{
 "cells": [
  {
   "cell_type": "markdown",
   "id": "concrete-plenty",
   "metadata": {},
   "source": [
    "![Fixel Algorithms](https://fixelalgorithms.co/images/CCExt.png)"
   ]
  },
  {
   "cell_type": "markdown",
   "id": "oriented-mattress",
   "metadata": {},
   "source": [
    "# <center> Deep Learning Methods </center>\n",
    "## <center> Lecture 12 - RNN Architectures </center>\n",
    "### <center> Sequence to Sequence (Machine Translation) </center>"
   ]
  },
  {
   "cell_type": "markdown",
   "id": "declared-sentence",
   "metadata": {},
   "source": [
    "[![Open In Colab](https://colab.research.google.com/assets/colab-badge.svg)](https://colab.research.google.com/github/FixelAlgorithmsTeam/FixelCourses/blob/master/DeepLearningMethods/12_RNN_Architectures/MainTranslation.ipynb)"
   ]
  },
  {
   "cell_type": "code",
   "execution_count": 1,
   "id": "acting-northwest",
   "metadata": {
    "ExecuteTime": {
     "end_time": "2021-10-11T10:35:56.279079Z",
     "start_time": "2021-10-11T10:35:56.264066Z"
    },
    "scrolled": true
   },
   "outputs": [
    {
     "data": {
      "text/html": [
       "<style>.container { width:80% !important; }</style>"
      ],
      "text/plain": [
       "<IPython.core.display.HTML object>"
      ]
     },
     "metadata": {},
     "output_type": "display_data"
    }
   ],
   "source": [
    "#-- Wide screen:\n",
    "from IPython.core.display import display, HTML\n",
    "display(HTML(\"<style>.container { width:80% !important; }</style>\"))"
   ]
  },
  {
   "cell_type": "code",
   "execution_count": 2,
   "id": "german-genesis",
   "metadata": {
    "ExecuteTime": {
     "end_time": "2021-10-11T10:35:56.391181Z",
     "start_time": "2021-10-11T10:35:56.360153Z"
    }
   },
   "outputs": [],
   "source": [
    "#-- Auto reload:\n",
    "%load_ext autoreload\n",
    "%autoreload 2"
   ]
  },
  {
   "cell_type": "code",
   "execution_count": 11,
   "id": "auburn-stage",
   "metadata": {
    "ExecuteTime": {
     "end_time": "2021-10-11T10:36:44.645148Z",
     "start_time": "2021-10-11T10:36:44.573107Z"
    }
   },
   "outputs": [
    {
     "data": {
      "text/plain": [
       "device(type='cuda', index=0)"
      ]
     },
     "execution_count": 11,
     "metadata": {},
     "output_type": "execute_result"
    }
   ],
   "source": [
    "import numpy             as np\n",
    "import pandas            as pd\n",
    "import matplotlib.pyplot as plt\n",
    "\n",
    "import torch\n",
    "import torch.nn          as nn\n",
    "import torch.optim       as optim\n",
    "import torchtext\n",
    "\n",
    "from torchtext.vocab import Vocab\n",
    "\n",
    "DEVICE = torch.device('cuda:0' if torch.cuda.is_available() else 'cpu') \n",
    "DEVICE"
   ]
  },
  {
   "cell_type": "code",
   "execution_count": 12,
   "id": "conceptual-hughes",
   "metadata": {
    "ExecuteTime": {
     "end_time": "2021-10-11T10:36:45.805814Z",
     "start_time": "2021-10-11T10:36:45.756776Z"
    }
   },
   "outputs": [],
   "source": [
    "if 'google.colab' in str(get_ipython()):\n",
    "    !npx degit FixelAlgorithmsTeam/FixelCourses/DeepLearningMethods/12_RNN/DeepLearningFramework ./DeepLearningFramework"
   ]
  },
  {
   "cell_type": "markdown",
   "id": "british-mambo",
   "metadata": {},
   "source": [
    "### Load the data:"
   ]
  },
  {
   "cell_type": "code",
   "execution_count": 13,
   "id": "imperial-potter",
   "metadata": {
    "ExecuteTime": {
     "end_time": "2021-10-11T10:36:47.525342Z",
     "start_time": "2021-10-11T10:36:46.127744Z"
    }
   },
   "outputs": [
    {
     "data": {
      "text/plain": [
       "([('tom found evidence .', 'תום מצא ראיות .'),\n",
       "  ('tom freed the bird .', 'טום שחרר את הציפור .'),\n",
       "  ('tom freed the bird .', 'טום שלח את הציפור לחופשי .'),\n",
       "  ('tom gasped for air .', 'תום נאבק לנשום .'),\n",
       "  ('tom gets headaches .', 'תום מקבל כאבי ראש .')],\n",
       " 126692)"
      ]
     },
     "execution_count": 13,
     "metadata": {},
     "output_type": "execute_result"
    }
   ],
   "source": [
    "import re\n",
    "\n",
    "def NormalizeEnglish(line):\n",
    "    line = line.lower().strip()\n",
    "    line = re.sub(r\"([.!?])\", r\" \\1\",     line) #-- add space before [.!?]\n",
    "    line = re.sub(r\"[^a-zA-Z.!?]+\", r\" \", line) #-- keep only letters and [.!?]\n",
    "    return line\n",
    "\n",
    "def NormalizeHebrew(line):\n",
    "    line = line.strip()\n",
    "    line = re.sub(r\"([.!?])\", r\" \\1\", line)\n",
    "    line = re.sub(r\"[^\\u0590-\\u05fe.!?]+\", r\" \", line)\n",
    "    return line\n",
    "\n",
    "dirPath = '../../data/Translation//'\n",
    "lLines  = []\n",
    "with open(dirPath + 'heb.txt', encoding='utf-8') as oFile:\n",
    "    for line in oFile:\n",
    "        lSplit  = line.split('\\t')[:2]\n",
    "        lLines += [(NormalizeEnglish(lSplit[0]), NormalizeHebrew(lSplit[1]))]\n",
    "\n",
    "lLines[26600:26605], len(lLines)"
   ]
  },
  {
   "cell_type": "markdown",
   "id": "mathematical-baseball",
   "metadata": {},
   "source": [
    "#### Keep only short sentences:"
   ]
  },
  {
   "cell_type": "code",
   "execution_count": 14,
   "id": "tamil-representation",
   "metadata": {
    "ExecuteTime": {
     "end_time": "2021-10-11T10:36:47.619634Z",
     "start_time": "2021-10-11T10:36:47.526343Z"
    }
   },
   "outputs": [
    {
     "data": {
      "text/plain": [
       "(126692, 2)"
      ]
     },
     "execution_count": 14,
     "metadata": {},
     "output_type": "execute_result"
    }
   ],
   "source": [
    "mData = np.array(lLines, dtype=np.object_)\n",
    "mData.shape"
   ]
  },
  {
   "cell_type": "code",
   "execution_count": 15,
   "id": "proud-photography",
   "metadata": {
    "ExecuteTime": {
     "end_time": "2021-10-11T10:36:47.715393Z",
     "start_time": "2021-10-11T10:36:47.620634Z"
    }
   },
   "outputs": [
    {
     "data": {
      "text/plain": [
       "38143"
      ]
     },
     "execution_count": 15,
     "metadata": {},
     "output_type": "execute_result"
    }
   ],
   "source": [
    "MAX_LENGTH  = 6\n",
    "LineLength  = np.vectorize(lambda line: len(line.split()))\n",
    "vLineLength = LineLength(mData[:,0])\n",
    "mData       = mData[vLineLength<6,:]\n",
    "N           = mData.shape[0]\n",
    "N"
   ]
  },
  {
   "cell_type": "markdown",
   "id": "sublime-leadership",
   "metadata": {},
   "source": [
    "#### Build vocabularies:"
   ]
  },
  {
   "cell_type": "code",
   "execution_count": 16,
   "id": "velvet-authentication",
   "metadata": {
    "ExecuteTime": {
     "end_time": "2021-10-11T10:36:48.830200Z",
     "start_time": "2021-10-11T10:36:48.657043Z"
    }
   },
   "outputs": [
    {
     "data": {
      "text/plain": [
       "(4769, 8139)"
      ]
     },
     "execution_count": 16,
     "metadata": {},
     "output_type": "execute_result"
    }
   ],
   "source": [
    "from torchtext.vocab import build_vocab_from_iterator\n",
    "\n",
    "def YieldTokens(lLines):\n",
    "    for line in lLines:\n",
    "        yield line.split()\n",
    "\n",
    "def MakeVocab(lLines):\n",
    "    oVocab = build_vocab_from_iterator(YieldTokens(lLines), min_freq=2, specials=('<UNK>', '<SOS>', '<EOS>', '<PAD>'))\n",
    "    oVocab.set_default_index(oVocab['<UNK>'])\n",
    "    return oVocab\n",
    "\n",
    "lEnglish  = mData[:,0]\n",
    "lHebrew   = mData[:,1]\n",
    "oEngVocab = MakeVocab(lEnglish)\n",
    "oHebVocab = MakeVocab(lHebrew)\n",
    "\n",
    "len(oEngVocab), len(oHebVocab)"
   ]
  },
  {
   "cell_type": "markdown",
   "id": "radio-ceiling",
   "metadata": {},
   "source": [
    "#### Line2Tensor:"
   ]
  },
  {
   "cell_type": "code",
   "execution_count": 17,
   "id": "certified-escape",
   "metadata": {
    "ExecuteTime": {
     "end_time": "2021-10-11T10:36:50.935123Z",
     "start_time": "2021-10-11T10:36:50.881073Z"
    }
   },
   "outputs": [
    {
     "name": "stdout",
     "output_type": "stream",
     "text": [
      "Origianl (Eng) - do it again tom .\n",
      "Origianl (Heb) - עוד הפעם תום .\n",
      "Tensor   (Eng) - tensor([  1,  34,  10, 101,   5,   4,   2])\n",
      "Tensor   (Heb) - tensor([   1,  118, 3409,    5,    4,    2])\n",
      "Back     (Eng) - <SOS> do it again tom . <EOS>\n",
      "Back     (Heb) - <SOS> עוד הפעם תום . <EOS>\n"
     ]
    }
   ],
   "source": [
    "def Line2Tensor(oVocab, line):\n",
    "    return torch.tensor([oVocab['<SOS>']] + [oVocab[w] for w in line.split()] + [oVocab['<EOS>']])\n",
    "\n",
    "def Tensor2Line(oVocab, vLine):\n",
    "    return ' '.join([oVocab.get_itos()[e] for e in vLine])\n",
    "    \n",
    "#-- Test:\n",
    "eng1 = lEnglish[15002]\n",
    "heb1 = lHebrew [15002]\n",
    "eng2 = Line2Tensor(oEngVocab, eng1)\n",
    "heb2 = Line2Tensor(oHebVocab, heb1)\n",
    "eng3 = Tensor2Line(oEngVocab, eng2)\n",
    "heb3 = Tensor2Line(oHebVocab, heb2)\n",
    "\n",
    "print(f'Origianl (Eng) - {eng1}')\n",
    "print(f'Origianl (Heb) - {heb1}')\n",
    "print(f'Tensor   (Eng) - {eng2}')\n",
    "print(f'Tensor   (Heb) - {heb2}')\n",
    "print(f'Back     (Eng) - {eng3}')\n",
    "print(f'Back     (Heb) - {heb3}')"
   ]
  },
  {
   "cell_type": "markdown",
   "id": "female-opening",
   "metadata": {},
   "source": [
    "#### Dataset:"
   ]
  },
  {
   "cell_type": "code",
   "execution_count": 18,
   "id": "alternative-texture",
   "metadata": {
    "ExecuteTime": {
     "end_time": "2021-10-11T10:37:00.236656Z",
     "start_time": "2021-10-11T10:36:59.323096Z"
    }
   },
   "outputs": [
    {
     "data": {
      "text/plain": [
       "('<SOS> do what is right . <EOS>', '<SOS> תעשה את הדבר הנכון . <EOS>')"
      ]
     },
     "execution_count": 18,
     "metadata": {},
     "output_type": "execute_result"
    }
   ],
   "source": [
    "class LangDataset(torch.utils.data.Dataset):\n",
    "    def __init__(self, lSrc, lTrg, oSrcVocab, oTrgVocab, DEVICE):\n",
    "        self.lSrc      = lSrc\n",
    "        self.lTrg      = lTrg\n",
    "        self.oSrcVocab = oSrcVocab\n",
    "        self.oTrgVocab = oTrgVocab\n",
    "        \n",
    "    def __len__(self):\n",
    "        return len(self.lSrc)\n",
    "    \n",
    "    def __getitem__(self, idx):\n",
    "        sSrc = self.lSrc[idx]\n",
    "        sTrg = self.lTrg[idx]\n",
    "        \n",
    "        vSrc = Line2Tensor(self.oSrcVocab, sSrc).to(DEVICE)\n",
    "        vTrg = Line2Tensor(self.oTrgVocab, sTrg).to(DEVICE)\n",
    "\n",
    "        return vSrc, vTrg\n",
    "    \n",
    "oDataset           = LangDataset(lEnglish, lHebrew, oEngVocab, oHebVocab, DEVICE)\n",
    "vEngLine, vHebLine = oDataset[15005]\n",
    "\n",
    "Tensor2Line(oEngVocab, vEngLine), Tensor2Line(oHebVocab, vHebLine)"
   ]
  },
  {
   "cell_type": "code",
   "execution_count": 19,
   "id": "private-programming",
   "metadata": {
    "ExecuteTime": {
     "end_time": "2021-10-11T10:37:03.736779Z",
     "start_time": "2021-10-11T10:37:03.679728Z"
    }
   },
   "outputs": [
    {
     "data": {
      "text/plain": [
       "(30000, 8143)"
      ]
     },
     "execution_count": 19,
     "metadata": {},
     "output_type": "execute_result"
    }
   ],
   "source": [
    "from torch.utils.data import random_split\n",
    "\n",
    "nTrain              = 30000\n",
    "nTest               = N - nTrain\n",
    "oTrainSet, oTestSet = random_split(oDataset, [nTrain, nTest])\n",
    "\n",
    "len(oTrainSet), len(oTestSet)"
   ]
  },
  {
   "cell_type": "code",
   "execution_count": 20,
   "id": "bibliographic-letter",
   "metadata": {
    "ExecuteTime": {
     "end_time": "2021-10-11T10:37:06.339962Z",
     "start_time": "2021-10-11T10:37:06.273037Z"
    }
   },
   "outputs": [
    {
     "data": {
      "text/plain": [
       "(64, torch.Size([6]), torch.Size([64, 8]))"
      ]
     },
     "execution_count": 20,
     "metadata": {},
     "output_type": "execute_result"
    }
   ],
   "source": [
    "from torch.utils.data   import DataLoader\n",
    "from torch.nn.utils.rnn import pack_sequence\n",
    "from torch.nn.utils.rnn import pad_sequence\n",
    "\n",
    "oSrcVocab = oEngVocab\n",
    "oTrgVocab = oHebVocab\n",
    "def LangCollateFunction(lBatch):\n",
    "    lSrc, lTrg = zip(*lBatch)\n",
    "    mTrg       = pad_sequence(lTrg, padding_value=oTrgVocab['<PAD>'], batch_first=True)\n",
    "    \n",
    "    return (lSrc, mTrg)\n",
    "\n",
    "batchSize = 64\n",
    "oTrainDL  = DataLoader(oTrainSet, shuffle=True,  batch_size=batchSize,   collate_fn=LangCollateFunction)\n",
    "oTestDL   = DataLoader(oTestSet,  shuffle=False, batch_size=2*batchSize, collate_fn=LangCollateFunction)\n",
    "\n",
    "lSrc, mTrg = next(iter(oTrainDL))\n",
    "len(lSrc), lSrc[0].shape, mTrg.shape"
   ]
  },
  {
   "cell_type": "markdown",
   "id": "alien-algebra",
   "metadata": {},
   "source": [
    "#### Encoder RNN:\n",
    "<img src=\"https://github.com/FixelAlgorithmsTeam/FixelCourses/blob/master/DeepLearningMethods/12_RNN_Architectures/RnnEncoder.png?raw=true\" style=\"width: 700px;\"/>\n",
    "We can also make a bidirectional encoder."
   ]
  },
  {
   "cell_type": "code",
   "execution_count": 22,
   "id": "enabling-discussion",
   "metadata": {
    "ExecuteTime": {
     "end_time": "2021-10-11T10:37:37.634347Z",
     "start_time": "2021-10-11T10:37:36.997264Z"
    }
   },
   "outputs": [
    {
     "data": {
      "text/plain": [
       "torch.Size([1, 64, 64])"
      ]
     },
     "execution_count": 22,
     "metadata": {},
     "output_type": "execute_result"
    }
   ],
   "source": [
    "from torch.nn.utils.rnn import pack_sequence, PackedSequence\n",
    "\n",
    "def PackedAs(mData, mPack):\n",
    "    return PackedSequence(mData, mPack.batch_sizes, mPack.sorted_indices, mPack.unsorted_indices)\n",
    "\n",
    "class EncoderRNN(nn.Module):\n",
    "    def __init__(self, V, D, H, L):\n",
    "        super(EncoderRNN, self).__init__()\n",
    "        self.oEmbedding = nn.Embedding(V, D, padding_idx=oEngVocab['<PAD>'])\n",
    "        self.oGRU       = nn.GRU      (D, H, L, bidirectional=True)\n",
    "        \n",
    "    def forward(self, lSrc):\n",
    "        #-- len(lSrc)     = N\n",
    "        #-- lSrc[0].shape = (Ti,)\n",
    "        mPackSrc = pack_sequence(lSrc, enforce_sorted=False)    #-- mPackSrc.shape = (N*T,)\n",
    "        mE       = self.oEmbedding(mPackSrc.data)               #-- mE    .shape = (N*T, D)\n",
    "        mPackE   = PackedAs       (mE, mPackSrc)                #-- mPackE.shape = (N*T, D)\n",
    "        _, mH    = self.oGRU      (mPackE)                      #-- mH    .shape = (2*L, N, H)\n",
    "        mC       = torch.cat      ([mH[[-1]], mH[[-2]]], dim=2) #-- mC    .shape = (1,   N, 2*H)\n",
    "\n",
    "        return mC\n",
    "#-------------------------------------------------------------------------------------------------------#\n",
    "#-------------------------------------------------------------------------------------------------------#\n",
    "V = len(oEngVocab)\n",
    "D = 64\n",
    "H = 32\n",
    "L = 2\n",
    "EncoderRNN(V, D, H, L).to(DEVICE)(lSrc).shape"
   ]
  },
  {
   "cell_type": "markdown",
   "id": "german-terry",
   "metadata": {},
   "source": [
    "#### Decoder RNN:\n",
    "<img src=\"https://github.com/FixelAlgorithmsTeam/FixelCourses/blob/master/DeepLearningMethods/12_RNN_Architectures/RnnDocoder.png?raw=true\" style=\"width: 700px;\"/>"
   ]
  },
  {
   "cell_type": "code",
   "execution_count": 25,
   "id": "funny-magic",
   "metadata": {
    "ExecuteTime": {
     "end_time": "2021-10-11T10:38:02.870015Z",
     "start_time": "2021-10-11T10:38:02.296683Z"
    }
   },
   "outputs": [
    {
     "data": {
      "text/plain": [
       "(torch.Size([64, 8139]), torch.Size([1, 64, 32]))"
      ]
     },
     "execution_count": 25,
     "metadata": {},
     "output_type": "execute_result"
    }
   ],
   "source": [
    "class DecoderRNN(nn.Module):\n",
    "    def __init__(self, V, D, H):\n",
    "        super(DecoderRNN, self).__init__()\n",
    "        self.oEmbedding = nn.Embedding(V, D)\n",
    "        self.oGRU       = nn.GRU   (D + H,   H)\n",
    "        self.oFC        = nn.Linear(D + 2*H, V)\n",
    "        \n",
    "    def forward(self, vTrg, mC, mS):\n",
    "        #-- vTrg.shape = (N,)\n",
    "        #-- mC  .shape = (1, N, H)\n",
    "        #-- mS  .shape = (1, N, H)\n",
    "        mE     = self.oEmbedding(vTrg)[None,:,:]  #-- mE   .shape = (1, N, D)\n",
    "        mEC    = torch.cat      ([mE, mC], dim=2) #-- mEC  .shape = (1, N, D+H)\n",
    "        _, mS  = self.oGRU      (mEC, mS)         #-- mS   .shape = (1, N, H)\n",
    "        \n",
    "        mCat   = torch.cat([mC[0], mS[-1], mE[0]], dim=1) #-- mCat.shape = (N, D+2*H)\n",
    "        mZ     = self.oFC (mCat)                          #-- mZ   .shape = (N, V)\n",
    "        return mZ, mS\n",
    "    \n",
    "V      = len(oHebVocab)\n",
    "D      = 64\n",
    "H      = 32\n",
    "mS     = torch.randn(1, batchSize, H).to(DEVICE)\n",
    "mC     = torch.randn(1, batchSize, H).to(DEVICE)\n",
    "vTrg   = mTrg[:,0]\n",
    "mZ, mS = DecoderRNN(V, D, H).to(DEVICE)(vTrg, mC, mS)\n",
    "\n",
    "mZ.shape, mS.shape"
   ]
  },
  {
   "cell_type": "markdown",
   "id": "twenty-coral",
   "metadata": {},
   "source": [
    "#### Full Model:"
   ]
  },
  {
   "cell_type": "code",
   "execution_count": 42,
   "id": "9c76e1f0",
   "metadata": {
    "ExecuteTime": {
     "end_time": "2021-10-11T10:57:02.479470Z",
     "start_time": "2021-10-11T10:57:02.280070Z"
    }
   },
   "outputs": [
    {
     "data": {
      "text/plain": [
       "torch.Size([64, 8139, 7])"
      ]
     },
     "execution_count": 42,
     "metadata": {},
     "output_type": "execute_result"
    }
   ],
   "source": [
    "Vsrc = len(oSrcVocab)\n",
    "Vtrg = len(oTrgVocab)\n",
    "class Seq2Seq(nn.Module):\n",
    "    def __init__(self):\n",
    "        super(Seq2Seq, self).__init__()\n",
    "        \n",
    "        D             = 256                         #-- D = Embedding\n",
    "        H             = 512                         #-- H = Hidden state\n",
    "        self.oEncoder = EncoderRNN(Vsrc, D, 1*H, 1)\n",
    "        self.oDecoder = DecoderRNN(Vtrg, D, 2*H)\n",
    "\n",
    "    def forward(self, lSrc, mTrg, pTeacher=0):\n",
    "        #-- len(lSrc)  = N\n",
    "        #-- mTrg.shape = (N, T) or None\n",
    "        N, T     = mTrg.shape\n",
    "        DEVICE   = mTrg.device                                                          #-- CPU\\GPU\n",
    "        vTrgIn   = oTrgVocab['<SOS>'] * torch.ones(N, dtype=torch.int32, device=DEVICE) #-- vTrgIn .shape = (N,)\n",
    "        mLogits  = torch.zeros((N, Vtrg, T-1),                           device=DEVICE) #-- mLogits.shape = (N, V, T)\n",
    "        bTeacher = torch.rand(1) < pTeacher\n",
    "        \n",
    "        #-- Enocde:\n",
    "        mC = self.oEncoder(lSrc) #-- mC.shape = (1, N, H)\n",
    "        mH = mC\n",
    "        \n",
    "        for ii in range(T - 1):\n",
    "            #-- Decode:\n",
    "            mZ, mH          = self.oDecoder(vTrgIn, mC, mH)\n",
    "            mLogits[:,:,ii] = mZ\n",
    "           \n",
    "            #-- Next input (train \\ test):\n",
    "            if bTeacher == True:\n",
    "                vTrgIn = mTrg[:,ii+1] #-- vHebIn.shape(N)\n",
    "            else:\n",
    "                vTrgIn = mZ.argmax(dim=1)\n",
    "\n",
    "        return mLogits\n",
    "        \n",
    "mWordOut = Seq2Seq().to(DEVICE)(lSrc, mTrg, 0.5)\n",
    "mWordOut.shape"
   ]
  },
  {
   "cell_type": "code",
   "execution_count": 43,
   "id": "molecular-millennium",
   "metadata": {
    "ExecuteTime": {
     "end_time": "2021-10-11T10:57:07.398728Z",
     "start_time": "2021-10-11T10:57:07.304090Z"
    }
   },
   "outputs": [],
   "source": [
    "# from torch.distributions.categorical import Categorical\n",
    "\n",
    "# Vsrc = len(oSrcVocab)\n",
    "# Vtrg = len(oTrgVocab)\n",
    "# D    = 256  #-- D = Embedding\n",
    "# H    = 512  #-- H = Hidden state\n",
    "#             #-- T = Sequence length\n",
    "    \n",
    "# class Seq2Seq(nn.Module):\n",
    "#     def __init__(self):\n",
    "#         super(Seq2Seq, self).__init__()\n",
    "#         self.oEncoder   = EncoderRNN(Vsrc, D, 1*H, 1)\n",
    "#         self.oDecoder   = DecoderRNN(Vtrg, D, 2*H)\n",
    "\n",
    "#     def forward(self, lSrc, mTrg=None, pTeacher=0, bTop1=False):\n",
    "\n",
    "#         N      = len(lSrc)\n",
    "#         device = lSrc[0].device\n",
    "#         if mTrg is None:\n",
    "#             T      = 256\n",
    "#             vTrgIn = oTrgVocab['<SOS>'] * torch.ones(N, dtype=torch.int32, device=device)\n",
    "#         else:\n",
    "#             T      = mTrg.shape[1]                              #-- mTrg      .shape = (N, T)\n",
    "#             vTrgIn = mTrg[:,0]                                  #-- vTrgIn .shape = (N,)\n",
    "#         mLogitsOut = torch.zeros((N, T-1, Vtrg), device=device) #-- mLogitsOut.shape = (N, T, V)\n",
    "#         mTrgOut    = torch.zeros((N, T-1),       device=device) #-- mTrgOut   .shape = (N, T)\n",
    "\n",
    "#         mC     = self.oEncoder(lSrc)                            #-- mC        .shape = (1, N, H)\n",
    "#         mH     = mC\n",
    "        \n",
    "#         for ii in range(T - 1):\n",
    "#             #-- Decode:\n",
    "#             mZ, mH             = self.oDecoder(vTrgIn, mC, mH)\n",
    "#             mLogitsOut[:,ii,:] = mZ\n",
    "           \n",
    "#             #-- Next input (train \\ test):\n",
    "#             if torch.rand(1) < pTeacher:\n",
    "#                 vTrgIn = mTrg[:,ii+1] #-- vHebIn.shape(N)\n",
    "#             else:\n",
    "#                 if bTop1 == True:\n",
    "#                     vTrgIn = mZ.argmax(dim=1)\n",
    "#                 else:\n",
    "#                     vTrgIn = Categorical(logits=mZ).sample()\n",
    "            \n",
    "#             mTrgOut[:,ii] = vTrgIn\n",
    "            \n",
    "#         #-- Keep sequences up to <EOS>:\n",
    "#         vIdx    = (mTrgOut == oTrgVocab['<EOS>']).int().argmax(dim=1)\n",
    "#         lTrgOut = [mTrgOut[ii,:vIdx[ii]] for ii in range(N)]\n",
    "#         return mLogitsOut, lTrgOut\n",
    "        \n",
    "# mWordOut = Seq2Seq()(lSrc, mTrg, 0.5, True)[0]\n",
    "# mWordOut.shape"
   ]
  },
  {
   "cell_type": "code",
   "execution_count": 44,
   "id": "8676b448",
   "metadata": {
    "ExecuteTime": {
     "end_time": "2021-10-11T10:57:07.653039Z",
     "start_time": "2021-10-11T10:57:07.591984Z"
    }
   },
   "outputs": [],
   "source": [
    "def Epoch(oModel, oDataDL, Loss, Metric, oOptim=None, oScheduler=None, bTrain=True):\n",
    "\n",
    "    epochLoss   = 0\n",
    "    epochMetric = 0\n",
    "    count       = 0\n",
    "    nIter       = len(oDataDL)\n",
    "    vLR         = np.full(nIter, np.nan)\n",
    "    DEVICE      = next(oModel.parameters()).device #-- CPU\\GPU\n",
    "\n",
    "\n",
    "    oModel.train(bTrain) #-- train or test\n",
    "\n",
    "    #-- Iterate over the mini-batches:\n",
    "    for ii, (lSrc, mY) in enumerate(oDataDL):\n",
    "        #-- Data is already on DEVICE\n",
    "        #-- Forward:\n",
    "        if bTrain == True:\n",
    "            #-- Store computational graph:\n",
    "            mOut = oModel(lSrc, mY, pTeacher=0.5)\n",
    "            loss = Loss(mOut, mY[:,1:]) #-- omit <SOS>\n",
    "        else:\n",
    "            with torch.no_grad():\n",
    "                #-- Do not store computational graph:\n",
    "                mOut = oModel(lSrc, mY, pTeacher=0)\n",
    "                loss = Loss(mOut, mY[:,1:]) #-- omit <SOS>\n",
    "\n",
    "        #-- Backward:\n",
    "        if bTrain == True:\n",
    "            oOptim.zero_grad() #-- set gradients to zeros\n",
    "            loss.backward()    #-- backward\n",
    "            oOptim.step()      #-- update parameters\n",
    "            if oScheduler is not None:\n",
    "                vLR[ii] = oScheduler.get_last_lr()[0]\n",
    "                oScheduler.step() #-- update learning rate\n",
    "\n",
    "        with torch.no_grad():\n",
    "            Nb           = mY.shape[0]\n",
    "            count       += Nb\n",
    "            epochLoss   += Nb * loss.item()\n",
    "            epochMetric += Nb * Metric(mOut, mY[:,1:])\n",
    "        print(f'\\r{\"Train\" if bTrain else \"Val\"} - Iteration: {ii:3d} ({nIter}): loss = {loss:2.6f}', end='')\n",
    "\n",
    "    print('', end='\\r')\n",
    "    epochLoss   /= count\n",
    "    epochMetric /= count\n",
    "\n",
    "    return epochLoss, epochMetric, vLR"
   ]
  },
  {
   "cell_type": "code",
   "execution_count": 45,
   "id": "interracial-visibility",
   "metadata": {
    "ExecuteTime": {
     "end_time": "2021-10-11T10:57:07.892255Z",
     "start_time": "2021-10-11T10:57:07.832201Z"
    }
   },
   "outputs": [],
   "source": [
    "from torch.optim.lr_scheduler       import OneCycleLR\n",
    "from DeepLearningFramework.Training import TrainModel\n",
    "from DeepLearningFramework.Metric   import Accuracy\n",
    "\n",
    "Loss   = nn.CrossEntropyLoss(ignore_index=oTrgVocab['<PAD>'])\n",
    "Metric = Accuracy           (ignoreIndex =oTrgVocab['<PAD>'])"
   ]
  },
  {
   "cell_type": "code",
   "execution_count": 46,
   "id": "spoken-solid",
   "metadata": {
    "ExecuteTime": {
     "end_time": "2021-10-11T11:19:25.369671Z",
     "start_time": "2021-10-11T10:57:08.197532Z"
    },
    "scrolled": false
   },
   "outputs": [
    {
     "name": "stdout",
     "output_type": "stream",
     "text": [
      "------------------------------------------------------------------------------------------------------------------------\n",
      "Epoch 000: | Train loss:  5.119 | Val loss:  4.346 | Train Metric:  0.317 | Val Metric:  0.343 | epoch time: 17.295 | <-- Checkpoint!\n",
      "Epoch 001: | Train loss:  4.020 | Val loss:  4.023 | Train Metric:  0.440 | Val Metric:  0.421 | epoch time: 15.323 | <-- Checkpoint!\n",
      "Epoch 002: | Train loss:  3.702 | Val loss:  3.824 | Train Metric:  0.480 | Val Metric:  0.448 | epoch time: 13.124 | <-- Checkpoint!\n",
      "Epoch 003: | Train loss:  3.480 | Val loss:  3.663 | Train Metric:  0.497 | Val Metric:  0.463 | epoch time: 13.692 | <-- Checkpoint!\n",
      "Epoch 004: | Train loss:  3.259 | Val loss:  3.500 | Train Metric:  0.514 | Val Metric:  0.472 | epoch time: 13.489 | <-- Checkpoint!\n",
      "Epoch 005: | Train loss:  3.039 | Val loss:  3.310 | Train Metric:  0.529 | Val Metric:  0.498 | epoch time: 13.033 | <-- Checkpoint!\n",
      "Epoch 006: | Train loss:  2.814 | Val loss:  3.160 | Train Metric:  0.545 | Val Metric:  0.507 | epoch time: 12.749 | <-- Checkpoint!\n",
      "Epoch 007: | Train loss:  2.581 | Val loss:  3.005 | Train Metric:  0.562 | Val Metric:  0.521 | epoch time: 12.996 | <-- Checkpoint!\n",
      "Epoch 008: | Train loss:  2.334 | Val loss:  2.861 | Train Metric:  0.583 | Val Metric:  0.533 | epoch time: 13.181 | <-- Checkpoint!\n",
      "Epoch 009: | Train loss:  2.133 | Val loss:  2.722 | Train Metric:  0.595 | Val Metric:  0.545 | epoch time: 14.105 | <-- Checkpoint!\n",
      "------------------------------------------------------------------------------------------------------------------------\n",
      "Epoch 010: | Train loss:  1.887 | Val loss:  2.600 | Train Metric:  0.624 | Val Metric:  0.556 | epoch time: 15.788 | <-- Checkpoint!\n",
      "Epoch 011: | Train loss:  1.679 | Val loss:  2.505 | Train Metric:  0.648 | Val Metric:  0.564 | epoch time: 14.427 | <-- Checkpoint!\n",
      "Epoch 012: | Train loss:  1.468 | Val loss:  2.428 | Train Metric:  0.677 | Val Metric:  0.572 | epoch time: 13.103 | <-- Checkpoint!\n",
      "Epoch 013: | Train loss:  1.297 | Val loss:  2.372 | Train Metric:  0.701 | Val Metric:  0.576 | epoch time: 13.083 | <-- Checkpoint!\n",
      "Epoch 014: | Train loss:  1.138 | Val loss:  2.326 | Train Metric:  0.729 | Val Metric:  0.579 | epoch time: 12.962 | <-- Checkpoint!\n",
      "Epoch 015: | Train loss:  1.023 | Val loss:  2.304 | Train Metric:  0.749 | Val Metric:  0.585 | epoch time: 13.307 | <-- Checkpoint!\n",
      "Epoch 016: | Train loss:  0.916 | Val loss:  2.289 | Train Metric:  0.771 | Val Metric:  0.586 | epoch time: 13.832 | <-- Checkpoint!\n",
      "Epoch 017: | Train loss:  0.817 | Val loss:  2.304 | Train Metric:  0.796 | Val Metric:  0.591 | epoch time: 13.736 | <-- Checkpoint!\n",
      "Epoch 018: | Train loss:  0.771 | Val loss:  2.302 | Train Metric:  0.805 | Val Metric:  0.589 | epoch time: 13.793 |\n",
      "Epoch 019: | Train loss:  0.721 | Val loss:  2.317 | Train Metric:  0.816 | Val Metric:  0.587 | epoch time: 13.748 |\n",
      "------------------------------------------------------------------------------------------------------------------------\n",
      "Epoch 020: | Train loss:  0.698 | Val loss:  2.329 | Train Metric:  0.822 | Val Metric:  0.586 | epoch time: 13.820 |\n",
      "Epoch 021: | Train loss:  0.654 | Val loss:  2.357 | Train Metric:  0.833 | Val Metric:  0.587 | epoch time: 13.779 |\n",
      "Epoch 022: | Train loss:  0.640 | Val loss:  2.356 | Train Metric:  0.837 | Val Metric:  0.586 | epoch time: 13.797 |\n",
      "Epoch 023: | Train loss:  0.631 | Val loss:  2.364 | Train Metric:  0.840 | Val Metric:  0.591 | epoch time: 13.856 |\n",
      "Epoch 024: | Train loss:  0.619 | Val loss:  2.380 | Train Metric:  0.845 | Val Metric:  0.588 | epoch time: 13.739 |\n",
      "Epoch 025: | Train loss:  0.604 | Val loss:  2.357 | Train Metric:  0.850 | Val Metric:  0.588 | epoch time: 13.710 |\n",
      "Epoch 026: | Train loss:  0.590 | Val loss:  2.378 | Train Metric:  0.853 | Val Metric:  0.586 | epoch time: 13.430 |\n",
      "Epoch 027: | Train loss:  0.582 | Val loss:  2.358 | Train Metric:  0.856 | Val Metric:  0.595 | epoch time: 12.815 | <-- Checkpoint!\n",
      "Epoch 028: | Train loss:  0.573 | Val loss:  2.363 | Train Metric:  0.858 | Val Metric:  0.593 | epoch time: 12.878 |\n",
      "Epoch 029: | Train loss:  0.556 | Val loss:  2.357 | Train Metric:  0.863 | Val Metric:  0.589 | epoch time: 12.964 |\n",
      "------------------------------------------------------------------------------------------------------------------------\n",
      "Epoch 030: | Train loss:  0.560 | Val loss:  2.341 | Train Metric:  0.862 | Val Metric:  0.592 | epoch time: 12.890 |\n",
      "Epoch 031: | Train loss:  0.548 | Val loss:  2.334 | Train Metric:  0.864 | Val Metric:  0.594 | epoch time: 12.841 |\n",
      "Epoch 032: | Train loss:  0.546 | Val loss:  2.357 | Train Metric:  0.864 | Val Metric:  0.593 | epoch time: 12.841 |\n",
      "Epoch 033: | Train loss:  0.533 | Val loss:  2.361 | Train Metric:  0.869 | Val Metric:  0.594 | epoch time: 12.836 |\n",
      "Epoch 034: | Train loss:  0.530 | Val loss:  2.360 | Train Metric:  0.869 | Val Metric:  0.596 | epoch time: 12.845 | <-- Checkpoint!\n",
      "Epoch 035: | Train loss:  0.522 | Val loss:  2.355 | Train Metric:  0.871 | Val Metric:  0.591 | epoch time: 13.352 |\n",
      "Epoch 036: | Train loss:  0.520 | Val loss:  2.359 | Train Metric:  0.871 | Val Metric:  0.593 | epoch time: 13.945 |\n",
      "Epoch 037: | Train loss:  0.514 | Val loss:  2.350 | Train Metric:  0.872 | Val Metric:  0.594 | epoch time: 13.810 |\n",
      "Epoch 038: | Train loss:  0.506 | Val loss:  2.332 | Train Metric:  0.873 | Val Metric:  0.596 | epoch time: 13.665 | <-- Checkpoint!\n",
      "Epoch 039: | Train loss:  0.499 | Val loss:  2.335 | Train Metric:  0.876 | Val Metric:  0.595 | epoch time: 13.375 |\n",
      "------------------------------------------------------------------------------------------------------------------------\n",
      "Epoch 040: | Train loss:  0.496 | Val loss:  2.375 | Train Metric:  0.876 | Val Metric:  0.593 | epoch time: 13.139 |\n",
      "Epoch 041: | Train loss:  0.488 | Val loss:  2.346 | Train Metric:  0.878 | Val Metric:  0.592 | epoch time: 13.056 |\n",
      "Epoch 042: | Train loss:  0.484 | Val loss:  2.346 | Train Metric:  0.878 | Val Metric:  0.594 | epoch time: 13.304 |\n",
      "Epoch 043: | Train loss:  0.469 | Val loss:  2.367 | Train Metric:  0.883 | Val Metric:  0.591 | epoch time: 13.064 |\n",
      "Epoch 044: | Train loss:  0.466 | Val loss:  2.356 | Train Metric:  0.882 | Val Metric:  0.594 | epoch time: 12.976 |\n",
      "Epoch 045: | Train loss:  0.454 | Val loss:  2.362 | Train Metric:  0.885 | Val Metric:  0.596 | epoch time: 13.090 | <-- Checkpoint!\n",
      "Epoch 046: | Train loss:  0.451 | Val loss:  2.364 | Train Metric:  0.886 | Val Metric:  0.595 | epoch time: 13.269 |\n",
      "Epoch 047: | Train loss:  0.452 | Val loss:  2.337 | Train Metric:  0.885 | Val Metric:  0.598 | epoch time: 13.122 | <-- Checkpoint!\n",
      "Epoch 048: | Train loss:  0.444 | Val loss:  2.347 | Train Metric:  0.887 | Val Metric:  0.599 | epoch time: 13.052 | <-- Checkpoint!\n",
      "Epoch 049: | Train loss:  0.441 | Val loss:  2.334 | Train Metric:  0.887 | Val Metric:  0.599 | epoch time: 13.724 |\n",
      "------------------------------------------------------------------------------------------------------------------------\n",
      "Epoch 050: | Train loss:  0.421 | Val loss:  2.362 | Train Metric:  0.892 | Val Metric:  0.602 | epoch time: 13.283 | <-- Checkpoint!\n",
      "Epoch 051: | Train loss:  0.418 | Val loss:  2.339 | Train Metric:  0.893 | Val Metric:  0.598 | epoch time: 13.127 |\n",
      "Epoch 052: | Train loss:  0.409 | Val loss:  2.360 | Train Metric:  0.895 | Val Metric:  0.598 | epoch time: 13.009 |\n",
      "Epoch 053: | Train loss:  0.402 | Val loss:  2.358 | Train Metric:  0.895 | Val Metric:  0.599 | epoch time: 12.978 |\n",
      "Epoch 054: | Train loss:  0.397 | Val loss:  2.348 | Train Metric:  0.896 | Val Metric:  0.602 | epoch time: 13.147 | <-- Checkpoint!\n",
      "Epoch 055: | Train loss:  0.393 | Val loss:  2.376 | Train Metric:  0.897 | Val Metric:  0.597 | epoch time: 13.139 |\n",
      "Epoch 056: | Train loss:  0.383 | Val loss:  2.365 | Train Metric:  0.899 | Val Metric:  0.602 | epoch time: 13.158 |\n",
      "Epoch 057: | Train loss:  0.382 | Val loss:  2.350 | Train Metric:  0.898 | Val Metric:  0.600 | epoch time: 13.075 |\n",
      "Epoch 058: | Train loss:  0.362 | Val loss:  2.383 | Train Metric:  0.902 | Val Metric:  0.600 | epoch time: 13.058 |\n"
     ]
    },
    {
     "name": "stdout",
     "output_type": "stream",
     "text": [
      "Epoch 059: | Train loss:  0.358 | Val loss:  2.357 | Train Metric:  0.903 | Val Metric:  0.602 | epoch time: 13.104 | <-- Checkpoint!\n",
      "------------------------------------------------------------------------------------------------------------------------\n",
      "Epoch 060: | Train loss:  0.355 | Val loss:  2.365 | Train Metric:  0.902 | Val Metric:  0.600 | epoch time: 13.203 |\n",
      "Epoch 061: | Train loss:  0.349 | Val loss:  2.361 | Train Metric:  0.902 | Val Metric:  0.604 | epoch time: 13.133 | <-- Checkpoint!\n",
      "Epoch 062: | Train loss:  0.343 | Val loss:  2.351 | Train Metric:  0.904 | Val Metric:  0.602 | epoch time: 13.062 |\n",
      "Epoch 063: | Train loss:  0.337 | Val loss:  2.329 | Train Metric:  0.904 | Val Metric:  0.605 | epoch time: 13.417 | <-- Checkpoint!\n",
      "Epoch 064: | Train loss:  0.325 | Val loss:  2.354 | Train Metric:  0.906 | Val Metric:  0.603 | epoch time: 13.191 |\n",
      "Epoch 065: | Train loss:  0.319 | Val loss:  2.342 | Train Metric:  0.907 | Val Metric:  0.605 | epoch time: 13.135 |\n",
      "Epoch 066: | Train loss:  0.309 | Val loss:  2.359 | Train Metric:  0.908 | Val Metric:  0.606 | epoch time: 13.073 | <-- Checkpoint!\n",
      "Epoch 067: | Train loss:  0.301 | Val loss:  2.352 | Train Metric:  0.909 | Val Metric:  0.607 | epoch time: 13.239 | <-- Checkpoint!\n",
      "Epoch 068: | Train loss:  0.299 | Val loss:  2.337 | Train Metric:  0.908 | Val Metric:  0.605 | epoch time: 13.049 |\n",
      "Epoch 069: | Train loss:  0.290 | Val loss:  2.349 | Train Metric:  0.909 | Val Metric:  0.607 | epoch time: 13.277 | <-- Checkpoint!\n",
      "------------------------------------------------------------------------------------------------------------------------\n",
      "Epoch 070: | Train loss:  0.283 | Val loss:  2.350 | Train Metric:  0.910 | Val Metric:  0.606 | epoch time: 12.936 |\n",
      "Epoch 071: | Train loss:  0.275 | Val loss:  2.361 | Train Metric:  0.912 | Val Metric:  0.608 | epoch time: 12.781 | <-- Checkpoint!\n",
      "Epoch 072: | Train loss:  0.269 | Val loss:  2.353 | Train Metric:  0.912 | Val Metric:  0.606 | epoch time: 12.865 |\n",
      "Epoch 073: | Train loss:  0.263 | Val loss:  2.351 | Train Metric:  0.912 | Val Metric:  0.607 | epoch time: 12.785 |\n",
      "Epoch 074: | Train loss:  0.258 | Val loss:  2.379 | Train Metric:  0.913 | Val Metric:  0.607 | epoch time: 12.886 |\n",
      "Epoch 075: | Train loss:  0.246 | Val loss:  2.403 | Train Metric:  0.915 | Val Metric:  0.606 | epoch time: 12.878 |\n",
      "Epoch 076: | Train loss:  0.243 | Val loss:  2.387 | Train Metric:  0.915 | Val Metric:  0.609 | epoch time: 12.820 | <-- Checkpoint!\n",
      "Epoch 077: | Train loss:  0.234 | Val loss:  2.395 | Train Metric:  0.917 | Val Metric:  0.607 | epoch time: 12.827 |\n",
      "Epoch 078: | Train loss:  0.231 | Val loss:  2.399 | Train Metric:  0.917 | Val Metric:  0.607 | epoch time: 12.845 |\n",
      "Epoch 079: | Train loss:  0.227 | Val loss:  2.382 | Train Metric:  0.916 | Val Metric:  0.608 | epoch time: 12.959 |\n",
      "------------------------------------------------------------------------------------------------------------------------\n",
      "Epoch 080: | Train loss:  0.218 | Val loss:  2.401 | Train Metric:  0.919 | Val Metric:  0.608 | epoch time: 12.802 |\n",
      "Epoch 081: | Train loss:  0.215 | Val loss:  2.387 | Train Metric:  0.919 | Val Metric:  0.610 | epoch time: 13.212 | <-- Checkpoint!\n",
      "Epoch 082: | Train loss:  0.211 | Val loss:  2.387 | Train Metric:  0.918 | Val Metric:  0.607 | epoch time: 13.020 |\n",
      "Epoch 083: | Train loss:  0.205 | Val loss:  2.393 | Train Metric:  0.920 | Val Metric:  0.608 | epoch time: 12.972 |\n",
      "Epoch 084: | Train loss:  0.198 | Val loss:  2.425 | Train Metric:  0.922 | Val Metric:  0.610 | epoch time: 12.980 | <-- Checkpoint!\n",
      "Epoch 085: | Train loss:  0.194 | Val loss:  2.413 | Train Metric:  0.923 | Val Metric:  0.607 | epoch time: 12.880 |\n",
      "Epoch 086: | Train loss:  0.189 | Val loss:  2.418 | Train Metric:  0.923 | Val Metric:  0.610 | epoch time: 12.957 | <-- Checkpoint!\n",
      "Epoch 087: | Train loss:  0.185 | Val loss:  2.426 | Train Metric:  0.925 | Val Metric:  0.607 | epoch time: 12.947 |\n",
      "Epoch 088: | Train loss:  0.181 | Val loss:  2.422 | Train Metric:  0.925 | Val Metric:  0.608 | epoch time: 13.074 |\n",
      "Epoch 089: | Train loss:  0.174 | Val loss:  2.452 | Train Metric:  0.930 | Val Metric:  0.609 | epoch time: 13.502 |\n",
      "------------------------------------------------------------------------------------------------------------------------\n",
      "Epoch 090: | Train loss:  0.174 | Val loss:  2.447 | Train Metric:  0.928 | Val Metric:  0.608 | epoch time: 13.428 |\n",
      "Epoch 091: | Train loss:  0.168 | Val loss:  2.459 | Train Metric:  0.931 | Val Metric:  0.608 | epoch time: 13.503 |\n",
      "Epoch 092: | Train loss:  0.166 | Val loss:  2.455 | Train Metric:  0.932 | Val Metric:  0.607 | epoch time: 13.454 |\n",
      "Epoch 093: | Train loss:  0.163 | Val loss:  2.461 | Train Metric:  0.934 | Val Metric:  0.609 | epoch time: 13.585 |\n",
      "Epoch 094: | Train loss:  0.161 | Val loss:  2.471 | Train Metric:  0.935 | Val Metric:  0.609 | epoch time: 13.527 |\n",
      "Epoch 095: | Train loss:  0.158 | Val loss:  2.472 | Train Metric:  0.938 | Val Metric:  0.608 | epoch time: 13.511 |\n",
      "Epoch 096: | Train loss:  0.158 | Val loss:  2.473 | Train Metric:  0.938 | Val Metric:  0.608 | epoch time: 13.532 |\n",
      "Epoch 097: | Train loss:  0.153 | Val loss:  2.476 | Train Metric:  0.941 | Val Metric:  0.608 | epoch time: 13.595 |\n",
      "Epoch 098: | Train loss:  0.153 | Val loss:  2.476 | Train Metric:  0.942 | Val Metric:  0.608 | epoch time: 13.531 |\n",
      "Epoch 099: | Train loss:  0.153 | Val loss:  2.476 | Train Metric:  0.942 | Val Metric:  0.608 | epoch time: 12.976 |\n"
     ]
    }
   ],
   "source": [
    "nEpochs    = 100\n",
    "nIter      = nEpochs * len(oTrainDL)\n",
    "\n",
    "oModel     = Seq2Seq    ().to(DEVICE)\n",
    "oOptim     = optim.AdamW(oModel.parameters(), lr=1e-5, betas=(0.9, 0.99), weight_decay=5e-1)\n",
    "oScheduler = OneCycleLR (oOptim, max_lr=5e-4, total_steps=nIter)\n",
    "lHistory   = TrainModel (oModel, oTrainDL, oTestDL, Loss, Metric, nEpochs, oOptim, oScheduler, Epoch=Epoch, sModelName='Seq2Seq')"
   ]
  },
  {
   "cell_type": "code",
   "execution_count": 48,
   "id": "controlling-bottom",
   "metadata": {
    "ExecuteTime": {
     "end_time": "2021-10-11T11:19:28.925153Z",
     "start_time": "2021-10-11T11:19:28.620103Z"
    }
   },
   "outputs": [
    {
     "data": {
      "image/png": "[encoded data removed]",
      "text/plain": [
       "<Figure size 2200x500 with 3 Axes>"
      ]
     },
     "metadata": {},
     "output_type": "display_data"
    }
   ],
   "source": [
    "from DeepLearningFramework.Auxiliary import PlotHistory\n",
    "\n",
    "PlotHistory(lHistory)\n",
    "plt.show   ()"
   ]
  },
  {
   "cell_type": "markdown",
   "id": "chubby-sigma",
   "metadata": {},
   "source": [
    "### Exercise (predict implementation)\n",
    "Complete the `Predict` function implementation.  \n",
    "\n",
    "Note: A [beam search](https://en.wikipedia.org/wiki/Beam_search) should be used instead of top 1 method."
   ]
  },
  {
   "cell_type": "code",
   "execution_count": 53,
   "id": "8dad0393",
   "metadata": {
    "ExecuteTime": {
     "end_time": "2021-10-11T11:19:48.448567Z",
     "start_time": "2021-10-11T11:19:48.386990Z"
    }
   },
   "outputs": [
    {
     "data": {
      "text/plain": [
       "tensor([2, 0, 3])"
      ]
     },
     "execution_count": 53,
     "metadata": {},
     "output_type": "execute_result"
    }
   ],
   "source": [
    "from torch.distributions.categorical import Categorical\n",
    "\n",
    "Categorical(logits=torch.randn(3,4)).sample()"
   ]
  },
  {
   "cell_type": "code",
   "execution_count": 60,
   "id": "0a6d60e8",
   "metadata": {
    "ExecuteTime": {
     "end_time": "2021-10-11T11:21:33.503463Z",
     "start_time": "2021-10-11T11:21:33.443408Z"
    }
   },
   "outputs": [],
   "source": [
    "from torch.distributions.categorical import Categorical\n",
    "    \n",
    "def Predict(oModel, lSrc, bTop1=False):\n",
    "    MAX_LENGTH = 256\n",
    "    N          = len(lSrc)\n",
    "    DEVICE     = lSrc[0].device\n",
    "    vTrgIn     = ???\n",
    "    mTrgOut    = torch.zeros((N, MAX_LENGTH), device=DEVICE) #-- mTrgOut.shape = (N, T)\n",
    "    \n",
    "    #-- Enocde:\n",
    "    mC = ???\n",
    "    mH = ???\n",
    "\n",
    "    for ii in range(MAX_LENGTH):\n",
    "        #-- Decode:\n",
    "        mZ, mH = ???\n",
    "        \n",
    "        if bTop1 == True:\n",
    "            vTrgIn = ???\n",
    "        else:\n",
    "            vTrgIn = ???\n",
    "\n",
    "        mTrgOut[:,ii] = vTrgIn\n",
    "\n",
    "    #-- Keep sequences up to <EOS>:\n",
    "    vIdx    = (mTrgOut == oTrgVocab['<EOS>']).int().argmax(dim=1)\n",
    "    lTrgOut = [mTrgOut[ii,:vIdx[ii]] for ii in range(N)]\n",
    "    \n",
    "    return lTrgOut"
   ]
  },
  {
   "cell_type": "code",
   "execution_count": 62,
   "id": "attached-tradition",
   "metadata": {
    "ExecuteTime": {
     "end_time": "2021-10-11T11:21:59.177589Z",
     "start_time": "2021-10-11T11:21:57.604158Z"
    }
   },
   "outputs": [
    {
     "data": {
      "text/html": [
       "<div>\n",
       "<style scoped>\n",
       "    .dataframe tbody tr th:only-of-type {\n",
       "        vertical-align: middle;\n",
       "    }\n",
       "\n",
       "    .dataframe tbody tr th {\n",
       "        vertical-align: top;\n",
       "    }\n",
       "\n",
       "    .dataframe thead th {\n",
       "        text-align: right;\n",
       "    }\n",
       "</style>\n",
       "<table border=\"1\" class=\"dataframe\">\n",
       "  <thead>\n",
       "    <tr style=\"text-align: right;\">\n",
       "      <th></th>\n",
       "      <th>English</th>\n",
       "      <th>GT (Hebrew)</th>\n",
       "      <th>Generated</th>\n",
       "    </tr>\n",
       "  </thead>\n",
       "  <tbody>\n",
       "    <tr>\n",
       "      <th>0</th>\n",
       "      <td>they must be americans .</td>\n",
       "      <td>הם כנראה אמריקנים .</td>\n",
       "      <td>הם צריך אמריקנים .</td>\n",
       "    </tr>\n",
       "    <tr>\n",
       "      <th>1</th>\n",
       "      <td>i feel better today .</td>\n",
       "      <td>היום אני מרגיש יותר טוב .</td>\n",
       "      <td>אני מרגישה יותר טוב יותר .</td>\n",
       "    </tr>\n",
       "    <tr>\n",
       "      <th>2</th>\n",
       "      <td>go on .</td>\n",
       "      <td>תמשיכו .</td>\n",
       "      <td>תמשיכי .</td>\n",
       "    </tr>\n",
       "    <tr>\n",
       "      <th>3</th>\n",
       "      <td>focus on your breathing .</td>\n",
       "      <td>&lt;UNK&gt; בנשימתך .</td>\n",
       "      <td>&lt;UNK&gt; בנשימתך .</td>\n",
       "    </tr>\n",
       "    <tr>\n",
       "      <th>4</th>\n",
       "      <td>we hit it off .</td>\n",
       "      <td>התיידדנו .</td>\n",
       "      <td>דגים את זה .</td>\n",
       "    </tr>\n",
       "    <tr>\n",
       "      <th>5</th>\n",
       "      <td>i need a crew .</td>\n",
       "      <td>אני צריך צוות .</td>\n",
       "      <td>אני צריך תביאי .</td>\n",
       "    </tr>\n",
       "    <tr>\n",
       "      <th>6</th>\n",
       "      <td>the mystery remains unsolved .</td>\n",
       "      <td>התעלומה נשארת בלתי פתורה .</td>\n",
       "      <td>&lt;UNK&gt; &lt;UNK&gt; בלתי לזוז .</td>\n",
       "    </tr>\n",
       "    <tr>\n",
       "      <th>7</th>\n",
       "      <td>he saw her video .</td>\n",
       "      <td>ראיתי את &lt;UNK&gt; שלה .</td>\n",
       "      <td>הוא ראה אותה .</td>\n",
       "    </tr>\n",
       "    <tr>\n",
       "      <th>8</th>\n",
       "      <td>are you at home ?</td>\n",
       "      <td>אתם בבית ?</td>\n",
       "      <td>אתם בבית ?</td>\n",
       "    </tr>\n",
       "    <tr>\n",
       "      <th>9</th>\n",
       "      <td>he changed his job .</td>\n",
       "      <td>הוא החליף את משרתו .</td>\n",
       "      <td>הוא החליף את המשרה .</td>\n",
       "    </tr>\n",
       "  </tbody>\n",
       "</table>\n",
       "</div>"
      ],
      "text/plain": [
       "                          English                 GT (Hebrew)  \\\n",
       "0        they must be americans .         הם כנראה אמריקנים .   \n",
       "1           i feel better today .   היום אני מרגיש יותר טוב .   \n",
       "2                         go on .                    תמשיכו .   \n",
       "3       focus on your breathing .             <UNK> בנשימתך .   \n",
       "4                 we hit it off .                  התיידדנו .   \n",
       "5                 i need a crew .             אני צריך צוות .   \n",
       "6  the mystery remains unsolved .  התעלומה נשארת בלתי פתורה .   \n",
       "7              he saw her video .        ראיתי את <UNK> שלה .   \n",
       "8               are you at home ?                  אתם בבית ?   \n",
       "9            he changed his job .        הוא החליף את משרתו .   \n",
       "\n",
       "                    Generated  \n",
       "0          הם צריך אמריקנים .  \n",
       "1  אני מרגישה יותר טוב יותר .  \n",
       "2                    תמשיכי .  \n",
       "3             <UNK> בנשימתך .  \n",
       "4                דגים את זה .  \n",
       "5            אני צריך תביאי .  \n",
       "6     <UNK> <UNK> בלתי לזוז .  \n",
       "7              הוא ראה אותה .  \n",
       "8                  אתם בבית ?  \n",
       "9        הוא החליף את המשרה .  "
      ]
     },
     "execution_count": 62,
     "metadata": {},
     "output_type": "execute_result"
    }
   ],
   "source": [
    "import pandas as pd\n",
    "\n",
    "dLang = pd.DataFrame(index=range(10), columns=['English', 'GT (Hebrew)', 'Generated'])\n",
    "\n",
    "for ii in range(10):\n",
    "    idx        = np.random.randint(nTest)\n",
    "    vEng, vHeb = oTestSet[idx]\n",
    "    lEng       = [vEng.to(DEVICE)]\n",
    "    with torch.no_grad():\n",
    "        vHebOut = Predict(oModel, lEng)[0].int()\n",
    "\n",
    "    dLang.iloc[ii,:] = [Tensor2Line(oEngVocab, vEng[1:-1]), Tensor2Line(oHebVocab, vHeb[1:-1]), Tensor2Line(oHebVocab, vHebOut)]\n",
    "\n",
    "dLang"
   ]
  },
  {
   "cell_type": "code",
   "execution_count": null,
   "id": "adjustable-shelf",
   "metadata": {},
   "outputs": [],
   "source": []
  },
  {
   "cell_type": "code",
   "execution_count": null,
   "id": "6a470e89",
   "metadata": {},
   "outputs": [],
   "source": []
  },
  {
   "cell_type": "code",
   "execution_count": null,
   "id": "c891c521",
   "metadata": {},
   "outputs": [],
   "source": []
  },
  {
   "cell_type": "code",
   "execution_count": null,
   "id": "51585f13",
   "metadata": {},
   "outputs": [],
   "source": []
  },
  {
   "cell_type": "code",
   "execution_count": null,
   "id": "d046e8e3",
   "metadata": {},
   "outputs": [],
   "source": []
  },
  {
   "cell_type": "code",
   "execution_count": null,
   "id": "295a7423",
   "metadata": {},
   "outputs": [],
   "source": []
  },
  {
   "cell_type": "code",
   "execution_count": null,
   "id": "0aae2cf0",
   "metadata": {},
   "outputs": [],
   "source": []
  },
  {
   "cell_type": "code",
   "execution_count": null,
   "id": "a91ca9e6",
   "metadata": {},
   "outputs": [],
   "source": []
  },
  {
   "cell_type": "code",
   "execution_count": null,
   "id": "15544ba7",
   "metadata": {},
   "outputs": [],
   "source": []
  },
  {
   "cell_type": "code",
   "execution_count": null,
   "id": "cbfb19a8",
   "metadata": {},
   "outputs": [],
   "source": []
  },
  {
   "cell_type": "code",
   "execution_count": null,
   "id": "06b360d9",
   "metadata": {},
   "outputs": [],
   "source": []
  },
  {
   "cell_type": "code",
   "execution_count": null,
   "id": "5d7cd39d",
   "metadata": {},
   "outputs": [],
   "source": []
  },
  {
   "cell_type": "code",
   "execution_count": null,
   "id": "08f571e2",
   "metadata": {},
   "outputs": [],
   "source": []
  },
  {
   "cell_type": "code",
   "execution_count": null,
   "id": "d4e10853",
   "metadata": {},
   "outputs": [],
   "source": []
  },
  {
   "cell_type": "code",
   "execution_count": null,
   "id": "56cfc291",
   "metadata": {},
   "outputs": [],
   "source": []
  },
  {
   "cell_type": "code",
   "execution_count": null,
   "id": "9a36fb85",
   "metadata": {},
   "outputs": [],
   "source": []
  },
  {
   "cell_type": "code",
   "execution_count": null,
   "id": "39ea2ee1",
   "metadata": {},
   "outputs": [],
   "source": []
  },
  {
   "cell_type": "code",
   "execution_count": null,
   "id": "fd7b0f8b",
   "metadata": {},
   "outputs": [],
   "source": []
  },
  {
   "cell_type": "code",
   "execution_count": null,
   "id": "bd5f3344",
   "metadata": {},
   "outputs": [],
   "source": []
  },
  {
   "cell_type": "code",
   "execution_count": null,
   "id": "4c0e3410",
   "metadata": {},
   "outputs": [],
   "source": []
  },
  {
   "cell_type": "code",
   "execution_count": null,
   "id": "73670e11",
   "metadata": {},
   "outputs": [],
   "source": []
  },
  {
   "cell_type": "code",
   "execution_count": null,
   "id": "7bde7789",
   "metadata": {},
   "outputs": [],
   "source": []
  },
  {
   "cell_type": "code",
   "execution_count": null,
   "id": "c07d0cd3",
   "metadata": {},
   "outputs": [],
   "source": []
  },
  {
   "cell_type": "code",
   "execution_count": null,
   "id": "504ac0cb",
   "metadata": {},
   "outputs": [],
   "source": []
  },
  {
   "cell_type": "code",
   "execution_count": null,
   "id": "d1882d20",
   "metadata": {},
   "outputs": [],
   "source": []
  },
  {
   "cell_type": "code",
   "execution_count": null,
   "id": "6c7b7319",
   "metadata": {},
   "outputs": [],
   "source": []
  },
  {
   "cell_type": "code",
   "execution_count": null,
   "id": "fb48ae93",
   "metadata": {},
   "outputs": [],
   "source": [
    "# from torch.distributions.categorical import Categorical\n",
    "    \n",
    "# def Predict(oModel, lSrc, bTop1=False):\n",
    "#     MAX_LENGTH = 256\n",
    "#     N          = len(lSrc)\n",
    "#     DEVICE     = lSrc[0].device\n",
    "#     vTrgIn     = oTrgVocab['<SOS>'] * torch.ones(N, dtype=torch.int32, device=DEVICE)\n",
    "#     mTrgOut    = torch.zeros((N, MAX_LENGTH),                          device=DEVICE) #-- mTrgOut.shape = (N, T)\n",
    "    \n",
    "#     #-- Enocde:\n",
    "#     mC = oModel.oEncoder(lSrc) #-- mC.shape = (1, N, H)\n",
    "#     mH = mC\n",
    "\n",
    "#     for ii in range(MAX_LENGTH):\n",
    "#         #-- Decode:\n",
    "#         mZ, mH = oModel.oDecoder(vTrgIn, mC, mH) #-- mZ.shape = (N, V)\n",
    "#                                                  #-- mH.shape = (L, N, H)\n",
    "#         if bTop1 == True:\n",
    "#             vTrgIn = mZ.argmax(dim=1)\n",
    "#         else:\n",
    "#             vTrgIn = Categorical(logits=mZ).sample()\n",
    "\n",
    "#         mTrgOut[:,ii] = vTrgIn\n",
    "\n",
    "#     #-- Keep sequences up to <EOS>:\n",
    "#     vIdx    = (mTrgOut == oTrgVocab['<EOS>']).int().argmax(dim=1)\n",
    "#     lTrgOut = [mTrgOut[ii,:vIdx[ii]] for ii in range(N)]\n",
    "    \n",
    "#     return lTrgOut"
   ]
  }
 ],
 "metadata": {
  "kernelspec": {
   "display_name": "Python 3",
   "language": "python",
   "name": "python3"
  },
  "language_info": {
   "codemirror_mode": {
    "name": "ipython",
    "version": 3
   },
   "file_extension": ".py",
   "mimetype": "text/x-python",
   "name": "python",
   "nbconvert_exporter": "python",
   "pygments_lexer": "ipython3",
   "version": "3.8.11"
  }
 },
 "nbformat": 4,
 "nbformat_minor": 5
}
