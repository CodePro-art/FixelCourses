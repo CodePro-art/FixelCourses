{
 "cells": [
  {
   "cell_type": "markdown",
   "metadata": {
    "slideshow": {
     "slide_type": "slide"
    }
   },
   "source": [
    "![Fixel Algorithms](https://fixelalgorithms.co/images/CCExt.png)"
   ]
  },
  {
   "cell_type": "markdown",
   "metadata": {},
   "source": [
    "# <center> Deep Learning Methods </center>\n",
    "## <center> Lecture 07 - PyTorch 2 </center>\n",
    "### <center> TensorBoard </center>"
   ]
  },
  {
   "cell_type": "markdown",
   "metadata": {},
   "source": [
    "Colab users should use GPU runtime:  \n",
    "[![Open In Colab](https://colab.research.google.com/assets/colab-badge.svg)](https://colab.research.google.com/github/FixelAlgorithmsTeam/FixelCourses/blob/master/DeepLearningMethods/07_PyTorch2/MainPyTorchTensorBoard.ipynb)"
   ]
  },
  {
   "cell_type": "code",
   "execution_count": 1,
   "metadata": {
    "ExecuteTime": {
     "end_time": "2021-11-07T09:25:37.398681Z",
     "start_time": "2021-11-07T09:25:37.390673Z"
    },
    "slideshow": {
     "slide_type": "slide"
    }
   },
   "outputs": [
    {
     "data": {
      "text/html": [
       "<style>.container { width:80% !important; }</style>"
      ],
      "text/plain": [
       "<IPython.core.display.HTML object>"
      ]
     },
     "metadata": {},
     "output_type": "display_data"
    }
   ],
   "source": [
    "#-- Wide screen:\n",
    "from IPython.core.display import display, HTML\n",
    "display(HTML(\"<style>.container { width:80% !important; }</style>\"))"
   ]
  },
  {
   "cell_type": "code",
   "execution_count": 2,
   "metadata": {
    "ExecuteTime": {
     "end_time": "2021-11-07T09:25:37.430709Z",
     "start_time": "2021-11-07T09:25:37.399681Z"
    },
    "slideshow": {
     "slide_type": "fragment"
    }
   },
   "outputs": [],
   "source": [
    "#-- Auto reload:\n",
    "%load_ext autoreload\n",
    "%autoreload 2"
   ]
  },
  {
   "cell_type": "code",
   "execution_count": 3,
   "metadata": {
    "ExecuteTime": {
     "end_time": "2021-11-07T09:25:38.613954Z",
     "start_time": "2021-11-07T09:25:37.431710Z"
    },
    "slideshow": {
     "slide_type": "fragment"
    }
   },
   "outputs": [],
   "source": [
    "#-- Imports:\n",
    "import numpy             as np\n",
    "import matplotlib.pyplot as plt\n",
    "import matplotlib\n",
    "import torch\n",
    "\n",
    "import torch.nn          as nn\n",
    "import torch.optim       as optim\n",
    "import torchinfo\n",
    "\n",
    "#-- Fix seed (for presentation sake)\n",
    "torch.manual_seed(0)\n",
    "np.random.seed   (0)\n",
    "torch.backends.cudnn.deterministic = True\n",
    "torch.backends.cudnn.benchmark     = False"
   ]
  },
  {
   "cell_type": "code",
   "execution_count": 4,
   "metadata": {
    "ExecuteTime": {
     "end_time": "2021-11-07T09:25:38.661998Z",
     "start_time": "2021-11-07T09:25:38.614955Z"
    }
   },
   "outputs": [],
   "source": [
    "if 'google.colab' in str(get_ipython()):\n",
    "    !npx degit FixelAlgorithmsTeam/FixelCourses/DeepLearningMethods/07_PyTorch2/DeepLearningFramework ./DeepLearningFramework\n",
    "    !pip install tensorboard"
   ]
  },
  {
   "cell_type": "markdown",
   "metadata": {
    "slideshow": {
     "slide_type": "slide"
    }
   },
   "source": [
    "### Load Fashion-MNIST data:"
   ]
  },
  {
   "cell_type": "code",
   "execution_count": 5,
   "metadata": {
    "ExecuteTime": {
     "end_time": "2021-11-07T09:25:40.095523Z",
     "start_time": "2021-11-07T09:25:38.662999Z"
    },
    "slideshow": {
     "slide_type": "fragment"
    }
   },
   "outputs": [
    {
     "data": {
      "text/plain": [
       "torch.Size([1024, 1, 28, 28])"
      ]
     },
     "execution_count": 5,
     "metadata": {},
     "output_type": "execute_result"
    }
   ],
   "source": [
    "import torchvision\n",
    "import torchvision.transforms as transforms\n",
    "\n",
    "oTransform = transforms.Compose([\n",
    "    transforms.ToTensor (),\n",
    "    transforms.Normalize(0.5, 0.5)\n",
    "])\n",
    "\n",
    "DATA_PATH = '../../data'\n",
    "oTrainSet = torchvision.datasets.FashionMNIST(DATA_PATH, download=True, train=True,  transform=oTransform)\n",
    "oTestSet  = torchvision.datasets.FashionMNIST(DATA_PATH, download=True, train=False, transform=oTransform)\n",
    "\n",
    "oTrainDL  = torch.utils.data.DataLoader(oTrainSet, batch_size=1024, shuffle=True,  num_workers=2, persistent_workers=True)\n",
    "oTestDL   = torch.utils.data.DataLoader(oTestSet,  batch_size=1024, shuffle=False, num_workers=2, persistent_workers=True)\n",
    "\n",
    "lClasses  = oTrainSet.classes\n",
    "mX, vY    = next(iter(oTrainDL))\n",
    "mX.shape"
   ]
  },
  {
   "cell_type": "markdown",
   "metadata": {
    "slideshow": {
     "slide_type": "slide"
    }
   },
   "source": [
    "#### Plot some examples:"
   ]
  },
  {
   "cell_type": "code",
   "execution_count": 6,
   "metadata": {
    "ExecuteTime": {
     "end_time": "2021-11-07T09:25:40.287650Z",
     "start_time": "2021-11-07T09:25:40.096476Z"
    },
    "slideshow": {
     "slide_type": "fragment"
    }
   },
   "outputs": [
    {
     "data": {
      "image/png": "[encoded data removed]",
      "text/plain": [
       "<Figure size 600x400 with 6 Axes>"
      ]
     },
     "metadata": {},
     "output_type": "display_data"
    }
   ],
   "source": [
    "def Unnormalize(mX):\n",
    "    return 1/2 * mX + 1/2\n",
    "\n",
    "N, H, W = oTrainSet.data.shape\n",
    "fig, _  = plt.subplots(2, 3, figsize=(6, 4))\n",
    "for ax in fig.axes:\n",
    "    idx   = np.random.randint(0, N)\n",
    "    mXi, y = oTrainSet[idx]\n",
    "    mXi    = Unnormalize(mXi[0])\n",
    "    mXi    = torch.clamp(mXi, 0, 1)\n",
    "    ax.imshow   (mXi, cmap='gray')\n",
    "    ax.set_title(f'True label: {lClasses[y]}')\n",
    "    ax.axis     (False)\n",
    "    \n",
    "plt.tight_layout()\n",
    "plt.show        ()"
   ]
  },
  {
   "cell_type": "markdown",
   "metadata": {
    "slideshow": {
     "slide_type": "slide"
    }
   },
   "source": [
    "#### Define a model:"
   ]
  },
  {
   "cell_type": "code",
   "execution_count": 7,
   "metadata": {
    "ExecuteTime": {
     "end_time": "2021-11-07T09:25:42.908445Z",
     "start_time": "2021-11-07T09:25:40.288651Z"
    },
    "slideshow": {
     "slide_type": "slide"
    }
   },
   "outputs": [
    {
     "data": {
      "text/plain": [
       "==========================================================================================\n",
       "Layer (type:depth-idx)                   Output Shape              Param #\n",
       "==========================================================================================\n",
       "Sequential                               --                        --\n",
       "├─Identity: 1-1                          [1024, 1, 28, 28]         --\n",
       "├─Conv2d: 1-2                            [1024, 8, 20, 20]         656\n",
       "├─LeakyReLU: 1-3                         [1024, 8, 20, 20]         --\n",
       "├─Conv2d: 1-4                            [1024, 16, 14, 14]        6,288\n",
       "├─LeakyReLU: 1-5                         [1024, 16, 14, 14]        --\n",
       "├─Conv2d: 1-6                            [1024, 32, 10, 10]        12,832\n",
       "├─LeakyReLU: 1-7                         [1024, 32, 10, 10]        --\n",
       "├─Conv2d: 1-8                            [1024, 64, 6, 6]          51,264\n",
       "├─LeakyReLU: 1-9                         [1024, 64, 6, 6]          --\n",
       "├─Conv2d: 1-10                           [1024, 128, 2, 2]         204,928\n",
       "├─LeakyReLU: 1-11                        [1024, 128, 2, 2]         --\n",
       "├─Flatten: 1-12                          [1024, 512]               --\n",
       "├─Linear: 1-13                           [1024, 10]                5,130\n",
       "==========================================================================================\n",
       "Total params: 281,098\n",
       "Trainable params: 281,098\n",
       "Non-trainable params: 0\n",
       "Total mult-adds (G): 5.58\n",
       "==========================================================================================\n",
       "Input size (MB): 3.21\n",
       "Forward/backward pass size (MB): 101.27\n",
       "Params size (MB): 1.12\n",
       "Estimated Total Size (MB): 105.61\n",
       "=========================================================================================="
      ]
     },
     "execution_count": 7,
     "metadata": {},
     "output_type": "execute_result"
    }
   ],
   "source": [
    "#-- Model:\n",
    "def GetModel():\n",
    "    oModel = nn.Sequential(\n",
    "        nn.Identity(), #-- does nothing\n",
    "        \n",
    "        nn.Conv2d(1,  8,   9), nn.LeakyReLU(),\n",
    "        nn.Conv2d(8,  16,  7), nn.LeakyReLU(),\n",
    "        nn.Conv2d(16, 32,  5), nn.LeakyReLU(),\n",
    "        nn.Conv2d(32, 64,  5), nn.LeakyReLU(),\n",
    "        nn.Conv2d(64, 128, 5), nn.LeakyReLU(),\n",
    "        \n",
    "        nn.Flatten(),\n",
    "        nn.Linear (512, 10)\n",
    "    )\n",
    "    return oModel\n",
    "\n",
    "#--------------------------------------------------------------------------------#\n",
    "#--------------------------------------------------------------------------------#\n",
    "torchinfo.summary(GetModel(), mX.shape)"
   ]
  },
  {
   "cell_type": "markdown",
   "metadata": {
    "slideshow": {
     "slide_type": "slide"
    }
   },
   "source": [
    "### TensorBoard:\n",
    "https://www.tensorflow.org/tensorboard/get_started\n",
    "\n",
    "You can also check the official tutorial (but with `tensorflow`):  \n",
    "https://colab.research.google.com/github/tensorflow/tensorboard/blob/master/docs/get_started.ipynb"
   ]
  },
  {
   "cell_type": "code",
   "execution_count": 8,
   "metadata": {
    "ExecuteTime": {
     "end_time": "2021-11-07T09:25:43.084605Z",
     "start_time": "2021-11-07T09:25:42.910446Z"
    },
    "slideshow": {
     "slide_type": "fragment"
    }
   },
   "outputs": [],
   "source": [
    "from torch.utils.tensorboard import SummaryWriter\n",
    "\n",
    "# default `log_dir` is `runs`\n",
    "oWriter = SummaryWriter('runs/Run1')"
   ]
  },
  {
   "cell_type": "code",
   "execution_count": 9,
   "metadata": {
    "ExecuteTime": {
     "end_time": "2021-11-07T09:25:43.148663Z",
     "start_time": "2021-11-07T09:25:43.085606Z"
    }
   },
   "outputs": [],
   "source": [
    "if 'google.colab' in str(get_ipython()):\n",
    "    #-- https://github.com/pytorch/pytorch/issues/30966\n",
    "    import tensorflow as tf\n",
    "    import tensorboard as tb\n",
    "    tf.io.gfile = tb.compat.tensorflow_stub.io.gfile\n",
    "    #--\n",
    "    %load_ext tensorboard\n",
    "    %tensorboard --logdir=runs"
   ]
  },
  {
   "cell_type": "markdown",
   "metadata": {
    "slideshow": {
     "slide_type": "fragment"
    }
   },
   "source": [
    "cmd (from the same path as this file):  \n",
    "`tensorboard --logdir=runs`  \n",
    "go to:  \n",
    "http://localhost:6006/"
   ]
  },
  {
   "cell_type": "markdown",
   "metadata": {
    "slideshow": {
     "slide_type": "slide"
    }
   },
   "source": [
    "#### Write images to TensorBoard:"
   ]
  },
  {
   "cell_type": "code",
   "execution_count": 10,
   "metadata": {
    "ExecuteTime": {
     "end_time": "2021-11-07T09:25:43.482966Z",
     "start_time": "2021-11-07T09:25:43.149664Z"
    },
    "slideshow": {
     "slide_type": "fragment"
    }
   },
   "outputs": [
    {
     "data": {
      "image/png": "[encoded data removed]",
      "text/plain": [
       "<Figure size 800x600 with 1 Axes>"
      ]
     },
     "metadata": {},
     "output_type": "display_data"
    }
   ],
   "source": [
    "mX          = Unnormalize(next(iter(oTrainDL))[0][:16])\n",
    "mImagesGrid = torchvision.utils.make_grid(mX, nrow=4)   #-- 4 x 4 grid\n",
    "\n",
    "#-- write to tensorboard\n",
    "oWriter.add_image('Training images', mImagesGrid)\n",
    "# oWriter.close()\n",
    "\n",
    "plt.figure(figsize=(8, 6))\n",
    "plt.imshow(mImagesGrid.permute(1,2,0))\n",
    "plt.show()"
   ]
  },
  {
   "cell_type": "markdown",
   "metadata": {
    "slideshow": {
     "slide_type": "slide"
    }
   },
   "source": [
    "#### Write model's graph to TensorBoard:"
   ]
  },
  {
   "cell_type": "code",
   "execution_count": 11,
   "metadata": {
    "ExecuteTime": {
     "end_time": "2021-11-07T09:25:43.673139Z",
     "start_time": "2021-11-07T09:25:43.483968Z"
    },
    "slideshow": {
     "slide_type": "fragment"
    }
   },
   "outputs": [],
   "source": [
    "oModel = GetModel()\n",
    "oWriter.add_graph(oModel, mX)"
   ]
  },
  {
   "cell_type": "markdown",
   "metadata": {
    "slideshow": {
     "slide_type": "slide"
    }
   },
   "source": [
    "#### Add embeddings to TensorBoard:\n",
    "if data do not apper in TensorBoard, reconnect in the cmd."
   ]
  },
  {
   "cell_type": "code",
   "execution_count": 12,
   "metadata": {
    "ExecuteTime": {
     "end_time": "2021-11-07T09:25:44.821344Z",
     "start_time": "2021-11-07T09:25:43.674141Z"
    },
    "slideshow": {
     "slide_type": "fragment"
    }
   },
   "outputs": [],
   "source": [
    "#-- A way to get N (random) data points:\n",
    "N         = 1000\n",
    "oTrainDL2 = torch.utils.data.DataLoader(oTrainSet, batch_size=N, shuffle=True)\n",
    "mX, vY    = next(iter(oTrainDL2))\n",
    "lLabels   = [lClasses[y] for y in vY]\n",
    "\n",
    "#-- Add embeddings to TensorBoard:\n",
    "mFeatures = mX.view(N, -1)\n",
    "oWriter.add_embedding(mFeatures, metadata=lLabels, label_img=1-Unnormalize(mX), tag='Raw data')"
   ]
  },
  {
   "cell_type": "markdown",
   "metadata": {
    "slideshow": {
     "slide_type": "slide"
    }
   },
   "source": [
    "#### A function to plot a sample with its label prediction:"
   ]
  },
  {
   "cell_type": "code",
   "execution_count": 13,
   "metadata": {
    "ExecuteTime": {
     "end_time": "2021-11-07T09:25:44.884981Z",
     "start_time": "2021-11-07T09:25:44.822345Z"
    },
    "slideshow": {
     "slide_type": "fragment"
    }
   },
   "outputs": [],
   "source": [
    "def PlotImages(oModel, mX, vY):\n",
    "    N     = mX.shape[0]\n",
    "    mP    = torch.softmax(oModel(mX), dim=1)\n",
    "    vHatY = torch.argmax(mP, dim=1)\n",
    "    vP    = mP[range(N),vHatY]\n",
    "    \n",
    "    fig, _ = plt.subplots(2, 4, figsize=(12, 8))\n",
    "    for ii, ax in enumerate(fig.axes):\n",
    "        if vHatY[ii] == vY[ii]:\n",
    "            color = 'g'\n",
    "        else:\n",
    "            color = 'r'\n",
    "        \n",
    "        label     = lClasses[vY[ii]]\n",
    "        labelHat  = lClasses[vHatY[ii]]\n",
    "        ax.imshow(mX[ii].squeeze().cpu() * 0.5 + 0.5, cmap='gray')        \n",
    "        ax.set_title(f'{labelHat}, {100 * vP[ii]:.1f}%\\n'\n",
    "                     f'(True label: {label})', color=color)\n",
    "        plt.tight_layout()\n",
    "    return fig"
   ]
  },
  {
   "cell_type": "code",
   "execution_count": 14,
   "metadata": {
    "ExecuteTime": {
     "end_time": "2021-11-07T09:25:44.948038Z",
     "start_time": "2021-11-07T09:25:44.885983Z"
    }
   },
   "outputs": [],
   "source": [
    "class Logger:\n",
    "    def __init__(self, sName):\n",
    "        self.oWriter = SummaryWriter(sName)\n",
    "        self.iter    = 0\n",
    "        self.epoch   = 0"
   ]
  },
  {
   "cell_type": "code",
   "execution_count": 15,
   "metadata": {
    "ExecuteTime": {
     "end_time": "2021-11-07T09:25:45.012097Z",
     "start_time": "2021-11-07T09:25:44.949040Z"
    }
   },
   "outputs": [],
   "source": [
    "def Epoch(oModel, oDataDL, Loss, Metric, oOptim=None, oScheduler=None, bTrain=True, oLogger=None):\n",
    "\n",
    "    epochLoss   = 0\n",
    "    epochMetric = 0\n",
    "    count       = 0\n",
    "    nIter       = len(oDataDL)\n",
    "    vLR         = np.full(nIter, np.nan)\n",
    "    DEVICE      = next(oModel.parameters()).device #-- CPU\\GPU\n",
    "\n",
    "    oModel.train(bTrain) #-- train or test\n",
    "\n",
    "    #-- Iterate over the mini-batches:\n",
    "    for ii, (mX, vY) in enumerate(oDataDL):\n",
    "        #-- Move to device (CPU\\GPU):\n",
    "        mX = mX.to(DEVICE)\n",
    "        vY = vY.to(DEVICE)\n",
    "\n",
    "        #-- Forward:\n",
    "        if bTrain == True:\n",
    "            #-- Store computational graph:\n",
    "            mZ   = oModel(mX)\n",
    "            loss = Loss(mZ, vY)\n",
    "        else:\n",
    "            with torch.no_grad():\n",
    "                #-- Do not store computational graph:\n",
    "                mZ   = oModel(mX)\n",
    "                loss = Loss(mZ, vY)\n",
    "\n",
    "        #-- Backward:\n",
    "        if bTrain == True:\n",
    "            oOptim.zero_grad() #-- set gradients to zeros\n",
    "            loss.backward()    #-- backward\n",
    "            oOptim.step()      #-- update parameters\n",
    "            if oScheduler is not None:\n",
    "                vLR[ii] = oScheduler.get_last_lr()[0]\n",
    "                oScheduler.step() #-- update learning rate\n",
    "\n",
    "        Nb           = vY.shape[0]\n",
    "        count       += Nb\n",
    "        epochLoss   += Nb * loss.item()\n",
    "        epochMetric += Nb * Metric(mZ, vY)\n",
    "        print(f'\\r{\"Train\" if bTrain else \"Val\"} - Iteration: {ii:3d} ({nIter}): loss = {loss:2.6f}', end='')\n",
    "\n",
    "        #=======================================================================================#\n",
    "        if bTrain == True:\n",
    "            oLogger.oWriter.add_scalar ('Learning rate',    vLR[ii],                global_step=oLogger.iter)\n",
    "            oLogger.oWriter.add_scalars('Loss (per batch)', {'Train': loss.item()}, global_step=oLogger.iter)\n",
    "            oLogger.iter += 1\n",
    "        #=======================================================================================#\n",
    "\n",
    "    #===============================================================================#\n",
    "    if bTrain == True:\n",
    "        oLogger.oWriter.add_scalars('Loss (per epoch)', {'Train':      loss.item()}, global_step=oLogger.epoch)\n",
    "    else:\n",
    "        oLogger.oWriter.add_scalars('Loss (per epoch)', {'Validation': loss.item()}, global_step=oLogger.epoch)\n",
    "        oLogger.oWriter.add_figure('Accuracy',          PlotImages(oModel, mX, vY),  global_step=oLogger.epoch)\n",
    "        oLogger.epoch += 1\n",
    "    oWriter.flush()\n",
    "    #===============================================================================#\n",
    "    print('', end='\\r')\n",
    "    epochLoss   /= count\n",
    "    epochMetric /= count\n",
    "\n",
    "    return epochLoss, epochMetric, vLR"
   ]
  },
  {
   "cell_type": "code",
   "execution_count": 16,
   "metadata": {
    "ExecuteTime": {
     "end_time": "2021-11-07T09:25:45.441069Z",
     "start_time": "2021-11-07T09:25:45.013098Z"
    }
   },
   "outputs": [],
   "source": [
    "import time\n",
    "from DeepLearningFramework.Metric import Accuracy\n",
    "\n",
    "def TrainClassficationModel(oModel, oTrainData, oValData, Loss, nEpochs, oOptim, oScheduler=None, oLogger=None):\n",
    "\n",
    "    vTrainLoss = np.full(nEpochs, np.nan)\n",
    "    vTrainAcc  = np.full(nEpochs, np.nan)\n",
    "    vValLoss   = np.full(nEpochs, np.nan)\n",
    "    vValAcc    = np.full(nEpochs, np.nan)\n",
    "    vLR        = np.full(0,       np.nan)\n",
    "    bestAcc    = 0\n",
    "\n",
    "    for epoch in range(nEpochs):\n",
    "        startTime                 = time.time()\n",
    "        trainLoss, trainAcc, vLRi = Epoch(oModel, oTrainData, Loss, Accuracy, oOptim, oScheduler, bTrain=True,  oLogger=oLogger) #-- train\n",
    "        valLoss,   valAcc,   _    = Epoch(oModel, oValData,   Loss, Accuracy,                     bTrain=False, oLogger=oLogger) #-- validate\n",
    "        epochTime                 = time.time() - startTime\n",
    "\n",
    "        #-- Display:\n",
    "        print('Epoch '              f'{epoch    :03d}:',   end='')\n",
    "        print(' | Train loss: '     f'{trainLoss:6.3f}',   end='')\n",
    "        print(' | Val loss: '       f'{valLoss  :6.3f}',   end='')\n",
    "        print(' | Train Accuracy: ' f'{trainAcc :6.3f}',   end='')\n",
    "        print(' | Val Accuracy: '   f'{valAcc   :6.3f}',   end='')\n",
    "        print(' | epoch time: '     f'{epochTime:6.3f} |', end='')\n",
    "\n",
    "        vTrainLoss[epoch] = trainLoss\n",
    "        vTrainAcc [epoch] = trainAcc\n",
    "        vValLoss  [epoch] = valLoss\n",
    "        vValAcc   [epoch] = valAcc\n",
    "        vLR               = np.concatenate([vLR, vLRi])\n",
    "\n",
    "        #-- Save best model (early stopping):\n",
    "        if bestAcc < valAcc:\n",
    "            bestAcc = valAcc\n",
    "            try:\n",
    "                torch.save(oModel.state_dict(), 'BestModel.pt')\n",
    "            except:\n",
    "                pass\n",
    "            print(' <-- Checkpoint!')\n",
    "        else:\n",
    "            print('')\n",
    "\n",
    "    #-- Load best model (early stopping):\n",
    "    oModel.load_state_dict(torch.load('BestModel.pt'))\n",
    "\n",
    "    return vTrainLoss, vTrainAcc, vValLoss, vValAcc, vLR"
   ]
  },
  {
   "cell_type": "markdown",
   "metadata": {
    "slideshow": {
     "slide_type": "slide"
    }
   },
   "source": [
    "#### Device:"
   ]
  },
  {
   "cell_type": "code",
   "execution_count": 17,
   "metadata": {
    "ExecuteTime": {
     "end_time": "2021-11-07T09:25:45.519140Z",
     "start_time": "2021-11-07T09:25:45.442070Z"
    },
    "slideshow": {
     "slide_type": "fragment"
    }
   },
   "outputs": [
    {
     "data": {
      "text/plain": [
       "device(type='cuda', index=0)"
      ]
     },
     "execution_count": 17,
     "metadata": {},
     "output_type": "execute_result"
    }
   ],
   "source": [
    "DEVICE = torch.device(\"cuda:0\" if torch.cuda.is_available() else \"cpu\") \n",
    "DEVICE"
   ]
  },
  {
   "cell_type": "code",
   "execution_count": 18,
   "metadata": {
    "ExecuteTime": {
     "end_time": "2021-11-07T09:26:32.748249Z",
     "start_time": "2021-11-07T09:25:45.520141Z"
    }
   },
   "outputs": [
    {
     "name": "stdout",
     "output_type": "stream",
     "text": [
      "Epoch 000: | Train loss:  2.301 | Val loss:  2.299 | Train Accuracy:  0.104 | Val Accuracy:  0.138 | epoch time:  6.378 | <-- Checkpoint!\n",
      "Epoch 001: | Train loss:  2.290 | Val loss:  2.267 | Train Accuracy:  0.223 | Val Accuracy:  0.273 | epoch time:  4.584 | <-- Checkpoint!\n",
      "Epoch 002: | Train loss:  1.903 | Val loss:  1.452 | Train Accuracy:  0.296 | Val Accuracy:  0.443 | epoch time:  4.535 | <-- Checkpoint!\n",
      "Epoch 003: | Train loss:  1.282 | Val loss:  1.058 | Train Accuracy:  0.516 | Val Accuracy:  0.620 | epoch time:  4.483 | <-- Checkpoint!\n",
      "Epoch 004: | Train loss:  0.973 | Val loss:  1.026 | Train Accuracy:  0.639 | Val Accuracy:  0.614 | epoch time:  4.659 |\n",
      "Epoch 005: | Train loss:  0.847 | Val loss:  0.821 | Train Accuracy:  0.681 | Val Accuracy:  0.684 | epoch time:  4.457 | <-- Checkpoint!\n",
      "Epoch 006: | Train loss:  0.758 | Val loss:  0.766 | Train Accuracy:  0.712 | Val Accuracy:  0.706 | epoch time:  4.422 | <-- Checkpoint!\n",
      "Epoch 007: | Train loss:  0.719 | Val loss:  0.756 | Train Accuracy:  0.726 | Val Accuracy:  0.712 | epoch time:  4.508 | <-- Checkpoint!\n",
      "Epoch 008: | Train loss:  0.675 | Val loss:  0.692 | Train Accuracy:  0.741 | Val Accuracy:  0.738 | epoch time:  4.611 | <-- Checkpoint!\n",
      "Epoch 009: | Train loss:  0.655 | Val loss:  0.648 | Train Accuracy:  0.748 | Val Accuracy:  0.755 | epoch time:  4.468 | <-- Checkpoint!\n"
     ]
    }
   ],
   "source": [
    "nEpochs = 10\n",
    "oLogger = Logger('runs/SimpleRun')\n",
    "\n",
    "Loss    = nn.CrossEntropyLoss()\n",
    "oModel  = GetModel().to(DEVICE)\n",
    "oOptim  = optim.SGD(oModel.parameters(), lr=1e-2, momentum=.5)\n",
    "TrainClassficationModel(oModel, oTrainDL, oTestDL, Loss, nEpochs, oOptim, oLogger=oLogger);\n",
    "oLogger.oWriter.close()"
   ]
  },
  {
   "cell_type": "code",
   "execution_count": 19,
   "metadata": {
    "ExecuteTime": {
     "end_time": "2021-11-07T09:26:32.860351Z",
     "start_time": "2021-11-07T09:26:32.749250Z"
    }
   },
   "outputs": [],
   "source": [
    "from torch.optim import lr_scheduler\n",
    "\n",
    "nEpochs = 10\n",
    "nIter   = nEpochs * len(oTrainDL)\n",
    "\n",
    "lScheduler   = []\n",
    "lScheduler  += [('Exp',      lr_scheduler.ExponentialLR,     {'gamma'  :0.995})]\n",
    "lScheduler  += [('Cos',      lr_scheduler.CosineAnnealingLR, {'T_max'  :nIter})]\n",
    "lScheduler  += [('Cyclic',   lr_scheduler.CyclicLR,          {'base_lr':1e-4, 'max_lr':1e-2, 'step_size_up':nIter//6, 'step_size_down':nIter//6, 'mode':'triangular2', 'cycle_momentum':False})]\n",
    "lScheduler  += [('OneCycle', lr_scheduler.OneCycleLR,        {'max_lr' :1e-2, 'total_steps':nIter})]"
   ]
  },
  {
   "cell_type": "code",
   "execution_count": 20,
   "metadata": {
    "ExecuteTime": {
     "end_time": "2021-11-07T09:29:34.845604Z",
     "start_time": "2021-11-07T09:26:32.861352Z"
    }
   },
   "outputs": [
    {
     "name": "stdout",
     "output_type": "stream",
     "text": [
      "===============================================================\n",
      "Train configuration: Exp\n",
      "===============================================================\n",
      "Epoch 000: | Train loss:  2.076 | Val loss:  1.178 | Train Accuracy:  0.327 | Val Accuracy:  0.559 | epoch time:  4.466 | <-- Checkpoint!\n",
      "Epoch 001: | Train loss:  0.970 | Val loss:  0.838 | Train Accuracy:  0.629 | Val Accuracy:  0.686 | epoch time:  4.431 | <-- Checkpoint!\n",
      "Epoch 002: | Train loss:  0.773 | Val loss:  0.748 | Train Accuracy:  0.707 | Val Accuracy:  0.711 | epoch time:  4.478 | <-- Checkpoint!\n",
      "Epoch 003: | Train loss:  0.687 | Val loss:  0.674 | Train Accuracy:  0.737 | Val Accuracy:  0.741 | epoch time:  4.627 | <-- Checkpoint!\n",
      "Epoch 004: | Train loss:  0.616 | Val loss:  0.632 | Train Accuracy:  0.763 | Val Accuracy:  0.758 | epoch time:  4.655 | <-- Checkpoint!\n",
      "Epoch 005: | Train loss:  0.584 | Val loss:  0.606 | Train Accuracy:  0.776 | Val Accuracy:  0.766 | epoch time:  4.493 | <-- Checkpoint!\n",
      "Epoch 006: | Train loss:  0.558 | Val loss:  0.576 | Train Accuracy:  0.786 | Val Accuracy:  0.781 | epoch time:  4.471 | <-- Checkpoint!\n",
      "Epoch 007: | Train loss:  0.539 | Val loss:  0.559 | Train Accuracy:  0.796 | Val Accuracy:  0.792 | epoch time:  4.490 | <-- Checkpoint!\n",
      "Epoch 008: | Train loss:  0.522 | Val loss:  0.553 | Train Accuracy:  0.804 | Val Accuracy:  0.794 | epoch time:  4.483 | <-- Checkpoint!\n",
      "Epoch 009: | Train loss:  0.511 | Val loss:  0.540 | Train Accuracy:  0.807 | Val Accuracy:  0.799 | epoch time:  4.482 | <-- Checkpoint!\n",
      "===============================================================\n",
      "Train configuration: Cos\n",
      "===============================================================\n",
      "Epoch 000: | Train loss:  2.296 | Val loss:  1.597 | Train Accuracy:  0.236 | Val Accuracy:  0.395 | epoch time:  4.760 | <-- Checkpoint!\n",
      "Epoch 001: | Train loss:  1.177 | Val loss:  0.977 | Train Accuracy:  0.559 | Val Accuracy:  0.641 | epoch time:  4.528 | <-- Checkpoint!\n",
      "Epoch 002: | Train loss:  0.790 | Val loss:  0.715 | Train Accuracy:  0.698 | Val Accuracy:  0.722 | epoch time:  4.457 | <-- Checkpoint!\n",
      "Epoch 003: | Train loss:  0.664 | Val loss:  0.653 | Train Accuracy:  0.741 | Val Accuracy:  0.748 | epoch time:  4.497 | <-- Checkpoint!\n",
      "Epoch 004: | Train loss:  0.608 | Val loss:  0.600 | Train Accuracy:  0.764 | Val Accuracy:  0.771 | epoch time:  4.525 | <-- Checkpoint!\n",
      "Epoch 005: | Train loss:  0.566 | Val loss:  0.567 | Train Accuracy:  0.782 | Val Accuracy:  0.784 | epoch time:  4.457 | <-- Checkpoint!\n",
      "Epoch 006: | Train loss:  0.527 | Val loss:  0.544 | Train Accuracy:  0.802 | Val Accuracy:  0.793 | epoch time:  4.445 | <-- Checkpoint!\n",
      "Epoch 007: | Train loss:  0.499 | Val loss:  0.521 | Train Accuracy:  0.813 | Val Accuracy:  0.803 | epoch time:  4.722 | <-- Checkpoint!\n",
      "Epoch 008: | Train loss:  0.480 | Val loss:  0.507 | Train Accuracy:  0.821 | Val Accuracy:  0.809 | epoch time:  4.595 | <-- Checkpoint!\n",
      "Epoch 009: | Train loss:  0.471 | Val loss:  0.505 | Train Accuracy:  0.824 | Val Accuracy:  0.808 | epoch time:  4.552 |\n",
      "===============================================================\n",
      "Train configuration: Cyclic\n",
      "===============================================================\n",
      "Epoch 000: | Train loss:  1.162 | Val loss:  0.845 | Train Accuracy:  0.572 | Val Accuracy:  0.684 | epoch time:  4.471 | <-- Checkpoint!\n",
      "Epoch 001: | Train loss:  0.666 | Val loss:  0.504 | Train Accuracy:  0.754 | Val Accuracy:  0.817 | epoch time:  4.439 | <-- Checkpoint!\n",
      "Epoch 002: | Train loss:  0.425 | Val loss:  0.400 | Train Accuracy:  0.843 | Val Accuracy:  0.856 | epoch time:  4.549 | <-- Checkpoint!\n",
      "Epoch 003: | Train loss:  0.360 | Val loss:  0.406 | Train Accuracy:  0.866 | Val Accuracy:  0.855 | epoch time:  4.461 |\n",
      "Epoch 004: | Train loss:  0.362 | Val loss:  0.395 | Train Accuracy:  0.867 | Val Accuracy:  0.858 | epoch time:  4.486 | <-- Checkpoint!\n",
      "Epoch 005: | Train loss:  0.341 | Val loss:  0.364 | Train Accuracy:  0.875 | Val Accuracy:  0.868 | epoch time:  4.448 | <-- Checkpoint!\n",
      "Epoch 006: | Train loss:  0.288 | Val loss:  0.335 | Train Accuracy:  0.893 | Val Accuracy:  0.878 | epoch time:  4.493 | <-- Checkpoint!\n",
      "Epoch 007: | Train loss:  0.282 | Val loss:  0.348 | Train Accuracy:  0.895 | Val Accuracy:  0.875 | epoch time:  4.788 |\n",
      "Epoch 008: | Train loss:  0.288 | Val loss:  0.334 | Train Accuracy:  0.892 | Val Accuracy:  0.881 | epoch time:  4.511 | <-- Checkpoint!\n",
      "Epoch 009: | Train loss:  0.248 | Val loss:  0.317 | Train Accuracy:  0.907 | Val Accuracy:  0.889 | epoch time:  4.549 | <-- Checkpoint!\n",
      "===============================================================\n",
      "Train configuration: OneCycle\n",
      "===============================================================\n",
      "Epoch 000: | Train loss:  1.334 | Val loss:  0.771 | Train Accuracy:  0.520 | Val Accuracy:  0.711 | epoch time:  4.652 | <-- Checkpoint!\n",
      "Epoch 001: | Train loss:  0.990 | Val loss:  1.145 | Train Accuracy:  0.656 | Val Accuracy:  0.592 | epoch time:  4.532 |\n",
      "Epoch 002: | Train loss:  0.841 | Val loss:  0.724 | Train Accuracy:  0.693 | Val Accuracy:  0.725 | epoch time:  4.560 | <-- Checkpoint!\n",
      "Epoch 003: | Train loss:  0.585 | Val loss:  0.531 | Train Accuracy:  0.776 | Val Accuracy:  0.800 | epoch time:  4.521 | <-- Checkpoint!\n",
      "Epoch 004: | Train loss:  0.466 | Val loss:  0.500 | Train Accuracy:  0.826 | Val Accuracy:  0.819 | epoch time:  4.519 | <-- Checkpoint!\n",
      "Epoch 005: | Train loss:  0.403 | Val loss:  0.418 | Train Accuracy:  0.849 | Val Accuracy:  0.844 | epoch time:  4.546 | <-- Checkpoint!\n",
      "Epoch 006: | Train loss:  0.361 | Val loss:  0.396 | Train Accuracy:  0.866 | Val Accuracy:  0.859 | epoch time:  4.579 | <-- Checkpoint!\n",
      "Epoch 007: | Train loss:  0.324 | Val loss:  0.377 | Train Accuracy:  0.879 | Val Accuracy:  0.865 | epoch time:  4.518 | <-- Checkpoint!\n",
      "Epoch 008: | Train loss:  0.295 | Val loss:  0.351 | Train Accuracy:  0.890 | Val Accuracy:  0.871 | epoch time:  4.999 | <-- Checkpoint!\n",
      "Epoch 009: | Train loss:  0.275 | Val loss:  0.347 | Train Accuracy:  0.897 | Val Accuracy:  0.873 | epoch time:  4.510 | <-- Checkpoint!\n"
     ]
    }
   ],
   "source": [
    "for (name, Scheduler, dArgs) in lScheduler:\n",
    "    print( '===============================================================')\n",
    "    print(f'Train configuration: {name}')\n",
    "    print( '===============================================================')\n",
    "    oLogger    = Logger(f'runs/Configuration_{name}')\n",
    "    oModel     = GetModel().to(DEVICE)\n",
    "    oOptim     = optim.AdamW(oModel.parameters(), lr=1e-2, betas=(0.9, 0.99), weight_decay=1e-4)\n",
    "    oScheduler = Scheduler(oOptim, **dArgs)\n",
    "    TrainClassficationModel(oModel, oTrainDL, oTestDL, Loss, nEpochs, oOptim, oScheduler, oLogger);\n",
    "    oLogger.oWriter.close()"
   ]
  },
  {
   "cell_type": "markdown",
   "metadata": {},
   "source": [
    "### Exercise\n",
    "Add train and validation accuracy to `tensorboard`."
   ]
  },
  {
   "cell_type": "code",
   "execution_count": 21,
   "metadata": {
    "ExecuteTime": {
     "end_time": "2021-11-07T09:29:34.957706Z",
     "start_time": "2021-11-07T09:29:34.846605Z"
    }
   },
   "outputs": [
    {
     "name": "stdout",
     "output_type": "stream",
     "text": [
      "Object `?` not found.\n"
     ]
    }
   ],
   "source": [
    "???"
   ]
  }
 ],
 "metadata": {
  "kernelspec": {
   "display_name": "Python 3",
   "language": "python",
   "name": "python3"
  },
  "language_info": {
   "codemirror_mode": {
    "name": "ipython",
    "version": 3
   },
   "file_extension": ".py",
   "mimetype": "text/x-python",
   "name": "python",
   "nbconvert_exporter": "python",
   "pygments_lexer": "ipython3",
   "version": "3.8.12"
  },
  "toc": {
   "base_numbering": 1,
   "nav_menu": {},
   "number_sections": false,
   "sideBar": true,
   "skip_h1_title": false,
   "title_cell": "Table of Contents",
   "title_sidebar": "Contents",
   "toc_cell": false,
   "toc_position": {},
   "toc_section_display": true,
   "toc_window_display": false
  },
  "varInspector": {
   "cols": {
    "lenName": 16,
    "lenType": 16,
    "lenVar": 40
   },
   "kernels_config": {
    "python": {
     "delete_cmd_postfix": "",
     "delete_cmd_prefix": "del ",
     "library": "var_list.py",
     "varRefreshCmd": "print(var_dic_list())"
    },
    "r": {
     "delete_cmd_postfix": ") ",
     "delete_cmd_prefix": "rm(",
     "library": "var_list.r",
     "varRefreshCmd": "cat(var_dic_list()) "
    }
   },
   "oldHeight": 413,
   "position": {
    "height": "435px",
    "left": "1650px",
    "right": "20px",
    "top": "120px",
    "width": "250px"
   },
   "types_to_exclude": [
    "module",
    "function",
    "builtin_function_or_method",
    "instance",
    "_Feature"
   ],
   "varInspector_section_display": "block",
   "window_display": true
  }
 },
 "nbformat": 4,
 "nbformat_minor": 4
}
