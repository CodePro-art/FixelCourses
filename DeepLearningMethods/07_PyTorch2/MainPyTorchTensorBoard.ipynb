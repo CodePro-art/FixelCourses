{
 "cells": [
  {
   "cell_type": "markdown",
   "metadata": {
    "slideshow": {
     "slide_type": "slide"
    }
   },
   "source": [
    "![Fixel Algorithms](https://fixelalgorithms.co/images/CCExt.png)"
   ]
  },
  {
   "cell_type": "markdown",
   "metadata": {},
   "source": [
    "# <center> Deep Learning Methods </center>\n",
    "## <center> Lecture 07 - PyTorch 2 </center>\n",
    "### <center> TensorBoard </center>"
   ]
  },
  {
   "cell_type": "markdown",
   "metadata": {},
   "source": [
    "Colab users should use GPU runtime:  \n",
    "[![Open In Colab](https://colab.research.google.com/assets/colab-badge.svg)](https://colab.research.google.com/github/FixelAlgorithmsTeam/FixelCourses/blob/master/DeepLearningMethods/07_PyTorch2/MainPyTorchTensorBoard.ipynb)"
   ]
  },
  {
   "cell_type": "code",
   "execution_count": 1,
   "metadata": {
    "slideshow": {
     "slide_type": "slide"
    }
   },
   "outputs": [
    {
     "data": {
      "text/html": [
       "<style>.container { width:80% !important; }</style>"
      ],
      "text/plain": [
       "<IPython.core.display.HTML object>"
      ]
     },
     "metadata": {},
     "output_type": "display_data"
    }
   ],
   "source": [
    "#-- Wide screen:\n",
    "from IPython.core.display import display, HTML\n",
    "display(HTML(\"<style>.container { width:80% !important; }</style>\"))"
   ]
  },
  {
   "cell_type": "code",
   "execution_count": 2,
   "metadata": {
    "slideshow": {
     "slide_type": "fragment"
    }
   },
   "outputs": [],
   "source": [
    "#-- Auto reload:\n",
    "%load_ext autoreload\n",
    "%autoreload 2"
   ]
  },
  {
   "cell_type": "code",
   "execution_count": 3,
   "metadata": {
    "slideshow": {
     "slide_type": "fragment"
    }
   },
   "outputs": [],
   "source": [
    "#-- Imports:\n",
    "import numpy             as np\n",
    "import matplotlib.pyplot as plt\n",
    "import matplotlib\n",
    "import torch\n",
    "\n",
    "matplotlib.rc('font', **{'size' : 16})\n",
    "\n",
    "#-- Fix seed (for presentation sake)\n",
    "torch.manual_seed(0)\n",
    "np.random.seed   (0)\n",
    "torch.backends.cudnn.deterministic = True\n",
    "torch.backends.cudnn.benchmark     = False"
   ]
  },
  {
   "cell_type": "code",
   "execution_count": 4,
   "metadata": {},
   "outputs": [],
   "source": [
    "if 'google.colab' in str(get_ipython()):\n",
    "    !npx degit FixelAlgorithmsTeam/FixelCourses/DeepLearningMethods/07_PyTorch2/DeepLearningFramework ./DeepLearningFramework\n",
    "    !pip install tensorboard"
   ]
  },
  {
   "cell_type": "markdown",
   "metadata": {
    "slideshow": {
     "slide_type": "slide"
    }
   },
   "source": [
    "### Load Fashion-MNIST data:"
   ]
  },
  {
   "cell_type": "code",
   "execution_count": 5,
   "metadata": {
    "slideshow": {
     "slide_type": "fragment"
    }
   },
   "outputs": [],
   "source": [
    "import torchvision\n",
    "import torchvision.transforms as transforms\n",
    "\n",
    "oTransform = transforms.Compose([\n",
    "    transforms.ToTensor(),\n",
    "    transforms.Normalize((0.5,), (0.5,))\n",
    "])\n",
    "\n",
    "oTrainSet = torchvision.datasets.FashionMNIST('../../data', download=True, train=True,  transform=oTransform)\n",
    "oTestSet  = torchvision.datasets.FashionMNIST('../../data', download=True, train=False, transform=oTransform)\n",
    "\n",
    "oTrainDL  = torch.utils.data.DataLoader(oTrainSet, batch_size=1024, shuffle=True,  num_workers=2)\n",
    "oTestDL   = torch.utils.data.DataLoader(oTestSet,  batch_size=1024, shuffle=False, num_workers=2)\n",
    "\n",
    "lClasses  = oTrainSet.classes"
   ]
  },
  {
   "cell_type": "markdown",
   "metadata": {
    "slideshow": {
     "slide_type": "slide"
    }
   },
   "source": [
    "#### Plot some examples:"
   ]
  },
  {
   "cell_type": "code",
   "execution_count": 6,
   "metadata": {
    "slideshow": {
     "slide_type": "fragment"
    }
   },
   "outputs": [
    {
     "data": {
      "image/png": "[encoded data removed]",
      "text/plain": [
       "<Figure size 720x432 with 6 Axes>"
      ]
     },
     "metadata": {
      "needs_background": "light"
     },
     "output_type": "display_data"
    }
   ],
   "source": [
    "def Unnormalize(mX):\n",
    "    return 0.5 * mX + 0.5\n",
    "\n",
    "N, H, W = oTrainSet.data.shape\n",
    "fig, _  = plt.subplots(2, 3, figsize=(10,6))\n",
    "for ax in fig.axes:\n",
    "    idx   = np.random.randint(0, N)\n",
    "    mX, y = oTrainSet[idx]\n",
    "    mX    = Unnormalize(mX.squeeze())\n",
    "    mX    = torch.clamp(mX, 0, 1)\n",
    "    ax.imshow   (mX, cmap='gray')\n",
    "    ax.set_title(f'True label: {lClasses[y]}')\n",
    "    \n",
    "plt.tight_layout()\n",
    "plt.show()"
   ]
  },
  {
   "cell_type": "markdown",
   "metadata": {
    "slideshow": {
     "slide_type": "slide"
    }
   },
   "source": [
    "#### Define a model:"
   ]
  },
  {
   "cell_type": "code",
   "execution_count": 7,
   "metadata": {
    "slideshow": {
     "slide_type": "slide"
    }
   },
   "outputs": [
    {
     "name": "stdout",
     "output_type": "stream",
     "text": [
      "----------------------------------------------------------------\n",
      "        Layer (type)               Output Shape         Param #\n",
      "================================================================\n",
      "          Identity-1            [-1, 1, 28, 28]               0\n",
      "            Conv2d-2            [-1, 8, 20, 20]             656\n",
      "         LeakyReLU-3            [-1, 8, 20, 20]               0\n",
      "            Conv2d-4           [-1, 16, 14, 14]           6,288\n",
      "         LeakyReLU-5           [-1, 16, 14, 14]               0\n",
      "            Conv2d-6           [-1, 32, 10, 10]          12,832\n",
      "         LeakyReLU-7           [-1, 32, 10, 10]               0\n",
      "            Conv2d-8             [-1, 64, 6, 6]          51,264\n",
      "         LeakyReLU-9             [-1, 64, 6, 6]               0\n",
      "           Conv2d-10            [-1, 128, 2, 2]         204,928\n",
      "        LeakyReLU-11            [-1, 128, 2, 2]               0\n",
      "          Flatten-12                  [-1, 512]               0\n",
      "           Linear-13                   [-1, 10]           5,130\n",
      "================================================================\n",
      "Total params: 281,098\n",
      "Trainable params: 281,098\n",
      "Non-trainable params: 0\n",
      "----------------------------------------------------------------\n",
      "Input size (MB): 0.00\n",
      "Forward/backward pass size (MB): 0.20\n",
      "Params size (MB): 1.07\n",
      "Estimated Total Size (MB): 1.27\n",
      "----------------------------------------------------------------\n"
     ]
    }
   ],
   "source": [
    "import torchsummary\n",
    "import torch.nn            as nn\n",
    "import torch.nn.functional as F\n",
    "import torch.optim         as optim\n",
    "\n",
    "#-- Model:\n",
    "def GetModel():\n",
    "    oModel = nn.Sequential(\n",
    "        nn.Identity(), #-- does nothing\n",
    "        \n",
    "        nn.Conv2d(1,  8,   9), nn.LeakyReLU(),\n",
    "        nn.Conv2d(8,  16,  7), nn.LeakyReLU(),\n",
    "        nn.Conv2d(16, 32,  5), nn.LeakyReLU(),\n",
    "        nn.Conv2d(32, 64,  5), nn.LeakyReLU(),\n",
    "        nn.Conv2d(64, 128, 5), nn.LeakyReLU(),\n",
    "        \n",
    "        nn.Flatten(),\n",
    "        nn.Linear(512, 10)\n",
    "    )\n",
    "    return oModel\n",
    "\n",
    "#--------------------------------------------------------------------------------#\n",
    "#--------------------------------------------------------------------------------#\n",
    "torchsummary.summary(GetModel(), (1, H, W), device='cpu');"
   ]
  },
  {
   "cell_type": "markdown",
   "metadata": {
    "slideshow": {
     "slide_type": "slide"
    }
   },
   "source": [
    "### TensorBoard:\n",
    "https://www.tensorflow.org/tensorboard/get_started\n",
    "\n",
    "You can also check the official tutorial (but with `tensorflow`):  \n",
    "https://colab.research.google.com/github/tensorflow/tensorboard/blob/master/docs/get_started.ipynb"
   ]
  },
  {
   "cell_type": "code",
   "execution_count": 8,
   "metadata": {
    "slideshow": {
     "slide_type": "fragment"
    }
   },
   "outputs": [],
   "source": [
    "from torch.utils.tensorboard import SummaryWriter\n",
    "\n",
    "# default `log_dir` is `runs`\n",
    "oWriter = SummaryWriter('runs/Run1')"
   ]
  },
  {
   "cell_type": "code",
   "execution_count": 9,
   "metadata": {},
   "outputs": [],
   "source": [
    "if 'google.colab' in str(get_ipython()):\n",
    "    #-- https://github.com/pytorch/pytorch/issues/30966\n",
    "    import tensorflow as tf\n",
    "    import tensorboard as tb\n",
    "    tf.io.gfile = tb.compat.tensorflow_stub.io.gfile\n",
    "    #--\n",
    "    %load_ext tensorboard\n",
    "    %tensorboard --logdir=runs"
   ]
  },
  {
   "cell_type": "markdown",
   "metadata": {
    "slideshow": {
     "slide_type": "fragment"
    }
   },
   "source": [
    "cmd (from the same path as this file):  \n",
    "`tensorboard --logdir=runs`  \n",
    "go to:  \n",
    "http://localhost:6006/"
   ]
  },
  {
   "cell_type": "markdown",
   "metadata": {
    "slideshow": {
     "slide_type": "slide"
    }
   },
   "source": [
    "#### Write images to TensorBoard:"
   ]
  },
  {
   "cell_type": "code",
   "execution_count": 10,
   "metadata": {
    "slideshow": {
     "slide_type": "fragment"
    }
   },
   "outputs": [
    {
     "data": {
      "image/png": "[encoded data removed]",
      "text/plain": [
       "<Figure size 576x432 with 1 Axes>"
      ]
     },
     "metadata": {
      "needs_background": "light"
     },
     "output_type": "display_data"
    }
   ],
   "source": [
    "mX          = Unnormalize(next(iter(oTrainDL))[0][:16])\n",
    "mImagesGrid = torchvision.utils.make_grid(mX, nrow=4)   #-- 4 x 4 grid\n",
    "\n",
    "#-- write to tensorboard\n",
    "oWriter.add_image('Training images', mImagesGrid)\n",
    "# oWriter.close()\n",
    "\n",
    "plt.figure(figsize=(8, 6))\n",
    "plt.imshow(mImagesGrid.numpy().transpose((1,2,0)))\n",
    "plt.show()"
   ]
  },
  {
   "cell_type": "markdown",
   "metadata": {
    "slideshow": {
     "slide_type": "slide"
    }
   },
   "source": [
    "#### Write model's graph to TensorBoard:"
   ]
  },
  {
   "cell_type": "code",
   "execution_count": 11,
   "metadata": {
    "slideshow": {
     "slide_type": "fragment"
    }
   },
   "outputs": [],
   "source": [
    "oModel = GetModel()\n",
    "oWriter.add_graph(oModel, mX)"
   ]
  },
  {
   "cell_type": "markdown",
   "metadata": {
    "slideshow": {
     "slide_type": "slide"
    }
   },
   "source": [
    "#### Add embeddings to TensorBoard:"
   ]
  },
  {
   "cell_type": "code",
   "execution_count": 12,
   "metadata": {
    "slideshow": {
     "slide_type": "fragment"
    }
   },
   "outputs": [],
   "source": [
    "#-- A way to get N (random) data points:\n",
    "N         = 1000\n",
    "oTrainDL2 = torch.utils.data.DataLoader(oTrainSet, batch_size=N, shuffle=True)\n",
    "mX, vY    = next(iter(oTrainDL2))\n",
    "lLabels   = [lClasses[y] for y in vY]\n",
    "\n",
    "#-- Add embeddings to TensorBoard:\n",
    "mFeatures = mX.view(N, -1)\n",
    "oWriter.add_embedding(mFeatures, metadata=lLabels, label_img=1-Unnormalize(mX), tag='Raw data')\n",
    "#-- if data do not apper in TensorBoard, reconnect in the cmd."
   ]
  },
  {
   "cell_type": "markdown",
   "metadata": {
    "slideshow": {
     "slide_type": "slide"
    }
   },
   "source": [
    "### A function to plot a sample with its label prediction:"
   ]
  },
  {
   "cell_type": "code",
   "execution_count": 13,
   "metadata": {
    "slideshow": {
     "slide_type": "fragment"
    }
   },
   "outputs": [],
   "source": [
    "def PlotImages(oModel, mX, vY):\n",
    "    N     = mX.shape[0]\n",
    "    mP    = torch.softmax(oModel(mX), dim=1)\n",
    "    vHatY = torch.argmax(mP, dim=1)\n",
    "    vP    = mP[range(N),vHatY]\n",
    "    \n",
    "    fig, _ = plt.subplots(2, 4, figsize=(12, 8))\n",
    "    for ii, ax in enumerate(fig.axes):\n",
    "        if vHatY[ii] == vY[ii]:\n",
    "            color = 'g'\n",
    "        else:\n",
    "            color = 'r'\n",
    "        \n",
    "        label     = lClasses[vY[ii]]\n",
    "        labelHat  = lClasses[vHatY[ii]]\n",
    "        ax.imshow(mX[ii].squeeze().cpu() * 0.5 + 0.5, cmap='gray')        \n",
    "        ax.set_title(f'{labelHat}, {100 * vP[ii]:.1f}%\\n'\n",
    "                     f'(True label: {label})', color=color)\n",
    "        plt.tight_layout()\n",
    "    return fig"
   ]
  },
  {
   "cell_type": "code",
   "execution_count": 14,
   "metadata": {},
   "outputs": [],
   "source": [
    "class Logger:\n",
    "    def __init__(self, sName):\n",
    "        self.oWriter = SummaryWriter(sName)\n",
    "        self.iter    = 0\n",
    "        self.epoch   = 0"
   ]
  },
  {
   "cell_type": "code",
   "execution_count": 15,
   "metadata": {},
   "outputs": [],
   "source": [
    "def Epoch(oModel, oDataDL, Loss, Metric, oOptim=None, oScheduler=None, bTrain=True, oLogger=None):\n",
    "\n",
    "    epochLoss   = 0\n",
    "    epochMetric = 0\n",
    "    count       = 0\n",
    "    nIter       = len(oDataDL)\n",
    "    vLR         = np.full(nIter, np.nan)\n",
    "    DEVICE      = next(oModel.parameters()).device #-- CPU\\GPU\n",
    "\n",
    "    oModel.train(bTrain) #-- train or test\n",
    "\n",
    "    #-- Iterate over the mini-batches:\n",
    "    for ii, (mX, vY) in enumerate(oDataDL):\n",
    "        #-- Move to device (CPU\\GPU):\n",
    "        mX = mX.to(DEVICE)\n",
    "        vY = vY.to(DEVICE)\n",
    "\n",
    "        #-- Forward:\n",
    "        if bTrain == True:\n",
    "            #-- Store computational graph:\n",
    "            mZ   = oModel(mX)\n",
    "            loss = Loss(mZ, vY)\n",
    "        else:\n",
    "            with torch.no_grad():\n",
    "                #-- Do not store computational graph:\n",
    "                mZ   = oModel(mX)\n",
    "                loss = Loss(mZ, vY)\n",
    "\n",
    "        #-- Backward:\n",
    "        if bTrain == True:\n",
    "            oOptim.zero_grad() #-- set gradients to zeros\n",
    "            loss.backward()    #-- backward\n",
    "            oOptim.step()      #-- update parameters\n",
    "            if oScheduler is not None:\n",
    "                vLR[ii] = oScheduler.get_last_lr()[0]\n",
    "                oScheduler.step() #-- update learning rate\n",
    "\n",
    "        Nb           = vY.shape[0]\n",
    "        count       += Nb\n",
    "        epochLoss   += Nb * loss.item()\n",
    "        epochMetric += Nb * Metric(mZ, vY)\n",
    "        print(f'\\r{\"Train\" if bTrain else \"Val\"} - Iteration: {ii:3d} ({nIter}): loss = {loss:2.6f}', end='')\n",
    "\n",
    "        #=======================================================================================#\n",
    "        if bTrain == True:\n",
    "            oLogger.oWriter.add_scalar ('Learning rate',    vLR[ii],                global_step=oLogger.iter)\n",
    "            oLogger.oWriter.add_scalars('Loss (per batch)', {'Train': loss.item()}, global_step=oLogger.iter)\n",
    "            oLogger.iter += 1\n",
    "        #=======================================================================================#\n",
    "\n",
    "    #===============================================================================#\n",
    "    if bTrain == True:\n",
    "        oLogger.oWriter.add_scalars('Loss (per epoch)', {'Train':      loss.item()}, global_step=oLogger.epoch)\n",
    "    else:\n",
    "        oLogger.oWriter.add_scalars('Loss (per epoch)', {'Validation': loss.item()}, global_step=oLogger.epoch)\n",
    "        oLogger.oWriter.add_figure('Accuracy',          PlotImages(oModel, mX, vY),  global_step=oLogger.epoch)\n",
    "        oLogger.epoch += 1\n",
    "    oWriter.flush()\n",
    "    #===============================================================================#\n",
    "    print('', end='\\r')\n",
    "    epochLoss   /= count\n",
    "    epochMetric /= count\n",
    "\n",
    "    return epochLoss, epochMetric, vLR"
   ]
  },
  {
   "cell_type": "code",
   "execution_count": 16,
   "metadata": {},
   "outputs": [],
   "source": [
    "import time\n",
    "from DeepLearningFramework.Metric import Accuracy\n",
    "\n",
    "def TrainClassficationModel(oModel, oTrainData, oValData, Loss, nEpochs, oOptim, oScheduler=None, oLogger=None):\n",
    "\n",
    "    vTrainLoss = np.full(nEpochs, np.nan)\n",
    "    vTrainAcc  = np.full(nEpochs, np.nan)\n",
    "    vValLoss   = np.full(nEpochs, np.nan)\n",
    "    vValAcc    = np.full(nEpochs, np.nan)\n",
    "    vLR        = np.full(0,       np.nan)\n",
    "    bestAcc    = 0\n",
    "\n",
    "    for epoch in range(nEpochs):\n",
    "        startTime                 = time.time()\n",
    "        trainLoss, trainAcc, vLRi = Epoch(oModel, oTrainData, Loss, Accuracy, oOptim, oScheduler, bTrain=True,  oLogger=oLogger) #-- train\n",
    "        valLoss,   valAcc,   _    = Epoch(oModel, oValData,   Loss, Accuracy,                     bTrain=False, oLogger=oLogger) #-- validate\n",
    "        epochTime                 = time.time() - startTime\n",
    "\n",
    "        #-- Display:\n",
    "        print('Epoch '              f'{epoch    :03d}:',   end='')\n",
    "        print(' | Train loss: '     f'{trainLoss:6.3f}',   end='')\n",
    "        print(' | Val loss: '       f'{valLoss  :6.3f}',   end='')\n",
    "        print(' | Train Accuracy: ' f'{trainAcc :6.3f}',   end='')\n",
    "        print(' | Val Accuracy: '   f'{valAcc   :6.3f}',   end='')\n",
    "        print(' | epoch time: '     f'{epochTime:6.3f} |', end='')\n",
    "\n",
    "        vTrainLoss[epoch] = trainLoss\n",
    "        vTrainAcc [epoch] = trainAcc\n",
    "        vValLoss  [epoch] = valLoss\n",
    "        vValAcc   [epoch] = valAcc\n",
    "        vLR               = np.concatenate([vLR, vLRi])\n",
    "\n",
    "        #-- Save best model (early stopping):\n",
    "        if bestAcc < valAcc:\n",
    "            bestAcc = valAcc\n",
    "            try:\n",
    "                torch.save(oModel.state_dict(), 'BestModel.pt')\n",
    "            except:\n",
    "                pass\n",
    "            print(' <-- Checkpoint!')\n",
    "        else:\n",
    "            print('')\n",
    "\n",
    "    #-- Load best model (early stopping):\n",
    "    oModel.load_state_dict(torch.load('BestModel.pt'))\n",
    "\n",
    "    return vTrainLoss, vTrainAcc, vValLoss, vValAcc, vLR"
   ]
  },
  {
   "cell_type": "markdown",
   "metadata": {
    "slideshow": {
     "slide_type": "slide"
    }
   },
   "source": [
    "#### Device:"
   ]
  },
  {
   "cell_type": "code",
   "execution_count": 17,
   "metadata": {
    "slideshow": {
     "slide_type": "fragment"
    }
   },
   "outputs": [
    {
     "data": {
      "text/plain": [
       "device(type='cuda', index=0)"
      ]
     },
     "execution_count": 17,
     "metadata": {},
     "output_type": "execute_result"
    }
   ],
   "source": [
    "DEVICE = torch.device(\"cuda:0\" if torch.cuda.is_available() else \"cpu\") \n",
    "DEVICE"
   ]
  },
  {
   "cell_type": "code",
   "execution_count": 18,
   "metadata": {},
   "outputs": [
    {
     "name": "stdout",
     "output_type": "stream",
     "text": [
      "Epoch 000: | Train loss:  2.301 | Val loss:  2.300 | Train Accuracy:  0.100 | Val Accuracy:  0.100 | epoch time:  5.501 | <-- Checkpoint!\n",
      "Epoch 001: | Train loss:  2.297 | Val loss:  2.293 | Train Accuracy:  0.101 | Val Accuracy:  0.103 | epoch time:  4.244 | <-- Checkpoint!\n",
      "Epoch 002: | Train loss:  2.273 | Val loss:  2.196 | Train Accuracy:  0.107 | Val Accuracy:  0.104 | epoch time:  4.262 | <-- Checkpoint!\n",
      "Epoch 003: | Train loss:  1.834 | Val loss:  1.478 | Train Accuracy:  0.325 | Val Accuracy:  0.480 | epoch time:  4.324 | <-- Checkpoint!\n",
      "Epoch 004: | Train loss:  1.119 | Val loss:  0.982 | Train Accuracy:  0.601 | Val Accuracy:  0.641 | epoch time:  4.285 | <-- Checkpoint!\n",
      "Epoch 005: | Train loss:  0.889 | Val loss:  0.806 | Train Accuracy:  0.670 | Val Accuracy:  0.698 | epoch time:  4.275 | <-- Checkpoint!\n",
      "Epoch 006: | Train loss:  0.768 | Val loss:  0.760 | Train Accuracy:  0.707 | Val Accuracy:  0.707 | epoch time:  4.248 | <-- Checkpoint!\n",
      "Epoch 007: | Train loss:  0.721 | Val loss:  0.767 | Train Accuracy:  0.722 | Val Accuracy:  0.703 | epoch time:  4.271 |\n",
      "Epoch 008: | Train loss:  0.713 | Val loss:  0.714 | Train Accuracy:  0.731 | Val Accuracy:  0.726 | epoch time:  4.233 | <-- Checkpoint!\n",
      "Epoch 009: | Train loss:  0.660 | Val loss:  0.707 | Train Accuracy:  0.750 | Val Accuracy:  0.738 | epoch time:  4.350 | <-- Checkpoint!\n"
     ]
    }
   ],
   "source": [
    "nEpochs = 10\n",
    "oLogger = Logger('runs/SimpleRun')\n",
    "\n",
    "Loss    = nn.CrossEntropyLoss()\n",
    "oModel  = GetModel().to(DEVICE)\n",
    "oOptim  = optim.SGD(oModel.parameters(), lr=1e-2, momentum=.5)\n",
    "TrainClassficationModel(oModel, oTrainDL, oTestDL, Loss, nEpochs, oOptim, oLogger=oLogger);\n",
    "oLogger.oWriter.close()"
   ]
  },
  {
   "cell_type": "code",
   "execution_count": 19,
   "metadata": {},
   "outputs": [],
   "source": [
    "from torch.optim import lr_scheduler\n",
    "\n",
    "nEpochs = 10\n",
    "nIter   = nEpochs * len(oTrainDL)\n",
    "\n",
    "lScheduler   = []\n",
    "lScheduler  += [('Exp',      lr_scheduler.ExponentialLR,     {'gamma'  :0.995})]\n",
    "lScheduler  += [('Cos',      lr_scheduler.CosineAnnealingLR, {'T_max'  :nIter})]\n",
    "lScheduler  += [('Cyclic',   lr_scheduler.CyclicLR,          {'base_lr':1e-4, 'max_lr':1e-2, 'step_size_up':nIter//6, 'step_size_down':nIter//6, 'mode':'triangular2', 'cycle_momentum':False})]\n",
    "lScheduler  += [('OneCycle', lr_scheduler.OneCycleLR,        {'max_lr' :1e-2, 'total_steps':nIter})]"
   ]
  },
  {
   "cell_type": "code",
   "execution_count": 20,
   "metadata": {},
   "outputs": [
    {
     "name": "stdout",
     "output_type": "stream",
     "text": [
      "===============================================================\n",
      "Train configuration: Exp\n",
      "===============================================================\n",
      "Epoch 000: | Train loss:  2.012 | Val loss:  1.359 | Train Accuracy:  0.278 | Val Accuracy:  0.476 | epoch time:  4.327 | <-- Checkpoint!\n",
      "Epoch 001: | Train loss:  1.021 | Val loss:  0.866 | Train Accuracy:  0.609 | Val Accuracy:  0.683 | epoch time:  4.357 | <-- Checkpoint!\n",
      "Epoch 002: | Train loss:  0.783 | Val loss:  0.754 | Train Accuracy:  0.707 | Val Accuracy:  0.716 | epoch time:  4.312 | <-- Checkpoint!\n",
      "Epoch 003: | Train loss:  0.693 | Val loss:  0.714 | Train Accuracy:  0.739 | Val Accuracy:  0.726 | epoch time:  4.324 | <-- Checkpoint!\n",
      "Epoch 004: | Train loss:  0.643 | Val loss:  0.663 | Train Accuracy:  0.754 | Val Accuracy:  0.746 | epoch time:  4.375 | <-- Checkpoint!\n",
      "Epoch 005: | Train loss:  0.614 | Val loss:  0.621 | Train Accuracy:  0.765 | Val Accuracy:  0.762 | epoch time:  4.323 | <-- Checkpoint!\n",
      "Epoch 006: | Train loss:  0.587 | Val loss:  0.600 | Train Accuracy:  0.775 | Val Accuracy:  0.768 | epoch time:  4.260 | <-- Checkpoint!\n",
      "Epoch 007: | Train loss:  0.565 | Val loss:  0.587 | Train Accuracy:  0.783 | Val Accuracy:  0.773 | epoch time:  4.362 | <-- Checkpoint!\n",
      "Epoch 008: | Train loss:  0.549 | Val loss:  0.578 | Train Accuracy:  0.791 | Val Accuracy:  0.777 | epoch time:  4.275 | <-- Checkpoint!\n",
      "Epoch 009: | Train loss:  0.538 | Val loss:  0.565 | Train Accuracy:  0.795 | Val Accuracy:  0.784 | epoch time:  4.226 | <-- Checkpoint!\n",
      "===============================================================\n",
      "Train configuration: Cos\n",
      "===============================================================\n",
      "Epoch 000: | Train loss:  1.347 | Val loss:  0.700 | Train Accuracy:  0.525 | Val Accuracy:  0.737 | epoch time:  4.253 | <-- Checkpoint!\n",
      "Epoch 001: | Train loss:  0.585 | Val loss:  0.548 | Train Accuracy:  0.780 | Val Accuracy:  0.799 | epoch time:  4.250 | <-- Checkpoint!\n",
      "Epoch 002: | Train loss:  0.487 | Val loss:  0.467 | Train Accuracy:  0.820 | Val Accuracy:  0.833 | epoch time:  4.284 | <-- Checkpoint!\n",
      "Epoch 003: | Train loss:  0.432 | Val loss:  0.451 | Train Accuracy:  0.841 | Val Accuracy:  0.838 | epoch time:  4.267 | <-- Checkpoint!\n",
      "Epoch 004: | Train loss:  0.381 | Val loss:  0.405 | Train Accuracy:  0.858 | Val Accuracy:  0.853 | epoch time:  4.282 | <-- Checkpoint!\n",
      "Epoch 005: | Train loss:  0.352 | Val loss:  0.379 | Train Accuracy:  0.869 | Val Accuracy:  0.864 | epoch time:  4.280 | <-- Checkpoint!\n",
      "Epoch 006: | Train loss:  0.321 | Val loss:  0.368 | Train Accuracy:  0.881 | Val Accuracy:  0.866 | epoch time:  4.302 | <-- Checkpoint!\n",
      "Epoch 007: | Train loss:  0.298 | Val loss:  0.364 | Train Accuracy:  0.889 | Val Accuracy:  0.870 | epoch time:  4.257 | <-- Checkpoint!\n",
      "Epoch 008: | Train loss:  0.279 | Val loss:  0.352 | Train Accuracy:  0.895 | Val Accuracy:  0.875 | epoch time:  4.265 | <-- Checkpoint!\n",
      "Epoch 009: | Train loss:  0.267 | Val loss:  0.351 | Train Accuracy:  0.900 | Val Accuracy:  0.874 | epoch time:  4.287 |\n",
      "===============================================================\n",
      "Train configuration: Cyclic\n",
      "===============================================================\n",
      "Epoch 000: | Train loss:  1.137 | Val loss:  0.702 | Train Accuracy:  0.586 | Val Accuracy:  0.734 | epoch time:  4.247 | <-- Checkpoint!\n",
      "Epoch 001: | Train loss:  0.556 | Val loss:  0.502 | Train Accuracy:  0.793 | Val Accuracy:  0.819 | epoch time:  4.238 | <-- Checkpoint!\n",
      "Epoch 002: | Train loss:  0.413 | Val loss:  0.393 | Train Accuracy:  0.848 | Val Accuracy:  0.857 | epoch time:  4.249 | <-- Checkpoint!\n",
      "Epoch 003: | Train loss:  0.344 | Val loss:  0.375 | Train Accuracy:  0.873 | Val Accuracy:  0.865 | epoch time:  4.310 | <-- Checkpoint!\n",
      "Epoch 004: | Train loss:  0.352 | Val loss:  0.435 | Train Accuracy:  0.870 | Val Accuracy:  0.838 | epoch time:  4.362 |\n",
      "Epoch 005: | Train loss:  0.334 | Val loss:  0.342 | Train Accuracy:  0.876 | Val Accuracy:  0.879 | epoch time:  4.265 | <-- Checkpoint!\n",
      "Epoch 006: | Train loss:  0.274 | Val loss:  0.319 | Train Accuracy:  0.898 | Val Accuracy:  0.885 | epoch time:  4.269 | <-- Checkpoint!\n",
      "Epoch 007: | Train loss:  0.266 | Val loss:  0.327 | Train Accuracy:  0.902 | Val Accuracy:  0.885 | epoch time:  4.269 | <-- Checkpoint!\n",
      "Epoch 008: | Train loss:  0.272 | Val loss:  0.329 | Train Accuracy:  0.898 | Val Accuracy:  0.884 | epoch time:  4.282 |\n",
      "Epoch 009: | Train loss:  0.235 | Val loss:  0.301 | Train Accuracy:  0.913 | Val Accuracy:  0.896 | epoch time:  4.267 | <-- Checkpoint!\n",
      "===============================================================\n",
      "Train configuration: OneCycle\n",
      "===============================================================\n",
      "Epoch 000: | Train loss:  1.273 | Val loss:  0.772 | Train Accuracy:  0.536 | Val Accuracy:  0.719 | epoch time:  4.290 | <-- Checkpoint!\n",
      "Epoch 001: | Train loss:  0.711 | Val loss:  0.658 | Train Accuracy:  0.731 | Val Accuracy:  0.744 | epoch time:  4.268 | <-- Checkpoint!\n",
      "Epoch 002: | Train loss:  1.811 | Val loss:  0.948 | Train Accuracy:  0.512 | Val Accuracy:  0.659 | epoch time:  4.278 |\n",
      "Epoch 003: | Train loss:  0.701 | Val loss:  0.625 | Train Accuracy:  0.736 | Val Accuracy:  0.764 | epoch time:  4.284 | <-- Checkpoint!\n",
      "Epoch 004: | Train loss:  0.547 | Val loss:  0.536 | Train Accuracy:  0.794 | Val Accuracy:  0.799 | epoch time:  4.263 | <-- Checkpoint!\n",
      "Epoch 005: | Train loss:  0.462 | Val loss:  0.462 | Train Accuracy:  0.830 | Val Accuracy:  0.828 | epoch time:  4.429 | <-- Checkpoint!\n",
      "Epoch 006: | Train loss:  0.417 | Val loss:  0.428 | Train Accuracy:  0.847 | Val Accuracy:  0.845 | epoch time:  4.282 | <-- Checkpoint!\n",
      "Epoch 007: | Train loss:  0.383 | Val loss:  0.417 | Train Accuracy:  0.858 | Val Accuracy:  0.847 | epoch time:  4.267 | <-- Checkpoint!\n",
      "Epoch 008: | Train loss:  0.359 | Val loss:  0.398 | Train Accuracy:  0.867 | Val Accuracy:  0.853 | epoch time:  4.350 | <-- Checkpoint!\n",
      "Epoch 009: | Train loss:  0.342 | Val loss:  0.392 | Train Accuracy:  0.873 | Val Accuracy:  0.857 | epoch time:  4.247 | <-- Checkpoint!\n"
     ]
    }
   ],
   "source": [
    "for (name, Scheduler, dArgs) in lScheduler:\n",
    "    print( '===============================================================')\n",
    "    print(f'Train configuration: {name}')\n",
    "    print( '===============================================================')\n",
    "    oLogger    = Logger(f'runs/Configuration_{name}')\n",
    "    oModel     = GetModel().to(DEVICE)\n",
    "    oOptim     = optim.AdamW(oModel.parameters(), lr=1e-2, betas=(0.9, 0.99), weight_decay=1e-4)\n",
    "    oScheduler = Scheduler(oOptim, **dArgs)\n",
    "    TrainClassficationModel(oModel, oTrainDL, oTestDL, Loss, nEpochs, oOptim, oScheduler, oLogger);\n",
    "    oLogger.oWriter.close()"
   ]
  },
  {
   "cell_type": "markdown",
   "metadata": {},
   "source": [
    "### Exercise\n",
    "Add train and validation accuracy to `tensorboard`."
   ]
  },
  {
   "cell_type": "code",
   "execution_count": 21,
   "metadata": {},
   "outputs": [
    {
     "name": "stdout",
     "output_type": "stream",
     "text": [
      "Object `?` not found.\n"
     ]
    }
   ],
   "source": [
    "???"
   ]
  }
 ],
 "metadata": {
  "kernelspec": {
   "display_name": "Python 3 (ipykernel)",
   "language": "python",
   "name": "python3"
  },
  "language_info": {
   "codemirror_mode": {
    "name": "ipython",
    "version": 3
   },
   "file_extension": ".py",
   "mimetype": "text/x-python",
   "name": "python",
   "nbconvert_exporter": "python",
   "pygments_lexer": "ipython3",
   "version": "3.8.11"
  },
  "toc": {
   "base_numbering": 1,
   "nav_menu": {},
   "number_sections": false,
   "sideBar": true,
   "skip_h1_title": false,
   "title_cell": "Table of Contents",
   "title_sidebar": "Contents",
   "toc_cell": false,
   "toc_position": {},
   "toc_section_display": true,
   "toc_window_display": false
  },
  "varInspector": {
   "cols": {
    "lenName": 16,
    "lenType": 16,
    "lenVar": 40
   },
   "kernels_config": {
    "python": {
     "delete_cmd_postfix": "",
     "delete_cmd_prefix": "del ",
     "library": "var_list.py",
     "varRefreshCmd": "print(var_dic_list())"
    },
    "r": {
     "delete_cmd_postfix": ") ",
     "delete_cmd_prefix": "rm(",
     "library": "var_list.r",
     "varRefreshCmd": "cat(var_dic_list()) "
    }
   },
   "oldHeight": 413,
   "position": {
    "height": "435px",
    "left": "1650px",
    "right": "20px",
    "top": "120px",
    "width": "250px"
   },
   "types_to_exclude": [
    "module",
    "function",
    "builtin_function_or_method",
    "instance",
    "_Feature"
   ],
   "varInspector_section_display": "block",
   "window_display": true
  }
 },
 "nbformat": 4,
 "nbformat_minor": 4
}
