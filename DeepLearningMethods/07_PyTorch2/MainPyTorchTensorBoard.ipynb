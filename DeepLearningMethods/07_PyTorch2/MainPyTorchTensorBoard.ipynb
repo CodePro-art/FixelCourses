{
 "cells": [
  {
   "cell_type": "markdown",
   "metadata": {
    "slideshow": {
     "slide_type": "slide"
    }
   },
   "source": [
    "![Fixel Algorithms](https://fixelalgorithms.co/images/CCExt.png)"
   ]
  },
  {
   "cell_type": "markdown",
   "metadata": {},
   "source": [
    "# <center> Deep Learning Methods </center>\n",
    "## <center> Lecture 07 - PyTorch 2</center>\n",
    "### <center> TensorBoard</center>"
   ]
  },
  {
   "cell_type": "markdown",
   "metadata": {},
   "source": [
    "Colab users should use GPU runtime:\n",
    "[![Open In Colab](https://colab.research.google.com/assets/colab-badge.svg)](https://colab.research.google.com/github/FixelAlgorithmsTeam/FixelCourses/blob/master/DeepLearningMethods/07_PyTorch2/MainPyTorchTensorBoard.ipynb)"
   ]
  },
  {
   "cell_type": "code",
   "execution_count": 1,
   "metadata": {
    "slideshow": {
     "slide_type": "slide"
    }
   },
   "outputs": [
    {
     "data": {
      "text/html": [
       "<style>.container { width:80% !important; }</style>"
      ],
      "text/plain": [
       "<IPython.core.display.HTML object>"
      ]
     },
     "metadata": {},
     "output_type": "display_data"
    }
   ],
   "source": [
    "#-- Wide screen:\n",
    "from IPython.core.display import display, HTML\n",
    "display(HTML(\"<style>.container { width:80% !important; }</style>\"))"
   ]
  },
  {
   "cell_type": "code",
   "execution_count": 2,
   "metadata": {
    "slideshow": {
     "slide_type": "fragment"
    }
   },
   "outputs": [],
   "source": [
    "#-- Auto reload:\n",
    "%load_ext autoreload\n",
    "%autoreload 2"
   ]
  },
  {
   "cell_type": "code",
   "execution_count": 3,
   "metadata": {
    "slideshow": {
     "slide_type": "fragment"
    }
   },
   "outputs": [],
   "source": [
    "#-- Imports:\n",
    "import numpy             as np\n",
    "import matplotlib.pyplot as plt\n",
    "import matplotlib\n",
    "import torch\n",
    "\n",
    "matplotlib.rc('font', **{'size' : 16})\n",
    "\n",
    "#-- Fix seed (for presentation sake)\n",
    "torch.manual_seed(0)\n",
    "np.random.seed   (0)\n",
    "torch.backends.cudnn.deterministic = True\n",
    "torch.backends.cudnn.benchmark     = False"
   ]
  },
  {
   "cell_type": "code",
   "execution_count": 4,
   "metadata": {},
   "outputs": [],
   "source": [
    "if 'google.colab' in str(get_ipython()):\n",
    "    !npx degit FixelAlgorithmsTeam/FixelCourses/DeepLearningMethods/07_PyTorch2/DeepLearningFramework ./DeepLearningFramework"
   ]
  },
  {
   "cell_type": "markdown",
   "metadata": {
    "slideshow": {
     "slide_type": "slide"
    }
   },
   "source": [
    "### Load Fashion-MNIST data:"
   ]
  },
  {
   "cell_type": "code",
   "execution_count": 5,
   "metadata": {
    "slideshow": {
     "slide_type": "fragment"
    }
   },
   "outputs": [],
   "source": [
    "import torchvision\n",
    "import torchvision.transforms as transforms\n",
    "\n",
    "oTransform = transforms.Compose([\n",
    "    transforms.ToTensor(),\n",
    "    transforms.Normalize((0.5,), (0.5,))\n",
    "])\n",
    "\n",
    "oTrainSet = torchvision.datasets.FashionMNIST('../../data', download=True, train=True,  transform=oTransform)\n",
    "oTestSet  = torchvision.datasets.FashionMNIST('../../data', download=True, train=False, transform=oTransform)\n",
    "\n",
    "oTrainDL  = torch.utils.data.DataLoader(oTrainSet, batch_size=1024, shuffle=True,  num_workers=2)\n",
    "oTestDL   = torch.utils.data.DataLoader(oTestSet,  batch_size=1024, shuffle=False, num_workers=2)\n",
    "\n",
    "lClasses  = oTrainSet.classes"
   ]
  },
  {
   "cell_type": "markdown",
   "metadata": {
    "slideshow": {
     "slide_type": "slide"
    }
   },
   "source": [
    "#### Plot some examples:"
   ]
  },
  {
   "cell_type": "code",
   "execution_count": 6,
   "metadata": {
    "slideshow": {
     "slide_type": "fragment"
    }
   },
   "outputs": [
    {
     "data": {
      "image/png": "[encoded data removed]",
      "text/plain": [
       "<Figure size 720x432 with 6 Axes>"
      ]
     },
     "metadata": {
      "needs_background": "light"
     },
     "output_type": "display_data"
    }
   ],
   "source": [
    "def Unnormalize(mX):\n",
    "    return 0.5 * mX + 0.5\n",
    "\n",
    "N, H, W = oTrainSet.data.shape\n",
    "fig, _  = plt.subplots(2, 3, figsize=(10,6))\n",
    "for ax in fig.axes:\n",
    "    idx   = np.random.randint(0, N)\n",
    "    mX, y = oTrainSet[idx]\n",
    "    mX    = Unnormalize(mX.squeeze())\n",
    "    mX    = torch.clamp(mX, 0, 1)\n",
    "    ax.imshow   (mX, cmap='gray')\n",
    "    ax.set_title(f'True label: {lClasses[y]}')\n",
    "    \n",
    "plt.tight_layout()\n",
    "plt.show()"
   ]
  },
  {
   "cell_type": "markdown",
   "metadata": {
    "slideshow": {
     "slide_type": "slide"
    }
   },
   "source": [
    "#### Define a model:"
   ]
  },
  {
   "cell_type": "code",
   "execution_count": 7,
   "metadata": {
    "slideshow": {
     "slide_type": "slide"
    }
   },
   "outputs": [
    {
     "name": "stdout",
     "output_type": "stream",
     "text": [
      "==========================================================================================\n",
      "Layer (type:depth-idx)                   Output Shape              Param #\n",
      "==========================================================================================\n",
      "├─Identity: 1-1                          [-1, 1, 28, 28]           --\n",
      "├─Conv2d: 1-2                            [-1, 8, 20, 20]           656\n",
      "├─LeakyReLU: 1-3                         [-1, 8, 20, 20]           --\n",
      "├─Conv2d: 1-4                            [-1, 16, 14, 14]          6,288\n",
      "├─LeakyReLU: 1-5                         [-1, 16, 14, 14]          --\n",
      "├─Conv2d: 1-6                            [-1, 32, 10, 10]          12,832\n",
      "├─LeakyReLU: 1-7                         [-1, 32, 10, 10]          --\n",
      "├─Conv2d: 1-8                            [-1, 64, 6, 6]            51,264\n",
      "├─LeakyReLU: 1-9                         [-1, 64, 6, 6]            --\n",
      "├─Conv2d: 1-10                           [-1, 128, 2, 2]           204,928\n",
      "├─LeakyReLU: 1-11                        [-1, 128, 2, 2]           --\n",
      "├─Flatten: 1-12                          [-1, 512]                 --\n",
      "├─Linear: 1-13                           [-1, 10]                  5,130\n",
      "==========================================================================================\n",
      "Total params: 281,098\n",
      "Trainable params: 281,098\n",
      "Non-trainable params: 0\n",
      "Total mult-adds (M): 5.44\n",
      "==========================================================================================\n",
      "Input size (MB): 0.00\n",
      "Forward/backward pass size (MB): 0.09\n",
      "Params size (MB): 1.07\n",
      "Estimated Total Size (MB): 1.17\n",
      "==========================================================================================\n"
     ]
    }
   ],
   "source": [
    "import torchsummary\n",
    "import torch.nn            as nn\n",
    "import torch.nn.functional as F\n",
    "import torch.optim         as optim\n",
    "\n",
    "#-- Model:\n",
    "def GetModel():\n",
    "    oModel = nn.Sequential(\n",
    "        nn.Identity(), #-- does nothing\n",
    "        \n",
    "        nn.Conv2d(1,  8,   9), nn.LeakyReLU(),\n",
    "        nn.Conv2d(8,  16,  7), nn.LeakyReLU(),\n",
    "        nn.Conv2d(16, 32,  5), nn.LeakyReLU(),\n",
    "        nn.Conv2d(32, 64,  5), nn.LeakyReLU(),\n",
    "        nn.Conv2d(64, 128, 5), nn.LeakyReLU(),\n",
    "        \n",
    "        nn.Flatten(),\n",
    "        nn.Linear(512, 10)\n",
    "    )\n",
    "    return oModel\n",
    "\n",
    "#--------------------------------------------------------------------------------#\n",
    "#--------------------------------------------------------------------------------#\n",
    "torchsummary.summary(GetModel(), (1, H, W), device='cpu');"
   ]
  },
  {
   "cell_type": "markdown",
   "metadata": {
    "slideshow": {
     "slide_type": "slide"
    }
   },
   "source": [
    "### TensorBoard:\n",
    "https://www.tensorflow.org/tensorboard/get_started\n",
    "\n",
    "You can also check the official tutorial (but with `tensorflow`):  \n",
    "https://colab.research.google.com/github/tensorflow/tensorboard/blob/master/docs/get_started.ipynb"
   ]
  },
  {
   "cell_type": "code",
   "execution_count": 8,
   "metadata": {
    "slideshow": {
     "slide_type": "fragment"
    }
   },
   "outputs": [],
   "source": [
    "from torch.utils.tensorboard import SummaryWriter\n",
    "\n",
    "# default `log_dir` is `runs`\n",
    "oWriter = SummaryWriter('runs/Run1')"
   ]
  },
  {
   "cell_type": "markdown",
   "metadata": {
    "slideshow": {
     "slide_type": "fragment"
    }
   },
   "source": [
    "cmd (from the same path as this file):  \n",
    "`tensorboard --logdir=runs`  \n",
    "go to:  \n",
    "http://localhost:6006/"
   ]
  },
  {
   "cell_type": "markdown",
   "metadata": {
    "slideshow": {
     "slide_type": "slide"
    }
   },
   "source": [
    "#### Write images to TensorBoard:"
   ]
  },
  {
   "cell_type": "code",
   "execution_count": 9,
   "metadata": {
    "slideshow": {
     "slide_type": "fragment"
    }
   },
   "outputs": [
    {
     "data": {
      "image/png": "[encoded data removed]",
      "text/plain": [
       "<Figure size 576x432 with 1 Axes>"
      ]
     },
     "metadata": {
      "needs_background": "light"
     },
     "output_type": "display_data"
    }
   ],
   "source": [
    "mX          = Unnormalize(next(iter(oTrainDL))[0][:16])\n",
    "mImagesGrid = torchvision.utils.make_grid(mX, nrow=4)   #-- 4 x 4 grid\n",
    "\n",
    "#-- write to tensorboard\n",
    "oWriter.add_image('Training images', mImagesGrid)\n",
    "# oWriter.close()\n",
    "\n",
    "plt.figure(figsize=(8, 6))\n",
    "plt.imshow(mImagesGrid.numpy().transpose((1,2,0)))\n",
    "plt.show()"
   ]
  },
  {
   "cell_type": "markdown",
   "metadata": {
    "slideshow": {
     "slide_type": "slide"
    }
   },
   "source": [
    "#### Write model's graph to TensorBoard:"
   ]
  },
  {
   "cell_type": "code",
   "execution_count": 10,
   "metadata": {
    "slideshow": {
     "slide_type": "fragment"
    }
   },
   "outputs": [],
   "source": [
    "oModel = GetModel()\n",
    "oWriter.add_graph(oModel, mX)"
   ]
  },
  {
   "cell_type": "markdown",
   "metadata": {
    "slideshow": {
     "slide_type": "slide"
    }
   },
   "source": [
    "#### Add embeddings to TensorBoard:"
   ]
  },
  {
   "cell_type": "code",
   "execution_count": 11,
   "metadata": {
    "slideshow": {
     "slide_type": "fragment"
    }
   },
   "outputs": [],
   "source": [
    "#-- A way to get N (random) data points:\n",
    "N         = 1000\n",
    "oTrainDL2 = torch.utils.data.DataLoader(oTrainSet, batch_size=N, shuffle=True)\n",
    "mX, vY    = next(iter(oTrainDL2))\n",
    "lLabels   = [lClasses[y] for y in vY]\n",
    "\n",
    "#-- Add embeddings to TensorBoard:\n",
    "mFeatures = mX.view(N, -1)\n",
    "oWriter.add_embedding(mFeatures, metadata=lLabels, label_img=1-Unnormalize(mX), tag='Raw data')\n",
    "#-- if data do not apper in TensorBoard, reconnect in the cmd."
   ]
  },
  {
   "cell_type": "markdown",
   "metadata": {
    "slideshow": {
     "slide_type": "slide"
    }
   },
   "source": [
    "### A function to plot a sample with its label prediction:"
   ]
  },
  {
   "cell_type": "code",
   "execution_count": 12,
   "metadata": {
    "slideshow": {
     "slide_type": "fragment"
    }
   },
   "outputs": [],
   "source": [
    "def PlotImages(oModel, mX, vY):\n",
    "    N     = mX.shape[0]\n",
    "    mP    = torch.softmax(oModel(mX), dim=1)\n",
    "    vHatY = torch.argmax(mP, dim=1)\n",
    "    vP    = mP[range(N),vHatY]\n",
    "    \n",
    "    fig, _ = plt.subplots(1, 4, figsize=(12, 8))\n",
    "    for ii, ax in enumerate(fig.axes):\n",
    "        if vHatY[ii] == vY[ii]:\n",
    "            color = 'g'\n",
    "        else:\n",
    "            color = 'r'\n",
    "        \n",
    "        label     = lClasses[vY[ii]]\n",
    "        labelHat  = lClasses[vHatY[ii]]\n",
    "        ax.imshow(mX[ii].squeeze().cpu() * 0.5 + 0.5, cmap='gray')        \n",
    "        ax.set_title(f'{labelHat}, {100 * vP[ii]:.1f}%\\n'\n",
    "                     f'(True label: {label})', color=color)\n",
    "        plt.tight_layout()\n",
    "    return fig"
   ]
  },
  {
   "cell_type": "code",
   "execution_count": 13,
   "metadata": {},
   "outputs": [],
   "source": [
    "def Epoch(oModel, oDataDL, Loss, Metric, oOptim=None, oScheduler=None, bTrain=True):\n",
    "\n",
    "    global jj, ee\n",
    "    \n",
    "    epochLoss   = 0\n",
    "    epochMetric = 0\n",
    "    count       = 0\n",
    "    nIter       = len(oDataDL)\n",
    "    vLR         = np.full(nIter, np.nan)\n",
    "    DEVICE      = next(oModel.parameters()).device #-- CPU\\GPU\n",
    "\n",
    "\n",
    "    oModel.train(bTrain) #-- train or test\n",
    "\n",
    "    #-- Iterate over the mini-batches:\n",
    "    for ii, (mX, vY) in enumerate(oDataDL):\n",
    "        #-- Move to device (CPU\\GPU):\n",
    "        mX = mX.to(DEVICE)\n",
    "        vY = vY.to(DEVICE)\n",
    "\n",
    "        #-- Forward:\n",
    "        if bTrain == True:\n",
    "            #-- Store computational graph:\n",
    "            mZ   = oModel(mX)\n",
    "            loss = Loss(mZ, vY)\n",
    "        else:\n",
    "            with torch.no_grad():\n",
    "                #-- Do not store computational graph:\n",
    "                mZ   = oModel(mX)\n",
    "                loss = Loss(mZ, vY)\n",
    "\n",
    "        #-- Backward:\n",
    "        if bTrain == True:\n",
    "            oOptim.zero_grad() #-- set gradients to zeros\n",
    "            loss.backward()    #-- backward\n",
    "            oOptim.step()      #-- update parameters\n",
    "            if oScheduler is not None:\n",
    "                vLR[ii] = oScheduler.get_last_lr()[0]\n",
    "                oScheduler.step() #-- update learning rate\n",
    "\n",
    "        Nb           = vY.shape[0]\n",
    "        count       += Nb\n",
    "        epochLoss   += Nb * loss.item()\n",
    "        epochMetric += Nb * Metric(mZ, vY)\n",
    "        print(f'\\r{\"Train\" if bTrain else \"Val\"} - Iteration: {ii:3d} ({nIter}): loss = {loss:2.6f}', end='')\n",
    "\n",
    "        #=======================================================================================#\n",
    "        if bTrain == True:\n",
    "            oWriter.add_scalar ('Learning rate',    vLR[ii],                global_step=jj)\n",
    "            oWriter.add_scalars('Loss (per batch)', {'Train': loss.item()}, global_step=jj)\n",
    "            jj += 1\n",
    "        #=======================================================================================#\n",
    "\n",
    "    #===============================================================================#\n",
    "    if bTrain == True:\n",
    "        oWriter.add_scalars('Loss (per epoch)', {'Train':      loss.item()}, global_step=ee)\n",
    "    else:\n",
    "        oWriter.add_scalars('Loss (per epoch)', {'Validation': loss.item()}, global_step=ee)\n",
    "        oWriter.add_figure('Accuracy',          PlotImages(oModel, mX, vY),  global_step=ee)\n",
    "        ee += 1\n",
    "    oWriter.flush()\n",
    "    #===============================================================================#\n",
    "    print('', end='\\r')\n",
    "    epochLoss   /= count\n",
    "    epochMetric /= count\n",
    "\n",
    "    return epochLoss, epochMetric, vLR"
   ]
  },
  {
   "cell_type": "code",
   "execution_count": 14,
   "metadata": {},
   "outputs": [],
   "source": [
    "import time\n",
    "from DeepLearningFramework.Metric import Accuracy\n",
    "\n",
    "def TrainClassficationModel(oModel, oTrainData, oValData, Loss, nEpochs, oOptim, oScheduler=None):\n",
    "\n",
    "    vTrainLoss = np.full(nEpochs, np.nan)\n",
    "    vTrainAcc  = np.full(nEpochs, np.nan)\n",
    "    vValLoss   = np.full(nEpochs, np.nan)\n",
    "    vValAcc    = np.full(nEpochs, np.nan)\n",
    "    vLR        = np.full(0,       np.nan)\n",
    "    bestAcc    = 0\n",
    "\n",
    "    for epoch in range(nEpochs):\n",
    "        startTime                 = time.time()\n",
    "        trainLoss, trainAcc, vLRi = Epoch(oModel, oTrainData, Loss, Accuracy, oOptim, oScheduler, bTrain=True ) #-- train\n",
    "        valLoss,   valAcc,   _    = Epoch(oModel, oValData,   Loss, Accuracy,                     bTrain=False) #-- validate\n",
    "        epochTime                 = time.time() - startTime\n",
    "\n",
    "        #-- Display:\n",
    "        print('Epoch '              f'{epoch    :03d}:',   end='')\n",
    "        print(' | Train loss: '     f'{trainLoss:.5f}' ,   end='')\n",
    "        print(' | Val loss: '       f'{valLoss  :.5f}' ,   end='')\n",
    "        print(' | Train Accuracy: ' f'{trainAcc :2.4f}',   end='')\n",
    "        print(' | Val Accuracy: '   f'{valAcc   :2.4f}',   end='')\n",
    "        print(' | epoch time: '     f'{epochTime:6.3f} |', end='')\n",
    "\n",
    "        vTrainLoss[epoch] = trainLoss\n",
    "        vTrainAcc [epoch] = trainAcc\n",
    "        vValLoss  [epoch] = valLoss\n",
    "        vValAcc   [epoch] = valAcc\n",
    "        vLR               = np.concatenate([vLR, vLRi])\n",
    "\n",
    "        #-- Save best model (early stopping):\n",
    "        if bestAcc < valAcc:\n",
    "            bestAcc = valAcc\n",
    "            try:\n",
    "                torch.save(oModel.state_dict(), 'BestModel.pt')\n",
    "            except:\n",
    "                pass\n",
    "            print(' <-- Checkpoint!')\n",
    "        else:\n",
    "            print('')\n",
    "\n",
    "    #-- Load best model (early stopping):\n",
    "    oModel.load_state_dict(torch.load('BestModel.pt'))\n",
    "\n",
    "    return vTrainLoss, vTrainAcc, vValLoss, vValAcc, vLR"
   ]
  },
  {
   "cell_type": "markdown",
   "metadata": {
    "slideshow": {
     "slide_type": "slide"
    }
   },
   "source": [
    "#### Loss, model, optimizer & device:"
   ]
  },
  {
   "cell_type": "code",
   "execution_count": 15,
   "metadata": {
    "slideshow": {
     "slide_type": "fragment"
    }
   },
   "outputs": [],
   "source": [
    "Loss    = nn.CrossEntropyLoss()\n",
    "oModel  = GetModel()\n",
    "oOptim  = optim.SGD(oModel.parameters(), lr=1e-2, momentum=.5)\n",
    "DEVICE  = torch.device(\"cuda:0\" if torch.cuda.is_available() else \"cpu\") \n",
    "oModel.to(DEVICE);"
   ]
  },
  {
   "cell_type": "code",
   "execution_count": 16,
   "metadata": {},
   "outputs": [
    {
     "name": "stdout",
     "output_type": "stream",
     "text": [
      "Epoch 000: | Train loss: 2.30054 | Val loss: 2.29632 | Train Accuracy: 0.1022 | Val Accuracy: 0.1293 | epoch time: 10.049 | <-- Checkpoint!\n",
      "Epoch 001: | Train loss: 2.25745 | Val loss: 2.12214 | Train Accuracy: 0.1684 | Val Accuracy: 0.2206 | epoch time:  8.352 | <-- Checkpoint!\n",
      "Epoch 002: | Train loss: 1.65689 | Val loss: 1.29713 | Train Accuracy: 0.4389 | Val Accuracy: 0.5346 | epoch time:  8.531 | <-- Checkpoint!\n",
      "Epoch 003: | Train loss: 1.11894 | Val loss: 1.02812 | Train Accuracy: 0.5829 | Val Accuracy: 0.6092 | epoch time:  8.166 | <-- Checkpoint!\n",
      "Epoch 004: | Train loss: 0.94635 | Val loss: 0.90449 | Train Accuracy: 0.6410 | Val Accuracy: 0.6603 | epoch time:  9.284 | <-- Checkpoint!\n",
      "Epoch 005: | Train loss: 0.83570 | Val loss: 0.81714 | Train Accuracy: 0.6822 | Val Accuracy: 0.6958 | epoch time:  7.907 | <-- Checkpoint!\n",
      "Epoch 006: | Train loss: 0.76682 | Val loss: 0.75097 | Train Accuracy: 0.7064 | Val Accuracy: 0.7234 | epoch time:  8.506 | <-- Checkpoint!\n",
      "Epoch 007: | Train loss: 0.70628 | Val loss: 0.71426 | Train Accuracy: 0.7285 | Val Accuracy: 0.7296 | epoch time:  8.575 | <-- Checkpoint!\n",
      "Epoch 008: | Train loss: 0.67792 | Val loss: 0.71039 | Train Accuracy: 0.7374 | Val Accuracy: 0.7246 | epoch time:  9.038 |\n",
      "Epoch 009: | Train loss: 0.64923 | Val loss: 0.69486 | Train Accuracy: 0.7487 | Val Accuracy: 0.7388 | epoch time:  8.668 | <-- Checkpoint!\n"
     ]
    }
   ],
   "source": [
    "nEpochs = 10\n",
    "jj      = 0 #-- global\n",
    "ee      = 0 #-- global\n",
    "\n",
    "TrainClassficationModel(oModel, oTrainDL, oTestDL, Loss, nEpochs, oOptim);\n",
    "oWriter.close()"
   ]
  },
  {
   "cell_type": "code",
   "execution_count": 17,
   "metadata": {},
   "outputs": [],
   "source": [
    "from torch.optim import lr_scheduler\n",
    "\n",
    "nEpochs = 10\n",
    "nIter   = nEpochs * len(oTrainDL)\n",
    "\n",
    "lScheduler   = []\n",
    "lScheduler  += [('Exp',      lr_scheduler.ExponentialLR,     {'gamma'  :0.995})]\n",
    "lScheduler  += [('Cos',      lr_scheduler.CosineAnnealingLR, {'T_max'  :nIter})]\n",
    "lScheduler  += [('Cyclic',   lr_scheduler.CyclicLR,          {'base_lr':1e-4, 'max_lr':1e-2, 'step_size_up':nIter//6, 'step_size_down':nIter//6, 'mode':'triangular2', 'cycle_momentum':False})]\n",
    "lScheduler  += [('OneCycle', lr_scheduler.OneCycleLR,        {'max_lr' :1e-2, 'total_steps':nIter})]"
   ]
  },
  {
   "cell_type": "code",
   "execution_count": 18,
   "metadata": {},
   "outputs": [
    {
     "name": "stdout",
     "output_type": "stream",
     "text": [
      "===============================================================\n",
      "Train configuration: Exp\n",
      "===============================================================\n",
      "Epoch 000: | Train loss: 1.85025 | Val loss: 0.95655 | Train Accuracy: 0.4031 | Val Accuracy: 0.6426 | epoch time:  8.919 | <-- Checkpoint!\n",
      "Epoch 001: | Train loss: 0.79942 | Val loss: 0.71698 | Train Accuracy: 0.6946 | Val Accuracy: 0.7300 | epoch time:  8.202 | <-- Checkpoint!\n",
      "Epoch 002: | Train loss: 0.66155 | Val loss: 0.65705 | Train Accuracy: 0.7404 | Val Accuracy: 0.7452 | epoch time:  8.608 | <-- Checkpoint!\n",
      "Epoch 003: | Train loss: 0.60691 | Val loss: 0.60967 | Train Accuracy: 0.7592 | Val Accuracy: 0.7663 | epoch time:  8.584 | <-- Checkpoint!\n",
      "Epoch 004: | Train loss: 0.57112 | Val loss: 0.58039 | Train Accuracy: 0.7774 | Val Accuracy: 0.7833 | epoch time:  8.486 | <-- Checkpoint!\n",
      "Epoch 005: | Train loss: 0.53238 | Val loss: 0.55542 | Train Accuracy: 0.7971 | Val Accuracy: 0.7941 | epoch time:  8.584 | <-- Checkpoint!\n",
      "Epoch 006: | Train loss: 0.50666 | Val loss: 0.53955 | Train Accuracy: 0.8083 | Val Accuracy: 0.7992 | epoch time:  8.793 | <-- Checkpoint!\n",
      "Epoch 007: | Train loss: 0.48555 | Val loss: 0.51437 | Train Accuracy: 0.8182 | Val Accuracy: 0.8089 | epoch time:  8.727 | <-- Checkpoint!\n",
      "Epoch 008: | Train loss: 0.46516 | Val loss: 0.50064 | Train Accuracy: 0.8266 | Val Accuracy: 0.8205 | epoch time:  8.937 | <-- Checkpoint!\n",
      "Epoch 009: | Train loss: 0.45021 | Val loss: 0.49249 | Train Accuracy: 0.8320 | Val Accuracy: 0.8232 | epoch time:  8.627 | <-- Checkpoint!\n",
      "===============================================================\n",
      "Train configuration: Cos\n",
      "===============================================================\n",
      "Epoch 000: | Train loss: 2.07259 | Val loss: 1.22735 | Train Accuracy: 0.2919 | Val Accuracy: 0.5632 | epoch time:  9.375 | <-- Checkpoint!\n",
      "Epoch 001: | Train loss: 0.95024 | Val loss: 0.98855 | Train Accuracy: 0.6419 | Val Accuracy: 0.6165 | epoch time:  9.430 | <-- Checkpoint!\n",
      "Epoch 002: | Train loss: 0.75276 | Val loss: 0.69153 | Train Accuracy: 0.7208 | Val Accuracy: 0.7401 | epoch time:  8.146 | <-- Checkpoint!\n",
      "Epoch 003: | Train loss: 0.61684 | Val loss: 0.62543 | Train Accuracy: 0.7670 | Val Accuracy: 0.7708 | epoch time:  7.885 | <-- Checkpoint!\n",
      "Epoch 004: | Train loss: 0.54822 | Val loss: 0.54678 | Train Accuracy: 0.7929 | Val Accuracy: 0.7967 | epoch time:  8.208 | <-- Checkpoint!\n",
      "Epoch 005: | Train loss: 0.49804 | Val loss: 0.51060 | Train Accuracy: 0.8138 | Val Accuracy: 0.8115 | epoch time:  7.810 | <-- Checkpoint!\n",
      "Epoch 006: | Train loss: 0.46305 | Val loss: 0.47980 | Train Accuracy: 0.8256 | Val Accuracy: 0.8240 | epoch time:  7.974 | <-- Checkpoint!\n",
      "Epoch 007: | Train loss: 0.43152 | Val loss: 0.46265 | Train Accuracy: 0.8383 | Val Accuracy: 0.8309 | epoch time:  7.910 | <-- Checkpoint!\n",
      "Epoch 008: | Train loss: 0.41556 | Val loss: 0.45484 | Train Accuracy: 0.8441 | Val Accuracy: 0.8343 | epoch time:  7.974 | <-- Checkpoint!\n",
      "Epoch 009: | Train loss: 0.40649 | Val loss: 0.45256 | Train Accuracy: 0.8481 | Val Accuracy: 0.8336 | epoch time:  7.888 |\n",
      "===============================================================\n",
      "Train configuration: Cyclic\n",
      "===============================================================\n",
      "Epoch 000: | Train loss: 1.23401 | Val loss: 0.75192 | Train Accuracy: 0.5601 | Val Accuracy: 0.7128 | epoch time:  8.182 | <-- Checkpoint!\n",
      "Epoch 001: | Train loss: 0.79567 | Val loss: 0.76354 | Train Accuracy: 0.7103 | Val Accuracy: 0.7267 | epoch time:  7.868 | <-- Checkpoint!\n",
      "Epoch 002: | Train loss: 0.54483 | Val loss: 0.47808 | Train Accuracy: 0.8000 | Val Accuracy: 0.8250 | epoch time:  8.269 | <-- Checkpoint!\n",
      "Epoch 003: | Train loss: 0.43056 | Val loss: 0.45715 | Train Accuracy: 0.8408 | Val Accuracy: 0.8334 | epoch time:  7.949 | <-- Checkpoint!\n",
      "Epoch 004: | Train loss: 0.42272 | Val loss: 0.43638 | Train Accuracy: 0.8419 | Val Accuracy: 0.8402 | epoch time:  8.183 | <-- Checkpoint!\n",
      "Epoch 005: | Train loss: 0.38449 | Val loss: 0.41256 | Train Accuracy: 0.8589 | Val Accuracy: 0.8486 | epoch time:  7.942 | <-- Checkpoint!\n",
      "Epoch 006: | Train loss: 0.33223 | Val loss: 0.37069 | Train Accuracy: 0.8752 | Val Accuracy: 0.8658 | epoch time:  8.430 | <-- Checkpoint!\n",
      "Epoch 007: | Train loss: 0.32344 | Val loss: 0.38828 | Train Accuracy: 0.8783 | Val Accuracy: 0.8590 | epoch time:  8.816 |\n",
      "Epoch 008: | Train loss: 0.32735 | Val loss: 0.36336 | Train Accuracy: 0.8767 | Val Accuracy: 0.8689 | epoch time:  8.280 | <-- Checkpoint!\n",
      "Epoch 009: | Train loss: 0.28746 | Val loss: 0.34055 | Train Accuracy: 0.8916 | Val Accuracy: 0.8797 | epoch time:  8.113 | <-- Checkpoint!\n",
      "===============================================================\n",
      "Train configuration: OneCycle\n",
      "===============================================================\n",
      "Epoch 000: | Train loss: 1.29491 | Val loss: 0.71275 | Train Accuracy: 0.5357 | Val Accuracy: 0.7390 | epoch time:  8.307 | <-- Checkpoint!\n",
      "Epoch 001: | Train loss: 0.74928 | Val loss: 0.77657 | Train Accuracy: 0.7239 | Val Accuracy: 0.7206 | epoch time:  8.144 |\n",
      "Epoch 002: | Train loss: 0.61630 | Val loss: 0.48984 | Train Accuracy: 0.7762 | Val Accuracy: 0.8181 | epoch time:  8.127 | <-- Checkpoint!\n",
      "Epoch 003: | Train loss: 0.42991 | Val loss: 0.42338 | Train Accuracy: 0.8411 | Val Accuracy: 0.8472 | epoch time:  8.185 | <-- Checkpoint!\n",
      "Epoch 004: | Train loss: 0.37871 | Val loss: 0.38449 | Train Accuracy: 0.8611 | Val Accuracy: 0.8625 | epoch time:  8.189 | <-- Checkpoint!\n",
      "Epoch 005: | Train loss: 0.34310 | Val loss: 0.36031 | Train Accuracy: 0.8735 | Val Accuracy: 0.8671 | epoch time:  8.079 | <-- Checkpoint!\n",
      "Epoch 006: | Train loss: 0.30229 | Val loss: 0.34692 | Train Accuracy: 0.8871 | Val Accuracy: 0.8682 | epoch time:  8.293 | <-- Checkpoint!\n",
      "Epoch 007: | Train loss: 0.27004 | Val loss: 0.31773 | Train Accuracy: 0.8990 | Val Accuracy: 0.8814 | epoch time:  8.824 | <-- Checkpoint!\n",
      "Epoch 008: | Train loss: 0.23697 | Val loss: 0.30906 | Train Accuracy: 0.9109 | Val Accuracy: 0.8889 | epoch time:  8.949 | <-- Checkpoint!\n",
      "Epoch 009: | Train loss: 0.21623 | Val loss: 0.30724 | Train Accuracy: 0.9192 | Val Accuracy: 0.8903 | epoch time:  8.413 | <-- Checkpoint!\n"
     ]
    }
   ],
   "source": [
    "for (name, Scheduler, dArgs) in lScheduler:\n",
    "    print( '===============================================================')\n",
    "    print(f'Train configuration: {name}')\n",
    "    print( '===============================================================')\n",
    "    jj         = 0 #-- global\n",
    "    ee         = 0 #-- global\n",
    "    oWriter    = SummaryWriter(f'runs/Configuration_{name}')\n",
    "    oModel     = GetModel()\n",
    "    oModel.to(DEVICE)\n",
    "    oOptim     = optim.AdamW(oModel.parameters(), lr=1e-2, betas=(0.9, 0.99), weight_decay=1e-4)\n",
    "    oScheduler = Scheduler(oOptim, **dArgs)\n",
    "    oWriter.close()\n",
    "    TrainClassficationModel(oModel, oTrainDL, oTestDL, Loss, nEpochs, oOptim, oScheduler);"
   ]
  },
  {
   "cell_type": "markdown",
   "metadata": {},
   "source": [
    "### Exercise\n",
    "Add train and validation accuracy to `tensorboard`."
   ]
  },
  {
   "cell_type": "code",
   "execution_count": 19,
   "metadata": {},
   "outputs": [
    {
     "name": "stdout",
     "output_type": "stream",
     "text": [
      "Object `?` not found.\n"
     ]
    }
   ],
   "source": [
    "???"
   ]
  },
  {
   "cell_type": "markdown",
   "metadata": {},
   "source": [
    "#### TODO\n",
    "Combine the globals and the `oWriter` into a logger class."
   ]
  },
  {
   "cell_type": "code",
   "execution_count": null,
   "metadata": {},
   "outputs": [],
   "source": []
  }
 ],
 "metadata": {
  "kernelspec": {
   "display_name": "Python 3",
   "language": "python",
   "name": "python3"
  },
  "language_info": {
   "codemirror_mode": {
    "name": "ipython",
    "version": 3
   },
   "file_extension": ".py",
   "mimetype": "text/x-python",
   "name": "python",
   "nbconvert_exporter": "python",
   "pygments_lexer": "ipython3",
   "version": "3.8.8"
  },
  "toc": {
   "base_numbering": 1,
   "nav_menu": {},
   "number_sections": false,
   "sideBar": true,
   "skip_h1_title": false,
   "title_cell": "Table of Contents",
   "title_sidebar": "Contents",
   "toc_cell": false,
   "toc_position": {},
   "toc_section_display": true,
   "toc_window_display": false
  },
  "varInspector": {
   "cols": {
    "lenName": 16,
    "lenType": 16,
    "lenVar": 40
   },
   "kernels_config": {
    "python": {
     "delete_cmd_postfix": "",
     "delete_cmd_prefix": "del ",
     "library": "var_list.py",
     "varRefreshCmd": "print(var_dic_list())"
    },
    "r": {
     "delete_cmd_postfix": ") ",
     "delete_cmd_prefix": "rm(",
     "library": "var_list.r",
     "varRefreshCmd": "cat(var_dic_list()) "
    }
   },
   "oldHeight": 413,
   "position": {
    "height": "435px",
    "left": "1650px",
    "right": "20px",
    "top": "120px",
    "width": "250px"
   },
   "types_to_exclude": [
    "module",
    "function",
    "builtin_function_or_method",
    "instance",
    "_Feature"
   ],
   "varInspector_section_display": "block",
   "window_display": true
  }
 },
 "nbformat": 4,
 "nbformat_minor": 4
}
