{
 "cells": [
  {
   "cell_type": "markdown",
   "id": "concrete-plenty",
   "metadata": {},
   "source": [
    "![Fixel Algorithms](https://fixelalgorithms.co/images/CCExt.png)"
   ]
  },
  {
   "cell_type": "markdown",
   "id": "oriented-mattress",
   "metadata": {},
   "source": [
    "# <center> Deep Learning Methods </center>\n",
    "## <center> Lecture 13 - Attention and Transformers </center>\n",
    "### <center> Transformers </center>"
   ]
  },
  {
   "cell_type": "markdown",
   "id": "declared-sentence",
   "metadata": {},
   "source": [
    "[![Open In Colab](https://colab.research.google.com/assets/colab-badge.svg)](https://colab.research.google.com/github/FixelAlgorithmsTeam/FixelCourses/blob/master/DeepLearningMethods/13_AttentionAndTransfomers/MainAttention.ipynb)"
   ]
  },
  {
   "cell_type": "code",
   "execution_count": 98,
   "id": "acting-northwest",
   "metadata": {
    "ExecuteTime": {
     "end_time": "2021-10-12T11:18:52.085963Z",
     "start_time": "2021-10-12T11:18:51.982369Z"
    },
    "scrolled": true
   },
   "outputs": [
    {
     "data": {
      "text/html": [
       "<style>.container { width:80% !important; }</style>"
      ],
      "text/plain": [
       "<IPython.core.display.HTML object>"
      ]
     },
     "metadata": {},
     "output_type": "display_data"
    }
   ],
   "source": [
    "#-- Wide screen:\n",
    "from IPython.core.display import display, HTML\n",
    "display(HTML(\"<style>.container { width:80% !important; }</style>\"))"
   ]
  },
  {
   "cell_type": "code",
   "execution_count": 78,
   "id": "german-genesis",
   "metadata": {
    "ExecuteTime": {
     "end_time": "2021-10-12T11:09:46.538775Z",
     "start_time": "2021-10-12T11:09:46.480723Z"
    }
   },
   "outputs": [
    {
     "name": "stdout",
     "output_type": "stream",
     "text": [
      "The autoreload extension is already loaded. To reload it, use:\n",
      "  %reload_ext autoreload\n"
     ]
    }
   ],
   "source": [
    "#-- Auto reload:\n",
    "%load_ext autoreload\n",
    "%autoreload 2"
   ]
  },
  {
   "cell_type": "code",
   "execution_count": 85,
   "id": "auburn-stage",
   "metadata": {
    "ExecuteTime": {
     "end_time": "2021-10-12T11:11:21.443197Z",
     "start_time": "2021-10-12T11:11:21.373708Z"
    }
   },
   "outputs": [],
   "source": [
    "import numpy             as np\n",
    "import pandas            as pd\n",
    "import matplotlib.pyplot as plt\n",
    "\n",
    "import torch\n",
    "import torch.nn            as nn\n",
    "import torch.optim         as optim\n",
    "import torch.nn.functional as F\n",
    "import torchinfo\n",
    "import torchtext\n",
    "\n",
    "from torchtext.vocab import Vocab"
   ]
  },
  {
   "cell_type": "code",
   "execution_count": 80,
   "id": "conceptual-hughes",
   "metadata": {
    "ExecuteTime": {
     "end_time": "2021-10-12T11:09:46.942777Z",
     "start_time": "2021-10-12T11:09:46.872720Z"
    }
   },
   "outputs": [],
   "source": [
    "if 'google.colab' in str(get_ipython()):\n",
    "    !npx degit FixelAlgorithmsTeam/FixelCourses/DeepLearningMethods/13_AttentionAndTransfomers/DeepLearningFramework ./DeepLearningFramework"
   ]
  },
  {
   "cell_type": "markdown",
   "id": "5014fc84",
   "metadata": {},
   "source": [
    "### Transformer\n",
    "<img src=\"https://github.com/FixelAlgorithmsTeam/FixelCourses/blob/master/DeepLearningMethods/13_AttentionAndTransfomers//Transformer.png?raw=true\" alt=\"Transformer\" width=800>"
   ]
  },
  {
   "cell_type": "markdown",
   "id": "326929f5",
   "metadata": {},
   "source": [
    "#### Transformer = Encode + Decoder"
   ]
  },
  {
   "cell_type": "code",
   "execution_count": 95,
   "id": "3b7a1bc0",
   "metadata": {
    "ExecuteTime": {
     "end_time": "2021-10-12T11:16:01.422136Z",
     "start_time": "2021-10-12T11:16:01.325493Z"
    }
   },
   "outputs": [
    {
     "data": {
      "text/plain": [
       "==========================================================================================\n",
       "Layer (type:depth-idx)                                            Param #\n",
       "==========================================================================================\n",
       "Transformer                                                       --\n",
       "├─TransformerEncoder: 1-1                                         --\n",
       "│    └─ModuleList: 2-1                                            --\n",
       "│    │    └─TransformerEncoderLayer: 3-1                          527,104\n",
       "│    │    └─TransformerEncoderLayer: 3-2                          527,104\n",
       "│    │    └─TransformerEncoderLayer: 3-3                          527,104\n",
       "│    └─LayerNorm: 2-2                                             512\n",
       "├─TransformerDecoder: 1-2                                         --\n",
       "│    └─ModuleList: 2-3                                            --\n",
       "│    │    └─TransformerDecoderLayer: 3-4                          790,784\n",
       "│    │    └─TransformerDecoderLayer: 3-5                          790,784\n",
       "│    │    └─TransformerDecoderLayer: 3-6                          790,784\n",
       "│    │    └─TransformerDecoderLayer: 3-7                          790,784\n",
       "│    └─LayerNorm: 2-4                                             512\n",
       "==========================================================================================\n",
       "Total params: 2,574,336\n",
       "Trainable params: 2,574,336\n",
       "Non-trainable params: 0\n",
       "=========================================================================================="
      ]
     },
     "execution_count": 95,
     "metadata": {},
     "output_type": "execute_result"
    }
   ],
   "source": [
    "dEmbbeding    = 256\n",
    "nHead         = 8\n",
    "nEncoderLayer = 3\n",
    "nDecoderLayer = 4\n",
    "dNN           = 512\n",
    "\n",
    "oTransformer  = nn.Transformer(dEmbbeding, nHead, nEncoderLayer, nDecoderLayer, dNN)\n",
    "torchinfo.summary(oTransformer)"
   ]
  },
  {
   "cell_type": "markdown",
   "id": "9306de30",
   "metadata": {},
   "source": [
    "#### Encoder = [EncoderLayer] * `nEncoderLayer`"
   ]
  },
  {
   "cell_type": "code",
   "execution_count": 96,
   "id": "9aa9f7b2",
   "metadata": {
    "ExecuteTime": {
     "end_time": "2021-10-12T11:17:10.968671Z",
     "start_time": "2021-10-12T11:17:10.861117Z"
    }
   },
   "outputs": [
    {
     "data": {
      "text/plain": [
       "=====================================================================================\n",
       "Layer (type:depth-idx)                                       Param #\n",
       "=====================================================================================\n",
       "TransformerEncoder                                           --\n",
       "├─ModuleList: 1-1                                            --\n",
       "│    └─TransformerEncoderLayer: 2-1                          --\n",
       "│    │    └─MultiheadAttention: 3-1                          263,168\n",
       "│    │    └─Linear: 3-2                                      131,584\n",
       "│    │    └─Dropout: 3-3                                     --\n",
       "│    │    └─Linear: 3-4                                      131,328\n",
       "│    │    └─LayerNorm: 3-5                                   512\n",
       "│    │    └─LayerNorm: 3-6                                   512\n",
       "│    │    └─Dropout: 3-7                                     --\n",
       "│    │    └─Dropout: 3-8                                     --\n",
       "│    └─TransformerEncoderLayer: 2-2                          --\n",
       "│    │    └─MultiheadAttention: 3-9                          263,168\n",
       "│    │    └─Linear: 3-10                                     131,584\n",
       "│    │    └─Dropout: 3-11                                    --\n",
       "│    │    └─Linear: 3-12                                     131,328\n",
       "│    │    └─LayerNorm: 3-13                                  512\n",
       "│    │    └─LayerNorm: 3-14                                  512\n",
       "│    │    └─Dropout: 3-15                                    --\n",
       "│    │    └─Dropout: 3-16                                    --\n",
       "│    └─TransformerEncoderLayer: 2-3                          --\n",
       "│    │    └─MultiheadAttention: 3-17                         263,168\n",
       "│    │    └─Linear: 3-18                                     131,584\n",
       "│    │    └─Dropout: 3-19                                    --\n",
       "│    │    └─Linear: 3-20                                     131,328\n",
       "│    │    └─LayerNorm: 3-21                                  512\n",
       "│    │    └─LayerNorm: 3-22                                  512\n",
       "│    │    └─Dropout: 3-23                                    --\n",
       "│    │    └─Dropout: 3-24                                    --\n",
       "├─LayerNorm: 1-2                                             512\n",
       "=====================================================================================\n",
       "Total params: 989,696\n",
       "Trainable params: 989,696\n",
       "Non-trainable params: 0\n",
       "====================================================================================="
      ]
     },
     "execution_count": 96,
     "metadata": {},
     "output_type": "execute_result"
    }
   ],
   "source": [
    "torchinfo.summary(oTransformer.encoder)"
   ]
  },
  {
   "cell_type": "markdown",
   "id": "7a12d3bc",
   "metadata": {},
   "source": [
    "##### Decoder = [DecoderLayer] * `nDecoderLayer`"
   ]
  },
  {
   "cell_type": "code",
   "execution_count": 97,
   "id": "f1f35b94",
   "metadata": {
    "ExecuteTime": {
     "end_time": "2021-10-12T11:17:56.932340Z",
     "start_time": "2021-10-12T11:17:56.869187Z"
    }
   },
   "outputs": [
    {
     "data": {
      "text/plain": [
       "=====================================================================================\n",
       "Layer (type:depth-idx)                                       Param #\n",
       "=====================================================================================\n",
       "TransformerDecoder                                           --\n",
       "├─ModuleList: 1-1                                            --\n",
       "│    └─TransformerDecoderLayer: 2-1                          --\n",
       "│    │    └─MultiheadAttention: 3-1                          263,168\n",
       "│    │    └─MultiheadAttention: 3-2                          263,168\n",
       "│    │    └─Linear: 3-3                                      131,584\n",
       "│    │    └─Dropout: 3-4                                     --\n",
       "│    │    └─Linear: 3-5                                      131,328\n",
       "│    │    └─LayerNorm: 3-6                                   512\n",
       "│    │    └─LayerNorm: 3-7                                   512\n",
       "│    │    └─LayerNorm: 3-8                                   512\n",
       "│    │    └─Dropout: 3-9                                     --\n",
       "│    │    └─Dropout: 3-10                                    --\n",
       "│    │    └─Dropout: 3-11                                    --\n",
       "│    └─TransformerDecoderLayer: 2-2                          --\n",
       "│    │    └─MultiheadAttention: 3-12                         263,168\n",
       "│    │    └─MultiheadAttention: 3-13                         263,168\n",
       "│    │    └─Linear: 3-14                                     131,584\n",
       "│    │    └─Dropout: 3-15                                    --\n",
       "│    │    └─Linear: 3-16                                     131,328\n",
       "│    │    └─LayerNorm: 3-17                                  512\n",
       "│    │    └─LayerNorm: 3-18                                  512\n",
       "│    │    └─LayerNorm: 3-19                                  512\n",
       "│    │    └─Dropout: 3-20                                    --\n",
       "│    │    └─Dropout: 3-21                                    --\n",
       "│    │    └─Dropout: 3-22                                    --\n",
       "│    └─TransformerDecoderLayer: 2-3                          --\n",
       "│    │    └─MultiheadAttention: 3-23                         263,168\n",
       "│    │    └─MultiheadAttention: 3-24                         263,168\n",
       "│    │    └─Linear: 3-25                                     131,584\n",
       "│    │    └─Dropout: 3-26                                    --\n",
       "│    │    └─Linear: 3-27                                     131,328\n",
       "│    │    └─LayerNorm: 3-28                                  512\n",
       "│    │    └─LayerNorm: 3-29                                  512\n",
       "│    │    └─LayerNorm: 3-30                                  512\n",
       "│    │    └─Dropout: 3-31                                    --\n",
       "│    │    └─Dropout: 3-32                                    --\n",
       "│    │    └─Dropout: 3-33                                    --\n",
       "│    └─TransformerDecoderLayer: 2-4                          --\n",
       "│    │    └─MultiheadAttention: 3-34                         263,168\n",
       "│    │    └─MultiheadAttention: 3-35                         263,168\n",
       "│    │    └─Linear: 3-36                                     131,584\n",
       "│    │    └─Dropout: 3-37                                    --\n",
       "│    │    └─Linear: 3-38                                     131,328\n",
       "│    │    └─LayerNorm: 3-39                                  512\n",
       "│    │    └─LayerNorm: 3-40                                  512\n",
       "│    │    └─LayerNorm: 3-41                                  512\n",
       "│    │    └─Dropout: 3-42                                    --\n",
       "│    │    └─Dropout: 3-43                                    --\n",
       "│    │    └─Dropout: 3-44                                    --\n",
       "├─LayerNorm: 1-2                                             512\n",
       "=====================================================================================\n",
       "Total params: 1,584,640\n",
       "Trainable params: 1,584,640\n",
       "Non-trainable params: 0\n",
       "====================================================================================="
      ]
     },
     "execution_count": 97,
     "metadata": {},
     "output_type": "execute_result"
    }
   ],
   "source": [
    "torchinfo.summary(oTransformer.decoder)"
   ]
  },
  {
   "cell_type": "markdown",
   "id": "british-mambo",
   "metadata": {},
   "source": [
    "#### Load the data:"
   ]
  },
  {
   "cell_type": "code",
   "execution_count": 10,
   "id": "imperial-potter",
   "metadata": {
    "ExecuteTime": {
     "end_time": "2021-10-11T18:23:37.708731Z",
     "start_time": "2021-10-11T18:23:36.287902Z"
    }
   },
   "outputs": [
    {
     "data": {
      "text/plain": [
       "(126692,\n",
       " [('tom found evidence .', 'תום מצא ראיות .'),\n",
       "  ('tom freed the bird .', 'טום שחרר את הציפור .'),\n",
       "  ('tom freed the bird .', 'טום שלח את הציפור לחופשי .'),\n",
       "  ('tom gasped for air .', 'תום נאבק לנשום .'),\n",
       "  ('tom gets headaches .', 'תום מקבל כאבי ראש .')])"
      ]
     },
     "execution_count": 10,
     "metadata": {},
     "output_type": "execute_result"
    }
   ],
   "source": [
    "import re\n",
    "\n",
    "def NormalizeEnglish(line):\n",
    "    line = line.lower().strip()\n",
    "    line = re.sub(r\"([.!?])\", r\" \\1\",     line) #-- add space before [.!?]\n",
    "    line = re.sub(r\"[^a-zA-Z.!?]+\", r\" \", line) #-- keep only letters and [.!?]\n",
    "    return line\n",
    "\n",
    "def NormalizeHebrew(line):\n",
    "    line = line.strip()\n",
    "    line = re.sub(r\"([.!?])\", r\" \\1\",            line)\n",
    "    line = re.sub(r\"[^\\u0590-\\u05fe.!?]+\", r\" \", line)\n",
    "    return line\n",
    "\n",
    "dirPath = '../../data/Translation//'\n",
    "lLines  = []\n",
    "with open(dirPath + 'heb.txt', encoding='utf-8') as oFile:\n",
    "    for line in oFile:\n",
    "        lSplit  = line.split('\\t')[:2]\n",
    "        lLines += [(NormalizeEnglish(lSplit[0]), NormalizeHebrew(lSplit[1]))]\n",
    "\n",
    "N = len(lLines)\n",
    "N, lLines[26600:26605]"
   ]
  },
  {
   "cell_type": "markdown",
   "id": "sublime-leadership",
   "metadata": {},
   "source": [
    "#### Build vocabularies:"
   ]
  },
  {
   "cell_type": "code",
   "execution_count": 6,
   "id": "pursuant-dakota",
   "metadata": {
    "ExecuteTime": {
     "end_time": "2021-10-11T18:20:26.365121Z",
     "start_time": "2021-10-11T18:20:25.819080Z"
    }
   },
   "outputs": [
    {
     "data": {
      "text/plain": [
       "(7506, 16272)"
      ]
     },
     "execution_count": 6,
     "metadata": {},
     "output_type": "execute_result"
    }
   ],
   "source": [
    "from torchtext.vocab import build_vocab_from_iterator\n",
    "\n",
    "def YieldTokens(lLines):\n",
    "    for line in lLines:\n",
    "        yield line.split()\n",
    "\n",
    "def MakeVocab(lLines):\n",
    "    oVocab = build_vocab_from_iterator(YieldTokens(lLines), min_freq=3, specials=('<UNK>', '<SOS>', '<EOS>', '<PAD>'))\n",
    "    oVocab.set_default_index(oVocab['<UNK>'])\n",
    "    return oVocab\n",
    "        \n",
    "lEnglish, lHebrew = zip(*lLines)\n",
    "oEngVocab         = MakeVocab(lEnglish)\n",
    "oHebVocab         = MakeVocab(lHebrew)\n",
    "\n",
    "len(oEngVocab), len(oHebVocab)"
   ]
  },
  {
   "cell_type": "markdown",
   "id": "radio-ceiling",
   "metadata": {},
   "source": [
    "#### Line2Tensor:"
   ]
  },
  {
   "cell_type": "code",
   "execution_count": 7,
   "id": "certified-escape",
   "metadata": {
    "ExecuteTime": {
     "end_time": "2021-10-11T18:20:33.805729Z",
     "start_time": "2021-10-11T18:20:33.739764Z"
    }
   },
   "outputs": [
    {
     "name": "stdout",
     "output_type": "stream",
     "text": [
      "Origianl (Eng) - hold it !\n",
      "Origianl (Heb) - עצור !\n",
      "Tensor   (Eng) - tensor([  1, 543,  14, 111,   2])\n",
      "Tensor   (Heb) - tensor([   1, 1736,   44,    2])\n",
      "Back     (Eng) - <SOS> hold it ! <EOS>\n",
      "Back     (Heb) - <SOS> עצור ! <EOS>\n"
     ]
    }
   ],
   "source": [
    "def Line2Tensor(oVocab, line):\n",
    "    return torch.tensor([oVocab['<SOS>']] + [oVocab[w] for w in line.split()] + [oVocab['<EOS>']])\n",
    "\n",
    "def Tensor2Line(oVocab, vLine):\n",
    "    return ' '.join([oVocab.get_itos()[e] for e in vLine])\n",
    "    \n",
    "#-- Test:\n",
    "eng1 = lEnglish[152]\n",
    "heb1 = lHebrew [152]\n",
    "eng2 = Line2Tensor(oEngVocab, eng1)\n",
    "heb2 = Line2Tensor(oHebVocab, heb1)\n",
    "eng3 = Tensor2Line(oEngVocab, eng2)\n",
    "heb3 = Tensor2Line(oHebVocab, heb2)\n",
    "\n",
    "print(f'Origianl (Eng) - {eng1}')\n",
    "print(f'Origianl (Heb) - {heb1}')\n",
    "print(f'Tensor   (Eng) - {eng2}')\n",
    "print(f'Tensor   (Heb) - {heb2}')\n",
    "print(f'Back     (Eng) - {eng3}')\n",
    "print(f'Back     (Heb) - {heb3}')"
   ]
  },
  {
   "cell_type": "markdown",
   "id": "female-opening",
   "metadata": {},
   "source": [
    "#### Dataset:"
   ]
  },
  {
   "cell_type": "code",
   "execution_count": 8,
   "id": "alternative-texture",
   "metadata": {
    "ExecuteTime": {
     "end_time": "2021-10-11T18:22:27.110551Z",
     "start_time": "2021-10-11T18:22:27.023718Z"
    }
   },
   "outputs": [
    {
     "data": {
      "text/plain": [
       "('<SOS> hug tom . <EOS>', '<SOS> <UNK> את תום . <EOS>')"
      ]
     },
     "execution_count": 8,
     "metadata": {},
     "output_type": "execute_result"
    }
   ],
   "source": [
    "class LangDataset(torch.utils.data.Dataset):\n",
    "    def __init__(self, lX, lY, oVocabX, oVocabY):\n",
    "        self.lX      = lX\n",
    "        self.lY      = lY\n",
    "        self.oVocabX = oVocabX\n",
    "        self.oVocabY = oVocabY\n",
    "        \n",
    "    def __len__(self):\n",
    "        return len(self.lX)\n",
    "    \n",
    "    def __getitem__(self, idx):\n",
    "        sX = self.lX[idx]\n",
    "        sY = self.lY[idx]\n",
    "        \n",
    "        vX = Line2Tensor(self.oVocabX, sX)\n",
    "        vY = Line2Tensor(self.oVocabY, sY)\n",
    "\n",
    "        return vX, vY\n",
    "    \n",
    "oDataset           = LangDataset(lEnglish, lHebrew, oEngVocab, oHebVocab)\n",
    "vEngLine, vHebLine = oDataset[155]\n",
    "\n",
    "Tensor2Line(oEngVocab, vEngLine), Tensor2Line(oHebVocab, vHebLine)"
   ]
  },
  {
   "cell_type": "code",
   "execution_count": 11,
   "id": "private-programming",
   "metadata": {
    "ExecuteTime": {
     "end_time": "2021-10-11T18:23:45.548879Z",
     "start_time": "2021-10-11T18:23:45.492619Z"
    }
   },
   "outputs": [
    {
     "data": {
      "text/plain": [
       "(115000, 11692)"
      ]
     },
     "execution_count": 11,
     "metadata": {},
     "output_type": "execute_result"
    }
   ],
   "source": [
    "from torch.utils.data import random_split\n",
    "\n",
    "nTrain              = 115000\n",
    "nTest               = N - nTrain\n",
    "oTrainSet, oTestSet = random_split(oDataset, [nTrain, nTest])\n",
    "\n",
    "len(oTrainSet), len(oTestSet)"
   ]
  },
  {
   "cell_type": "markdown",
   "id": "global-trail",
   "metadata": {},
   "source": [
    "#### Data loader:"
   ]
  },
  {
   "cell_type": "code",
   "execution_count": 12,
   "id": "bibliographic-letter",
   "metadata": {
    "ExecuteTime": {
     "end_time": "2021-10-11T18:24:20.820742Z",
     "start_time": "2021-10-11T18:24:20.755173Z"
    }
   },
   "outputs": [
    {
     "data": {
      "text/plain": [
       "(torch.Size([128, 22]), torch.Size([128, 17]))"
      ]
     },
     "execution_count": 12,
     "metadata": {},
     "output_type": "execute_result"
    }
   ],
   "source": [
    "from torch.utils.data   import DataLoader\n",
    "from torch.nn.utils.rnn import pad_sequence\n",
    "\n",
    "oVocabX = oEngVocab\n",
    "oVocabY = oHebVocab\n",
    "def LangCollateFunction(lBatch):\n",
    "    lX, lY = zip(*lBatch)\n",
    "    mX     = pad_sequence(lX, padding_value=oVocabX['<PAD>'], batch_first=True)\n",
    "    mY     = pad_sequence(lY, padding_value=oVocabY['<PAD>'], batch_first=True)\n",
    "    \n",
    "    return (mX, mY)\n",
    "\n",
    "batchSize = 128\n",
    "oTrainDL  = DataLoader(oTrainSet, shuffle=True,  batch_size=batchSize,   collate_fn=LangCollateFunction)\n",
    "oTestDL   = DataLoader(oTestSet,  shuffle=False, batch_size=2*batchSize, collate_fn=LangCollateFunction)\n",
    "\n",
    "mX, mY = next(iter(oTrainDL))\n",
    "mX.shape, mY.shape"
   ]
  },
  {
   "cell_type": "markdown",
   "id": "c3df5e90",
   "metadata": {
    "ExecuteTime": {
     "end_time": "2021-10-11T19:26:15.385415Z",
     "start_time": "2021-10-11T19:26:15.276315Z"
    }
   },
   "source": [
    "#### Transformer:\n",
    "<img src=\"https://github.com/FixelAlgorithmsTeam/FixelCourses/blob/master/DeepLearningMethods/13_AttentionAndTransfomers//Transformer.png?raw=true\" alt=\"Transformer\" width=800>"
   ]
  },
  {
   "cell_type": "code",
   "execution_count": 54,
   "id": "adjustable-accent",
   "metadata": {
    "ExecuteTime": {
     "end_time": "2021-10-12T06:27:51.099488Z",
     "start_time": "2021-10-12T06:27:50.999010Z"
    }
   },
   "outputs": [],
   "source": [
    "Vx   = len(oVocabX)\n",
    "Vy   = len(oVocabY)\n",
    "\n",
    "class Transformer(nn.Module):\n",
    "    def __init__(self):\n",
    "        super(Transformer, self).__init__()\n",
    "        \n",
    "        D                   = 256\n",
    "        MAX_LENGTH          = 55\n",
    "        self.oEmbeedingX    = nn.Embedding  (Vx,         D)\n",
    "        self.oEmbeedingY    = nn.Embedding  (Vy,         D)\n",
    "        self.oEmbeedingPosX = nn.Embedding  (MAX_LENGTH, D)\n",
    "        self.oEmbeedingPosY = nn.Embedding  (MAX_LENGTH, D)\n",
    "        self.oTransformer   = nn.Transformer(D, 8, 3, 3, 2*D, 0.15, batch_first=True)\n",
    "        self.oLinear        = nn.Linear     (D, Vy)\n",
    "    #-------------------------------------------------------------------------------#    \n",
    "    #-------------------------------------------------------------------------------#\n",
    "    def PreEncode(self, mX):\n",
    "        mMask     = mX == oVocabX['<PAD>']             #-- mMask.shape = (N, Tx)\n",
    "        mX        = self.oEmbeedingX(mX)               #-- mX   .shape = (N, Tx, D)\n",
    "        N, Tx, D  = mX.shape\n",
    "        vT        = torch.arange(Tx, device=mX.device) #-- vT   .shape = (Tx,)\n",
    "        mT        = self.oEmbeedingPosX(vT[None,:])    #-- mT   .shape = (1, Tx, D)\n",
    "        mX        = np.sqrt(D) * mX + mT               #-- mX   .shape = (N, Tx, D)\n",
    "        \n",
    "        return mX, mMask\n",
    "    #-------------------------------------------------------------------------------#\n",
    "    #-------------------------------------------------------------------------------#\n",
    "    def PreDecode(self, mY):\n",
    "        mMask     = mY == oVocabY['<PAD>']             #-- mMask.shape = (N, Ty)\n",
    "        mY        = self.oEmbeedingY(mY)               #-- mY   .shape = (N, Ty, D)\n",
    "        N, Ty, D  = mY.shape\n",
    "        vT        = torch.arange(Ty, device=mY.device) #-- vT   .shape = (Ty,)\n",
    "        mT        = self.oEmbeedingPosY(vT[None,:])    #-- mT   .shape = (1, Ty, D)\n",
    "        mY        = np.sqrt(D) * mY + mT               #-- mY   .shape = (N, Ty, D)\n",
    "        \n",
    "        mSubMask  = self.oTransformer.generate_square_subsequent_mask(Ty) #-- mSubMask.shape = Ty, Ty\n",
    "        \n",
    "        return mY, mMask, mSubMask.to(mY.device)\n",
    "    #-------------------------------------------------------------------------------#\n",
    "    #-------------------------------------------------------------------------------#\n",
    "    def Encode(self, mX):\n",
    "        mX, mMaskX = self.PreEncode(mX)\n",
    "        mH         = self.oTransformer.encoder(mX, src_key_padding_mask=mMaskX)\n",
    "    \n",
    "        return mH, mMaskX\n",
    "    #-------------------------------------------------------------------------------#\n",
    "    #-------------------------------------------------------------------------------#\n",
    "    def Decoce(self, mH, mMaskH, mY):\n",
    "        mY, mMaskY, mSubMaskY = self.PreDecode(mY)\n",
    "        \n",
    "        mO = self.oTransformer.decoder(mY, mH,\n",
    "                                   memory_key_padding_mask = mMaskH,   #-- H padding mask (same as X)\n",
    "                                   tgt_key_padding_mask    = mMaskY,   #-- Y padding mask\n",
    "                                   tgt_mask                = mSubMaskY #-- Y time    mask\n",
    "                                  )\n",
    "        mZ = self.oLinear(mO)\n",
    "        mZ = mZ.permute(0,2,1)\n",
    "    \n",
    "        return mZ\n",
    "    #-------------------------------------------------------------------------------#\n",
    "    #-------------------------------------------------------------------------------#\n",
    "    def forward(self, mX, mY):\n",
    "        mH, mMaskX = self.Encode(mX)\n",
    "        mZ         = self.Decoce(mH, mMaskX, mY)\n",
    "        \n",
    "        return mZ"
   ]
  },
  {
   "cell_type": "code",
   "execution_count": 55,
   "id": "advised-extreme",
   "metadata": {
    "ExecuteTime": {
     "end_time": "2021-10-12T06:27:51.917630Z",
     "start_time": "2021-10-12T06:27:51.262290Z"
    }
   },
   "outputs": [
    {
     "data": {
      "text/plain": [
       "torch.Size([128, 16272, 16])"
      ]
     },
     "execution_count": 55,
     "metadata": {},
     "output_type": "execute_result"
    }
   ],
   "source": [
    "oModel = Seq2SeqTransformer()\n",
    "mZ     = oModel(mX, mY[:,:-1])\n",
    "mZ.shape"
   ]
  },
  {
   "cell_type": "code",
   "execution_count": 56,
   "id": "b3e2d320",
   "metadata": {
    "ExecuteTime": {
     "end_time": "2021-10-12T06:27:51.997703Z",
     "start_time": "2021-10-12T06:27:51.918631Z"
    }
   },
   "outputs": [],
   "source": [
    "def Epoch(oModel, oDataDL, Loss, Metric, oOptim=None, oScheduler=None, bTrain=True):\n",
    "\n",
    "    epochLoss   = 0\n",
    "    epochMetric = 0\n",
    "    count       = 0\n",
    "    nIter       = len(oDataDL)\n",
    "    vLR         = np.full(nIter, np.nan)\n",
    "    DEVICE      = next(oModel.parameters()).device #-- CPU\\GPU\n",
    "\n",
    "\n",
    "    oModel.train(bTrain) #-- train or test\n",
    "\n",
    "    #-- Iterate over the mini-batches:\n",
    "    for ii, (mX, mY) in enumerate(oDataDL):\n",
    "        #-- Move to device (CPU\\GPU):\n",
    "        mX = mX.to(DEVICE)\n",
    "        mY = mY.to(DEVICE)\n",
    "        \n",
    "        #-- Forward:\n",
    "        if bTrain == True:\n",
    "            #-- Store computational graph:\n",
    "            mOut = oModel(mX,   mY[:,:-1]) #-- omit <EOS>\n",
    "            loss = Loss  (mOut, mY[:,1:])  #-- omit <SOS>\n",
    "        else:\n",
    "            with torch.no_grad():\n",
    "                #-- Do not store computational graph:\n",
    "                mOut = oModel(mX,   mY[:,:-1]) #-- omit <EOS>\n",
    "                loss = Loss  (mOut, mY[:,1:])  #-- omit <SOS>\n",
    "\n",
    "        #-- Backward:\n",
    "        if bTrain == True:\n",
    "            oOptim.zero_grad() #-- set gradients to zeros\n",
    "            loss.backward()    #-- backward\n",
    "            oOptim.step()      #-- update parameters\n",
    "            if oScheduler is not None:\n",
    "                vLR[ii] = oScheduler.get_last_lr()[0]\n",
    "                oScheduler.step() #-- update learning rate\n",
    "\n",
    "        with torch.no_grad():\n",
    "            Nb           = mY.shape[0]\n",
    "            count       += Nb\n",
    "            epochLoss   += Nb * loss.item()\n",
    "            epochMetric += Nb * Metric(mOut, mY[:,1:])\n",
    "        print(f'\\r{\"Train\" if bTrain else \"Val\"} - Iteration: {ii:3d} ({nIter}): loss = {loss:2.6f}', end='')\n",
    "\n",
    "    print('', end='\\r')\n",
    "    epochLoss   /= count\n",
    "    epochMetric /= count\n",
    "\n",
    "    return epochLoss, epochMetric, vLR"
   ]
  },
  {
   "cell_type": "code",
   "execution_count": 57,
   "id": "interracial-visibility",
   "metadata": {
    "ExecuteTime": {
     "end_time": "2021-10-12T06:27:52.077775Z",
     "start_time": "2021-10-12T06:27:51.998704Z"
    }
   },
   "outputs": [],
   "source": [
    "from torch.optim.lr_scheduler       import OneCycleLR\n",
    "from DeepLearningFramework.Training import TrainModel\n",
    "from DeepLearningFramework.Metric   import Accuracy\n",
    "\n",
    "DEVICE = torch.device       ('cuda:0' if torch.cuda.is_available() else 'cpu') \n",
    "Loss   = nn.CrossEntropyLoss(ignore_index=oVocabY['<PAD>'])\n",
    "Metric = Accuracy           (ignoreIndex =oVocabY['<PAD>'])"
   ]
  },
  {
   "cell_type": "code",
   "execution_count": 58,
   "id": "spoken-solid",
   "metadata": {
    "ExecuteTime": {
     "end_time": "2021-10-12T07:12:25.761443Z",
     "start_time": "2021-10-12T06:27:52.311416Z"
    },
    "scrolled": false
   },
   "outputs": [
    {
     "name": "stdout",
     "output_type": "stream",
     "text": [
      "------------------------------------------------------------------------------------------------------------------------\n",
      "Epoch 000: | Train loss:  5.788 | Val loss:  4.915 | Train Metric:  0.321 | Val Metric:  0.387 | epoch time: 26.081 | <-- Checkpoint!\n",
      "Epoch 001: | Train loss:  4.729 | Val loss:  4.514 | Train Metric:  0.403 | Val Metric:  0.423 | epoch time: 26.415 | <-- Checkpoint!\n",
      "Epoch 002: | Train loss:  4.377 | Val loss:  4.188 | Train Metric:  0.431 | Val Metric:  0.450 | epoch time: 26.379 | <-- Checkpoint!\n",
      "Epoch 003: | Train loss:  4.072 | Val loss:  3.894 | Train Metric:  0.454 | Val Metric:  0.472 | epoch time: 25.972 | <-- Checkpoint!\n",
      "Epoch 004: | Train loss:  3.784 | Val loss:  3.624 | Train Metric:  0.476 | Val Metric:  0.494 | epoch time: 26.862 | <-- Checkpoint!\n",
      "Epoch 005: | Train loss:  3.514 | Val loss:  3.367 | Train Metric:  0.497 | Val Metric:  0.515 | epoch time: 27.281 | <-- Checkpoint!\n",
      "Epoch 006: | Train loss:  3.248 | Val loss:  3.124 | Train Metric:  0.520 | Val Metric:  0.537 | epoch time: 30.663 | <-- Checkpoint!\n",
      "Epoch 007: | Train loss:  2.977 | Val loss:  2.872 | Train Metric:  0.544 | Val Metric:  0.565 | epoch time: 29.196 | <-- Checkpoint!\n",
      "Epoch 008: | Train loss:  2.713 | Val loss:  2.637 | Train Metric:  0.569 | Val Metric:  0.588 | epoch time: 26.643 | <-- Checkpoint!\n",
      "Epoch 009: | Train loss:  2.466 | Val loss:  2.435 | Train Metric:  0.594 | Val Metric:  0.609 | epoch time: 27.452 | <-- Checkpoint!\n",
      "------------------------------------------------------------------------------------------------------------------------\n",
      "Epoch 010: | Train loss:  2.249 | Val loss:  2.268 | Train Metric:  0.616 | Val Metric:  0.628 | epoch time: 30.353 | <-- Checkpoint!\n",
      "Epoch 011: | Train loss:  2.064 | Val loss:  2.134 | Train Metric:  0.635 | Val Metric:  0.640 | epoch time: 28.814 | <-- Checkpoint!\n",
      "Epoch 012: | Train loss:  1.910 | Val loss:  2.019 | Train Metric:  0.652 | Val Metric:  0.653 | epoch time: 28.750 | <-- Checkpoint!\n",
      "Epoch 013: | Train loss:  1.781 | Val loss:  1.936 | Train Metric:  0.666 | Val Metric:  0.661 | epoch time: 27.418 | <-- Checkpoint!\n",
      "Epoch 014: | Train loss:  1.674 | Val loss:  1.873 | Train Metric:  0.678 | Val Metric:  0.667 | epoch time: 30.918 | <-- Checkpoint!\n",
      "Epoch 015: | Train loss:  1.585 | Val loss:  1.811 | Train Metric:  0.689 | Val Metric:  0.675 | epoch time: 32.356 | <-- Checkpoint!\n",
      "Epoch 016: | Train loss:  1.507 | Val loss:  1.756 | Train Metric:  0.699 | Val Metric:  0.681 | epoch time: 31.775 | <-- Checkpoint!\n",
      "Epoch 017: | Train loss:  1.440 | Val loss:  1.706 | Train Metric:  0.708 | Val Metric:  0.688 | epoch time: 30.020 | <-- Checkpoint!\n",
      "Epoch 018: | Train loss:  1.381 | Val loss:  1.670 | Train Metric:  0.716 | Val Metric:  0.692 | epoch time: 26.487 | <-- Checkpoint!\n",
      "Epoch 019: | Train loss:  1.327 | Val loss:  1.649 | Train Metric:  0.724 | Val Metric:  0.696 | epoch time: 26.764 | <-- Checkpoint!\n",
      "------------------------------------------------------------------------------------------------------------------------\n",
      "Epoch 020: | Train loss:  1.285 | Val loss:  1.624 | Train Metric:  0.729 | Val Metric:  0.696 | epoch time: 25.960 |\n",
      "Epoch 021: | Train loss:  1.256 | Val loss:  1.620 | Train Metric:  0.733 | Val Metric:  0.697 | epoch time: 26.109 | <-- Checkpoint!\n",
      "Epoch 022: | Train loss:  1.234 | Val loss:  1.602 | Train Metric:  0.736 | Val Metric:  0.695 | epoch time: 27.172 |\n",
      "Epoch 023: | Train loss:  1.227 | Val loss:  1.646 | Train Metric:  0.737 | Val Metric:  0.689 | epoch time: 29.808 |\n",
      "Epoch 024: | Train loss:  1.225 | Val loss:  1.615 | Train Metric:  0.736 | Val Metric:  0.695 | epoch time: 26.326 |\n",
      "Epoch 025: | Train loss:  1.227 | Val loss:  1.596 | Train Metric:  0.735 | Val Metric:  0.695 | epoch time: 28.375 |\n",
      "Epoch 026: | Train loss:  1.227 | Val loss:  1.615 | Train Metric:  0.735 | Val Metric:  0.694 | epoch time: 26.228 |\n",
      "Epoch 027: | Train loss:  1.227 | Val loss:  1.602 | Train Metric:  0.735 | Val Metric:  0.694 | epoch time: 26.268 |\n",
      "Epoch 028: | Train loss:  1.224 | Val loss:  1.589 | Train Metric:  0.735 | Val Metric:  0.698 | epoch time: 27.073 | <-- Checkpoint!\n",
      "Epoch 029: | Train loss:  1.216 | Val loss:  1.592 | Train Metric:  0.737 | Val Metric:  0.697 | epoch time: 26.462 |\n",
      "------------------------------------------------------------------------------------------------------------------------\n",
      "Epoch 030: | Train loss:  1.209 | Val loss:  1.583 | Train Metric:  0.738 | Val Metric:  0.697 | epoch time: 25.865 |\n",
      "Epoch 031: | Train loss:  1.200 | Val loss:  1.595 | Train Metric:  0.739 | Val Metric:  0.694 | epoch time: 25.987 |\n",
      "Epoch 032: | Train loss:  1.192 | Val loss:  1.589 | Train Metric:  0.741 | Val Metric:  0.696 | epoch time: 27.078 |\n",
      "Epoch 033: | Train loss:  1.185 | Val loss:  1.568 | Train Metric:  0.742 | Val Metric:  0.701 | epoch time: 26.598 | <-- Checkpoint!\n",
      "Epoch 034: | Train loss:  1.177 | Val loss:  1.591 | Train Metric:  0.744 | Val Metric:  0.696 | epoch time: 29.682 |\n",
      "Epoch 035: | Train loss:  1.169 | Val loss:  1.582 | Train Metric:  0.745 | Val Metric:  0.697 | epoch time: 28.612 |\n",
      "Epoch 036: | Train loss:  1.161 | Val loss:  1.562 | Train Metric:  0.746 | Val Metric:  0.701 | epoch time: 25.811 | <-- Checkpoint!\n",
      "Epoch 037: | Train loss:  1.156 | Val loss:  1.555 | Train Metric:  0.747 | Val Metric:  0.703 | epoch time: 26.230 | <-- Checkpoint!\n",
      "Epoch 038: | Train loss:  1.149 | Val loss:  1.553 | Train Metric:  0.748 | Val Metric:  0.703 | epoch time: 26.018 | <-- Checkpoint!\n",
      "Epoch 039: | Train loss:  1.140 | Val loss:  1.541 | Train Metric:  0.749 | Val Metric:  0.704 | epoch time: 27.212 | <-- Checkpoint!\n",
      "------------------------------------------------------------------------------------------------------------------------\n",
      "Epoch 040: | Train loss:  1.132 | Val loss:  1.536 | Train Metric:  0.751 | Val Metric:  0.706 | epoch time: 26.425 | <-- Checkpoint!\n",
      "Epoch 041: | Train loss:  1.124 | Val loss:  1.539 | Train Metric:  0.752 | Val Metric:  0.706 | epoch time: 26.321 | <-- Checkpoint!\n",
      "Epoch 042: | Train loss:  1.113 | Val loss:  1.542 | Train Metric:  0.754 | Val Metric:  0.704 | epoch time: 26.076 |\n",
      "Epoch 043: | Train loss:  1.106 | Val loss:  1.557 | Train Metric:  0.756 | Val Metric:  0.704 | epoch time: 25.805 |\n",
      "Epoch 044: | Train loss:  1.096 | Val loss:  1.541 | Train Metric:  0.758 | Val Metric:  0.705 | epoch time: 26.094 |\n",
      "Epoch 045: | Train loss:  1.086 | Val loss:  1.539 | Train Metric:  0.759 | Val Metric:  0.705 | epoch time: 25.980 |\n",
      "Epoch 046: | Train loss:  1.076 | Val loss:  1.532 | Train Metric:  0.761 | Val Metric:  0.708 | epoch time: 27.307 | <-- Checkpoint!\n",
      "Epoch 047: | Train loss:  1.068 | Val loss:  1.523 | Train Metric:  0.762 | Val Metric:  0.707 | epoch time: 26.591 |\n",
      "Epoch 048: | Train loss:  1.056 | Val loss:  1.525 | Train Metric:  0.764 | Val Metric:  0.708 | epoch time: 27.859 | <-- Checkpoint!\n",
      "Epoch 049: | Train loss:  1.045 | Val loss:  1.517 | Train Metric:  0.766 | Val Metric:  0.711 | epoch time: 27.511 | <-- Checkpoint!\n",
      "------------------------------------------------------------------------------------------------------------------------\n",
      "Epoch 050: | Train loss:  1.034 | Val loss:  1.510 | Train Metric:  0.768 | Val Metric:  0.712 | epoch time: 26.026 | <-- Checkpoint!\n",
      "Epoch 051: | Train loss:  1.023 | Val loss:  1.515 | Train Metric:  0.770 | Val Metric:  0.712 | epoch time: 26.146 |\n",
      "Epoch 052: | Train loss:  1.012 | Val loss:  1.509 | Train Metric:  0.772 | Val Metric:  0.712 | epoch time: 25.948 |\n",
      "Epoch 053: | Train loss:  1.000 | Val loss:  1.512 | Train Metric:  0.775 | Val Metric:  0.713 | epoch time: 25.963 | <-- Checkpoint!\n",
      "Epoch 054: | Train loss:  0.987 | Val loss:  1.497 | Train Metric:  0.777 | Val Metric:  0.713 | epoch time: 25.600 |\n",
      "Epoch 055: | Train loss:  0.975 | Val loss:  1.496 | Train Metric:  0.780 | Val Metric:  0.714 | epoch time: 26.142 | <-- Checkpoint!\n",
      "Epoch 056: | Train loss:  0.961 | Val loss:  1.492 | Train Metric:  0.782 | Val Metric:  0.715 | epoch time: 25.505 | <-- Checkpoint!\n",
      "Epoch 057: | Train loss:  0.950 | Val loss:  1.510 | Train Metric:  0.784 | Val Metric:  0.713 | epoch time: 25.776 |\n",
      "Epoch 058: | Train loss:  0.934 | Val loss:  1.491 | Train Metric:  0.787 | Val Metric:  0.716 | epoch time: 25.630 | <-- Checkpoint!\n"
     ]
    },
    {
     "name": "stdout",
     "output_type": "stream",
     "text": [
      "Epoch 059: | Train loss:  0.919 | Val loss:  1.487 | Train Metric:  0.790 | Val Metric:  0.715 | epoch time: 26.277 |\n",
      "------------------------------------------------------------------------------------------------------------------------\n",
      "Epoch 060: | Train loss:  0.904 | Val loss:  1.481 | Train Metric:  0.793 | Val Metric:  0.718 | epoch time: 26.749 | <-- Checkpoint!\n",
      "Epoch 061: | Train loss:  0.890 | Val loss:  1.490 | Train Metric:  0.796 | Val Metric:  0.719 | epoch time: 25.800 | <-- Checkpoint!\n",
      "Epoch 062: | Train loss:  0.876 | Val loss:  1.492 | Train Metric:  0.798 | Val Metric:  0.718 | epoch time: 25.954 |\n",
      "Epoch 063: | Train loss:  0.861 | Val loss:  1.468 | Train Metric:  0.801 | Val Metric:  0.721 | epoch time: 25.899 | <-- Checkpoint!\n",
      "Epoch 064: | Train loss:  0.845 | Val loss:  1.486 | Train Metric:  0.805 | Val Metric:  0.720 | epoch time: 27.406 |\n",
      "Epoch 065: | Train loss:  0.829 | Val loss:  1.483 | Train Metric:  0.808 | Val Metric:  0.720 | epoch time: 28.131 |\n",
      "Epoch 066: | Train loss:  0.814 | Val loss:  1.476 | Train Metric:  0.811 | Val Metric:  0.721 | epoch time: 25.476 |\n",
      "Epoch 067: | Train loss:  0.798 | Val loss:  1.474 | Train Metric:  0.814 | Val Metric:  0.722 | epoch time: 25.605 | <-- Checkpoint!\n",
      "Epoch 068: | Train loss:  0.781 | Val loss:  1.485 | Train Metric:  0.818 | Val Metric:  0.723 | epoch time: 25.496 | <-- Checkpoint!\n",
      "Epoch 069: | Train loss:  0.763 | Val loss:  1.492 | Train Metric:  0.822 | Val Metric:  0.721 | epoch time: 26.422 |\n",
      "------------------------------------------------------------------------------------------------------------------------\n",
      "Epoch 070: | Train loss:  0.747 | Val loss:  1.484 | Train Metric:  0.825 | Val Metric:  0.722 | epoch time: 26.187 |\n",
      "Epoch 071: | Train loss:  0.730 | Val loss:  1.493 | Train Metric:  0.829 | Val Metric:  0.724 | epoch time: 25.475 | <-- Checkpoint!\n",
      "Epoch 072: | Train loss:  0.713 | Val loss:  1.479 | Train Metric:  0.833 | Val Metric:  0.726 | epoch time: 25.765 | <-- Checkpoint!\n",
      "Epoch 073: | Train loss:  0.695 | Val loss:  1.505 | Train Metric:  0.837 | Val Metric:  0.724 | epoch time: 25.855 |\n",
      "Epoch 074: | Train loss:  0.678 | Val loss:  1.489 | Train Metric:  0.840 | Val Metric:  0.724 | epoch time: 25.558 |\n",
      "Epoch 075: | Train loss:  0.662 | Val loss:  1.493 | Train Metric:  0.844 | Val Metric:  0.725 | epoch time: 25.378 |\n",
      "Epoch 076: | Train loss:  0.644 | Val loss:  1.486 | Train Metric:  0.848 | Val Metric:  0.725 | epoch time: 26.137 |\n",
      "Epoch 077: | Train loss:  0.626 | Val loss:  1.497 | Train Metric:  0.853 | Val Metric:  0.727 | epoch time: 26.119 | <-- Checkpoint!\n",
      "Epoch 078: | Train loss:  0.608 | Val loss:  1.498 | Train Metric:  0.856 | Val Metric:  0.725 | epoch time: 26.692 |\n",
      "Epoch 079: | Train loss:  0.591 | Val loss:  1.509 | Train Metric:  0.860 | Val Metric:  0.726 | epoch time: 25.778 |\n",
      "------------------------------------------------------------------------------------------------------------------------\n",
      "Epoch 080: | Train loss:  0.574 | Val loss:  1.512 | Train Metric:  0.864 | Val Metric:  0.724 | epoch time: 25.838 |\n",
      "Epoch 081: | Train loss:  0.557 | Val loss:  1.513 | Train Metric:  0.868 | Val Metric:  0.724 | epoch time: 25.890 |\n",
      "Epoch 082: | Train loss:  0.542 | Val loss:  1.521 | Train Metric:  0.872 | Val Metric:  0.725 | epoch time: 26.151 |\n",
      "Epoch 083: | Train loss:  0.525 | Val loss:  1.522 | Train Metric:  0.876 | Val Metric:  0.728 | epoch time: 26.275 | <-- Checkpoint!\n",
      "Epoch 084: | Train loss:  0.508 | Val loss:  1.536 | Train Metric:  0.880 | Val Metric:  0.726 | epoch time: 25.848 |\n",
      "Epoch 085: | Train loss:  0.493 | Val loss:  1.542 | Train Metric:  0.884 | Val Metric:  0.726 | epoch time: 25.780 |\n",
      "Epoch 086: | Train loss:  0.479 | Val loss:  1.541 | Train Metric:  0.887 | Val Metric:  0.726 | epoch time: 25.756 |\n",
      "Epoch 087: | Train loss:  0.463 | Val loss:  1.551 | Train Metric:  0.891 | Val Metric:  0.726 | epoch time: 26.270 |\n",
      "Epoch 088: | Train loss:  0.450 | Val loss:  1.552 | Train Metric:  0.894 | Val Metric:  0.726 | epoch time: 25.875 |\n",
      "Epoch 089: | Train loss:  0.437 | Val loss:  1.561 | Train Metric:  0.897 | Val Metric:  0.727 | epoch time: 25.802 |\n",
      "------------------------------------------------------------------------------------------------------------------------\n",
      "Epoch 090: | Train loss:  0.426 | Val loss:  1.570 | Train Metric:  0.900 | Val Metric:  0.725 | epoch time: 25.724 |\n",
      "Epoch 091: | Train loss:  0.414 | Val loss:  1.573 | Train Metric:  0.903 | Val Metric:  0.726 | epoch time: 25.756 |\n",
      "Epoch 092: | Train loss:  0.404 | Val loss:  1.577 | Train Metric:  0.905 | Val Metric:  0.724 | epoch time: 25.592 |\n",
      "Epoch 093: | Train loss:  0.395 | Val loss:  1.579 | Train Metric:  0.908 | Val Metric:  0.725 | epoch time: 25.608 |\n",
      "Epoch 094: | Train loss:  0.388 | Val loss:  1.587 | Train Metric:  0.910 | Val Metric:  0.724 | epoch time: 26.417 |\n",
      "Epoch 095: | Train loss:  0.382 | Val loss:  1.589 | Train Metric:  0.911 | Val Metric:  0.724 | epoch time: 25.686 |\n",
      "Epoch 096: | Train loss:  0.377 | Val loss:  1.590 | Train Metric:  0.913 | Val Metric:  0.724 | epoch time: 25.768 |\n",
      "Epoch 097: | Train loss:  0.374 | Val loss:  1.593 | Train Metric:  0.914 | Val Metric:  0.724 | epoch time: 25.739 |\n",
      "Epoch 098: | Train loss:  0.371 | Val loss:  1.594 | Train Metric:  0.915 | Val Metric:  0.724 | epoch time: 25.962 |\n",
      "Epoch 099: | Train loss:  0.369 | Val loss:  1.593 | Train Metric:  0.915 | Val Metric:  0.724 | epoch time: 26.222 |\n"
     ]
    }
   ],
   "source": [
    "nEpochs    = 100\n",
    "nIter      = nEpochs * len(oTrainDL)\n",
    "\n",
    "oModel     = Transformer().to(DEVICE)\n",
    "oOptim     = optim.AdamW(oModel.parameters(), lr=0, betas=(0.9, 0.99), weight_decay=5e-1)\n",
    "oScheduler = OneCycleLR (oOptim, max_lr=9e-4, total_steps=nIter)\n",
    "lHistory   = TrainModel (oModel, oTrainDL, oTestDL, Loss, Metric, nEpochs, oOptim, oScheduler, Epoch=Epoch, sModelName='Transformer');"
   ]
  },
  {
   "cell_type": "code",
   "execution_count": 60,
   "id": "controlling-bottom",
   "metadata": {
    "ExecuteTime": {
     "end_time": "2021-10-12T07:13:20.138984Z",
     "start_time": "2021-10-12T07:13:19.814422Z"
    }
   },
   "outputs": [
    {
     "data": {
      "image/png": "[encoded data removed]",
      "text/plain": [
       "<Figure size 2200x500 with 3 Axes>"
      ]
     },
     "metadata": {},
     "output_type": "display_data"
    }
   ],
   "source": [
    "from DeepLearningFramework.Auxiliary import PlotHistory\n",
    "\n",
    "PlotHistory(lHistory)\n",
    "plt.show   ()"
   ]
  },
  {
   "cell_type": "markdown",
   "id": "arbitrary-custom",
   "metadata": {},
   "source": [
    "### Exercise (predict implementation)\n",
    "Complete the `Predict` function implementation.  \n",
    "\n",
    "Note: A [beam search](https://en.wikipedia.org/wiki/Beam_search) should be used instead of top 1 method."
   ]
  },
  {
   "cell_type": "code",
   "execution_count": 113,
   "id": "aad9a19e",
   "metadata": {
    "ExecuteTime": {
     "end_time": "2021-10-12T11:26:05.840865Z",
     "start_time": "2021-10-12T11:26:05.780626Z"
    }
   },
   "outputs": [],
   "source": [
    "from torch.distributions.categorical import Categorical\n",
    "\n",
    "def Predict(oModel, vX, bTop1=False):\n",
    "    MAX_LENGTH = 16\n",
    "    vY         = oVocabY['<PAD>'] * torch.ones(MAX_LENGTH, dtype=torch.int32, device=vX.device)\n",
    "    vY[0]      = oVocabY['<SOS>']\n",
    "    #-- Encode:\n",
    "    mH, mMaskX = ???\n",
    "\n",
    "    for ii in range(1, MAX_LENGTH):\n",
    "        #-- Decode:\n",
    "        vZ = ???\n",
    "        \n",
    "        if bTop1 == True:\n",
    "            y = ???\n",
    "        else:\n",
    "            y = ???\n",
    "\n",
    "        vY[ii] = y\n",
    "        \n",
    "        if y == ???\n",
    "            break\n",
    "\n",
    "    return ???"
   ]
  },
  {
   "cell_type": "code",
   "execution_count": 120,
   "id": "attached-tradition",
   "metadata": {
    "ExecuteTime": {
     "end_time": "2021-10-12T11:28:16.741151Z",
     "start_time": "2021-10-12T11:28:16.417443Z"
    }
   },
   "outputs": [
    {
     "data": {
      "text/html": [
       "<div>\n",
       "<style scoped>\n",
       "    .dataframe tbody tr th:only-of-type {\n",
       "        vertical-align: middle;\n",
       "    }\n",
       "\n",
       "    .dataframe tbody tr th {\n",
       "        vertical-align: top;\n",
       "    }\n",
       "\n",
       "    .dataframe thead th {\n",
       "        text-align: right;\n",
       "    }\n",
       "</style>\n",
       "<table border=\"1\" class=\"dataframe\">\n",
       "  <thead>\n",
       "    <tr style=\"text-align: right;\">\n",
       "      <th></th>\n",
       "      <th>English</th>\n",
       "      <th>GT (Hebrew)</th>\n",
       "      <th>Generated</th>\n",
       "    </tr>\n",
       "  </thead>\n",
       "  <tbody>\n",
       "    <tr>\n",
       "      <th>0</th>\n",
       "      <td>there used to be a bridge here .</td>\n",
       "      <td>בעבר היה כאן גשר .</td>\n",
       "      <td>היה שם גשר פה .</td>\n",
       "    </tr>\n",
       "    <tr>\n",
       "      <th>1</th>\n",
       "      <td>i like to sleep on a soft bed .</td>\n",
       "      <td>אני אוהב לישון על מיטה רכה .</td>\n",
       "      <td>אני אוהבת לישון על מיטה רכה .</td>\n",
       "    </tr>\n",
       "    <tr>\n",
       "      <th>2</th>\n",
       "      <td>i don t know if she wants to go with me .</td>\n",
       "      <td>אינני יודע אם היא רוצה לבוא איתי .</td>\n",
       "      <td>אני לא יודע אם היא רוצה לבוא איתי .</td>\n",
       "    </tr>\n",
       "    <tr>\n",
       "      <th>3</th>\n",
       "      <td>that sounds logical .</td>\n",
       "      <td>זה נשמע הגיוני .</td>\n",
       "      <td>זה נשמע הגיוני .</td>\n",
       "    </tr>\n",
       "    <tr>\n",
       "      <th>4</th>\n",
       "      <td>she is a nurse .</td>\n",
       "      <td>היא אחות רפואית .</td>\n",
       "      <td>היא אחות .</td>\n",
       "    </tr>\n",
       "  </tbody>\n",
       "</table>\n",
       "</div>"
      ],
      "text/plain": [
       "                                     English  \\\n",
       "0           there used to be a bridge here .   \n",
       "1            i like to sleep on a soft bed .   \n",
       "2  i don t know if she wants to go with me .   \n",
       "3                      that sounds logical .   \n",
       "4                           she is a nurse .   \n",
       "\n",
       "                          GT (Hebrew)                            Generated  \n",
       "0                  בעבר היה כאן גשר .                      היה שם גשר פה .  \n",
       "1        אני אוהב לישון על מיטה רכה .        אני אוהבת לישון על מיטה רכה .  \n",
       "2  אינני יודע אם היא רוצה לבוא איתי .  אני לא יודע אם היא רוצה לבוא איתי .  \n",
       "3                    זה נשמע הגיוני .                     זה נשמע הגיוני .  \n",
       "4                   היא אחות רפואית .                           היא אחות .  "
      ]
     },
     "execution_count": 120,
     "metadata": {},
     "output_type": "execute_result"
    }
   ],
   "source": [
    "dLang = pd.DataFrame(index=range(5), columns=['English', 'GT (Hebrew)', 'Generated'])\n",
    "\n",
    "for ii in range(5):\n",
    "    idx        = np.random.randint(nTest)\n",
    "    vEng, vHeb = oTestSet[idx]\n",
    "    vEng       = vEng.to(DEVICE)\n",
    "    with torch.no_grad():\n",
    "        vHebOut = Predict(oModel, vEng, bTop1=True)\n",
    "\n",
    "    sEng             = Tensor2Line(oEngVocab, vEng[1:-1])\n",
    "    sHeb             = Tensor2Line(oHebVocab, vHeb[1:-1])\n",
    "    sHebHat          = Tensor2Line(oHebVocab, vHebOut)\n",
    "    dLang.iloc[ii,:] = [sEng, sHeb, sHebHat]\n",
    "\n",
    "dLang"
   ]
  },
  {
   "cell_type": "code",
   "execution_count": 119,
   "id": "d56c42f8",
   "metadata": {
    "ExecuteTime": {
     "end_time": "2021-10-12T11:27:59.522013Z",
     "start_time": "2021-10-12T11:27:59.416006Z"
    }
   },
   "outputs": [
    {
     "data": {
      "text/plain": [
       "'כתוב כאן את השורה שלך !'"
      ]
     },
     "execution_count": 119,
     "metadata": {},
     "output_type": "execute_result"
    }
   ],
   "source": [
    "line = 'Write here your line!'\n",
    "line = NormalizeEnglish(line)\n",
    "vEng = Line2Tensor(oEngVocab, line).to(DEVICE)\n",
    "with torch.no_grad():\n",
    "    vHebOut = Predict(oModel, vEng, bTop1=True)\n",
    "    \n",
    "sHebPred = Tensor2Line(oHebVocab, vHebOut)    \n",
    "sHebPred"
   ]
  },
  {
   "cell_type": "code",
   "execution_count": null,
   "id": "9ab8d92f",
   "metadata": {},
   "outputs": [],
   "source": []
  },
  {
   "cell_type": "code",
   "execution_count": null,
   "id": "a9f1922c",
   "metadata": {},
   "outputs": [],
   "source": []
  },
  {
   "cell_type": "code",
   "execution_count": null,
   "id": "9b26ba83",
   "metadata": {},
   "outputs": [],
   "source": []
  },
  {
   "cell_type": "code",
   "execution_count": null,
   "id": "c0ef4c4b",
   "metadata": {},
   "outputs": [],
   "source": []
  },
  {
   "cell_type": "code",
   "execution_count": null,
   "id": "62d7e93b",
   "metadata": {},
   "outputs": [],
   "source": []
  },
  {
   "cell_type": "code",
   "execution_count": null,
   "id": "09053b16",
   "metadata": {},
   "outputs": [],
   "source": []
  },
  {
   "cell_type": "code",
   "execution_count": null,
   "id": "17401513",
   "metadata": {},
   "outputs": [],
   "source": []
  },
  {
   "cell_type": "code",
   "execution_count": null,
   "id": "78fcec16",
   "metadata": {},
   "outputs": [],
   "source": []
  },
  {
   "cell_type": "code",
   "execution_count": null,
   "id": "25ddb19b",
   "metadata": {},
   "outputs": [],
   "source": []
  },
  {
   "cell_type": "code",
   "execution_count": null,
   "id": "eeeccf76",
   "metadata": {},
   "outputs": [],
   "source": []
  },
  {
   "cell_type": "code",
   "execution_count": null,
   "id": "a9b50e14",
   "metadata": {},
   "outputs": [],
   "source": []
  },
  {
   "cell_type": "code",
   "execution_count": null,
   "id": "ee137d4e",
   "metadata": {},
   "outputs": [],
   "source": []
  },
  {
   "cell_type": "code",
   "execution_count": null,
   "id": "1d085b95",
   "metadata": {},
   "outputs": [],
   "source": []
  },
  {
   "cell_type": "code",
   "execution_count": null,
   "id": "dae91940",
   "metadata": {},
   "outputs": [],
   "source": []
  },
  {
   "cell_type": "code",
   "execution_count": null,
   "id": "02016039",
   "metadata": {},
   "outputs": [],
   "source": []
  },
  {
   "cell_type": "code",
   "execution_count": null,
   "id": "8b38438f",
   "metadata": {},
   "outputs": [],
   "source": []
  },
  {
   "cell_type": "code",
   "execution_count": null,
   "id": "8cdcd67c",
   "metadata": {},
   "outputs": [],
   "source": []
  },
  {
   "cell_type": "code",
   "execution_count": null,
   "id": "c7d74468",
   "metadata": {},
   "outputs": [],
   "source": []
  },
  {
   "cell_type": "code",
   "execution_count": null,
   "id": "780b5da4",
   "metadata": {},
   "outputs": [],
   "source": []
  },
  {
   "cell_type": "code",
   "execution_count": null,
   "id": "919b39da",
   "metadata": {},
   "outputs": [],
   "source": []
  },
  {
   "cell_type": "code",
   "execution_count": null,
   "id": "cb0896a5",
   "metadata": {},
   "outputs": [],
   "source": []
  },
  {
   "cell_type": "code",
   "execution_count": null,
   "id": "cbc25478",
   "metadata": {},
   "outputs": [],
   "source": []
  },
  {
   "cell_type": "code",
   "execution_count": null,
   "id": "5cbf2181",
   "metadata": {},
   "outputs": [],
   "source": []
  },
  {
   "cell_type": "code",
   "execution_count": null,
   "id": "42f93c88",
   "metadata": {},
   "outputs": [],
   "source": []
  },
  {
   "cell_type": "code",
   "execution_count": null,
   "id": "a9731694",
   "metadata": {},
   "outputs": [],
   "source": []
  },
  {
   "cell_type": "code",
   "execution_count": null,
   "id": "2965c139",
   "metadata": {},
   "outputs": [],
   "source": []
  },
  {
   "cell_type": "code",
   "execution_count": null,
   "id": "2dc1717a",
   "metadata": {},
   "outputs": [],
   "source": []
  },
  {
   "cell_type": "code",
   "execution_count": null,
   "id": "54eb1708",
   "metadata": {},
   "outputs": [],
   "source": []
  },
  {
   "cell_type": "code",
   "execution_count": null,
   "id": "37921ad1",
   "metadata": {},
   "outputs": [],
   "source": []
  },
  {
   "cell_type": "code",
   "execution_count": null,
   "id": "25d30b9b",
   "metadata": {},
   "outputs": [],
   "source": []
  },
  {
   "cell_type": "code",
   "execution_count": null,
   "id": "8522faaa",
   "metadata": {},
   "outputs": [],
   "source": []
  },
  {
   "cell_type": "code",
   "execution_count": null,
   "id": "ea9b474a",
   "metadata": {},
   "outputs": [],
   "source": []
  },
  {
   "cell_type": "code",
   "execution_count": null,
   "id": "216dc7d5",
   "metadata": {},
   "outputs": [],
   "source": []
  },
  {
   "cell_type": "code",
   "execution_count": null,
   "id": "94a635b5",
   "metadata": {},
   "outputs": [],
   "source": []
  },
  {
   "cell_type": "code",
   "execution_count": null,
   "id": "7017ce04",
   "metadata": {},
   "outputs": [],
   "source": []
  },
  {
   "cell_type": "code",
   "execution_count": null,
   "id": "642ebe77",
   "metadata": {},
   "outputs": [],
   "source": []
  },
  {
   "cell_type": "code",
   "execution_count": null,
   "id": "d0821be1",
   "metadata": {},
   "outputs": [],
   "source": []
  },
  {
   "cell_type": "code",
   "execution_count": null,
   "id": "f9ea4dca",
   "metadata": {},
   "outputs": [],
   "source": []
  },
  {
   "cell_type": "code",
   "execution_count": null,
   "id": "40e10b7f",
   "metadata": {},
   "outputs": [],
   "source": []
  },
  {
   "cell_type": "code",
   "execution_count": null,
   "id": "58882ab4",
   "metadata": {},
   "outputs": [],
   "source": []
  },
  {
   "cell_type": "code",
   "execution_count": null,
   "id": "652e519d",
   "metadata": {},
   "outputs": [],
   "source": []
  },
  {
   "cell_type": "code",
   "execution_count": null,
   "id": "f761af82",
   "metadata": {},
   "outputs": [],
   "source": []
  },
  {
   "cell_type": "code",
   "execution_count": null,
   "id": "a4af8727",
   "metadata": {},
   "outputs": [],
   "source": []
  },
  {
   "cell_type": "code",
   "execution_count": null,
   "id": "3ffa0475",
   "metadata": {},
   "outputs": [],
   "source": []
  },
  {
   "cell_type": "code",
   "execution_count": null,
   "id": "9d357f3e",
   "metadata": {},
   "outputs": [],
   "source": []
  },
  {
   "cell_type": "code",
   "execution_count": null,
   "id": "72dc0df6",
   "metadata": {},
   "outputs": [],
   "source": []
  },
  {
   "cell_type": "code",
   "execution_count": null,
   "id": "a44c1e7f",
   "metadata": {},
   "outputs": [],
   "source": [
    "# from torch.distributions.categorical import Categorical\n",
    "\n",
    "# def Predict(oModel, vX, bTop1=False):\n",
    "#     MAX_LENGTH = 16\n",
    "#     vY         = oVocabY['<PAD>'] * torch.ones(MAX_LENGTH, dtype=torch.int32, device=vX.device)\n",
    "#     vY[0]      = oVocabY['<SOS>']\n",
    "#     #-- Encode:\n",
    "#     mH, mMaskX = oModel.Encode(vX[None,:])\n",
    "\n",
    "#     for ii in range(1, MAX_LENGTH):\n",
    "#         #-- Decode:\n",
    "#         vZ = oModel.Decoce(mH, mMaskX, vY[None,:ii])[0,:,-1]\n",
    "        \n",
    "#         if bTop1 == True:\n",
    "#             y = vZ.argmax()\n",
    "#         else:\n",
    "#             y = Categorical(logits=vZ).sample()\n",
    "\n",
    "#         vY[ii] = y\n",
    "        \n",
    "#         if y == oVocabY['<EOS>']:\n",
    "#             break\n",
    "\n",
    "#     return vY[1:ii]"
   ]
  }
 ],
 "metadata": {
  "kernelspec": {
   "display_name": "Python 3",
   "language": "python",
   "name": "python3"
  },
  "language_info": {
   "codemirror_mode": {
    "name": "ipython",
    "version": 3
   },
   "file_extension": ".py",
   "mimetype": "text/x-python",
   "name": "python",
   "nbconvert_exporter": "python",
   "pygments_lexer": "ipython3",
   "version": "3.8.11"
  }
 },
 "nbformat": 4,
 "nbformat_minor": 5
}
