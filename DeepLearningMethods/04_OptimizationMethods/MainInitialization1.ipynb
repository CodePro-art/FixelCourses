{
 "cells": [
  {
   "cell_type": "markdown",
   "metadata": {},
   "source": [
    "![Fixel Algorithms](https://fixelalgorithms.co/images/CCExt.png)"
   ]
  },
  {
   "cell_type": "markdown",
   "metadata": {},
   "source": [
    "# <center> Deep Learning Methods </center>\n",
    "## <center> Lecture 4 - Deep Learning Basics</center>\n",
    "### <center> Data Pre-processing and Weights Initialization</center>"
   ]
  },
  {
   "cell_type": "markdown",
   "metadata": {},
   "source": [
    "[![Open In Colab](https://colab.research.google.com/assets/colab-badge.svg)](https://colab.research.google.com/github/FixelAlgorithmsTeam/FixelCourses/blob/master/DeepLearningMethods/04_OptimizationMethods/MainInitialization1.ipynb)"
   ]
  },
  {
   "cell_type": "code",
   "execution_count": 1,
   "metadata": {},
   "outputs": [
    {
     "data": {
      "text/html": [
       "<style>.container { width:80% !important; }</style>"
      ],
      "text/plain": [
       "<IPython.core.display.HTML object>"
      ]
     },
     "metadata": {},
     "output_type": "display_data"
    }
   ],
   "source": [
    "#-- Wide screen:\n",
    "from IPython.core.display import display, HTML\n",
    "display(HTML(\"<style>.container { width:80% !important; }</style>\"))"
   ]
  },
  {
   "cell_type": "code",
   "execution_count": 2,
   "metadata": {},
   "outputs": [],
   "source": [
    "import numpy             as np\n",
    "import matplotlib.pyplot as plt\n",
    "import matplotlib\n",
    "\n",
    "matplotlib.rc('font', **{'size' : 16})\n",
    "\n",
    "np.random.seed(1)"
   ]
  },
  {
   "cell_type": "markdown",
   "metadata": {},
   "source": [
    "###  What we have so far:\n",
    "This part will grow so we will move this to its own module"
   ]
  },
  {
   "cell_type": "code",
   "execution_count": 3,
   "metadata": {},
   "outputs": [],
   "source": [
    "class ReLULayer:\n",
    "    def __init__(self):\n",
    "        self.dGrads = {}\n",
    "\n",
    "    def Forward(self, mX):\n",
    "        self.mX = mX                 #-- store for Backward\n",
    "        mZ      = np.maximum(mX, 0)\n",
    "\n",
    "        return mZ\n",
    "\n",
    "    def Backward(self, mDz):\n",
    "        mX    = self.mX\n",
    "        mMask = (mX > 0).astype(float)\n",
    "\n",
    "        mDx   = mDz * mMask\n",
    "\n",
    "        return mDx\n",
    "\n",
    "#--------------------------------------------------------------------------------#\n",
    "#--------------------------------------------------------------------------------#\n",
    "def CrossEntropyLoss(vY, mZ):\n",
    "    '''\n",
    "    Returns both the loss and the gradient w.r.t the input (mZ)\n",
    "    '''\n",
    "    mHatY  = np.exp(mZ)\n",
    "    mHatY /= np.sum(mHatY, axis=0)\n",
    "    N      = len(vY)\n",
    "    loss   = -np.log(mHatY[vY,range(N)]).mean()\n",
    "\n",
    "    mDz               = mHatY\n",
    "    mDz[vY,range(N)] -= 1\n",
    "    mDz              /= N\n",
    "\n",
    "    return loss, mDz\n",
    "\n",
    "#--------------------------------------------------------------------------------#\n",
    "#--------------------------------------------------------------------------------#\n",
    "class Model:\n",
    "    def __init__(self, lLayers):\n",
    "        self.lLayers = lLayers\n",
    "\n",
    "    def Forward(self, mX):\n",
    "        for oLayer in self.lLayers:\n",
    "            mX = oLayer.Forward(mX)\n",
    "        return mX\n",
    "\n",
    "    def Backward(self, mDz):\n",
    "        for oLayer in reversed(self.lLayers):\n",
    "            mDz = oLayer.Backward(mDz)"
   ]
  },
  {
   "cell_type": "markdown",
   "metadata": {},
   "source": [
    "### Adding Kaiming initialization to the linear layer:"
   ]
  },
  {
   "cell_type": "code",
   "execution_count": 4,
   "metadata": {},
   "outputs": [],
   "source": [
    "class LinearLayer:\n",
    "    def __init__(self, dIn, dOut, init='Kaiming'):\n",
    "        if init == 'Kaiming':\n",
    "            mW = np.random.randn(dOut, dIn) * np.sqrt(2 / dIn)\n",
    "        elif init == 'Xavier':\n",
    "            mW = np.random.randn(dOut, dIn) * np.sqrt(1 / dIn)\n",
    "        else:\n",
    "            mW = np.random.randn(dOut, dIn) / dIn #-- this is how we initialize previously\n",
    "        vB = np.zeros(dOut)\n",
    "\n",
    "        self.dParams = {'mW' : mW, 'vB': vB}\n",
    "        self.dGrads  = {}\n",
    "\n",
    "    def Forward(self, mX):\n",
    "        mW      = self.dParams['mW']\n",
    "        vB      = self.dParams['vB']\n",
    "        self.mX = mX                   #-- store for Backward\n",
    "        mZ      = mW @ mX + vB[:,None]\n",
    "\n",
    "        return mZ\n",
    "\n",
    "    def Backward(self, mDz):\n",
    "        mW  = self.dParams['mW']\n",
    "\n",
    "        vDb = mDz.sum(axis=1)\n",
    "        mDw = mDz @ self.mX.T\n",
    "        mDx = mW.T @ mDz\n",
    "\n",
    "        self.dGrads['vB'] = vDb\n",
    "        self.dGrads['mW'] = mDw\n",
    "\n",
    "        return mDx\n"
   ]
  },
  {
   "cell_type": "markdown",
   "metadata": {},
   "source": [
    "### Get Fashion MNIST dataset"
   ]
  },
  {
   "cell_type": "code",
   "execution_count": 5,
   "metadata": {},
   "outputs": [
    {
     "data": {
      "text/plain": [
       "((60000, 784),\n",
       " (60000,),\n",
       " ['T-shirt/top',\n",
       "  'Trouser',\n",
       "  'Pullover',\n",
       "  'Dress',\n",
       "  'Coat',\n",
       "  'Sandal',\n",
       "  'Shirt',\n",
       "  'Sneaker',\n",
       "  'Bag',\n",
       "  'Ankle boot'])"
      ]
     },
     "execution_count": 5,
     "metadata": {},
     "output_type": "execute_result"
    }
   ],
   "source": [
    "import torchvision\n",
    "import torchvision.transforms as transforms\n",
    "\n",
    "#-- For now, we use PyTorch just to get the data:\n",
    "oTorchTrainSet = torchvision.datasets.FashionMNIST(root='./data', train=True,  download=True, transform=transforms.ToTensor())\n",
    "# oTorchTestSet  = torchvision.datasets.FashionMNIST(root='./data', train=False, download=True, transform=transforms.ToTensor())\n",
    "\n",
    "lClasses = oTorchTrainSet.classes\n",
    "mX       = oTorchTrainSet.data.view(-1,784).numpy() / 255\n",
    "vY       = oTorchTrainSet.targets.numpy()\n",
    "mX.shape, vY.shape, lClasses"
   ]
  },
  {
   "cell_type": "code",
   "execution_count": 6,
   "metadata": {},
   "outputs": [
    {
     "data": {
      "image/png": "[encoded data removed]",
      "text/plain": [
       "<Figure size 864x432 with 6 Axes>"
      ]
     },
     "metadata": {
      "needs_background": "light"
     },
     "output_type": "display_data"
    }
   ],
   "source": [
    "#-- Plot a few examples:\n",
    "N, d   = mX.shape\n",
    "fig, _ = plt.subplots(2, 3, figsize=(12,6))\n",
    "for ax in fig.axes:\n",
    "    idx = np.random.randint(0, N)\n",
    "    ax.imshow(np.reshape(mX[idx,:], (28, 28)), cmap='gray')\n",
    "    ax.set_title('True label: ' + str(lClasses[vY[idx]]))\n",
    "    \n",
    "plt.tight_layout()\n",
    "plt.show()"
   ]
  },
  {
   "cell_type": "markdown",
   "metadata": {},
   "source": [
    "###  Split to train and validation:"
   ]
  },
  {
   "cell_type": "code",
   "execution_count": 7,
   "metadata": {},
   "outputs": [
    {
     "data": {
      "text/plain": [
       "((55000, 784), (55000,), (5000, 784), (5000,))"
      ]
     },
     "execution_count": 7,
     "metadata": {},
     "output_type": "execute_result"
    }
   ],
   "source": [
    "from sklearn.model_selection import train_test_split\n",
    "\n",
    "Ntrain = 55000\n",
    "Nval   = 5000\n",
    "mTrainX, mValX, vTrainY, vValY = train_test_split(mX, vY, train_size=Ntrain, test_size=Nval)\n",
    "\n",
    "(mTrainX.shape, \n",
    "vTrainY.shape, \n",
    "mValX.shape,  \n",
    "vValY.shape)"
   ]
  },
  {
   "cell_type": "markdown",
   "metadata": {},
   "source": [
    "### Define the training loop:"
   ]
  },
  {
   "cell_type": "code",
   "execution_count": 8,
   "metadata": {},
   "outputs": [],
   "source": [
    "import time\n",
    "\n",
    "#-- Classification accuracy:\n",
    "def Accuracy(mHatY, vY):\n",
    "    vHatY    = np.argmax(mHatY, axis=0)\n",
    "    accuracy = (vHatY == vY).astype(float).mean()\n",
    "    return accuracy\n",
    "    \n",
    "#--------------------------------------------------------------------------------#\n",
    "#--------------------------------------------------------------------------------#\n",
    "def TrainLoop(oModel, mX, vY, learningRate):\n",
    "    #-- Forward:\n",
    "    mZ        = oModel.Forward(mX)\n",
    "    loss, mDz = CrossEntropyLoss(vY, mZ)\n",
    "\n",
    "    #-- Backward:\n",
    "    oModel.Backward(mDz)\n",
    "\n",
    "    #-- Update parameters (vanilla gradient descnet)\n",
    "    for oLayer in oModel.lLayers:\n",
    "        for sParam in oLayer.dGrads:\n",
    "            oLayer.dParams[sParam] -= learningRate * oLayer.dGrads[sParam]\n",
    "              \n",
    "    #-- Check accuracy:\n",
    "    acc = Accuracy(mZ, vY)\n",
    "            \n",
    "    return loss, acc\n",
    "\n",
    "#--------------------------------------------------------------------------------#\n",
    "#--------------------------------------------------------------------------------#\n",
    "def ValidationLoop(oModel, mX, vY):\n",
    "    #-- Forward:\n",
    "    mZ      = oModel.Forward(mX)\n",
    "    loss, _ = CrossEntropyLoss(vY, mZ)\n",
    "    acc     = Accuracy(mZ, vY)\n",
    "    \n",
    "    return loss, acc"
   ]
  },
  {
   "cell_type": "code",
   "execution_count": 9,
   "metadata": {},
   "outputs": [],
   "source": [
    "def TrainModel(oModel, mTrainX, vTrainY, mValX, vValY, numEpochs, learningRate):\n",
    "    lTrainLoss = []\n",
    "    lValLoss   = []\n",
    "    lTrainAcc  = []\n",
    "    lValAcc    = []\n",
    "    for epoch in range(numEpochs):\n",
    "        startTime           = time.time()\n",
    "        #-- Train:\n",
    "        trainLoss, trainAcc = TrainLoop(oModel, mTrainX, vTrainY, learningRate)\n",
    "        #-- Validation:\n",
    "        valLoss,   valAcc   = ValidationLoop(oModel, mValX, vValY)\n",
    "        endTime             = time.time()\n",
    "\n",
    "        #-- Display:\n",
    "        print('Epoch '              f'{epoch:3d}:',     end='')\n",
    "        print(' | Train loss: '     f'{trainLoss:.5f}', end='')\n",
    "        print(' | Val loss: '       f'{valLoss:.5f}',   end='')\n",
    "        print(' | Train Accuracy: ' f'{trainAcc:2.4f}', end='')\n",
    "        print(' | Val Accuracy: '   f'{valAcc:2.4f}',   end='')\n",
    "        print(' | epoch time: '     f'{(endTime-startTime):3.3f} |')\n",
    "        \n",
    "        lTrainLoss.append(trainLoss)\n",
    "        lValLoss.append(valLoss)\n",
    "        lTrainAcc.append(trainAcc)\n",
    "        lValAcc.append(valAcc)\n",
    "    \n",
    "    return lTrainLoss, lValLoss, lTrainAcc, lValAcc\n"
   ]
  },
  {
   "cell_type": "markdown",
   "metadata": {},
   "source": [
    "### Train *without* normalizing and initialization:"
   ]
  },
  {
   "cell_type": "code",
   "execution_count": 10,
   "metadata": {},
   "outputs": [
    {
     "name": "stdout",
     "output_type": "stream",
     "text": [
      "Epoch   0: | Train loss: 2.30268 | Val loss: 2.30133 | Train Accuracy: 0.1134 | Val Accuracy: 0.2036 | epoch time: 0.857 |\n",
      "Epoch   1: | Train loss: 2.30131 | Val loss: 2.29998 | Train Accuracy: 0.2073 | Val Accuracy: 0.2800 | epoch time: 0.831 |\n",
      "Epoch   2: | Train loss: 2.29995 | Val loss: 2.29832 | Train Accuracy: 0.2801 | Val Accuracy: 0.3558 | epoch time: 0.875 |\n",
      "Epoch   3: | Train loss: 2.29828 | Val loss: 2.29621 | Train Accuracy: 0.3593 | Val Accuracy: 0.3756 | epoch time: 0.840 |\n",
      "Epoch   4: | Train loss: 2.29616 | Val loss: 2.29341 | Train Accuracy: 0.3848 | Val Accuracy: 0.3976 | epoch time: 0.827 |\n",
      "Epoch   5: | Train loss: 2.29333 | Val loss: 2.28962 | Train Accuracy: 0.4091 | Val Accuracy: 0.3930 | epoch time: 0.841 |\n",
      "Epoch   6: | Train loss: 2.28952 | Val loss: 2.28447 | Train Accuracy: 0.4045 | Val Accuracy: 0.3962 | epoch time: 0.833 |\n",
      "Epoch   7: | Train loss: 2.28432 | Val loss: 2.27743 | Train Accuracy: 0.4017 | Val Accuracy: 0.3808 | epoch time: 0.937 |\n",
      "Epoch   8: | Train loss: 2.27722 | Val loss: 2.26784 | Train Accuracy: 0.3876 | Val Accuracy: 0.3686 | epoch time: 0.833 |\n",
      "Epoch   9: | Train loss: 2.26755 | Val loss: 2.25490 | Train Accuracy: 0.3695 | Val Accuracy: 0.3450 | epoch time: 0.847 |\n",
      "Epoch  10: | Train loss: 2.25449 | Val loss: 2.23772 | Train Accuracy: 0.3448 | Val Accuracy: 0.3396 | epoch time: 0.812 |\n",
      "Epoch  11: | Train loss: 2.23715 | Val loss: 2.21545 | Train Accuracy: 0.3381 | Val Accuracy: 0.3226 | epoch time: 0.851 |\n",
      "Epoch  12: | Train loss: 2.21469 | Val loss: 2.18745 | Train Accuracy: 0.3239 | Val Accuracy: 0.3182 | epoch time: 0.962 |\n",
      "Epoch  13: | Train loss: 2.18644 | Val loss: 2.15337 | Train Accuracy: 0.3122 | Val Accuracy: 0.3242 | epoch time: 0.934 |\n",
      "Epoch  14: | Train loss: 2.15210 | Val loss: 2.11317 | Train Accuracy: 0.3175 | Val Accuracy: 0.3378 | epoch time: 1.062 |\n",
      "Epoch  15: | Train loss: 2.11164 | Val loss: 2.06697 | Train Accuracy: 0.3302 | Val Accuracy: 0.3508 | epoch time: 1.008 |\n",
      "Epoch  16: | Train loss: 2.06523 | Val loss: 2.01509 | Train Accuracy: 0.3487 | Val Accuracy: 0.3734 | epoch time: 1.113 |\n",
      "Epoch  17: | Train loss: 2.01321 | Val loss: 1.95842 | Train Accuracy: 0.3754 | Val Accuracy: 0.3968 | epoch time: 0.932 |\n",
      "Epoch  18: | Train loss: 1.95649 | Val loss: 1.89856 | Train Accuracy: 0.3932 | Val Accuracy: 0.4030 | epoch time: 0.985 |\n",
      "Epoch  19: | Train loss: 1.89668 | Val loss: 1.83780 | Train Accuracy: 0.4010 | Val Accuracy: 0.4048 | epoch time: 0.927 |\n",
      "Epoch  20: | Train loss: 1.83601 | Val loss: 1.77844 | Train Accuracy: 0.4039 | Val Accuracy: 0.4046 | epoch time: 0.900 |\n",
      "Epoch  21: | Train loss: 1.77676 | Val loss: 1.72216 | Train Accuracy: 0.4058 | Val Accuracy: 0.4124 | epoch time: 1.002 |\n",
      "Epoch  22: | Train loss: 1.72053 | Val loss: 1.66956 | Train Accuracy: 0.4109 | Val Accuracy: 0.4194 | epoch time: 1.036 |\n",
      "Epoch  23: | Train loss: 1.66794 | Val loss: 1.62075 | Train Accuracy: 0.4182 | Val Accuracy: 0.4276 | epoch time: 1.046 |\n",
      "Epoch  24: | Train loss: 1.61911 | Val loss: 1.57565 | Train Accuracy: 0.4280 | Val Accuracy: 0.4392 | epoch time: 1.111 |\n",
      "Epoch  25: | Train loss: 1.57395 | Val loss: 1.53402 | Train Accuracy: 0.4406 | Val Accuracy: 0.4742 | epoch time: 1.027 |\n",
      "Epoch  26: | Train loss: 1.53225 | Val loss: 1.49557 | Train Accuracy: 0.4734 | Val Accuracy: 0.5062 | epoch time: 0.999 |\n",
      "Epoch  27: | Train loss: 1.49370 | Val loss: 1.45993 | Train Accuracy: 0.5065 | Val Accuracy: 0.5264 | epoch time: 1.038 |\n",
      "Epoch  28: | Train loss: 1.45796 | Val loss: 1.42677 | Train Accuracy: 0.5263 | Val Accuracy: 0.5412 | epoch time: 1.069 |\n",
      "Epoch  29: | Train loss: 1.42467 | Val loss: 1.39574 | Train Accuracy: 0.5396 | Val Accuracy: 0.5506 | epoch time: 1.019 |\n"
     ]
    }
   ],
   "source": [
    "oModel = Model([\n",
    "        LinearLayer(784, 200, []),\n",
    "        ReLULayer(),\n",
    "        LinearLayer(200, 10, []),\n",
    "])\n",
    "\n",
    "_, lValLossV1, _, lValAccV1 = TrainModel(oModel, mTrainX.T, vTrainY, mValX.T, vValY, 30, 2e-1)"
   ]
  },
  {
   "cell_type": "markdown",
   "metadata": {},
   "source": [
    "###  Normalize data:"
   ]
  },
  {
   "cell_type": "code",
   "execution_count": 11,
   "metadata": {},
   "outputs": [],
   "source": [
    "vMean = np.mean(mX, axis=0)\n",
    "vStd  = np.std(mX, axis=0)\n",
    "mX    = (mX - vMean) / vStd"
   ]
  },
  {
   "cell_type": "markdown",
   "metadata": {},
   "source": [
    "### Train *with* normalizing and initialization:"
   ]
  },
  {
   "cell_type": "code",
   "execution_count": 12,
   "metadata": {},
   "outputs": [
    {
     "name": "stdout",
     "output_type": "stream",
     "text": [
      "Epoch   0: | Train loss: 2.28628 | Val loss: 2.10706 | Train Accuracy: 0.1667 | Val Accuracy: 0.2042 | epoch time: 0.852 |\n",
      "Epoch   1: | Train loss: 2.10462 | Val loss: 1.98652 | Train Accuracy: 0.2105 | Val Accuracy: 0.3130 | epoch time: 0.885 |\n",
      "Epoch   2: | Train loss: 1.98424 | Val loss: 1.88864 | Train Accuracy: 0.3135 | Val Accuracy: 0.4434 | epoch time: 0.897 |\n",
      "Epoch   3: | Train loss: 1.88624 | Val loss: 1.80374 | Train Accuracy: 0.4411 | Val Accuracy: 0.5098 | epoch time: 0.916 |\n",
      "Epoch   4: | Train loss: 1.80116 | Val loss: 1.72849 | Train Accuracy: 0.5072 | Val Accuracy: 0.5442 | epoch time: 0.824 |\n",
      "Epoch   5: | Train loss: 1.72561 | Val loss: 1.66108 | Train Accuracy: 0.5415 | Val Accuracy: 0.5632 | epoch time: 0.914 |\n",
      "Epoch   6: | Train loss: 1.65802 | Val loss: 1.60041 | Train Accuracy: 0.5651 | Val Accuracy: 0.5792 | epoch time: 0.965 |\n",
      "Epoch   7: | Train loss: 1.59721 | Val loss: 1.54560 | Train Accuracy: 0.5829 | Val Accuracy: 0.5936 | epoch time: 0.912 |\n",
      "Epoch   8: | Train loss: 1.54227 | Val loss: 1.49592 | Train Accuracy: 0.5953 | Val Accuracy: 0.6032 | epoch time: 0.870 |\n",
      "Epoch   9: | Train loss: 1.49249 | Val loss: 1.45076 | Train Accuracy: 0.6059 | Val Accuracy: 0.6138 | epoch time: 0.867 |\n",
      "Epoch  10: | Train loss: 1.44726 | Val loss: 1.40963 | Train Accuracy: 0.6137 | Val Accuracy: 0.6196 | epoch time: 0.861 |\n",
      "Epoch  11: | Train loss: 1.40606 | Val loss: 1.37205 | Train Accuracy: 0.6204 | Val Accuracy: 0.6264 | epoch time: 0.850 |\n",
      "Epoch  12: | Train loss: 1.36845 | Val loss: 1.33767 | Train Accuracy: 0.6267 | Val Accuracy: 0.6306 | epoch time: 0.834 |\n",
      "Epoch  13: | Train loss: 1.33404 | Val loss: 1.30612 | Train Accuracy: 0.6323 | Val Accuracy: 0.6352 | epoch time: 0.898 |\n",
      "Epoch  14: | Train loss: 1.30246 | Val loss: 1.27707 | Train Accuracy: 0.6370 | Val Accuracy: 0.6390 | epoch time: 0.911 |\n",
      "Epoch  15: | Train loss: 1.27340 | Val loss: 1.25026 | Train Accuracy: 0.6419 | Val Accuracy: 0.6454 | epoch time: 0.835 |\n",
      "Epoch  16: | Train loss: 1.24661 | Val loss: 1.22548 | Train Accuracy: 0.6453 | Val Accuracy: 0.6518 | epoch time: 0.858 |\n",
      "Epoch  17: | Train loss: 1.22184 | Val loss: 1.20249 | Train Accuracy: 0.6491 | Val Accuracy: 0.6536 | epoch time: 0.899 |\n",
      "Epoch  18: | Train loss: 1.19887 | Val loss: 1.18114 | Train Accuracy: 0.6535 | Val Accuracy: 0.6588 | epoch time: 0.853 |\n",
      "Epoch  19: | Train loss: 1.17750 | Val loss: 1.16124 | Train Accuracy: 0.6570 | Val Accuracy: 0.6618 | epoch time: 0.865 |\n",
      "Epoch  20: | Train loss: 1.15759 | Val loss: 1.14265 | Train Accuracy: 0.6603 | Val Accuracy: 0.6642 | epoch time: 0.844 |\n",
      "Epoch  21: | Train loss: 1.13898 | Val loss: 1.12525 | Train Accuracy: 0.6637 | Val Accuracy: 0.6664 | epoch time: 0.886 |\n",
      "Epoch  22: | Train loss: 1.12155 | Val loss: 1.10892 | Train Accuracy: 0.6671 | Val Accuracy: 0.6722 | epoch time: 0.944 |\n",
      "Epoch  23: | Train loss: 1.10519 | Val loss: 1.09355 | Train Accuracy: 0.6700 | Val Accuracy: 0.6762 | epoch time: 0.872 |\n",
      "Epoch  24: | Train loss: 1.08981 | Val loss: 1.07907 | Train Accuracy: 0.6727 | Val Accuracy: 0.6776 | epoch time: 0.956 |\n",
      "Epoch  25: | Train loss: 1.07531 | Val loss: 1.06541 | Train Accuracy: 0.6752 | Val Accuracy: 0.6798 | epoch time: 0.890 |\n",
      "Epoch  26: | Train loss: 1.06162 | Val loss: 1.05249 | Train Accuracy: 0.6779 | Val Accuracy: 0.6814 | epoch time: 0.854 |\n",
      "Epoch  27: | Train loss: 1.04868 | Val loss: 1.04025 | Train Accuracy: 0.6802 | Val Accuracy: 0.6846 | epoch time: 0.874 |\n",
      "Epoch  28: | Train loss: 1.03642 | Val loss: 1.02864 | Train Accuracy: 0.6826 | Val Accuracy: 0.6870 | epoch time: 0.865 |\n",
      "Epoch  29: | Train loss: 1.02479 | Val loss: 1.01761 | Train Accuracy: 0.6848 | Val Accuracy: 0.6894 | epoch time: 0.873 |\n"
     ]
    }
   ],
   "source": [
    "oModel = Model([\n",
    "        LinearLayer(784, 200, init='Kaiming'),\n",
    "        ReLULayer(),\n",
    "        LinearLayer(200, 10,  init='Kaiming'),\n",
    "])\n",
    "\n",
    "_, lValLossV2, _, lValAccV2 = TrainModel(oModel, mTrainX.T, vTrainY, mValX.T, vValY, 30, 5e-2)"
   ]
  },
  {
   "cell_type": "markdown",
   "metadata": {},
   "source": [
    "### Compare the two configurations:"
   ]
  },
  {
   "cell_type": "code",
   "execution_count": 15,
   "metadata": {},
   "outputs": [
    {
     "data": {
      "image/png": "[encoded data removed]",
      "text/plain": [
       "<Figure size 1008x432 with 2 Axes>"
      ]
     },
     "metadata": {
      "needs_background": "light"
     },
     "output_type": "display_data"
    }
   ],
   "source": [
    "plt.figure(figsize=(14,6))\n",
    "plt.subplot(1,2,1)\n",
    "plt.plot(lValLossV1, 'b', label='without normalization and initialization')\n",
    "plt.plot(lValLossV2, 'r', label='with normalization and initialization')\n",
    "plt.legend()\n",
    "plt.xlabel('Epoch')\n",
    "plt.title('Validation loss')\n",
    "\n",
    "plt.subplot(1,2,2)\n",
    "plt.plot(lValAccV1, 'b', label='without normalization and initialization')\n",
    "plt.plot(lValAccV2, 'r', label='with normalization and initialization')\n",
    "plt.legend()\n",
    "plt.xlabel('Epoch')\n",
    "plt.title('Validation accuracy')\n",
    "\n",
    "plt.tight_layout()\n",
    "plt.show()"
   ]
  }
 ],
 "metadata": {
  "kernelspec": {
   "display_name": "Python 3",
   "language": "python",
   "name": "python3"
  },
  "language_info": {
   "codemirror_mode": {
    "name": "ipython",
    "version": 3
   },
   "file_extension": ".py",
   "mimetype": "text/x-python",
   "name": "python",
   "nbconvert_exporter": "python",
   "pygments_lexer": "ipython3",
   "version": "3.7.6"
  },
  "toc": {
   "base_numbering": 1,
   "nav_menu": {},
   "number_sections": false,
   "sideBar": true,
   "skip_h1_title": false,
   "title_cell": "Table of Contents",
   "title_sidebar": "Contents",
   "toc_cell": false,
   "toc_position": {},
   "toc_section_display": true,
   "toc_window_display": false
  },
  "varInspector": {
   "cols": {
    "lenName": 16,
    "lenType": 16,
    "lenVar": 40
   },
   "kernels_config": {
    "python": {
     "delete_cmd_postfix": "",
     "delete_cmd_prefix": "del ",
     "library": "var_list.py",
     "varRefreshCmd": "print(var_dic_list())"
    },
    "r": {
     "delete_cmd_postfix": ") ",
     "delete_cmd_prefix": "rm(",
     "library": "var_list.r",
     "varRefreshCmd": "cat(var_dic_list()) "
    }
   },
   "types_to_exclude": [
    "module",
    "function",
    "builtin_function_or_method",
    "instance",
    "_Feature"
   ],
   "window_display": false
  }
 },
 "nbformat": 4,
 "nbformat_minor": 4
}
