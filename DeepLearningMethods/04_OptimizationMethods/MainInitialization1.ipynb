{
 "cells": [
  {
   "cell_type": "markdown",
   "metadata": {},
   "source": [
    "![Fixel Algorithms](https://fixelalgorithms.co/images/CCExt.png)"
   ]
  },
  {
   "cell_type": "markdown",
   "metadata": {},
   "source": [
    "# <center> Deep Learning Methods </center>\n",
    "## <center> Lecture 4 - Deep Learning Basics</center>\n",
    "### <center> Data Pre-processing and Weights Initialization</center>"
   ]
  },
  {
   "cell_type": "markdown",
   "metadata": {},
   "source": [
    "[![Open In Colab](https://colab.research.google.com/assets/colab-badge.svg)](https://colab.research.google.com/github/FixelAlgorithmsTeam/FixelCourses/blob/master/DeepLearningMethods/04_OptimizationMethods/MainInitialization1.ipynb)"
   ]
  },
  {
   "cell_type": "code",
   "execution_count": 1,
   "metadata": {},
   "outputs": [
    {
     "data": {
      "text/html": [
       "<style>.container { width:80% !important; }</style>"
      ],
      "text/plain": [
       "<IPython.core.display.HTML object>"
      ]
     },
     "metadata": {},
     "output_type": "display_data"
    }
   ],
   "source": [
    "#-- Wide screen:\n",
    "from IPython.core.display import display, HTML\n",
    "display(HTML(\"<style>.container { width:80% !important; }</style>\"))"
   ]
  },
  {
   "cell_type": "code",
   "execution_count": 2,
   "metadata": {},
   "outputs": [],
   "source": [
    "import numpy             as np\n",
    "import matplotlib.pyplot as plt\n",
    "import matplotlib\n",
    "\n",
    "matplotlib.rc('font', **{'size' : 16})\n",
    "\n",
    "np.random.seed(1)"
   ]
  },
  {
   "cell_type": "markdown",
   "metadata": {},
   "source": [
    "###  What we have so far:"
   ]
  },
  {
   "cell_type": "code",
   "execution_count": 3,
   "metadata": {},
   "outputs": [],
   "source": [
    "class ReLULayer:\n",
    "    def __init__(self):\n",
    "        self.dGrads = {}\n",
    "\n",
    "    def Forward(self, mX):\n",
    "        self.mX = mX                 #-- store for Backward\n",
    "        mZ      = np.maximum(mX, 0)\n",
    "\n",
    "        return mZ\n",
    "\n",
    "    def Backward(self, mDz):\n",
    "        mX    = self.mX\n",
    "        mMask = (mX > 0).astype(float)\n",
    "\n",
    "        mDx   = mDz * mMask\n",
    "\n",
    "        return mDx\n",
    "\n",
    "#--------------------------------------------------------------------------------#\n",
    "#--------------------------------------------------------------------------------#\n",
    "def CrossEntropyLoss(vY, mZ):\n",
    "    '''\n",
    "    Returns both the loss and the gradient w.r.t the input (mZ)\n",
    "    '''\n",
    "    mHatY  = np.exp(mZ)\n",
    "    mHatY /= np.sum(mHatY, axis=0)\n",
    "    N      = len(vY)\n",
    "    loss   = -np.log(mHatY[vY,range(N)]).mean()\n",
    "\n",
    "    mDz               = mHatY\n",
    "    mDz[vY,range(N)] -= 1\n",
    "    mDz              /= N\n",
    "\n",
    "    return loss, mDz\n",
    "\n",
    "#--------------------------------------------------------------------------------#\n",
    "#--------------------------------------------------------------------------------#\n",
    "class Model:\n",
    "    def __init__(self, lLayers):\n",
    "        self.lLayers = lLayers\n",
    "\n",
    "    def Forward(self, mX):\n",
    "        for oLayer in self.lLayers:\n",
    "            mX = oLayer.Forward(mX)\n",
    "        return mX\n",
    "\n",
    "    def Backward(self, mDz):\n",
    "        for oLayer in reversed(self.lLayers):\n",
    "            mDz = oLayer.Backward(mDz)"
   ]
  },
  {
   "cell_type": "markdown",
   "metadata": {},
   "source": [
    "### Adding Kaiming initialization to the linear layer:"
   ]
  },
  {
   "cell_type": "code",
   "execution_count": 4,
   "metadata": {},
   "outputs": [],
   "source": [
    "class LinearLayer:\n",
    "    def __init__(self, dIn, dOut, init='Kaiming'):\n",
    "        if init == 'Kaiming':\n",
    "            mW = np.random.randn(dOut, dIn) * np.sqrt(2 / dIn)\n",
    "        elif init == 'Xavier':\n",
    "            mW = np.random.randn(dOut, dIn) * np.sqrt(1 / dIn)\n",
    "        else:\n",
    "            mW = np.random.randn(dOut, dIn) / dIn #-- this is how we initialize previously\n",
    "        vB = np.zeros(dOut)\n",
    "\n",
    "        self.dParams = {'mW' : mW, 'vB': vB}\n",
    "        self.dGrads  = {}\n",
    "\n",
    "    def Forward(self, mX):\n",
    "        mW      = self.dParams['mW']\n",
    "        vB      = self.dParams['vB']\n",
    "        self.mX = mX                   #-- store for Backward\n",
    "        mZ      = mW @ mX + vB[:,None]\n",
    "\n",
    "        return mZ\n",
    "\n",
    "    def Backward(self, mDz):\n",
    "        mW  = self.dParams['mW']\n",
    "\n",
    "        vDb = mDz.sum(axis=1)\n",
    "        mDw = mDz @ self.mX.T\n",
    "        mDx = mW.T @ mDz\n",
    "\n",
    "        self.dGrads['vB'] = vDb\n",
    "        self.dGrads['mW'] = mDw\n",
    "\n",
    "        return mDx\n"
   ]
  },
  {
   "cell_type": "markdown",
   "metadata": {},
   "source": [
    "### Get Fashion MNIST dataset"
   ]
  },
  {
   "cell_type": "code",
   "execution_count": 5,
   "metadata": {},
   "outputs": [
    {
     "data": {
      "text/plain": [
       "((60000, 784),\n",
       " (60000,),\n",
       " ['T-shirt/top',\n",
       "  'Trouser',\n",
       "  'Pullover',\n",
       "  'Dress',\n",
       "  'Coat',\n",
       "  'Sandal',\n",
       "  'Shirt',\n",
       "  'Sneaker',\n",
       "  'Bag',\n",
       "  'Ankle boot'])"
      ]
     },
     "execution_count": 5,
     "metadata": {},
     "output_type": "execute_result"
    }
   ],
   "source": [
    "import torchvision\n",
    "import torchvision.transforms as transforms\n",
    "\n",
    "oTorchTrainSet = torchvision.datasets.FashionMNIST(root='./data', train=True,  download=True, transform=transforms.ToTensor())\n",
    "# oTorchTestSet  = torchvision.datasets.FashionMNIST(root='./data', train=False, download=True, transform=transforms.ToTensor())\n",
    "\n",
    "lClasses = oTorchTrainSet.classes\n",
    "mX       = oTorchTrainSet.data.view(-1,784).numpy() / 255\n",
    "vY       = oTorchTrainSet.targets.numpy()\n",
    "mX.shape, vY.shape, lClasses"
   ]
  },
  {
   "cell_type": "code",
   "execution_count": 8,
   "metadata": {},
   "outputs": [
    {
     "data": {
      "image/png": "[encoded data removed]",
      "text/plain": [
       "<Figure size 864x432 with 6 Axes>"
      ]
     },
     "metadata": {
      "needs_background": "light"
     },
     "output_type": "display_data"
    }
   ],
   "source": [
    "#-- Plot a few examples:\n",
    "N, d   = mX.shape\n",
    "fig, _ = plt.subplots(2, 3, figsize=(12,6))\n",
    "for ax in fig.axes:\n",
    "    idx = np.random.randint(0, N)\n",
    "    ax.imshow(np.reshape(mX[idx,:], (28, 28)), cmap='gray')\n",
    "    ax.set_title('True label: ' + str(lClasses[vY[idx]]))\n",
    "    \n",
    "plt.tight_layout()\n",
    "plt.show()"
   ]
  },
  {
   "cell_type": "markdown",
   "metadata": {},
   "source": [
    "###  Split to train and validation:"
   ]
  },
  {
   "cell_type": "code",
   "execution_count": 9,
   "metadata": {},
   "outputs": [
    {
     "data": {
      "text/plain": [
       "((55000, 784), (55000,), (5000, 784), (5000,))"
      ]
     },
     "execution_count": 9,
     "metadata": {},
     "output_type": "execute_result"
    }
   ],
   "source": [
    "from sklearn.model_selection import train_test_split\n",
    "\n",
    "Ntrain = 55000\n",
    "Nval   = 5000\n",
    "mTrainX, mValX, vTrainY, vValY = train_test_split(mX, vY, train_size=Ntrain, test_size=Nval)\n",
    "\n",
    "(mTrainX.shape, \n",
    "vTrainY.shape, \n",
    "mValX.shape,  \n",
    "vValY.shape)"
   ]
  },
  {
   "cell_type": "markdown",
   "metadata": {},
   "source": [
    "### Define the training loop:"
   ]
  },
  {
   "cell_type": "code",
   "execution_count": 10,
   "metadata": {},
   "outputs": [],
   "source": [
    "import time\n",
    "\n",
    "def Accuracy(mHatY, vY):\n",
    "    vHatY    = np.argmax(mHatY, axis=0)\n",
    "    accuracy = (vHatY == vY).astype(float).mean()\n",
    "    return accuracy\n",
    "    \n",
    "def TrainLoop(oModel, mX, vY, learningRate):\n",
    "    #-- Forward:\n",
    "    mZ        = oModel.Forward(mX)\n",
    "    loss, mDz = CrossEntropyLoss(vY, mZ)\n",
    "\n",
    "    #-- Backward:\n",
    "    oModel.Backward(mDz)\n",
    "\n",
    "    #-- Update parameters (vanilla gradient descnet)\n",
    "    for oLayer in oModel.lLayers:\n",
    "        for sParam in oLayer.dGrads:\n",
    "            oLayer.dParams[sParam] -= learningRate * oLayer.dGrads[sParam]\n",
    "                \n",
    "    acc = Accuracy(mZ, vY)\n",
    "            \n",
    "    return loss, acc\n",
    "\n",
    "def ValidationLoop(oModel, mX, vY):\n",
    "    #-- Forward:\n",
    "    mZ      = oModel.Forward(mX)\n",
    "    loss, _ = CrossEntropyLoss(vY, mZ)\n",
    "    acc     = Accuracy(mZ, vY)\n",
    "    \n",
    "    return loss, acc"
   ]
  },
  {
   "cell_type": "code",
   "execution_count": 11,
   "metadata": {},
   "outputs": [],
   "source": [
    "def TrainModel(oModel, mTrainX, vTrainY, mValX, vValY, numEpochs, learningRate):\n",
    "    lTrainLoss = []\n",
    "    lValLoss   = []\n",
    "    lTrainAcc  = []\n",
    "    lValAcc    = []\n",
    "    for epoch in range(numEpochs):\n",
    "        startTime           = time.time()\n",
    "        #-- Train:\n",
    "        trainLoss, trainAcc = TrainLoop(oModel, mTrainX, vTrainY, learningRate)\n",
    "        #-- Validation:\n",
    "        valLoss,   valAcc   = ValidationLoop(oModel, mValX, vValY)\n",
    "        endTime             = time.time()\n",
    "\n",
    "        print('Epoch '              f'{epoch:3d}:',     end='')\n",
    "        print(' | Train loss: '     f'{trainLoss:.5f}', end='')\n",
    "        print(' | Val loss: '       f'{valLoss:.5f}',   end='')\n",
    "        print(' | Train Accuracy: ' f'{trainAcc:2.4f}', end='')\n",
    "        print(' | Val Accuracy: '   f'{valAcc:2.4f}',   end='')\n",
    "        print(' | epoch time: '     f'{(endTime-startTime):3.3f} |')\n",
    "        \n",
    "        lTrainLoss.append(trainLoss)\n",
    "        lValLoss.append(valLoss)\n",
    "        lTrainAcc.append(trainAcc)\n",
    "        lValAcc.append(valAcc)\n",
    "    \n",
    "    return lTrainLoss, lValLoss, lTrainAcc, lValAcc\n"
   ]
  },
  {
   "cell_type": "markdown",
   "metadata": {},
   "source": [
    "### Train without normalizing and initialization:"
   ]
  },
  {
   "cell_type": "code",
   "execution_count": 12,
   "metadata": {},
   "outputs": [
    {
     "name": "stdout",
     "output_type": "stream",
     "text": [
      "Epoch   0: | Train loss: 2.30246 | Val loss: 2.30118 | Train Accuracy: 0.1417 | Val Accuracy: 0.2620 | epoch time: 0.887 |\n",
      "Epoch   1: | Train loss: 2.30120 | Val loss: 2.29986 | Train Accuracy: 0.2621 | Val Accuracy: 0.3414 | epoch time: 0.914 |\n",
      "Epoch   2: | Train loss: 2.29989 | Val loss: 2.29824 | Train Accuracy: 0.3399 | Val Accuracy: 0.3874 | epoch time: 0.889 |\n",
      "Epoch   3: | Train loss: 2.29828 | Val loss: 2.29617 | Train Accuracy: 0.3833 | Val Accuracy: 0.3878 | epoch time: 1.006 |\n",
      "Epoch   4: | Train loss: 2.29623 | Val loss: 2.29347 | Train Accuracy: 0.3887 | Val Accuracy: 0.3908 | epoch time: 0.821 |\n",
      "Epoch   5: | Train loss: 2.29356 | Val loss: 2.28988 | Train Accuracy: 0.3887 | Val Accuracy: 0.3780 | epoch time: 0.910 |\n",
      "Epoch   6: | Train loss: 2.29001 | Val loss: 2.28503 | Train Accuracy: 0.3805 | Val Accuracy: 0.3690 | epoch time: 0.868 |\n",
      "Epoch   7: | Train loss: 2.28522 | Val loss: 2.27846 | Train Accuracy: 0.3731 | Val Accuracy: 0.3538 | epoch time: 0.839 |\n",
      "Epoch   8: | Train loss: 2.27872 | Val loss: 2.26954 | Train Accuracy: 0.3573 | Val Accuracy: 0.3386 | epoch time: 0.829 |\n",
      "Epoch   9: | Train loss: 2.26990 | Val loss: 2.25750 | Train Accuracy: 0.3390 | Val Accuracy: 0.3138 | epoch time: 0.879 |\n",
      "Epoch  10: | Train loss: 2.25801 | Val loss: 2.24149 | Train Accuracy: 0.3162 | Val Accuracy: 0.2840 | epoch time: 0.874 |\n",
      "Epoch  11: | Train loss: 2.24217 | Val loss: 2.22060 | Train Accuracy: 0.2866 | Val Accuracy: 0.2466 | epoch time: 0.833 |\n",
      "Epoch  12: | Train loss: 2.22150 | Val loss: 2.19403 | Train Accuracy: 0.2474 | Val Accuracy: 0.2372 | epoch time: 0.918 |\n",
      "Epoch  13: | Train loss: 2.19516 | Val loss: 2.16120 | Train Accuracy: 0.2396 | Val Accuracy: 0.2434 | epoch time: 0.858 |\n",
      "Epoch  14: | Train loss: 2.16254 | Val loss: 2.12180 | Train Accuracy: 0.2473 | Val Accuracy: 0.2648 | epoch time: 0.870 |\n",
      "Epoch  15: | Train loss: 2.12333 | Val loss: 2.07585 | Train Accuracy: 0.2660 | Val Accuracy: 0.2908 | epoch time: 0.885 |\n",
      "Epoch  16: | Train loss: 2.07750 | Val loss: 2.02369 | Train Accuracy: 0.2954 | Val Accuracy: 0.3230 | epoch time: 0.876 |\n",
      "Epoch  17: | Train loss: 2.02537 | Val loss: 1.96625 | Train Accuracy: 0.3271 | Val Accuracy: 0.3544 | epoch time: 0.891 |\n",
      "Epoch  18: | Train loss: 1.96790 | Val loss: 1.90522 | Train Accuracy: 0.3559 | Val Accuracy: 0.3750 | epoch time: 0.915 |\n",
      "Epoch  19: | Train loss: 1.90683 | Val loss: 1.84297 | Train Accuracy: 0.3735 | Val Accuracy: 0.3844 | epoch time: 0.825 |\n",
      "Epoch  20: | Train loss: 1.84458 | Val loss: 1.78183 | Train Accuracy: 0.3835 | Val Accuracy: 0.3912 | epoch time: 0.866 |\n",
      "Epoch  21: | Train loss: 1.78352 | Val loss: 1.72342 | Train Accuracy: 0.3916 | Val Accuracy: 0.4018 | epoch time: 0.949 |\n",
      "Epoch  22: | Train loss: 1.72526 | Val loss: 1.66862 | Train Accuracy: 0.4023 | Val Accuracy: 0.4074 | epoch time: 0.896 |\n",
      "Epoch  23: | Train loss: 1.67065 | Val loss: 1.61766 | Train Accuracy: 0.4133 | Val Accuracy: 0.4176 | epoch time: 0.867 |\n",
      "Epoch  24: | Train loss: 1.61987 | Val loss: 1.57051 | Train Accuracy: 0.4254 | Val Accuracy: 0.4364 | epoch time: 0.857 |\n",
      "Epoch  25: | Train loss: 1.57285 | Val loss: 1.52702 | Train Accuracy: 0.4452 | Val Accuracy: 0.4760 | epoch time: 0.859 |\n",
      "Epoch  26: | Train loss: 1.52943 | Val loss: 1.48690 | Train Accuracy: 0.4835 | Val Accuracy: 0.5036 | epoch time: 0.858 |\n",
      "Epoch  27: | Train loss: 1.48932 | Val loss: 1.44982 | Train Accuracy: 0.5159 | Val Accuracy: 0.5160 | epoch time: 0.850 |\n",
      "Epoch  28: | Train loss: 1.45218 | Val loss: 1.41544 | Train Accuracy: 0.5332 | Val Accuracy: 0.5314 | epoch time: 0.907 |\n",
      "Epoch  29: | Train loss: 1.41768 | Val loss: 1.38341 | Train Accuracy: 0.5447 | Val Accuracy: 0.5420 | epoch time: 0.874 |\n"
     ]
    }
   ],
   "source": [
    "oModel = Model([\n",
    "        LinearLayer(784, 200, []),\n",
    "        ReLULayer(),\n",
    "        LinearLayer(200, 10, []),\n",
    "])\n",
    "\n",
    "_, lValLossV1, _, lValAccV1 = TrainModel(oModel, mTrainX.T, vTrainY, mValX.T, vValY, 30, 2e-1)"
   ]
  },
  {
   "cell_type": "markdown",
   "metadata": {},
   "source": [
    "###  Normalize data:"
   ]
  },
  {
   "cell_type": "code",
   "execution_count": 13,
   "metadata": {},
   "outputs": [],
   "source": [
    "vMean = np.mean(mX, axis=0)\n",
    "vStd  = np.std(mX, axis=0)\n",
    "mX    = (mX - vMean) / vStd"
   ]
  },
  {
   "cell_type": "markdown",
   "metadata": {},
   "source": [
    "### Train with normalizing and initialization:"
   ]
  },
  {
   "cell_type": "code",
   "execution_count": 14,
   "metadata": {},
   "outputs": [
    {
     "name": "stdout",
     "output_type": "stream",
     "text": [
      "Epoch   0: | Train loss: 2.38091 | Val loss: 2.13925 | Train Accuracy: 0.1151 | Val Accuracy: 0.2136 | epoch time: 0.920 |\n",
      "Epoch   1: | Train loss: 2.13861 | Val loss: 2.02257 | Train Accuracy: 0.2129 | Val Accuracy: 0.3240 | epoch time: 0.991 |\n",
      "Epoch   2: | Train loss: 2.02391 | Val loss: 1.93479 | Train Accuracy: 0.3200 | Val Accuracy: 0.3996 | epoch time: 0.995 |\n",
      "Epoch   3: | Train loss: 1.93723 | Val loss: 1.85949 | Train Accuracy: 0.3951 | Val Accuracy: 0.4542 | epoch time: 1.006 |\n",
      "Epoch   4: | Train loss: 1.86258 | Val loss: 1.79184 | Train Accuracy: 0.4499 | Val Accuracy: 0.5016 | epoch time: 0.959 |\n",
      "Epoch   5: | Train loss: 1.79526 | Val loss: 1.73007 | Train Accuracy: 0.4897 | Val Accuracy: 0.5288 | epoch time: 0.997 |\n",
      "Epoch   6: | Train loss: 1.73359 | Val loss: 1.67325 | Train Accuracy: 0.5213 | Val Accuracy: 0.5510 | epoch time: 0.967 |\n",
      "Epoch   7: | Train loss: 1.67674 | Val loss: 1.62082 | Train Accuracy: 0.5461 | Val Accuracy: 0.5692 | epoch time: 0.981 |\n",
      "Epoch   8: | Train loss: 1.62422 | Val loss: 1.57235 | Train Accuracy: 0.5667 | Val Accuracy: 0.5872 | epoch time: 0.990 |\n",
      "Epoch   9: | Train loss: 1.57565 | Val loss: 1.52746 | Train Accuracy: 0.5839 | Val Accuracy: 0.6008 | epoch time: 0.972 |\n",
      "Epoch  10: | Train loss: 1.53066 | Val loss: 1.48587 | Train Accuracy: 0.6001 | Val Accuracy: 0.6130 | epoch time: 0.962 |\n",
      "Epoch  11: | Train loss: 1.48894 | Val loss: 1.44732 | Train Accuracy: 0.6126 | Val Accuracy: 0.6226 | epoch time: 0.970 |\n",
      "Epoch  12: | Train loss: 1.45022 | Val loss: 1.41152 | Train Accuracy: 0.6227 | Val Accuracy: 0.6294 | epoch time: 0.938 |\n",
      "Epoch  13: | Train loss: 1.41424 | Val loss: 1.37825 | Train Accuracy: 0.6310 | Val Accuracy: 0.6366 | epoch time: 0.883 |\n",
      "Epoch  14: | Train loss: 1.38079 | Val loss: 1.34732 | Train Accuracy: 0.6379 | Val Accuracy: 0.6432 | epoch time: 0.859 |\n",
      "Epoch  15: | Train loss: 1.34964 | Val loss: 1.31849 | Train Accuracy: 0.6440 | Val Accuracy: 0.6502 | epoch time: 0.925 |\n",
      "Epoch  16: | Train loss: 1.32057 | Val loss: 1.29159 | Train Accuracy: 0.6493 | Val Accuracy: 0.6534 | epoch time: 0.900 |\n",
      "Epoch  17: | Train loss: 1.29343 | Val loss: 1.26648 | Train Accuracy: 0.6540 | Val Accuracy: 0.6556 | epoch time: 0.858 |\n",
      "Epoch  18: | Train loss: 1.26806 | Val loss: 1.24300 | Train Accuracy: 0.6577 | Val Accuracy: 0.6598 | epoch time: 0.861 |\n",
      "Epoch  19: | Train loss: 1.24431 | Val loss: 1.22101 | Train Accuracy: 0.6613 | Val Accuracy: 0.6618 | epoch time: 0.870 |\n",
      "Epoch  20: | Train loss: 1.22204 | Val loss: 1.20039 | Train Accuracy: 0.6646 | Val Accuracy: 0.6642 | epoch time: 0.974 |\n",
      "Epoch  21: | Train loss: 1.20113 | Val loss: 1.18100 | Train Accuracy: 0.6682 | Val Accuracy: 0.6660 | epoch time: 0.930 |\n",
      "Epoch  22: | Train loss: 1.18145 | Val loss: 1.16276 | Train Accuracy: 0.6710 | Val Accuracy: 0.6688 | epoch time: 0.874 |\n",
      "Epoch  23: | Train loss: 1.16291 | Val loss: 1.14555 | Train Accuracy: 0.6736 | Val Accuracy: 0.6712 | epoch time: 0.859 |\n",
      "Epoch  24: | Train loss: 1.14541 | Val loss: 1.12931 | Train Accuracy: 0.6765 | Val Accuracy: 0.6742 | epoch time: 0.882 |\n",
      "Epoch  25: | Train loss: 1.12884 | Val loss: 1.11395 | Train Accuracy: 0.6792 | Val Accuracy: 0.6758 | epoch time: 0.878 |\n",
      "Epoch  26: | Train loss: 1.11315 | Val loss: 1.09939 | Train Accuracy: 0.6817 | Val Accuracy: 0.6790 | epoch time: 0.896 |\n",
      "Epoch  27: | Train loss: 1.09828 | Val loss: 1.08557 | Train Accuracy: 0.6843 | Val Accuracy: 0.6816 | epoch time: 0.835 |\n",
      "Epoch  28: | Train loss: 1.08416 | Val loss: 1.07245 | Train Accuracy: 0.6866 | Val Accuracy: 0.6834 | epoch time: 0.880 |\n",
      "Epoch  29: | Train loss: 1.07075 | Val loss: 1.05997 | Train Accuracy: 0.6889 | Val Accuracy: 0.6856 | epoch time: 0.875 |\n"
     ]
    }
   ],
   "source": [
    "oModel = Model([\n",
    "        LinearLayer(784, 200, init='Kaiming'),\n",
    "        ReLULayer(),\n",
    "        LinearLayer(200, 10, init='Kaiming'),\n",
    "])\n",
    "\n",
    "_, lValLossV2, _, lValAccV2 = TrainModel(oModel, mTrainX.T, vTrainY, mValX.T, vValY, 30, 5e-2)"
   ]
  },
  {
   "cell_type": "markdown",
   "metadata": {},
   "source": [
    "### Compare the two configurations:"
   ]
  },
  {
   "cell_type": "code",
   "execution_count": 15,
   "metadata": {},
   "outputs": [
    {
     "data": {
      "image/png": "[encoded data removed]",
      "text/plain": [
       "<Figure size 720x432 with 2 Axes>"
      ]
     },
     "metadata": {
      "needs_background": "light"
     },
     "output_type": "display_data"
    }
   ],
   "source": [
    "plt.figure(figsize=(10,6))\n",
    "plt.subplot(1,2,1)\n",
    "plt.plot(lValLossV1, 'b', label='without pre-processing')\n",
    "plt.plot(lValLossV2, 'r', label='with pre-preocessing')\n",
    "plt.legend()\n",
    "plt.xlabel('Epoch')\n",
    "plt.title('Validation loss')\n",
    "\n",
    "plt.subplot(1,2,2)\n",
    "plt.plot(lValAccV1, 'b', label='without pre-processing')\n",
    "plt.plot(lValAccV2, 'r', label='with pre-processing')\n",
    "plt.legend()\n",
    "plt.xlabel('Epoch')\n",
    "plt.title('Validation accuracy')\n",
    "\n",
    "plt.tight_layout()\n",
    "plt.show()"
   ]
  }
 ],
 "metadata": {
  "kernelspec": {
   "display_name": "Python 3",
   "language": "python",
   "name": "python3"
  },
  "language_info": {
   "codemirror_mode": {
    "name": "ipython",
    "version": 3
   },
   "file_extension": ".py",
   "mimetype": "text/x-python",
   "name": "python",
   "nbconvert_exporter": "python",
   "pygments_lexer": "ipython3",
   "version": "3.7.6"
  },
  "toc": {
   "base_numbering": 1,
   "nav_menu": {},
   "number_sections": false,
   "sideBar": true,
   "skip_h1_title": false,
   "title_cell": "Table of Contents",
   "title_sidebar": "Contents",
   "toc_cell": false,
   "toc_position": {},
   "toc_section_display": true,
   "toc_window_display": false
  },
  "varInspector": {
   "cols": {
    "lenName": 16,
    "lenType": 16,
    "lenVar": 40
   },
   "kernels_config": {
    "python": {
     "delete_cmd_postfix": "",
     "delete_cmd_prefix": "del ",
     "library": "var_list.py",
     "varRefreshCmd": "print(var_dic_list())"
    },
    "r": {
     "delete_cmd_postfix": ") ",
     "delete_cmd_prefix": "rm(",
     "library": "var_list.r",
     "varRefreshCmd": "cat(var_dic_list()) "
    }
   },
   "types_to_exclude": [
    "module",
    "function",
    "builtin_function_or_method",
    "instance",
    "_Feature"
   ],
   "window_display": false
  }
 },
 "nbformat": 4,
 "nbformat_minor": 4
}
