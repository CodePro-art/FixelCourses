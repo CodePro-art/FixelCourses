{
 "cells": [
  {
   "attachments": {},
   "cell_type": "markdown",
   "metadata": {},
   "source": [
    "[![Fixel Algorithms](https://fixelalgorithms.co/images/CCExt.png)](https://fixelalgorithms.gitlab.io/)\n",
    "\n",
    "# Machine Learning Methods\n",
    "\n",
    "## UnSupervised Learning - Dimensionality Reduction - Multidimensional Scaling (MDS)\n",
    "\n",
    "> Notebook by:\n",
    "> - Royi Avital RoyiAvital@fixelalgorithms.com\n",
    "\n",
    "## Revision History\n",
    "\n",
    "| Version | Date       | User        |Content / Changes                                                   |\n",
    "|---------|------------|-------------|--------------------------------------------------------------------|\n",
    "| 0.1.000 | 23/02/2023 | Royi Avital | First version                                                      |\n",
    "|         |            |             |                                                                    |"
   ]
  },
  {
   "attachments": {},
   "cell_type": "markdown",
   "metadata": {},
   "source": [
    "[![Open In Colab](https://colab.research.google.com/assets/colab-badge.svg)](https://colab.research.google.com/github/FixelAlgorithmsTeam/FixelCourses/blob/master/MachineLearningMethods/2023_01/0038DimensionalityReductionPCA.ipynb)"
   ]
  },
  {
   "cell_type": "code",
   "execution_count": null,
   "metadata": {
    "ExecuteTime": {
     "end_time": "2022-02-02T09:30:06.492269Z",
     "start_time": "2022-02-02T09:30:06.220934Z"
    }
   },
   "outputs": [],
   "source": [
    "# Import Packages\n",
    "\n",
    "# General Tools\n",
    "import numpy as np\n",
    "import scipy as sp\n",
    "import pandas as pd\n",
    "\n",
    "# Machine Learning\n",
    "from sklearn.datasets import make_s_curve\n",
    "from sklearn.manifold import MDS\n",
    "\n",
    "# Miscellaneous\n",
    "import os\n",
    "import math\n",
    "from platform import python_version\n",
    "import random\n",
    "\n",
    "# Typing\n",
    "from typing import Callable, List, Tuple, Union\n",
    "\n",
    "# Visualization\n",
    "import matplotlib.pyplot as plt\n",
    "# from mpl_toolkits.mplot3d import Axes3D \n",
    "import seaborn as sns\n",
    "\n",
    "# Jupyter\n",
    "from IPython import get_ipython\n",
    "from IPython.display import Image, display\n",
    "from ipywidgets import Dropdown, FloatSlider, interact, IntSlider, Layout"
   ]
  },
  {
   "attachments": {},
   "cell_type": "markdown",
   "metadata": {},
   "source": [
    "## Notations\n",
    "\n",
    "* <font color='red'>(**?**)</font> Question to answer interactively.\n",
    "* <font color='blue'>(**!**)</font> Simple task to add code for the notebook.\n",
    "* <font color='green'>(**@**)</font> Optional / Extra self practice.\n",
    "* <font color='brown'>(**#**)</font> Note / Useful resource / Food for thought."
   ]
  },
  {
   "cell_type": "code",
   "execution_count": null,
   "metadata": {},
   "outputs": [],
   "source": [
    "# Configuration\n",
    "%matplotlib inline\n",
    "\n",
    "seedNum = 512\n",
    "np.random.seed(seedNum)\n",
    "random.seed(seedNum)\n",
    "\n",
    "# sns.set_theme() #>! Apply SeaBorn theme\n",
    "\n",
    "runInGoogleColab = 'google.colab' in str(get_ipython())"
   ]
  },
  {
   "cell_type": "code",
   "execution_count": null,
   "metadata": {},
   "outputs": [],
   "source": [
    "# Constants\n",
    "\n",
    "FIG_SIZE_DEF    = (8, 8)\n",
    "ELM_SIZE_DEF    = 50\n",
    "CLASS_COLOR     = ('b', 'r')\n",
    "EDGE_COLOR      = 'k'\n",
    "MARKER_SIZE_DEF = 10\n",
    "LINE_WIDTH_DEF  = 2\n"
   ]
  },
  {
   "cell_type": "code",
   "execution_count": null,
   "metadata": {},
   "outputs": [],
   "source": [
    "# Fixel Algorithms Packages\n"
   ]
  },
  {
   "attachments": {},
   "cell_type": "markdown",
   "metadata": {},
   "source": [
    "## Dimensionality Reduction by MDS\n",
    "\n",
    "The MDS is a non linear transformation from $\\mathbb{R}^{D} \\to \\mathbb{R}^{d}$ where $d \\ll D$.  \n",
    "Given a set $\\mathcal{X} = {\\left\\{ \\boldsymbol{x}_{i} \\in \\mathbb{R}^{D} \\right\\}}_{i = 1}^{n}$ is builds the set $\\mathcal{Z} = {\\left\\{ \\boldsymbol{z}_{i} \\in \\mathbb{R}^{d} \\right\\}}_{i = 1}^{n}$ such that the distance matrices of each set are similar.\n",
    "\n",
    "In this notebook:\n",
    "\n",
    " - We'll also implement the classic MDS.\n",
    " - We'll use the data set to show the effects of dimensionality reduction.  "
   ]
  },
  {
   "cell_type": "code",
   "execution_count": null,
   "metadata": {},
   "outputs": [],
   "source": [
    "# Parameters\n",
    "\n",
    "# Data\n",
    "numSamples = 500\n",
    "\n",
    "# Model\n"
   ]
  },
  {
   "cell_type": "code",
   "execution_count": null,
   "metadata": {},
   "outputs": [],
   "source": [
    "# Auxiliary Functions\n",
    "\n",
    "def PlotScatterData(mX: np.ndarray, vL: np.ndarray, hA:plt.Axes = None, figSize: Tuple[int, int] = FIG_SIZE_DEF, markerSize: int = MARKER_SIZE_DEF, lineWidth: int = LINE_WIDTH_DEF, axisTitle: str = None):\n",
    "\n",
    "    if hA is None:\n",
    "        hF, hA = plt.subplots(figsize = figSize)\n",
    "    else:\n",
    "        hF = hA.get_figure()\n",
    "    \n",
    "    vU = np.unique(vL)\n",
    "    numClusters = len(vU)\n",
    "\n",
    "    for ii in range(numClusters):\n",
    "        vIdx = vL == vU[ii]\n",
    "        hA.scatter(mX[vIdx, 0], mX[vIdx, 1], s = ELM_SIZE_DEF, edgecolor = EDGE_COLOR, label = ii)\n",
    "    \n",
    "    hA.set_xlabel('${{x}}_{{1}}$')\n",
    "    hA.set_ylabel('${{x}}_{{2}}$')\n",
    "    if axisTitle is not None:\n",
    "        hA.set_title(axisTitle)\n",
    "    hA.grid()\n",
    "    hA.legend()\n",
    "\n",
    "    # return hF\n",
    "\n",
    "def PlotScatterData3D(mX: np.ndarray, vL: np.ndarray = None, vC: np.ndarray = None, hA: plt.Axes = None, figSize: Tuple[int, int] = FIG_SIZE_DEF, markerSize: int = MARKER_SIZE_DEF, lineWidth: int = LINE_WIDTH_DEF, axisTitle: str = None):\n",
    "\n",
    "    if hA is None:\n",
    "        hF, hA = plt.subplots(figsize = figSize, subplot_kw = {'projection': '3d'})\n",
    "    else:\n",
    "        hF = hA.get_figure()\n",
    "    \n",
    "    if vL is not None:\n",
    "        vU = np.unique(vL)\n",
    "        numClusters = len(vU)\n",
    "    else:\n",
    "        vL = np.zeros(mX.shape[0])\n",
    "        vU = np.zeros(1)\n",
    "        numClusters = 1\n",
    "\n",
    "    for ii in range(numClusters):\n",
    "        vIdx = vL == vU[ii]\n",
    "        hA.scatter(mX[vIdx, 0], mX[vIdx, 1], mX[vIdx, 2], s = ELM_SIZE_DEF, c = vC, alpha = 1, edgecolor = EDGE_COLOR, label = ii)\n",
    "    \n",
    "    hA.set_xlabel('${{x}}_{{1}}$')\n",
    "    hA.set_ylabel('${{x}}_{{2}}$')\n",
    "    hA.set_zlabel('${{x}}_{{3}}$')\n",
    "    if axisTitle is not None:\n",
    "        hA.set_title(axisTitle)\n",
    "    hA.grid()\n",
    "    hA.legend()\n",
    "\n",
    "    return hA\n"
   ]
  },
  {
   "attachments": {},
   "cell_type": "markdown",
   "metadata": {},
   "source": [
    "## Generate / Load Data\n",
    "\n",
    "In this notebook we'll use [SciKit Learn's `make_s_curve`](https://scikit-learn.org/stable/modules/generated/sklearn.datasets.make_s_curve.html) to generated data.  "
   ]
  },
  {
   "cell_type": "code",
   "execution_count": null,
   "metadata": {},
   "outputs": [],
   "source": [
    "# Loading / Generating Data\n",
    "\n",
    "mX, vC = make_s_curve(numSamples)\n",
    "\n",
    "\n",
    "print(f'The features data shape: {mX.shape}')\n",
    "print(f'The features data type: {mX.dtype}')"
   ]
  },
  {
   "attachments": {},
   "cell_type": "markdown",
   "metadata": {},
   "source": [
    "* <font color='red'>(**?**)</font> Do we need to scale the data?"
   ]
  },
  {
   "attachments": {},
   "cell_type": "markdown",
   "metadata": {},
   "source": [
    "### Plot the Data"
   ]
  },
  {
   "cell_type": "code",
   "execution_count": null,
   "metadata": {},
   "outputs": [],
   "source": [
    "# Plot the Data\n",
    "\n",
    "hA = PlotScatterData3D(mX, vC = vC, axisTitle = 'The S Surface')\n",
    "hA.set_xlim([-2, 2])\n",
    "hA.set_ylim([-2, 2])\n",
    "hA.set_zlim([-2, 2])"
   ]
  },
  {
   "attachments": {},
   "cell_type": "markdown",
   "metadata": {},
   "source": [
    "## Applying Dimensionality Reduction - MDS\n",
    "\n",
    "In this section we'll implement the Classic MDs:\n",
    "\n",
    "### Non Metric (Classic) MDS\n",
    "\n",
    "$$\\min_{\\left\\{ \\boldsymbol{z}_{i}\\in\\mathbb{R}^{d}\\right\\} }\\sum_{i=1}^{N}\\sum_{j=1}^{N}\\left(\\boldsymbol{K}_{x}\\left[i,j\\right]-\\left\\langle \\boldsymbol{z}_{i},\\boldsymbol{z}_{j}\\right\\rangle \\right)^{2}$$\n",
    "1. **set** $\\boldsymbol{K}_{x}=-\\frac{1}{2}\\boldsymbol{J}\\boldsymbol{D}_{x}\\boldsymbol{J}$  \n",
    "where $\\boldsymbol{J}=\\left(\\boldsymbol{I}-\\frac{1}{N}\\boldsymbol{1}\\boldsymbol{1}^{T}\\right)$\n",
    "2. Decompose $\\boldsymbol{K}_{x}=\\boldsymbol{W}\\boldsymbol{\\Lambda}\\boldsymbol{W}$\n",
    "3. **set** $\\boldsymbol{Z}=\\boldsymbol{\\Lambda}_{d}^{\\frac{1}{2}}\\boldsymbol{W}_{d}^{T}$\n",
    "\n",
    "* <font color='brown'>(**#**)</font> The non metric MDS matches (Kernel) PCA.\n",
    "* <font color='brown'>(**#**)</font> It is assumed above that the eigen values matrix $\\boldsymbol{\\Lambda}$ is sorted.\n",
    "* <font color='brown'>(**#**)</font> For Euclidean distance there is a closed form solution (As with teh PCA).\n",
    "\n"
   ]
  },
  {
   "cell_type": "code",
   "execution_count": null,
   "metadata": {},
   "outputs": [],
   "source": [
    "# Classic MDS Implementation\n",
    "\n",
    "def ClassicalMDS(mD, lowDim):\n",
    "    numSamples = mD.shape[0]\n",
    "\n",
    "    mJ     = np.eye(numSamples) - ((1 / numSamples) * np.ones((numSamples, numSamples)))\n",
    "    mK     = -0.5 * mJ @ mD @ mJ #<! Due to the form of mJ one can avoid teh matrix multiplication\n",
    "    vL, mW = np.linalg.eigh(mK)\n",
    "    \n",
    "    # Sort Eigen Values\n",
    "    vIdx   = np.argsort(-vL)\n",
    "    vL     = vL[vIdx]\n",
    "    mW     = mW[:, vIdx]\n",
    "    # Reconstruct\n",
    "    mZ     = mW[:, :lowDim] * np.sqrt(vL[:lowDim])\n",
    "    \n",
    "    return mZ"
   ]
  },
  {
   "cell_type": "code",
   "execution_count": null,
   "metadata": {},
   "outputs": [],
   "source": [
    "# Apply the MDS\n",
    "\n",
    "# Build the Distance Matrix\n",
    "mD  = sp.spatial.distance.squareform(sp.spatial.distance.pdist(mX))\n",
    "# The MDS output\n",
    "mZ1 = ClassicalMDS(np.squared(mD), 2)"
   ]
  },
  {
   "attachments": {},
   "cell_type": "markdown",
   "metadata": {},
   "source": [
    "### Plot the Mean Image  \n",
    "\n",
    "The PCA works on a centered data.  \n",
    "Hence the mean image is kept a side for the reconstruction."
   ]
  },
  {
   "cell_type": "code",
   "execution_count": null,
   "metadata": {},
   "outputs": [],
   "source": [
    "# Plot the Mean Image\n",
    "\n",
    "PlotMnistImages(np.atleast_2d(oPCA.mean_), np.array(['Mean Image']), 1, 1, imgSize = tImgSize)"
   ]
  },
  {
   "cell_type": "code",
   "execution_count": null,
   "metadata": {},
   "outputs": [],
   "source": [
    "# Plot the PCA Spectrum\n",
    "\n",
    "vλ = oPCA.explained_variance_ratio_\n",
    "\n",
    "hF, hA = plt.subplots(figsize = (12, 6))\n",
    "hA.stem(np.sqrt(vλ[:200]), markerfmt = 'b.', label = '$\\\\sqrt{\\lambda_i}$')\n",
    "hA.set_title('Eigen Values')\n",
    "hA.set_xlabel('$i$')\n",
    "hA.legend()\n",
    "\n",
    "plt.show()"
   ]
  },
  {
   "cell_type": "code",
   "execution_count": null,
   "metadata": {},
   "outputs": [],
   "source": [
    "# Plot the Energy Ratio\n",
    "\n",
    "vλ = oPCA.explained_variance_ratio_\n",
    "\n",
    "hF, hA = plt.subplots(figsize = (12, 6))\n",
    "hA.stem(vλ, markerfmt = 'b.', label = '$Ratio$')\n",
    "hA.set_title('Variance Ratio')\n",
    "hA.set_xlabel('$Component Index$')\n",
    "hA.legend()\n",
    "\n",
    "plt.show()"
   ]
  },
  {
   "attachments": {},
   "cell_type": "markdown",
   "metadata": {},
   "source": [
    "* <font color='brown'>(**#**)</font> Look at the rate the accumulated explained energy is accumulated."
   ]
  },
  {
   "cell_type": "code",
   "execution_count": null,
   "metadata": {},
   "outputs": [],
   "source": [
    "# Plot the Components\n",
    "\n",
    "mU = oPCA.components_ #<! mU.shape = (n_components, n_features)\n",
    "\n",
    "hF, hAs = plt.subplots(nrows = 2, ncols = 5, figsize = (12, 6))\n",
    "vIdx    = list(range(5)) + list(range(numComp - 5, numComp))\n",
    "for kk, hA in zip(range(10), hAs.flat):\n",
    "    idx = vIdx[kk]\n",
    "    mI  = np.reshape(mU[idx], tImgSize)\n",
    "    hA.imshow(mI)\n",
    "    hA.set_title(f'{hOrdinalNum(idx + 1)} Principal Component')\n",
    "    \n",
    "hF.tight_layout()\n",
    "plt.show()"
   ]
  },
  {
   "attachments": {},
   "cell_type": "markdown",
   "metadata": {},
   "source": [
    "## PCA Reconstruction\n",
    "\n",
    "* Encode:\n",
    "$$\\boldsymbol{z}_{i}=\\boldsymbol{U}_{d}^{T}\\left(\\boldsymbol{x}_{i}-\\boldsymbol{\\mu}_{x}\\right)$$  \n",
    "\n",
    "* Decode:\n",
    "$$\\hat{\\boldsymbol{x}}_{i}=\\boldsymbol{U}_{d}\\boldsymbol{z}_{i}+\\boldsymbol{\\mu}_{x}$$"
   ]
  },
  {
   "cell_type": "code",
   "execution_count": null,
   "metadata": {},
   "outputs": [],
   "source": [
    "# Interactive Visualization \n",
    "\n",
    "hPlotPcaReconstruction = lambda dataIdx, numComponents: PlotPcaReconstruction(mX, dataIdx, mU, oPCA.mean_, numComponents, tImgSize, figSize = (14, 4))\n",
    "dataIdxSlider = IntSlider(min = 0, max = numSamples - 1, step = 1, value = 0, layout = Layout(width = '30%'))\n",
    "numComponentsSlider = IntSlider(min = 0, max = numComp, step = 1, value = 0, layout = Layout(width = '30%'))\n",
    "\n",
    "interact(hPlotPcaReconstruction, dataIdx = dataIdxSlider, numComponents = numComponentsSlider)"
   ]
  },
  {
   "attachments": {},
   "cell_type": "markdown",
   "metadata": {},
   "source": [
    "* <font color='red'>(**?**)</font> Describe how the actual recognition of a given face is done.\n",
    "\n",
    "<!-- Given the data base, each image in the data base has its own finger print on the data base: $\\boldsymbol{z}_{i}$.  \n",
    "Then, for a new image:\n",
    "\n",
    "1. Calculate its encoding using the components: $\\boldsymbol{z}_{new} = \\boldsymbol{U}_{d}^{T} \\left( \\boldsymbol{x}_{new} - \\boldsymbol{\\mu}_{x} \\right)$.\n",
    "2. Calculate the distance to the closest existing finger printing: $j = \\arg \\min_{i} {d}_{i} = \\left\\| \\boldsymbol{z}_{new} - \\boldsymbol{z}_{i}$.\n",
    "3. If ${d}_{j} \\leq {\\vareps}_{1}$ for a given threshold ${\\vareps}_{1}$ then the face is recognized as the $j$ -th face in the data base.\n",
    "4. If ${\\vareps}_{1} < {d}_{j} \\leq {\\vareps}_{2}$ for a given threshold ${\\vareps}_{2}$ then the image is not in the data base yet can be added.\n",
    "5. If ${\\vareps}_{2} < {d}_{j}$ for a given threshold ${\\vareps}_{2}$ then the image is not considered a face image. -->"
   ]
  }
 ],
 "metadata": {
  "kernelspec": {
   "display_name": "Python 3",
   "language": "python",
   "name": "python3"
  },
  "language_info": {
   "codemirror_mode": {
    "name": "ipython",
    "version": 3
   },
   "file_extension": ".py",
   "mimetype": "text/x-python",
   "name": "python",
   "nbconvert_exporter": "python",
   "pygments_lexer": "ipython3",
   "version": "3.10.9"
  },
  "toc": {
   "base_numbering": 1,
   "nav_menu": {},
   "number_sections": false,
   "sideBar": true,
   "skip_h1_title": false,
   "title_cell": "Table of Contents",
   "title_sidebar": "Contents",
   "toc_cell": false,
   "toc_position": {},
   "toc_section_display": true,
   "toc_window_display": true
  },
  "varInspector": {
   "cols": {
    "lenName": 16,
    "lenType": 16,
    "lenVar": 40
   },
   "kernels_config": {
    "python": {
     "delete_cmd_postfix": "",
     "delete_cmd_prefix": "del ",
     "library": "var_list.py",
     "varRefreshCmd": "print(var_dic_list())"
    },
    "r": {
     "delete_cmd_postfix": ") ",
     "delete_cmd_prefix": "rm(",
     "library": "var_list.r",
     "varRefreshCmd": "cat(var_dic_list()) "
    }
   },
   "types_to_exclude": [
    "module",
    "function",
    "builtin_function_or_method",
    "instance",
    "_Feature"
   ],
   "window_display": false
  },
  "vscode": {
   "interpreter": {
    "hash": "39577bab1f263e62e0b74f5b8086bd735049bf4751f6562b2d4b2969dc308293"
   }
  }
 },
 "nbformat": 4,
 "nbformat_minor": 4
}
