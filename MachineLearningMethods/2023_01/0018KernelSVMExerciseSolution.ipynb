{
 "cells": [
  {
   "attachments": {},
   "cell_type": "markdown",
   "metadata": {},
   "source": [
    "[![Fixel Algorithms](https://fixelalgorithms.co/images/CCExt.png)](https://fixelalgorithms.gitlab.io/)\n",
    "\n",
    "# Machine Learning Methods\n",
    "\n",
    "## Supervised Learning - Kernel SVM - Exercise Solution\n",
    "\n",
    "> Notebook by:\n",
    "> - Royi Avital RoyiAvital@fixelalgorithms.com\n",
    "\n",
    "## Revision History\n",
    "\n",
    "| Version | Date       | User        |Content / Changes                                                   |\n",
    "|---------|------------|-------------|--------------------------------------------------------------------|\n",
    "| 0.1.000 | 28/01/2023 | Royi Avital | First version                                                      |\n",
    "|         |            |             |                                                                    |"
   ]
  },
  {
   "attachments": {},
   "cell_type": "markdown",
   "metadata": {},
   "source": [
    "[![Open In Colab](https://colab.research.google.com/assets/colab-badge.svg)](https://colab.research.google.com/github/FixelAlgorithmsTeam/FixelCourses/blob/master/MachineLearningMethods/2023_01/0013PerformanceScoreMetrics.ipynb)"
   ]
  },
  {
   "cell_type": "code",
   "execution_count": 1,
   "metadata": {
    "ExecuteTime": {
     "end_time": "2022-02-02T09:30:06.492269Z",
     "start_time": "2022-02-02T09:30:06.220934Z"
    }
   },
   "outputs": [],
   "source": [
    "# Import Packages\n",
    "\n",
    "# General Tools\n",
    "import numpy as np\n",
    "import scipy as sp\n",
    "import pandas as pd\n",
    "\n",
    "# Machine Learning\n",
    "from sklearn.metrics import auc, confusion_matrix, precision_recall_fscore_support, roc_curve\n",
    "from sklearn.svm import SVC\n",
    "\n",
    "# Miscellaneous\n",
    "import gzip\n",
    "import os\n",
    "from platform import python_version\n",
    "import random\n",
    "import urllib.request\n",
    "\n",
    "# Typing\n",
    "from typing import Tuple\n",
    "\n",
    "# Visualization\n",
    "import matplotlib.pyplot as plt\n",
    "import seaborn as sns\n",
    "from bokeh.plotting import figure, show\n",
    "\n",
    "# Jupyter\n",
    "from IPython import get_ipython\n",
    "from IPython.display import Image, display\n",
    "from ipywidgets import Dropdown, FloatSlider, interact, IntSlider, Layout"
   ]
  },
  {
   "attachments": {},
   "cell_type": "markdown",
   "metadata": {},
   "source": [
    "## Notations\n",
    "\n",
    "* <font color='red'>(**?**)</font> Question to answer interactively.\n",
    "* <font color='blue'>(**!**)</font> Simple task to add code for the notebook.\n",
    "* <font color='green'>(**@**)</font> Optional / Extra self practice.\n",
    "* <font color='brown'>(**#**)</font> Note / Useful resource / Food for thought."
   ]
  },
  {
   "cell_type": "code",
   "execution_count": 2,
   "metadata": {},
   "outputs": [],
   "source": [
    "# Configuration\n",
    "%matplotlib inline\n",
    "\n",
    "seedNum = 512\n",
    "np.random.seed(seedNum)\n",
    "random.seed(seedNum)\n",
    "\n",
    "# sns.set_theme() #>! Apply SeaBorn theme\n",
    "\n",
    "runInGoogleColab = 'google.colab' in str(get_ipython())"
   ]
  },
  {
   "cell_type": "code",
   "execution_count": 3,
   "metadata": {},
   "outputs": [],
   "source": [
    "# Constants\n",
    "\n",
    "FIG_SIZE_DEF = (8, 8)\n",
    "ELM_SIZE_DEF = 50\n",
    "CLASS_COLOR = ('b', 'r')\n",
    "EDGE_COLOR  = 'k'\n",
    "\n",
    "# Fashion MNIST\n",
    "TRAIN_DATA_SET_IMG_URL = r'https://github.com/zalandoresearch/fashion-mnist/raw/master/data/fashion/train-images-idx3-ubyte.gz'\n",
    "TRAIN_DATA_SET_LBL_URL = r'https://github.com/zalandoresearch/fashion-mnist/raw/master/data/fashion/train-labels-idx1-ubyte.gz'\n",
    "TEST_DATA_SET_IMG_URL  = r'https://github.com/zalandoresearch/fashion-mnist/raw/master/data/fashion/t10k-images-idx3-ubyte.gz'\n",
    "TEST_DATA_SET_LBL_URL  = r'https://github.com/zalandoresearch/fashion-mnist/raw/master/data/fashion/t10k-labels-idx1-ubyte.gz'\n",
    "\n",
    "TRAIN_DATA_IMG_FILE_NAME = 'TrainImgFile'\n",
    "TRAIN_DATA_LBL_FILE_NAME = 'TrainLblFile'\n",
    "TEST_DATA_IMG_FILE_NAME  = 'TestImgFile'\n",
    "TEST_DATA_LBL_FILE_NAME  = 'TestLblFile'\n",
    "\n",
    "TRAIN_DATA_SET_FILE_NAME = 'FashionMnistTrainDataSet.npz'\n",
    "TEST_DATA_SET_FILE_NAME  = 'FashionMnistTestDataSet.npz'\n",
    "\n",
    "TRAIN_DATA_NUM_IMG  = 60_000\n",
    "TEST_DATA_NUM_IMG   = 10_000\n",
    "\n",
    "D_CLASSES = {0: 'T-Shirt', 1: 'Trouser', 2: 'Pullover', 3: 'Dress', 4: 'Coat', 5: 'Sandal', 6: 'Shirt', 7: 'Sneaker', 8: 'Bag', 9: 'Boots'}\n",
    "L_CLASSES = ['T-Shirt', 'Trouser', 'Pullover', 'Dress', 'Coat', 'Sandal', 'Shirt', 'Sneaker', 'Bag', 'Boots']"
   ]
  },
  {
   "cell_type": "code",
   "execution_count": 4,
   "metadata": {},
   "outputs": [],
   "source": [
    "# Fixel Algorithms Packages\n"
   ]
  },
  {
   "attachments": {},
   "cell_type": "markdown",
   "metadata": {},
   "source": [
    "## Cross Validation with the SVM\n",
    "\n",
    "In this exercise we'll apply the Cross Validation manually to find the optimal `C` parameter for the SVM Model.  \n",
    "Instead of using `cross_val_predict()` we'll do a manual loop on the folds and average the score.\n",
    "\n",
    "1. Load the [MNIST Data set](https://en.wikipedia.org/wiki/MNIST_database) using `fetch_openml()`.\n",
    "2. Split the data using Stratified K Fold.\n",
    "3. For each model (Parameterized by `C`):\n",
    "    - Train model on the train sub set.\n",
    "    - Score model on the test sub set.\n",
    "4. Plot the score per model.\n",
    "5. Plot the Confusion Matrix of the best model on the training data.\n",
    "\n",
    "* <font color='brown'>(**#**)</font> Make sure to chose small number of models and folds at the beginning to measure run time and scale accordingly. \n",
    "* <font color='brown'>(**#**)</font> We'll use `LinearSVC` class which optimized `SVC` with kernel `linear` as it fits for larger data sets.  \n",
    "* <font color='brown'>(**#**)</font> You may and should use the functions in the `Auxiliary Functions` section."
   ]
  },
  {
   "cell_type": "code",
   "execution_count": 5,
   "metadata": {},
   "outputs": [],
   "source": [
    "# Parameters\n",
    "\n",
    "numSamplesTrain = 8_000\n",
    "numSamplesTest  = 2_000\n",
    "numImg = 3\n",
    "\n",
    "# Linear SVM (Baseline Model)\n",
    "paramC      = 1\n",
    "kernelType  = 'linear'\n",
    "\n",
    "#===========================Fill This===========================#\n",
    "numFold = 5\n",
    "lC      = list(np.linspace(0.01, 3, 6))\n",
    "lKernel = ['poly', 'rbf']\n",
    "lγ      = ['scale', 'auto', 0.05, 0.5, 1, 100]\n",
    "#===============================================================#"
   ]
  },
  {
   "cell_type": "code",
   "execution_count": 6,
   "metadata": {},
   "outputs": [],
   "source": [
    "# Auxiliary Functions\n",
    "\n",
    "def DownloadDecompressGzip(fileUrl, fileName):\n",
    "    # Based on https://stackoverflow.com/a/61195974\n",
    "\n",
    "    # Read the file inside the .gz archive located at url\n",
    "    with urllib.request.urlopen(fileUrl) as response:\n",
    "        with gzip.GzipFile(fileobj = response) as uncompressed:\n",
    "            file_content = uncompressed.read()\n",
    "        # write to file in binary mode 'wb'\n",
    "        with open(fileName, 'wb') as f:\n",
    "            f.write(file_content)\n",
    "            f.close()\n",
    "        return\n",
    "\n",
    "def ConvertMnistDataDf(imgFilePath: str, labelFilePath: str):\n",
    "    numPx = 28 * 28\n",
    "    # Merge of https://pjreddie.com/projects/mnist-in-csv/ and https://github.com/keras-team/keras/blob/master/keras/datasets/fashion_mnist.py\n",
    "    f = open(imgFilePath, \"rb\")\n",
    "    l = open(labelFilePath, \"rb\")\n",
    "\n",
    "    lCol = [f'Px {ii:04}' for ii in range (numPx)]\n",
    "    lCol.append('Label')\n",
    "\n",
    "    vY = np.frombuffer(l.read(), np.uint8, offset = 8)\n",
    "    mX = np.frombuffer(f.read(), np.uint8, offset = 16)\n",
    "    # mX = np.reshape(mX, (numPx, len(vY))).T\n",
    "    mX = np.reshape(mX, (len(vY), numPx))\n",
    "\n",
    "    f.close()\n",
    "    l.close()\n",
    "\n",
    "    return mX, vY\n",
    "\n",
    "def PlotMnistImages(mX, vY, numImg, lClasses = list(range(10)), hF = None):\n",
    "\n",
    "    numSamples  = mX.shape[0]\n",
    "    numPx       = mX.shape[1]\n",
    "\n",
    "    numRows = int(np.sqrt(numPx))\n",
    "\n",
    "    tFigSize = (numImg * 3, numImg * 3)\n",
    "\n",
    "    if hF is None:\n",
    "        hF, hA = plt.subplots(numImg, numImg, figsize = tFigSize)\n",
    "    else:\n",
    "        hA = hF.axis\n",
    "    \n",
    "    hA = np.atleast_1d(hA) #<! To support numImg = 1\n",
    "    hA = hA.flat\n",
    "\n",
    "    \n",
    "    for kk in range(numImg * numImg):\n",
    "        idx = np.random.choice(numSamples)\n",
    "        mI  = np.reshape(mX[idx, :], (numRows, numRows))\n",
    "    \n",
    "        # hA[kk].imshow(mI.clip(0, 1), cmap = 'gray')\n",
    "        hA[kk].imshow(mI, cmap = 'gray')\n",
    "        hA[kk].tick_params(axis = 'both', left = False, top = False, right = False, bottom = False, labelleft = False, labeltop = False, labelright = False, labelbottom = False)\n",
    "        hA[kk].set_title(f'Index = {idx}, Label = {lClasses[vY[idx]]}')\n",
    "    \n",
    "    plt.show()\n",
    "\n",
    "def PlotLabelsHistogram(vY: np.ndarray, hA = None):\n",
    "\n",
    "    if hA is None:\n",
    "        hF, hA = plt.subplots(figsize = (8, 6))\n",
    "    \n",
    "    vLabels, vCounts = np.unique(vY, return_counts = True)\n",
    "\n",
    "    hA.bar(vLabels, vCounts, width = 0.9, align = 'center')\n",
    "    hA.set_title('Histogram of Classes / Labels')\n",
    "    hA.set_xlabel('Class')\n",
    "    hA.set_ylabel('Number of Samples')\n",
    "\n",
    "    return hA\n",
    "\n",
    "def PlotConfusionMatrix(vY: np.ndarray, vYPred: np.ndarray, hA: plt.Axes = None, lLabels: list = None, dScore: dict = None, titleStr: str = 'Confusion Matrix') -> plt.Axes:\n",
    "\n",
    "    # Calculation of Confusion Matrix\n",
    "    mConfMat = confusion_matrix(vY, vYPred)\n",
    "    oConfMat = ConfusionMatrixDisplay(mConfMat, display_labels = lLabels)\n",
    "    oConfMat = oConfMat.plot(ax = hA)\n",
    "    hA = oConfMat.ax_\n",
    "    if dScore is not None:\n",
    "        titleStr += ':'\n",
    "        for scoreName, scoreVal in  dScore.items():\n",
    "            titleStr += f' {scoreName} = {scoreVal:0.2},'\n",
    "        titleStr = titleStr[:-1]\n",
    "    hA.set_title(titleStr)\n",
    "    hA.grid(False)\n",
    "\n",
    "    return hA\n",
    "    "
   ]
  },
  {
   "attachments": {},
   "cell_type": "markdown",
   "metadata": {},
   "source": [
    "## Generate / Load Data\n"
   ]
  },
  {
   "cell_type": "code",
   "execution_count": 7,
   "metadata": {},
   "outputs": [
    {
     "name": "stdout",
     "output_type": "stream",
     "text": [
      "The number of train data samples: 8000\n",
      "The number of train features per sample: 784\n",
      "The number of test data samples: 2000\n",
      "The number of test features per sample: 784\n"
     ]
    }
   ],
   "source": [
    "# Loading / Generating Data\n",
    "if os.path.isfile(TRAIN_DATA_SET_FILE_NAME):\n",
    "    dData = np.load(TRAIN_DATA_SET_FILE_NAME)\n",
    "    mXTrain, vYTrain = dData['mXTrain'], dData['vYTrain']\n",
    "else:\n",
    "    if not os.path.isfile(TRAIN_DATA_IMG_FILE_NAME):\n",
    "        DownloadDecompressGzip(TRAIN_DATA_SET_IMG_URL, TRAIN_DATA_IMG_FILE_NAME) #<! Download Data (GZip File)\n",
    "    if not os.path.isfile(TRAIN_DATA_LBL_FILE_NAME):\n",
    "        DownloadDecompressGzip(TRAIN_DATA_SET_LBL_URL, TRAIN_DATA_LBL_FILE_NAME) #<! Download Data (GZip File)\n",
    "    mXTrain, vYTrain = ConvertMnistDataDf(TRAIN_DATA_IMG_FILE_NAME, TRAIN_DATA_LBL_FILE_NAME)\n",
    "    np.savez_compressed(TRAIN_DATA_SET_FILE_NAME, mXTrain  = mXTrain, vYTrain = vYTrain)\n",
    "\n",
    "if os.path.isfile(TEST_DATA_SET_FILE_NAME):\n",
    "    dData = np.load(TEST_DATA_SET_FILE_NAME)\n",
    "    mXTest, vYTest = dData['mXTest'], dData['vYTest']\n",
    "else:\n",
    "    if not os.path.isfile(TEST_DATA_IMG_FILE_NAME):\n",
    "        DownloadDecompressGzip(TEST_DATA_SET_IMG_URL, TEST_DATA_IMG_FILE_NAME) #<! Download Data (GZip File)\n",
    "    if not os.path.isfile(TEST_DATA_LBL_FILE_NAME):\n",
    "        DownloadDecompressGzip(TEST_DATA_SET_LBL_URL, TEST_DATA_LBL_FILE_NAME) #<! Download Data (GZip File)\n",
    "    mXTest, vYTest = ConvertMnistDataDf(TEST_DATA_IMG_FILE_NAME, TEST_DATA_LBL_FILE_NAME)\n",
    "    np.savez_compressed(TEST_DATA_SET_FILE_NAME, mXTest = mXTest, vYTest = vYTest)\n",
    "\n",
    "\n",
    "vSampleIdx = np.random.choice(mXTrain.shape[0], numSamplesTrain)\n",
    "mXTrain = mXTrain[vSampleIdx, :]\n",
    "vYTrain = vYTrain[vSampleIdx]\n",
    "\n",
    "vSampleIdx = np.random.choice(mXTest.shape[0], numSamplesTest)\n",
    "mXTest = mXTest[vSampleIdx, :]\n",
    "vYTest = vYTest[vSampleIdx]\n",
    "\n",
    "\n",
    "print(f'The number of train data samples: {mXTrain.shape[0]}')\n",
    "print(f'The number of train features per sample: {mXTrain.shape[1]}') \n",
    "print(f'The number of test data samples: {mXTest.shape[0]}')\n",
    "print(f'The number of test features per sample: {mXTest.shape[1]}') "
   ]
  },
  {
   "attachments": {},
   "cell_type": "markdown",
   "metadata": {},
   "source": [
    "### Plot Data"
   ]
  },
  {
   "cell_type": "code",
   "execution_count": 8,
   "metadata": {},
   "outputs": [
    {
     "data": {
      "image/png": "[encoded data removed]",
      "text/plain": [
       "<Figure size 900x900 with 9 Axes>"
      ]
     },
     "metadata": {},
     "output_type": "display_data"
    }
   ],
   "source": [
    "# Display the Data\n",
    "\n",
    "PlotMnistImages(mXTrain, vYTrain, numImg, lClasses = L_CLASSES)"
   ]
  },
  {
   "cell_type": "code",
   "execution_count": 9,
   "metadata": {},
   "outputs": [
    {
     "data": {
      "image/png": "[encoded data removed]",
      "text/plain": [
       "<Figure size 800x600 with 1 Axes>"
      ]
     },
     "metadata": {},
     "output_type": "display_data"
    }
   ],
   "source": [
    "# Histogram of Classes\n",
    "hA = PlotLabelsHistogram(vYTrain)\n",
    "hA.set_xticks(range(len(L_CLASSES)))\n",
    "hA.set_xticklabels(L_CLASSES)\n",
    "plt.show()"
   ]
  },
  {
   "attachments": {},
   "cell_type": "markdown",
   "metadata": {},
   "source": [
    "## Train Linear SVM Classifier\n",
    "\n",
    "This will be the base line"
   ]
  },
  {
   "cell_type": "code",
   "execution_count": 13,
   "metadata": {},
   "outputs": [
    {
     "name": "stdout",
     "output_type": "stream",
     "text": [
      "The model score (Accuracy) on the data: 79.15%\n"
     ]
    }
   ],
   "source": [
    "# SVM Linear Model\n",
    "oSVM  = SVC(C = paramC, kernel = kernelType).fit(mXTrain, vYTrain) #<! We can do the training in a one liner\n",
    "modelScore = oSVM.score(mXTest, vYTest)\n",
    "\n",
    "print(f'The model score (Accuracy) on the data: {modelScore:0.2%}') #<! Accuracy"
   ]
  },
  {
   "attachments": {},
   "cell_type": "markdown",
   "metadata": {},
   "source": [
    "## Train Kernel SVM\n",
    "\n",
    "In this section we'll train a Kernel SVM. We'll find the optimal kernel by cross validation."
   ]
  },
  {
   "cell_type": "code",
   "execution_count": null,
   "metadata": {},
   "outputs": [],
   "source": [
    "# Grid of the data support\n",
    "v0       = np.linspace(mX[:, 0].min(), mX[:, 0].max(), numGridPts)\n",
    "v1       = np.linspace(mX[:, 1].min(), mX[:, 1].max(), numGridPts)\n",
    "XX0, XX1 = np.meshgrid(v0, v1)\n",
    "XX       = np.c_[XX0.ravel(), XX1.ravel()]\n",
    "\n",
    "Z = oSVM.predict(XX)\n",
    "Z = Z.reshape(XX0.shape)\n",
    "\n",
    "plt.figure(figsize = FIG_SIZE_DEF)\n",
    "plt.contourf(XX0, XX1, Z, colors = CLASS_COLOR, alpha = 0.3, levels = [-0.5, 0.5, 1.5])\n",
    "plt.scatter(mX[vIdx0, 0], mX[vIdx0, 1], s = ELM_SIZE_DEF, c = CLASS_COLOR[0], edgecolor = EDGE_COLOR)\n",
    "plt.scatter(mX[vIdx1, 0], mX[vIdx1, 1], s = ELM_SIZE_DEF, c = CLASS_COLOR[1], edgecolor = EDGE_COLOR)\n",
    "plt.show()"
   ]
  },
  {
   "attachments": {},
   "cell_type": "markdown",
   "metadata": {},
   "source": [
    "## Performance Metrics / Scores\n",
    "\n",
    "Metrics / Scores are not limited as the loss of the model.  \n",
    "They should reflect the real world needs according to the problem to solve and not the calculation limitations.\n",
    "\n",
    "* <font color='brown'>(**#**)</font> While in the course we introduce the _classic_ metrics. In practice use what makes sense."
   ]
  },
  {
   "attachments": {},
   "cell_type": "markdown",
   "metadata": {},
   "source": [
    "### Display the Confusion Matrix"
   ]
  },
  {
   "cell_type": "code",
   "execution_count": null,
   "metadata": {},
   "outputs": [],
   "source": [
    "# Plot the Confusion Matrix\n",
    "\n",
    "PlotConfusionMatrix(vY, oSVM.predict(mX), lLabels = oSVM.classes_)\n",
    "plt.show()"
   ]
  },
  {
   "attachments": {},
   "cell_type": "markdown",
   "metadata": {},
   "source": [
    "### Compute the Scores: Precision, Recall and F1"
   ]
  },
  {
   "cell_type": "code",
   "execution_count": null,
   "metadata": {},
   "outputs": [],
   "source": [
    "# Calculating the Scores\n",
    "vHatY                    = oSVM.predict(mX)\n",
    "precision, recall, f1, _ = precision_recall_fscore_support(vY, vHatY, pos_label = 1, average = 'binary')\n",
    "\n",
    "print(f'Precision = {precision:0.3f}')\n",
    "print(f'Recall    = {recall:0.3f}'   )\n",
    "print(f'f1        = {f1:0.3f}'       )"
   ]
  },
  {
   "attachments": {},
   "cell_type": "markdown",
   "metadata": {},
   "source": [
    "### Balanced Accuracy"
   ]
  },
  {
   "cell_type": "code",
   "execution_count": null,
   "metadata": {},
   "outputs": [],
   "source": [
    "# Balanced Accuracy: Average of TPR (Recall / Sensitivity) and TNR (Specificity)\n",
    "_, specificity, _, _   = precision_recall_fscore_support(vY, vHatY, pos_label = 0, average = 'binary') #<! Pay attention to the definition of `pos_label`\n",
    "\n",
    "bAcc = 0.5 * (recall + specificity)\n",
    "\n",
    "print(f'Accuracy          = {modelScore:0.2%}'  )\n",
    "print(f'Balanced Accuracy = {bAcc:0.2%}')"
   ]
  },
  {
   "attachments": {},
   "cell_type": "markdown",
   "metadata": {},
   "source": [
    "### ROC and AUC"
   ]
  },
  {
   "cell_type": "code",
   "execution_count": null,
   "metadata": {},
   "outputs": [],
   "source": [
    "# Calculating the AUC\n",
    "vScore         = oSVM.decision_function(mX) #<! Values proportional to distance from the separating hyperplane\n",
    "vFP, vTP, vThr = roc_curve(vY, vScore, pos_label = 1)\n",
    "AUC            = auc(vFP, vTP)\n",
    "\n",
    "print(f'AUC = {AUC}')"
   ]
  },
  {
   "cell_type": "code",
   "execution_count": null,
   "metadata": {},
   "outputs": [],
   "source": [
    "# Plotting the ROC\n",
    "\n",
    "plt.figure(figsize = (16, 8))\n",
    "\n",
    "plt.subplot(1, 2, 1)\n",
    "plt.plot(vFP, vTP, color = 'b', lw = 2, label = f'ROC Curve, AUC = {AUC:.3f}')\n",
    "plt.plot([0, 1], [0, 1], color = 'k', lw = 2, linestyle = '--')\n",
    "plt.xlabel('False Positive Rate')\n",
    "plt.ylabel('True Positive Rate')\n",
    "plt.title('ROC')\n",
    "plt.grid()\n",
    "plt.legend()\n",
    "\n",
    "plt.subplot(1, 2, 2)\n",
    "plt.contourf(XX0, XX1, Z, colors = CLASS_COLOR, alpha = 0.3, levels = [-0.5, 0.5, 1.5])\n",
    "plt.scatter(mX[vIdx0, 0], mX[vIdx0, 1], s = ELM_SIZE_DEF, c = CLASS_COLOR[0], edgecolor = EDGE_COLOR)\n",
    "plt.scatter(mX[vIdx1, 0], mX[vIdx1, 1], s = ELM_SIZE_DEF, c = CLASS_COLOR[1], edgecolor = EDGE_COLOR)\n",
    "\n",
    "plt.show()"
   ]
  },
  {
   "cell_type": "code",
   "execution_count": null,
   "metadata": {},
   "outputs": [],
   "source": [
    "vScore = oSVM.decision_function(XX)\n",
    "mScore = vScore.reshape(XX0.shape)\n",
    "\n",
    "def PlotRoc(idx):\n",
    "    _, vAx = plt.subplots(1, 2, figsize = (14, 6))\n",
    "    hA = vAx[0]\n",
    "    hA.plot(vFP, vTP, color = 'b', lw = 3, label = f'AUC = {AUC:.3f}')\n",
    "    hA.plot([0, 1], [0, 1], color = 'k', lw = 2, linestyle = '--')\n",
    "    hA.axvline(x = vFP[idx], color = 'g', lw = 2, linestyle = '--')\n",
    "    hA.set_xlabel('False Positive Rate')\n",
    "    hA.set_ylabel('True Positive Rate')\n",
    "    hA.set_title ('ROC' f'\\n$\\\\alpha = {vThr[idx]}$')\n",
    "    hA.axis('equal')\n",
    "    hA.legend()\n",
    "    hA.grid()    \n",
    "    \n",
    "    Z  = mScore > vThr[idx]\n",
    "    hA = vAx[1]\n",
    "    hA.contourf(XX0, XX1, Z, colors = CLASS_COLOR, alpha = 0.3, levels = [0, 0.5, 1.0])\n",
    "    hA.scatter(mX[vIdx0, 0], mX[vIdx0, 1], s = ELM_SIZE_DEF, c = CLASS_COLOR[0], edgecolor = EDGE_COLOR)\n",
    "    hA.scatter(mX[vIdx1, 0], mX[vIdx1, 1], s = ELM_SIZE_DEF, c = CLASS_COLOR[1], edgecolor = EDGE_COLOR)\n",
    "\n",
    "    plt.show()\n",
    "    \n"
   ]
  },
  {
   "cell_type": "code",
   "execution_count": null,
   "metadata": {},
   "outputs": [],
   "source": [
    "idxSlider = IntSlider(min = 0, max = len(vThr) - 1, step = 1, value = 0, layout = Layout(width = '30%'))\n",
    "interact(PlotRoc, idx = idxSlider)\n",
    "\n",
    "plt.show()"
   ]
  },
  {
   "attachments": {},
   "cell_type": "markdown",
   "metadata": {},
   "source": [
    "### Understanding the AUC\n",
    "\n",
    "The AUC of a classifier is equal to the probability that the classifier will rank a randomly chosen positive example higher than a randomly chosen negative example:\n",
    "\n",
    "$$ P\\Big(\\text{score}(x^+) > \\text{score}(x^-)\\Big) $$"
   ]
  },
  {
   "cell_type": "code",
   "execution_count": null,
   "metadata": {},
   "outputs": [],
   "source": [
    "vYRoc = np.array(['P', 'P', 'N', 'P', 'P' , 'P' , 'N' , 'N' , 'P' , 'N' , 'P' , 'N' , 'P' , 'N' , 'N' , 'N' , 'P' , 'N' , 'P' , 'N'])\n",
    "vSRoc = np.array([0.9, 0.8, 0.9, 0.6, 0.55, 0.51, 0.49, 0.43, 0.22, 0.39, 0.13, 0.31, 0.23, 0.22, 0.19, 0.15, 0.12, 0.11, 0.04, 0.01]) #<! Score values (Probability for Class 1)\n",
    "\n",
    "vYRoc = np.where(vYRoc == 'P', 1, 0) #<! Labels\n"
   ]
  },
  {
   "cell_type": "code",
   "execution_count": null,
   "metadata": {},
   "outputs": [],
   "source": [
    "vFPRoc, vTPRoc, vThrRoc = roc_curve(vYRoc, vSRoc, pos_label = 1)\n",
    "aucRoc                  = auc(vFPRoc, vTPRoc)\n",
    "print(f'AUC = {aucRoc}')"
   ]
  },
  {
   "cell_type": "code",
   "execution_count": null,
   "metadata": {},
   "outputs": [],
   "source": [
    "plt.figure(figsize = (8, 8))\n",
    "\n",
    "plt.plot(vFPRoc, vTPRoc, color = 'b', lw = 2, label = f'ROC Curve, AUC = {aucRoc:.3f}')\n",
    "plt.plot([0, 1], [0, 1], color = 'k', lw = 2, linestyle = '--')\n",
    "plt.xlabel('False Positive Rate')\n",
    "plt.ylabel('True Positive Rate')\n",
    "plt.title('ROC')\n",
    "plt.grid()\n",
    "plt.legend()\n",
    "\n",
    "plt.show()\n"
   ]
  },
  {
   "cell_type": "code",
   "execution_count": null,
   "metadata": {},
   "outputs": [],
   "source": [
    "vIdx0Roc = vYRoc == 0\n",
    "vIdx1Roc = vYRoc == 1\n",
    "\n",
    "# Empirical AUC\n",
    "empAuc = np.mean(np.random.choice(vSRoc[vIdx1Roc], 1000) > np.random.choice(vSRoc[vIdx0Roc], 1000))\n",
    "print(f'Empirical AUC: {empAuc}')"
   ]
  },
  {
   "cell_type": "code",
   "execution_count": null,
   "metadata": {},
   "outputs": [],
   "source": [
    "vYEstRoc = vSRoc > 0.5\n",
    "vYEstRoc = vYEstRoc.astype(np.int32)"
   ]
  },
  {
   "cell_type": "code",
   "execution_count": null,
   "metadata": {},
   "outputs": [],
   "source": [
    "# Balanced Accuracy: Mean of TPR (Recall / Sensitivity) and TNR (Specificity)\n",
    "precisionRoc, recallRoc, f1Roc, _   = precision_recall_fscore_support(vYRoc, vYEstRoc, pos_label = 1, average = 'binary')\n",
    "tnRoc, fpRoc, fnRoc, tpRoc          = confusion_matrix(vYRoc, vYEstRoc).ravel() #<! Another way to access all measures\n",
    "specificityRoc = tnRoc / (tnRoc + fpRoc)\n",
    "0.5 * (recallRoc + specificityRoc)"
   ]
  },
  {
   "cell_type": "code",
   "execution_count": null,
   "metadata": {},
   "outputs": [],
   "source": [
    "# The AUC and Accuracy are not equivalent!\n",
    "empAccu = np.mean(vYEstRoc == vYRoc)\n",
    "print(f'Empirical Accuracy: {empAccu}')"
   ]
  }
 ],
 "metadata": {
  "kernelspec": {
   "display_name": "Python 3",
   "language": "python",
   "name": "python3"
  },
  "language_info": {
   "codemirror_mode": {
    "name": "ipython",
    "version": 3
   },
   "file_extension": ".py",
   "mimetype": "text/x-python",
   "name": "python",
   "nbconvert_exporter": "python",
   "pygments_lexer": "ipython3",
   "version": "3.10.9"
  },
  "toc": {
   "base_numbering": 1,
   "nav_menu": {},
   "number_sections": false,
   "sideBar": true,
   "skip_h1_title": false,
   "title_cell": "Table of Contents",
   "title_sidebar": "Contents",
   "toc_cell": false,
   "toc_position": {},
   "toc_section_display": true,
   "toc_window_display": true
  },
  "varInspector": {
   "cols": {
    "lenName": 16,
    "lenType": 16,
    "lenVar": 40
   },
   "kernels_config": {
    "python": {
     "delete_cmd_postfix": "",
     "delete_cmd_prefix": "del ",
     "library": "var_list.py",
     "varRefreshCmd": "print(var_dic_list())"
    },
    "r": {
     "delete_cmd_postfix": ") ",
     "delete_cmd_prefix": "rm(",
     "library": "var_list.r",
     "varRefreshCmd": "cat(var_dic_list()) "
    }
   },
   "types_to_exclude": [
    "module",
    "function",
    "builtin_function_or_method",
    "instance",
    "_Feature"
   ],
   "window_display": false
  },
  "vscode": {
   "interpreter": {
    "hash": "39577bab1f263e62e0b74f5b8086bd735049bf4751f6562b2d4b2969dc308293"
   }
  }
 },
 "nbformat": 4,
 "nbformat_minor": 4
}
